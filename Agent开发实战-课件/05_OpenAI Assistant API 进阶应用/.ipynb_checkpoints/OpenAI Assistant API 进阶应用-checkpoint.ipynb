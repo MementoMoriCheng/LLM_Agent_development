{
 "cells": [
  {
   "cell_type": "markdown",
   "id": "971af8a4-2b4f-460e-8f6a-778ca27c4fba",
   "metadata": {},
   "source": [
    "# <center>大模型 AI Agent 开发实战"
   ]
  },
  {
   "cell_type": "markdown",
   "id": "e647ffd5-3e06-40a9-9766-a07772368c31",
   "metadata": {
    "tags": []
   },
   "source": [
    "## <center>Ch.5 OpenAI Assistant API 进阶应用"
   ]
  },
  {
   "cell_type": "markdown",
   "id": "c672225e-2a25-4edd-865f-322b23c77493",
   "metadata": {},
   "source": [
    "&emsp;&emsp;本节课程我们继续展开`OpenAI Assistant API`接口的介绍和高阶应用的实战。"
   ]
  },
  {
   "cell_type": "markdown",
   "id": "41de0662-806c-42f3-afa5-1a855713e85c",
   "metadata": {},
   "source": [
    "&emsp;&emsp;通过《Ch.4 OpenAI Assistant API 基本理论与入门实战》的详细解析，我们重点关注的是`Assistant API`的整体架构设计。而经过剖析其构建对话/代理的完整生命周期，相信大家对`Assistant`、`Thread`、`Messages`和`Run`这四个抽象概念之间的关联有了更加清晰的认知。上节课中我们实践的内容，是最基本的`Assistant API`的一种应用形态。而根据`OpenAI`官方对`Assistant API`的定位，作为人工智能助手/代理的开发框架，自然其所能实现的功能远远不止于此。\n",
    "\n",
    "&emsp;&emsp;经过我们的长期使用和探索，`Assistant API`的定位目前虽然还是`beta`（测试）阶段，但其底层的设计和展现出来的效果，相较于市面上大部分的`AI Agent`框架要强很多。而其核心的功能，集中在**外部工具的应用和流式功能**两个方面。同时这两部分内容才是工程化项目开发中会实际应用到的技术。当然，这也是我们在接下来的课程中要重点和大家进行探讨和学习的。"
   ]
  },
  {
   "cell_type": "markdown",
   "id": "d11eb7ab-5fa9-4747-9376-0c9549f01b37",
   "metadata": {},
   "source": [
    "&emsp;&emsp;首先，在使用`Assistant API`创建对话或者代理时，除了基本的身份、任务目标等信息设定，还可以为`Assistant`对象配备工具，这个功能其实也就是我们之前实践的`Function Calling`功能，它的目的是使构建的对话和代理可以执行更复杂的任务。在这方面，`Assistant API`的设计包括以下两个方面：\n",
    "1. **内置热门工具。由`OpenAI`团队实现，通过接口的方式直接提供给用户，方便快速集成。**\n",
    "2. **构建自定义外部函数流程和开发接口，允许用户通过函数调用扩展自身工具的功能。**"
   ]
  },
  {
   "cell_type": "markdown",
   "id": "522443c2-3bd1-4405-8860-7479e86a3a17",
   "metadata": {},
   "source": [
    "&emsp;&emsp;目前，`Assistants API` 支持的内置工具只有两个，分别是`File Search`和`Code Interpreter`。其提供的自定义外部函数接口，则是与`Chat Completions API`中基本保持一直的`Function Calling` ，`OpenAI`官方的具体说明如下："
   ]
  },
  {
   "cell_type": "markdown",
   "id": "1f54f0fb-c3ad-4906-8c02-95b546b41a61",
   "metadata": {},
   "source": [
    "> Assistants API Overview：https://platform.openai.com/docs/assistants/overview"
   ]
  },
  {
   "cell_type": "markdown",
   "id": "dfe4ca22-12e1-4425-a244-b07dd138d7f7",
   "metadata": {},
   "source": [
    "<div align=center><img src=\"https://muyu001.oss-cn-beijing.aliyuncs.com/img/image-20240927103519246.png\" width=100%></div>"
   ]
  },
  {
   "cell_type": "markdown",
   "id": "aaefea15-e43e-4ebf-8771-24faa2cb24b4",
   "metadata": {},
   "source": [
    "&emsp;&emsp;接下来，我们就依次对`Assistant API`框架中的`File Search`、`Code Interpreter`和`Function calling`展开详细的介绍和实践。而流式功能，将作为下一节课的重点单独进行说明。"
   ]
  },
  {
   "cell_type": "markdown",
   "id": "6ad77ce2-9e6d-44bc-9be6-83a5627176b3",
   "metadata": {},
   "source": [
    "> "
   ]
  },
  {
   "cell_type": "markdown",
   "id": "15ab40d0-9505-465c-adfe-8b919d748ef9",
   "metadata": {},
   "source": [
    "# 1. Assistant API 的 File Search"
   ]
  },
  {
   "cell_type": "markdown",
   "id": "ff17552d-7ceb-4c92-90d5-65ff81b1b09b",
   "metadata": {},
   "source": [
    "&emsp;&emsp;首先来看`File Search`。在`Assistant API`中，`File Search` 被定义为一个内置的工具，`OpenAI`官方对此工具的功能描述是：**文件搜索通过来自其模型之外的知识来增强助手，例如专有产品信息或用户提供的文档。**根据这样的描述，相信很多了解过 `RAG` 技术的小伙伴会比较容易理解，`File Search` 工具实际上就是在 `Assistant API` 中实现了一整套完整的 `RAG` 工作流程。其基本构建思路如图所示：👇"
   ]
  },
  {
   "cell_type": "markdown",
   "id": "0d79c9f9-226e-482c-b4be-54f39c8a692e",
   "metadata": {},
   "source": [
    "> File Search：https://platform.openai.com/docs/assistants/tools/file-search"
   ]
  },
  {
   "cell_type": "markdown",
   "id": "fac51dac-f12a-4bf5-a9c7-23df9fb5ff3c",
   "metadata": {},
   "source": [
    "<div align=center><img src=\"https://snowball101.oss-cn-beijing.aliyuncs.com/img/202404101838975.png\" width=100%></div>"
   ]
  },
  {
   "cell_type": "markdown",
   "id": "8ad24efa-9b4c-4355-95aa-8ad958f6ecb0",
   "metadata": {},
   "source": [
    "&emsp;&emsp;`RAG`工作流程主要包括三个阶段的工作：\n",
    "- **索引（Indexing）**\n",
    "索引过程是离线执行的关键初始步骤。首先清理和提取原始数据，将 PDF、HTML 和 Word 等各种文件格式转换为标准化纯文本。**为了适应语言模型的上下文约束，这些文本被分为更小且更易于管理的块，这个过程称为分块**。然后使用嵌入模型将这些块转换为向量表示。最后，创建一个索引来将这些文本块及其向量嵌入存储为键值对，从而实现高效且可扩展的搜索功能。\n",
    "- **检索（Retrieval）**\n",
    "用户查询用于从外部知识源检索相关上下文。为了实现这一点，用户查询由编码模型处理，该模型生成语义相关的嵌入。然后，**对向量数据库进行相似性搜索，以检索前k个最接近的数据对象。**\n",
    "- **生成（Generation）**\n",
    "**将用户查询和检索到的附加上下文填充到提示模板中**。最后，将检索步骤中的增强提示输入到LLM中。"
   ]
  },
  {
   "cell_type": "markdown",
   "id": "9e1c4ffb-f495-42c0-ab99-51ab186e254c",
   "metadata": {},
   "source": [
    "> 关于 `RAG` 技术的基础知识，大家可以学习我们课程的内容：《大模型RAG技术企业项目实战》 Week 2-1 的内容。"
   ]
  },
  {
   "cell_type": "markdown",
   "id": "8a23d21f-66bc-4792-b702-043753153cfb",
   "metadata": {},
   "source": [
    "&emsp;&emsp;实践过 `RAG` 技术的小伙伴一定都比较清楚，`RAG`整个处理流程相对复杂，而每个阶段的处理策略都会直接影响最终效果。基本上，**没有一种通用流程适用于所有数据和场景。**然而，对于 `Assistant API` 中内置的 `File Search` 工具，经过我们长期的使用和测试，我们发现它不仅能够处理多种类型的数据，还能在不同数据形态下表现出色。这让人不得不佩服 `OpenAI` 技术团队的强大。\n",
    "\n",
    "&emsp;&emsp;那么其提供的`File Search` 工具都能做什么，以及我们应该怎么使用呢？其实`OpenAI`以提供现成接口的方法把这件事情变得非常简单了。"
   ]
  },
  {
   "cell_type": "markdown",
   "id": "3e4d99dd-b6de-44c4-b516-79f78724acb9",
   "metadata": {},
   "source": [
    "&emsp;&emsp;`File Search`工具最大的优势在于：**它可以自动解析和分块上传的文档，创建和存储嵌入，并使用向量和关键字搜索来检索相关内容以回答用户查询。**可以说，`Assistant API`的`File Search`工具实现了多种开箱即用的检索最佳实践策略，可帮助我们从文件中提取正确的数据并增强模型的响应，其主要做的优化如下：（因为其闭源性，更加详细的技术细节我们并无法知晓）\n",
    "- 重写用户查询以优化搜索。\n",
    "- 将复杂的用户查询分解为可以并行运行的多个搜索。\n",
    "- 在助手和线程向量存储中运行关键字和语义搜索。\n",
    "- 在生成最终响应之前对搜索结果重新排序以选择最相关的结果。"
   ]
  },
  {
   "cell_type": "markdown",
   "id": "0483ffeb-3abd-43c8-af50-b42d5538659b",
   "metadata": {},
   "source": [
    "&emsp;&emsp;此外，`Assistant API` 的`File Search` 工具还**提供了一定的个性化设置，例如在处理索引（Indexing）的过程时，我们可以自定义 `chunk_size `、`chunk_overlap` 等参数**。由于整个流程已由 `Assistant API` 内部实现，使用起来变得相对简单。同时，`OpenAI` 还提供了**在线云存储服务，分别用于知识库文件的云存储和在线的向量数据库服务。**正如上图所示的`RAG`流程图， 当在大模型交互功能中，如果接入`RAG`流程， `Indexing` 过程通常是要最先处理的，也就是要先将私有数据全部存放到向量数据库中。`在 OpenAI` 的设计下，因为其提供了文件和向量数据库的云存储服务。因此，在构造`Indexing`时，我们只需先将私有数据文件上传`到 OpenAI` 的云服务器，然后按照 `Assistant API` 提供的接口将这些数据存储到向量数据库中，即可非常便捷和高效的完成复杂的私有知识库处理流程。"
   ]
  },
  {
   "cell_type": "markdown",
   "id": "7361892b-6550-4829-a1f9-1df1559a8133",
   "metadata": {},
   "source": [
    "&emsp;&emsp;接下来，我们就按照上述逻辑，实际的操作一下如何使用`File Seach`工具来实现高质量的私有知识库问答场景。"
   ]
  },
  {
   "cell_type": "markdown",
   "id": "f258d0fd-af11-4f09-8155-8fec9a611135",
   "metadata": {},
   "source": [
    "- **Stage 1. 上传本地文件至`OpenAI`服务器**"
   ]
  },
  {
   "cell_type": "markdown",
   "id": "702fddce-0775-4bb2-968b-3cf99bf1b476",
   "metadata": {},
   "source": [
    "&emsp;&emsp;`File Search` 工具的本质是基于私有数据进行问答，因此第一步是准备用于大模型对话的本地数据。不过，需要注意的是，如果希望 `File Search` 工具处理这些私有数据，必须先将其上传至 `OpenAI` 的云服务器，本地文件是无法直接操作的。因此，**对于关注数据隐私的用户，需要仔细权衡是否上传，目前尚无其他可替代的方法。**"
   ]
  },
  {
   "cell_type": "markdown",
   "id": "405d0a58-b110-4315-8f13-2f31022b8bdd",
   "metadata": {},
   "source": [
    "&emsp;&emsp;`Assistant API` 最多支持 200 万个`Token`和特定文件类型的文件，包含的文件类型如下："
   ]
  },
  {
   "cell_type": "markdown",
   "id": "51e0df09-2c5a-4ea0-9d0a-e0bf985ec1ac",
   "metadata": {},
   "source": [
    "| 扩展名 | MIME 类型                                                        |\r\n",
    "|--------|------------------------------------------------------------------|\r\n",
    "| .c     | text/x-c                                                         |\r\n",
    "| .cpp   | text/x-c++                                                       |\r\n",
    "| .cs    | text/x-csharp                                                    |\r\n",
    "| .css   | text/css                                                         |\r\n",
    "| .doc   | application/msword                                               |\r\n",
    "| .docx  | application/vnd.openxmlformats-officedocument.wordprocessingml.document |\r\n",
    "| .go    | text/x-golang                                                   |\r\n",
    "| .html  | text/html                                                        |\r\n",
    "| .java  | text/x-java                                                     |\r\n",
    "| .js    | text/javascript                                                 |\r\n",
    "| .json  | application/json                                                 |\r\n",
    "| .md    | text/markdown                                                   |\r\n",
    "| .pdf   | application/pdf                                                  |\r\n",
    "| .php   | text/x-php                                                      |\r\n",
    "| .pptx  | application/vnd.openxmlformats-officedocument.presentationml.presentation |\r\n",
    "| .py    | text/x-python                                                   |\r\n",
    "| .rb    | text/x-ruby                                                     |\r\n",
    "| .sh    | application/x-sh                                                |\r\n",
    "| .tex   | text/x-tex                                                      |\r\n",
    "| .ts    | application/typescript                                           |\r\n",
    "| .txt   | text/plain                                                       |\r\n"
   ]
  },
  {
   "cell_type": "markdown",
   "id": "72d8813c-4762-43f8-aa0d-f148922a8942",
   "metadata": {},
   "source": [
    "> Files：https://platform.openai.com/docs/api-reference/files"
   ]
  },
  {
   "cell_type": "markdown",
   "id": "eec6c8f8-c4a8-4a49-8dfe-411ff54dcfe1",
   "metadata": {},
   "source": [
    "&emsp;&emsp;`OpenAI` 早在2023年开放在线微调服务时就提供了文件传输的接口，这个接口现在可直接用于 `Assistant` 的 `File Search` 服务。具体来说，将本地的文件上传至`OpenAI`的云服务器环境，可以通过`files.create()`方法来实现，需要传递的参数如下："
   ]
  },
  {
   "cell_type": "markdown",
   "id": "373ca6b4-33e6-479c-a59d-c7714d554da2",
   "metadata": {},
   "source": [
    "| 参数名   | 类型    | 可选性   | 默认值 | 描述                                                                                           |\r\n",
    "|----------|---------|----------|--------|------------------------------------------------------------------------------------------------|\r\n",
    "| file     | file    | 必需     | -      | 要上传的文件对象（不是文件名）。                                                              |\r\n",
    "| purpose  | string  | 必需     | -      | 上传文件的预期用途。使用 \"assistants\" 表示助手和消息文件，\"vision\" 表示助手的图像文件输入，\"batch\" 表示批量 API，\"fine-tune\" 表示微调 |\r\n"
   ]
  },
  {
   "cell_type": "markdown",
   "id": "680e6d98-ccac-4d80-acf9-692d1064e823",
   "metadata": {},
   "source": [
    "- **文件上传**"
   ]
  },
  {
   "cell_type": "markdown",
   "id": "4b5ce440-758d-49af-a383-71ecc177324e",
   "metadata": {},
   "source": [
    "&emsp;&emsp;**在上传文件时需要注意：该方法目前可支持上传的单个文件最大可达 512 MB，一个组织上传的所有文件最大可达 100 GB。**上传单个文件的方式如下："
   ]
  },
  {
   "cell_type": "markdown",
   "id": "45358444-7e21-4058-a3f7-45b82f1c94d2",
   "metadata": {},
   "source": [
    "> Upload file：https://platform.openai.com/docs/api-reference/files/create"
   ]
  },
  {
   "cell_type": "code",
   "execution_count": 9,
   "id": "67c97335-873c-482e-9c32-c850ef4c35eb",
   "metadata": {},
   "outputs": [],
   "source": [
    "from openai import OpenAI\n",
    "client = OpenAI()"
   ]
  },
  {
   "cell_type": "code",
   "execution_count": 5,
   "id": "1cd86af2-ad8c-4c4d-88c9-59ace1e7f0cd",
   "metadata": {},
   "outputs": [],
   "source": [
    "new_file = client.files.create(\n",
    "  file=open(\"./data/01_LLMs/01_大模型应用发展及Agent前沿技术趋势.pdf\", \"rb\"),\n",
    "  purpose=\"assistants\"\n",
    ")"
   ]
  },
  {
   "cell_type": "markdown",
   "id": "637a6053-6e2f-4055-b966-20c5f88aa9b0",
   "metadata": {},
   "source": [
    "&emsp;&emsp;在这段代码中，通过调用 `client.files.create` 方法将`01_大模型应用发展及Agent前沿技术趋势.pdf`文件上传到 `OpenAI` 的云服务器，其中`file` 参数指定了要上传的本地文件路径和模式（以二进制读取模式打开 PDF 文件）。`purpose` 参数设置为 `\"assistants\"`，表示这个文件被用于 `Assistant API`，这个参数很关键，一定要进行明确指定。"
   ]
  },
  {
   "cell_type": "code",
   "execution_count": 7,
   "id": "a955588b-ff5c-4676-8277-d2fd90cf0574",
   "metadata": {},
   "outputs": [
    {
     "data": {
      "text/plain": [
       "{'id': 'file-OdySxtvdUFHhEM7zrDNzxrwS',\n",
       " 'bytes': 8808043,\n",
       " 'created_at': 1727406365,\n",
       " 'filename': '01_大模型应用发展及Agent前沿技术趋势.pdf',\n",
       " 'object': 'file',\n",
       " 'purpose': 'assistants',\n",
       " 'status': 'processed',\n",
       " 'status_details': None}"
      ]
     },
     "execution_count": 7,
     "metadata": {},
     "output_type": "execute_result"
    }
   ],
   "source": [
    "new_file.to_dict()"
   ]
  },
  {
   "cell_type": "markdown",
   "id": "6ee56901-6106-40d3-a60c-7ac64e84b1df",
   "metadata": {},
   "source": [
    "&emsp;&emsp;每个文件都会生成一个唯一的`file id`，用于在其他流程中管理和标识各个独立的文件对象。而要上传多个文件，一种最简单的方式就是使用一个循环来依次上传每个文件。代码如下所示："
   ]
  },
  {
   "cell_type": "code",
   "execution_count": 11,
   "id": "fe186d99-54e8-455c-a203-018e4a032e98",
   "metadata": {},
   "outputs": [
    {
     "name": "stdout",
     "output_type": "stream",
     "text": [
      "FileObject(id='file-xzF4PlFUcFjYUP5jigQv1s4r', bytes=8137316, created_at=1727406441, filename='AI Agent开发入门.pdf', object='file', purpose='assistants', status='processed', status_details=None)\n",
      "FileObject(id='file-Kx2k2Pf8biFIjZ48ZaaAcTTv', bytes=6680776, created_at=1727406442, filename='ChatGLM3-6B零基础部署与使用指南.pdf', object='file', purpose='assistants', status='processed', status_details=None)\n",
      "FileObject(id='file-qd9jnQQE7v4qJ48fQ8dhgoy0', bytes=21089141, created_at=1727406446, filename='ChatGLM3模型介绍.pdf', object='file', purpose='assistants', status='processed', status_details=None)\n"
     ]
    }
   ],
   "source": [
    "# 准备上传文件\n",
    "file_paths = [\n",
    "    \"./data/01_LLMs/AI Agent开发入门.pdf\",\n",
    "    \"./data/01_LLMs/ChatGLM3-6B零基础部署与使用指南.pdf\",\n",
    "    \"./data/01_LLMs/ChatGLM3模型介绍.pdf\"\n",
    "]\n",
    "\n",
    "# 遍历文件路径并上传文件\n",
    "uploaded_files = []\n",
    "for path in file_paths:\n",
    "    with open(path, \"rb\") as file:\n",
    "        new_file = client.files.create(\n",
    "            file=file,\n",
    "            purpose=\"assistants\"\n",
    "        )\n",
    "        uploaded_files.append(new_file)\n",
    "\n",
    "# 打印上传结果\n",
    "for uploaded_file in uploaded_files:\n",
    "    print(uploaded_file)"
   ]
  },
  {
   "cell_type": "markdown",
   "id": "e3f989b5-28ed-4781-b9ce-8e286af520f7",
   "metadata": {},
   "source": [
    "- **文件查询**"
   ]
  },
  {
   "cell_type": "markdown",
   "id": "97994726-f84f-4f38-8624-7d0fcba58ecd",
   "metadata": {},
   "source": [
    "&emsp;&emsp;除此之外，我们可以直接使用`OpenAI`提供的接口来对文件执行`增删改查`操作。首先，使用`files.list()`方法能够查看当前所使用的`Client`示例下所有上传至`OpenAI`云服务器的文件详细信息。"
   ]
  },
  {
   "cell_type": "code",
   "execution_count": 14,
   "id": "6c2bdeff-2c74-4099-8da6-80cb5eb2c5fa",
   "metadata": {},
   "outputs": [
    {
     "data": {
      "text/plain": [
       "SyncPage[FileObject](data=[FileObject(id='file-qd9jnQQE7v4qJ48fQ8dhgoy0', bytes=21089141, created_at=1727406446, filename='ChatGLM3模型介绍.pdf', object='file', purpose='assistants', status='processed', status_details=None), FileObject(id='file-Kx2k2Pf8biFIjZ48ZaaAcTTv', bytes=6680776, created_at=1727406442, filename='ChatGLM3-6B零基础部署与使用指南.pdf', object='file', purpose='assistants', status='processed', status_details=None), FileObject(id='file-xzF4PlFUcFjYUP5jigQv1s4r', bytes=8137316, created_at=1727406441, filename='AI Agent开发入门.pdf', object='file', purpose='assistants', status='processed', status_details=None), FileObject(id='file-9hkFbPwsbnzltkh6oLdn7pjg', bytes=6680776, created_at=1727406421, filename='ChatGLM3-6B零基础部署与使用指南.pdf', object='file', purpose='assistants', status='processed', status_details=None), FileObject(id='file-FnYQNH15tSho87YotsmigYFi', bytes=8137316, created_at=1727406419, filename='AI Agent开发入门.pdf', object='file', purpose='assistants', status='processed', status_details=None), FileObject(id='file-OdySxtvdUFHhEM7zrDNzxrwS', bytes=8808043, created_at=1727406365, filename='01_大模型应用发展及Agent前沿技术趋势.pdf', object='file', purpose='assistants', status='processed', status_details=None), FileObject(id='file-ro6JEXv6P9b5rp97A9smrOpL', bytes=355, created_at=1727343235, filename='/mnt/data/sorted_cities_by_temperature.csv', object='file', purpose='assistants_output', status='processed', status_details=None), FileObject(id='file-CWkAbmExAbkr1qSJ4FGSoH6W', bytes=2664, created_at=1727343213, filename='weather_data_complex.csv', object='file', purpose='assistants', status='processed', status_details=None), FileObject(id='file-kl4zWwwAfdVHBtWatIBl6LYi', bytes=1970979, created_at=1727342822, filename='b7c5de5b-7438-4cba-87e7-76350346310b', object='file', purpose='assistants_output', status='processed', status_details=None), FileObject(id='file-aqLva69G9BuDQIuUTckz6bxk', bytes=2664, created_at=1727342292, filename='weather_data_complex.csv', object='file', purpose='assistants', status='processed', status_details=None), FileObject(id='file-2zEAXzz8NSry24ZthHgfnCeF', bytes=2117820, created_at=1727339287, filename='02_AI Agent应用类型及Function Calling开发实战.pdf', object='file', purpose='assistants', status='processed', status_details=None), FileObject(id='file-cct6euj7OEk4WpMpasZUZ0LC', bytes=15377335, created_at=1727329718, filename='手把手搭建一个GPTs.pdf', object='file', purpose='assistants', status='processed', status_details=None), FileObject(id='file-7WmUELiFIV6uUwLaMD9D8c39', bytes=6680776, created_at=1727329713, filename='ChatGLM3-6B零基础部署与使用指南.pdf', object='file', purpose='assistants', status='processed', status_details=None), FileObject(id='file-npyJxWrX6OUavSSSlF3MCVnm', bytes=8137316, created_at=1727329710, filename='AI Agent开发入门.pdf', object='file', purpose='assistants', status='processed', status_details=None), FileObject(id='file-FbNTHBNAjifCFaMD7PZbOLmE', bytes=8808043, created_at=1727329695, filename='01_大模型应用发展及Agent前沿技术趋势.pdf', object='file', purpose='assistants', status='processed', status_details=None)], object='list', has_more=False, first_id='file-qd9jnQQE7v4qJ48fQ8dhgoy0', last_id='file-FbNTHBNAjifCFaMD7PZbOLmE')"
      ]
     },
     "execution_count": 14,
     "metadata": {},
     "output_type": "execute_result"
    }
   ],
   "source": [
    "all_file = client.files.list()\n",
    "\n",
    "all_file"
   ]
  },
  {
   "cell_type": "code",
   "execution_count": 16,
   "id": "32bbb465-da6e-4617-beb2-0c7ee14b7806",
   "metadata": {},
   "outputs": [
    {
     "data": {
      "text/plain": [
       "{'data': [{'id': 'file-qd9jnQQE7v4qJ48fQ8dhgoy0',\n",
       "   'bytes': 21089141,\n",
       "   'created_at': 1727406446,\n",
       "   'filename': 'ChatGLM3模型介绍.pdf',\n",
       "   'object': 'file',\n",
       "   'purpose': 'assistants',\n",
       "   'status': 'processed',\n",
       "   'status_details': None},\n",
       "  {'id': 'file-Kx2k2Pf8biFIjZ48ZaaAcTTv',\n",
       "   'bytes': 6680776,\n",
       "   'created_at': 1727406442,\n",
       "   'filename': 'ChatGLM3-6B零基础部署与使用指南.pdf',\n",
       "   'object': 'file',\n",
       "   'purpose': 'assistants',\n",
       "   'status': 'processed',\n",
       "   'status_details': None},\n",
       "  {'id': 'file-xzF4PlFUcFjYUP5jigQv1s4r',\n",
       "   'bytes': 8137316,\n",
       "   'created_at': 1727406441,\n",
       "   'filename': 'AI Agent开发入门.pdf',\n",
       "   'object': 'file',\n",
       "   'purpose': 'assistants',\n",
       "   'status': 'processed',\n",
       "   'status_details': None},\n",
       "  {'id': 'file-9hkFbPwsbnzltkh6oLdn7pjg',\n",
       "   'bytes': 6680776,\n",
       "   'created_at': 1727406421,\n",
       "   'filename': 'ChatGLM3-6B零基础部署与使用指南.pdf',\n",
       "   'object': 'file',\n",
       "   'purpose': 'assistants',\n",
       "   'status': 'processed',\n",
       "   'status_details': None},\n",
       "  {'id': 'file-FnYQNH15tSho87YotsmigYFi',\n",
       "   'bytes': 8137316,\n",
       "   'created_at': 1727406419,\n",
       "   'filename': 'AI Agent开发入门.pdf',\n",
       "   'object': 'file',\n",
       "   'purpose': 'assistants',\n",
       "   'status': 'processed',\n",
       "   'status_details': None},\n",
       "  {'id': 'file-OdySxtvdUFHhEM7zrDNzxrwS',\n",
       "   'bytes': 8808043,\n",
       "   'created_at': 1727406365,\n",
       "   'filename': '01_大模型应用发展及Agent前沿技术趋势.pdf',\n",
       "   'object': 'file',\n",
       "   'purpose': 'assistants',\n",
       "   'status': 'processed',\n",
       "   'status_details': None},\n",
       "  {'id': 'file-ro6JEXv6P9b5rp97A9smrOpL',\n",
       "   'bytes': 355,\n",
       "   'created_at': 1727343235,\n",
       "   'filename': '/mnt/data/sorted_cities_by_temperature.csv',\n",
       "   'object': 'file',\n",
       "   'purpose': 'assistants_output',\n",
       "   'status': 'processed',\n",
       "   'status_details': None},\n",
       "  {'id': 'file-CWkAbmExAbkr1qSJ4FGSoH6W',\n",
       "   'bytes': 2664,\n",
       "   'created_at': 1727343213,\n",
       "   'filename': 'weather_data_complex.csv',\n",
       "   'object': 'file',\n",
       "   'purpose': 'assistants',\n",
       "   'status': 'processed',\n",
       "   'status_details': None},\n",
       "  {'id': 'file-kl4zWwwAfdVHBtWatIBl6LYi',\n",
       "   'bytes': 1970979,\n",
       "   'created_at': 1727342822,\n",
       "   'filename': 'b7c5de5b-7438-4cba-87e7-76350346310b',\n",
       "   'object': 'file',\n",
       "   'purpose': 'assistants_output',\n",
       "   'status': 'processed',\n",
       "   'status_details': None},\n",
       "  {'id': 'file-aqLva69G9BuDQIuUTckz6bxk',\n",
       "   'bytes': 2664,\n",
       "   'created_at': 1727342292,\n",
       "   'filename': 'weather_data_complex.csv',\n",
       "   'object': 'file',\n",
       "   'purpose': 'assistants',\n",
       "   'status': 'processed',\n",
       "   'status_details': None},\n",
       "  {'id': 'file-2zEAXzz8NSry24ZthHgfnCeF',\n",
       "   'bytes': 2117820,\n",
       "   'created_at': 1727339287,\n",
       "   'filename': '02_AI Agent应用类型及Function Calling开发实战.pdf',\n",
       "   'object': 'file',\n",
       "   'purpose': 'assistants',\n",
       "   'status': 'processed',\n",
       "   'status_details': None},\n",
       "  {'id': 'file-cct6euj7OEk4WpMpasZUZ0LC',\n",
       "   'bytes': 15377335,\n",
       "   'created_at': 1727329718,\n",
       "   'filename': '手把手搭建一个GPTs.pdf',\n",
       "   'object': 'file',\n",
       "   'purpose': 'assistants',\n",
       "   'status': 'processed',\n",
       "   'status_details': None},\n",
       "  {'id': 'file-7WmUELiFIV6uUwLaMD9D8c39',\n",
       "   'bytes': 6680776,\n",
       "   'created_at': 1727329713,\n",
       "   'filename': 'ChatGLM3-6B零基础部署与使用指南.pdf',\n",
       "   'object': 'file',\n",
       "   'purpose': 'assistants',\n",
       "   'status': 'processed',\n",
       "   'status_details': None},\n",
       "  {'id': 'file-npyJxWrX6OUavSSSlF3MCVnm',\n",
       "   'bytes': 8137316,\n",
       "   'created_at': 1727329710,\n",
       "   'filename': 'AI Agent开发入门.pdf',\n",
       "   'object': 'file',\n",
       "   'purpose': 'assistants',\n",
       "   'status': 'processed',\n",
       "   'status_details': None},\n",
       "  {'id': 'file-FbNTHBNAjifCFaMD7PZbOLmE',\n",
       "   'bytes': 8808043,\n",
       "   'created_at': 1727329695,\n",
       "   'filename': '01_大模型应用发展及Agent前沿技术趋势.pdf',\n",
       "   'object': 'file',\n",
       "   'purpose': 'assistants',\n",
       "   'status': 'processed',\n",
       "   'status_details': None}],\n",
       " 'object': 'list',\n",
       " 'has_more': False,\n",
       " 'first_id': 'file-qd9jnQQE7v4qJ48fQ8dhgoy0',\n",
       " 'last_id': 'file-FbNTHBNAjifCFaMD7PZbOLmE'}"
      ]
     },
     "execution_count": 16,
     "metadata": {},
     "output_type": "execute_result"
    }
   ],
   "source": [
    "all_file.to_dict()"
   ]
  },
  {
   "cell_type": "code",
   "execution_count": 18,
   "id": "bf00463a-9c85-418f-99b2-dffe00b44cba",
   "metadata": {},
   "outputs": [
    {
     "data": {
      "text/plain": [
       "[FileObject(id='file-qd9jnQQE7v4qJ48fQ8dhgoy0', bytes=21089141, created_at=1727406446, filename='ChatGLM3模型介绍.pdf', object='file', purpose='assistants', status='processed', status_details=None),\n",
       " FileObject(id='file-Kx2k2Pf8biFIjZ48ZaaAcTTv', bytes=6680776, created_at=1727406442, filename='ChatGLM3-6B零基础部署与使用指南.pdf', object='file', purpose='assistants', status='processed', status_details=None),\n",
       " FileObject(id='file-xzF4PlFUcFjYUP5jigQv1s4r', bytes=8137316, created_at=1727406441, filename='AI Agent开发入门.pdf', object='file', purpose='assistants', status='processed', status_details=None),\n",
       " FileObject(id='file-9hkFbPwsbnzltkh6oLdn7pjg', bytes=6680776, created_at=1727406421, filename='ChatGLM3-6B零基础部署与使用指南.pdf', object='file', purpose='assistants', status='processed', status_details=None),\n",
       " FileObject(id='file-FnYQNH15tSho87YotsmigYFi', bytes=8137316, created_at=1727406419, filename='AI Agent开发入门.pdf', object='file', purpose='assistants', status='processed', status_details=None),\n",
       " FileObject(id='file-OdySxtvdUFHhEM7zrDNzxrwS', bytes=8808043, created_at=1727406365, filename='01_大模型应用发展及Agent前沿技术趋势.pdf', object='file', purpose='assistants', status='processed', status_details=None),\n",
       " FileObject(id='file-ro6JEXv6P9b5rp97A9smrOpL', bytes=355, created_at=1727343235, filename='/mnt/data/sorted_cities_by_temperature.csv', object='file', purpose='assistants_output', status='processed', status_details=None),\n",
       " FileObject(id='file-CWkAbmExAbkr1qSJ4FGSoH6W', bytes=2664, created_at=1727343213, filename='weather_data_complex.csv', object='file', purpose='assistants', status='processed', status_details=None),\n",
       " FileObject(id='file-kl4zWwwAfdVHBtWatIBl6LYi', bytes=1970979, created_at=1727342822, filename='b7c5de5b-7438-4cba-87e7-76350346310b', object='file', purpose='assistants_output', status='processed', status_details=None),\n",
       " FileObject(id='file-aqLva69G9BuDQIuUTckz6bxk', bytes=2664, created_at=1727342292, filename='weather_data_complex.csv', object='file', purpose='assistants', status='processed', status_details=None),\n",
       " FileObject(id='file-2zEAXzz8NSry24ZthHgfnCeF', bytes=2117820, created_at=1727339287, filename='02_AI Agent应用类型及Function Calling开发实战.pdf', object='file', purpose='assistants', status='processed', status_details=None),\n",
       " FileObject(id='file-cct6euj7OEk4WpMpasZUZ0LC', bytes=15377335, created_at=1727329718, filename='手把手搭建一个GPTs.pdf', object='file', purpose='assistants', status='processed', status_details=None),\n",
       " FileObject(id='file-7WmUELiFIV6uUwLaMD9D8c39', bytes=6680776, created_at=1727329713, filename='ChatGLM3-6B零基础部署与使用指南.pdf', object='file', purpose='assistants', status='processed', status_details=None),\n",
       " FileObject(id='file-npyJxWrX6OUavSSSlF3MCVnm', bytes=8137316, created_at=1727329710, filename='AI Agent开发入门.pdf', object='file', purpose='assistants', status='processed', status_details=None),\n",
       " FileObject(id='file-FbNTHBNAjifCFaMD7PZbOLmE', bytes=8808043, created_at=1727329695, filename='01_大模型应用发展及Agent前沿技术趋势.pdf', object='file', purpose='assistants', status='processed', status_details=None)]"
      ]
     },
     "execution_count": 18,
     "metadata": {},
     "output_type": "execute_result"
    }
   ],
   "source": [
    "all_file.data"
   ]
  },
  {
   "cell_type": "markdown",
   "id": "d9687890-f8f1-4e8d-9e99-74a70331a2af",
   "metadata": {},
   "source": [
    "&emsp;&emsp;遍历 `all_file.data` 中的所有文件，并打印每个文件的 ID 和文件名，即可匹配出具体的文件信息。代码如下："
   ]
  },
  {
   "cell_type": "code",
   "execution_count": 20,
   "id": "8a67e2f7-83d2-4d25-b9a2-38275d0bb511",
   "metadata": {},
   "outputs": [
    {
     "name": "stdout",
     "output_type": "stream",
     "text": [
      "file_id:file-qd9jnQQE7v4qJ48fQ8dhgoy0 - ChatGLM3模型介绍.pdf\n",
      "file_id:file-Kx2k2Pf8biFIjZ48ZaaAcTTv - ChatGLM3-6B零基础部署与使用指南.pdf\n",
      "file_id:file-xzF4PlFUcFjYUP5jigQv1s4r - AI Agent开发入门.pdf\n",
      "file_id:file-9hkFbPwsbnzltkh6oLdn7pjg - ChatGLM3-6B零基础部署与使用指南.pdf\n",
      "file_id:file-FnYQNH15tSho87YotsmigYFi - AI Agent开发入门.pdf\n",
      "file_id:file-OdySxtvdUFHhEM7zrDNzxrwS - 01_大模型应用发展及Agent前沿技术趋势.pdf\n",
      "file_id:file-ro6JEXv6P9b5rp97A9smrOpL - /mnt/data/sorted_cities_by_temperature.csv\n",
      "file_id:file-CWkAbmExAbkr1qSJ4FGSoH6W - weather_data_complex.csv\n",
      "file_id:file-kl4zWwwAfdVHBtWatIBl6LYi - b7c5de5b-7438-4cba-87e7-76350346310b\n",
      "file_id:file-aqLva69G9BuDQIuUTckz6bxk - weather_data_complex.csv\n",
      "file_id:file-2zEAXzz8NSry24ZthHgfnCeF - 02_AI Agent应用类型及Function Calling开发实战.pdf\n",
      "file_id:file-cct6euj7OEk4WpMpasZUZ0LC - 手把手搭建一个GPTs.pdf\n",
      "file_id:file-7WmUELiFIV6uUwLaMD9D8c39 - ChatGLM3-6B零基础部署与使用指南.pdf\n",
      "file_id:file-npyJxWrX6OUavSSSlF3MCVnm - AI Agent开发入门.pdf\n",
      "file_id:file-FbNTHBNAjifCFaMD7PZbOLmE - 01_大模型应用发展及Agent前沿技术趋势.pdf\n"
     ]
    }
   ],
   "source": [
    "for file_id in all_file.data:\n",
    "    print(f\"file_id:{file_id.id} - {file_id.filename}\")"
   ]
  },
  {
   "cell_type": "markdown",
   "id": "300740a5-56ac-4890-b57a-35af85f0e3fb",
   "metadata": {},
   "source": [
    "- **文件检索**"
   ]
  },
  {
   "cell_type": "markdown",
   "id": "9f4fb3f8-688f-4a7f-91c3-468cf05fd0e6",
   "metadata": {},
   "source": [
    "&emsp;&emsp;检索指定文件，可以通过`files.retrieve()`方法，传入指定的`file id` 即可查看文件详细信息，代码如下："
   ]
  },
  {
   "cell_type": "code",
   "execution_count": 22,
   "id": "cd9e3610-05e2-42fe-b40b-fa21f70c3305",
   "metadata": {},
   "outputs": [
    {
     "data": {
      "text/plain": [
       "'file-qd9jnQQE7v4qJ48fQ8dhgoy0'"
      ]
     },
     "execution_count": 22,
     "metadata": {},
     "output_type": "execute_result"
    }
   ],
   "source": [
    "new_file.id"
   ]
  },
  {
   "cell_type": "code",
   "execution_count": 24,
   "id": "f556fa36-3fde-4a80-95fc-7e0f4add84b5",
   "metadata": {},
   "outputs": [],
   "source": [
    "file_info = client.files.retrieve(\n",
    "    file_id=new_file.id\n",
    ")"
   ]
  },
  {
   "cell_type": "code",
   "execution_count": 26,
   "id": "e23e63fb-cf2a-4d6c-812b-93efae999008",
   "metadata": {},
   "outputs": [
    {
     "data": {
      "text/plain": [
       "{'id': 'file-qd9jnQQE7v4qJ48fQ8dhgoy0',\n",
       " 'bytes': 21089141,\n",
       " 'created_at': 1727406446,\n",
       " 'filename': 'ChatGLM3模型介绍.pdf',\n",
       " 'object': 'file',\n",
       " 'purpose': 'assistants',\n",
       " 'status': 'processed',\n",
       " 'status_details': None}"
      ]
     },
     "execution_count": 26,
     "metadata": {},
     "output_type": "execute_result"
    }
   ],
   "source": [
    "file_info.to_dict()"
   ]
  },
  {
   "cell_type": "markdown",
   "id": "286f66c3-c74b-4d72-b4ce-8d91095b47ad",
   "metadata": {},
   "source": [
    "- **文件删除**"
   ]
  },
  {
   "cell_type": "markdown",
   "id": "276beed8-9718-4a24-aa40-37e5758bd7b9",
   "metadata": {},
   "source": [
    "&emsp;&emsp;最后，我们可以通过`file id`删除已经上传至`OpenAI`服务器的文件，这可以通过`.files.delete()`方法实现。代码如下："
   ]
  },
  {
   "cell_type": "code",
   "execution_count": 28,
   "id": "67ec0cea-d8cd-431c-8d1f-9168e34827b1",
   "metadata": {},
   "outputs": [
    {
     "data": {
      "text/plain": [
       "FileDeleted(id='file-FbNTHBNAjifCFaMD7PZbOLmE', deleted=True, object='file')"
      ]
     },
     "execution_count": 28,
     "metadata": {},
     "output_type": "execute_result"
    }
   ],
   "source": [
    "client.files.delete(\"file-FbNTHBNAjifCFaMD7PZbOLmE\")"
   ]
  },
  {
   "cell_type": "markdown",
   "id": "e82cc03a-07c0-4bff-b169-450a8f0efb99",
   "metadata": {},
   "source": [
    "&emsp;&emsp;当返回的结果中包含`deleted=True`时，说明已成功删除了该文件。"
   ]
  },
  {
   "cell_type": "markdown",
   "id": "8961261d-2cbe-42e7-9e92-dc320c81bb16",
   "metadata": {},
   "source": [
    "&emsp;&emsp;文件管理接口的设计比较简洁，也很容易理解，无非是文件的增删等操作。而文件本身并没有太多的意义，但当我们通过接口将本地文件传输到`OpenAI`云服务器时，这个过程会对每一个文件生成一个唯一的`file id`。在使用`File Search`工具时，是通过`file id` 来标识文件，从而达到处理自定义文件数据的目的。"
   ]
  },
  {
   "cell_type": "markdown",
   "id": "b863f0d1-fbec-4770-b1d8-1132337009d3",
   "metadata": {},
   "source": [
    "- **Stage 2. 将自定义文件存储至向量数据库**"
   ]
  },
  {
   "cell_type": "markdown",
   "id": "c068751f-70b8-418d-872e-e181964453e4",
   "metadata": {},
   "source": [
    "&emsp;&emsp;**向量数据库，其解决的就是一个问题：更高效的实现搜索（Search）过程。**传统数据库是先存储数据表，然后用查询语句（SQL）进行数据搜索，本质还是基于文本的精确匹配，这种方法对于关键字的搜索非常合适，但对于语义的搜索就非常弱。那么把传统数据库的索引思想引用到向量数据库中，同样是做搜索，在向量数据库的应用场景中就变成了：给定一个查询向量，然后在众多向量中找到最为相似的一些向量返回。这就不再是精确匹配，而是具有一定的模糊性，这就是所谓的最近邻（Nearest Neighbors）问题，而能实现这一点的则称之为【最近邻（搜索）算法】。"
   ]
  },
  {
   "cell_type": "markdown",
   "id": "3d7284c5-2d41-4aca-9b04-d17a5f4e6c31",
   "metadata": {},
   "source": [
    "<div align=center><img src=\"https://snowball101.oss-cn-beijing.aliyuncs.com/img/202404181144131.png\" width=100%></div>"
   ]
  },
  {
   "cell_type": "markdown",
   "id": "98ef6426-f504-4876-b9c3-3c3056d140a7",
   "metadata": {},
   "source": [
    "> 这里以最近邻（搜索）算法举例，帮助没有基础的小伙伴快速理解，更多向量数据库及搜索算法介绍，请看上一期开源大模型精讲课程：《Ch 28 LangChain Retrieval核心模块的Embedding Models与Vector stores》"
   ]
  },
  {
   "cell_type": "markdown",
   "id": "8617d251-584a-4571-b79b-56e39a53589a",
   "metadata": {},
   "source": [
    "&emsp;&emsp;由此可见，**向量数据库的作用是可以使`File Search`工具能够搜索文件。**那么我们所需要做的第一件事就是：将上一步上传至`OpenAI`服务器的文件存储到向量数据库中。这涉及两个具体的操作步骤，其一是创建一个向量数据库，其二是将文件添加到刚创建的这个向量数据库中。而这一个过程，我们可以通过`.beta.vector_stores.create()`方法进行快速构建，其参数如下所示："
   ]
  },
  {
   "cell_type": "markdown",
   "id": "d3f06504-f2ec-430b-945e-a36954170b58",
   "metadata": {},
   "source": [
    "| 参数名             | 类型                | 可选性   | 默认值 | 描述                                                                                             |\n",
    "|--------------------|---------------------|----------|--------|--------------------------------------------------------------------------------------------------|\n",
    "| file_ids           | array               | 可选     | -      | 向量存储应使用的文件 ID 列表。对像 `file_search` 这样的工具非常有用，可以访问文件。              |\n",
    "| name               | string              | 可选     | -      | 向量存储的名称。                                                                                  |\n",
    "| expires_after      | object              | 可选     | -      | 向量存储的过期策略。                                                                             |\n",
    "| ├── anchor         | string              | 必需     | -      | 过期策略适用的锚时间戳。支持的锚点：last_active_at。                                          |\n",
    "| └── days           | integer             | 必需     | -      | 从锚时间开始，向量存储将在多少天后过期。                                                        |\n",
    "| chunking_strategy  | object              | 可选     | -      | 用于对文件进行分块的策略。如果未设置，将使用自动策略。仅在 `file_ids` 非空时适用。               |\n",
    "| ├── type           | string              | 必需     | -      | 始终为 auto（自动）或 static（静态）。                                                           |\n",
    "| └── static         | object              | 必需     | -      |                                                                                                   |\n",
    "|     ├── max_chunk_size_tokens | integer     | 必需     | 800    | 每个块的最大令牌数。最小值为 100，最大值为 4096。                                              |\n",
    "|     └── chunk_overlap_tokens   | integer     | 必需     | 400    | 块之间重叠的令牌数。重叠不得超过 max_chunk_size_tokens 的一半。                                |\n",
    "| metadata           | map                 | 可选     | -      | 可附加到对象的 16 个键值对集合，便于以结构化格式存储附加信息。键最多 64 个字符，值最多 512 个字符。 |"
   ]
  },
  {
   "cell_type": "markdown",
   "id": "b7a73fcd-7ada-48bc-a992-6435a5a66127",
   "metadata": {},
   "source": [
    "&emsp;&emsp;`file_ids` 是通过 `file id` 标识的具体文件，因此对于每个向量数据库，我们可以灵活选择存储和处理哪些文件。要确定具体的文件，首先需要明确每个文件的 `file id`。"
   ]
  },
  {
   "cell_type": "code",
   "execution_count": 30,
   "id": "334e644d-a36f-4005-93fd-9b475644086e",
   "metadata": {},
   "outputs": [],
   "source": [
    "all_file = client.files.list()"
   ]
  },
  {
   "cell_type": "code",
   "execution_count": 32,
   "id": "cf0aadb8-39e7-4593-8a13-e2d6b201e722",
   "metadata": {},
   "outputs": [
    {
     "name": "stdout",
     "output_type": "stream",
     "text": [
      "file_id:file-qd9jnQQE7v4qJ48fQ8dhgoy0 - ChatGLM3模型介绍.pdf\n",
      "file_id:file-Kx2k2Pf8biFIjZ48ZaaAcTTv - ChatGLM3-6B零基础部署与使用指南.pdf\n",
      "file_id:file-xzF4PlFUcFjYUP5jigQv1s4r - AI Agent开发入门.pdf\n",
      "file_id:file-9hkFbPwsbnzltkh6oLdn7pjg - ChatGLM3-6B零基础部署与使用指南.pdf\n",
      "file_id:file-FnYQNH15tSho87YotsmigYFi - AI Agent开发入门.pdf\n",
      "file_id:file-OdySxtvdUFHhEM7zrDNzxrwS - 01_大模型应用发展及Agent前沿技术趋势.pdf\n",
      "file_id:file-ro6JEXv6P9b5rp97A9smrOpL - /mnt/data/sorted_cities_by_temperature.csv\n",
      "file_id:file-CWkAbmExAbkr1qSJ4FGSoH6W - weather_data_complex.csv\n",
      "file_id:file-kl4zWwwAfdVHBtWatIBl6LYi - b7c5de5b-7438-4cba-87e7-76350346310b\n",
      "file_id:file-aqLva69G9BuDQIuUTckz6bxk - weather_data_complex.csv\n",
      "file_id:file-2zEAXzz8NSry24ZthHgfnCeF - 02_AI Agent应用类型及Function Calling开发实战.pdf\n",
      "file_id:file-cct6euj7OEk4WpMpasZUZ0LC - 手把手搭建一个GPTs.pdf\n",
      "file_id:file-7WmUELiFIV6uUwLaMD9D8c39 - ChatGLM3-6B零基础部署与使用指南.pdf\n",
      "file_id:file-npyJxWrX6OUavSSSlF3MCVnm - AI Agent开发入门.pdf\n"
     ]
    }
   ],
   "source": [
    "for file_id in all_file.data:\n",
    "    print(f\"file_id:{file_id.id} - {file_id.filename}\")"
   ]
  },
  {
   "cell_type": "markdown",
   "id": "ae75c9e9-c2cc-4e55-a6f4-2eeecf8a89eb",
   "metadata": {},
   "source": [
    "- **创建向量数据库**"
   ]
  },
  {
   "cell_type": "markdown",
   "id": "e2be6e3a-9f76-49df-ab9a-48a3a1cb8743",
   "metadata": {},
   "source": [
    "&emsp;&emsp;在`Assistant API`的设计下，**将文件添加向量数据库时会自动解析、分块、嵌入文件并将其存储**，所以默认的`chunking_strategy`字段中的`type`参数是`auto`，`max_chunk_size_tokens`是800，` chunk_overlap_tokens`是400。除此之外，每个向量数据库最多可容纳 10,000 个文件，同时对于收费情况：有 1 GB 的免费额度。超出后，使用费用为 0.10 美元/GB/天。如果采用默认的分块策略，代码如下所示："
   ]
  },
  {
   "cell_type": "code",
   "execution_count": 34,
   "id": "e1c461f8-6c0d-4610-a2d4-7de5840ecb19",
   "metadata": {},
   "outputs": [],
   "source": [
    "vector_store_1 = client.beta.vector_stores.create(\n",
    "  name=\"llms_vector_store\",\n",
    "  file_ids=['file-qd9jnQQE7v4qJ48fQ8dhgoy0', 'file-xzF4PlFUcFjYUP5jigQv1s4r','file-OdySxtvdUFHhEM7zrDNzxrwS']\n",
    ")"
   ]
  },
  {
   "cell_type": "code",
   "execution_count": 36,
   "id": "72f76eb1-04f1-42d7-b9a3-7e3c39fe4616",
   "metadata": {},
   "outputs": [
    {
     "data": {
      "text/plain": [
       "{'id': 'vs_Rx6LH2x4vz2vyBDmoJncqcRj',\n",
       " 'created_at': 1727406766,\n",
       " 'file_counts': {'cancelled': 0,\n",
       "  'completed': 0,\n",
       "  'failed': 0,\n",
       "  'in_progress': 3,\n",
       "  'total': 3},\n",
       " 'last_active_at': 1727406766,\n",
       " 'metadata': {},\n",
       " 'name': 'llms_vector_store',\n",
       " 'object': 'vector_store',\n",
       " 'status': 'in_progress',\n",
       " 'usage_bytes': 0,\n",
       " 'expires_after': None,\n",
       " 'expires_at': None}"
      ]
     },
     "execution_count": 36,
     "metadata": {},
     "output_type": "execute_result"
    }
   ],
   "source": [
    "vector_store_1.to_dict()"
   ]
  },
  {
   "cell_type": "markdown",
   "id": "d1f9b6bd-6df1-4618-8320-142d3be1bb21",
   "metadata": {},
   "source": [
    "&emsp;&emsp;除了默认切分策略外，还可以根据数据情况自定义，那么需要修改的参数是将`chunking_strategy`参数中`type`参数改为`static`，并且指定`max_chunk_size_tokens`和`chunk_overlap_tokens`参数的数值，代码如下所示："
   ]
  },
  {
   "cell_type": "code",
   "execution_count": 38,
   "id": "ff270249-46e7-4323-b162-e9960252a29e",
   "metadata": {
    "scrolled": true
   },
   "outputs": [],
   "source": [
    "vector_store_2 = client.beta.vector_stores.create(\n",
    "    name=\"llms_vector_store_2\",  \n",
    "    file_ids=['file-2zEAXzz8NSry24ZthHgfnCeF'],\n",
    "    chunking_strategy={\n",
    "        \"type\": \"static\",  # 明确使用 static 切分策略\n",
    "        \"static\": {  # 在 static 键下提供具体的切分参数\n",
    "            \"max_chunk_size_tokens\": 1000,  # 自定义的最大切分大小\n",
    "            \"chunk_overlap_tokens\": 500  # 自定义的重叠大小，注意：Chunk_overlap_tokens必须小于或等于max_chunk_size_tokens / 2\n",
    "        }\n",
    "    }\n",
    ")"
   ]
  },
  {
   "cell_type": "code",
   "execution_count": 40,
   "id": "21f365c2-b32b-4406-bcf0-cba49a64d5f9",
   "metadata": {},
   "outputs": [
    {
     "data": {
      "text/plain": [
       "{'id': 'vs_Q2YAwM7TLVJ9yymhiOF7sKws',\n",
       " 'created_at': 1727406825,\n",
       " 'file_counts': {'cancelled': 0,\n",
       "  'completed': 0,\n",
       "  'failed': 0,\n",
       "  'in_progress': 1,\n",
       "  'total': 1},\n",
       " 'last_active_at': 1727406825,\n",
       " 'metadata': {},\n",
       " 'name': 'llms_vector_store_2',\n",
       " 'object': 'vector_store',\n",
       " 'status': 'in_progress',\n",
       " 'usage_bytes': 0,\n",
       " 'expires_after': None,\n",
       " 'expires_at': None}"
      ]
     },
     "execution_count": 40,
     "metadata": {},
     "output_type": "execute_result"
    }
   ],
   "source": [
    "vector_store_2.to_dict()"
   ]
  },
  {
   "cell_type": "markdown",
   "id": "2b2cdef7-4195-44a8-9ca1-4ba4d8df91fe",
   "metadata": {},
   "source": [
    "&emsp;&emsp;从结果上看，对于每个文件存储至向量数据库时所应用的切分策略，直接在`vector_store`对象中是看不到的，这是因为**切分策略是和具体的文件做绑定的，而一个向量数据库中可以存储多个文件。每个文件都可以有自己在存储时定义的切分策略**，所以这个切分策略和向量数据库对象没有任何关系。在构建向量数据库的时候，`.beta.vector_stores.create`的本质是创建一个新的数据库，我们可以在创建的时候直接通过`file_ids`参数传入多个文件。但是当该向量数据库已经存在的时候，如果想基于这个向量数据库进行文件的`增删`操作，则需要借助`.beta.vector_stores.files()`方法。"
   ]
  },
  {
   "cell_type": "markdown",
   "id": "03bbebd6-3675-4577-983a-c537b229a353",
   "metadata": {},
   "source": [
    "- **查询向量数据库**"
   ]
  },
  {
   "cell_type": "markdown",
   "id": "1e263f8c-10c3-4d01-bf0c-05f0dccec210",
   "metadata": {},
   "source": [
    "&emsp;&emsp;向量数据库在`Assistant API`中，可以使用`.beta.vector_stores.list()`方法查看所有已创建的向量数据库列表，代码如下所示："
   ]
  },
  {
   "cell_type": "code",
   "execution_count": 42,
   "id": "4fa52b13-6a1e-429b-a17f-bb930720ef89",
   "metadata": {},
   "outputs": [],
   "source": [
    "vector_stores = client.beta.vector_stores.list()"
   ]
  },
  {
   "cell_type": "code",
   "execution_count": 44,
   "id": "784f23bb-0d32-4ad5-bff8-0866ae18a7ec",
   "metadata": {},
   "outputs": [
    {
     "data": {
      "text/plain": [
       "[VectorStore(id='vs_Q2YAwM7TLVJ9yymhiOF7sKws', created_at=1727406825, file_counts=FileCounts(cancelled=0, completed=1, failed=0, in_progress=0, total=1), last_active_at=1727406825, metadata={}, name='llms_vector_store_2', object='vector_store', status='completed', usage_bytes=145603, expires_after=None, expires_at=None),\n",
       " VectorStore(id='vs_Rx6LH2x4vz2vyBDmoJncqcRj', created_at=1727406766, file_counts=FileCounts(cancelled=0, completed=3, failed=0, in_progress=0, total=3), last_active_at=1727406766, metadata={}, name='llms_vector_store', object='vector_store', status='completed', usage_bytes=91069, expires_after=None, expires_at=None),\n",
       " VectorStore(id='vs_iZ0Bb7hXEt4ZqXVfjmonj0rD', created_at=1727339702, file_counts=FileCounts(cancelled=0, completed=1, failed=0, in_progress=0, total=1), last_active_at=1727339703, metadata={}, name=None, object='vector_store', status='completed', usage_bytes=164035, expires_after=ExpiresAfter(anchor='last_active_at', days=7), expires_at=1727944503),\n",
       " VectorStore(id='vs_xG4WKKC081vV7CH6kueOCDH0', created_at=1727339628, file_counts=FileCounts(cancelled=0, completed=1, failed=0, in_progress=0, total=1), last_active_at=1727339629, metadata={}, name=None, object='vector_store', status='completed', usage_bytes=164035, expires_after=ExpiresAfter(anchor='last_active_at', days=7), expires_at=1727944429),\n",
       " VectorStore(id='vs_HhM5j4p2KfyQRGZjmxVK0hHa', created_at=1727339528, file_counts=FileCounts(cancelled=0, completed=1, failed=0, in_progress=0, total=1), last_active_at=1727339529, metadata={}, name=None, object='vector_store', status='completed', usage_bytes=164035, expires_after=ExpiresAfter(anchor='last_active_at', days=7), expires_at=1727944329),\n",
       " VectorStore(id='vs_dCdjgb9C9KbM1Iy7XdetBuZq', created_at=1727339486, file_counts=FileCounts(cancelled=0, completed=1, failed=0, in_progress=0, total=1), last_active_at=1727339488, metadata={}, name=None, object='vector_store', status='completed', usage_bytes=164035, expires_after=ExpiresAfter(anchor='last_active_at', days=7), expires_at=1727944288),\n",
       " VectorStore(id='vs_C5qF4b1p3JNaHdgTa20qBEw6', created_at=1727339421, file_counts=FileCounts(cancelled=0, completed=1, failed=0, in_progress=0, total=1), last_active_at=1727339421, metadata={}, name=None, object='vector_store', status='completed', usage_bytes=164035, expires_after=ExpiresAfter(anchor='last_active_at', days=7), expires_at=1727944221),\n",
       " VectorStore(id='vs_XHzh4cc3Sucl2l2VPwg43YnZ', created_at=1727336287, file_counts=FileCounts(cancelled=0, completed=2, failed=0, in_progress=0, total=2), last_active_at=1727339932, metadata={}, name='test_kb_020', object='vector_store', status='completed', usage_bytes=187788, expires_after=None, expires_at=None),\n",
       " VectorStore(id='vs_lI6NLqSDJyFC18PDKzLjAoeD', created_at=1727336253, file_counts=FileCounts(cancelled=0, completed=2, failed=0, in_progress=0, total=2), last_active_at=1727339806, metadata={}, name='test_kb_010', object='vector_store', status='completed', usage_bytes=67162, expires_after=None, expires_at=None)]"
      ]
     },
     "execution_count": 44,
     "metadata": {},
     "output_type": "execute_result"
    }
   ],
   "source": [
    "vector_stores.data"
   ]
  },
  {
   "cell_type": "code",
   "execution_count": 46,
   "id": "c0441c22-ea12-452e-b2c9-66e6af266dd4",
   "metadata": {},
   "outputs": [
    {
     "name": "stdout",
     "output_type": "stream",
     "text": [
      "vector_id:vs_Q2YAwM7TLVJ9yymhiOF7sKws - llms_vector_store_2\n",
      "vector_id:vs_Rx6LH2x4vz2vyBDmoJncqcRj - llms_vector_store\n",
      "vector_id:vs_iZ0Bb7hXEt4ZqXVfjmonj0rD - None\n",
      "vector_id:vs_xG4WKKC081vV7CH6kueOCDH0 - None\n",
      "vector_id:vs_HhM5j4p2KfyQRGZjmxVK0hHa - None\n",
      "vector_id:vs_dCdjgb9C9KbM1Iy7XdetBuZq - None\n",
      "vector_id:vs_C5qF4b1p3JNaHdgTa20qBEw6 - None\n",
      "vector_id:vs_XHzh4cc3Sucl2l2VPwg43YnZ - test_kb_020\n",
      "vector_id:vs_lI6NLqSDJyFC18PDKzLjAoeD - test_kb_010\n"
     ]
    }
   ],
   "source": [
    "for vector_id in vector_stores.data:\n",
    "    print(f\"vector_id:{vector_id.id} - {vector_id.name}\")"
   ]
  },
  {
   "cell_type": "markdown",
   "id": "5a943020-6bc3-4b8a-b008-c9f3db3707e1",
   "metadata": {},
   "source": [
    "- **向已存在向量数据库追加文件**"
   ]
  },
  {
   "cell_type": "markdown",
   "id": "57934b27-9cbe-4663-8107-cc9246d110a4",
   "metadata": {},
   "source": [
    "&emsp;&emsp;首先对于向指定的向量数据库添加某个文件的时候，使用的方法是`.beta.vector_stores.files.create()`，需要传入的参数是 向量数据库的 `id` 及 新增加文件的 `id` ，代码如下所示：（**注意：目前仅支持单次最多增加一个文件**）"
   ]
  },
  {
   "cell_type": "code",
   "execution_count": 48,
   "id": "98b448da-b3f9-418f-91ef-9795cd61e5c5",
   "metadata": {},
   "outputs": [],
   "source": [
    "vector_store_file = client.beta.vector_stores.files.create(\n",
    "  vector_store_id=\"vs_Q2YAwM7TLVJ9yymhiOF7sKws\",  # vector_store_2 对象的id\n",
    "  file_id=\"file-9hkFbPwsbnzltkh6oLdn7pjg\"   # 追加一个新的文件：ChatGLM3-6B零基础部署与使用指南.pdf\n",
    ")"
   ]
  },
  {
   "cell_type": "code",
   "execution_count": 50,
   "id": "e5152d1e-5074-4735-b66e-f5ac44eb965c",
   "metadata": {},
   "outputs": [
    {
     "data": {
      "text/plain": [
       "{'id': 'file-9hkFbPwsbnzltkh6oLdn7pjg',\n",
       " 'created_at': 1727406896,\n",
       " 'last_error': None,\n",
       " 'object': 'vector_store.file',\n",
       " 'status': 'in_progress',\n",
       " 'usage_bytes': 0,\n",
       " 'vector_store_id': 'vs_Q2YAwM7TLVJ9yymhiOF7sKws',\n",
       " 'chunking_strategy': {'static': {'chunk_overlap_tokens': 400,\n",
       "   'max_chunk_size_tokens': 800},\n",
       "  'type': 'static'}}"
      ]
     },
     "execution_count": 50,
     "metadata": {},
     "output_type": "execute_result"
    }
   ],
   "source": [
    "vector_store_file.to_dict()"
   ]
  },
  {
   "cell_type": "markdown",
   "id": "4c16bb67-81d2-4316-969d-04deb1e95e02",
   "metadata": {},
   "source": [
    "&emsp;&emsp;如上结果所示，当通过`.vector_stores.files.create()`方法的返回值中可以包含具体的切分策略。（这里是默认值）"
   ]
  },
  {
   "cell_type": "markdown",
   "id": "7cd88e4c-8467-4644-9954-5543dbec7b7a",
   "metadata": {},
   "source": [
    "&emsp;&emsp;而如果想单次同时增加多个文件，则需要用到`Assistant API`的批处理结果，即`.beta.vector_stores.file_batches.create()`，在这个接口下，可以在`file_ids`字段中以列表的形式传递多个`file id`。代码如下所示："
   ]
  },
  {
   "cell_type": "code",
   "execution_count": 52,
   "id": "c108eaf2-1c19-4e2f-8597-e0ef3e6c86ac",
   "metadata": {},
   "outputs": [
    {
     "name": "stdout",
     "output_type": "stream",
     "text": [
      "vector_id:vs_Q2YAwM7TLVJ9yymhiOF7sKws - llms_vector_store_2\n",
      "vector_id:vs_Rx6LH2x4vz2vyBDmoJncqcRj - llms_vector_store\n",
      "vector_id:vs_iZ0Bb7hXEt4ZqXVfjmonj0rD - None\n",
      "vector_id:vs_xG4WKKC081vV7CH6kueOCDH0 - None\n",
      "vector_id:vs_HhM5j4p2KfyQRGZjmxVK0hHa - None\n",
      "vector_id:vs_dCdjgb9C9KbM1Iy7XdetBuZq - None\n",
      "vector_id:vs_C5qF4b1p3JNaHdgTa20qBEw6 - None\n",
      "vector_id:vs_XHzh4cc3Sucl2l2VPwg43YnZ - test_kb_020\n",
      "vector_id:vs_lI6NLqSDJyFC18PDKzLjAoeD - test_kb_010\n"
     ]
    }
   ],
   "source": [
    "for vector_id in vector_stores.data:\n",
    "    print(f\"vector_id:{vector_id.id} - {vector_id.name}\")"
   ]
  },
  {
   "cell_type": "code",
   "execution_count": 54,
   "id": "6db2069a-68a7-432e-8d60-b84282bbbe3e",
   "metadata": {},
   "outputs": [
    {
     "name": "stdout",
     "output_type": "stream",
     "text": [
      "file_id:file-qd9jnQQE7v4qJ48fQ8dhgoy0 - ChatGLM3模型介绍.pdf\n",
      "file_id:file-Kx2k2Pf8biFIjZ48ZaaAcTTv - ChatGLM3-6B零基础部署与使用指南.pdf\n",
      "file_id:file-xzF4PlFUcFjYUP5jigQv1s4r - AI Agent开发入门.pdf\n",
      "file_id:file-9hkFbPwsbnzltkh6oLdn7pjg - ChatGLM3-6B零基础部署与使用指南.pdf\n",
      "file_id:file-FnYQNH15tSho87YotsmigYFi - AI Agent开发入门.pdf\n",
      "file_id:file-OdySxtvdUFHhEM7zrDNzxrwS - 01_大模型应用发展及Agent前沿技术趋势.pdf\n",
      "file_id:file-ro6JEXv6P9b5rp97A9smrOpL - /mnt/data/sorted_cities_by_temperature.csv\n",
      "file_id:file-CWkAbmExAbkr1qSJ4FGSoH6W - weather_data_complex.csv\n",
      "file_id:file-kl4zWwwAfdVHBtWatIBl6LYi - b7c5de5b-7438-4cba-87e7-76350346310b\n",
      "file_id:file-aqLva69G9BuDQIuUTckz6bxk - weather_data_complex.csv\n",
      "file_id:file-2zEAXzz8NSry24ZthHgfnCeF - 02_AI Agent应用类型及Function Calling开发实战.pdf\n",
      "file_id:file-cct6euj7OEk4WpMpasZUZ0LC - 手把手搭建一个GPTs.pdf\n",
      "file_id:file-7WmUELiFIV6uUwLaMD9D8c39 - ChatGLM3-6B零基础部署与使用指南.pdf\n",
      "file_id:file-npyJxWrX6OUavSSSlF3MCVnm - AI Agent开发入门.pdf\n"
     ]
    }
   ],
   "source": [
    "for file_id in all_file.data:\n",
    "    print(f\"file_id:{file_id.id} - {file_id.filename}\")"
   ]
  },
  {
   "cell_type": "code",
   "execution_count": 58,
   "id": "2964567e-488c-47e1-ae34-6d776a20f85d",
   "metadata": {},
   "outputs": [
    {
     "data": {
      "text/plain": [
       "{'id': 'vsfb_da8915144e6144e582d3618dc5756265',\n",
       " 'created_at': 1727406976,\n",
       " 'file_counts': {'cancelled': 0,\n",
       "  'completed': 0,\n",
       "  'failed': 0,\n",
       "  'in_progress': 2,\n",
       "  'total': 2},\n",
       " 'object': 'vector_store.file_batch',\n",
       " 'status': 'in_progress',\n",
       " 'vector_store_id': 'vs_Q2YAwM7TLVJ9yymhiOF7sKws'}"
      ]
     },
     "execution_count": 58,
     "metadata": {},
     "output_type": "execute_result"
    }
   ],
   "source": [
    "vector_store_file_batch = client.beta.vector_stores.file_batches.create(\n",
    "  vector_store_id=\"vs_Q2YAwM7TLVJ9yymhiOF7sKws\",\n",
    "  file_ids=[\"file-OdySxtvdUFHhEM7zrDNzxrwS\", \"file-cct6euj7OEk4WpMpasZUZ0LC\"]\n",
    ")\n",
    "\n",
    "vector_store_file_batch.to_dict()"
   ]
  },
  {
   "cell_type": "markdown",
   "id": "6a363b66-7258-4da5-ada8-bd74ab0e0514",
   "metadata": {},
   "source": [
    "- **在指定向量数据库中检索指定文件的详细信息**"
   ]
  },
  {
   "cell_type": "markdown",
   "id": "b7cc7033-898d-48c6-8bf0-f7216a310c49",
   "metadata": {},
   "source": [
    "&emsp;&emsp;如果想要查看指定文件在存储时应用的是什么切分策略，则可以借助`.beta.vector_stores.files.retrieve()`方法查看，代码如下："
   ]
  },
  {
   "cell_type": "code",
   "execution_count": 62,
   "id": "1a96126e-04fe-42d5-9fd3-afaa0ec32831",
   "metadata": {},
   "outputs": [
    {
     "data": {
      "text/plain": [
       "{'id': 'file-OdySxtvdUFHhEM7zrDNzxrwS',\n",
       " 'created_at': 1727406976,\n",
       " 'last_error': None,\n",
       " 'object': 'vector_store.file',\n",
       " 'status': 'completed',\n",
       " 'usage_bytes': 40013,\n",
       " 'vector_store_id': 'vs_Q2YAwM7TLVJ9yymhiOF7sKws',\n",
       " 'chunking_strategy': {'static': {'chunk_overlap_tokens': 400,\n",
       "   'max_chunk_size_tokens': 800},\n",
       "  'type': 'static'}}"
      ]
     },
     "execution_count": 62,
     "metadata": {},
     "output_type": "execute_result"
    }
   ],
   "source": [
    "vector_store_file = client.beta.vector_stores.files.retrieve(\n",
    "    vector_store_id=\"vs_Q2YAwM7TLVJ9yymhiOF7sKws\",\n",
    "    file_id=\"file-OdySxtvdUFHhEM7zrDNzxrwS\"  # AI Agent开发入门.pdf\n",
    ")\n",
    "\n",
    "vector_store_file.to_dict()"
   ]
  },
  {
   "cell_type": "markdown",
   "id": "dafce1bf-43da-4b00-a751-520e91c8966b",
   "metadata": {},
   "source": [
    "&emsp;&emsp;想查看某个向量数据中的全部文件存储信息，则需要使用批处理接口`.beta.vector_stores.file_batches.list_files()`。代码如下："
   ]
  },
  {
   "cell_type": "code",
   "execution_count": 64,
   "id": "4b70f8a5-6b34-48c6-8da1-1b311000c1ca",
   "metadata": {},
   "outputs": [
    {
     "data": {
      "text/plain": [
       "{'data': [{'id': 'file-cct6euj7OEk4WpMpasZUZ0LC',\n",
       "   'created_at': 1727406976,\n",
       "   'last_error': None,\n",
       "   'object': 'vector_store.file',\n",
       "   'status': 'completed',\n",
       "   'vector_store_id': 'vs_Q2YAwM7TLVJ9yymhiOF7sKws'},\n",
       "  {'id': 'file-OdySxtvdUFHhEM7zrDNzxrwS',\n",
       "   'created_at': 1727406976,\n",
       "   'last_error': None,\n",
       "   'object': 'vector_store.file',\n",
       "   'status': 'completed',\n",
       "   'vector_store_id': 'vs_Q2YAwM7TLVJ9yymhiOF7sKws'}],\n",
       " 'object': 'list',\n",
       " 'first_id': 'file-cct6euj7OEk4WpMpasZUZ0LC',\n",
       " 'last_id': 'file-OdySxtvdUFHhEM7zrDNzxrwS',\n",
       " 'has_more': False}"
      ]
     },
     "execution_count": 64,
     "metadata": {},
     "output_type": "execute_result"
    }
   ],
   "source": [
    "vector_store_files = client.beta.vector_stores.file_batches.list_files(\n",
    "  vector_store_id=\"vs_Q2YAwM7TLVJ9yymhiOF7sKws\",\n",
    "  batch_id=\"vsfb_da8915144e6144e582d3618dc5756265\"\n",
    ")\n",
    "\n",
    "vector_store_files.to_dict()"
   ]
  },
  {
   "cell_type": "markdown",
   "id": "5eec8bd1-fe16-4c64-a333-65bfdf31a1d0",
   "metadata": {},
   "source": [
    "- **在已存在向量数据库中删除指定文件**"
   ]
  },
  {
   "cell_type": "markdown",
   "id": "83537515-f695-48c7-bf17-638ba669bb38",
   "metadata": {},
   "source": [
    "&emsp;&emsp;有增加文件功能，当然也会有删除文件功能。`Assistant API`可以通过如下两种方式从向量数据库中删除这些文件：\n",
    "\n",
    "1. 选定某个向量数据库，在其内部删除\n",
    "2. 通过删除底层文件对象（这会导致所有使用该文件的服务或工具，如`vector_store`、`File Search`等配置中删除该文件\n",
    "\n",
    "&emsp;&emsp;如果想在某个已知的向量数据库中删除具体的某个文件，可以通过`.beta.vector_stores.files.delete()`方法来实现。代码如下所示：（注意：目前仅支持单次最多删除一个文件）"
   ]
  },
  {
   "cell_type": "code",
   "execution_count": 217,
   "id": "ce38eec4-dfa3-44a8-868e-1cd5f311880b",
   "metadata": {},
   "outputs": [
    {
     "data": {
      "text/plain": [
       "VectorStoreFileDeleted(id='file-en7QEv1fQYEOWKnui5Cli0Mu', deleted=True, object='vector_store.file.deleted')"
      ]
     },
     "execution_count": 217,
     "metadata": {},
     "output_type": "execute_result"
    }
   ],
   "source": [
    "from openai import OpenAI\n",
    "client = OpenAI()\n",
    "\n",
    "deleted_vector_store_file = client.beta.vector_stores.files.delete(\n",
    "    vector_store_id=\"vs_bx5MFra1VDKIO8Ln3Wt5QFGa\",\n",
    "    file_id=\"file-en7QEv1fQYEOWKnui5Cli0Mu\"\n",
    ")\n",
    "\n",
    "\n",
    "deleted_vector_store_file"
   ]
  },
  {
   "cell_type": "markdown",
   "id": "6051593c-1431-493a-b537-4fea983738ae",
   "metadata": {},
   "source": [
    "&emsp;&emsp;当返回的结果中包含`deleted=True`时，说明已成功在`id`为`vs_bx5MFra1VDKIO8Ln3Wt5QFGa`的向量数据库中删除了该文件。"
   ]
  },
  {
   "cell_type": "markdown",
   "id": "fbc0e317-e6ff-415d-9980-ea0d66fc8958",
   "metadata": {},
   "source": [
    "- **检索向量数据库**"
   ]
  },
  {
   "cell_type": "markdown",
   "id": "4f56f574-9f07-4007-a29e-8ac90e63e60b",
   "metadata": {},
   "source": [
    "&emsp;&emsp;掌握了向量数据库内文件的相关操作后，向量数据库对象也可以分别通过`.beta.vector_stores.retrieve()` 和 `.beta.vector_stores.update()` 检索和更新向量数据库信息，比如想选定某个向量数据库的时候，代码如下："
   ]
  },
  {
   "cell_type": "code",
   "execution_count": 52,
   "id": "dbf9cf66-0940-4cf9-ab7c-2ed4894432ae",
   "metadata": {},
   "outputs": [
    {
     "data": {
      "text/plain": [
       "{'id': 'vs_dab0nsKPPlIRuM45yfd70wg0',\n",
       " 'created_at': 1727336015,\n",
       " 'file_counts': {'cancelled': 0,\n",
       "  'completed': 2,\n",
       "  'failed': 0,\n",
       "  'in_progress': 0,\n",
       "  'total': 2},\n",
       " 'last_active_at': 1727336015,\n",
       " 'metadata': {},\n",
       " 'name': 'test_kb_002',\n",
       " 'object': 'vector_store',\n",
       " 'status': 'completed',\n",
       " 'usage_bytes': 71410,\n",
       " 'expires_after': None,\n",
       " 'expires_at': None}"
      ]
     },
     "execution_count": 52,
     "metadata": {},
     "output_type": "execute_result"
    }
   ],
   "source": [
    "vector_store = client.beta.vector_stores.retrieve(\n",
    "  vector_store_id=\"vs_dab0nsKPPlIRuM45yfd70wg0\"\n",
    ")\n",
    "\n",
    "vector_store.to_dict()"
   ]
  },
  {
   "cell_type": "markdown",
   "id": "2785785c-99ff-4d8b-aba9-7481e32cbf46",
   "metadata": {},
   "source": [
    "- **更新向量数据库**"
   ]
  },
  {
   "cell_type": "markdown",
   "id": "c96c9606-5243-42d0-949f-b5766530b3ee",
   "metadata": {},
   "source": [
    "&emsp;&emsp;更新向量数据库的名称，代码如下："
   ]
  },
  {
   "cell_type": "code",
   "execution_count": 54,
   "id": "7b758521-285a-46c6-a415-2f43c19144c0",
   "metadata": {},
   "outputs": [
    {
     "data": {
      "text/plain": [
       "{'id': 'vs_ztjSGgwqPnWxJsKcyJUnVmK1',\n",
       " 'created_at': 1727323313,\n",
       " 'file_counts': {'cancelled': 0,\n",
       "  'completed': 0,\n",
       "  'failed': 0,\n",
       "  'in_progress': 0,\n",
       "  'total': 0},\n",
       " 'last_active_at': 1727330051,\n",
       " 'metadata': {},\n",
       " 'name': 'test_kb_110',\n",
       " 'object': 'vector_store',\n",
       " 'status': 'completed',\n",
       " 'usage_bytes': 0,\n",
       " 'expires_after': None,\n",
       " 'expires_at': None}"
      ]
     },
     "execution_count": 54,
     "metadata": {},
     "output_type": "execute_result"
    }
   ],
   "source": [
    "vector_store = client.beta.vector_stores.update(\n",
    "  vector_store_id=\"vs_ztjSGgwqPnWxJsKcyJUnVmK1\",\n",
    "  name=\"test_kb_110\"\n",
    ")\n",
    "\n",
    "vector_store.to_dict()"
   ]
  },
  {
   "cell_type": "markdown",
   "id": "b190e27a-8f06-4d0b-88e6-f0c62914bf5e",
   "metadata": {},
   "source": [
    "- **删除向量数据库**"
   ]
  },
  {
   "cell_type": "markdown",
   "id": "a8a958cd-0059-4553-b6cd-4f4107ed5ba7",
   "metadata": {},
   "source": [
    "&emsp;&emsp;如上所示，向量数据库的名称已经由`test_kb_1`更新为`test_kb_110`。最后，如果想要删除整个向量数据库，可以通过`.beta.vector_stores.delete()`方法实现，在调用该方法时只需要传入具体的`vector_id`。代码如下所示："
   ]
  },
  {
   "cell_type": "code",
   "execution_count": 65,
   "id": "da1d567f-80e8-482b-8c25-6f7a013dbbd9",
   "metadata": {},
   "outputs": [
    {
     "data": {
      "text/plain": [
       "{'id': 'vs_ztjSGgwqPnWxJsKcyJUnVmK1',\n",
       " 'deleted': True,\n",
       " 'object': 'vector_store.deleted'}"
      ]
     },
     "execution_count": 65,
     "metadata": {},
     "output_type": "execute_result"
    }
   ],
   "source": [
    "deleted_vector_store = client.beta.vector_stores.delete(\n",
    "  vector_store_id=\"vs_ztjSGgwqPnWxJsKcyJUnVmK1\"\n",
    ")\n",
    "\n",
    "deleted_vector_store.to_dict()"
   ]
  },
  {
   "cell_type": "markdown",
   "id": "cc83311d-dd28-476b-a1ff-6576c7353f8b",
   "metadata": {},
   "source": [
    "&emsp;&emsp;当返回的结果中包含`deleted=True`时，说明已成功删除了该向量数据库。"
   ]
  },
  {
   "cell_type": "markdown",
   "id": "6091903a-805d-448d-baa5-af48d8bbf66a",
   "metadata": {},
   "source": [
    "&emsp;&emsp;以上就是`Assistant API`中关于文件和向量数据库的接口应用方法，在这个处理过程中，需要大家理解文件和向量数据库之间的关系及各个方法的使用细节。通过这种灵活的配置，我们可以轻松的构建`Indexing`的完整处理过程，强烈建议大家在创建代理之前完全处理好向量数据库及其对应的文件操作，以此确保向量数据库中的所有数据都是可搜索的。"
   ]
  },
  {
   "cell_type": "markdown",
   "id": "41e22cdd-3d47-4f82-9769-834fbc72f8f7",
   "metadata": {},
   "source": [
    "&emsp;&emsp;在准备好可用于`File Search` 工具搜索的知识库后，我们接下来就可以构建代理流程了。"
   ]
  },
  {
   "cell_type": "markdown",
   "id": "64b66e60-5797-4e40-b2e9-83e319ba02d6",
   "metadata": {},
   "source": [
    "- **Stage 3. 创建 Assistant 对象**"
   ]
  },
  {
   "cell_type": "markdown",
   "id": "3763a71e-dc79-4e6a-928f-6e0c48e43d27",
   "metadata": {},
   "source": [
    "&emsp;&emsp;上一节课我们介绍了创建`Assistant`对象时必须传递的必填参数，即`model`，同时建议大家将`name`（名称）和`instructions`（指令）参数也视为必填项，以确保智能助手能够有效地完成其任务。而如果想让`Assistant`对象进一步具备工具的调用能力的高阶能力，则需要借助如下参数："
   ]
  },
  {
   "cell_type": "markdown",
   "id": "7f2d3936-2517-4b20-ace9-605b5cbba0e6",
   "metadata": {},
   "source": [
    "> Create assistant：https://platform.openai.com/docs/api-reference/assistants/createAssistant"
   ]
  },
  {
   "cell_type": "markdown",
   "id": "1c9a220a-c3e8-42b0-8e59-75aaf1e5e257",
   "metadata": {},
   "source": [
    "| 参数名             | 类型                | 可选性   | 默认值 | 描述                                                                                             |\r\n",
    "|--------------------|---------------------|----------|--------|--------------------------------------------------------------------------------------------------|\r\n",
    "| tools              | array               | 可选     | []     | 启用在助手上的工具列表。每个助手最多可以有 128 个工具。工具类型包括：code_interpreter、file_search 和 function。 |\r\n",
    "| ├── Code interpreter tool | object        | 可选     | -      | 代码解释器工具。                                                                                 |\r\n",
    "| ├── FileSearch tool      | object        | 可选     | -      | 文件搜索工具。                                                                                   |\r\n",
    "| └── Function tool        | object        | 可选     | -      | 功能工具。                                                                                       |\r\n",
    "| tool_resources      | object or null      | 可选     | -      | 助手工具使用的资源集合。资源与工具类型相关。例如，代码解释器工具需要文件 ID 列表，而文件搜索工具需要向量存储 ID 列表。 |\r\n",
    "| ├── code_interpreter | object               | 可选     | -      | 代码解释器相关资源。                                                                             |\r\n",
    "| └── file_search      | object               | 可选     | -      | 文件搜索相关资源。                                                                              |\r\n"
   ]
  },
  {
   "cell_type": "markdown",
   "id": "63d3f6d4-d092-4959-9001-9a69599e344a",
   "metadata": {},
   "source": [
    "&emsp;&emsp;使用`tools`参数可以让 `Assistant` 最多访问 128 个工具。这包含`OpenAI` 内置的工具`Code_interpreter`和`File_Search` ，以及通过`Function calling`规范调用的第三方自定义工具。基于这种设定，这里我们创建一个启用文件搜索的`Assistant`（助手）对象，代码如下："
   ]
  },
  {
   "cell_type": "code",
   "execution_count": 66,
   "id": "f2b132ae-8ca1-47a7-a539-dbb4451e61df",
   "metadata": {},
   "outputs": [],
   "source": [
    "assistant = client.beta.assistants.create(\n",
    "    name=\"Large language model technical assistant\",   # 大语言模型技术助理\n",
    "    instructions=\"You are a professional large model technician and apply your basic knowledge to answer large model related questions\", # 你是一位专业的大模型技术人员，运用你的基础知识来回答大模型相关的问题\n",
    "    model=\"gpt-4o-mini-2024-07-18\",\n",
    "    tools=[\n",
    "        {\"type\": \"file_search\"}\n",
    "    ],\n",
    ")"
   ]
  },
  {
   "cell_type": "markdown",
   "id": "7636caf1-25d1-4234-8944-f4c48a43bdeb",
   "metadata": {},
   "source": [
    "&emsp;&emsp;如上代码所示，如果想让`Assistant`对象具备访问`File Search`工具的能力，需要使用`tools`参数来明确的指定工具的类型。而当启用`file_search`工具后，`Assistant`对象实例会根据用户消息决定何时检索内容。\r\n"
   ]
  },
  {
   "cell_type": "code",
   "execution_count": 68,
   "id": "d5342510-e0d6-4437-8095-2d09276ec82b",
   "metadata": {},
   "outputs": [
    {
     "data": {
      "text/plain": [
       "{'id': 'asst_zZ7EvPZdqHtDmlS5pozmJIqJ',\n",
       " 'created_at': 1727407121,\n",
       " 'description': None,\n",
       " 'instructions': 'You are a professional large model technician and apply your basic knowledge to answer large model related questions',\n",
       " 'metadata': {},\n",
       " 'model': 'gpt-4o-mini-2024-07-18',\n",
       " 'name': 'Large language model technical assistant',\n",
       " 'object': 'assistant',\n",
       " 'tools': [{'type': 'file_search',\n",
       "   'file_search': {'ranking_options': {'ranker': 'default_2024_08_21',\n",
       "     'score_threshold': 0.0}}}],\n",
       " 'response_format': 'auto',\n",
       " 'temperature': 1.0,\n",
       " 'tool_resources': {'file_search': {'vector_store_ids': []}},\n",
       " 'top_p': 1.0}"
      ]
     },
     "execution_count": 68,
     "metadata": {},
     "output_type": "execute_result"
    }
   ],
   "source": [
    "assistant.to_dict()"
   ]
  },
  {
   "cell_type": "markdown",
   "id": "a8741773-ded6-4c2c-bafa-e0a27b859b88",
   "metadata": {},
   "source": [
    "&emsp;&emsp;从返回值中的`tools`字段中，`file_search`中`ranking_options`用于定义文件搜索的排序策略。`ranker` 指定的是检索使用的排名算法，`score_threshold` 是一个数值阈值，用于过滤搜索结果，只有得分高于此阈值的文件才会被返回，当前设置为 0.0，表示没有最低得分限制，所有文件都将被考虑。"
   ]
  },
  {
   "cell_type": "markdown",
   "id": "888298ed-a3cd-4d6a-bf67-f8f26bb82804",
   "metadata": {},
   "source": [
    "- **Stage 4. 创建 Thread 对象**"
   ]
  },
  {
   "cell_type": "markdown",
   "id": "04d649c7-ebe1-4684-9bbb-eabf6e48f7e6",
   "metadata": {},
   "source": [
    "&emsp;接下来构建`Thread`对象。这里我们需要先看一下`Thread`对象接口中关于使用外部工具的相关参数：👇"
   ]
  },
  {
   "cell_type": "markdown",
   "id": "32cb48fa-3bcd-4972-9450-acdab62146b8",
   "metadata": {},
   "source": [
    "| 参数名                     | 类型                | 可选性   | 默认值 | 描述                                                                                             |\r\n",
    "|----------------------------|---------------------|----------|--------|--------------------------------------------------------------------------------------------------|\r\n",
    "| tool_resources              | object or null      | 可选     | -      | 在此线程中为助手工具提供的一组资源。这些资源与工具类型相关。                                      |\r\n",
    "| ├── code_interpreter        | object              | 可选     | -      | 代码解释器相关资源。                                                                               |\r\n",
    "| │   └── file_ids            | array               | 可选     | []     | 提供给代码解释器工具的文件 ID 列表。最多可关联 20 个文件。                                       |\r\n",
    "| └── file_search             | object              | 可选     | -      | 文件搜索相关资源。                                                                                |\r\n",
    "|     ├── vector_store_ids     | array              | 可选     | -      | 附加到此线程的向量存储 ID 列表。最多可关联 1 个向量存储。                                        |\r\n",
    "|     └── vector_stores        | array              | 可选     | -      | 用于创建带有 file_ids 的向量存储并附加到此线程的助手。最多可关联 1 个向量存储。                 |\r\n",
    "|         └── file_ids         | array              | 可选     | -      | 要添加到向量存储的文件 ID 列表。最多可包含 10000 个文件。                                       |\r\n",
    "|         └── chunking_strategy | object            | 可选     | -      | 用于对文件进行分块的策略。如果未设置，将使用自动策略。                                           |\r\n",
    "|         └── metadata         | map                | 可选     | -      | 可附加到向量存储的一组最多 16 个键值对，有助于以结构化格式存储附加信息。键最长 64 个字符，值最长 512 个字符。 |\r\n"
   ]
  },
  {
   "cell_type": "markdown",
   "id": "a5d9c2c2-be62-465b-b3ab-e5dbffe3827c",
   "metadata": {},
   "source": [
    "&emsp;&emsp;从`Thread`对象接口提供的参数看，也存在指定外部工具的`tool_resources`参数。这也就意味着`Assistant`对象与`Thread`对象都可以指定外部工具，`Assistant API`为什么要这样设计呢？我们就需要分情况看一下。"
   ]
  },
  {
   "cell_type": "markdown",
   "id": "557b88c9-05ec-416c-a3f5-acbbf936bd5b",
   "metadata": {},
   "source": [
    "&emsp;&emsp;首先，为了直观的测试在`Assistant`对象和`Thread`对象中定义`File Search`工具的区别，我们再建立一个用于回答机器学习问题的向量数据库。"
   ]
  },
  {
   "cell_type": "code",
   "execution_count": 74,
   "id": "2a5f5a2e-44ba-4e73-8531-1b1af688f9ac",
   "metadata": {},
   "outputs": [
    {
     "name": "stdout",
     "output_type": "stream",
     "text": [
      "FileObject(id='file-FuFVpAAn0OgzgMHu9PbhC3ss', bytes=543192, created_at=1727407732, filename='集成学习公开课01~02 - Bagging与随机森林（B站公开课）.pdf', object='file', purpose='assistants', status='processed', status_details=None)\n",
      "FileObject(id='file-FpLuyrIZouDVbT9IztgwbpDj', bytes=873629, created_at=1727407733, filename='集成学习公开课03 - AdaBoost（B站节选版）.pdf', object='file', purpose='assistants', status='processed', status_details=None)\n",
      "FileObject(id='file-F5eWFYbb4pufLcyvAnEVb2E6', bytes=665313, created_at=1727407733, filename='集成学习公开课04~06 GBDT (B站节选版).pdf', object='file', purpose='assistants', status='processed', status_details=None)\n"
     ]
    }
   ],
   "source": [
    "# 准备上传文件\n",
    "file_paths = [\n",
    "    \"./data/02_ML/集成学习公开课01~02 - Bagging与随机森林（B站公开课）.pdf\",\n",
    "    \"./data/02_ML/集成学习公开课03 - AdaBoost（B站节选版）.pdf\",\n",
    "    \"./data/02_ML/集成学习公开课04~06 GBDT (B站节选版).pdf\"\n",
    "]\n",
    "\n",
    "# 遍历文件路径并上传文件\n",
    "uploaded_files = []\n",
    "for path in file_paths:\n",
    "    with open(path, \"rb\") as file:\n",
    "        new_file = client.files.create(\n",
    "            file=file,\n",
    "            purpose=\"assistants\"\n",
    "        )\n",
    "        uploaded_files.append(new_file)\n",
    "\n",
    "# 打印上传结果\n",
    "for uploaded_file in uploaded_files:\n",
    "    print(uploaded_file)"
   ]
  },
  {
   "cell_type": "code",
   "execution_count": 76,
   "id": "50be397b-dfe8-456e-a23e-da4cd64d6914",
   "metadata": {},
   "outputs": [
    {
     "name": "stdout",
     "output_type": "stream",
     "text": [
      "file_id:file-F5eWFYbb4pufLcyvAnEVb2E6 - 集成学习公开课04~06 GBDT (B站节选版).pdf\n",
      "file_id:file-FpLuyrIZouDVbT9IztgwbpDj - 集成学习公开课03 - AdaBoost（B站节选版）.pdf\n",
      "file_id:file-FuFVpAAn0OgzgMHu9PbhC3ss - 集成学习公开课01~02 - Bagging与随机森林（B站公开课）.pdf\n",
      "file_id:file-qd9jnQQE7v4qJ48fQ8dhgoy0 - ChatGLM3模型介绍.pdf\n",
      "file_id:file-Kx2k2Pf8biFIjZ48ZaaAcTTv - ChatGLM3-6B零基础部署与使用指南.pdf\n",
      "file_id:file-xzF4PlFUcFjYUP5jigQv1s4r - AI Agent开发入门.pdf\n",
      "file_id:file-9hkFbPwsbnzltkh6oLdn7pjg - ChatGLM3-6B零基础部署与使用指南.pdf\n",
      "file_id:file-FnYQNH15tSho87YotsmigYFi - AI Agent开发入门.pdf\n",
      "file_id:file-OdySxtvdUFHhEM7zrDNzxrwS - 01_大模型应用发展及Agent前沿技术趋势.pdf\n",
      "file_id:file-ro6JEXv6P9b5rp97A9smrOpL - /mnt/data/sorted_cities_by_temperature.csv\n",
      "file_id:file-CWkAbmExAbkr1qSJ4FGSoH6W - weather_data_complex.csv\n",
      "file_id:file-kl4zWwwAfdVHBtWatIBl6LYi - b7c5de5b-7438-4cba-87e7-76350346310b\n",
      "file_id:file-aqLva69G9BuDQIuUTckz6bxk - weather_data_complex.csv\n",
      "file_id:file-2zEAXzz8NSry24ZthHgfnCeF - 02_AI Agent应用类型及Function Calling开发实战.pdf\n",
      "file_id:file-cct6euj7OEk4WpMpasZUZ0LC - 手把手搭建一个GPTs.pdf\n",
      "file_id:file-7WmUELiFIV6uUwLaMD9D8c39 - ChatGLM3-6B零基础部署与使用指南.pdf\n",
      "file_id:file-npyJxWrX6OUavSSSlF3MCVnm - AI Agent开发入门.pdf\n"
     ]
    }
   ],
   "source": [
    "all_file = client.files.list()\n",
    "\n",
    "for file_id in all_file.data:\n",
    "    print(f\"file_id:{file_id.id} - {file_id.filename}\")"
   ]
  },
  {
   "cell_type": "code",
   "execution_count": 78,
   "id": "5dc25723-73e6-411b-ac05-4af60b51af54",
   "metadata": {},
   "outputs": [],
   "source": [
    "# 创建一个用于机器学习基础知识问答的知识库\n",
    "vector_store_4 = client.beta.vector_stores.create(\n",
    "  name=\"ml_vector_store\",\n",
    "  file_ids=['file-F5eWFYbb4pufLcyvAnEVb2E6', 'file-FpLuyrIZouDVbT9IztgwbpDj','file-FuFVpAAn0OgzgMHu9PbhC3ss']\n",
    ")"
   ]
  },
  {
   "cell_type": "code",
   "execution_count": 80,
   "id": "28b0b15b-ce34-4cac-b61e-4da5751c620e",
   "metadata": {},
   "outputs": [
    {
     "data": {
      "text/plain": [
       "{'id': 'vs_ByRujrqB8yUYO2ZwtEH8zA4J',\n",
       " 'created_at': 1727407871,\n",
       " 'file_counts': {'cancelled': 0,\n",
       "  'completed': 0,\n",
       "  'failed': 0,\n",
       "  'in_progress': 3,\n",
       "  'total': 3},\n",
       " 'last_active_at': 1727407871,\n",
       " 'metadata': {},\n",
       " 'name': 'ml_vector_store',\n",
       " 'object': 'vector_store',\n",
       " 'status': 'in_progress',\n",
       " 'usage_bytes': 0,\n",
       " 'expires_after': None,\n",
       " 'expires_at': None}"
      ]
     },
     "execution_count": 80,
     "metadata": {},
     "output_type": "execute_result"
    }
   ],
   "source": [
    "vector_store_4.to_dict()"
   ]
  },
  {
   "cell_type": "code",
   "execution_count": 82,
   "id": "390404b4-23e5-40e9-b8c9-84ef91c3c73b",
   "metadata": {},
   "outputs": [
    {
     "name": "stdout",
     "output_type": "stream",
     "text": [
      "vector_id:vs_ByRujrqB8yUYO2ZwtEH8zA4J - ml_vector_store\n",
      "vector_id:vs_Q2YAwM7TLVJ9yymhiOF7sKws - llms_vector_store_2\n",
      "vector_id:vs_Rx6LH2x4vz2vyBDmoJncqcRj - llms_vector_store\n",
      "vector_id:vs_iZ0Bb7hXEt4ZqXVfjmonj0rD - None\n",
      "vector_id:vs_xG4WKKC081vV7CH6kueOCDH0 - None\n",
      "vector_id:vs_HhM5j4p2KfyQRGZjmxVK0hHa - None\n",
      "vector_id:vs_dCdjgb9C9KbM1Iy7XdetBuZq - None\n",
      "vector_id:vs_C5qF4b1p3JNaHdgTa20qBEw6 - None\n",
      "vector_id:vs_XHzh4cc3Sucl2l2VPwg43YnZ - test_kb_020\n",
      "vector_id:vs_lI6NLqSDJyFC18PDKzLjAoeD - test_kb_010\n"
     ]
    }
   ],
   "source": [
    "vector_stores = client.beta.vector_stores.list()\n",
    "\n",
    "for vector_id in vector_stores.data:\n",
    "    print(f\"vector_id:{vector_id.id} - {vector_id.name}\")"
   ]
  },
  {
   "cell_type": "markdown",
   "id": "155cc34a-c228-4bb1-9662-56d2fcb05c0b",
   "metadata": {},
   "source": [
    "- **情况一：仅在`Assistant`对象中指定`File Search`工具，并且添加具体的向量数据库ID**"
   ]
  },
  {
   "cell_type": "markdown",
   "id": "f61ad1a1-b1ff-42ab-a6d4-bbfc0d4f1980",
   "metadata": {},
   "source": [
    "&emsp;&emsp;这里容易产生混淆但需要大家明确注意的一点：**虽然`vector_store_ids`参数要求传入的数据类型是列表，但仅可指定一个向量数据库的`id`，指定多个程序会直接报错。** 完整对话过程代码如下："
   ]
  },
  {
   "cell_type": "code",
   "execution_count": 87,
   "id": "97764cbb-4705-4a68-adb3-757e7c9b38b3",
   "metadata": {},
   "outputs": [
    {
     "name": "stdout",
     "output_type": "stream",
     "text": [
      "知识库的内容主要涵盖了以下几个方面：\n",
      "\n",
      "1. **大模型的应用与发展趋势**：\n",
      "   自2023年初，大模型技术在全球范围内受到广泛关注，特别是ChatGPT的问世极大推动了大模型在国内的普及。大模型基于自然语言处理技术，实现了更加自然的人机交互，用以处理各种复杂任务，表现出接近人类的理解与响应能力【4:0†source】。\n",
      "\n",
      "2. **ChatGLM 3 模型介绍**：\n",
      "   ChatGLM 3是一个全新的中英文开源大模型，具备极强的性能，尤其在推理效率和多模态任务处理方面有显著提升。其新模式集成了许多高级功能，包括代码解释、网络搜索等，使其在与GPT-4功能上进行竞争。ChatGLM 3模型可以用在更广泛的实际场景中，例如提供实时天气信息、收发邮件等【4:1†source】【4:8†source】。\n",
      "\n",
      "3. **AI Agent的开发与实战**：\n",
      "   AI Agent是大语言模型的一个实际应用方向，能够实现任务规划和执行。学习如何开发这样的Agent需要掌握OpenAI的Assistant API、ChatGLM的Function Calling功能等。通过合理使用这些技术，可以构建出高效的智能体，能够在多个领域提供服务，如代码调试、数据分析等【4:2†source】【4:11†source】。\n",
      "\n",
      "4. **功能迭代与增强**：\n",
      "   ChatGLM 3进一步增强了Agent的能力，集成了AgentTuning技术，提升了模型在智能规划与执行任务方面的性能。同时，还引入了RAG（检索增强生成技术），使得模型能够实现更为精准的信息检索和生成，对大模型的输出质量有积极影响【4:5†source】【4:18†source】。\n",
      "\n",
      "5. **技术路线及学习路径**：\n",
      "   开发AI Agent涉及掌握多种技能，包括GPT系列模型、功能调用及LangChain等多种技术路线的学习。强调建议学习OpenAI的开发范式，随后再深入了解开源模型的开发，增强实战能力【4:10†source】【4:13†source】。\n",
      "\n",
      "总的来说，知识库涵盖了大模型的主要应用、最新技术进展及其在实际开发中的应用，为开发人员提供了丰富的学习和应用资源。\n"
     ]
    }
   ],
   "source": [
    "# Step 1. 创建一个新的 assistant 对象实例\n",
    "assistant = client.beta.assistants.create(\n",
    "    name=\"Large language model technical assistant\",   # 大语言模型技术助理\n",
    "    instructions=\"You are a professional large model technician and apply your basic knowledge to answer large model related questions\", # 你是一位专业的大模型技术人员，运用你的基础知识来回答大模型相关的问题\n",
    "    model=\"gpt-4o-mini-2024-07-18\",\n",
    "    tools=[\n",
    "        {\"type\": \"file_search\"}\n",
    "    ],\n",
    "    tool_resources={\"file_search\": {\"vector_store_ids\": [\"vs_Rx6LH2x4vz2vyBDmoJncqcRj\"]}},   # 这里选择存储大模型基础知识的向量数据库id\n",
    ") \n",
    "\n",
    "\n",
    "# Step 2. 创建一个新的 thread 对象实例\n",
    "thread = client.beta.threads.create()\n",
    "\n",
    "# Step 3. 将消息追加到 Thread 中\n",
    "message = client.beta.threads.messages.create(\n",
    "  thread_id=thread.id,\n",
    "  role=\"user\",\n",
    "  content=\"摘要一下知识库中的内容\"\n",
    ")\n",
    "\n",
    "\n",
    "# Step 4. 执行 运行， create_and_poll 是`Assistant API`提供的轮询方式，如果使用这种方法，则不需要我们手动轮询监测状态\n",
    "run = client.beta.threads.runs.create_and_poll(\n",
    "    thread_id=thread.id, assistant_id=assistant.id\n",
    ")\n",
    "\n",
    "# Step 5. 等待run运行结束，提取最新的回复\n",
    "messages = list(client.beta.threads.messages.list(thread_id=thread.id, run_id=run.id))\n",
    "\n",
    "message_content = messages[0].content[0].text\n",
    "\n",
    "print(message_content.value)"
   ]
  },
  {
   "cell_type": "markdown",
   "id": "478525a2-51cf-4212-a670-ff14c0ab7127",
   "metadata": {},
   "source": [
    "&emsp;&emsp;从此轮的回复上看，通过在`Assistant`对象中添加`File Seach`工具，并且指定某一个我们已经创建好的向量数据库`id`，就可以在对话过程中正确的检索相关的文件来回答问题，即为一种高效的`RAG`过程。"
   ]
  },
  {
   "cell_type": "markdown",
   "id": "cc18d9ff-c8e3-466c-8cb8-6ee1405d6ccc",
   "metadata": {},
   "source": [
    "- **情况二：在`Assistant`对象中不指定`File Search`工具，在`Thread`对象中指定，并且添加具体的向量数据库ID**"
   ]
  },
  {
   "cell_type": "markdown",
   "id": "9353bd0f-b22d-479d-8b00-ae0717aa3081",
   "metadata": {},
   "source": [
    "&emsp;&emsp;**注意：尽管不在`Assistant`对象中指定`File Search`工具，但是`Assistant`对象中必须有`tools={\"type\": \"file_search\"}]`参数，否则程序会报错。**完整对话过程如下："
   ]
  },
  {
   "cell_type": "code",
   "execution_count": 95,
   "id": "2b6219af-12b2-4174-8085-27ae79b0ff92",
   "metadata": {},
   "outputs": [
    {
     "name": "stdout",
     "output_type": "stream",
     "text": [
      "vector_id:vs_ByRujrqB8yUYO2ZwtEH8zA4J - ml_vector_store\n",
      "vector_id:vs_Q2YAwM7TLVJ9yymhiOF7sKws - llms_vector_store_2\n",
      "vector_id:vs_Rx6LH2x4vz2vyBDmoJncqcRj - llms_vector_store\n",
      "vector_id:vs_iZ0Bb7hXEt4ZqXVfjmonj0rD - None\n",
      "vector_id:vs_xG4WKKC081vV7CH6kueOCDH0 - None\n",
      "vector_id:vs_HhM5j4p2KfyQRGZjmxVK0hHa - None\n",
      "vector_id:vs_dCdjgb9C9KbM1Iy7XdetBuZq - None\n",
      "vector_id:vs_C5qF4b1p3JNaHdgTa20qBEw6 - None\n",
      "vector_id:vs_XHzh4cc3Sucl2l2VPwg43YnZ - test_kb_020\n",
      "vector_id:vs_lI6NLqSDJyFC18PDKzLjAoeD - test_kb_010\n"
     ]
    }
   ],
   "source": [
    "vector_stores = client.beta.vector_stores.list()\n",
    "\n",
    "for vector_id in vector_stores.data:\n",
    "    print(f\"vector_id:{vector_id.id} - {vector_id.name}\")"
   ]
  },
  {
   "cell_type": "code",
   "execution_count": 99,
   "id": "06e95c05-7f73-4256-afda-0cac67cbb780",
   "metadata": {},
   "outputs": [
    {
     "name": "stdout",
     "output_type": "stream",
     "text": [
      "知识库中包含了关于大模型及其应用的多方面内容，主要可归纳为以下几部分：\n",
      "\n",
      "1. **大模型的发展历程**：\n",
      "   - 从2022年底开始，国外对大模型的讨论愈发激烈，而国内的关注点则在于ChatGPT的成功发布，改变了人们对智能应用的传统认知。\n",
      "   - 大模型具备理解人类情感、解决问题的能力，使其对话交互更具人性化，推动了人工智能技术的热度提高【4:0†source】。\n",
      "\n",
      "2. **ChatGLM 3 的特性与优势**：\n",
      "   - ChatGLM 3 模型在多项公开数据集上性能提升超过30%，具有较快的推理速度和降低的推理成本，并能够跨越GPT-4的技术水准。\n",
      "   - 功能上具备多模态能力、代码解释器、网络搜索等，致力于提升其在AI Agent开发中的应用【4:1†source】【4:7†source】。\n",
      "\n",
      "3. **AI Agent的开发流程**：\n",
      "   - 开发AI Agent需要掌握OpenAI的Assistant API，围绕短期和长期记忆管理及本地知识库建设进行构建。学习路径包括掌握基本参数、API使用方法和构建过程【4:2†source】【4:5†source】【4:11†source】。\n",
      "   - AI Agent的设计思路包括通过推理跟踪去分解复杂任务，使其能够自动执行并根据反馈进行调整。这个过程的有效性在于其能根据上下文信息帮助模型更好地生成回答【4:18†source】。\n",
      "\n",
      "4. **模型的原生能力与涌现能力**：\n",
      "   - 原生能力是指模型通过训练获得的解答特定领域问题的能力，而涌现能力则是指在未直接学习某些信息的情况下，基于提供的信息进行推理和类比解决问题的能力【4:16†source】。\n",
      "\n",
      "5. **未来的应用方向及挑战**：\n",
      "   - AI Agent将在娱乐、购物、个性化内容推荐及教育等领域展现巨大潜力，但仍需解决数据隐私、安全性及算法优化等挑战【4:19†source】。\n",
      "\n",
      "这些内容描述了大模型在技术与应用层面的全面发展，突显了AI Agent在日常生活中的潜在影响力和应用价值。\n"
     ]
    }
   ],
   "source": [
    "# Step 1. 创建一个新的 assistant 对象实例\n",
    "assistant = client.beta.assistants.create(\n",
    "    name=\"Large language model technical assistant\",   # 大语言模型技术助理\n",
    "    instructions=\"You are a professional large model technician and apply your basic knowledge to answer large model related questions\", # 你是一位专业的大模型技术人员，运用你的基础知识来回答大模型相关的问题\n",
    "    model=\"gpt-4o-mini-2024-07-18\",\n",
    "    tools=[\n",
    "        {\"type\": \"file_search\"}\n",
    "    ],\n",
    "    # tool_resources={\"file_search\": {\"vector_store_ids\": [\"vs_XHzh4cc3Sucl2l2VPwg43YnZ\"]}},\n",
    ")\n",
    "\n",
    "\n",
    "# Step 2. 创建一个新的 thread 对象实例\n",
    "thread = client.beta.threads.create(\n",
    "    tool_resources={\"file_search\": {\"vector_store_ids\": [\"vs_Rx6LH2x4vz2vyBDmoJncqcRj\"]}},  # 这里选择存储大模型基础知识的向量数据库id\n",
    ")\n",
    "\n",
    "# Step 3. 将消息追加到 Thread 中\n",
    "message = client.beta.threads.messages.create(\n",
    "  thread_id=thread.id,\n",
    "  role=\"user\",\n",
    "  content=\"摘要一下知识库中的内容\"\n",
    ")\n",
    "\n",
    "# Step 4. 执行 运行， create_and_poll 是`Assistant API`提供的轮询方式，如果使用这种方法，则不需要我们手动轮询监测状态\n",
    "run = client.beta.threads.runs.create_and_poll(\n",
    "    thread_id=thread.id, assistant_id=assistant.id\n",
    ")\n",
    "\n",
    "# Step 5. 等待run运行结束，提取最新的回复\n",
    "messages = list(client.beta.threads.messages.list(thread_id=thread.id, run_id=run.id))\n",
    "\n",
    "message_content = messages[0].content[0].text\n",
    "\n",
    "print(message_content.value)"
   ]
  },
  {
   "cell_type": "markdown",
   "id": "7445b6c0-c7c3-4e37-951f-6cd456499383",
   "metadata": {},
   "source": [
    "&emsp;&emsp;从输出结果上看，当仅在`Thread`对象中指定`File Search`工具并且传递具体的向量数据库`id`时，也可以实现在对话过程中正确的检索相关的文件来回答问题的效果。"
   ]
  },
  {
   "cell_type": "markdown",
   "id": "87b23de6-7ff9-408b-9298-bd41a1ac4da0",
   "metadata": {},
   "source": [
    "- **情况三：在`Assistant`对象与`Thread`对象中均指定`File Search`工具，但是添加不同的向量数据库ID**"
   ]
  },
  {
   "cell_type": "markdown",
   "id": "78a21a52-12a5-440d-baf2-04fa7eab1f50",
   "metadata": {},
   "source": [
    "&emsp;&emsp;在这种情况下，在`Assistant`对象中指定要`File Search`工具，`Thread`对象中同样也进行指定，但是知识库并不是同一个，对话过程中会如何进行检索呢？ 代码如下所示："
   ]
  },
  {
   "cell_type": "code",
   "execution_count": 105,
   "id": "cc33100f-6988-4a7e-9ba6-ae3e821c7079",
   "metadata": {},
   "outputs": [
    {
     "name": "stdout",
     "output_type": "stream",
     "text": [
      "vector_id:vs_ByRujrqB8yUYO2ZwtEH8zA4J - ml_vector_store\n",
      "vector_id:vs_Q2YAwM7TLVJ9yymhiOF7sKws - llms_vector_store_2\n",
      "vector_id:vs_Rx6LH2x4vz2vyBDmoJncqcRj - llms_vector_store\n",
      "vector_id:vs_iZ0Bb7hXEt4ZqXVfjmonj0rD - None\n",
      "vector_id:vs_xG4WKKC081vV7CH6kueOCDH0 - None\n",
      "vector_id:vs_HhM5j4p2KfyQRGZjmxVK0hHa - None\n",
      "vector_id:vs_dCdjgb9C9KbM1Iy7XdetBuZq - None\n",
      "vector_id:vs_C5qF4b1p3JNaHdgTa20qBEw6 - None\n",
      "vector_id:vs_XHzh4cc3Sucl2l2VPwg43YnZ - test_kb_020\n",
      "vector_id:vs_lI6NLqSDJyFC18PDKzLjAoeD - test_kb_010\n"
     ]
    }
   ],
   "source": [
    "vector_stores = client.beta.vector_stores.list()\n",
    "\n",
    "for vector_id in vector_stores.data:\n",
    "    print(f\"vector_id:{vector_id.id} - {vector_id.name}\")"
   ]
  },
  {
   "cell_type": "code",
   "execution_count": 119,
   "id": "47b80e57-7797-4b74-abb9-8cf968048a0d",
   "metadata": {},
   "outputs": [
    {
     "name": "stdout",
     "output_type": "stream",
     "text": [
      "您在知识库中上传了以下文件：\n",
      "\n",
      "1. **《集成学习公开课04~06 GBDT (B站节选版).pdf》**\n",
      "2. **《集成学习公开课03 - AdaBoost（B站节选版）.pdf》**\n",
      "3. **《集成学习公开课01~02 - Bagging与随机森林（B站节选版）.pdf》**\n",
      "4. **《AI Agent开发入门.pdf》**\n",
      "5. **《ChatGLM3模型介绍.pdf》**\n",
      "6. **《01_大模型应用发展及Agent前沿技术趋势.pdf》**\n",
      "\n",
      "如果您需要查看某个文件的具体内容或信息，请告诉我！\n"
     ]
    }
   ],
   "source": [
    "# Step 1. 创建一个新的 assistant 对象实例\n",
    "assistant = client.beta.assistants.create(\n",
    "    name=\"Large language model technical assistant\",   # 大语言模型技术助理\n",
    "    instructions=\"You are a professional large model technician and apply your basic knowledge to answer large model related questions\", # 你是一位专业的大模型技术人员，运用你的基础知识来回答大模型相关的问题\n",
    "    model=\"gpt-4o-mini-2024-07-18\",\n",
    "    tools=[\n",
    "        {\"type\": \"file_search\"}\n",
    "    ],\n",
    "    tool_resources={\"file_search\": {\"vector_store_ids\": [\"vs_Rx6LH2x4vz2vyBDmoJncqcRj\"]}},   # 这里选择存储大模型基础知识的向量数据库id\n",
    ")\n",
    "\n",
    "\n",
    "# Step 2. 创建一个新的 thread 对象实例\n",
    "thread = client.beta.threads.create(\n",
    "    tool_resources={\"file_search\": {\"vector_store_ids\": [\"vs_ByRujrqB8yUYO2ZwtEH8zA4J\"]}},  # 这里选择存储机器学习基础知识的向量数据库id\n",
    ")\n",
    "\n",
    "# Step 3. 将消息追加到 Thread 中\n",
    "message = client.beta.threads.messages.create(\n",
    "  thread_id=thread.id,\n",
    "  role=\"user\",\n",
    "  content=\"请帮我查看一下知识库中都有哪些文件\"\n",
    ")\n",
    "\n",
    "# Step 4. 执行 运行， create_and_poll 是`Assistant API`提供的轮询方式，如果使用这种方法，则不需要我们手动轮询监测状态\n",
    "run = client.beta.threads.runs.create_and_poll(\n",
    "    thread_id=thread.id, assistant_id=assistant.id\n",
    ")\n",
    "\n",
    "# Step 5. 等待run运行结束，提取最新的回复\n",
    "messages = list(client.beta.threads.messages.list(thread_id=thread.id, run_id=run.id))\n",
    "\n",
    "message_content = messages[0].content[0].text\n",
    "\n",
    "print(message_content.value)"
   ]
  },
  {
   "cell_type": "markdown",
   "id": "e14fcd75-363c-42b0-8c98-6776ca3af385",
   "metadata": {},
   "source": [
    "&emsp;&emsp;从结果上，两个知识库的内容均可以识别到。但是根据我们大量的使用经验，当在`Assistant`对象和`Thread`对象中均指定了`File Search`且传入不同的向量数据库`id`时，其稳定性并不是很高。也就是说很多情况下在检索的时候会造成混淆甚至是检索不到任何内容。所以当前还是建议大家慎用这种方法。"
   ]
  },
  {
   "cell_type": "markdown",
   "id": "f2a64c2a-2a09-4f01-a931-bb3322580eb6",
   "metadata": {},
   "source": [
    "- **情况四：将文件作为消息附件追加到的线程中**"
   ]
  },
  {
   "cell_type": "markdown",
   "id": "eb38c72e-3cd5-40b8-8ad1-442931035cd9",
   "metadata": {},
   "source": [
    "&emsp;&emsp;这种情况指的是：如果已经有一个知识库附加到了一个线程上，还可以把一个新的文件再次追加到现有的线程中。这种操作意味着：当我们在此线程上创建 `Run` 时，`File Search`工具将查询向量数据库种的文件，以及临时添加的这个文件种的内容。而其底层的操作是，会把该传入的文件（如果是新文件）创建一个向量数据库id。代码如下所示："
   ]
  },
  {
   "cell_type": "markdown",
   "id": "c28500ac-1e2c-4485-a7dc-46194faa1209",
   "metadata": {},
   "source": [
    "这里进一步测试两点： 1. 如果是更新线程会不会生效   2. file_id 如果传入的是 vs id， 会不会生效 "
   ]
  },
  {
   "cell_type": "code",
   "execution_count": 127,
   "id": "63be8c74-b419-4bf8-91da-862287ba4d54",
   "metadata": {},
   "outputs": [
    {
     "name": "stdout",
     "output_type": "stream",
     "text": [
      "vector_id:vs_ByRujrqB8yUYO2ZwtEH8zA4J - ml_vector_store\n",
      "vector_id:vs_Q2YAwM7TLVJ9yymhiOF7sKws - llms_vector_store_2\n",
      "vector_id:vs_Rx6LH2x4vz2vyBDmoJncqcRj - llms_vector_store\n",
      "vector_id:vs_iZ0Bb7hXEt4ZqXVfjmonj0rD - None\n",
      "vector_id:vs_xG4WKKC081vV7CH6kueOCDH0 - None\n",
      "vector_id:vs_HhM5j4p2KfyQRGZjmxVK0hHa - None\n",
      "vector_id:vs_dCdjgb9C9KbM1Iy7XdetBuZq - None\n",
      "vector_id:vs_C5qF4b1p3JNaHdgTa20qBEw6 - None\n",
      "vector_id:vs_XHzh4cc3Sucl2l2VPwg43YnZ - test_kb_020\n",
      "vector_id:vs_lI6NLqSDJyFC18PDKzLjAoeD - test_kb_010\n"
     ]
    }
   ],
   "source": [
    "vector_stores = client.beta.vector_stores.list()\n",
    "\n",
    "for vector_id in vector_stores.data:\n",
    "    print(f\"vector_id:{vector_id.id} - {vector_id.name}\")"
   ]
  },
  {
   "cell_type": "code",
   "execution_count": 5,
   "id": "940461df-46c9-4964-b3d3-e7e245024a40",
   "metadata": {},
   "outputs": [],
   "source": [
    "message_file = client.files.create(\n",
    "  file=open(\"./data/02_ML/集成学习公开课01~02 - Bagging与随机森林（B站公开课）.pdf\", \"rb\"), purpose=\"assistants\"\n",
    ")"
   ]
  },
  {
   "cell_type": "code",
   "execution_count": 6,
   "id": "8226221d-a032-4d7d-9a63-c156a63c5cd9",
   "metadata": {},
   "outputs": [
    {
     "data": {
      "text/plain": [
       "'file-TYaIxwZnYhqxeWGeJEyOvcT0'"
      ]
     },
     "execution_count": 6,
     "metadata": {},
     "output_type": "execute_result"
    }
   ],
   "source": [
    "message_file.id"
   ]
  },
  {
   "cell_type": "code",
   "execution_count": 19,
   "id": "c63e6ea2-d110-40aa-a54f-70ba024845c6",
   "metadata": {},
   "outputs": [
    {
     "name": "stdout",
     "output_type": "stream",
     "text": [
      "根据您上传的文件内容，可以总结如下：\n",
      "\n",
      "1. **集成学习与随机森林**：集成学习是一种将多个弱分类器结合起来共同解决问题的方法。其中，Bagging（装袋法）用于创建多个随机子集，通过各种分类器的投票或平均结果来提高模型的准确性。随机森林作为集成学习的一个重要应用，通过构建多棵决策树并集成它们的结果，表现出色，具有抗过拟合的能力【4:10†source】。\n",
      "\n",
      "2. **ChatGLM3模型**：ChatGLM3是清华大学智谱AI推出的开源大语言模型，性能接近于OpenAI的GPT-4。它在许多基准测试中性能提升超过30%，推理速度提高2-3倍，且具备多模态能力和代码执行能力。该模型同样支持手机端和较低硬件的部署【4:2†source】【4:18†source】。\n",
      "\n",
      "3. **AI Agent的应用**：AI Agent技术正在成为大语言模型应用的热点，ChatGLM3在此方面经过重大升级，显示出显著提升的能力。这些智能体可以理解人类意图，并能够与外部工具进行协作以完成任务，广泛应用于对话系统和处理复杂问题的场景中【4:3†source】。\n",
      "\n",
      "这个摘要概括了文件的主要内容，包括集成学习的概念及其在随机森林中的应用，ChatGLM3模型的性能与功能，以及AI Agent的应用趋势。如果您需要更详细的信息或特定章节的深入分析，请告诉我！\n"
     ]
    }
   ],
   "source": [
    "# Step 1. 创建一个新的 assistant 对象实例\n",
    "assistant = client.beta.assistants.create(\n",
    "    name=\"Large language model technical assistant\",   # 大语言模型技术助理\n",
    "    instructions=\"You are a professional large model technician and apply your basic knowledge to answer large model related questions\", # 你是一位专业的大模型技术人员，运用你的基础知识来回答大模型相关的问题\n",
    "    model=\"gpt-4o-mini-2024-07-18\",\n",
    "    tools=[\n",
    "        {\"type\": \"file_search\"}\n",
    "    ],\n",
    "    # tool_resources={\"file_search\": {\"vector_store_ids\": [\"vs_lI6NLqSDJyFC18PDKzLjAoeD\"]}},\n",
    ")\n",
    "\n",
    "# Step 2. 创建一个新的 thread 对象实例, 并将消息追加到 Thread 中\n",
    "thread = client.beta.threads.create(\n",
    "    messages=[\n",
    "        {\n",
    "          \"role\": \"user\",\n",
    "          \"content\": \"摘要一下文件的内容\",\n",
    "          # Attach the new file to the message.\n",
    "          \"attachments\": [\n",
    "            { \"file_id\": message_file.id, \"tools\": [{\"type\": \"file_search\"}] }\n",
    "          ],\n",
    "        }\n",
    "      ],\n",
    "    tool_resources={\"file_search\": {\"vector_store_ids\": [\"vs_Rx6LH2x4vz2vyBDmoJncqcRj\"]}},    # 这里选择存储机器学习基础知识的向量数据库id\n",
    ")\n",
    "\n",
    "# Step 3. 执行 运行， create_and_poll 是`Assistant API`提供的轮询方式，如果使用这种方法，则不需要我们手动轮询监测状态\n",
    "run = client.beta.threads.runs.create_and_poll(\n",
    "    thread_id=thread.id, assistant_id=assistant.id\n",
    ")\n",
    "\n",
    "# Step 4. 等待run运行结束，提取最新的回复\n",
    "messages = list(client.beta.threads.messages.list(thread_id=thread.id, run_id=run.id))\n",
    "\n",
    "message_content = messages[0].content[0].text\n",
    "\n",
    "print(message_content.value)"
   ]
  },
  {
   "cell_type": "markdown",
   "id": "ee42598d-7c7b-456a-a024-b8468d74cf62",
   "metadata": {},
   "source": [
    "&emsp;&emsp;从输出结果上看，我们临时追加的`/集成学习公开课01~02 - Bagging与随机森林（B站公开课）.pdf`文件种的内容也能够被检索到。而这种场景，一般用于临时文件的附加功能。"
   ]
  },
  {
   "cell_type": "markdown",
   "id": "044c2565-95e5-4689-b339-e7f298e18f18",
   "metadata": {},
   "source": [
    "&emsp;&emsp;以上就是构建`File Search`工具用于知识库问答的一些应用细节。最后，我们再来看一下关于响应输出的显示问题。"
   ]
  },
  {
   "cell_type": "markdown",
   "id": "d1efa5d6-3262-4ae1-9996-12bf05b1fb24",
   "metadata": {},
   "source": [
    "&emsp;&emsp;在对话/代理流程最终的输出中，会出现`【4:0†source】`等标识。这一部分标识在`Assistant API`的设计中指的是注释，其作用是用来说明检索的来源。注释有两种类型：\n",
    "- **file_citation ：文件引用由file_search工具创建，并定义对助理上传并用于生成响应的特定文件的引用。**\n",
    "- **file_path ：文件路径注释由code_interpreter工具创建，并包含对该工具生成的文件的引用。**"
   ]
  },
  {
   "cell_type": "markdown",
   "id": "6eb5ad0b-0356-4813-ba31-6fe7cf202f22",
   "metadata": {},
   "source": [
    "&emsp;&emsp;其包含在返回响应对象的`content`数组中的`annotations`字段 。可以通过如下代码进行查看："
   ]
  },
  {
   "cell_type": "code",
   "execution_count": 21,
   "id": "5c7aab84-cfb5-41d9-8535-421ef599fe86",
   "metadata": {},
   "outputs": [
    {
     "data": {
      "text/plain": [
       "[FileCitationAnnotation(end_index=179, file_citation=FileCitation(file_id='file-Ys950lH4fo5GoEMlT42m51No'), start_index=166, text='【4:10†source】', type='file_citation'),\n",
       " FileCitationAnnotation(end_index=322, file_citation=FileCitation(file_id='file-qd9jnQQE7v4qJ48fQ8dhgoy0'), start_index=310, text='【4:2†source】', type='file_citation'),\n",
       " FileCitationAnnotation(end_index=335, file_citation=FileCitation(file_id='file-qd9jnQQE7v4qJ48fQ8dhgoy0'), start_index=322, text='【4:18†source】', type='file_citation'),\n",
       " FileCitationAnnotation(end_index=476, file_citation=FileCitation(file_id='file-OdySxtvdUFHhEM7zrDNzxrwS'), start_index=464, text='【4:3†source】', type='file_citation')]"
      ]
     },
     "execution_count": 21,
     "metadata": {},
     "output_type": "execute_result"
    }
   ],
   "source": [
    "annotations = message_content.annotations\n",
    "\n",
    "annotations"
   ]
  },
  {
   "cell_type": "code",
   "execution_count": 23,
   "id": "0d9bafd2-b4a2-4935-bb2f-e85bb709d0dd",
   "metadata": {},
   "outputs": [
    {
     "data": {
      "text/plain": [
       "'根据您上传的文件内容，可以总结如下：\\n\\n1. **集成学习与随机森林**：集成学习是一种将多个弱分类器结合起来共同解决问题的方法。其中，Bagging（装袋法）用于创建多个随机子集，通过各种分类器的投票或平均结果来提高模型的准确性。随机森林作为集成学习的一个重要应用，通过构建多棵决策树并集成它们的结果，表现出色，具有抗过拟合的能力【4:10†source】。\\n\\n2. **ChatGLM3模型**：ChatGLM3是清华大学智谱AI推出的开源大语言模型，性能接近于OpenAI的GPT-4。它在许多基准测试中性能提升超过30%，推理速度提高2-3倍，且具备多模态能力和代码执行能力。该模型同样支持手机端和较低硬件的部署【4:2†source】【4:18†source】。\\n\\n3. **AI Agent的应用**：AI Agent技术正在成为大语言模型应用的热点，ChatGLM3在此方面经过重大升级，显示出显著提升的能力。这些智能体可以理解人类意图，并能够与外部工具进行协作以完成任务，广泛应用于对话系统和处理复杂问题的场景中【4:3†source】。\\n\\n这个摘要概括了文件的主要内容，包括集成学习的概念及其在随机森林中的应用，ChatGLM3模型的性能与功能，以及AI Agent的应用趋势。如果您需要更详细的信息或特定章节的深入分析，请告诉我！'"
      ]
     },
     "execution_count": 23,
     "metadata": {},
     "output_type": "execute_result"
    }
   ],
   "source": [
    "message_text_content = messages[0].content[0].text.value\n",
    "\n",
    "message_text_content"
   ]
  },
  {
   "cell_type": "markdown",
   "id": "4a09b18e-a68d-4fa1-a076-428a6882f86c",
   "metadata": {},
   "source": [
    "&emsp;&emsp;而如果不需要文档标识，也可以直接移除相关代码部分："
   ]
  },
  {
   "cell_type": "code",
   "execution_count": 25,
   "id": "affd041a-a05f-4f3b-a1b2-527b0ffa8ce7",
   "metadata": {},
   "outputs": [
    {
     "name": "stdout",
     "output_type": "stream",
     "text": [
      "根据您上传的文件内容，可以总结如下：\n",
      "\n",
      "1. **集成学习与随机森林**：集成学习是一种将多个弱分类器结合起来共同解决问题的方法。其中，Bagging（装袋法）用于创建多个随机子集，通过各种分类器的投票或平均结果来提高模型的准确性。随机森林作为集成学习的一个重要应用，通过构建多棵决策树并集成它们的结果，表现出色，具有抗过拟合的能力。\n",
      "\n",
      "2. **ChatGLM3模型**：ChatGLM3是清华大学智谱AI推出的开源大语言模型，性能接近于OpenAI的GPT-4。它在许多基准测试中性能提升超过30%，推理速度提高2-3倍，且具备多模态能力和代码执行能力。该模型同样支持手机端和较低硬件的部署。\n",
      "\n",
      "3. **AI Agent的应用**：AI Agent技术正在成为大语言模型应用的热点，ChatGLM3在此方面经过重大升级，显示出显著提升的能力。这些智能体可以理解人类意图，并能够与外部工具进行协作以完成任务，广泛应用于对话系统和处理复杂问题的场景中。\n",
      "\n",
      "这个摘要概括了文件的主要内容，包括集成学习的概念及其在随机森林中的应用，ChatGLM3模型的性能与功能，以及AI Agent的应用趋势。如果您需要更详细的信息或特定章节的深入分析，请告诉我！\n"
     ]
    }
   ],
   "source": [
    "annotations = message_content.annotations\n",
    "\n",
    "# 替换文本中的引用\n",
    "for annotation in annotations:\n",
    "    message_content.value = message_content.value.replace(annotation.text, \"\")\n",
    "\n",
    "# 打印替换后的消息内容\n",
    "print(message_content.value)"
   ]
  },
  {
   "cell_type": "markdown",
   "id": "305b5496-cc87-4880-bd86-9ca557cf64a9",
   "metadata": {},
   "source": [
    "&emsp;&emsp;如果想找到具体的，可以通过如下代码来进行格式化："
   ]
  },
  {
   "cell_type": "code",
   "execution_count": 27,
   "id": "df69f4b7-eb15-4b87-adf0-d6d0104558fa",
   "metadata": {},
   "outputs": [],
   "source": [
    "# 创建一个列表来存储注释，以及用于引用替换的字典\n",
    "annotated_citations = []\n",
    "citation_replacements = {}\n",
    "\n",
    "# 遍历注释，检索文件名并存储详细信息\n",
    "for index, annotation in enumerate(annotations):\n",
    "    annotation_number = index + 1\n",
    "\n",
    "    # 使用文件 ID 检索文件名\n",
    "    file_info = client.files.retrieve(annotation.file_citation.file_id)\n",
    "    file_name = file_info.filename\n",
    "\n",
    "    annotation_details = {\n",
    "        \"number\": annotation_number,\n",
    "        \"text\": f\"[{annotation_number}]\",  # 引用的编号格式\n",
    "        \"file_name\": file_name,  # 文件名\n",
    "        \"start_index\": annotation.start_index,  # 起始索引\n",
    "        \"end_index\": annotation.end_index,  # 结束索引\n",
    "    }\n",
    "    annotated_citations.append(annotation_details)\n",
    "    citation_replacements[annotation.text] = f\"[{annotation_number}]\"  # 将原始文本替换为编号\n",
    "\n",
    "# 用编号标识替换消息文本中的内联引用\n",
    "for original_text, replacement_text in citation_replacements.items():\n",
    "    message_text_content = message_text_content.replace(original_text, replacement_text)"
   ]
  },
  {
   "cell_type": "code",
   "execution_count": 29,
   "id": "fc826f51-87d2-43a4-8c88-4185ae19ca56",
   "metadata": {},
   "outputs": [
    {
     "name": "stdout",
     "output_type": "stream",
     "text": [
      "模型回答：根据您上传的文件内容，可以总结如下：\n",
      "\n",
      "1. **集成学习与随机森林**：集成学习是一种将多个弱分类器结合起来共同解决问题的方法。其中，Bagging（装袋法）用于创建多个随机子集，通过各种分类器的投票或平均结果来提高模型的准确性。随机森林作为集成学习的一个重要应用，通过构建多棵决策树并集成它们的结果，表现出色，具有抗过拟合的能力[1]。\n",
      "\n",
      "2. **ChatGLM3模型**：ChatGLM3是清华大学智谱AI推出的开源大语言模型，性能接近于OpenAI的GPT-4。它在许多基准测试中性能提升超过30%，推理速度提高2-3倍，且具备多模态能力和代码执行能力。该模型同样支持手机端和较低硬件的部署[2][3]。\n",
      "\n",
      "3. **AI Agent的应用**：AI Agent技术正在成为大语言模型应用的热点，ChatGLM3在此方面经过重大升级，显示出显著提升的能力。这些智能体可以理解人类意图，并能够与外部工具进行协作以完成任务，广泛应用于对话系统和处理复杂问题的场景中[4]。\n",
      "\n",
      "这个摘要概括了文件的主要内容，包括集成学习的概念及其在随机森林中的应用，ChatGLM3模型的性能与功能，以及AI Agent的应用趋势。如果您需要更详细的信息或特定章节的深入分析，请告诉我！\n",
      "\n",
      "检索来源：1\n",
      "文件名: 集成学习公开课01~02 - Bagging与随机森林（B站公开课）.pdf\n",
      "字符位置: 166 - 179\n",
      "\n",
      "检索来源：2\n",
      "文件名: ChatGLM3模型介绍.pdf\n",
      "字符位置: 310 - 322\n",
      "\n",
      "检索来源：3\n",
      "文件名: ChatGLM3模型介绍.pdf\n",
      "字符位置: 322 - 335\n",
      "\n",
      "检索来源：4\n",
      "文件名: 01_大模型应用发展及Agent前沿技术趋势.pdf\n",
      "字符位置: 464 - 476\n",
      "\n"
     ]
    }
   ],
   "source": [
    "# 打印消息文本及注释\n",
    "print(f\"模型回答：{message_text_content}\\n\")\n",
    "\n",
    "for annotation in annotated_citations:\n",
    "    print(f\"检索来源：{annotation['number']}\")\n",
    "    print(f\"文件名: {annotation['file_name']}\")\n",
    "    print(f\"字符位置: {annotation['start_index']} - {annotation['end_index']}\\n\")  # 添加空行以分隔每条注释"
   ]
  },
  {
   "cell_type": "markdown",
   "id": "325ea003-4fe1-4ae1-b2ba-97091c850a5e",
   "metadata": {},
   "source": [
    "&emsp;&emsp;而如果想要在展示给用户的时候不返回任何注释标识，则可以通过如下代码进行替换："
   ]
  },
  {
   "cell_type": "code",
   "execution_count": 31,
   "id": "4b11a468-cd1f-4825-aed2-1034e27dc54e",
   "metadata": {},
   "outputs": [
    {
     "name": "stdout",
     "output_type": "stream",
     "text": [
      "根据您上传的文件内容，可以总结如下：\n",
      "\n",
      "1. **集成学习与随机森林**：集成学习是一种将多个弱分类器结合起来共同解决问题的方法。其中，Bagging（装袋法）用于创建多个随机子集，通过各种分类器的投票或平均结果来提高模型的准确性。随机森林作为集成学习的一个重要应用，通过构建多棵决策树并集成它们的结果，表现出色，具有抗过拟合的能力。\n",
      "\n",
      "2. **ChatGLM3模型**：ChatGLM3是清华大学智谱AI推出的开源大语言模型，性能接近于OpenAI的GPT-4。它在许多基准测试中性能提升超过30%，推理速度提高2-3倍，且具备多模态能力和代码执行能力。该模型同样支持手机端和较低硬件的部署。\n",
      "\n",
      "3. **AI Agent的应用**：AI Agent技术正在成为大语言模型应用的热点，ChatGLM3在此方面经过重大升级，显示出显著提升的能力。这些智能体可以理解人类意图，并能够与外部工具进行协作以完成任务，广泛应用于对话系统和处理复杂问题的场景中。\n",
      "\n",
      "这个摘要概括了文件的主要内容，包括集成学习的概念及其在随机森林中的应用，ChatGLM3模型的性能与功能，以及AI Agent的应用趋势。如果您需要更详细的信息或特定章节的深入分析，请告诉我！\n"
     ]
    }
   ],
   "source": [
    "citations = []\n",
    "\n",
    "for index, annotation in enumerate(annotations):\n",
    "    # 替换文本中的引用\n",
    "    message_content.value = message_content.value.replace(annotation.text, f\"[{index}]\")\n",
    "    \n",
    "    # 获取文件引用并存储文件名\n",
    "    if file_citation := getattr(annotation, \"file_citation\", None):\n",
    "        cited_file = client.files.retrieve(file_citation.file_id)\n",
    "        citations.append(f\"[{index}] {cited_file.filename}\")\n",
    "\n",
    "# 打印替换后的消息内容\n",
    "print(message_content.value)"
   ]
  },
  {
   "cell_type": "markdown",
   "id": "742e92af-cd2a-469e-a59d-dcc3c1c7db4c",
   "metadata": {},
   "source": [
    "&emsp;&emsp;除此之外，一个小小的细节是：使用线程创建的向量存储默认过期策略为上次活动后 7 天（定义为向量存储最后一次参与运行），当向量存储过期时，该线程上的运行将失败。要解决此问题，我们只需使用相同的文件重新创建一个新的向量存储并将其重新附加到线程即可。代码示例如下："
   ]
  },
  {
   "cell_type": "markdown",
   "id": "012b1e4c-94f3-46c0-9f13-e60496cf54b5",
   "metadata": {},
   "source": [
    "> 过期策略：https://platform.openai.com/docs/assistants/tools/file-search"
   ]
  },
  {
   "cell_type": "markdown",
   "id": "11210052-92a8-492c-9176-1875d7d5d37f",
   "metadata": {},
   "source": [
    "```python\n",
    "all_files = list(client.beta.vector_stores.files.list(\"vs_expired\"))\n",
    "\n",
    "vector_store = client.beta.vector_stores.create(name=\"rag-store\")\n",
    "client.beta.threads.update(\n",
    "    \"thread_abc123\",\n",
    "    tool_resources={\"file_search\": {\"vector_store_ids\": [vector_store.id]}},\n",
    ")\n",
    "\n",
    "for file_batch in chunked(all_files, 100):\n",
    "    client.beta.vector_stores.file_batches.create_and_poll(\n",
    "        vector_store_id=vector_store.id, file_ids=[file.id for file in file_batch]\n",
    "    )\n",
    "```"
   ]
  },
  {
   "cell_type": "markdown",
   "id": "713f169a-7439-41b4-9d06-f581a9f00b24",
   "metadata": {},
   "source": [
    "&emsp;&emsp;至此，完成上述相关的实践，基本上已经覆盖了`File Search`主要的应用方法和技巧。在使用`File Search`大家一定要明确的是：同一个`Assistant`对象单次最多只能选择一个知识库， 且在运行的时候，最多允许附加一个知识库的信息到线程中。同时我们要说明的是：`File Search`工具用于检索的费用是：每个`Assistant`对象每天 0.20 美元/GB。启用检索工具后，将单个文件 ID 附加到多个助手将产生每个助手每天的费用。例如，如果我们将同一个 1 GB 文件附加到启用了检索工具的两个不同助理（例如，面向客户的助理1和内部员工助理2 ），则需要支付两次存储费 (2 *每天 0.20 美元）。该费用不随从给定助手检索知识的最终用户和线程的数量而变化。"
   ]
  },
  {
   "cell_type": "markdown",
   "id": "ae6c6139-c6c3-432a-84f0-33bd488cfb5d",
   "metadata": {},
   "source": [
    "# 2. Assistant API 的 Code Interpreter"
   ]
  },
  {
   "cell_type": "markdown",
   "id": "3dc5c6a8-e206-4dbe-ad97-462d711c23fe",
   "metadata": {},
   "source": [
    "&emsp;&emsp;当完全掌握了`File Search`后，我们再来学习`code_interpreter`工具就非常轻松了，其构建和应用方法基本和`File Search`保持一致。唯一不同的就是两个工具的应用场景有很大的差别。"
   ]
  },
  {
   "cell_type": "markdown",
   "id": "2dd2d4e5-8f6b-4a9d-803d-cbc1d195bab3",
   "metadata": {},
   "source": [
    "&emsp;&emsp;代码解释器（code_interprete）工具的作用是允许`Assistant`对象在沙盒执行环境中编写和运行 `Python` 代码。该工具可以处理具有不同数据和格式的文件，并生成具有数据和图形图像的文件。主要用于解决具有挑战性的代码和数学问题。同时，当 `Assistant`对象编写的代码无法运行时，它可以通过尝试运行不同的代码来迭代此代码，直到代码执行成功。**通常应用于需要进行数学分析或绘制图表的表格数据，即一些数据分析需求场景**。"
   ]
  },
  {
   "cell_type": "markdown",
   "id": "7849e820-8b16-4036-a92d-f3535e72bab8",
   "metadata": {},
   "source": [
    "&emsp;&emsp;在开始之前，首先要重点和大家说明的是：**代码解释器每次会话收费 0.03 美元。默认情况下，每个会话的有效时间为一小时。即如果我们在同一线程中与代码解释器交互，在一小时的时间内只需支付一个费用。但如果`Assistant`对象在两个不同的线程中同时调用代码解释器，则会创建两个代码解释器会话。**"
   ]
  },
  {
   "cell_type": "markdown",
   "id": "122edab7-2a58-4a5c-9a9b-d46a1d6333f0",
   "metadata": {},
   "source": [
    "&emsp;&emsp;接下来，我们尝试进行实践。首先，还是初始化一个`OpenAI`的客户端示例。代码如下所示："
   ]
  },
  {
   "cell_type": "code",
   "execution_count": 46,
   "id": "feec6b1b-0b4a-4113-918e-caacef562d14",
   "metadata": {},
   "outputs": [],
   "source": [
    "from openai import OpenAI\n",
    "client = OpenAI()"
   ]
  },
  {
   "cell_type": "markdown",
   "id": "b6173f66-cf62-4e15-817a-0f2c66d6c5a6",
   "metadata": {},
   "source": [
    "- **Stage 1. 启用代码解释器**"
   ]
  },
  {
   "cell_type": "markdown",
   "id": "1cb06bc8-e125-4d44-a3e2-09c352599ecd",
   "metadata": {},
   "source": [
    "&emsp;&emsp;与定义`File Search`工具一样，我们需要在 `Assistant` 对象的`tools`参数中传递`code_interpreter`以启用代码解释器。如下代码所示："
   ]
  },
  {
   "cell_type": "code",
   "execution_count": 75,
   "id": "47912a14-06c5-4060-8be9-98084a7bcb2b",
   "metadata": {},
   "outputs": [],
   "source": [
    "assistant = client.beta.assistants.create(\n",
    "    name=\"Data Engineer\",  # 数据分析师\n",
    "    instructions=\"You're a weather data analyst. When asked for data information, write and run code to answer the question\",  # 你是一名气象数据分析师。当被问及数据信息时，编写并运行代码来回答问题  model=\"gpt-4o-mini-2024-07-18\",\n",
    "    tools=[\n",
    "        {\"type\": \"code_interpreter\"}\n",
    "    ],\n",
    "    model=\"gpt-4o-mini-2024-07-18\",\n",
    ")"
   ]
  },
  {
   "cell_type": "markdown",
   "id": "4ec3befc-d443-4452-bba4-5fb705c3b348",
   "metadata": {},
   "source": [
    "&emsp;&emsp;通过上述方式定义后，在会话/代理流程中会根据用户请求的性质决定何时在运行中调用代码解释器。而如果想增强其使用的概率，可以通过在构建`Assistant`对象时在`instructions`中的提示来促进，例如明确说明“编写代码来解决这个问题”。"
   ]
  },
  {
   "cell_type": "markdown",
   "id": "c08c1b2d-dfee-481f-854f-5b13771cd206",
   "metadata": {},
   "source": [
    "- **Stage 2. 创建线程**"
   ]
  },
  {
   "cell_type": "markdown",
   "id": "6d44ceb6-0104-4c80-b374-e46d088d7d2b",
   "metadata": {},
   "source": [
    "&emsp;&emsp;这里需要注意的是：每个线程都会开启一个新的 `Code interpreter`。所以一定要严格控制，否则会生成很大的费用。代码如下："
   ]
  },
  {
   "cell_type": "code",
   "execution_count": 56,
   "id": "2a32b6ae-bcc5-43f6-84cf-36740141cdeb",
   "metadata": {},
   "outputs": [],
   "source": [
    "thread = client.beta.threads.create()"
   ]
  },
  {
   "cell_type": "code",
   "execution_count": 58,
   "id": "48fdf988-24c9-42f6-addb-04ef14a0a7d1",
   "metadata": {},
   "outputs": [
    {
     "data": {
      "text/plain": [
       "'thread_EKpSbWT5fra7zpm3ZhRxSHOH'"
      ]
     },
     "execution_count": 58,
     "metadata": {},
     "output_type": "execute_result"
    }
   ],
   "source": [
    "thread.id"
   ]
  },
  {
   "cell_type": "markdown",
   "id": "0173f228-145e-4407-90fd-548239bd6182",
   "metadata": {},
   "source": [
    "- **Stage 3.将文件传递给代码解释器**"
   ]
  },
  {
   "cell_type": "markdown",
   "id": "53187272-0f3b-49cc-b5ad-7fc550c7ef54",
   "metadata": {},
   "source": [
    "&emsp;&emsp;代码解释器的主要应用场景是用于数据分析，所以该工具一般都会结合某些数据文件进行任务执行。`Code interpreter ` 最多可支持传递20个文件。文件的最大大小为 512 MB，支持包括.csv 、 .pdf 、 .json等多种文件格式。这里我们以单个.csv文件进行测试："
   ]
  },
  {
   "cell_type": "code",
   "execution_count": 62,
   "id": "bda13f77-04e4-4bb4-b70b-e39828edbbd8",
   "metadata": {},
   "outputs": [],
   "source": [
    "file = client.files.create(\n",
    "  file=open(\"./data/weather_data_complex.csv\", \"rb\"),\n",
    "  purpose='assistants'\n",
    ")"
   ]
  },
  {
   "cell_type": "code",
   "execution_count": 64,
   "id": "1700b1be-544c-45f3-9c3f-4d053bba896c",
   "metadata": {},
   "outputs": [
    {
     "data": {
      "text/plain": [
       "'file-F9iIiLEApc6bTmiZfgcOK0Bw'"
      ]
     },
     "execution_count": 64,
     "metadata": {},
     "output_type": "execute_result"
    }
   ],
   "source": [
    "file.id"
   ]
  },
  {
   "cell_type": "code",
   "execution_count": 66,
   "id": "04e2d9e5-15ed-4da9-98ad-3a3d10fe4242",
   "metadata": {},
   "outputs": [
    {
     "data": {
      "text/plain": [
       "'asst_64RJvpP1jtwFLbWOn4OxwGJb'"
      ]
     },
     "execution_count": 66,
     "metadata": {},
     "output_type": "execute_result"
    }
   ],
   "source": [
    "assistant.id"
   ]
  },
  {
   "cell_type": "markdown",
   "id": "a8987ec7-d975-42d1-8ea4-352a8e8a8f53",
   "metadata": {},
   "source": [
    "&emsp;&emsp;这里更新一下`Assistant`对象实例，传递需要执行分析的.csv文件。代码如下："
   ]
  },
  {
   "cell_type": "code",
   "execution_count": 89,
   "id": "0ced90fc-a957-48ab-bc0b-ad6ab683e0b0",
   "metadata": {},
   "outputs": [],
   "source": [
    "# 创建一个使用助手的ID\n",
    "assistant = client.beta.assistants.update(\n",
    "    assistant_id=assistant.id,\n",
    "    name=\"Data Engineer\",  # 数据分析师\n",
    "    instructions=\"You're a weather data analyst. When asked for data information, write and run code to answer the question\",  # 你是一名气象数据分析师。当被问及数据信息时，编写并运行代码来回答问题\n",
    "    model=\"gpt-4o\",\n",
    "    tools=[{\"type\": \"code_interpreter\"}],\n",
    "    tool_resources={\n",
    "        \"code_interpreter\": {\n",
    "            \"file_ids\": [file.id]\n",
    "    }\n",
    "  }\n",
    ")"
   ]
  },
  {
   "cell_type": "markdown",
   "id": "f1871f02-4b4d-40b2-ad38-18142ed04bc7",
   "metadata": {},
   "source": [
    "&emsp;&emsp;这里使用刚才创建的`Thread`对象实例，避免重复付费。"
   ]
  },
  {
   "cell_type": "code",
   "execution_count": 73,
   "id": "889d2f72-dd16-42ae-aa50-5cbf1365cd8c",
   "metadata": {},
   "outputs": [
    {
     "data": {
      "text/plain": [
       "'thread_EKpSbWT5fra7zpm3ZhRxSHOH'"
      ]
     },
     "execution_count": 73,
     "metadata": {},
     "output_type": "execute_result"
    }
   ],
   "source": [
    "thread.id"
   ]
  },
  {
   "cell_type": "code",
   "execution_count": 91,
   "id": "96a4cb86-55db-48cb-8c07-228eef4f65bd",
   "metadata": {},
   "outputs": [
    {
     "name": "stdout",
     "output_type": "stream",
     "text": [
      "Message(id='msg_S5Ytlfh8GFGMCB6potEixHNI', assistant_id=None, attachments=[], completed_at=None, content=[TextContentBlock(text=Text(annotations=[], value='请帮我分析各个城市的实时天气数据，并绘制折线图'), type='text')], created_at=1727417358, incomplete_at=None, incomplete_details=None, metadata={}, object='thread.message', role='user', run_id=None, status=None, thread_id='thread_EKpSbWT5fra7zpm3ZhRxSHOH')\n"
     ]
    }
   ],
   "source": [
    "thread_message = client.beta.threads.messages.create(\n",
    "    thread_id=thread.id,\n",
    "    role=\"user\",\n",
    "    content=\"请帮我分析各个城市的实时天气数据，并绘制折线图\",\n",
    ")\n",
    "print(thread_message)"
   ]
  },
  {
   "cell_type": "markdown",
   "id": "b7dbe336-cfe3-48eb-8624-df89b012a633",
   "metadata": {},
   "source": [
    "- **Stage 4. 创建 Run 运行状态**"
   ]
  },
  {
   "cell_type": "markdown",
   "id": "6817dd8d-3968-4496-808e-6254d25ea998",
   "metadata": {},
   "source": [
    "&emsp;&emsp;开启`Run`状态后，`Assistant`对象将读取`Thread`对象实例，并决定如何最好地回答用户的提示。代码如下所示："
   ]
  },
  {
   "cell_type": "code",
   "execution_count": 93,
   "id": "c456b8c7-8bb7-432d-9f9d-ea56d8fd6e1f",
   "metadata": {},
   "outputs": [],
   "source": [
    "run=client.beta.threads.runs.create(\n",
    "  thread_id=thread.id,\n",
    "  assistant_id=assistant.id\n",
    ")"
   ]
  },
  {
   "cell_type": "markdown",
   "id": "82eb7133-b2b9-493f-8c05-5746d3c440d0",
   "metadata": {},
   "source": [
    "&emsp;&emsp;`Run`开始运行后，同样还是进入`queued`状态，需要一段时间才能完成。这里我们等待几秒钟再获取其最终的结果。"
   ]
  },
  {
   "cell_type": "code",
   "execution_count": 112,
   "id": "b6cd4aad-d5d6-476b-b697-dc3b9068932a",
   "metadata": {},
   "outputs": [],
   "source": [
    "messages = client.beta.threads.messages.list(\n",
    "    thread_id=thread.id\n",
    "    )\n",
    "\n",
    "last_message = messages.data[0]"
   ]
  },
  {
   "cell_type": "code",
   "execution_count": 114,
   "id": "9b2618f1-d55b-4461-932b-9eb1452e0bff",
   "metadata": {},
   "outputs": [
    {
     "data": {
      "text/plain": [
       "{'id': 'msg_m4Zke5wDLKVsB5eh54xSZ8Ts',\n",
       " 'assistant_id': 'asst_S5dB3bbWVIj3b2PraFk431PQ',\n",
       " 'attachments': [],\n",
       " 'content': [{'image_file': {'file_id': 'file-eBclJ2mOnNygdwe3OZkGNLkQ'},\n",
       "   'type': 'image_file'},\n",
       "  {'text': {'annotations': [],\n",
       "    'value': '以上图像显示了各城市的平均温度、湿度和风速：\\n\\n- **左图**：展示了各城市的平均温度（单位：摄氏度）。可以看到一些城市的温度变化较大。\\n- **中图**：展示了各城市的平均湿度（单位：%）。湿度也是各个城市之间差异明显。\\n- **右图**：展示了各城市的平均风速（单位：米/秒）。某些城市的风速有明显的变化。\\n\\n为了更深入地分析天气状况分布，我们还将绘制各个城市的天气情况的分布直方图。'},\n",
       "   'type': 'text'}],\n",
       " 'created_at': 1727417373,\n",
       " 'metadata': {},\n",
       " 'object': 'thread.message',\n",
       " 'role': 'assistant',\n",
       " 'run_id': 'run_RI9oLWYEpdmKEoiQSxi4H8yT',\n",
       " 'thread_id': 'thread_EKpSbWT5fra7zpm3ZhRxSHOH'}"
      ]
     },
     "execution_count": 114,
     "metadata": {},
     "output_type": "execute_result"
    }
   ],
   "source": [
    "last_message.to_dict()"
   ]
  },
  {
   "cell_type": "markdown",
   "id": "375e91ed-7e2f-4261-a39f-ef4f7ee585de",
   "metadata": {},
   "source": [
    "- **Stage 5. 读取代码解释器生成的图像和文件**"
   ]
  },
  {
   "cell_type": "markdown",
   "id": "627a2dca-e619-4da6-8bdf-be102033d9f3",
   "metadata": {},
   "source": [
    "&emsp;&emsp;代码解释器除了能够生成正常的文本以外，在具体的需求下还可以输出文件，例如生成图像图表、CSV 和 PDF。其生成的文件有两种类型：\n",
    "- 图片类型\n",
    "- 数据文件（例如包含助手生成的数据的csv文件）"
   ]
  },
  {
   "cell_type": "markdown",
   "id": "95007121-c5c8-45cd-a68a-f5b1ac5f2320",
   "metadata": {},
   "source": [
    "&emsp;&emsp;当代码解释器生成图像时，我们可以在最终消息响应的`file_id`字段中查找并下载该文件："
   ]
  },
  {
   "cell_type": "code",
   "execution_count": 122,
   "id": "b730526a-34b9-4aa2-b5ea-48b7aeb5cb80",
   "metadata": {},
   "outputs": [
    {
     "data": {
      "text/plain": [
       "'file-eBclJ2mOnNygdwe3OZkGNLkQ'"
      ]
     },
     "execution_count": 122,
     "metadata": {},
     "output_type": "execute_result"
    }
   ],
   "source": [
    "file_id = last_message.content[0].image_file.file_id\n",
    "file_id"
   ]
  },
  {
   "cell_type": "markdown",
   "id": "fca67e66-123c-4d5b-bd44-9f85b0f00d67",
   "metadata": {},
   "source": [
    "> file content:https://platform.openai.com/docs/api-reference/files/retrieve-contents"
   ]
  },
  {
   "cell_type": "markdown",
   "id": "3e9ebc29-8841-45ff-9833-488de5dd3bab",
   "metadata": {},
   "source": [
    "&emsp;&emsp;将图像文件下载至本地环境中，代码如下："
   ]
  },
  {
   "cell_type": "code",
   "execution_count": 125,
   "id": "0a3fb153-8364-496d-a282-132f5c85fbc7",
   "metadata": {},
   "outputs": [],
   "source": [
    "image_data = client.files.content(file_id=file_id)\n",
    "image_data_bytes = image_data.read()\n",
    "\n",
    "with open(\"./my-image.png\", \"wb\") as file:\n",
    "    file.write(image_data_bytes)"
   ]
  },
  {
   "cell_type": "markdown",
   "id": "b0943f9f-b6a1-4a62-a2eb-be163ffe9bfa",
   "metadata": {},
   "source": [
    "&emsp;&emsp;而当代码解释器引用文件路径（例如，“下载此 csv 文件”）时，文件路径将作为注释列出。接下来我们复现出一个可以生成.csv文件的场景，如下代码所示："
   ]
  },
  {
   "cell_type": "code",
   "execution_count": 131,
   "id": "65dbe2b8-95fd-403a-b8b0-1b3f94c2aacd",
   "metadata": {},
   "outputs": [
    {
     "data": {
      "text/plain": [
       "'file-mc4sjZa1GYvaZvXPmqGXCsJb'"
      ]
     },
     "execution_count": 131,
     "metadata": {},
     "output_type": "execute_result"
    }
   ],
   "source": [
    "file = client.files.create(\n",
    "  file=open(\"./data/weather_data_complex.csv\", \"rb\"),\n",
    "  purpose='assistants'\n",
    ")\n",
    "\n",
    "file.id"
   ]
  },
  {
   "cell_type": "code",
   "execution_count": 133,
   "id": "e66d53f7-c242-4bc7-b130-f7f97cc94f38",
   "metadata": {},
   "outputs": [],
   "source": [
    "thread_message = client.beta.threads.messages.create(\n",
    "    thread_id=thread.id,\n",
    "    role=\"user\",\n",
    "    content=\"根据平均温度对城市进行排序，并生成一个新的.csv文件供我下载\",\n",
    "    attachments=[\n",
    "        {\"file_id\": file.id,\n",
    "         \"tools\": [\n",
    "             {\"type\": \"code_interpreter\"}\n",
    "         ]\n",
    "        }\n",
    "      ]\n",
    ")\n",
    "\n",
    "\n",
    "run  = client.beta.threads.runs.create(\n",
    "  thread_id=thread.id,\n",
    "  assistant_id=assistant.id\n",
    ")"
   ]
  },
  {
   "cell_type": "markdown",
   "id": "cebbb735-a491-4aa0-8a78-c1e087984ac1",
   "metadata": {},
   "source": [
    "&emsp;&emsp;`Run`开始运行后，同样还是进入`queued`状态，需要一段时间才能完成。这里我们等待几秒钟再获取其最终的结果。"
   ]
  },
  {
   "cell_type": "code",
   "execution_count": 135,
   "id": "89b95045-7240-44fb-9d90-d2bfb75e41a5",
   "metadata": {},
   "outputs": [
    {
     "name": "stdout",
     "output_type": "stream",
     "text": [
      "我已经根据平均温度对城市进行了排序，并生成了一个新的 CSV 文件。您可以通过以下链接下载该文件：\n",
      "\n",
      "[下载排序后的城市温度数据](sandbox:/mnt/data/sorted_cities_by_temperature.csv)\n",
      "\n",
      "如果您还有其他需要帮忙的地方，请告诉我！\n"
     ]
    }
   ],
   "source": [
    "messages = client.beta.threads.messages.list(\n",
    "    thread_id=thread.id\n",
    "    )\n",
    "\n",
    "last_message = messages.data[0]\n",
    "\n",
    "text = last_message.content[0].text.value\n",
    "print(text)"
   ]
  },
  {
   "cell_type": "code",
   "execution_count": 137,
   "id": "39624fe3-a159-4931-852e-fdeef0429ec3",
   "metadata": {},
   "outputs": [
    {
     "data": {
      "text/plain": [
       "{'id': 'msg_mg2lJ37JfjQo3O1fv1ms45Yv',\n",
       " 'assistant_id': 'asst_S5dB3bbWVIj3b2PraFk431PQ',\n",
       " 'attachments': [{'file_id': 'file-jP424tX28OyoI7DC7SepE6Vy',\n",
       "   'tools': [{'type': 'code_interpreter'}]}],\n",
       " 'content': [{'text': {'annotations': [{'end_index': 116,\n",
       "      'file_path': {'file_id': 'file-jP424tX28OyoI7DC7SepE6Vy'},\n",
       "      'start_index': 66,\n",
       "      'text': 'sandbox:/mnt/data/sorted_cities_by_temperature.csv',\n",
       "      'type': 'file_path'}],\n",
       "    'value': '我已经根据平均温度对城市进行了排序，并生成了一个新的 CSV 文件。您可以通过以下链接下载该文件：\\n\\n[下载排序后的城市温度数据](sandbox:/mnt/data/sorted_cities_by_temperature.csv)\\n\\n如果您还有其他需要帮忙的地方，请告诉我！'},\n",
       "   'type': 'text'}],\n",
       " 'created_at': 1727417840,\n",
       " 'metadata': {},\n",
       " 'object': 'thread.message',\n",
       " 'role': 'assistant',\n",
       " 'run_id': 'run_Zhb7dBcb11Bpaalu1C4uqBYU',\n",
       " 'thread_id': 'thread_EKpSbWT5fra7zpm3ZhRxSHOH'}"
      ]
     },
     "execution_count": 137,
     "metadata": {},
     "output_type": "execute_result"
    }
   ],
   "source": [
    "last_message = messages.data[0]\n",
    "\n",
    "last_message.to_dict()"
   ]
  },
  {
   "cell_type": "markdown",
   "id": "8b523d1e-afba-4546-b8ee-44d9214583f0",
   "metadata": {},
   "source": [
    "&emsp;&emsp;如果想要下载该文件，我们需要提取具体的注释信息，并转换为下载文件的链接，代码如下："
   ]
  },
  {
   "cell_type": "code",
   "execution_count": 140,
   "id": "85166bd9-c4c4-4067-b012-237d65d00561",
   "metadata": {},
   "outputs": [
    {
     "data": {
      "text/plain": [
       "'file-jP424tX28OyoI7DC7SepE6Vy'"
      ]
     },
     "execution_count": 140,
     "metadata": {},
     "output_type": "execute_result"
    }
   ],
   "source": [
    "file_id = last_message.content[0].text.annotations[0].file_path.file_id\n",
    "file_id"
   ]
  },
  {
   "cell_type": "code",
   "execution_count": 142,
   "id": "157be574-f713-47f3-9b2b-4aa1bc6304ca",
   "metadata": {},
   "outputs": [],
   "source": [
    "file_data = client.files.content(file_id)\n",
    "file_data_bytes = file_data.read()\n",
    "with open(\"./sorted_cities_by_temperature.csv\", \"wb\") as file:\n",
    "    file.write(file_data_bytes)"
   ]
  },
  {
   "cell_type": "markdown",
   "id": "66345627-a11d-4f06-9bf1-93f7ff204bc4",
   "metadata": {},
   "source": [
    "&emsp;&emsp;以上就是`Code Interpreter`工具应用的方法，大家在实践构建使用的时候，唯一必须引起重点关注的是不要频繁的构建新`Thread`对象，因为一旦创建新的线程都会产生一次计费。"
   ]
  },
  {
   "cell_type": "markdown",
   "id": "524c6c6b-6d9f-4b34-83c6-c335811df45b",
   "metadata": {},
   "source": [
    "# 3. Assistant API 的 Function Calling"
   ]
  },
  {
   "cell_type": "markdown",
   "id": "972e1478-c7de-487c-9525-7688654982e8",
   "metadata": {},
   "source": [
    "&emsp;&emsp;最后，我们来看`Funcation Calling`。\n",
    "\n",
    "&emsp;&emsp;与`Chat Completions API`类似，`Assistant API` 也支持函数调用。使用的方式就是在`Assistant`对象中添加描述，函数调用允许您向 Assistants API 描述，就可以智能地返回需要调用的函数及其参数。同时需要说明的是：如果使用 2023 年 11 月 6 日或之后发布的最新模型，`Assistant API`可以并行地执行函数调用。"
   ]
  },
  {
   "cell_type": "markdown",
   "id": "d09427b4-3900-4518-a782-75d3b8ce454a",
   "metadata": {},
   "source": [
    "&emsp;&emsp;为了更好的帮助大家理解，同时解决`Code Interpreter`资费较贵的问题，这里我们就用一个本地代码解释器的实现方法作为替代方案来实操`Assistant API`的`Funcation Calling`。我们设计如下场景：用户能够动态执行`Python` 代码和 `SQL` 查询，结合这两个功能，用户可以在一个统一的平台上同时进行数据处理和查询，通过这种方式有效地解决 `Code Interpreter` 资费较高的问题，灵活地实现所需功能。"
   ]
  },
  {
   "cell_type": "markdown",
   "id": "faca6151-0ac4-4023-8839-69d5ac48ef79",
   "metadata": {},
   "source": [
    "- **Stage 1. 定义外部函数**"
   ]
  },
  {
   "cell_type": "markdown",
   "id": "6c679080-6847-49ce-900d-c4217c15d3b2",
   "metadata": {},
   "source": [
    "&emsp;&emsp;首先，我们定义两个外部函数。使用 `python_inter` 函数，用户可以输入任意 `Python` 代码并在指定的全局环境中执行，获取执行结果或新变量。该函数能够处理简单表达式及复杂逻辑，并有效捕获执行错误。同时，用户可以通过 `sql_inter` 函数与 `MySQL` 数据库交互，执行 `SQL` 查询并获取结果。该函数能够处理数据库连接和查询的执行，并将结果以 `JSON` 格式返回，便于后续处理。"
   ]
  },
  {
   "cell_type": "code",
   "execution_count": 1,
   "id": "6f404c5b-a759-4540-86bd-5e781dc6ff51",
   "metadata": {},
   "outputs": [],
   "source": [
    "import json\n",
    "\n",
    "def python_inter(py_code, g=None):\n",
    "    \"\"\"\n",
    "    专门用于执行python代码，并获取最终查询或处理结果。\n",
    "    :param py_code: 字符串形式的Python代码，\n",
    "    :param g: g，字典形式变量，表示环境变量，若未提供则创建一个新的字典\n",
    "    :return：代码运行的最终结果\n",
    "    \"\"\"\n",
    "    # 使用空字典作为默认全局环境\n",
    "    global_vars = {}\n",
    "\n",
    "    try:\n",
    "        # 尝试如果是表达式，则返回表达式运行结果\n",
    "        return str(eval(py_code, global_vars))\n",
    "    except Exception as e:\n",
    "        # 记录执行前的全局变量\n",
    "        global_vars_before = set(global_vars.keys())\n",
    "        try:\n",
    "            exec(py_code, global_vars)\n",
    "        except Exception as e:\n",
    "            return f\"代码执行时报错: {e}\"\n",
    "        # 记录执行后的全局变量，确定新变量\n",
    "        global_vars_after = set(global_vars.keys())\n",
    "        new_vars = global_vars_after - global_vars_before\n",
    "        # 若存在新变量\n",
    "        if new_vars:\n",
    "            result = {var: global_vars[var] for var in new_vars}\n",
    "            return str(result)\n",
    "        else:\n",
    "            return \"已经顺利执行代码\"\n",
    "\n",
    "\n",
    "def sql_inter(sql_query, host, user, password, database, port):\n",
    "    \"\"\"\n",
    "    用于执行一段SQL代码，并最终获取SQL代码执行结果，\n",
    "    核心功能是将输入的SQL代码传输至MySQL环境中进行运行，\n",
    "    并最终返回SQL代码运行结果。需要注意的是，本函数是借助pymysql来连接MySQL数据库。\n",
    "    :param sql_query: 字符串形式的SQL查询语句，用于执行对MySQL中telco_db数据库中各张表进行查询，并获得各表中的各类相关信息\n",
    "    :param host: MySQL服务器的主机名\n",
    "    :param user: MySQL服务器的用户名\n",
    "    :param password: MySQL服务器的密码\n",
    "    :param database: MySQL服务器的数据库名\n",
    "    :param port: MySQL服务器的端口\n",
    "    :param g: g，字符串形式变量，表示环境变量，无需设置，保持默认参数即可\n",
    "    :return：sql_query在MySQL中的运行结果。\n",
    "    \"\"\"\n",
    "    from datetime import datetime\n",
    "\n",
    "    from sqlalchemy import create_engine\n",
    "    from sqlalchemy.orm import sessionmaker\n",
    "    SQLALCHEMY_DATABASE_URI = f\"mysql+pymysql://{user}:{password}@{host}:{port}/{database}?charset=utf8mb4\"\n",
    "    # 创建数据库引擎\n",
    "    engine = create_engine(SQLALCHEMY_DATABASE_URI)\n",
    "    # 创建会话\n",
    "    SessionLocal = sessionmaker(autocommit=False, autoflush=False, bind=engine)\n",
    "    db_session = SessionLocal()\n",
    "\n",
    "    try:\n",
    "        from sqlalchemy import text\n",
    "        # 执行SQL查询\n",
    "        result = db_session.execute(text(sql_query))\n",
    "        results = result.fetchall()\n",
    "\n",
    "        # # 将结果转换为字典列表\n",
    "        keys = result.keys()\n",
    "        results_list = [dict(zip(keys, row)) for row in results]\n",
    "\n",
    "        from decimal import Decimal\n",
    "        \n",
    "        def json_serial(obj):\n",
    "            \"\"\"JSON serializer for objects not serializable by default json code\"\"\"\n",
    "            if isinstance(obj, datetime):\n",
    "                return obj.isoformat()  # 将 datetime 对象转为 ISO 8601 格式的字符串\n",
    "            elif isinstance(obj, Decimal):\n",
    "                return float(obj)  # 将 Decimal 转为 float\n",
    "            raise TypeError(\"Type not serializable\")\n",
    "\n",
    "        # 返回 JSON 格式的查询结果\n",
    "        return json.dumps(results_list, default=json_serial)\n",
    "\n",
    "    finally:\n",
    "        db_session.close()  # 确保关闭会话\n",
    "\n",
    "    # 返回 JSON 格式的查询结果\n",
    "\n",
    "    return \"数据库查询出错\""
   ]
  },
  {
   "cell_type": "markdown",
   "id": "eaacf3b4-890b-4250-a17b-0173befddc80",
   "metadata": {},
   "source": [
    "- **Stage 2. 定义外部函数的JSON Schema表示**"
   ]
  },
  {
   "cell_type": "code",
   "execution_count": 3,
   "id": "4fbfd71c-4c1b-419a-9efe-7b47a73f3d80",
   "metadata": {},
   "outputs": [],
   "source": [
    "python_tool_desc = {\n",
    "    \"type\": \"function\",\n",
    "    \"function\": {\n",
    "        \"name\": \"python_inter\",\n",
    "        \"description\": \"Executes Python code and returns the result or error message.\",\n",
    "        \"parameters\": {\n",
    "            \"type\": \"object\",\n",
    "            \"properties\": {\n",
    "                \"py_code\": {\n",
    "                    \"type\": \"string\",\n",
    "                    \"description\": \"The Python code to execute, passed as a string.\"\n",
    "                },\n",
    "                \"g\": {\n",
    "                    \"type\": \"object\",\n",
    "                    \"description\": \"A dictionary representing the global variables environment. If not provided, a new empty dictionary will be used.\",\n",
    "                    \"default\": {}\n",
    "                }\n",
    "            },\n",
    "            \"required\": [\"py_code\"]\n",
    "        }\n",
    "    }\n",
    "}\n",
    "\n",
    "\n",
    "sql_tool_desc = {\n",
    "    \"type\": \"function\",\n",
    "    \"function\": {\n",
    "        \"name\": \"sql_inter\",\n",
    "        \"description\": \"Executes a SQL query on a MySQL database using pymysql and returns the results.\",\n",
    "        \"parameters\": {\n",
    "            \"type\": \"object\",\n",
    "            \"properties\": {\n",
    "                \"sql_query\": {\n",
    "                    \"type\": \"string\",\n",
    "                    \"description\": \"The SQL query to be executed against the MySQL database.\"\n",
    "                },\n",
    "                \"host\": {\n",
    "                    \"type\": \"string\",\n",
    "                    \"description\": \"The hostname of the MySQL server.\"\n",
    "                },\n",
    "                \"user\": {\n",
    "                    \"type\": \"string\",\n",
    "                    \"description\": \"The username for the MySQL server.\"\n",
    "                },\n",
    "                \"password\": {\n",
    "                    \"type\": \"string\",\n",
    "                    \"description\": \"The password for the MySQL server.\"\n",
    "                },\n",
    "                \"database\": {\n",
    "                    \"type\": \"string\",\n",
    "                    \"description\": \"The name of the database to connect to on the MySQL server.\"\n",
    "                },\n",
    "                \"port\": {\n",
    "                    \"type\": \"integer\",\n",
    "                    \"description\": \"The port number on which the MySQL server is running.\"\n",
    "                }\n",
    "            },\n",
    "            \"required\": [\"sql_query\", \"host\", \"user\", \"password\", \"database\", \"port\"]\n",
    "        },\n",
    "    }\n",
    "}"
   ]
  },
  {
   "cell_type": "code",
   "execution_count": 5,
   "id": "07d0a309-0606-49db-a72a-40407e30a2fd",
   "metadata": {},
   "outputs": [],
   "source": [
    "available_functions = {\n",
    "    \"python_inter\": python_inter,\n",
    "    \"sql_inter\": sql_inter\n",
    "}"
   ]
  },
  {
   "cell_type": "markdown",
   "id": "c8014b21-b9ec-410d-a74d-743c18a9fcc9",
   "metadata": {},
   "source": [
    "- **Stage 3. 定义Assistant对象**"
   ]
  },
  {
   "cell_type": "markdown",
   "id": "14a604b2-2d4f-4576-b2b3-de3a1fa70474",
   "metadata": {},
   "source": [
    "&emsp;&emsp;准备好了外部函数和其对应的Json Schema描述，我们只需要在创建`Assistant`对象时，在`Assistant`对象的的`tools`参数下添加定义。代码如下："
   ]
  },
  {
   "cell_type": "code",
   "execution_count": 9,
   "id": "0572ebf3-12a6-46b0-a925-cac37812d0ac",
   "metadata": {},
   "outputs": [],
   "source": [
    "from openai import OpenAI\n",
    "client = OpenAI()"
   ]
  },
  {
   "cell_type": "code",
   "execution_count": 11,
   "id": "027de748-1076-4e3c-a044-f0f5a74aea24",
   "metadata": {},
   "outputs": [],
   "source": [
    "assistant = client.beta.assistants.create(\n",
    "    name=\"Data Engineer\",  # 数据分析师\n",
    "    instructions=\"You're a senior data analyst. When asked for data information, write and run Python code to answer the question,\\\n",
    "                  The mysql database information you can connect to is: username = 'root', database_name = 'mategen', password = 'snowball950123', hostname = '192.168.110.131'\",  # 你是一位高级数据分析师。当被要求提供数据信息时，编写并运行Python代码来回答这个问题\n",
    "    model = \"gpt-4o-mini-2024-07-18\",\n",
    "    tools = [\n",
    "      python_tool_desc,\n",
    "      sql_tool_desc\n",
    "  ]\n",
    ")"
   ]
  },
  {
   "cell_type": "code",
   "execution_count": 13,
   "id": "2c936208-9bc2-4b7d-81a5-7fb50be3d3f1",
   "metadata": {},
   "outputs": [
    {
     "data": {
      "text/plain": [
       "{'id': 'asst_PAiT2X2YMahK2a1r6oEX1S4w',\n",
       " 'created_at': 1727425135,\n",
       " 'description': None,\n",
       " 'instructions': \"You're a senior data analyst. When asked for data information, write and run Python code to answer the question,                  The mysql database information you can connect to is: username = 'root', database_name = 'mategen', password = 'snowball950123', hostname = '192.168.110.131'\",\n",
       " 'metadata': {},\n",
       " 'model': 'gpt-4o-mini-2024-07-18',\n",
       " 'name': 'Data Engineer',\n",
       " 'object': 'assistant',\n",
       " 'tools': [{'function': {'name': 'python_inter',\n",
       "    'description': 'Executes Python code and returns the result or error message.',\n",
       "    'parameters': {'type': 'object',\n",
       "     'properties': {'py_code': {'type': 'string',\n",
       "       'description': 'The Python code to execute, passed as a string.'},\n",
       "      'g': {'type': 'object',\n",
       "       'description': 'A dictionary representing the global variables environment. If not provided, a new empty dictionary will be used.',\n",
       "       'default': {}}},\n",
       "     'required': ['py_code']},\n",
       "    'strict': False},\n",
       "   'type': 'function'},\n",
       "  {'function': {'name': 'sql_inter',\n",
       "    'description': 'Executes a SQL query on a MySQL database using pymysql and returns the results.',\n",
       "    'parameters': {'type': 'object',\n",
       "     'properties': {'sql_query': {'type': 'string',\n",
       "       'description': 'The SQL query to be executed against the MySQL database.'},\n",
       "      'host': {'type': 'string',\n",
       "       'description': 'The hostname of the MySQL server.'},\n",
       "      'user': {'type': 'string',\n",
       "       'description': 'The username for the MySQL server.'},\n",
       "      'password': {'type': 'string',\n",
       "       'description': 'The password for the MySQL server.'},\n",
       "      'database': {'type': 'string',\n",
       "       'description': 'The name of the database to connect to on the MySQL server.'},\n",
       "      'port': {'type': 'integer',\n",
       "       'description': 'The port number on which the MySQL server is running.'}},\n",
       "     'required': ['sql_query',\n",
       "      'host',\n",
       "      'user',\n",
       "      'password',\n",
       "      'database',\n",
       "      'port']},\n",
       "    'strict': False},\n",
       "   'type': 'function'}],\n",
       " 'response_format': 'auto',\n",
       " 'temperature': 1.0,\n",
       " 'tool_resources': {},\n",
       " 'top_p': 1.0}"
      ]
     },
     "execution_count": 13,
     "metadata": {},
     "output_type": "execute_result"
    }
   ],
   "source": [
    "assistant.to_dict()"
   ]
  },
  {
   "cell_type": "markdown",
   "id": "69e1f52c-84ec-4a4b-8130-10a4201a5f1a",
   "metadata": {},
   "source": [
    "- **Stage 4. 创建`Thread`并添加消息**"
   ]
  },
  {
   "cell_type": "code",
   "execution_count": 15,
   "id": "63b374af-56b4-4767-b794-d3d2c4f8d47f",
   "metadata": {},
   "outputs": [],
   "source": [
    "thread = client.beta.threads.create()\n",
    "message = client.beta.threads.messages.create(\n",
    "  thread_id=thread.id,\n",
    "  role=\"user\",\n",
    "  content=\"请问 100 * 200 - 30 等于多少。\",\n",
    ")"
   ]
  },
  {
   "cell_type": "markdown",
   "id": "1e5aba1c-1c54-4a44-b269-d713400cdd0c",
   "metadata": {},
   "source": [
    "- **Stage 5. 开始运行**"
   ]
  },
  {
   "cell_type": "code",
   "execution_count": 17,
   "id": "c71a2c46-2679-4e92-a91f-c720582f791d",
   "metadata": {
    "scrolled": true
   },
   "outputs": [],
   "source": [
    "run = client.beta.threads.runs.create_and_poll(\n",
    "  thread_id=thread.id,\n",
    "  assistant_id=assistant.id,\n",
    ")"
   ]
  },
  {
   "cell_type": "markdown",
   "id": "d5c8b99a-8b59-45ac-a2eb-28139ef83d91",
   "metadata": {},
   "source": [
    "&emsp;&emsp;`Run`开始运行后，同样还是进入`queued`状态，需要一段时间才能完成。这里我们等待几秒钟再获取其最终的结果。"
   ]
  },
  {
   "cell_type": "code",
   "execution_count": 19,
   "id": "fbfd3e90-fc04-47c3-bd8e-6a60910a44a0",
   "metadata": {},
   "outputs": [
    {
     "data": {
      "text/plain": [
       "{'id': 'run_NWnLtGkptjKwTnecr9i636aN',\n",
       " 'assistant_id': 'asst_PAiT2X2YMahK2a1r6oEX1S4w',\n",
       " 'cancelled_at': None,\n",
       " 'completed_at': None,\n",
       " 'created_at': 1727425164,\n",
       " 'expires_at': 1727425764,\n",
       " 'failed_at': None,\n",
       " 'incomplete_details': None,\n",
       " 'instructions': \"You're a senior data analyst. When asked for data information, write and run Python code to answer the question,                  The mysql database information you can connect to is: username = 'root', database_name = 'mategen', password = 'snowball950123', hostname = '192.168.110.131'\",\n",
       " 'last_error': None,\n",
       " 'max_completion_tokens': None,\n",
       " 'max_prompt_tokens': None,\n",
       " 'metadata': {},\n",
       " 'model': 'gpt-4o-mini-2024-07-18',\n",
       " 'object': 'thread.run',\n",
       " 'parallel_tool_calls': True,\n",
       " 'required_action': {'submit_tool_outputs': {'tool_calls': [{'id': 'call_g6bYzq8t9AHp2iTxGCAvlEBJ',\n",
       "     'function': {'arguments': '{\"py_code\":\"100 * 200 - 30\"}',\n",
       "      'name': 'python_inter'},\n",
       "     'type': 'function'}]},\n",
       "  'type': 'submit_tool_outputs'},\n",
       " 'response_format': 'auto',\n",
       " 'started_at': 1727425164,\n",
       " 'status': 'requires_action',\n",
       " 'thread_id': 'thread_Xe9Tvjq0dPvKSA4wrVCqMq88',\n",
       " 'tool_choice': 'auto',\n",
       " 'tools': [{'function': {'name': 'python_inter',\n",
       "    'description': 'Executes Python code and returns the result or error message.',\n",
       "    'parameters': {'type': 'object',\n",
       "     'properties': {'py_code': {'type': 'string',\n",
       "       'description': 'The Python code to execute, passed as a string.'},\n",
       "      'g': {'type': 'object',\n",
       "       'description': 'A dictionary representing the global variables environment. If not provided, a new empty dictionary will be used.',\n",
       "       'default': {}}},\n",
       "     'required': ['py_code']},\n",
       "    'strict': False},\n",
       "   'type': 'function'},\n",
       "  {'function': {'name': 'sql_inter',\n",
       "    'description': 'Executes a SQL query on a MySQL database using pymysql and returns the results.',\n",
       "    'parameters': {'type': 'object',\n",
       "     'properties': {'sql_query': {'type': 'string',\n",
       "       'description': 'The SQL query to be executed against the MySQL database.'},\n",
       "      'host': {'type': 'string',\n",
       "       'description': 'The hostname of the MySQL server.'},\n",
       "      'user': {'type': 'string',\n",
       "       'description': 'The username for the MySQL server.'},\n",
       "      'password': {'type': 'string',\n",
       "       'description': 'The password for the MySQL server.'},\n",
       "      'database': {'type': 'string',\n",
       "       'description': 'The name of the database to connect to on the MySQL server.'},\n",
       "      'port': {'type': 'integer',\n",
       "       'description': 'The port number on which the MySQL server is running.'}},\n",
       "     'required': ['sql_query',\n",
       "      'host',\n",
       "      'user',\n",
       "      'password',\n",
       "      'database',\n",
       "      'port']},\n",
       "    'strict': False},\n",
       "   'type': 'function'}],\n",
       " 'truncation_strategy': {'type': 'auto', 'last_messages': None},\n",
       " 'usage': None,\n",
       " 'temperature': 1.0,\n",
       " 'top_p': 1.0,\n",
       " 'tool_resources': {}}"
      ]
     },
     "execution_count": 19,
     "metadata": {},
     "output_type": "execute_result"
    }
   ],
   "source": [
    "run.to_dict()"
   ]
  },
  {
   "cell_type": "markdown",
   "id": "42567779-0982-4893-a820-6e25efc69045",
   "metadata": {},
   "source": [
    "&emsp;&emsp;当用户的提问触发函数调用功能时，`Run`会进入`requires_action`状态，表示需要调用函数，代码如下："
   ]
  },
  {
   "cell_type": "code",
   "execution_count": 21,
   "id": "415e6a3e-04ee-479f-8a74-5136ee834467",
   "metadata": {},
   "outputs": [
    {
     "name": "stdout",
     "output_type": "stream",
     "text": [
      "requires_action\n"
     ]
    }
   ],
   "source": [
    "if run.status == 'completed':\n",
    "  messages = client.beta.threads.messages.list(\n",
    "    thread_id=thread.id\n",
    "  )\n",
    "  print(messages)\n",
    "else:\n",
    "  print(run.status)"
   ]
  },
  {
   "cell_type": "markdown",
   "id": "ce643359-106d-4462-bda9-c4f8eac97391",
   "metadata": {},
   "source": [
    "<div align=center><img src=\"https://muyu001.oss-cn-beijing.aliyuncs.com/img/2503.png\" width=100%></div>"
   ]
  },
  {
   "cell_type": "markdown",
   "id": "a0e8bb9d-bff0-4932-9a7d-48fb29c61512",
   "metadata": {},
   "source": [
    "&emsp;&emsp;这个过程指的是：当我们在包含触发一个或多个函数的用户消息的线程上启动运行时，该运行将进入pending状态。**在这个阶段需要做的是：运行工具并将其输出提交给助手以继续运行执行。同时，运行在创建十分钟后就会过期。y意味着我们必须在 10 分钟之前提交工具输出。**"
   ]
  },
  {
   "cell_type": "markdown",
   "id": "003b60c6-0e34-45fe-a4b1-030fddddf2f0",
   "metadata": {},
   "source": [
    "> \"Pending\" 是一个表示状态的术语，通常指某个操作或任务尚未完成，正在等待进一步的处理或结果。"
   ]
  },
  {
   "cell_type": "code",
   "execution_count": 23,
   "id": "85ddf752-791c-41c5-8ea9-ac103e005fe4",
   "metadata": {},
   "outputs": [
    {
     "data": {
      "text/plain": [
       "'python_inter'"
      ]
     },
     "execution_count": 23,
     "metadata": {},
     "output_type": "execute_result"
    }
   ],
   "source": [
    "run.required_action.submit_tool_outputs.tool_calls[0].function.name"
   ]
  },
  {
   "cell_type": "code",
   "execution_count": 25,
   "id": "e37f2dd8-d925-4e2c-bd23-9ecb9e56f8ba",
   "metadata": {},
   "outputs": [
    {
     "data": {
      "text/plain": [
       "'{\"py_code\":\"100 * 200 - 30\"}'"
      ]
     },
     "execution_count": 25,
     "metadata": {},
     "output_type": "execute_result"
    }
   ],
   "source": [
    "run.required_action.submit_tool_outputs.tool_calls[0].function.arguments"
   ]
  },
  {
   "cell_type": "code",
   "execution_count": 27,
   "id": "f7741451-da0a-4287-b011-24be39712b60",
   "metadata": {},
   "outputs": [
    {
     "data": {
      "text/plain": [
       "'call_g6bYzq8t9AHp2iTxGCAvlEBJ'"
      ]
     },
     "execution_count": 27,
     "metadata": {},
     "output_type": "execute_result"
    }
   ],
   "source": [
    "run.required_action.submit_tool_outputs.tool_calls[0].id"
   ]
  },
  {
   "cell_type": "code",
   "execution_count": 29,
   "id": "e81ea7cd-d2e5-4aae-bbf2-4ba24cbcd236",
   "metadata": {},
   "outputs": [
    {
     "data": {
      "text/plain": [
       "[RequiredActionFunctionToolCall(id='call_g6bYzq8t9AHp2iTxGCAvlEBJ', function=Function(arguments='{\"py_code\":\"100 * 200 - 30\"}', name='python_inter'), type='function')]"
      ]
     },
     "execution_count": 29,
     "metadata": {},
     "output_type": "execute_result"
    }
   ],
   "source": [
    "run.required_action.submit_tool_outputs.tool_calls"
   ]
  },
  {
   "cell_type": "markdown",
   "id": "af1f71c9-7824-4d62-8b08-dd9b2dd71857",
   "metadata": {},
   "source": [
    "&emsp;&emsp;这里我们定义`function_to_call`函数实现这个过程。具体来说：`function_to_call`的作用是调用一个指定的功能并返回其输出，代码如下："
   ]
  },
  {
   "cell_type": "code",
   "execution_count": 31,
   "id": "6d7b1f82-bd36-46b3-bbaa-1c567dcecb19",
   "metadata": {},
   "outputs": [],
   "source": [
    "def function_to_call(run, available_functions):\n",
    "    \n",
    "    tool_outputs = []\n",
    "\n",
    "    tool_call = run.required_action.submit_tool_outputs.tool_calls[0]\n",
    "\n",
    "    arguments = json.loads(tool_call.function.arguments)\n",
    "    tool_outputs.append({\n",
    "        \"tool_call_id\": tool_call.id,\n",
    "        \"output\": available_functions[tool_call.function.name](**arguments)\n",
    "    })\n",
    "\n",
    "    return tool_outputs"
   ]
  },
  {
   "cell_type": "code",
   "execution_count": 33,
   "id": "ec009f7e-ae05-423f-b077-0fa189d067b4",
   "metadata": {},
   "outputs": [
    {
     "data": {
      "text/plain": [
       "[{'tool_call_id': 'call_g6bYzq8t9AHp2iTxGCAvlEBJ', 'output': '19970'}]"
      ]
     },
     "execution_count": 33,
     "metadata": {},
     "output_type": "execute_result"
    }
   ],
   "source": [
    "tool_outputs = function_to_call(run, available_functions)\n",
    "\n",
    "tool_outputs"
   ]
  },
  {
   "cell_type": "markdown",
   "id": "e20a84de-3c45-4355-80be-26eca717afa6",
   "metadata": {},
   "source": [
    "&emsp;&emsp;接下来要做的事情是：把工具的执行结果，回传给 `Run`。 这里就需要借助`client.beta.threads.runs.submit_tool_outputs()`方法，它支持在工具调用全部完成后提交输出。"
   ]
  },
  {
   "cell_type": "markdown",
   "id": "c0b3238c-c12b-498d-be55-8311ceb5ccb6",
   "metadata": {},
   "source": [
    "> Submit tool outputs to run：https://platform.openai.com/docs/api-reference/runs/submitToolOutputs"
   ]
  },
  {
   "cell_type": "code",
   "execution_count": 36,
   "id": "68f0b56b-9286-4447-8f34-9144096a566c",
   "metadata": {},
   "outputs": [
    {
     "name": "stdout",
     "output_type": "stream",
     "text": [
      "Tool outputs submitted successfully.\n"
     ]
    }
   ],
   "source": [
    "if tool_outputs:\n",
    "  try:\n",
    "    run = client.beta.threads.runs.submit_tool_outputs_and_poll(\n",
    "      thread_id=thread.id,\n",
    "      run_id=run.id,\n",
    "      tool_outputs=tool_outputs\n",
    "    )\n",
    "    print(\"Tool outputs submitted successfully.\")\n",
    "  except Exception as e:\n",
    "    print(\"Failed to submit tool outputs:\", e)\n",
    "else:\n",
    "  print(\"No tool outputs to submit.\")"
   ]
  },
  {
   "cell_type": "markdown",
   "id": "2cc32a21-76e1-4638-8a21-95d67e9c651d",
   "metadata": {},
   "source": [
    "&emsp;&emsp;提交完成后，我们只需要耐心的等待`Run`的继续执行即可。"
   ]
  },
  {
   "cell_type": "code",
   "execution_count": 38,
   "id": "c7af2640-c321-4372-a485-d07185aac366",
   "metadata": {},
   "outputs": [
    {
     "name": "stdout",
     "output_type": "stream",
     "text": [
      "100 * 200 - 30 等于 19970。\n"
     ]
    }
   ],
   "source": [
    "if run.status == 'completed':\n",
    "  messages = client.beta.threads.messages.list(\n",
    "    thread_id=thread.id\n",
    "  )\n",
    "  print(messages.data[0].content[0].text.value)\n",
    "else:\n",
    "  print(run.status)"
   ]
  },
  {
   "cell_type": "markdown",
   "id": "69e8586c-2b56-4464-8d35-7c9b3f652673",
   "metadata": {},
   "source": [
    "&emsp;&emsp;从结果上看已经正常的执行了`python_inter`工具并返回了最终的结果。接下来我们可以测试第二个工具的使用情况。这里我们会用到本地的`Mysql`数据库。"
   ]
  },
  {
   "cell_type": "markdown",
   "id": "c9c486b1-fa23-4c69-a0ea-c25bb71f3c3b",
   "metadata": {},
   "source": [
    "> 关于Mysql的安装和使用方法，可查看如下两个课件：\n",
    "> 1. 大模型技术实战正课：《Ch 16.2（上） 热门AI应用开发实战二：定制化SQL代码解释器》 - 三、SQL代码解释器的基本开发流程\n",
    "> 2. RAG企业项目实战课：Week 2-1 - 4.1 Ubuntu系统安装Mysql"
   ]
  },
  {
   "cell_type": "code",
   "execution_count": 47,
   "id": "9db2b764-20f8-42c6-bbd3-930d944cd294",
   "metadata": {},
   "outputs": [],
   "source": [
    "# ! pip install sqlalchemy pymysql"
   ]
  },
  {
   "cell_type": "code",
   "execution_count": 45,
   "id": "21cc7dd6-22f1-4a04-8290-924a1847cd69",
   "metadata": {},
   "outputs": [],
   "source": [
    "thread = client.beta.threads.create()\n",
    "\n",
    "message = client.beta.threads.messages.create(\n",
    "  thread_id=thread.id,\n",
    "  role=\"user\",\n",
    "  content=\"帮我查询一下我的数据库中都有哪些表\",\n",
    ")"
   ]
  },
  {
   "cell_type": "code",
   "execution_count": 49,
   "id": "8d484db9-cb22-4525-85bb-843641b0134f",
   "metadata": {},
   "outputs": [],
   "source": [
    "run = client.beta.threads.runs.create_and_poll(\n",
    "  thread_id=thread.id,\n",
    "  assistant_id=assistant.id,\n",
    ")"
   ]
  },
  {
   "cell_type": "code",
   "execution_count": 51,
   "id": "8c3e5985-2c6c-44ab-9520-026c64563e0b",
   "metadata": {},
   "outputs": [
    {
     "name": "stdout",
     "output_type": "stream",
     "text": [
      "requires_action\n"
     ]
    }
   ],
   "source": [
    "if run.status == 'completed':\n",
    "  messages = client.beta.threads.messages.list(\n",
    "    thread_id=thread.id\n",
    "  )\n",
    "  print(messages)\n",
    "else:\n",
    "  print(run.status)"
   ]
  },
  {
   "cell_type": "code",
   "execution_count": 53,
   "id": "b8e4047b-0d06-4564-a66d-c9c93011043e",
   "metadata": {},
   "outputs": [
    {
     "data": {
      "text/plain": [
       "{'id': 'run_azhcPNnlVusXIo0lPYu8O7PC',\n",
       " 'assistant_id': 'asst_PAiT2X2YMahK2a1r6oEX1S4w',\n",
       " 'cancelled_at': None,\n",
       " 'completed_at': None,\n",
       " 'created_at': 1727425493,\n",
       " 'expires_at': 1727426093,\n",
       " 'failed_at': None,\n",
       " 'incomplete_details': None,\n",
       " 'instructions': \"You're a senior data analyst. When asked for data information, write and run Python code to answer the question,                  The mysql database information you can connect to is: username = 'root', database_name = 'mategen', password = 'snowball950123', hostname = '192.168.110.131'\",\n",
       " 'last_error': None,\n",
       " 'max_completion_tokens': None,\n",
       " 'max_prompt_tokens': None,\n",
       " 'metadata': {},\n",
       " 'model': 'gpt-4o-mini-2024-07-18',\n",
       " 'object': 'thread.run',\n",
       " 'parallel_tool_calls': True,\n",
       " 'required_action': {'submit_tool_outputs': {'tool_calls': [{'id': 'call_1bDjnphkrfzBRySWP1ScrEL0',\n",
       "     'function': {'arguments': '{\"sql_query\":\"SHOW TABLES;\",\"host\":\"192.168.110.131\",\"user\":\"root\",\"password\":\"snowball950123\",\"database\":\"mategen\",\"port\":3306}',\n",
       "      'name': 'sql_inter'},\n",
       "     'type': 'function'}]},\n",
       "  'type': 'submit_tool_outputs'},\n",
       " 'response_format': 'auto',\n",
       " 'started_at': 1727425494,\n",
       " 'status': 'requires_action',\n",
       " 'thread_id': 'thread_6P2uyhuTxZhGewUgtuEmMXaE',\n",
       " 'tool_choice': 'auto',\n",
       " 'tools': [{'function': {'name': 'python_inter',\n",
       "    'description': 'Executes Python code and returns the result or error message.',\n",
       "    'parameters': {'type': 'object',\n",
       "     'properties': {'py_code': {'type': 'string',\n",
       "       'description': 'The Python code to execute, passed as a string.'},\n",
       "      'g': {'type': 'object',\n",
       "       'description': 'A dictionary representing the global variables environment. If not provided, a new empty dictionary will be used.',\n",
       "       'default': {}}},\n",
       "     'required': ['py_code']},\n",
       "    'strict': False},\n",
       "   'type': 'function'},\n",
       "  {'function': {'name': 'sql_inter',\n",
       "    'description': 'Executes a SQL query on a MySQL database using pymysql and returns the results.',\n",
       "    'parameters': {'type': 'object',\n",
       "     'properties': {'sql_query': {'type': 'string',\n",
       "       'description': 'The SQL query to be executed against the MySQL database.'},\n",
       "      'host': {'type': 'string',\n",
       "       'description': 'The hostname of the MySQL server.'},\n",
       "      'user': {'type': 'string',\n",
       "       'description': 'The username for the MySQL server.'},\n",
       "      'password': {'type': 'string',\n",
       "       'description': 'The password for the MySQL server.'},\n",
       "      'database': {'type': 'string',\n",
       "       'description': 'The name of the database to connect to on the MySQL server.'},\n",
       "      'port': {'type': 'integer',\n",
       "       'description': 'The port number on which the MySQL server is running.'}},\n",
       "     'required': ['sql_query',\n",
       "      'host',\n",
       "      'user',\n",
       "      'password',\n",
       "      'database',\n",
       "      'port']},\n",
       "    'strict': False},\n",
       "   'type': 'function'}],\n",
       " 'truncation_strategy': {'type': 'auto', 'last_messages': None},\n",
       " 'usage': None,\n",
       " 'temperature': 1.0,\n",
       " 'top_p': 1.0,\n",
       " 'tool_resources': {}}"
      ]
     },
     "execution_count": 53,
     "metadata": {},
     "output_type": "execute_result"
    }
   ],
   "source": [
    "run.to_dict()"
   ]
  },
  {
   "cell_type": "code",
   "execution_count": 55,
   "id": "7da70ba6-8dac-4769-a30e-31fd4636864e",
   "metadata": {},
   "outputs": [
    {
     "data": {
      "text/plain": [
       "[{'tool_call_id': 'call_1bDjnphkrfzBRySWP1ScrEL0',\n",
       "  'output': '[{\"Tables_in_mategen\": \"agents\"}, {\"Tables_in_mategen\": \"db_configs\"}, {\"Tables_in_mategen\": \"employees\"}, {\"Tables_in_mategen\": \"file_info\"}, {\"Tables_in_mategen\": \"knowledge_bases\"}, {\"Tables_in_mategen\": \"messages\"}, {\"Tables_in_mategen\": \"threads\"}]'}]"
      ]
     },
     "execution_count": 55,
     "metadata": {},
     "output_type": "execute_result"
    }
   ],
   "source": [
    "tool_outputs = function_to_call(run, available_functions)\n",
    "\n",
    "tool_outputs"
   ]
  },
  {
   "cell_type": "code",
   "execution_count": 57,
   "id": "96fea616-bd43-40bd-83a2-819d201409be",
   "metadata": {},
   "outputs": [
    {
     "name": "stdout",
     "output_type": "stream",
     "text": [
      "Tool outputs submitted successfully.\n"
     ]
    }
   ],
   "source": [
    "if tool_outputs:\n",
    "  try:\n",
    "    run = client.beta.threads.runs.submit_tool_outputs_and_poll(\n",
    "      thread_id=thread.id,\n",
    "      run_id=run.id,\n",
    "      tool_outputs=tool_outputs\n",
    "    )\n",
    "    print(\"Tool outputs submitted successfully.\")\n",
    "  except Exception as e:\n",
    "    print(\"Failed to submit tool outputs:\", e)\n",
    "else:\n",
    "  print(\"No tool outputs to submit.\")"
   ]
  },
  {
   "cell_type": "code",
   "execution_count": 59,
   "id": "4f1bcd59-c506-4bb6-859c-3767d7607836",
   "metadata": {},
   "outputs": [
    {
     "name": "stdout",
     "output_type": "stream",
     "text": [
      "你的数据库中有以下表：\n",
      "\n",
      "1. agents\n",
      "2. db_configs\n",
      "3. employees\n",
      "4. file_info\n",
      "5. knowledge_bases\n",
      "6. messages\n",
      "7. threads\n"
     ]
    }
   ],
   "source": [
    "if run.status == 'completed':\n",
    "  messages = client.beta.threads.messages.list(\n",
    "    thread_id=thread.id\n",
    "  )\n",
    "  print(messages.data[0].content[0].text.value)\n",
    "else:\n",
    "  print(run.status)"
   ]
  },
  {
   "cell_type": "markdown",
   "id": "2248a695-9a5b-4834-a70d-33503772be50",
   "metadata": {},
   "source": [
    "&emsp;&emsp;最后，还可以测试更复杂的应用需求，这里我们的提问如下所示："
   ]
  },
  {
   "cell_type": "code",
   "execution_count": 61,
   "id": "6a55935a-d6bd-4534-8e43-262ad37385c5",
   "metadata": {},
   "outputs": [],
   "source": [
    "assistant = client.beta.assistants.create(\n",
    "    name=\"Data Engineer\",  # 数据分析师\n",
    "    instructions=\"You're a senior data analyst. When asked for data information, write and run Python code to answer the question,\\\n",
    "                  The mysql database information you can connect to is: username = 'root', database_name = 'mategen', password = 'snowball950123', hostname = '192.168.110.131'\",  # 你是一位高级数据分析师。当被要求提供数据信息时，编写并运行Python代码来回答这个问题\n",
    "    model = \"gpt-4o-mini-2024-07-18\",\n",
    "    tools = [\n",
    "      python_tool_desc,\n",
    "      sql_tool_desc\n",
    "  ]\n",
    ")\n",
    "\n",
    "thread = client.beta.threads.create()\n",
    "\n",
    "message = client.beta.threads.messages.create(\n",
    "  thread_id=thread.id,\n",
    "  role=\"user\",\n",
    "  content=\"帮我查询 employees 表中的内容，计算所有的人的工资总和，然后与 9 * 9 的结果进行相加，返回最终的结果。\",\n",
    ")"
   ]
  },
  {
   "cell_type": "code",
   "execution_count": 63,
   "id": "4ef6ecac-2314-4512-b47d-2bfa924776db",
   "metadata": {},
   "outputs": [],
   "source": [
    "run = client.beta.threads.runs.create_and_poll(\n",
    "  thread_id=thread.id,\n",
    "  assistant_id=assistant.id,\n",
    ")"
   ]
  },
  {
   "cell_type": "code",
   "execution_count": 65,
   "id": "42cc4239-7e68-421c-a701-f4529ccad582",
   "metadata": {},
   "outputs": [
    {
     "name": "stdout",
     "output_type": "stream",
     "text": [
      "requires_action\n"
     ]
    }
   ],
   "source": [
    "if run.status == 'completed':\n",
    "  messages = client.beta.threads.messages.list(\n",
    "    thread_id=thread.id\n",
    "  )\n",
    "  print(messages)\n",
    "else:\n",
    "  print(run.status)"
   ]
  },
  {
   "cell_type": "markdown",
   "id": "9843d39a-47ea-46fc-98f7-a25b36938a8b",
   "metadata": {},
   "source": [
    "&emsp;&emsp;这里注意：并行函数调用场景并不是百分之百触发，大家再自己实践时，可通过尝试不同的提问和需求来进行场景复现。"
   ]
  },
  {
   "cell_type": "code",
   "execution_count": 67,
   "id": "fc959e91-971a-49a4-bbb5-cac93ee62a42",
   "metadata": {},
   "outputs": [
    {
     "data": {
      "text/plain": [
       "{'id': 'run_OgYsaWAPflHRfE8lRTeUVh1H',\n",
       " 'assistant_id': 'asst_wNRV7kZ2zKoKSdZRpm5p09J1',\n",
       " 'cancelled_at': None,\n",
       " 'completed_at': None,\n",
       " 'created_at': 1727425610,\n",
       " 'expires_at': 1727426210,\n",
       " 'failed_at': None,\n",
       " 'incomplete_details': None,\n",
       " 'instructions': \"You're a senior data analyst. When asked for data information, write and run Python code to answer the question,                  The mysql database information you can connect to is: username = 'root', database_name = 'mategen', password = 'snowball950123', hostname = '192.168.110.131'\",\n",
       " 'last_error': None,\n",
       " 'max_completion_tokens': None,\n",
       " 'max_prompt_tokens': None,\n",
       " 'metadata': {},\n",
       " 'model': 'gpt-4o-mini-2024-07-18',\n",
       " 'object': 'thread.run',\n",
       " 'parallel_tool_calls': True,\n",
       " 'required_action': {'submit_tool_outputs': {'tool_calls': [{'id': 'call_LqMkPR6A9KmJ9mLveIweC62A',\n",
       "     'function': {'arguments': '{\"sql_query\": \"SELECT SUM(salary) AS total_salary FROM employees;\", \"host\": \"192.168.110.131\", \"user\": \"root\", \"password\": \"snowball950123\", \"database\": \"mategen\", \"port\": 3306}',\n",
       "      'name': 'sql_inter'},\n",
       "     'type': 'function'},\n",
       "    {'id': 'call_l89JUPaXCi8nTfThymgEUx7m',\n",
       "     'function': {'arguments': '{\"py_code\": \"result = 9 * 9; result\"}',\n",
       "      'name': 'python_inter'},\n",
       "     'type': 'function'}]},\n",
       "  'type': 'submit_tool_outputs'},\n",
       " 'response_format': 'auto',\n",
       " 'started_at': 1727425611,\n",
       " 'status': 'requires_action',\n",
       " 'thread_id': 'thread_eBLcEufrhnR0oowVmOOTgwky',\n",
       " 'tool_choice': 'auto',\n",
       " 'tools': [{'function': {'name': 'python_inter',\n",
       "    'description': 'Executes Python code and returns the result or error message.',\n",
       "    'parameters': {'type': 'object',\n",
       "     'properties': {'py_code': {'type': 'string',\n",
       "       'description': 'The Python code to execute, passed as a string.'},\n",
       "      'g': {'type': 'object',\n",
       "       'description': 'A dictionary representing the global variables environment. If not provided, a new empty dictionary will be used.',\n",
       "       'default': {}}},\n",
       "     'required': ['py_code']},\n",
       "    'strict': False},\n",
       "   'type': 'function'},\n",
       "  {'function': {'name': 'sql_inter',\n",
       "    'description': 'Executes a SQL query on a MySQL database using pymysql and returns the results.',\n",
       "    'parameters': {'type': 'object',\n",
       "     'properties': {'sql_query': {'type': 'string',\n",
       "       'description': 'The SQL query to be executed against the MySQL database.'},\n",
       "      'host': {'type': 'string',\n",
       "       'description': 'The hostname of the MySQL server.'},\n",
       "      'user': {'type': 'string',\n",
       "       'description': 'The username for the MySQL server.'},\n",
       "      'password': {'type': 'string',\n",
       "       'description': 'The password for the MySQL server.'},\n",
       "      'database': {'type': 'string',\n",
       "       'description': 'The name of the database to connect to on the MySQL server.'},\n",
       "      'port': {'type': 'integer',\n",
       "       'description': 'The port number on which the MySQL server is running.'}},\n",
       "     'required': ['sql_query',\n",
       "      'host',\n",
       "      'user',\n",
       "      'password',\n",
       "      'database',\n",
       "      'port']},\n",
       "    'strict': False},\n",
       "   'type': 'function'}],\n",
       " 'truncation_strategy': {'type': 'auto', 'last_messages': None},\n",
       " 'usage': None,\n",
       " 'temperature': 1.0,\n",
       " 'top_p': 1.0,\n",
       " 'tool_resources': {}}"
      ]
     },
     "execution_count": 67,
     "metadata": {},
     "output_type": "execute_result"
    }
   ],
   "source": [
    "run.to_dict()"
   ]
  },
  {
   "cell_type": "markdown",
   "id": "698f4a9e-1100-4fb2-8256-e914f76103e8",
   "metadata": {},
   "source": [
    "&emsp;&emsp;如果在`required_action`中看到两个`tool_calls` ，表明用户触发了并行函数调用。"
   ]
  },
  {
   "cell_type": "code",
   "execution_count": 69,
   "id": "d55d9a66-d8d9-481b-9a5e-e16c226e2823",
   "metadata": {},
   "outputs": [
    {
     "data": {
      "text/plain": [
       "[RequiredActionFunctionToolCall(id='call_LqMkPR6A9KmJ9mLveIweC62A', function=Function(arguments='{\"sql_query\": \"SELECT SUM(salary) AS total_salary FROM employees;\", \"host\": \"192.168.110.131\", \"user\": \"root\", \"password\": \"snowball950123\", \"database\": \"mategen\", \"port\": 3306}', name='sql_inter'), type='function'),\n",
       " RequiredActionFunctionToolCall(id='call_l89JUPaXCi8nTfThymgEUx7m', function=Function(arguments='{\"py_code\": \"result = 9 * 9; result\"}', name='python_inter'), type='function')]"
      ]
     },
     "execution_count": 69,
     "metadata": {},
     "output_type": "execute_result"
    }
   ],
   "source": [
    "run.required_action.submit_tool_outputs.tool_calls"
   ]
  },
  {
   "cell_type": "markdown",
   "id": "df7a6c62-bf75-49e9-97ba-6b4583689569",
   "metadata": {},
   "source": [
    "&emsp;&emsp;而当需要同时处理多个函数调用的时候，我们需要对`function_to_call`函数稍微进行一下优化。代码如下所示："
   ]
  },
  {
   "cell_type": "code",
   "execution_count": 72,
   "id": "80af082f-d263-4ce5-9d40-a1beb7a418ac",
   "metadata": {},
   "outputs": [],
   "source": [
    "def function_to_call(run, available_functions):\n",
    "    \n",
    "    tool_outputs = []\n",
    "\n",
    "    for tool_call in run.required_action.submit_tool_outputs.tool_calls:\n",
    "        function_name = tool_call.function.name\n",
    "        function_args = tool_call.function.arguments\n",
    "        # 处理多次子调用的情况\n",
    "        if function_name == 'multi_tool_use.parallel':\n",
    "            tool_uses = json.loads(function_args).get('tool_uses', [])\n",
    "            for tool_use in tool_uses:\n",
    "   \n",
    "                recipient_name = tool_use.get('recipient_name').split('.')[-1]\n",
    "                parameters = tool_use.get('parameters')\n",
    "    \n",
    "                tool_outputs.append({\n",
    "                    \"tool_call_id\": tool_call.id,\n",
    "                    \"output\": available_functions[recipient_name](**parameters)\n",
    "                })\n",
    "\n",
    "        # 处理单个外部函数调用的情况\n",
    "        else:\n",
    "            arguments = json.loads(tool_call.function.arguments)\n",
    "            tool_outputs.append({\n",
    "                \"tool_call_id\": tool_call.id,\n",
    "                \"output\": available_functions[tool_call.function.name](**arguments)\n",
    "            })\n",
    "\n",
    "    return tool_outputs"
   ]
  },
  {
   "cell_type": "code",
   "execution_count": 74,
   "id": "df20a9ba-fea4-4995-bb55-f47e646e2d5c",
   "metadata": {},
   "outputs": [
    {
     "data": {
      "text/plain": [
       "[{'tool_call_id': 'call_LqMkPR6A9KmJ9mLveIweC62A',\n",
       "  'output': '[{\"total_salary\": 225000.0}]'},\n",
       " {'tool_call_id': 'call_l89JUPaXCi8nTfThymgEUx7m', 'output': \"{'result': 81}\"}]"
      ]
     },
     "execution_count": 74,
     "metadata": {},
     "output_type": "execute_result"
    }
   ],
   "source": [
    "tool_outputs = function_to_call(run, available_functions)\n",
    "\n",
    "tool_outputs"
   ]
  },
  {
   "cell_type": "code",
   "execution_count": 76,
   "id": "92fb3360-f181-46c7-aa39-1fa7fdbeb3f3",
   "metadata": {},
   "outputs": [
    {
     "name": "stdout",
     "output_type": "stream",
     "text": [
      "Tool outputs submitted successfully.\n"
     ]
    }
   ],
   "source": [
    "if tool_outputs:\n",
    "  try:\n",
    "    run = client.beta.threads.runs.submit_tool_outputs_and_poll(\n",
    "      thread_id=thread.id,\n",
    "      run_id=run.id,\n",
    "      tool_outputs=tool_outputs\n",
    "    )\n",
    "    print(\"Tool outputs submitted successfully.\")\n",
    "  except Exception as e:\n",
    "    print(\"Failed to submit tool outputs:\", e)\n",
    "else:\n",
    "  print(\"No tool outputs to submit.\")"
   ]
  },
  {
   "cell_type": "code",
   "execution_count": 78,
   "id": "dddc7c83-fb7b-4967-978e-93b269bfb947",
   "metadata": {},
   "outputs": [
    {
     "name": "stdout",
     "output_type": "stream",
     "text": [
      "requires_action\n"
     ]
    }
   ],
   "source": [
    "if run.status == 'completed':\n",
    "  messages = client.beta.threads.messages.list(\n",
    "    thread_id=thread.id\n",
    "  )\n",
    "  print(messages.data[0].content[0].text.value)\n",
    "else:\n",
    "  print(run.status)"
   ]
  },
  {
   "cell_type": "code",
   "execution_count": 80,
   "id": "87d1b080-c134-4210-9a6e-3df3df5e3f91",
   "metadata": {},
   "outputs": [
    {
     "data": {
      "text/plain": [
       "{'id': 'run_OgYsaWAPflHRfE8lRTeUVh1H',\n",
       " 'assistant_id': 'asst_wNRV7kZ2zKoKSdZRpm5p09J1',\n",
       " 'cancelled_at': None,\n",
       " 'completed_at': None,\n",
       " 'created_at': 1727425610,\n",
       " 'expires_at': 1727426210,\n",
       " 'failed_at': None,\n",
       " 'incomplete_details': None,\n",
       " 'instructions': \"You're a senior data analyst. When asked for data information, write and run Python code to answer the question,                  The mysql database information you can connect to is: username = 'root', database_name = 'mategen', password = 'snowball950123', hostname = '192.168.110.131'\",\n",
       " 'last_error': None,\n",
       " 'max_completion_tokens': None,\n",
       " 'max_prompt_tokens': None,\n",
       " 'metadata': {},\n",
       " 'model': 'gpt-4o-mini-2024-07-18',\n",
       " 'object': 'thread.run',\n",
       " 'parallel_tool_calls': True,\n",
       " 'required_action': {'submit_tool_outputs': {'tool_calls': [{'id': 'call_7CEQcSLlFeHqljwhVbE6QT4i',\n",
       "     'function': {'arguments': '{\"py_code\":\"total_salary = 225000.0\\\\nadditional_value = 81\\\\nfinal_result = total_salary + additional_value\\\\nfinal_result\"}',\n",
       "      'name': 'python_inter'},\n",
       "     'type': 'function'}]},\n",
       "  'type': 'submit_tool_outputs'},\n",
       " 'response_format': 'auto',\n",
       " 'started_at': 1727425717,\n",
       " 'status': 'requires_action',\n",
       " 'thread_id': 'thread_eBLcEufrhnR0oowVmOOTgwky',\n",
       " 'tool_choice': 'auto',\n",
       " 'tools': [{'function': {'name': 'python_inter',\n",
       "    'description': 'Executes Python code and returns the result or error message.',\n",
       "    'parameters': {'type': 'object',\n",
       "     'properties': {'py_code': {'type': 'string',\n",
       "       'description': 'The Python code to execute, passed as a string.'},\n",
       "      'g': {'type': 'object',\n",
       "       'description': 'A dictionary representing the global variables environment. If not provided, a new empty dictionary will be used.',\n",
       "       'default': {}}},\n",
       "     'required': ['py_code']},\n",
       "    'strict': False},\n",
       "   'type': 'function'},\n",
       "  {'function': {'name': 'sql_inter',\n",
       "    'description': 'Executes a SQL query on a MySQL database using pymysql and returns the results.',\n",
       "    'parameters': {'type': 'object',\n",
       "     'properties': {'sql_query': {'type': 'string',\n",
       "       'description': 'The SQL query to be executed against the MySQL database.'},\n",
       "      'host': {'type': 'string',\n",
       "       'description': 'The hostname of the MySQL server.'},\n",
       "      'user': {'type': 'string',\n",
       "       'description': 'The username for the MySQL server.'},\n",
       "      'password': {'type': 'string',\n",
       "       'description': 'The password for the MySQL server.'},\n",
       "      'database': {'type': 'string',\n",
       "       'description': 'The name of the database to connect to on the MySQL server.'},\n",
       "      'port': {'type': 'integer',\n",
       "       'description': 'The port number on which the MySQL server is running.'}},\n",
       "     'required': ['sql_query',\n",
       "      'host',\n",
       "      'user',\n",
       "      'password',\n",
       "      'database',\n",
       "      'port']},\n",
       "    'strict': False},\n",
       "   'type': 'function'}],\n",
       " 'truncation_strategy': {'type': 'auto', 'last_messages': None},\n",
       " 'usage': None,\n",
       " 'temperature': 1.0,\n",
       " 'top_p': 1.0,\n",
       " 'tool_resources': {}}"
      ]
     },
     "execution_count": 80,
     "metadata": {},
     "output_type": "execute_result"
    }
   ],
   "source": [
    "run.to_dict()"
   ]
  },
  {
   "cell_type": "code",
   "execution_count": 82,
   "id": "08484824-01a1-4865-852f-1848367f8079",
   "metadata": {},
   "outputs": [
    {
     "data": {
      "text/plain": [
       "[{'tool_call_id': 'call_7CEQcSLlFeHqljwhVbE6QT4i',\n",
       "  'output': \"{'additional_value': 81, 'total_salary': 225000.0, 'final_result': 225081.0}\"}]"
      ]
     },
     "execution_count": 82,
     "metadata": {},
     "output_type": "execute_result"
    }
   ],
   "source": [
    "tool_outputs = function_to_call(run, available_functions)\n",
    "\n",
    "tool_outputs"
   ]
  },
  {
   "cell_type": "code",
   "execution_count": 84,
   "id": "211bf923-2100-42be-8400-810960109301",
   "metadata": {},
   "outputs": [
    {
     "name": "stdout",
     "output_type": "stream",
     "text": [
      "Tool outputs submitted successfully.\n"
     ]
    }
   ],
   "source": [
    "if tool_outputs:\n",
    "  try:\n",
    "    run = client.beta.threads.runs.submit_tool_outputs_and_poll(\n",
    "      thread_id=thread.id,\n",
    "      run_id=run.id,\n",
    "      tool_outputs=tool_outputs\n",
    "    )\n",
    "    print(\"Tool outputs submitted successfully.\")\n",
    "  except Exception as e:\n",
    "    print(\"Failed to submit tool outputs:\", e)\n",
    "else:\n",
    "  print(\"No tool outputs to submit.\")"
   ]
  },
  {
   "cell_type": "code",
   "execution_count": 86,
   "id": "f9c37325-1e48-4e32-ba1f-a6c6c90df3b5",
   "metadata": {},
   "outputs": [
    {
     "name": "stdout",
     "output_type": "stream",
     "text": [
      "根据查询，`employees` 表中所有人的工资总和为 **225000.0**。将此总和与 \\(9 \\times 9\\) 的结果相加，得到的最终结果为 **225081.0**。\n"
     ]
    }
   ],
   "source": [
    "if run.status == 'completed':\n",
    "  messages = client.beta.threads.messages.list(\n",
    "    thread_id=thread.id\n",
    "  )\n",
    "  print(messages.data[0].content[0].text.value)\n",
    "else:\n",
    "  print(run.status)"
   ]
  },
  {
   "cell_type": "markdown",
   "id": "9e0517ba-c332-4f16-ab36-264b2d98669a",
   "metadata": {},
   "source": [
    "&emsp;&emsp;所有的中间处理过程都可以通过`runs.steps.list()`方法查看到具体的执行过程，代码如下所示："
   ]
  },
  {
   "cell_type": "code",
   "execution_count": 88,
   "id": "ccc82d89-eead-416d-b86f-d9626f5e00b0",
   "metadata": {},
   "outputs": [],
   "source": [
    "run_steps = client.beta.threads.runs.steps.list(\n",
    "  thread_id=thread.id,\n",
    "  run_id=run.id\n",
    ")"
   ]
  },
  {
   "cell_type": "code",
   "execution_count": 90,
   "id": "60e1ac2f-b19e-4802-8565-3cdda16aaf29",
   "metadata": {},
   "outputs": [
    {
     "data": {
      "text/plain": [
       "{'data': [{'id': 'step_qtv7G4qc1K7x2SW4sxmUnRFu',\n",
       "   'assistant_id': 'asst_wNRV7kZ2zKoKSdZRpm5p09J1',\n",
       "   'cancelled_at': None,\n",
       "   'completed_at': 1727425737,\n",
       "   'created_at': 1727425737,\n",
       "   'failed_at': None,\n",
       "   'last_error': None,\n",
       "   'object': 'thread.run.step',\n",
       "   'run_id': 'run_OgYsaWAPflHRfE8lRTeUVh1H',\n",
       "   'status': 'completed',\n",
       "   'step_details': {'message_creation': {'message_id': 'msg_WVbxZo7cXV9V4WNPAEYOY9EZ'},\n",
       "    'type': 'message_creation'},\n",
       "   'thread_id': 'thread_eBLcEufrhnR0oowVmOOTgwky',\n",
       "   'type': 'message_creation',\n",
       "   'usage': {'completion_tokens': 53,\n",
       "    'prompt_tokens': 689,\n",
       "    'total_tokens': 742},\n",
       "   'expires_at': None},\n",
       "  {'id': 'step_SssZPFU5GKPBsblYj7xdl58d',\n",
       "   'assistant_id': 'asst_wNRV7kZ2zKoKSdZRpm5p09J1',\n",
       "   'cancelled_at': None,\n",
       "   'completed_at': 1727425736,\n",
       "   'created_at': 1727425718,\n",
       "   'failed_at': None,\n",
       "   'last_error': None,\n",
       "   'object': 'thread.run.step',\n",
       "   'run_id': 'run_OgYsaWAPflHRfE8lRTeUVh1H',\n",
       "   'status': 'completed',\n",
       "   'step_details': {'tool_calls': [{'id': 'call_7CEQcSLlFeHqljwhVbE6QT4i',\n",
       "      'function': {'arguments': '{\"py_code\":\"total_salary = 225000.0\\\\nadditional_value = 81\\\\nfinal_result = total_salary + additional_value\\\\nfinal_result\"}',\n",
       "       'name': 'python_inter',\n",
       "       'output': \"{'additional_value': 81, 'total_salary': 225000.0, 'final_result': 225081.0}\"},\n",
       "      'type': 'function'}],\n",
       "    'type': 'tool_calls'},\n",
       "   'thread_id': 'thread_eBLcEufrhnR0oowVmOOTgwky',\n",
       "   'type': 'tool_calls',\n",
       "   'usage': {'completion_tokens': 41,\n",
       "    'prompt_tokens': 613,\n",
       "    'total_tokens': 654},\n",
       "   'expires_at': None},\n",
       "  {'id': 'step_p9chygaFneGEpOlWqgkYH7vQ',\n",
       "   'assistant_id': 'asst_wNRV7kZ2zKoKSdZRpm5p09J1',\n",
       "   'cancelled_at': None,\n",
       "   'completed_at': 1727425716,\n",
       "   'created_at': 1727425612,\n",
       "   'failed_at': None,\n",
       "   'last_error': None,\n",
       "   'object': 'thread.run.step',\n",
       "   'run_id': 'run_OgYsaWAPflHRfE8lRTeUVh1H',\n",
       "   'status': 'completed',\n",
       "   'step_details': {'tool_calls': [{'id': 'call_LqMkPR6A9KmJ9mLveIweC62A',\n",
       "      'function': {'arguments': '{\"sql_query\": \"SELECT SUM(salary) AS total_salary FROM employees;\", \"host\": \"192.168.110.131\", \"user\": \"root\", \"password\": \"snowball950123\", \"database\": \"mategen\", \"port\": 3306}',\n",
       "       'name': 'sql_inter',\n",
       "       'output': '[{\"total_salary\": 225000.0}]'},\n",
       "      'type': 'function'},\n",
       "     {'id': 'call_l89JUPaXCi8nTfThymgEUx7m',\n",
       "      'function': {'arguments': '{\"py_code\": \"result = 9 * 9; result\"}',\n",
       "       'name': 'python_inter',\n",
       "       'output': \"{'result': 81}\"},\n",
       "      'type': 'function'}],\n",
       "    'type': 'tool_calls'},\n",
       "   'thread_id': 'thread_eBLcEufrhnR0oowVmOOTgwky',\n",
       "   'type': 'tool_calls',\n",
       "   'usage': {'completion_tokens': 97,\n",
       "    'prompt_tokens': 488,\n",
       "    'total_tokens': 585},\n",
       "   'expires_at': None}],\n",
       " 'object': 'list',\n",
       " 'first_id': 'step_qtv7G4qc1K7x2SW4sxmUnRFu',\n",
       " 'last_id': 'step_p9chygaFneGEpOlWqgkYH7vQ',\n",
       " 'has_more': False}"
      ]
     },
     "execution_count": 90,
     "metadata": {},
     "output_type": "execute_result"
    }
   ],
   "source": [
    "run_steps.to_dict()"
   ]
  },
  {
   "cell_type": "markdown",
   "id": "3a4fc1b0-7450-4a6c-95a3-7246ef39f7b3",
   "metadata": {},
   "source": [
    "&emsp;&emsp;而关于这段代码，其处理的是并行函数子调用的逻辑：\n",
    "\n",
    "```python\n",
    "        if function_name == 'multi_tool_use.parallel':\n",
    "            tool_uses = json.loads(function_args).get('tool_uses', [])\n",
    "            for tool_use in tool_uses:\n",
    "   \n",
    "                recipient_name = tool_use.get('recipient_name').split('.')[-1]\n",
    "                parameters = tool_use.get('parameters')\n",
    "    \n",
    "                tool_outputs.append({\n",
    "                    \"tool_call_id\": tool_call.id,\n",
    "                    \"output\": available_functions[recipient_name](**parameters)\n",
    "                })\n",
    "```"
   ]
  },
  {
   "cell_type": "markdown",
   "id": "695b7777-59c3-47a5-8d4e-99771b852890",
   "metadata": {},
   "source": [
    "&emsp;&emsp;即有可能出现这样的输出："
   ]
  },
  {
   "cell_type": "code",
   "execution_count": 643,
   "id": "aa450abf",
   "metadata": {},
   "outputs": [
    {
     "data": {
      "text/plain": [
       "{'id': 'run_eRVe8IoebpH6pU3xnCu90sJi',\n",
       " 'assistant_id': 'asst_2iQknTZem75PMwbMfDU1pjy8',\n",
       " 'cancelled_at': None,\n",
       " 'completed_at': None,\n",
       " 'created_at': 1727349545,\n",
       " 'expires_at': 1727350145,\n",
       " 'failed_at': None,\n",
       " 'incomplete_details': None,\n",
       " 'instructions': \"You're a senior data analyst. When asked for data information, write and run Python code to answer the question,                  The mysql database information you can connect to is: username = 'root', database_name = 'mategen', password = 'snowball950123', hostname = '192.168.110.131'\",\n",
       " 'last_error': None,\n",
       " 'max_completion_tokens': None,\n",
       " 'max_prompt_tokens': None,\n",
       " 'metadata': {},\n",
       " 'model': 'gpt-4-1106-preview',\n",
       " 'object': 'thread.run',\n",
       " 'parallel_tool_calls': True,\n",
       " 'required_action': {'submit_tool_outputs': {'tool_calls': [{'id': 'call_EpRseNH73uHSmJhsZ1FPGeL9',\n",
       "     'function': {'arguments': '{\\n  \"tool_uses\": [\\n    {\\n      \"recipient_name\": \"functions.python_inter\",\\n      \"parameters\": {\\n        \"py_code\": \"sql_query = \\'SHOW TABLES;\\'\"\\n      }\\n    }\\n  ]\\n}',\n",
       "      'name': 'multi_tool_use.parallel'},\n",
       "     'type': 'function'}]},\n",
       "  'type': 'submit_tool_outputs'},\n",
       " 'response_format': 'auto',\n",
       " 'started_at': 1727349546,\n",
       " 'status': 'requires_action',\n",
       " 'thread_id': 'thread_ZRX6JfI9b68QFWjwznMPovSb',\n",
       " 'tool_choice': 'auto',\n",
       " 'tools': [{'function': {'name': 'python_inter',\n",
       "    'description': 'Executes Python code and returns the result or error message.',\n",
       "    'parameters': {'type': 'object',\n",
       "     'properties': {'py_code': {'type': 'string',\n",
       "       'description': 'The Python code to execute, passed as a string.'},\n",
       "      'g': {'type': 'object',\n",
       "       'description': 'A dictionary representing the global variables environment. If not provided, a new empty dictionary will be used.',\n",
       "       'default': {}}},\n",
       "     'required': ['py_code']},\n",
       "    'strict': False},\n",
       "   'type': 'function'},\n",
       "  {'function': {'name': 'sql_inter',\n",
       "    'description': 'Executes a SQL query on a MySQL database using pymysql and returns the results.',\n",
       "    'parameters': {'type': 'object',\n",
       "     'properties': {'sql_query': {'type': 'string',\n",
       "       'description': 'The SQL query to be executed against the MySQL database.'},\n",
       "      'host': {'type': 'string',\n",
       "       'description': 'The hostname of the MySQL server.'},\n",
       "      'user': {'type': 'string',\n",
       "       'description': 'The username for the MySQL server.'},\n",
       "      'password': {'type': 'string',\n",
       "       'description': 'The password for the MySQL server.'},\n",
       "      'database': {'type': 'string',\n",
       "       'description': 'The name of the database to connect to on the MySQL server.'},\n",
       "      'port': {'type': 'integer',\n",
       "       'description': 'The port number on which the MySQL server is running.'}},\n",
       "     'required': ['sql_query',\n",
       "      'host',\n",
       "      'user',\n",
       "      'password',\n",
       "      'database',\n",
       "      'port']},\n",
       "    'strict': False},\n",
       "   'type': 'function'}],\n",
       " 'truncation_strategy': {'type': 'auto', 'last_messages': None},\n",
       " 'usage': None,\n",
       " 'temperature': 1.0,\n",
       " 'top_p': 1.0,\n",
       " 'tool_resources': {}}"
      ]
     },
     "execution_count": 643,
     "metadata": {},
     "output_type": "execute_result"
    }
   ],
   "source": [
    "run.to_dict()"
   ]
  },
  {
   "cell_type": "markdown",
   "id": "6359b2a5-7ab3-4c36-87a1-dd459973d24f",
   "metadata": {},
   "source": [
    "&emsp;&emsp;以上内容是 `Assistant API` 的第一部分进阶知识，重点介绍了外部工具和函数的应用机制及使用技巧。而另外一个重要的知识点：流式功能。我们在下一节课再进行详细介绍。同时会通过实战案例展示如何高效结合代码解释器、文件搜索以及自定义函数，以实现更复杂、更智能的智能体流程。"
   ]
  }
 ],
 "metadata": {
  "kernelspec": {
   "display_name": "agent",
   "language": "python",
   "name": "agent"
  },
  "language_info": {
   "codemirror_mode": {
    "name": "ipython",
    "version": 3
   },
   "file_extension": ".py",
   "mimetype": "text/x-python",
   "name": "python",
   "nbconvert_exporter": "python",
   "pygments_lexer": "ipython3",
   "version": "3.11.0"
  }
 },
 "nbformat": 4,
 "nbformat_minor": 5
}
