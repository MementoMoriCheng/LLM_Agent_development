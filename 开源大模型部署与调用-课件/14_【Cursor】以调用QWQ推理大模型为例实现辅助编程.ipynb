{
 "cells": [
  {
   "cell_type": "markdown",
   "id": "82a16f99-92e2-4e7f-b9a7-e135b94fbddc",
   "metadata": {},
   "source": [
    "# Cursor调用推理大模型 QWQ 实现辅助编程--\n",
    "\n",
    "# 本地部署与线上API调用全流程"
   ]
  },
  {
   "cell_type": "markdown",
   "id": "7e45214e-83d5-457e-8e44-11c753618c75",
   "metadata": {},
   "source": [
    "> 前言：Cursor 作为备受好评的智能编程平台，支持多种主流模型实现高效的编程辅助功能。本节内容将为大家详细介绍如何使用 Cursor 调用本地启动的模型或在线模型 API 的方法，帮助实现高效代码开发。"
   ]
  },
  {
   "cell_type": "markdown",
   "id": "f3dd7c09-c4af-4f29-af61-8d5a571a35b7",
   "metadata": {},
   "source": [
    "目录：<br>\n",
    "1.Windows环境启动Cursor调用本地QWQ<br>\n",
    "&emsp;1.1 Ollama的下载&安装<br>\n",
    "&emsp;1.2 Ollama下载模型路径修改<br>\n",
    "&emsp;1.3 使用Ollama实现推理大模型QWO安装.<br>\n",
    "&emsp;1.4 下载Cursor<br>\n",
    "&emsp;1.5 Cursor接入Ollama启动本地大模型QWQ<br>\n",
    "2.Windows环境启动Cursor调用线上QWQ<br>\n",
    "&emsp;2.1 注册SiliconFlow<br>\n",
    "&emsp;2.2 配置模型<br>\n",
    "&emsp;2.3 推理使用<br>"
   ]
  },
  {
   "cell_type": "markdown",
   "id": "be8dfc34-c4e9-442d-a4be-16d92b16d933",
   "metadata": {},
   "source": [
    "\n",
    "完整的部署流程指南可通过扫描二维码添加小助手免费领取，更多进阶学习内容也欢迎随时向小助手咨询！"
   ]
  },
  {
   "cell_type": "markdown",
   "id": "9ce6fcc2-3f30-4386-ae9d-f977d130f535",
   "metadata": {},
   "source": [
    "<div align=center><img src=\"https://typora-photo1220.oss-cn-beijing.aliyuncs.com/LingYu/3bfbffa7b899e96807dda9dd905aed3.png\" width=70%></div>"
   ]
  },
  {
   "cell_type": "markdown",
   "id": "44c4b5e2-1817-425e-8e88-e219b8b85a1b",
   "metadata": {},
   "source": [
    "# 1. Windows环境启动Cursor调用本地QWQ"
   ]
  },
  {
   "cell_type": "markdown",
   "id": "6fdd8a87-6114-4ef0-b0d6-d2f18617070e",
   "metadata": {},
   "source": [
    ">以下流程均以最常用的Window环境进行演示"
   ]
  },
  {
   "cell_type": "markdown",
   "id": "dd5965dd-c616-4b65-89c1-f8236f88e4e2",
   "metadata": {},
   "source": [
    "#### 1.1 Ollama的下载&安装"
   ]
  },
  {
   "cell_type": "markdown",
   "id": "71e50f3f-1a87-41b8-9629-12d5901a32e2",
   "metadata": {},
   "source": [
    "Ollama支持在Windows环境下进行部署下载，使用此方法下载意味着你可以无需调整任何硬件设备直接在你的电脑上实现QWQ模型的安装部署和推理使用。"
   ]
  },
  {
   "cell_type": "markdown",
   "id": "89f2d751-266e-45ee-8875-605cee868e7e",
   "metadata": {},
   "source": [
    "首先要下载Windows版的Ollama文件，进入官网选择下图的内容进行下载："
   ]
  },
  {
   "cell_type": "markdown",
   "id": "44c5c7a2-7dd7-475c-95bb-a3a1bbf899e3",
   "metadata": {},
   "source": [
    "https://ollama.com/download"
   ]
  },
  {
   "cell_type": "markdown",
   "id": "aa72beeb-2b4c-4d39-a597-f25fa21cd5d2",
   "metadata": {},
   "source": [
    "<div align=center><img src=\"https://typora-photo1220.oss-cn-beijing.aliyuncs.com/LingYu/image-20241122103650614.png\" width=80%></div>"
   ]
  },
  {
   "cell_type": "markdown",
   "id": "fe7218ba-d8da-49c9-8e2c-9cd55f68e304",
   "metadata": {},
   "source": [
    "当然，你也可以直接在浏览器中搜索关键词`ollama`,按照图中的实例点击进入官网亦可。"
   ]
  },
  {
   "cell_type": "markdown",
   "id": "72ec1c90-8264-4b9a-ac43-dde9a5893517",
   "metadata": {},
   "source": [
    "进入官网后点击正下方的Download按钮，进入下载页面。"
   ]
  },
  {
   "cell_type": "markdown",
   "id": "0ede89d7-a6de-4dcd-be58-1bc7a5d2bb9a",
   "metadata": {},
   "source": [
    "<div align=center><img src=\"https://typora-photo1220.oss-cn-beijing.aliyuncs.com/LingYu/image-20241122103750688.png\" width=80%></div>"
   ]
  },
  {
   "cell_type": "markdown",
   "id": "f9113ef3-4e34-4cd5-b72c-8d7fbc26f704",
   "metadata": {},
   "source": [
    "确保是在Windows环境的下载方式，即可点击Download for Windows开始下载。"
   ]
  },
  {
   "cell_type": "markdown",
   "id": "57e9a29c-a1a0-4d74-93ca-f76c31c2521c",
   "metadata": {},
   "source": [
    "<div align=center><img src=\"https://typora-photo1220.oss-cn-beijing.aliyuncs.com/LingYu/image-20241122104025801.png\" width=80%></div>"
   ]
  },
  {
   "cell_type": "markdown",
   "id": "a9fdd57f-e498-4e79-87c5-f0fe19cc8ad5",
   "metadata": {},
   "source": [
    "开始下载后便会在右上角下载/安装栏出现下图图标，安装完成后可以在下载栏或下载文件夹（你的默认下载路径）找到该文件。"
   ]
  },
  {
   "cell_type": "markdown",
   "id": "26e6446c-ab94-4688-aec4-9dff5b8742bf",
   "metadata": {},
   "source": [
    "<div align=center><img src=\"https://typora-photo1220.oss-cn-beijing.aliyuncs.com/LingYu/image-20241122104054625.png\" width=60%></div>"
   ]
  },
  {
   "cell_type": "markdown",
   "id": "501782c0-36e9-474b-8104-57f1de88ac74",
   "metadata": {},
   "source": [
    "<div align=center><img src=\"https://typora-photo1220.oss-cn-beijing.aliyuncs.com/LingYu/image-20241122104247946.png\" width=60%></div>"
   ]
  },
  {
   "cell_type": "markdown",
   "id": "19f84359-23c8-4a70-97d1-e64fe3cdf1c5",
   "metadata": {},
   "source": [
    "下载完成后在对应文件夹双击打开安装包完成安装流程。"
   ]
  },
  {
   "cell_type": "markdown",
   "id": "baf4ba06-19a6-4a89-9d7d-b3fc6d12c7d0",
   "metadata": {},
   "source": [
    "<div align=center><img src=\"https://typora-photo1220.oss-cn-beijing.aliyuncs.com/LingYu/image-20241122104458527.png\" width=60%></div>"
   ]
  },
  {
   "cell_type": "markdown",
   "id": "d095da98-8f9b-4e8c-9443-eb632301e061",
   "metadata": {},
   "source": [
    "<div align=center><img src=\"https://typora-photo1220.oss-cn-beijing.aliyuncs.com/LingYu/image-20241122104617955.png\" width=80%></div>"
   ]
  },
  {
   "cell_type": "markdown",
   "id": "03e88bb2-83d0-429b-b41c-b454f963da29",
   "metadata": {},
   "source": [
    "<div align=center><img src=\"https://typora-photo1220.oss-cn-beijing.aliyuncs.com/LingYu/image-20241122104633268.png\" width=80%></div>"
   ]
  },
  {
   "cell_type": "markdown",
   "id": "e94155ae-3d82-4297-ace6-564d517749fb",
   "metadata": {},
   "source": [
    "安装完成后会有如下提示："
   ]
  },
  {
   "cell_type": "markdown",
   "id": "45eadc31-9833-4cef-8f35-7fb5c36be1f2",
   "metadata": {},
   "source": [
    "<div align=center><img src=\"https://typora-photo1220.oss-cn-beijing.aliyuncs.com/LingYu/image-20241122104722058.png\" width=80%></div>"
   ]
  },
  {
   "cell_type": "markdown",
   "id": "bd9f6b9a-b1e4-43fe-9c42-1a9a7bfaf56e",
   "metadata": {},
   "source": [
    "#### 1.2 Ollama下载模型路径修改"
   ]
  },
  {
   "cell_type": "markdown",
   "id": "4ff2a514-fb15-42ca-8795-d9f9b4ba1c1d",
   "metadata": {},
   "source": [
    "框架和模型默认路径都是C盘，为了主机内存管理方便，可以通过以下步骤来实现模型下载地址的切换。\n"
   ]
  },
  {
   "cell_type": "markdown",
   "id": "41c17010-7a8d-46f6-82fb-7b218caa038a",
   "metadata": {},
   "source": [
    "1.在桌面下方搜索栏输入高级系统设置并进入。"
   ]
  },
  {
   "cell_type": "markdown",
   "id": "0fce7906-a74d-423a-9ae2-e0ff8d607dab",
   "metadata": {},
   "source": [
    "<div align=center><img src=\"https://typora-photo1220.oss-cn-beijing.aliyuncs.com/LingYu/image-20241016103219333.png\" width=80%></div>"
   ]
  },
  {
   "cell_type": "markdown",
   "id": "6227dd77-e36f-4562-b3e2-9404246dbae9",
   "metadata": {},
   "source": [
    "在系统设置中找到`高级`的标签，点击下方的环境变量选项。"
   ]
  },
  {
   "cell_type": "markdown",
   "id": "7fb41d41-1b31-4470-8075-ba10dd79cbec",
   "metadata": {},
   "source": [
    "<div align=center><img src=\"https://typora-photo1220.oss-cn-beijing.aliyuncs.com/LingYu/image-20241016103304360.png\" width=80%></div>"
   ]
  },
  {
   "cell_type": "markdown",
   "id": "ca4db884-9f91-4504-a348-3573cded4ba2",
   "metadata": {},
   "source": [
    "在系统变量栏点击新建，变量名设置为OLLAMA_MODELS,变量值设置为你想要的路径位置，这里设置为D:\\Ollama\\models"
   ]
  },
  {
   "cell_type": "markdown",
   "id": "960371ec-3fdd-4226-962f-2293d875a16a",
   "metadata": {},
   "source": [
    "<div align=center><img src=\"https://typora-photo1220.oss-cn-beijing.aliyuncs.com/LingYu/image-20241206111103674.png\" width=80%></div>"
   ]
  },
  {
   "cell_type": "markdown",
   "id": "5089bc28-c178-40ec-adf1-7d52db495037",
   "metadata": {},
   "source": [
    "设置好路径之后可以在命令行中进行检查，通过以下命令实现："
   ]
  },
  {
   "cell_type": "markdown",
   "id": "045fd01a-1682-4271-bba1-1a1ab48c5bcf",
   "metadata": {},
   "source": [
    "<div align=center><img src=\"https://typora-photo1220.oss-cn-beijing.aliyuncs.com/LingYu/image-20241016104050213.png\" width=80%></div>"
   ]
  },
  {
   "cell_type": "markdown",
   "id": "caad8a14-9406-42a2-8799-468c669f2b4e",
   "metadata": {},
   "source": [
    "#### 1.3 使用Ollama实现推理大模型QWQ安装启动全流程"
   ]
  },
  {
   "cell_type": "markdown",
   "id": "3b7ee9bf-39ff-4971-8f02-454e635b7d2e",
   "metadata": {},
   "source": [
    "启动Ollama可以直接在Windows的命令行中实现，通过win+R键启动cmd命令，打开命令行终端。"
   ]
  },
  {
   "cell_type": "markdown",
   "id": "25e28ab7-51dd-4d69-b827-dfa105d00fc8",
   "metadata": {},
   "source": [
    "<div align=center><img src=\"https://typora-photo1220.oss-cn-beijing.aliyuncs.com/LingYu/image-20241122104853825.png\" width=60%></div>"
   ]
  },
  {
   "cell_type": "markdown",
   "id": "0e4e8c9f-a77c-444b-ba5c-1a8cf4f8ed9a",
   "metadata": {},
   "source": [
    "<div align=center><img src=\"https://typora-photo1220.oss-cn-beijing.aliyuncs.com/LingYu/image-20241122104932627.png\" width=60%></div>"
   ]
  },
  {
   "cell_type": "markdown",
   "id": "09f78e3b-e454-45b0-b4c8-efd701a08057",
   "metadata": {},
   "source": [
    "可以通过输入指令`ollama -v`来检查是否成功部署，如果通过返回版本号信息则成功。Ollama支持以下的命令操作，关于这些指令的具体含义可以查看第一节Ollama快速入门的内容。"
   ]
  },
  {
   "cell_type": "markdown",
   "id": "39309b5c-369f-468d-bbcc-b8c073eea64b",
   "metadata": {},
   "source": [
    "<div align=center><img src=\"https://typora-photo1220.oss-cn-beijing.aliyuncs.com/LingYu/image-20241122105107446.png\" width=80%></div>"
   ]
  },
  {
   "cell_type": "markdown",
   "id": "50e1d1da-dc43-4d12-95b5-e343dbabfb94",
   "metadata": {},
   "source": [
    "- QWQ推理大模型的部署和使用"
   ]
  },
  {
   "cell_type": "markdown",
   "id": "27e2c99f-6afb-4de7-99d6-9bebfc74e392",
   "metadata": {},
   "source": [
    "首先还是回到Ollama的官网，搜索关键词`QWQ`可以找到对应模型。"
   ]
  },
  {
   "cell_type": "markdown",
   "id": "d2e1b3dd-cd31-4945-aa78-e7d7de7eefe2",
   "metadata": {},
   "source": [
    "<div align=center><img src=\"https://typora-photo1220.oss-cn-beijing.aliyuncs.com/LingYu/image-20241206113001270.png\" width=80%></div>"
   ]
  },
  {
   "cell_type": "markdown",
   "id": "4c4ff188-50d2-4c14-9980-9dd2967e8e1b",
   "metadata": {},
   "source": [
    "在终端中执行命令 `ollama run qwq` ，即可下载该模型。模型下载完成后，会自动启动大模型，进入命令行交互模式，直接输入指令，就可以和模型进行对话了对应参数的模型的下载方式可以通过在Ollama官网查看到下载指令。"
   ]
  },
  {
   "cell_type": "markdown",
   "id": "2b3dbe39-a3aa-46f7-a236-c4f00e15f371",
   "metadata": {},
   "source": [
    "模型挂载网址：https://ollama.com/library/qwq"
   ]
  },
  {
   "cell_type": "markdown",
   "id": "a3652814-7327-4b32-857b-35ee5b89cf88",
   "metadata": {},
   "source": [
    "<center><img src=\"https://typora-photo1220.oss-cn-beijing.aliyuncs.com/LingYu/image-20241128144503289.png\" style=\"zoom:60%;\" />"
   ]
  },
  {
   "cell_type": "markdown",
   "id": "74688a85-76ff-44df-8dba-da3e1b701bd8",
   "metadata": {},
   "source": [
    "完成下载后会直接进入模型启动状态，如果退出或刷新界面，再次输入指令 ollama run qwq 即可启动对应模型。"
   ]
  },
  {
   "cell_type": "markdown",
   "id": "e0124c28-5bf8-4425-b325-8bb72839349b",
   "metadata": {},
   "source": [
    "<div align=center><img src=\"https://typora-photo1220.oss-cn-beijing.aliyuncs.com/LingYu/image-20241128125511005.png\" width=60%></div>"
   ]
  },
  {
   "cell_type": "markdown",
   "id": "cd9e1997-b60b-4a9a-919d-79ba18594eef",
   "metadata": {},
   "source": [
    "当命令行中返回>>>即可进行对话,实测通过Ollama启动这种方式，Ollama默认搭载的是int4量化的模型版本，使用该版本运行推理的时候需要21G左右的显存，单张24G显卡（如RTX-XX90）即可满足使用要求。"
   ]
  },
  {
   "cell_type": "markdown",
   "id": "25e2e123-7830-4a87-88f5-d2e5b43b78b4",
   "metadata": {},
   "source": [
    "<div align=center><img src=\"https://typora-photo1220.oss-cn-beijing.aliyuncs.com/LingYu/image-20241128125614493.png\" width=60%></div>"
   ]
  },
  {
   "cell_type": "markdown",
   "id": "d726e33b-2b43-4f16-95ff-a32a58cfa43d",
   "metadata": {},
   "source": [
    "<div align=center><img src=\"https://typora-photo1220.oss-cn-beijing.aliyuncs.com/LingYu/image-20241128125633282.png\" width=60%></div>"
   ]
  },
  {
   "cell_type": "markdown",
   "id": "5f92d555-240d-4479-b53a-19a25ad2f394",
   "metadata": {},
   "source": [
    "### 1.4 下载Cursor"
   ]
  },
  {
   "cell_type": "markdown",
   "id": "59d84a48-2d45-4cb6-8522-e2744828e174",
   "metadata": {},
   "source": [
    "下载这个应用很简单，直接在官方网址点击`Download for Free `即可实现：\n",
    "\n",
    "https://www.cursor.com/"
   ]
  },
  {
   "attachments": {},
   "cell_type": "markdown",
   "id": "89cd710b-6758-4767-a36f-3e8b1fbbddef",
   "metadata": {},
   "source": [
    "<div align=center><img src=\"https://typora-photo1220.oss-cn-beijing.aliyuncs.com/LingYu/image-20241113184055324.png\" width=100%></div>"
   ]
  },
  {
   "cell_type": "markdown",
   "id": "0a5236d1-d781-471c-8110-eaea1d8da2d3",
   "metadata": {},
   "source": [
    "下载好安装包直接点击运行即可，需要注意的是在下面的install'cursor'点击下载便可以以后在cmd命令行输入指令`cursor`即可快速启动该应用了。"
   ]
  },
  {
   "attachments": {},
   "cell_type": "markdown",
   "id": "92ab6988-791e-4391-afa5-5b11f63f2302",
   "metadata": {},
   "source": [
    "<div align=center><img src=\"https://typora-photo1220.oss-cn-beijing.aliyuncs.com/LingYu/image-20241113184216536.png\" width=100%></div>"
   ]
  },
  {
   "cell_type": "markdown",
   "id": "f0306a1d-53d9-44fd-a3f4-3584f709e536",
   "metadata": {},
   "source": [
    "在这个界面，选择Use Extensions便可复制已有的VScode的配置，这样一步实现环境和插件的同步。"
   ]
  },
  {
   "attachments": {},
   "cell_type": "markdown",
   "id": "3130be72-2819-4338-83f4-19f1c3c27b4f",
   "metadata": {},
   "source": [
    "<div align=center><img src=\"https://typora-photo1220.oss-cn-beijing.aliyuncs.com/LingYu/image-20241113184252879.png\" width=100%></div>"
   ]
  },
  {
   "cell_type": "markdown",
   "id": "be26bcce-c20b-47e1-a877-2fe0c0282dce",
   "metadata": {},
   "source": [
    "在完成配置后需要进行账号登录来实现最后的授权，支持Github和Goggle的账号登录。"
   ]
  },
  {
   "attachments": {},
   "cell_type": "markdown",
   "id": "f8b94a73-bb99-4ce0-a629-98293cb45040",
   "metadata": {},
   "source": [
    "<div align=center><img src=\"https://typora-photo1220.oss-cn-beijing.aliyuncs.com/LingYu/image-20241113184549484.png\" width=100%></div>"
   ]
  },
  {
   "attachments": {},
   "cell_type": "markdown",
   "id": "5f2159a6-0b12-4dd4-b2e0-0cc92d5f3ca7",
   "metadata": {},
   "source": [
    "<div align=center><img src=\"https://typora-photo1220.oss-cn-beijing.aliyuncs.com/LingYu/image-20241113184703976.png\" width=100%></div>"
   ]
  },
  {
   "cell_type": "markdown",
   "id": "66d951e2-29b5-40d9-829c-b38edb8417c1",
   "metadata": {},
   "source": [
    "等看到上图的界面再返回Cursor便说明已经成功登录了，如有以下的界面说明可以顺利的使用Cursor了。"
   ]
  },
  {
   "attachments": {},
   "cell_type": "markdown",
   "id": "e4c6c9c0-2f48-47d0-b5a7-87074f052776",
   "metadata": {},
   "source": [
    "<div align=center><img src=\"https://typora-photo1220.oss-cn-beijing.aliyuncs.com/LingYu/image-20241113184847539.png\" width=100%></div>"
   ]
  },
  {
   "cell_type": "markdown",
   "id": "f262edb7-7f1d-4ed2-95e9-fae02f5d4b93",
   "metadata": {},
   "source": [
    ">注册登录即可获得2周的pro试用!"
   ]
  },
  {
   "cell_type": "markdown",
   "id": "bd1f46d9-697b-4c9c-aee6-0d90e42874a4",
   "metadata": {},
   "source": [
    "### 1.5 Cursor接入Ollama启动本地大模型QWQ"
   ]
  },
  {
   "cell_type": "markdown",
   "id": "d4f478a1-0440-410a-96fa-bac3fd857b38",
   "metadata": {},
   "source": [
    "在左边栏如图位置点击插件栏，搜索`cline`.点击install进行下载。"
   ]
  },
  {
   "attachments": {},
   "cell_type": "markdown",
   "id": "ac3a380f-6cc2-4a67-bda2-2318bd5fb442",
   "metadata": {},
   "source": [
    "<div align=center><img src=\"https://typora-photo1220.oss-cn-beijing.aliyuncs.com/LingYu/image-20241206113412242.png\" width=100%></div>"
   ]
  },
  {
   "cell_type": "markdown",
   "id": "3832138e-835c-4bde-a76d-2c9da575a9a7",
   "metadata": {},
   "source": [
    "下载完成后会出现下图图标（可以实现卸载意味着已经安装好了哈哈）"
   ]
  },
  {
   "attachments": {},
   "cell_type": "markdown",
   "id": "cf97dfd2-1842-43ba-a53d-1694fca971a9",
   "metadata": {},
   "source": [
    "<div align=center><img src=\"https://typora-photo1220.oss-cn-beijing.aliyuncs.com/LingYu/image-20241205112319246.png\" width=100%></div>"
   ]
  },
  {
   "cell_type": "markdown",
   "id": "d1a7979c-e169-4995-9c14-bda8c579115b",
   "metadata": {},
   "source": [
    "接下来我们继续在插件栏中找到已经下载好的cline，点击进入。"
   ]
  },
  {
   "attachments": {},
   "cell_type": "markdown",
   "id": "0ec6b465-8613-425c-8a5e-aa92a3aad8db",
   "metadata": {},
   "source": [
    "<div align=center><img src=\"https://typora-photo1220.oss-cn-beijing.aliyuncs.com/LingYu/image-20241205112452617.png\" width=100%></div>"
   ]
  },
  {
   "cell_type": "markdown",
   "id": "582ec781-6da8-415d-8f92-d728f9773100",
   "metadata": {},
   "source": [
    "点开Cline插件，会看到以下的界面，我们需要先选择API Provider中的信息。"
   ]
  },
  {
   "attachments": {},
   "cell_type": "markdown",
   "id": "a9a7ee93-43d5-491f-8111-95579bf3f6cb",
   "metadata": {},
   "source": [
    "<div align=center><img src=\"https://typora-photo1220.oss-cn-beijing.aliyuncs.com/LingYu/image-20241205112512528.png\" width=100%></div>"
   ]
  },
  {
   "cell_type": "markdown",
   "id": "784c745e-55a5-4c5f-a8af-199b6e5aafa6",
   "metadata": {},
   "source": [
    "下拉界面选择Ollama"
   ]
  },
  {
   "attachments": {},
   "cell_type": "markdown",
   "id": "b0418227-2100-4c69-bc54-dc8921959ecc",
   "metadata": {},
   "source": [
    "<div align=center><img src=\"https://typora-photo1220.oss-cn-beijing.aliyuncs.com/LingYu/image-20241205112543019.png\" width=100%></div>"
   ]
  },
  {
   "cell_type": "markdown",
   "id": "db55f5d0-29c2-49f5-b989-bb299fe7a549",
   "metadata": {},
   "source": [
    "如果是本机调用Ollama直接使用默认的Base URL即可，同时下面会展示所有可以通过Ollama驱动的模型列表，点击选择确认在Model ID中展示后，点击Let's go实现激活。"
   ]
  },
  {
   "attachments": {},
   "cell_type": "markdown",
   "id": "4550b28e-277c-4726-97c3-8798225c1073",
   "metadata": {},
   "source": [
    "<div align=center><img src=\"https://typora-photo1220.oss-cn-beijing.aliyuncs.com/LingYu/image-20241206161458211.png\" width=30%></div>"
   ]
  },
  {
   "cell_type": "markdown",
   "id": "255442ab-6721-4d1d-a489-9205c50ae878",
   "metadata": {},
   "source": [
    "激活使用：此时在工具栏最右边会出现cline的机器人图标头像，如下图点击右数第二个图标`Open in Editor`实现工具调用。"
   ]
  },
  {
   "attachments": {},
   "cell_type": "markdown",
   "id": "0c57b8b8-7096-417e-a102-be55613beafa",
   "metadata": {},
   "source": [
    "<div align=center><img src=\"https://typora-photo1220.oss-cn-beijing.aliyuncs.com/LingYu/image-20241206175357757.png\" width=100%></div>"
   ]
  },
  {
   "attachments": {},
   "cell_type": "markdown",
   "id": "0d6099be-90e9-45e4-8cf9-78009a1419da",
   "metadata": {},
   "source": [
    "<div align=center><img src=\"https://typora-photo1220.oss-cn-beijing.aliyuncs.com/LingYu/image-20241206175518442.png\" width=100%></div>"
   ]
  },
  {
   "cell_type": "markdown",
   "id": "ef197836-a08c-4372-84fb-adb413db09dc",
   "metadata": {},
   "source": [
    "激活后在页面最右边出现页面可以进行对话，可以通过@+文件名的方式将对应代码文件交给大模型进行分析处理。"
   ]
  },
  {
   "attachments": {},
   "cell_type": "markdown",
   "id": "5a0c81e5-8e79-4472-8cd8-67bbcb673964",
   "metadata": {},
   "source": [
    "<div align=center><img src=\"https://typora-photo1220.oss-cn-beijing.aliyuncs.com/LingYu/image-20241206163445185.png\" width=100%></div>"
   ]
  },
  {
   "cell_type": "markdown",
   "id": "f000285f-86c5-428c-99f7-393aae5864e2",
   "metadata": {},
   "source": [
    "如下图所示，可以通过这种方式进行代码文件的查看。"
   ]
  },
  {
   "attachments": {},
   "cell_type": "markdown",
   "id": "8e9f16d8-5aa5-4e2d-ab99-28642265a6d2",
   "metadata": {},
   "source": [
    "<div align=center><img src=\"https://typora-photo1220.oss-cn-beijing.aliyuncs.com/LingYu/image-20241206115137188.png\" width=100%></div>"
   ]
  },
  {
   "cell_type": "markdown",
   "id": "d3a2a457-8595-4b88-910a-82f3c9b4dfca",
   "metadata": {},
   "source": [
    "通过在右下角进行交互可以实现本地Ollama驱动QWQ推理了。"
   ]
  },
  {
   "attachments": {},
   "cell_type": "markdown",
   "id": "bae7f57c-4e66-4dee-8be5-ff16ddcaa5ca",
   "metadata": {},
   "source": [
    "<div align=center><img src=\"https://typora-photo1220.oss-cn-beijing.aliyuncs.com/LingYu/image-20241206162329771.png\" width=100%></div>"
   ]
  },
  {
   "cell_type": "markdown",
   "id": "eacc0eb4-3471-4588-ae77-becedf677a4b",
   "metadata": {},
   "source": [
    "不过使用这个插件并不能很好的适应Cursor的全部功能，这是由于Cursor本身其实不支持调用本地模型，而主营业务是调用各种线上模型API的方式实现辅助编程，因而使用这种方式一定程度上限制了模型交互。"
   ]
  },
  {
   "cell_type": "markdown",
   "id": "e1481c8a-cdb0-4c81-9043-4a8d218a4189",
   "metadata": {},
   "source": [
    "# 2. Windows环境启动Cursor调用线上QWQ"
   ]
  },
  {
   "cell_type": "markdown",
   "id": "c41a0188-cc73-4390-a560-86ee56a206ee",
   "metadata": {},
   "source": [
    "## 2.1 注册siliconFlow"
   ]
  },
  {
   "cell_type": "markdown",
   "id": "e4d5222a-1884-44c0-8524-f925d0c96ede",
   "metadata": {},
   "source": [
    "本次课推荐给大家一个线上API调用大模型的方式--siliconFlow，推荐大家使用这个平台来实现大模型借入的理由是这个平台它的模型全、价格实惠、并且模型速度很快，更重要的是，siliconflow 注册即可白嫖2000万不限时token额度，足以让你度过新手开荒期。"
   ]
  },
  {
   "cell_type": "markdown",
   "id": "37984ded-b319-4951-9b09-03fd9d7b2c63",
   "metadata": {},
   "source": [
    "siliconFlow注册官网：https://cloud.siliconflow.cn/account/ak"
   ]
  },
  {
   "attachments": {},
   "cell_type": "markdown",
   "id": "5b3c773e-694b-45b5-806a-2b417760b006",
   "metadata": {},
   "source": [
    "<div align=center><img src=\"https://typora-photo1220.oss-cn-beijing.aliyuncs.com/LingYu/image-20241204151431195.png\" width=100%></div>"
   ]
  },
  {
   "cell_type": "markdown",
   "id": "d64763a3-9df4-45bb-bc77-fd2b5d0956cd",
   "metadata": {},
   "source": [
    "该平台支持诸多主流模型的线上API调用，在模型广场可以搜索对应模型名称复制对应的模型ID，这里选择Qwen/QwQ-32B-Preview来进行测试。"
   ]
  },
  {
   "attachments": {},
   "cell_type": "markdown",
   "id": "ee2b1e8a-e976-45c7-99e0-68ca6354fb4a",
   "metadata": {},
   "source": [
    "<div align=center><img src=\"https://typora-photo1220.oss-cn-beijing.aliyuncs.com/LingYu/image-20241113190050894.png\" width=100%></div>"
   ]
  },
  {
   "cell_type": "markdown",
   "id": "aa3b656e-87a8-4bd4-a037-87b533545572",
   "metadata": {},
   "source": [
    "在siliconFlow完成注册后在`账户管理->APi密钥` 中创建密钥，点击复制保存好为接下来的流程备用。"
   ]
  },
  {
   "cell_type": "markdown",
   "id": "a2849ce6-c258-4a68-8e56-3f3a17526eb4",
   "metadata": {},
   "source": [
    "## 2.2 配置模型"
   ]
  },
  {
   "cell_type": "markdown",
   "id": "2093f3e7-664b-4794-824a-6e6fd06b91f4",
   "metadata": {},
   "source": [
    "返回Cursor应用里，如图点击打开setting设置。"
   ]
  },
  {
   "attachments": {},
   "cell_type": "markdown",
   "id": "babea257-65f0-48b3-ac97-5ddce1badebb",
   "metadata": {},
   "source": [
    "<div align=center><img src=\"https://typora-photo1220.oss-cn-beijing.aliyuncs.com/LingYu/image-20241204154821340.png\" width=100%></div>"
   ]
  },
  {
   "cell_type": "markdown",
   "id": "9f191642-c791-4617-b2d0-310a95479c13",
   "metadata": {},
   "source": [
    "在Cursor Setting中点击Models栏，接下来要完成几个参数的设置，首先将所有已经激活的模型关闭，点击下面add model,输入`Qwen/QwQ-32B-Preview`, 添加完成后记得打开模型后面的开关并将Url从默认的修改为base Url : https://api.siliconflow.cn/v1\n",
    "\n",
    "\n",
    "并且点击Verify，即可完成添加"
   ]
  },
  {
   "attachments": {},
   "cell_type": "markdown",
   "id": "9deac129-b298-4f57-9957-c4313dd409b8",
   "metadata": {},
   "source": [
    "<div align=center><img src=\"https://typora-photo1220.oss-cn-beijing.aliyuncs.com/LingYu/image-20241204155054752.png\" width=100%></div>"
   ]
  },
  {
   "cell_type": "markdown",
   "id": "6ce3a3f4-9a21-4f0f-8e32-cd06c4a45c57",
   "metadata": {},
   "source": [
    "激活成功后效果如下图："
   ]
  },
  {
   "attachments": {},
   "cell_type": "markdown",
   "id": "a7792127-73ef-4048-acde-1926a7275378",
   "metadata": {},
   "source": [
    "<div align=center><img src=\"https://typora-photo1220.oss-cn-beijing.aliyuncs.com/LingYu/image-20241204155218832.png\" width=100%></div>"
   ]
  },
  {
   "cell_type": "markdown",
   "id": "cea8b9ac-d111-4a36-8a23-a5c7e2c41cb6",
   "metadata": {},
   "source": [
    "## 2.3 推理使用"
   ]
  },
  {
   "cell_type": "markdown",
   "id": "e9ea710b-5a89-4ecd-95a8-6e58cadf11a2",
   "metadata": {},
   "source": [
    "此时便可以使用QwQ-32B-Preview模型进行辅助代码生成了，通过Ctrl+K键实现激活，然后输入任意指令便可实现对应大模型的代码推理。"
   ]
  },
  {
   "attachments": {},
   "cell_type": "markdown",
   "id": "f7dba188-ee3c-434e-9bbc-2b86186eb39a",
   "metadata": {},
   "source": [
    "<div align=center><img src=\"https://typora-photo1220.oss-cn-beijing.aliyuncs.com/LingYu/image-20241204155247883.png\" width=100%></div>"
   ]
  },
  {
   "attachments": {},
   "cell_type": "markdown",
   "id": "45cf156b-bc35-4654-916b-c1f2639ca111",
   "metadata": {},
   "source": [
    "<div align=center><img src=\"https://typora-photo1220.oss-cn-beijing.aliyuncs.com/LingYu/image-20241204155255759.png\" width=100%></div>"
   ]
  },
  {
   "attachments": {},
   "cell_type": "markdown",
   "id": "9b638404-5fe8-4d6f-85be-5b7d871d91ae",
   "metadata": {},
   "source": [
    "<div align=center><img src=\"https://typora-photo1220.oss-cn-beijing.aliyuncs.com/LingYu/image-20241204155306451.png\" width=100%></div>"
   ]
  },
  {
   "attachments": {},
   "cell_type": "markdown",
   "id": "60ad2801-82e3-42ee-9bd1-22c35d00d99a",
   "metadata": {},
   "source": [
    "<div align=center><img src=\"https://typora-photo1220.oss-cn-beijing.aliyuncs.com/LingYu/image-20241204155527269.png\" width=100%></div>"
   ]
  },
  {
   "cell_type": "markdown",
   "id": "4e369f57-4722-49d7-95eb-7549f66d7a44",
   "metadata": {},
   "source": [
    "测试了让QWQ根据需求生成打砖块游戏，可以根据需求生成符合条件的代码块，改代码通过html语言实现："
   ]
  },
  {
   "cell_type": "markdown",
   "id": "9aa8f128-77e7-4ae3-84f1-ea3a7ae8e2af",
   "metadata": {},
   "source": [
    "```html\n",
    "<!DOCTYPE html>\r\n",
    "<html lang=\"en\">\r\n",
    "<head>\r\n",
    "    <meta charset=\"UTF-8\">\r\n",
    "    <title>Breakout Game</title>\r\n",
    "    <style>\r\n",
    "        body {\r\n",
    "            display: flex;\r\n",
    "            justify-content: center;\r\n",
    "            align-items: center;\r\n",
    "            height: 100vh;\r\n",
    "            margin: 0;\r\n",
    "        }\r\n",
    "        canvas {\r\n",
    "            border: 1px solid #000;\r\n",
    "        }\r\n",
    "    </style>\r\n",
    "</head>\r\n",
    "<body>\r\n",
    "\r\n",
    "<canvas id=\"gameCanvas\" width=\"800\" height=\"600\"></canvas>\r\n",
    "\r\n",
    "<script>\r\n",
    "    const canvas = document.getElementById('gameCanvas');\r\n",
    "    const ctx = canvas.getContext('2d');\r\n",
    "\r\n",
    "    // Define colors\r\n",
    "    const paddleColor = 'darkred';\r\n",
    "    const ballColor = 'blue';\r\n",
    "    const brickColor = 'orange';\r\n",
    "\r\n",
    "    // Paddle settings\r\n",
    "    const paddleWidth = 150;\r\n",
    "    const paddleHeight = 20;\r\n",
    "    let paddleX = (canvas.width - paddleWidth) / 2;\r\n",
    "\r\n",
    "    // Ball settings\r\n",
    "    const ballRadius = 10;\r\n",
    "    let ballX = canvas.width / 2;\r\n",
    "    let ballY = canvas.height - 30;\r\n",
    "    let dx = 4;\r\n",
    "    let dy = -4;\r\n",
    "\r\n",
    "    // Brick settings\r\n",
    "    const brickWidth = 80;\r\n",
    "    const brickHeight = 20;\r\n",
    "    const brickRowCount = 5;\r\n",
    "    const brickColumnCount = 7;\r\n",
    "    const bricks = [];\r\n",
    "    for (let c = 0; c < brickColumnCount; c++) {\r\n",
    "        bricks[c] = [];\r\n",
    "        for (let r = 0; r < brickRowCount; r++) {\r\n",
    "            bricks[c][r] = { x: 30 + c * (brickWidth + 10), y: 30 + r * (brickHeight + \r\n",
    "10), status: 1 };\r\n",
    "        }\r\n",
    "    }\r\n",
    "\r\n",
    "    // Draw paddle\r\n",
    "    function drawPaddle() {\r\n",
    "        ctx.fillStyle = paddleColor;\r\n",
    "        ctx.fillRect(paddleX, canvas.height - paddleHeight, paddleWidth, paddleHeight);\r\n",
    "    }\r\n",
    "\r\n",
    "    // Draw ball\r\n",
    "    function drawBall() {\r\n",
    "        ctx.fillStyle = ballColor;\r\n",
    "        ctx.beginPath();\r\n",
    "        ctx.arc(ballX, ballY, ballRadius, 0, Math.PI*2);\r\n",
    "        ctx.fill();\r\n",
    "    }\r\n",
    "\r\n",
    "    // Draw bricks\r\n",
    "    function drawBricks() {\r\n",
    "        for (let c = 0; c < brickColumnCount; c++) {\r\n",
    "            for (let r = 0; r < brickRowCount; r++) {\r\n",
    "                if (bricks[c][r].status == 1) {\r\n",
    "                    ctx.fillStyle = brickColor;\r\n",
    "                    ctx.fillRect(bricks[c][r].x, bricks[c][r].y, brickWidth, \r\n",
    "brickHeight);\r\n",
    "                }\r\n",
    "            }\r\n",
    "        }\r\n",
    "    }\r\n",
    "\r\n",
    "    // Move paddle\r\n",
    "    document.addEventListener('keydown', function(event) {\r\n",
    "        if (event.key === 'ArrowLeft') {\r\n",
    "            paddleX -= 20;\r\n",
    "        } else if (event.key === 'ArrowRight') {\r\n",
    "            paddleX += 20;\r\n",
    "        }\r\n",
    "        // Prevent going off the canvas\r\n",
    "        if (paddleX < 0) {\r\n",
    "            paddleX = 0;\r\n",
    "        } else if (paddleX > canvas.width - paddleWidth) {\r\n",
    "            paddleX = canvas.width - paddleWidth;\r\n",
    "        }\r\n",
    "    });\r\n",
    "\r\n",
    "    function draw() {\r\n",
    "        ctx.clearRect(0, 0, canvas.width, canvas.height);\r\n",
    "\r\n",
    "        // Draw bricks\r\n",
    "        drawBricks();\r\n",
    "\r\n",
    "        // Draw paddle\r\n",
    "        drawPaddle();\r\n",
    "\r\n",
    "        // Move and draw ball\r\n",
    "        if (ballX + dx > canvas.width - ballRadius || ballX + dx < ballRadius) {\r\n",
    "            dx = -dx;\r\n",
    "        }\r\n",
    "        if (ballY + dy < ballRadius) {\r\n",
    "            dy = -dy;\r\n",
    "        } else if (ballY + dy > canvas.height - ballRadius) {\r\n",
    "            if (ballX > paddleX && ballX < paddleX + paddleWidth) {\r\n",
    "                dy = -dy;\r\n",
    "            } else {\r\n",
    "                // Game over\r\n",
    "                alert(\"Game Over\");\r\n",
    "                document.location.reload();\r\n",
    "            }\r\n",
    "        }\r\n",
    "\r\n",
    "        for (let c = 0; c < brickColumnCount; c++) {\r\n",
    "            for (let r = 0; r < brickRowCount; r++) {\r\n",
    "                let b = bricks[c][r];\r\n",
    "                if (b.status == 1) {\r\n",
    "                    if (ballX > b.x && ballX < b.x + brickWidth && ballY > b.y && ballY < \r\n",
    "b.y + brickHeight) {\r\n",
    "                        dy = -dy;\r\n",
    "                        b.status = 0;\r\n",
    "                    }\r\n",
    "                }\r\n",
    "            }\r\n",
    "        }\r\n",
    "\r\n",
    "        ballX += dx;\r\n",
    "        ballY += dy;\r\n",
    "\r\n",
    "        drawBall();\r\n",
    "\r\n",
    "        requestAnimationFrame(draw);\r\n",
    "    }\r\n",
    "\r\n",
    "    // Start game loop\r\n",
    "    draw();\r\n",
    "</script>\r\n",
    "\r\n",
    "</body>\r\n",
    "</html>\n",
    "\n",
    "```"
   ]
  },
  {
   "cell_type": "markdown",
   "id": "9f386c41-bb6e-452a-bd2e-32ebabaab7e8",
   "metadata": {},
   "source": [
    "<div align=center><img src=\"https://typora-photo1220.oss-cn-beijing.aliyuncs.com/LingYu/image-20241205172259689.png\" width=70%></div>"
   ]
  },
  {
   "cell_type": "markdown",
   "id": "87e0e224-d022-45fd-93c7-364f7734221a",
   "metadata": {},
   "source": [
    "以上就是全部的本地/线上在Cursor调用QWQ实现代码辅助的全流程了。"
   ]
  },
  {
   "cell_type": "markdown",
   "id": "9409bff7-fa77-4ea5-9809-49807fd1ea3a",
   "metadata": {},
   "source": [
    "完整的使用信息和更高阶的使用方法可以扫描下方二维码，联系客服小助手领取~"
   ]
  },
  {
   "cell_type": "markdown",
   "id": "f2733f64-b467-46ce-b56e-e136cbd03aed",
   "metadata": {},
   "source": [
    "<div align=center><img src=\"https://typora-photo1220.oss-cn-beijing.aliyuncs.com/LingYu/3bfbffa7b899e96807dda9dd905aed3.png\" width=70%></div>"
   ]
  }
 ],
 "metadata": {
  "kernelspec": {
   "display_name": "Python 3 (ipykernel)",
   "language": "python",
   "name": "python3"
  },
  "language_info": {
   "codemirror_mode": {
    "name": "ipython",
    "version": 3
   },
   "file_extension": ".py",
   "mimetype": "text/x-python",
   "name": "python",
   "nbconvert_exporter": "python",
   "pygments_lexer": "ipython3",
   "version": "3.11.7"
  }
 },
 "nbformat": 4,
 "nbformat_minor": 5
}
