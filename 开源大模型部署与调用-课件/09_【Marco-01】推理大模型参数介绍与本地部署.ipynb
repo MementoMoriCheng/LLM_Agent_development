{
 "cells": [
  {
   "cell_type": "markdown",
   "id": "8be04914-5452-4d34-ac80-a0f5b582d1ce",
   "metadata": {},
   "source": [
    "# <center> Marco-o1介绍&部署&评测"
   ]
  },
  {
   "cell_type": "markdown",
   "id": "6a32e9e2-4e55-422a-a96b-9ff02ddbf08b",
   "metadata": {},
   "source": [
    ">主要内容图谱"
   ]
  },
  {
   "cell_type": "markdown",
   "id": "c0d16607-7088-43d7-81d5-656df894e259",
   "metadata": {},
   "source": [
    "<center><img src=\"https://typora-photo1220.oss-cn-beijing.aliyuncs.com/LingYu/image-20241127182727360.png\" style=\"zoom:60%;\" />"
   ]
  },
  {
   "cell_type": "markdown",
   "id": "f8f011a7-600f-4d9c-8221-a56a3911e074",
   "metadata": {},
   "source": [
    "<center><img src=\"https://typora-photo1220.oss-cn-beijing.aliyuncs.com/LingYu/image-20241127135733192.png\" style=\"zoom:60%;\" />"
   ]
  },
  {
   "cell_type": "markdown",
   "id": "8d5cff9a-e8e9-4a96-9682-4bf9adc176f6",
   "metadata": {},
   "source": [
    "## 为什么是o1"
   ]
  },
  {
   "cell_type": "markdown",
   "id": "d8d3a29a-7b5b-4b96-b999-c20f9686bd44",
   "metadata": {},
   "source": [
    "> 关于OpenAI-o1更多的技术报告：https://openai.com/index/learning-to-reason-with-llms/"
   ]
  },
  {
   "cell_type": "markdown",
   "id": "93db110d-d242-4b44-81df-c45c82bff4cb",
   "metadata": {},
   "source": [
    "Marco-o1，单看其模型名称不知大家是否发现一些端倪，`o1`指向的是现在最强的推理模型，也是OpenAI最新的产品--OpenAI-o1."
   ]
  },
  {
   "cell_type": "markdown",
   "id": "f2b8c246-c027-4f40-856f-3dc77cda0e12",
   "metadata": {},
   "source": [
    "它具有以下特点：就像人类在回答困难问题之前会思考一段时间一样，o1 在尝试解决问题时使用思维链；它具有学会识别和纠正错误的能力；并将棘手的步骤分解为更简单的步骤；在当前方法不起作用时尝试不同的方法。"
   ]
  },
  {
   "cell_type": "markdown",
   "id": "b7e457ce-4ee3-4161-8558-90f8938170c8",
   "metadata": {},
   "source": [
    "OpenAI-o1还有一个代号名字为“Strawberry”，其原因是它可以通过推理的方式解决经典大模型不会分词token识别的问题。"
   ]
  },
  {
   "cell_type": "markdown",
   "id": "9065d02f-525f-4f7a-a31e-4b16745d3774",
   "metadata": {},
   "source": [
    "总之，OpenAI-o1作为大模型的新范式，具有极强的的推理能力和解决复杂问题的能力。"
   ]
  },
  {
   "cell_type": "markdown",
   "id": "0e5fedd3-254c-4589-a605-dc262d511b74",
   "metadata": {},
   "source": [
    "<div align=center><img src=\"https://typora-photo1220.oss-cn-beijing.aliyuncs.com/LingYu/image-20241127114432362.png\" width=60%></div>"
   ]
  },
  {
   "cell_type": "markdown",
   "id": "fd9a9453-05ed-4337-8104-d947a82826bf",
   "metadata": {},
   "source": [
    "<center><img src=\"https://ml2022.oss-cn-hangzhou.aliyuncs.com/img/image-20241009223839616.png\" alt=\"image-20241009223839616\" style=\"zoom:33%;\" />"
   ]
  },
  {
   "cell_type": "markdown",
   "id": "017e780d-0972-4e33-83cd-b3f93ab52370",
   "metadata": {},
   "source": [
    "尽管OpenAI-o1模型没有放出全部的训练信息，不过其透露出再训练阶段在推理阶段进行的投入是远超过其他所有大模型的这也是这个模型为什么称之为LRM--Large Reasoning Model的原因。"
   ]
  },
  {
   "cell_type": "markdown",
   "id": "b80e6190-ee4c-44cf-8ff5-93e47893574f",
   "metadata": {},
   "source": [
    "<div align=center><img src=\"https://typora-photo1220.oss-cn-beijing.aliyuncs.com/LingYu/image-20241127115152007.png\" width=80%></div>"
   ]
  },
  {
   "cell_type": "markdown",
   "id": "e83633a6-ac53-4ef3-8418-790b4e392f1a",
   "metadata": {},
   "source": [
    "正因如此，OpenAI-o1在进行回答推理的时候非常具有自己的特色，我们可以对比一下OpenAI-o1-mini和Open-4o的回答区别。"
   ]
  },
  {
   "cell_type": "code",
   "execution_count": 1,
   "id": "b5f1671f-bc7a-448d-b6cc-71010a233fdf",
   "metadata": {},
   "outputs": [],
   "source": [
    "from openai import OpenAI\n",
    "from IPython.display import display, Code, Markdown"
   ]
  },
  {
   "cell_type": "code",
   "execution_count": 4,
   "id": "6cf21f31-02d5-4751-a525-8c64a51e7f7d",
   "metadata": {},
   "outputs": [],
   "source": [
    "api_key = 'your-openai-api-key'"
   ]
  },
  {
   "cell_type": "code",
   "execution_count": 3,
   "id": "e35f4eef-7bce-4fa7-adf5-0ff9bb25ec49",
   "metadata": {},
   "outputs": [],
   "source": [
    "# 实例化客户端\n",
    "client = OpenAI(api_key=api_key, \n",
    "                base_url=\"https://ai.devtool.tech/proxy/v1\")"
   ]
  },
  {
   "cell_type": "code",
   "execution_count": 4,
   "id": "3455ec6f-00c5-4282-8b04-a19eb13b6e8d",
   "metadata": {},
   "outputs": [
    {
     "name": "stdout",
     "output_type": "stream",
     "text": [
      "你好！很高兴见到你！有什么我可以帮助你的吗？\n"
     ]
    }
   ],
   "source": [
    "# 调用 GPT-4o-mini 模型\n",
    "response = client.chat.completions.create(\n",
    "    model=\"gpt-4o-mini\",\n",
    "    messages=[\n",
    "        {\"role\": \"user\", \"content\": \"你好，好久不见!\"}\n",
    "    ]\n",
    ")\n",
    "\n",
    "print(response.choices[0].message.content)"
   ]
  },
  {
   "cell_type": "markdown",
   "id": "52e41685-3579-43dc-a269-842d0d422733",
   "metadata": {},
   "source": [
    "需要确认当前API-KEY权限是否可以调用o1模型："
   ]
  },
  {
   "cell_type": "code",
   "execution_count": 5,
   "id": "5d68c51f-0651-46bc-a0b4-3cb9c6840ddc",
   "metadata": {},
   "outputs": [],
   "source": [
    "models_list = client.models.list()"
   ]
  },
  {
   "cell_type": "code",
   "execution_count": 6,
   "id": "d691e110-3bc5-45cc-a248-cdb955966039",
   "metadata": {
    "collapsed": true,
    "jupyter": {
     "outputs_hidden": true
    }
   },
   "outputs": [
    {
     "data": {
      "text/plain": [
       "[Model(id='o1-preview', created=1725648897, object='model', owned_by='system'),\n",
       " Model(id='tts-1', created=1681940951, object='model', owned_by='openai-internal'),\n",
       " Model(id='tts-1-1106', created=1699053241, object='model', owned_by='system'),\n",
       " Model(id='chatgpt-4o-latest', created=1723515131, object='model', owned_by='system'),\n",
       " Model(id='dall-e-2', created=1698798177, object='model', owned_by='system'),\n",
       " Model(id='o1-preview-2024-09-12', created=1725648865, object='model', owned_by='system'),\n",
       " Model(id='gpt-4o-2024-08-06', created=1722814719, object='model', owned_by='system'),\n",
       " Model(id='gpt-4-turbo-preview', created=1706037777, object='model', owned_by='system'),\n",
       " Model(id='gpt-4o', created=1715367049, object='model', owned_by='system'),\n",
       " Model(id='gpt-3.5-turbo-instruct', created=1692901427, object='model', owned_by='system'),\n",
       " Model(id='gpt-4-0125-preview', created=1706037612, object='model', owned_by='system'),\n",
       " Model(id='gpt-3.5-turbo-0125', created=1706048358, object='model', owned_by='system'),\n",
       " Model(id='gpt-3.5-turbo', created=1677610602, object='model', owned_by='openai'),\n",
       " Model(id='babbage-002', created=1692634615, object='model', owned_by='system'),\n",
       " Model(id='davinci-002', created=1692634301, object='model', owned_by='system'),\n",
       " Model(id='dall-e-3', created=1698785189, object='model', owned_by='system'),\n",
       " Model(id='gpt-4-turbo-2024-04-09', created=1712601677, object='model', owned_by='system'),\n",
       " Model(id='tts-1-hd', created=1699046015, object='model', owned_by='system'),\n",
       " Model(id='tts-1-hd-1106', created=1699053533, object='model', owned_by='system'),\n",
       " Model(id='gpt-4-1106-preview', created=1698957206, object='model', owned_by='system'),\n",
       " Model(id='text-embedding-ada-002', created=1671217299, object='model', owned_by='openai-internal'),\n",
       " Model(id='gpt-3.5-turbo-16k', created=1683758102, object='model', owned_by='openai-internal'),\n",
       " Model(id='gpt-4o-realtime-preview-2024-10-01', created=1727131766, object='model', owned_by='system'),\n",
       " Model(id='text-embedding-3-small', created=1705948997, object='model', owned_by='system'),\n",
       " Model(id='whisper-1', created=1677532384, object='model', owned_by='openai-internal'),\n",
       " Model(id='text-embedding-3-large', created=1705953180, object='model', owned_by='system'),\n",
       " Model(id='gpt-4-turbo', created=1712361441, object='model', owned_by='system'),\n",
       " Model(id='gpt-4o-2024-05-13', created=1715368132, object='model', owned_by='system'),\n",
       " Model(id='gpt-3.5-turbo-1106', created=1698959748, object='model', owned_by='system'),\n",
       " Model(id='gpt-4-0613', created=1686588896, object='model', owned_by='openai'),\n",
       " Model(id='o1-mini', created=1725649008, object='model', owned_by='system'),\n",
       " Model(id='gpt-4', created=1687882411, object='model', owned_by='openai'),\n",
       " Model(id='o1-mini-2024-09-12', created=1725648979, object='model', owned_by='system'),\n",
       " Model(id='gpt-3.5-turbo-instruct-0914', created=1694122472, object='model', owned_by='system'),\n",
       " Model(id='gpt-4o-mini', created=1721172741, object='model', owned_by='system'),\n",
       " Model(id='gpt-4o-realtime-preview', created=1727659998, object='model', owned_by='system'),\n",
       " Model(id='gpt-4o-mini-2024-07-18', created=1721172717, object='model', owned_by='system')]"
      ]
     },
     "execution_count": 6,
     "metadata": {},
     "output_type": "execute_result"
    }
   ],
   "source": [
    "models_list.data"
   ]
  },
  {
   "cell_type": "code",
   "execution_count": 13,
   "id": "748f5c08-9c56-4c59-8f38-3bf7f342b4e8",
   "metadata": {},
   "outputs": [],
   "source": [
    "response = client.chat.completions.create(\n",
    "    model=\"o1-mini\",\n",
    "    messages=[\n",
    "        {\n",
    "            \"role\": \"user\", \n",
    "            \"content\": \"写一个 Bash 脚本，将格式为 '[1,2],[3,4],[5,6]' 的字符串表示的矩阵转置，并以相同格式输出。\"\n",
    "        }\n",
    "    ]\n",
    ")"
   ]
  },
  {
   "cell_type": "code",
   "execution_count": 15,
   "id": "d9b93767-94f0-40d9-8b7f-a21e1f058075",
   "metadata": {
    "collapsed": true,
    "jupyter": {
     "outputs_hidden": true
    }
   },
   "outputs": [
    {
     "data": {
      "text/plain": [
       "ChatCompletion(id='chatcmpl-AGSZ4hNjR4hQKZhJGwyVgsx1fI4pP', choices=[Choice(finish_reason='stop', index=0, logprobs=None, message=ChatCompletionMessage(content='当然，以下是一个完整的 Bash 脚本，它将按照您指定的格式将矩阵字符串进行转置。脚本包含详细的注释以帮助您理解每个步骤。\\n\\n```bash\\n#!/bin/bash\\n\\n# 检查是否提供了输入字符串\\nif [ $# -ne 1 ]; then\\n    echo \"用法: $0 \\'[1,2],[3,4],[5,6]\\'\"\\n    exit 1\\nfi\\n\\ninput_str=\"$1\"\\n\\n# 1. 替换 \\'],[\\' 为 \\'|\\', 并去除首尾的 \\'[\\' 和 \\']\\'\\nprocessed_str=$(echo \"$input_str\" | sed \\'s/\\\\]\\\\s*,\\\\s*\\\\[/|/g\\' | sed \\'s/\\\\[//g\\' | sed \\'s/\\\\]//g\\')\\n\\n# 2. 使用 \\'|\\' 分割为行\\nIFS=\\'|\\' read -r -a rows <<< \"$processed_str\"\\n\\n# 检查是否有至少一行\\nif [ ${#rows[@]} -eq 0 ]; then\\n    echo \"输入格式错误。\"\\n    exit 1\\nfi\\n\\n# 3. 将每行按 \\',\\' 分割为元素，并存储在二维数组中\\ndeclare -a matrix\\nnum_cols=0\\nfor row in \"${rows[@]}\"; do\\n    IFS=\\',\\' read -r -a elements <<< \"$row\"\\n    matrix+=(\"${elements[@]}\")\\n    if [ ${#elements[@]} -gt $num_cols ]; then\\n        num_cols=${#elements[@]}\\n    fi\\ndone\\n\\nnum_rows=${#rows[@]}\\n\\n# 4. 构建二维数组\\ndeclare -A mat\\n\\nrow_idx=0\\nfor row in \"${rows[@]}\"; do\\n    IFS=\\',\\' read -r -a elements <<< \"$row\"\\n    col_idx=0\\n    for elem in \"${elements[@]}\"; do\\n        mat[$row_idx,$col_idx]=$elem\\n        ((col_idx++))\\n    done\\n    ((row_idx++))\\ndone\\n\\n# 5. 转置矩阵\\ndeclare -A transposed\\n\\nfor ((i=0; i<num_rows; i++)); do\\n    for ((j=0; j<num_cols; j++)); do\\n        transposed[$j,$i]=${mat[$i,$j]}\\n    done\\ndone\\n\\n# 6. 构建转置后的字符串\\noutput=\"\"\\nfor ((j=0; j<num_cols; j++)); do\\n    row_str=\"[\"\\n    for ((i=0; i<num_rows; i++)); do\\n        elem=${transposed[$j,$i]}\\n        # 如果元素为空，替换为 0 或其他默认值\\n        if [ -z \"$elem\" ]; then\\n            elem=0\\n        fi\\n        row_str+=\"$elem\"\\n        if [ $i -lt $((num_rows - 1)) ]; then\\n            row_str+=\",\"\\n        fi\\n    done\\n    row_str+=\"]\"\\n    output+=\"$row_str\"\\n    if [ $j -lt $((num_cols - 1)) ]; then\\n        output+=\",\"\\n    fi\\ndone\\n\\necho \"$output\"\\n```\\n\\n### 使用说明\\n\\n1. **保存脚本**\\n   \\n   将上述脚本保存为 `transpose_matrix.sh` 并赋予执行权限：\\n\\n   ```bash\\n   chmod +x transpose_matrix.sh\\n   ```\\n\\n2. **运行脚本**\\n\\n   运行脚本时，将矩阵字符串作为参数传递。例如：\\n\\n   ```bash\\n   ./transpose_matrix.sh \\'[1,2],[3,4],[5,6]\\'\\n   ```\\n\\n   **输出将会是:**\\n\\n   ```\\n   [1,3,5],[2,4,6]\\n   ```\\n\\n### 脚本说明\\n\\n1. **输入处理**\\n\\n   - 脚本首先检查是否提供了一个输入参数。\\n   - 使用 `sed` 替换 `],[` 为 `|` 以便后续分割，同时去除所有的 `[` 和 `]` 符号。\\n\\n2. **分割行和列**\\n\\n   - 使用内部字段分隔符 (IFS) 将处理后的字符串按 `|` 分割成多行。\\n   - 然后将每一行按 `,` 分割成单个元素，并存储在二维关联数组 `mat` 中。\\n\\n3. **转置矩阵**\\n\\n   - 遍历原矩阵中的每个元素，将其位置 `[i][j]` 转换为 `[j][i]`，并存储在新的关联数组 `transposed` 中。\\n\\n4. **构建输出字符串**\\n\\n   - 遍历转置后的关联数组，按照指定格式重新组装成输出字符串。\\n   - 如果某个转置位置没有对应的元素（例如非矩形矩阵），可以选择用 `0` 或其他默认值填充。\\n\\n### 示例\\n\\n以下是一些使用示例：\\n\\n```bash\\n./transpose_matrix.sh \\'[1,2],[3,4],[5,6]\\'\\n# 输出: [1,3,5],[2,4,6]\\n\\n./transpose_matrix.sh \\'[1,2,3],[4,5,6]\\'\\n# 输出: [1,4],[2,5],[3,6]\\n\\n./transpose_matrix.sh \\'[7,8],[9,10],[11,12]\\'\\n# 输出: [7,9,11],[8,10,12]\\n```\\n\\n### 注意事项\\n\\n- 脚本假设输入的矩阵是规则的，即每行的元素数量相同。如果输入的矩阵不规则，脚本会用 `0` 填充缺失的位置。\\n- 如果矩阵元素中包含空格或其他特殊字符，可能需要进一步处理以确保正确解析。\\n\\n希望这个脚本能满足您的需求！', refusal=None, role='assistant', function_call=None, tool_calls=None))], created=1728486414, model='o1-mini-2024-09-12', object='chat.completion', service_tier=None, system_fingerprint='fp_f7eab99a33', usage=CompletionUsage(completion_tokens=2073, prompt_tokens=45, total_tokens=2118, completion_tokens_details=CompletionTokensDetails(audio_tokens=None, reasoning_tokens=832), prompt_tokens_details=PromptTokensDetails(audio_tokens=None, cached_tokens=0)))"
      ]
     },
     "execution_count": 15,
     "metadata": {},
     "output_type": "execute_result"
    }
   ],
   "source": [
    "response"
   ]
  },
  {
   "cell_type": "code",
   "execution_count": 10,
   "id": "62f2b3c7-cfde-4544-bfea-63f79356802d",
   "metadata": {},
   "outputs": [
    {
     "data": {
      "text/markdown": [
       "以下是一个 Bash 脚本，它可以将格式为 `'[1,2],[3,4],[5,6]'` 的字符串表示的矩阵转置，并以相同格式输出。脚本使用 `sed` 和 `awk` 来处理字符串和执行矩阵转置。\n",
       "\n",
       "```bash\n",
       "#!/bin/bash\n",
       "\n",
       "# 检查是否提供了输入参数\n",
       "if [ $# -ne 1 ]; then\n",
       "    echo \"用法: $0 '[1,2],[3,4],[5,6]'\"\n",
       "    exit 1\n",
       "fi\n",
       "\n",
       "input=\"$1\"\n",
       "\n",
       "# 使用 sed 将矩阵行分割为多行，并移除方括号\n",
       "# 然后使用 awk 进行转置\n",
       "transposed=$(echo \"$input\" | \\\n",
       "    sed 's/\\],[/\\\n",
       "/g' | sed 's/\\[//g; s/\\]//g' | \\\n",
       "    awk '\n",
       "    {\n",
       "        # 将每行按逗号分割成数组\n",
       "        split($0, arr, \",\")\n",
       "\n",
       "        # 逐个存储到二维数组 a 中\n",
       "        for (i=1; i<=length(arr); i++) {\n",
       "            a[NR,i] = arr[i]\n",
       "            if (i > max_cols) max_cols = i\n",
       "        }\n",
       "        if (NR > max_rows) max_rows = NR\n",
       "    }\n",
       "    END {\n",
       "        # 遍历每一列，输出转置后的行\n",
       "        for (i=1; i<=max_cols; i++) {\n",
       "            line = \"\"\n",
       "            for (j=1; j<=max_rows; j++) {\n",
       "                line = line (j==1 ? \"\" : \",\") a[j,i]\n",
       "            }\n",
       "            # 格式化输出，添加方括号和逗号分隔\n",
       "            printf \"%s%s\", (i==1 ? \"[\" : \"],[\") , line\n",
       "        }\n",
       "        print \"]\"\n",
       "    }')\n",
       "\n",
       "# 输出转置后的矩阵\n",
       "echo \"$transposed\"\n",
       "```\n",
       "\n",
       "### 使用方法\n",
       "\n",
       "1. **保存脚本**\n",
       "\n",
       "   将上述脚本内容保存为文件，例如 `transpose.sh`。\n",
       "\n",
       "2. **赋予执行权限**\n",
       "\n",
       "   ```bash\n",
       "   chmod +x transpose.sh\n",
       "   ```\n",
       "\n",
       "3. **运行脚本**\n",
       "\n",
       "   ```bash\n",
       "   ./transpose.sh '[1,2],[3,4],[5,6]'\n",
       "   ```\n",
       "\n",
       "   **输出:**\n",
       "\n",
       "   ```\n",
       "   [1,3,5],[2,4,6]\n",
       "   ```\n",
       "\n",
       "### 脚本详解\n",
       "\n",
       "1. **输入检查**\n",
       "\n",
       "   ```bash\n",
       "   if [ $# -ne 1 ]; then\n",
       "       echo \"用法: $0 '[1,2],[3,4],[5,6]'\"\n",
       "       exit 1\n",
       "   fi\n",
       "\n",
       "   input=\"$1\"\n",
       "   ```\n",
       "\n",
       "   这部分检查是否提供了一个输入参数，如果没有，则提示用法并退出。\n",
       "\n",
       "2. **预处理输入字符串**\n",
       "\n",
       "   ```bash\n",
       "   echo \"$input\" | \\\n",
       "       sed 's/\\],[/\\\n",
       "   /g' | sed 's/\\[//g; s/\\]//g' | \\\n",
       "       awk '...'\n",
       "   ```\n",
       "\n",
       "   - `sed 's/\\],[/\\\n",
       "   /g'`：将 `],[` 替换为换行符，实现将每个矩阵行分割到单独的一行。\n",
       "   - `sed 's/\\[//g; s/\\]//g'`：移除所有的 `[` 和 `]` 符号，留下纯数字和逗号。\n",
       "\n",
       "   例如，`'[1,2],[3,4],[5,6]'` 处理后变为：\n",
       "   ```\n",
       "   1,2\n",
       "   3,4\n",
       "   5,6\n",
       "   ```\n",
       "\n",
       "3. **使用 `awk` 进行转置**\n",
       "\n",
       "   ```awk\n",
       "   {\n",
       "       split($0, arr, \",\")\n",
       "\n",
       "       for (i=1; i<=length(arr); i++) {\n",
       "           a[NR,i] = arr[i]\n",
       "           if (i > max_cols) max_cols = i\n",
       "       }\n",
       "       if (NR > max_rows) max_rows = NR\n",
       "   }\n",
       "   END {\n",
       "       for (i=1; i<=max_cols; i++) {\n",
       "           line = \"\"\n",
       "           for (j=1; j<=max_rows; j++) {\n",
       "               line = line (j==1 ? \"\" : \",\") a[j,i]\n",
       "           }\n",
       "           printf \"%s%s\", (i==1 ? \"[\" : \"],[\") , line\n",
       "       }\n",
       "       print \"]\"\n",
       "   }\n",
       "   ```\n",
       "\n",
       "   - **分割每行数据并存储到二维数组 `a` 中**\n",
       "     - `split($0, arr, \",\")`：将当前行按逗号分割成数组 `arr`。\n",
       "     - `a[NR,i] = arr[i]`：将数据存储到二维数组 `a` 中，其中 `NR` 是行号，`i` 是列号。\n",
       "     - `max_cols` 和 `max_rows` 用于记录矩阵的最大列数和行数。\n",
       "\n",
       "   - **转置并格式化输出**\n",
       "     - 外层循环遍历每一列 `i=1` 到 `max_cols`。\n",
       "     - 内层循环遍历每一行 `j=1` 到 `max_rows`，构建转置后的每一行。\n",
       "     - 使用 `printf` 和条件运算符添加必要的方括号和逗号分隔符。\n",
       "\n",
       "4. **输出结果**\n",
       "\n",
       "   将转置后的矩阵赋值给变量 `transposed`，然后使用 `echo` 输出。\n",
       "\n",
       "### 示例\n",
       "\n",
       "- **输入:**\n",
       "\n",
       "  ```\n",
       "  '[1,2],[3,4],[5,6]'\n",
       "  ```\n",
       "\n",
       "- **输出:**\n",
       "\n",
       "  ```\n",
       "  [1,3,5],[2,4,6]\n",
       "  ```\n",
       "\n",
       "- **输入:**\n",
       "\n",
       "  ```\n",
       "  '[1,2,3],[4,5,6]'\n",
       "  ```\n",
       "\n",
       "- **输出:**\n",
       "\n",
       "  ```\n",
       "  [1,4],[2,5],[3,6]\n",
       "  ```\n",
       "\n",
       "该脚本适用于任意大小的矩阵，只要输入格式正确，即每一行用方括号包裹，行与行之间用逗号分隔，元素之间用逗号分隔。"
      ],
      "text/plain": [
       "<IPython.core.display.Markdown object>"
      ]
     },
     "metadata": {},
     "output_type": "display_data"
    }
   ],
   "source": [
    "display(Markdown(response.choices[0].message.content))"
   ]
  },
  {
   "cell_type": "markdown",
   "id": "7be55f48-d690-4539-a923-32ec506653c5",
   "metadata": {},
   "source": [
    "相比之下，GPT4o输出结果逻辑性和准确性就要弱很多："
   ]
  },
  {
   "cell_type": "code",
   "execution_count": 11,
   "id": "e7ed388d-bbe8-4716-8333-816c7111b3cf",
   "metadata": {
    "collapsed": true,
    "jupyter": {
     "outputs_hidden": true
    }
   },
   "outputs": [
    {
     "name": "stdout",
     "output_type": "stream",
     "text": [
      "您可以使用以下 Bash 脚本来实现将格式为 '[1,2],[3,4],[5,6]' 的字符串表示的矩阵转置，并以相同格式输出:\n",
      "\n",
      "```bash\n",
      "#!/bin/bash\n",
      "\n",
      "# 输入矩阵字符串\n",
      "input_matrix='[1,2],[3,4],[5,6]'\n",
      "\n",
      "# 去掉方括号并按逗号分割\n",
      "matrix=$(echo $input_matrix | tr -d '[]' | tr ',' ' ')\n",
      "\n",
      "# 将矩阵转换为数组\n",
      "readarray -d ' ' -t rows <<< \"$matrix\"\n",
      "\n",
      "# 确定行数和列数\n",
      "num_rows=${#rows[@]}\n",
      "num_cols=$(echo \"${rows[0]}\" | tr ' ' '\\n' | wc -l)\n",
      "\n",
      "# 创建转置后的矩阵\n",
      "transposed=\"\"\n",
      "\n",
      "for ((i=0; i<num_cols; i++)); do\n",
      "    row=\"\"\n",
      "    for ((j=0; j<num_rows; j++)); do\n",
      "        value=$(echo ${rows[j]} | awk -v idx=$i '{print $((idx+1))}')\n",
      "        row+=\"$value\"\n",
      "        if [[ $j -lt $((num_rows-1)) ]]; then\n",
      "            row+=\",\"\n",
      "        fi\n",
      "    done\n",
      "    transposed+=\"[$row]\"\n",
      "    if [[ $i -lt $((num_cols-1)) ]]; then\n",
      "        transposed+=\",\"\n",
      "    fi\n",
      "done\n",
      "\n",
      "# 输出转置后的矩阵\n",
      "echo \"$transposed\"\n",
      "```\n",
      "\n",
      "### 使用说明：\n",
      "1. 将上述脚本保存为 `transpose_matrix.sh`。\n",
      "2. 在终端中为脚本添加可执行权限：\n",
      "   ```bash\n",
      "   chmod +x transpose_matrix.sh\n",
      "   ```\n",
      "3. 执行脚本：\n",
      "   ```bash\n",
      "   ./transpose_matrix.sh\n",
      "   ```\n",
      "\n",
      "该脚本将输入字符串 `input_matrix` 转置并输出。根据给定的示例，输出将是 `[[1,3,5],[2,4,6]]`。您可以根据需要修改 `input_matrix` 的值。\n"
     ]
    }
   ],
   "source": [
    "# 调用 GPT-4o-mini 模型\n",
    "response = client.chat.completions.create(\n",
    "    model=\"gpt-4o-mini\",\n",
    "    messages=[\n",
    "        {\"role\": \"user\", \"content\": \"写一个 Bash 脚本，将格式为 '[1,2],[3,4],[5,6]' 的字符串表示的矩阵转置，并以相同格式输出。\"}\n",
    "    ]\n",
    ")\n",
    "\n",
    "print(response.choices[0].message.content)"
   ]
  },
  {
   "cell_type": "code",
   "execution_count": 12,
   "id": "68f42082-eb41-40d4-83e1-6137a213a1cb",
   "metadata": {},
   "outputs": [
    {
     "data": {
      "text/markdown": [
       "您可以使用以下 Bash 脚本来实现将格式为 '[1,2],[3,4],[5,6]' 的字符串表示的矩阵转置，并以相同格式输出:\n",
       "\n",
       "```bash\n",
       "#!/bin/bash\n",
       "\n",
       "# 输入矩阵字符串\n",
       "input_matrix='[1,2],[3,4],[5,6]'\n",
       "\n",
       "# 去掉方括号并按逗号分割\n",
       "matrix=$(echo $input_matrix | tr -d '[]' | tr ',' ' ')\n",
       "\n",
       "# 将矩阵转换为数组\n",
       "readarray -d ' ' -t rows <<< \"$matrix\"\n",
       "\n",
       "# 确定行数和列数\n",
       "num_rows=${#rows[@]}\n",
       "num_cols=$(echo \"${rows[0]}\" | tr ' ' '\\n' | wc -l)\n",
       "\n",
       "# 创建转置后的矩阵\n",
       "transposed=\"\"\n",
       "\n",
       "for ((i=0; i<num_cols; i++)); do\n",
       "    row=\"\"\n",
       "    for ((j=0; j<num_rows; j++)); do\n",
       "        value=$(echo ${rows[j]} | awk -v idx=$i '{print $((idx+1))}')\n",
       "        row+=\"$value\"\n",
       "        if [[ $j -lt $((num_rows-1)) ]]; then\n",
       "            row+=\",\"\n",
       "        fi\n",
       "    done\n",
       "    transposed+=\"[$row]\"\n",
       "    if [[ $i -lt $((num_cols-1)) ]]; then\n",
       "        transposed+=\",\"\n",
       "    fi\n",
       "done\n",
       "\n",
       "# 输出转置后的矩阵\n",
       "echo \"$transposed\"\n",
       "```\n",
       "\n",
       "### 使用说明：\n",
       "1. 将上述脚本保存为 `transpose_matrix.sh`。\n",
       "2. 在终端中为脚本添加可执行权限：\n",
       "   ```bash\n",
       "   chmod +x transpose_matrix.sh\n",
       "   ```\n",
       "3. 执行脚本：\n",
       "   ```bash\n",
       "   ./transpose_matrix.sh\n",
       "   ```\n",
       "\n",
       "该脚本将输入字符串 `input_matrix` 转置并输出。根据给定的示例，输出将是 `[[1,3,5],[2,4,6]]`。您可以根据需要修改 `input_matrix` 的值。"
      ],
      "text/plain": [
       "<IPython.core.display.Markdown object>"
      ]
     },
     "metadata": {},
     "output_type": "display_data"
    }
   ],
   "source": [
    "display(Markdown(response.choices[0].message.content))"
   ]
  },
  {
   "cell_type": "markdown",
   "id": "e05ec979-4830-4eb3-abe6-ce4f40a2eb3c",
   "metadata": {},
   "source": [
    "---"
   ]
  },
  {
   "cell_type": "markdown",
   "id": "c3987566-d27e-489f-866f-6d9c536a5016",
   "metadata": {},
   "source": [
    "可以看到OpenAI-o1回复的信息更全面也更准确，对于用户输入的信息响应(意图识别)的也更好，这是其作为Large Reasoning Model推理类模型的优势，即专注于复杂的推理任务，通过强化学习技术提升其思维能力。与许多早期模型不同，o1 在回答之前会先“思考”，生成复杂的内部推理链。这种能力使 o1 非常适合处理需要深度逻辑处理的任务，例如编程竞赛、高级数学以及科学问题求解。"
   ]
  },
  {
   "cell_type": "markdown",
   "id": "fdff71be-22c9-4829-adcd-c4d91dc33454",
   "metadata": {},
   "source": [
    "<center><img src=\"https://ml2022.oss-cn-hangzhou.aliyuncs.com/img/image-20241009224900159.png\" alt=\"image-20241009224900159\" style=\"zoom:33%;\" />"
   ]
  },
  {
   "cell_type": "markdown",
   "id": "9147008a-1ac9-4d92-aecf-152731c20cb7",
   "metadata": {},
   "source": [
    "不过OpenAI-o1性能如此强悍，是否有什么缺点呢？答案是有，它使用门槛很高且有限制，它限制了每周30次的问答使用上限，用户并不能很好的调用这个模型。但是关于这个模型的探索却不会停止，于是阿里的团队便研发出了同样类型的RLM —— Marco-o1."
   ]
  },
  {
   "cell_type": "markdown",
   "id": "6f639ff2-d251-4e0e-af0d-4f93b3b34712",
   "metadata": {},
   "source": [
    "<center><img src=\"https://typora-photo1220.oss-cn-beijing.aliyuncs.com/LingYu/image-20241127135733192.png\" alt=\"image-20241009224900159\" style=\"zoom:33%;\" />"
   ]
  },
  {
   "cell_type": "markdown",
   "id": "a4fcc97d-e3e5-42c4-8233-1228612e863f",
   "metadata": {},
   "source": [
    "## Marco-o1模型介绍"
   ]
  },
  {
   "cell_type": "markdown",
   "id": "31a911a9-d356-4b88-a336-3926f5958068",
   "metadata": {},
   "source": [
    "### 模型简介"
   ]
  },
  {
   "cell_type": "markdown",
   "id": "720474d5-71a9-48b4-ac34-07a3ea241232",
   "metadata": {},
   "source": [
    "Marco-o1是由阿里巴巴国际数字商务部MarcoPolo Team在hugging face平台发布全新开源大模型，它是由基础模型Qwen2：7B微调得来。模型性能主要是面向开放式解决方案的开放式推理模型。尤其是在**机器翻译任务**上表现优秀。"
   ]
  },
  {
   "cell_type": "markdown",
   "id": "12dde9c7-3ce9-4dfb-b4b1-3df6f01c6e3b",
   "metadata": {},
   "source": [
    "模型结构上：Marco-o1 大型语言模型 (LLM) 通**思维链 (CoT) 微调**、**蒙特卡洛树搜索 (MCTS)**、**反思机制**和**创新推理策略**进行优化——专为复杂的实际问题解决任务设计。"
   ]
  },
  {
   "cell_type": "markdown",
   "id": "c85c1184-9aa7-4b34-b0f7-53a0490c4884",
   "metadata": {},
   "source": [
    "<center><img src=\"https://typora-photo1220.oss-cn-beijing.aliyuncs.com/LingYu/image-20241127150811745.png\" style=\"zoom:80%;\" />"
   ]
  },
  {
   "cell_type": "markdown",
   "id": "34084e52-9af9-47f5-ab25-c3cb6a891f26",
   "metadata": {},
   "source": [
    "也就是说Marco-o1 是模仿OpenAI-o1的一次开源尝试，试图通过类似的手段去训练模型以期望达到优化的效果。"
   ]
  },
  {
   "cell_type": "markdown",
   "id": "1c61a9a9-748f-402b-8b0a-145ef52ebd38",
   "metadata": {},
   "source": [
    "### 模型参数"
   ]
  },
  {
   "cell_type": "markdown",
   "id": "2d84959f-56d0-44b2-95bb-159f9a85c741",
   "metadata": {},
   "source": [
    "Marco-o1是一个参数为7.62B ，精度BF16的轻量级模型。"
   ]
  },
  {
   "cell_type": "markdown",
   "id": "8af74e90-b187-4a5e-8e8e-5d450b90a099",
   "metadata": {},
   "source": [
    "<center><img src=\"https://typora-photo1220.oss-cn-beijing.aliyuncs.com/LingYu/image-20241127153252658.png\" alt=\"image-20241009224900159\" style=\"zoom:80%;\" />"
   ]
  },
  {
   "cell_type": "markdown",
   "id": "5abb18be-dee0-4fe7-89de-b69d161f2798",
   "metadata": {},
   "source": [
    "> 该模型是基于Qwen2-7B微调训练得来，基于不同方式（CoT、MCTS的各种精度）其模型效果如上图所示。"
   ]
  },
  {
   "cell_type": "markdown",
   "id": "5c4683c2-07ba-4b8a-b376-64562d476112",
   "metadata": {},
   "source": [
    "Marco-o1模型在 AIME（美国数学奥林匹克竞赛） 和 CodeForces（编程与算法） 等测试中展现了强大的推理能力，Marco-o1 的目标是进一步突破结构化问题，追求更广泛的领域适应性，特别是在缺乏严格评估指标的场景下。通过结合思维链（CoT）微调、蒙特卡洛树搜索（MCTS）和推理动作策略等技术，Marco-o1 能够更加高效地应对复杂的问题解决任务。"
   ]
  },
  {
   "cell_type": "markdown",
   "id": "3690a746-cd64-4dc8-9207-844f18a7c87f",
   "metadata": {},
   "source": [
    "- Marco-o1项目地址：https://github.com/AIDC-AI/Marco-o1\n",
    "-  Marco-o1论文地址：https://arxiv.org/pdf/2411.14405"
   ]
  },
  {
   "cell_type": "markdown",
   "id": "3dca27a8-d458-4c78-be6b-cb9c8e3f2251",
   "metadata": {},
   "source": [
    "## Marco-o1模型部署&使用"
   ]
  },
  {
   "cell_type": "markdown",
   "id": "7b6d51ff-f491-4497-8301-e4f3279b7fb1",
   "metadata": {},
   "source": [
    "> 本流程使用Ollama在Linux环境下通过命令行进行部署，如果对ollama安装和使用方式（如API调用、高级对话形式、模型管理等）有不熟悉的可以参考前面的视频内容进行学习。"
   ]
  },
  {
   "cell_type": "markdown",
   "id": "7489642b-df05-42ac-ae46-e5cbf7cf52e0",
   "metadata": {},
   "source": [
    "### 本地部署硬件推荐"
   ]
  },
  {
   "cell_type": "markdown",
   "id": "37039ea7-58cd-439a-9396-bc8c3a56e822",
   "metadata": {},
   "source": [
    "Linux系统：\n",
    "1. 操作系统：推荐Ubuntu 22.04或更高版本，或其他支持的Linux发行版。\n",
    "2. 显卡:推荐使用 NVIDIA GPU（如 T4、V100、A10 等），或 AMD GPU，在本流程中至少需要 6GB 的显存。\n",
    "3. 内存：至少 16GB 的 RAM，在运行更大的模型的时候需要更多内存。（纯CPU推理情况）\r",
    "4. 硬盘空间：在每个模型的支持列表中会显示安装所需的空间大小，在本流程中最少5GB用于模型下载。"
   ]
  },
  {
   "cell_type": "markdown",
   "id": "e3d4aa49-e6ab-4288-9550-38daca930ea7",
   "metadata": {},
   "source": [
    "### 下载&更新Ollama"
   ]
  },
  {
   "cell_type": "markdown",
   "id": "7c92f155-b94c-4c9b-9046-12dced15d991",
   "metadata": {},
   "source": [
    "首先我们在命令行中输入以下信息实现进行Ollama的安装（如已经按照执行该命令会实现软件更新）。"
   ]
  },
  {
   "cell_type": "markdown",
   "id": "487cdcf0-ded9-4f2c-ade7-3f6d1fded097",
   "metadata": {},
   "source": [
    "下载Ollama的指令如下："
   ]
  },
  {
   "cell_type": "markdown",
   "id": "4023f58f-681c-4bc3-bb96-8aa855326681",
   "metadata": {},
   "source": [
    "```\n",
    "curl -fsSL https://ollama.com/install.sh | sh\r\n",
    "\n",
    "```"
   ]
  },
  {
   "cell_type": "markdown",
   "id": "4490be4c-0b2a-43ce-b499-30c9d1cd8a21",
   "metadata": {},
   "source": [
    "<div align=center><img src=\"https://typora-photo1220.oss-cn-beijing.aliyuncs.com/LingYu/image-20241111104241685.png\" width=80%></div>"
   ]
  },
  {
   "cell_type": "markdown",
   "id": "6013bc59-9ac0-4755-bc6a-1cf73e968d37",
   "metadata": {},
   "source": [
    "下载完成后检测,如果返回版本号则说明成功下载：\n",
    "```\n",
    "ollama -v\n",
    "```"
   ]
  },
  {
   "cell_type": "markdown",
   "id": "c5d034d2-6893-4885-90c5-1d80449538ea",
   "metadata": {},
   "source": [
    "<div align=center><img src=\"https://typora-photo1220.oss-cn-beijing.aliyuncs.com/LingYu/image-20241120173953653.png\" width=60%></div>"
   ]
  },
  {
   "cell_type": "markdown",
   "id": "fa64bae8-7dd0-4b75-b6ce-bd5ae9798d8a",
   "metadata": {},
   "source": [
    "**下载模型**\r"
   ]
  },
  {
   "cell_type": "markdown",
   "id": "d81503a7-bb28-4e90-b015-227ec2c2cfb8",
   "metadata": {},
   "source": [
    "在终端中执行命令 `ollama run marco-o1` ，即可下载该模型。模型下载完成后，会自动启动大模型，进入命令行交互模式，直接输入指令，就可以和模型进行对话了对应参数的模型的下载方式可以通过在Ollama官网查看到下载指令。"
   ]
  },
  {
   "cell_type": "markdown",
   "id": "de4e60d9-1710-4183-89fc-e14cdd052fb3",
   "metadata": {},
   "source": [
    "官网模型挂载地址: https://ollama.com/library/marco-o1"
   ]
  },
  {
   "cell_type": "markdown",
   "id": "81748f8d-9df7-4ea8-b7a3-1abfe3309d0f",
   "metadata": {},
   "source": [
    "<div align=center><img src=\"https://typora-photo1220.oss-cn-beijing.aliyuncs.com/LingYu/image-20241125124339960.png\" width=100%></div>"
   ]
  },
  {
   "cell_type": "markdown",
   "id": "860269a9-78f0-420c-b933-3cfa5268efc3",
   "metadata": {},
   "source": [
    "完成下载后会直接进入模型启动状态，如果退出或刷新界面，再次输入指令 `ollama run marco-o1` 即可启动对应模型。\n",
    "使用Ollama进行推理marco-o1所需的计算资源仅需要不到6GB的显存。"
   ]
  },
  {
   "cell_type": "markdown",
   "id": "88b0e40b-122e-40db-8eae-1c0435e77dd4",
   "metadata": {},
   "source": [
    "<div align=center><img src=\"https://typora-photo1220.oss-cn-beijing.aliyuncs.com/LingYu/image-20241125140900258.png\" width=100%></div>"
   ]
  },
  {
   "cell_type": "markdown",
   "id": "14a65749-0706-4768-b0c4-de2ad2db3966",
   "metadata": {},
   "source": [
    "当命令行中返回>>>即可进行对话，当我进行简单测试的时候可以看到这个模型的回复风格与其他的确实大不相同。"
   ]
  },
  {
   "cell_type": "markdown",
   "id": "97461ac1-14a5-4032-bfc8-fc15af1f3d82",
   "metadata": {},
   "source": [
    "<div align=center><img src=\"https://typora-photo1220.oss-cn-beijing.aliyuncs.com/LingYu/image-20241125140915530.png\" width=100%></div>"
   ]
  },
  {
   "cell_type": "markdown",
   "id": "a6ae2e31-0f83-4026-b1e7-65f04b692773",
   "metadata": {},
   "source": [
    "<div align=center><img src=\"https://typora-photo1220.oss-cn-beijing.aliyuncs.com/LingYu/image-20241125140940160.png\" width=100%></div>"
   ]
  },
  {
   "cell_type": "markdown",
   "id": "ff171807-2bbf-4c28-ba9e-b132273f5637",
   "metadata": {},
   "source": [
    "## 模型比较"
   ]
  },
  {
   "cell_type": "markdown",
   "id": "ad8477d0-1dd1-4476-83f6-5053111ac9ff",
   "metadata": {},
   "source": [
    "下面我从几个维度进行marco-o1的性能测试：机器翻译、推理能力、数学能力、代码能力、开放性问题。\n",
    "\n",
    "同时，我选择了Qwen2.5：7B作为对照组，理由是Qwen2.和Qwen2.5在模型结构上没有区别，唯独的变化是预训练时Qwen2.5的数据质量更高，进而在理论上Qwen2.5：7B的模型效果会比Qwen2：7B微调得来的marco-o1更好。（这里使用的都是instruct模型）"
   ]
  },
  {
   "cell_type": "markdown",
   "id": "5c7b344d-0142-4f6e-b4da-bc9862234387",
   "metadata": {},
   "source": [
    "### 机器翻译"
   ]
  },
  {
   "cell_type": "markdown",
   "id": "fc525dd0-0bf9-4a9f-8eec-deee2b2f081f",
   "metadata": {},
   "source": [
    "> 这个领域可以很好的落地于海外电商、字幕翻译、宣传等场景，翻译的最高境界是：信、达、雅。  即翻译要尽可能忠实于原文的内容和意义，同时内容要通顺易懂，语言要优美、得体，不仅要准确和流畅，还要符合目标语言的文化习惯和审美标准。"
   ]
  },
  {
   "cell_type": "markdown",
   "id": "ab3585d7-7d3c-40c0-bd88-bf9fde1313ab",
   "metadata": {},
   "source": [
    "1. 这双鞋底部松软，踩起来有踩屎感，很舒服."
   ]
  },
  {
   "cell_type": "markdown",
   "id": "58b3377e-4163-4da7-b607-7adcfb21af50",
   "metadata": {},
   "source": [
    "**marco-o1**"
   ]
  },
  {
   "cell_type": "markdown",
   "id": "15437da6-c09e-4793-9905-018e63f25441",
   "metadata": {},
   "source": [
    "<div align=center><img src=\"https://typora-photo1220.oss-cn-beijing.aliyuncs.com/LingYu/image-20241125141920595.png\" width=100%></div>"
   ]
  },
  {
   "cell_type": "markdown",
   "id": "f9858639-e458-461e-b3e8-d3c25908178b",
   "metadata": {},
   "source": [
    "**Qwen2.5：7B**"
   ]
  },
  {
   "cell_type": "markdown",
   "id": "7b08c520-dd1e-4c02-ad80-196fe9a39604",
   "metadata": {},
   "source": [
    "<div align=center><img src=\"https://typora-photo1220.oss-cn-beijing.aliyuncs.com/LingYu/image-20241126171941441.png\" width=100%></div>"
   ]
  },
  {
   "cell_type": "markdown",
   "id": "0b502903-f6d3-48bb-ae02-45ea052920ae",
   "metadata": {},
   "source": [
    "可以看到marco-o1在理解整句话之后进行翻译，做到了抓住句子核心思想。而Qwen2.5：7B只是讲句子进行了直译，所以`踩屎感`被理解成了不舒服的感觉，整个句子翻译下来矛盾。"
   ]
  },
  {
   "cell_type": "markdown",
   "id": "6e746104-ec6f-4a37-81d5-670b995c8ca6",
   "metadata": {},
   "source": [
    "---"
   ]
  },
  {
   "cell_type": "markdown",
   "id": "fc4b5d87-dec4-44c0-b2a0-312e2abe88c9",
   "metadata": {},
   "source": [
    "2. 姐妹们，这个糯叽叽的真的很懂我们芋泥脑袋"
   ]
  },
  {
   "cell_type": "markdown",
   "id": "8b6148c8-ca35-414c-8dd4-9d3f43b6c2ff",
   "metadata": {},
   "source": [
    "**marco-o1**"
   ]
  },
  {
   "cell_type": "markdown",
   "id": "1813bd01-b27e-45c9-aef7-ee890593c2d7",
   "metadata": {},
   "source": [
    "<div align=center><img src=\"https://typora-photo1220.oss-cn-beijing.aliyuncs.com/LingYu/image-20241125143709542.png\" width=100%></div>"
   ]
  },
  {
   "cell_type": "markdown",
   "id": "ff2306f8-66e2-4ca9-b768-966435be5fc8",
   "metadata": {},
   "source": [
    "**Qwen2.5：7B**"
   ]
  },
  {
   "cell_type": "markdown",
   "id": "9c49bc7d-f554-4974-b903-0fd60f538063",
   "metadata": {},
   "source": [
    "<div align=center><img src=\"https://typora-photo1220.oss-cn-beijing.aliyuncs.com/LingYu/image-20241126172328648.png\" width=100%></div>"
   ]
  },
  {
   "cell_type": "markdown",
   "id": "b6211d39-fe2e-49f9-a500-cc8a1536557a",
   "metadata": {},
   "source": [
    "marco-o1翻译的时候保留了原意（sisters、gooey thing、gets us），同时翻译效果比较符合英语语境比较直接的习惯，但是Qwen2.5：7B出现了错误翻译（lipstick），同时已经直接翻译现象严重（yummy heads）。"
   ]
  },
  {
   "cell_type": "markdown",
   "id": "32592c36-4620-4b31-9081-9d12c491949e",
   "metadata": {},
   "source": [
    "3. 识时务者为俊杰"
   ]
  },
  {
   "cell_type": "markdown",
   "id": "8cf93e28-5595-4ab7-921b-043705436954",
   "metadata": {},
   "source": [
    "**marco-o1**"
   ]
  },
  {
   "cell_type": "markdown",
   "id": "bef8a719-2848-4e4a-93d2-474b7ed550b8",
   "metadata": {},
   "source": [
    "<div align=center><img src=\"https://typora-photo1220.oss-cn-beijing.aliyuncs.com/LingYu/image-20241126173221393.png\" width=100%></div>"
   ]
  },
  {
   "cell_type": "markdown",
   "id": "57196690-c68f-46c4-af9b-d26f3de3bf1c",
   "metadata": {},
   "source": [
    "**Qwen2.5：7B**"
   ]
  },
  {
   "cell_type": "markdown",
   "id": "b0321bfa-34b3-4f7c-afba-f55c3409d52c",
   "metadata": {},
   "source": [
    "<div align=center><img src=\"https://typora-photo1220.oss-cn-beijing.aliyuncs.com/LingYu/image-20241126173055837.png\" width=80%></div>"
   ]
  },
  {
   "cell_type": "markdown",
   "id": "d7f1e336-897c-44ed-8832-befc5df19db0",
   "metadata": {},
   "source": [
    "marco-o1的翻译可以理解成：一个真正的领导者是能够理解时代的人，很好的把握住了`识时务`和`俊杰`的含义，Qwen2.5：7B在这里的的翻译也不差，将俊杰翻译成了有智慧的人。"
   ]
  },
  {
   "cell_type": "markdown",
   "id": "13837c99-1dd9-420c-bad1-34d7c69a82aa",
   "metadata": {},
   "source": [
    "4. 好风凭借力，送我上青云"
   ]
  },
  {
   "cell_type": "markdown",
   "id": "f202e390-6452-45c4-b330-1ff674cfb808",
   "metadata": {},
   "source": [
    "**marco-o1**"
   ]
  },
  {
   "cell_type": "markdown",
   "id": "1b4cde72-7000-4c3a-b634-20ef5f10d5b2",
   "metadata": {},
   "source": [
    "<div align=center><img src=\"https://typora-photo1220.oss-cn-beijing.aliyuncs.com/LingYu/image-20241126173721192.png\" width=100%></div>"
   ]
  },
  {
   "cell_type": "markdown",
   "id": "d0196ccf-590f-4a99-a59e-074a285d50c3",
   "metadata": {},
   "source": [
    "**Qwen2.5：7B**"
   ]
  },
  {
   "cell_type": "markdown",
   "id": "665a11db-b5c8-49de-85db-a24fa5dc4315",
   "metadata": {},
   "source": [
    "<div align=center><img src=\"https://typora-photo1220.oss-cn-beijing.aliyuncs.com/LingYu/image-20241126173536729.png\" width=100%></div>"
   ]
  },
  {
   "cell_type": "markdown",
   "id": "c27e52af-57a2-435d-8953-cf4dd72fae1f",
   "metadata": {},
   "source": [
    "在这句话中，两个模型都展现出了不错的翻译效果。"
   ]
  },
  {
   "cell_type": "markdown",
   "id": "5aba22f9-f317-4b56-ad98-6576e822acb7",
   "metadata": {},
   "source": [
    "5. 这件衣服太炸了，我很喜欢它"
   ]
  },
  {
   "cell_type": "markdown",
   "id": "f195f03a-30f9-4c72-8e26-049d44787ed9",
   "metadata": {},
   "source": [
    "**marco-o1**"
   ]
  },
  {
   "cell_type": "markdown",
   "id": "cb4c3f41-21d9-4679-9b8b-115c99d182d6",
   "metadata": {},
   "source": [
    "<div align=center><img src=\"https://typora-photo1220.oss-cn-beijing.aliyuncs.com/LingYu/image-20241127104835210.png\" width=100%></div>"
   ]
  },
  {
   "cell_type": "markdown",
   "id": "faf0752e-ccf8-47cb-b1e0-c0a0d716d6d7",
   "metadata": {},
   "source": [
    "**Qwen2.5：7B**"
   ]
  },
  {
   "cell_type": "markdown",
   "id": "6a22d234-b5c6-46fa-873d-4469efbf72dc",
   "metadata": {},
   "source": [
    "<div align=center><img src=\"https://typora-photo1220.oss-cn-beijing.aliyuncs.com/LingYu/image-20241127104912736.png\" width=100%></div>"
   ]
  },
  {
   "cell_type": "markdown",
   "id": "68fbbb5b-d223-4020-a641-f5afb4daeb25",
   "metadata": {},
   "source": [
    "在这句话中，两个模型都展现出了不错的翻译效果。"
   ]
  },
  {
   "cell_type": "markdown",
   "id": "728cd9b8-e499-4455-9ac4-c94300248f12",
   "metadata": {},
   "source": [
    "---"
   ]
  },
  {
   "cell_type": "markdown",
   "id": "9985a9d4-7843-4353-9d69-1120b034ded4",
   "metadata": {},
   "source": [
    "### 数字母"
   ]
  },
  {
   "cell_type": "markdown",
   "id": "199c432a-6909-4f90-9a98-4a73121d179c",
   "metadata": {},
   "source": [
    "在大模型领域一直有这样一个难题，那就是很难数清一个单词里面对应的字母，即“strawberry”难题。这是由于大模型本身的机制导致的：LLM在识别字词的时候都是以token的形式进行理解的，一个token所涵盖的往往不是一整个单词（如下图所示），因此通常的大模型不能很好的理解单词的本质，进而无法正确数出“strawberry”中r的数量。而marco-o1在这个领域表现的就很好，这也是由于其推理能力的增强导致的。"
   ]
  },
  {
   "cell_type": "markdown",
   "id": "e6b05612-0293-487d-9ce8-5f56316e57ad",
   "metadata": {},
   "source": [
    "<div align=center><img src=\"https://typora-photo1220.oss-cn-beijing.aliyuncs.com/LingYu/image-20241127165745043.png\" width=100%></div>"
   ]
  },
  {
   "cell_type": "markdown",
   "id": "cdc5a3d5-deef-4d26-a850-edc933bc3b06",
   "metadata": {},
   "source": [
    "接下来进行一些简单的英语单词数字母测试，我们可以通过不同模型的分析过程看出它们在推理时的区别："
   ]
  },
  {
   "cell_type": "markdown",
   "id": "a84a7c99-947e-4066-b0bd-cf0c1c12dadc",
   "metadata": {},
   "source": [
    "- How many Rs are in strawberry?"
   ]
  },
  {
   "cell_type": "markdown",
   "id": "7f517326-161a-4c48-8393-5caf9ddf70c6",
   "metadata": {},
   "source": [
    "**marco-o1**"
   ]
  },
  {
   "cell_type": "markdown",
   "id": "f19a267c-265f-44d7-9873-293eb254cb95",
   "metadata": {},
   "source": [
    "<div align=center><img src=\"https://typora-photo1220.oss-cn-beijing.aliyuncs.com/LingYu/image-20241125154905280.png\" width=100%></div>"
   ]
  },
  {
   "cell_type": "markdown",
   "id": "25abcb6e-9b29-4030-a9b3-e5239d2403e3",
   "metadata": {},
   "source": [
    "**Qwen2.5：7B**"
   ]
  },
  {
   "cell_type": "markdown",
   "id": "d447d48a-2558-454a-a5c6-e0133aa9e5b0",
   "metadata": {},
   "source": [
    "<div align=center><img src=\"https://typora-photo1220.oss-cn-beijing.aliyuncs.com/LingYu/image-20241126170852530.png\" width=100%></div>"
   ]
  },
  {
   "cell_type": "markdown",
   "id": "782816e2-44c1-4dc3-bcc9-4f08c11ca8da",
   "metadata": {},
   "source": [
    "- How many 'e's are there in the word blueberry?"
   ]
  },
  {
   "cell_type": "markdown",
   "id": "8d76050c-b76b-4af7-9009-ddb942458a95",
   "metadata": {},
   "source": [
    "**marco-o1**"
   ]
  },
  {
   "cell_type": "markdown",
   "id": "d8ea777a-1f1a-4a28-895e-e185ff142e8f",
   "metadata": {},
   "source": [
    "<div align=center><img src=\"https://typora-photo1220.oss-cn-beijing.aliyuncs.com/LingYu/image-20241125155120689.png\" width=100%></div>"
   ]
  },
  {
   "cell_type": "markdown",
   "id": "77d879c5-6e9a-4eee-9ce0-27dcd5b86aa6",
   "metadata": {},
   "source": [
    "**Qwen2.5：7B**"
   ]
  },
  {
   "cell_type": "markdown",
   "id": "37c7b5fe-94d8-40a7-a4be-7d457f35f599",
   "metadata": {},
   "source": [
    "<div align=center><img src=\"https://typora-photo1220.oss-cn-beijing.aliyuncs.com/LingYu/image-20241126171011367.png\" width=100%></div>"
   ]
  },
  {
   "cell_type": "markdown",
   "id": "f68abedf-eb10-4e2e-9e3b-195cd99d50ca",
   "metadata": {},
   "source": [
    "- How many a in the word of banana"
   ]
  },
  {
   "cell_type": "markdown",
   "id": "602b5533-e40b-4f6d-836b-c3462e289118",
   "metadata": {},
   "source": [
    "**marco-o1**"
   ]
  },
  {
   "cell_type": "markdown",
   "id": "81b7b5f3-3b40-45fd-b5f6-92995af37366",
   "metadata": {},
   "source": [
    "<div align=center><img src=\"https://typora-photo1220.oss-cn-beijing.aliyuncs.com/LingYu/image-20241126171547520.png\" width=100%></div>"
   ]
  },
  {
   "cell_type": "markdown",
   "id": "7f167d32-d411-4e5d-b9b0-15c4a2908a87",
   "metadata": {},
   "source": [
    "**Qwen2.5：7B**"
   ]
  },
  {
   "cell_type": "markdown",
   "id": "2d1bbf4a-9bf7-4a31-be98-d0c42df7cb54",
   "metadata": {},
   "source": [
    "<div align=center><img src=\"https://typora-photo1220.oss-cn-beijing.aliyuncs.com/LingYu/image-20241126171422328.png\" width=100%></div>"
   ]
  },
  {
   "cell_type": "markdown",
   "id": "0799e75f-fa14-4746-bdde-796ded1bc652",
   "metadata": {},
   "source": [
    "可见在这个测试中marco-o1完胜Qwen2.5：7B。"
   ]
  },
  {
   "cell_type": "markdown",
   "id": "6ef633bd-3ac1-43c8-b687-a48dc6c95a6e",
   "metadata": {},
   "source": [
    "### 推理能力"
   ]
  },
  {
   "cell_type": "markdown",
   "id": "767dd988-5ad3-4bfd-b173-1690f38b97f3",
   "metadata": {},
   "source": [
    "> 推理能力本身就是目前各大大模型研究团体正在突破的方向，具有更强推理能力的模型在面对复杂问题时才能展现出更好的适应能力。在想面对编程问题、数学问题的时候才会展现出更优的性能。"
   ]
  },
  {
   "cell_type": "markdown",
   "id": "ab78400b-cc58-4615-94a3-2af627f9e8a7",
   "metadata": {},
   "source": [
    "- 先进行一个小栗子测试，经典的9.11和9.8谁大："
   ]
  },
  {
   "cell_type": "markdown",
   "id": "ccba29cd-8a0e-4e48-ae19-f299dff4df6b",
   "metadata": {},
   "source": [
    "**marco-o1**"
   ]
  },
  {
   "cell_type": "markdown",
   "id": "f35c2eeb-4a32-43ae-8bca-3efa24ba37e3",
   "metadata": {},
   "source": [
    "<div align=center><img src=\"https://typora-photo1220.oss-cn-beijing.aliyuncs.com/LingYu/image-20241126174152927.png\" width=100%></div>"
   ]
  },
  {
   "cell_type": "markdown",
   "id": "a14b6a4d-c633-4410-8930-bc7d91eff4b5",
   "metadata": {},
   "source": [
    "**Qwen2.5：7B**"
   ]
  },
  {
   "cell_type": "markdown",
   "id": "2fa59e6d-c3b6-4d50-8ca6-fc4fbdcc43d3",
   "metadata": {},
   "source": [
    "<div align=center><img src=\"https://typora-photo1220.oss-cn-beijing.aliyuncs.com/LingYu/image-20241126174257620.png\" width=100%></div>"
   ]
  },
  {
   "cell_type": "markdown",
   "id": "3d2ab645-2bba-4770-a330-b6b25a85d4be",
   "metadata": {},
   "source": [
    "看样子是描述的不够准确两个模型都理解成了比较日期大小，增加提示词，使其更准确的了解我们的问题，再进行推理回答。"
   ]
  },
  {
   "cell_type": "markdown",
   "id": "dd3ed51a-3421-4b0d-97b4-894a481dcb03",
   "metadata": {},
   "source": [
    "- 进行数字比较，9.11和9.8哪个大"
   ]
  },
  {
   "cell_type": "markdown",
   "id": "40b3d71b-8890-4c74-aa96-4552b09e8b04",
   "metadata": {},
   "source": [
    "**marco-o1**"
   ]
  },
  {
   "cell_type": "markdown",
   "id": "3cc2e511-ab55-4f15-b671-f916528a617a",
   "metadata": {},
   "source": [
    "<div align=center><img src=\"https://typora-photo1220.oss-cn-beijing.aliyuncs.com/LingYu/image-20241126174235757.png\" width=100%></div>"
   ]
  },
  {
   "cell_type": "markdown",
   "id": "16829031-0c2b-40b6-8803-956ad8b1441f",
   "metadata": {},
   "source": [
    "**Qwen2.5：7B**"
   ]
  },
  {
   "cell_type": "markdown",
   "id": "19b21e6c-cf35-4fc0-ae19-ce7ef388e245",
   "metadata": {},
   "source": [
    "<div align=center><img src=\"https://typora-photo1220.oss-cn-beijing.aliyuncs.com/LingYu/image-20241126174342622.png\" width=100%></div>"
   ]
  },
  {
   "cell_type": "markdown",
   "id": "d2191aa7-d1aa-4371-8594-73a737a9a63e",
   "metadata": {},
   "source": [
    "可以看到marco-o1很好的理解了这个问题的关键是在比较小数点后面的大小，进而在比较是按照百分数的形式进行推理，最后得出正确的答案。而Qwen2.5：7B直接给出答案，而后再进行分析，在分析推理的时候也是忽略了小数的作用直接比较了数字的大小（11-8）."
   ]
  },
  {
   "cell_type": "markdown",
   "id": "dbd873e4-748b-4ba8-b1ba-a729e702495d",
   "metadata": {},
   "source": [
    "- 推理计算题"
   ]
  },
  {
   "cell_type": "markdown",
   "id": "4b96e88e-88c8-4797-83c3-ade934f926c7",
   "metadata": {},
   "source": [
    "**marco-o1**"
   ]
  },
  {
   "cell_type": "markdown",
   "id": "b97e57b0-75cc-46fe-a7bc-87ec6df8cbfa",
   "metadata": {},
   "source": [
    "<div align=center><img src=\"https://typora-photo1220.oss-cn-beijing.aliyuncs.com/LingYu/image-20241126175602462.png\" width=100%></div>"
   ]
  },
  {
   "cell_type": "markdown",
   "id": "ef4d0d11-2a5b-4fa5-a80e-d3bfb12644c3",
   "metadata": {},
   "source": [
    "**Qwen2.5：7B**"
   ]
  },
  {
   "cell_type": "markdown",
   "id": "01878d39-3594-49eb-8142-9055a543b1f1",
   "metadata": {},
   "source": [
    "<div align=center><img src=\"https://typora-photo1220.oss-cn-beijing.aliyuncs.com/LingYu/image-20241126175602462.png\" width=100%></div>"
   ]
  },
  {
   "cell_type": "markdown",
   "id": "eb90baee-1c3e-42fe-8b29-be414e0002ec",
   "metadata": {},
   "source": [
    "两个模型都通过正确的推理的到了正确的答案。"
   ]
  },
  {
   "cell_type": "markdown",
   "id": "715b5be1-f892-4512-a38a-347129769e78",
   "metadata": {},
   "source": [
    "### 数学能力"
   ]
  },
  {
   "cell_type": "markdown",
   "id": "44c84fea-e00c-4a93-9864-30d6a10592ce",
   "metadata": {},
   "source": [
    "- 计算未知数的值： 23x+87=4x*x"
   ]
  },
  {
   "cell_type": "markdown",
   "id": "caeee057-8389-43f3-a690-0dd55d2d834b",
   "metadata": {},
   "source": [
    "**marco-o1**"
   ]
  },
  {
   "cell_type": "markdown",
   "id": "768ed12b-40de-43e3-9215-afbeab7cb3ab",
   "metadata": {},
   "source": [
    "<div align=center><img src=\"https://typora-photo1220.oss-cn-beijing.aliyuncs.com/LingYu/image-20241125145516897.png\" width=100%></div>"
   ]
  },
  {
   "cell_type": "markdown",
   "id": "15c6c831-c679-4852-8e68-d0b20e47b971",
   "metadata": {},
   "source": [
    "<div align=center><img src=\"https://typora-photo1220.oss-cn-beijing.aliyuncs.com/LingYu/image-20241125145813503.png\" width=100%></div>"
   ]
  },
  {
   "cell_type": "markdown",
   "id": "a4f19ff9-10db-43d1-82da-053dc4967fe6",
   "metadata": {},
   "source": [
    "**Qwen2.5：7B**"
   ]
  },
  {
   "cell_type": "markdown",
   "id": "c3c40f7b-da5c-42b5-a6ab-399a8ee27510",
   "metadata": {},
   "source": [
    "<div align=center><img src=\"https://typora-photo1220.oss-cn-beijing.aliyuncs.com/LingYu/image-20241126175122462.png\" width=100%></div>"
   ]
  },
  {
   "cell_type": "markdown",
   "id": "5c87b24a-ab7c-46da-920a-08d27e466ebf",
   "metadata": {},
   "source": [
    "对于这个中等难度的数学题，两个模型计算结果都正确."
   ]
  },
  {
   "cell_type": "markdown",
   "id": "0258767f-5c3b-4a49-aff7-27927b5f4403",
   "metadata": {},
   "source": [
    "- 证明极限：n趋于无穷的时候1/（n^2）为0"
   ]
  },
  {
   "cell_type": "markdown",
   "id": "fd4c1f87-a3ac-4811-82d9-6239fb1e0de6",
   "metadata": {},
   "source": [
    "**marco-o1**"
   ]
  },
  {
   "cell_type": "markdown",
   "id": "6a7f10fb-8782-4281-9c12-4b761e144e92",
   "metadata": {},
   "source": [
    "<div align=center><img src=\"https://typora-photo1220.oss-cn-beijing.aliyuncs.com/LingYu/image-20241125161952917.png\" width=40%></div>"
   ]
  },
  {
   "cell_type": "markdown",
   "id": "d0b08e8a-b8e8-4d3a-9064-24b4d7ab80ee",
   "metadata": {},
   "source": [
    "<div align=center><img src=\"https://typora-photo1220.oss-cn-beijing.aliyuncs.com/LingYu/image-20241125162006746.png\" width=40%></div>"
   ]
  },
  {
   "cell_type": "markdown",
   "id": "628bf23e-2cd1-4979-b573-2d00c7765cc3",
   "metadata": {},
   "source": [
    "<div align=center><img src=\"https://typora-photo1220.oss-cn-beijing.aliyuncs.com/LingYu/image-20241125162637535.png\" width=60%></div>"
   ]
  },
  {
   "cell_type": "markdown",
   "id": "5ebb9a69-0aac-40cc-b444-c374bc3a9ed5",
   "metadata": {},
   "source": [
    "**Qwen2.5：7B**"
   ]
  },
  {
   "cell_type": "markdown",
   "id": "11b02a25-5ad8-4480-87fc-d85c2dc02b5a",
   "metadata": {},
   "source": [
    "<div align=center><img src=\"https://typora-photo1220.oss-cn-beijing.aliyuncs.com/LingYu/image-20241126175649646.png\" width=60%></div>"
   ]
  },
  {
   "cell_type": "markdown",
   "id": "79a15370-6487-46da-90b0-4f1ad3e860c0",
   "metadata": {},
   "source": [
    "对于这道高阶数学问题，两者的证明均合理且正确。marco-o1额外举了一个实例进行测试。"
   ]
  },
  {
   "cell_type": "markdown",
   "id": "1c31a564-d14c-40e2-a36f-f4f421d3f54e",
   "metadata": {},
   "source": [
    "### 代码生成"
   ]
  },
  {
   "cell_type": "markdown",
   "id": "73d1791d-3407-4d90-9576-4dec0dd49b53",
   "metadata": {},
   "source": [
    "- 为我用python写一段贪吃蛇代码，要求蛇是黄色的，食物是绿色的。"
   ]
  },
  {
   "cell_type": "markdown",
   "id": "eb98d92e-5f3b-4f11-a777-d78d06db382c",
   "metadata": {},
   "source": [
    "**marco-o1**"
   ]
  },
  {
   "cell_type": "markdown",
   "id": "05fad066-39f6-4019-981c-a952a3a1b5f3",
   "metadata": {},
   "source": [
    "<div align=center><img src=\"https://typora-photo1220.oss-cn-beijing.aliyuncs.com/LingYu/image-20241125150027664.png\" width=40%></div>"
   ]
  },
  {
   "cell_type": "markdown",
   "id": "6fdfafdf-c7a6-4e85-87a4-b05a1343ac8f",
   "metadata": {},
   "source": [
    "其生成的完整代码如下，我将其复制在编译器中进行测试，可以正常运行且按照我的要求将蛇设定为黄色，食物设定为绿色的。"
   ]
  },
  {
   "cell_type": "markdown",
   "id": "a3299e83-90ea-44c0-821d-54b2bce02ff2",
   "metadata": {},
   "source": [
    "```python\n",
    "import pygame\r\n",
    "import sys\r\n",
    "from random import randrange\r\n",
    "\r\n",
    "# Initialize Pygame\r\n",
    "pygame.init()\r\n",
    "\r\n",
    "# Define colors\r\n",
    "yellow = (255, 255, 0)\r\n",
    "green = (0, 255, 0)\r\n",
    "black = (0, 0, 0)\r\n",
    "\r\n",
    "# Set up the game window dimensions\r\n",
    "width = 800\r\n",
    "height = 600\r\n",
    "\r\n",
    "# Create the display surface\r\n",
    "win = pygame.display.set_mode((width, height))\r\n",
    "pygame.display.set_caption(\"Snake Game\")\r\n",
    "\r\n",
    "# Clock for controlling the frame rate\r\n",
    "clock = pygame.time.Clock()\r\n",
    "fps = 15\r\n",
    "\r\n",
    "# Snake settings\r\n",
    "snake_size = 20\r\n",
    "snake_speed = 20\r\n",
    "\r\n",
    "# Food settings\r\n",
    "food_size = 20\r\n",
    "\r\n",
    "# Initialize snake position and direction\r\n",
    "def init_snake():\r\n",
    "    return [\r\n",
    "        [100, 100],\r\n",
    "        [80, 100],\r\n",
    "        [60, 100]\r\n",
    "    ], 'RIGHT'\r\n",
    "\r\n",
    "snake, direction = init_snake()\r\n",
    "\r\n",
    "# Function to generate food\r\n",
    "def generate_food(snake):\r\n",
    "    while True:\r\n",
    "        x = randrange(0, width - food_size) // food_size * food_size\r\n",
    "        y = randrange(0, height - food_size) // food_size * food_size\r\n",
    "        if [x, y] not in snake:\r\n",
    "            return [x, y]\r\n",
    "\r\n",
    "food = generate_food(snake)\r\n",
    "\r\n",
    "# Main game loop\r\n",
    "while True:\r\n",
    "    clock.tick(fps)\r\n",
    "    \r\n",
    "    # Handle events\r\n",
    "    for event in pygame.event.get():\r\n",
    "        if event.type == pygame.QUIT:\r\n",
    "            pygame.quit()\r\n",
    "            sys.exit()\r\n",
    "        elif event.type == pygame.KEYDOWN:\r\n",
    "            if event.key == pygame.K_UP and direction != 'DOWN':\r\n",
    "                direction = 'UP'\r\n",
    "            elif event.key == pygame.K_DOWN and direction != 'UP':\r\n",
    "                direction = 'DOWN'\r\n",
    "            elif event.key == pygame.K_LEFT and direction != 'RIGHT':\r\n",
    "                direction = 'LEFT'\r\n",
    "            elif event.key == pygame.K_RIGHT and direction != 'LEFT':\r\n",
    "                direction = 'RIGHT'\r\n",
    "    \r\n",
    "    # Move the snake\r\n",
    "    head = snake[0].copy()\r\n",
    "    if direction == 'UP':\r\n",
    "        head[1] -= snake_size\r\n",
    "    elif direction == 'DOWN':\r\n",
    "        head[1] += snake_size\r\n",
    "    elif direction == 'LEFT':\r\n",
    "        head[0] -= snake_size\r\n",
    "    elif direction == 'RIGHT':\r\n",
    "        head[0] += snake_size\r\n",
    "    \r\n",
    "    snake.insert(0, head)\r\n",
    "    \r\n",
    "    # Check for collision with food\r\n",
    "    if snake[0] == food:\r\n",
    "        food = generate_food(snake)\r\n",
    "    else:\r\n",
    "        snake.pop()\r\n",
    "    \r\n",
    "    # Check for collisions with walls or itself\r\n",
    "    if (snake[0][0] < 0 or snake[0][0] >= width - snake_size or \r\n",
    "        snake[0][1] < 0 or snake[0][1] >= height - snake_size):\r\n",
    "        pygame.quit()\r\n",
    "        sys.exit()\r\n",
    "    \r\n",
    "    for segment in snake[1:]:\r\n",
    "        if snake[0] == segment:\r\n",
    "            pygame.quit()\r\n",
    "            sys.exit()\r\n",
    "    \r\n",
    "    # Fill the background\r\n",
    "    win.fill(black)\r\n",
    "    \r\n",
    "    # Draw food\r\n",
    "    pygame.draw.rect(win, green, (food[0], food[1], food_size, food_size))\r\n",
    "    \r\n",
    "    # Draw snake\r\n",
    "    for segment in snake:\r\n",
    "        pygame.draw.rect(win, yellow, (segment[0], segment[1], snake_size, snake_size))\r\n",
    "    \r\n",
    "    pygame.display.flip()\n",
    "```"
   ]
  },
  {
   "cell_type": "markdown",
   "id": "e651dd39-e95a-4080-96af-f71e5c5cd953",
   "metadata": {},
   "source": [
    "实机效果演示："
   ]
  },
  {
   "cell_type": "markdown",
   "id": "49ade475-d70f-4376-b9c9-c3bc447e7c28",
   "metadata": {},
   "source": [
    "<div align=center><img src=\"https://typora-photo1220.oss-cn-beijing.aliyuncs.com/LingYu/image-20241125150334483.png\" width=60%></div>"
   ]
  },
  {
   "cell_type": "markdown",
   "id": "11007821-1344-4d7e-95ea-22af609ff9c2",
   "metadata": {},
   "source": [
    "**Qwen2.5：7B**"
   ]
  },
  {
   "cell_type": "markdown",
   "id": "d5109e51-9156-426c-9c5d-76728325aa39",
   "metadata": {},
   "source": [
    "同样的问题交给Qwen2.5：7B，也会得到一段代码，但是其不能直接运行。"
   ]
  },
  {
   "cell_type": "markdown",
   "id": "607a9362-f4fa-4ca6-92c9-3506a0c49a1b",
   "metadata": {},
   "source": [
    "<div align=center><img src=\"https://typora-photo1220.oss-cn-beijing.aliyuncs.com/LingYu/image-20241126175513804.png\" width=60%></div>"
   ]
  },
  {
   "cell_type": "markdown",
   "id": "542e9e1b-7a76-43c8-8d30-96a6b24db11f",
   "metadata": {},
   "source": [
    "其生成的全部代码如下："
   ]
  },
  {
   "cell_type": "markdown",
   "id": "a44b56d9-e8ad-4fd8-80ba-c636c67b72e1",
   "metadata": {},
   "source": [
    "```python\n",
    "import pygame\r\n",
    "import random\r\n",
    "\r\n",
    "# 初始化 Pygame\r\n",
    "pygame.init()\r\n",
    "\r\n",
    "# 设置窗口大小\r\n",
    "width, height = 640, 480\r\n",
    "screen = pygame.display.set_mode((width, height))\r\n",
    "pygame.display.set_caption(\"黄色贪吃蛇游戏\")\r\n",
    "\r\n",
    "# 颜色定义\r\n",
    "black = (0, 0, 0)\r\n",
    "yellow = (255, 255, 0)\r\n",
    "green = (0, 255, 0)\r\n",
    "\r\n",
    "# 蛇和食物的初始位置\r\n",
    "snake_pos = [[100, 50], [90, 50], [80, 50]]\r\n",
    "food_pos = [random.randrange(1, (width//10)) * 10, random.randrange(1, (height//10)) * \r\n",
    "10]\r\n",
    "food_spawn = True\r\n",
    "\r\n",
    "# 方向\r\n",
    "direction = 'RIGHT'\r\n",
    "change_to = direction\r\n",
    "\r\n",
    "clock = pygame.time.Clock()\r\n",
    "snake_length = 3\r\n",
    "snake_speed = 15\r\n",
    "\r\n",
    "# 游戏循环\r\n",
    "running = True\r\n",
    "while running:\r\n",
    "    for event in pygame.event.get():\r\n",
    "        if event.type == pygame.QUIT:\r\n",
    "            running = False\r\n",
    "        elif event.type == pygame.KEYDOWN:\r\n",
    "            if event.key == pygame.K_UP:\r\n",
    "                change_to = 'UP'\r\n",
    "            if event.key == pygame.K_DOWN:\r\n",
    "                change_to = 'DOWN'\r\n",
    "            if event.key == pygame.K_LEFT:\r\n",
    "                change_to = 'LEFT'\r\n",
    "            if event.key == pygame.K_RIGHT:\r\n",
    "                change_to = 'RIGHT'\r\n",
    "\r\n",
    "    # 判断是否方向冲突\r\n",
    "    if change_to == 'UP' and direction != 'DOWN':\r\n",
    "        direction = 'UP'\r\n",
    "    if change_to == 'DOWN' and direction != 'UP':\r\n",
    "        direction = 'DOWN'\r\n",
    "    if change_to == 'LEFT' and direction != 'RIGHT':\r\n",
    "        direction = 'LEFT'\r\n",
    "    if change_to == 'RIGHT' and direction != 'LEFT':\r\n",
    "        direction = 'RIGHT'\r\n",
    "\r\n",
    "    # 移动蛇\r\n",
    "    if direction == 'UP':\r\n",
    "        snake_pos[0][1] -= 10\r\n",
    "    if direction == 'DOWN':\r\n",
    "        snake_pos[0][1] += 10\r\n",
    "    if direction == 'LEFT':\r\n",
    "        snake_pos[0][0] -= 10\r\n",
    "    if direction == 'RIGHT':\r\n",
    "        snake_pos[0][0] += 10\r\n",
    "\r\n",
    "    # 蛇身体增长机制\r\n",
    "    snake_body = []\r\n",
    "    for pos in snake_pos:\r\n",
    "        snake_body.append(list(pos))\r\n",
    "    if len(snake_body) > snake_length:\r\n",
    "        del snake_body[0]\r\n",
    "\r\n",
    "    # 检查是否吃到食物\r\n",
    "    if snake_body[0] == food_pos:\r\n",
    "        food_spawn = False\r\n",
    "        snake_length += 1\r\n",
    "    else:\r\n",
    "        del snake_body[-1]\r\n",
    "\r\n",
    "    # 重新生成食物\r\n",
    "    if not food_spawn:\r\n",
    "        food_pos = [random.randrange(1, (width//10)) * 10, random.randrange(1, \r\n",
    "(height//10)) * 10]\r\n",
    "        food_spawn = True\r\n",
    "\r\n",
    "    screen.fill(black)\r\n",
    "\r\n",
    "    # 绘制蛇和食物\r\n",
    "    for pos in snake_body:\r\n",
    "        pygame.draw.rect(screen, yellow, pygame.Rect(pos[0], pos[1], 10, 10))\r\n",
    "    \r\n",
    "    pygame.draw.rect(screen, green, pygame.Rect(food_pos[0], food_pos[1], 10, 10))\r\n",
    "\r\n",
    "    # 判断是否撞墙或自身\r\n",
    "    if snake_body[0][0] < 0 or snake_body[0][0] >= width or snake_body[0][1] < 0 or \r\n",
    "snake_body[0][1] >= height:\r\n",
    "        running = False\r\n",
    "\r\n",
    "    for block in snake_body[:-1]:\r\n",
    "        if snake_body[0] == block:\r\n",
    "            running = False\r\n",
    "\r\n",
    "    pygame.display.flip()\r\n",
    "    clock.tick(snake_speed)\r\n",
    "\r\n",
    "pygame.quit()\n",
    "\n",
    "```"
   ]
  },
  {
   "cell_type": "markdown",
   "id": "922d2ca4-3f87-4974-9f6a-cc3887b0ef27",
   "metadata": {},
   "source": [
    "实际演示效果："
   ]
  },
  {
   "cell_type": "markdown",
   "id": "469a7375-10b0-4f96-ac92-91742371233f",
   "metadata": {},
   "source": [
    "<div align=center><img src=\"https://typora-photo1220.oss-cn-beijing.aliyuncs.com/LingYu/image-20241126175436536.png\" width=60%></div>"
   ]
  },
  {
   "cell_type": "markdown",
   "id": "b7e34993-bd3f-4042-ad26-b03203f579f5",
   "metadata": {},
   "source": [
    "可见出现了一些语法错误。"
   ]
  },
  {
   "cell_type": "markdown",
   "id": "403f01e6-a7b3-4660-914b-9e12e4b672a7",
   "metadata": {},
   "source": [
    "### 开放性问题"
   ]
  },
  {
   "cell_type": "markdown",
   "id": "c8309b07-2949-462b-b1f8-7de16999118b",
   "metadata": {},
   "source": [
    "- 巴黎的首都在哪，以及巴黎和柏林之间的距离。"
   ]
  },
  {
   "cell_type": "markdown",
   "id": "8689bc71-fc6d-4546-8686-5ecab1bd6159",
   "metadata": {},
   "source": [
    "**marco-o1**"
   ]
  },
  {
   "cell_type": "markdown",
   "id": "27e6ae47-c042-47a3-a5ab-eb29a5d00732",
   "metadata": {},
   "source": [
    "<div align=center><img src=\"https://typora-photo1220.oss-cn-beijing.aliyuncs.com/LingYu/image-20241127111131904.png\" width=100%></div>"
   ]
  },
  {
   "cell_type": "markdown",
   "id": "5927ed8e-8832-4a30-987e-c6f4f8486e2d",
   "metadata": {},
   "source": [
    "<div align=center><img src=\"https://typora-photo1220.oss-cn-beijing.aliyuncs.com/LingYu/image-20241127175616466.png\" width=60%></div>"
   ]
  },
  {
   "cell_type": "markdown",
   "id": "f07173d3-17c6-46d2-9402-937495f51b7e",
   "metadata": {},
   "source": [
    "对于这个问题，marco-o1回答的基本正确，不过更值得关注的是，对于一个足够开放的问题，marco-o1进行了思考并给出了足够多的解决办法：通过两个城市的经纬度来计算距离（由于没有合适的计算工具转而尝试其他方法），计算著名地标之间的距离，计算两个城市之间的列车或航班所需时间进行计算，最后根据自己的知识和能使用的工具进行汇总，最后给出答案。"
   ]
  },
  {
   "cell_type": "markdown",
   "id": "f7e63f77-268f-463e-9f4d-7f72d1d1747b",
   "metadata": {},
   "source": [
    "- If I have 5 apples and give away 2, how many do I have left?"
   ]
  },
  {
   "cell_type": "markdown",
   "id": "09699ef1-5669-4472-b977-0c123e3b0e47",
   "metadata": {},
   "source": [
    "**marco-o1**"
   ]
  },
  {
   "cell_type": "markdown",
   "id": "dd90f48b-26cc-4bc7-99ac-4cb7888aa98a",
   "metadata": {},
   "source": [
    "<div align=center><img src=\"https://typora-photo1220.oss-cn-beijing.aliyuncs.com/LingYu/image-20241127111306002.png\" width=60%></div>"
   ]
  },
  {
   "cell_type": "markdown",
   "id": "e8c03c09-de1c-41a8-9189-92b349196e9d",
   "metadata": {},
   "source": [
    "简单的推理问题，简单的推理解决出答案。"
   ]
  },
  {
   "cell_type": "markdown",
   "id": "ee951348-4fed-4d30-bb91-48bb7e9b2910",
   "metadata": {},
   "source": [
    "- 我们如何让世界更快乐"
   ]
  },
  {
   "cell_type": "markdown",
   "id": "016f7cbf-bd84-4883-8760-8253518f3968",
   "metadata": {},
   "source": [
    "**marco-o1**"
   ]
  },
  {
   "cell_type": "markdown",
   "id": "c1125633-d8b8-4841-ba73-9c7d2f5c28c8",
   "metadata": {},
   "source": [
    "<div align=center><img src=\"https://typora-photo1220.oss-cn-beijing.aliyuncs.com/LingYu/image-20241127104525253.png\" width=60%></div>"
   ]
  },
  {
   "cell_type": "markdown",
   "id": "d3dc94e1-fdef-4f47-9cc7-483bdf9b1f93",
   "metadata": {},
   "source": [
    "<div align=center><img src=\"https://typora-photo1220.oss-cn-beijing.aliyuncs.com/LingYu/image-20241127104515153.png\" width=60%></div>"
   ]
  },
  {
   "cell_type": "markdown",
   "id": "606b566f-f52c-477c-b19c-78439a34f5eb",
   "metadata": {},
   "source": [
    "对于这更加开放式的问题，marco-o1确实进行了思考，并考虑到了三个元素'我们'、'世界'、'变快乐'，因此对于这个问题的答案不是照本宣科式的，而是建设性的提出了宏观上可以促进世界发展的方法。可见其在应对开放式问题时的优秀性能。"
   ]
  },
  {
   "cell_type": "markdown",
   "id": "2423baac-4084-464e-892d-bd56e3748f50",
   "metadata": {},
   "source": [
    "--- "
   ]
  },
  {
   "cell_type": "markdown",
   "id": "c1b5fc7e-6201-48e0-828f-81ec96f266ef",
   "metadata": {},
   "source": [
    "## 模型总评&展望"
   ]
  },
  {
   "cell_type": "markdown",
   "id": "3eda447a-6f36-437d-b7fe-a7dcc9872244",
   "metadata": {},
   "source": [
    "\n",
    "Marco-o1 模型展现出了卓越的推理能力，在翻译、推理和代码等领域均表现出色。这不仅体现在同参数规模（7B）的模型中，也真正展示了可直接应用的实际性能。在实际应用中，Marco-o1 可以作为中英翻译的有效工具，尤其擅长通过上下文理解词语之间的关系，从而实现“信达雅”的精准翻译。其优秀的推理能力使其特别适合应用于电商对外贸易、字幕翻译等场景。"
   ]
  },
  {
   "cell_type": "markdown",
   "id": "56824347-986a-446a-b52b-4fc4c48c5251",
   "metadata": {},
   "source": [
    "此外Marco-o1作为一个轻量化的模型却展示出了更大参数模型才具备的性能，是与它的推理方式离不开的，但这也展示出了未来LLM发展的一个趋势，即LLMs组成Agents实现功能，在未来不需要一个巨大的模型来执行推理。许多参数专门用于记住事实，但这样的模型可以从知识中分离出推理，即一个小的 “推理核心” ，它知道如何调用浏览器和代码验证器等工具，而通过这些外挂工具以及它自身强大的推理能力便可以实现很多开放性的问题。"
   ]
  },
  {
   "cell_type": "markdown",
   "id": "8c00e6d4-7b6e-4537-ae55-dc31b4443ba9",
   "metadata": {},
   "source": [
    "\n",
    "Marco-o1 实际上是对 OpenAI-o1 模型进行逆向工程的一个开源学习和模仿的成果，尽管如此，其效果仍然非常显著。这表明，未来会有更多类似的模型相继问世，这类模型不仅会在推理任务中表现出色，还将推动整个推理领域的技术进步。特别是作为一种新兴的 LRM（Large Reasoning Model） 类型，Marco-o1 展现了强大的跨领域推理能力，表明这类模型有着广泛的应用潜力。随着技术的不断发展，我们应持续关注这种推理模型的发展趋势，它们可能在自然语言处理、数据分析、自动推理等多个领域中发挥重要作用。因此，跟踪和研究 LRM 模型将对推动智能系统的进步与应用具有重要意义。"
   ]
  }
 ],
 "metadata": {
  "kernelspec": {
   "display_name": "Python 3 (ipykernel)",
   "language": "python",
   "name": "python3"
  },
  "language_info": {
   "codemirror_mode": {
    "name": "ipython",
    "version": 3
   },
   "file_extension": ".py",
   "mimetype": "text/x-python",
   "name": "python",
   "nbconvert_exporter": "python",
   "pygments_lexer": "ipython3",
   "version": "3.11.7"
  }
 },
 "nbformat": 4,
 "nbformat_minor": 5
}
