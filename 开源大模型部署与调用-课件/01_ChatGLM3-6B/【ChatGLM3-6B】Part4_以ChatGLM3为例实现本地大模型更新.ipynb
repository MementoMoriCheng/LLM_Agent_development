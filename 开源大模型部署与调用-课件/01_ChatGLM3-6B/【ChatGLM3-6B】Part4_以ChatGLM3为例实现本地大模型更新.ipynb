{
 "cells": [
  {
   "cell_type": "markdown",
   "id": "bf55db28-562e-4310-ba4b-95687dec3b32",
   "metadata": {},
   "source": [
    "# <center>以ChatGLM3为例实现本地大模型的更新"
   ]
  },
  {
   "cell_type": "markdown",
   "id": "17624e99-0939-4cfd-ba55-7c5130008f33",
   "metadata": {},
   "source": [
    "前言：\n"
   ]
  },
  {
   "cell_type": "markdown",
   "id": "6b3ce3a6-55b8-4883-b334-a7526191ca2e",
   "metadata": {},
   "source": [
    "&emsp;&emsp;随着大模型技术的迅速发展和迭代，模型的功能以及自身架构可能会随着新版本的发布而不断更新。因此，掌握如何及时关注版本变化并进行相应更新，已经成为如今的从业者应具备的重要技能之一。"
   ]
  },
  {
   "cell_type": "markdown",
   "id": "2527efc0-97a3-4a47-ab9f-b8729fa4d828",
   "metadata": {},
   "source": [
    "&emsp;&emsp;在更新大模型时，需要重点关注以下几个方面：首先，确保项目文件、依赖的库和模型的权重文件均已更新到最新版本。其次，在完成下载并替换模型文件后，务必检查配置文件，以确保其指向最新的模型文件路径。最后，建议进行全面的运行测试，以验证模型是否正常工作，确保更新的有效性和稳定性。"
   ]
  },
  {
   "cell_type": "markdown",
   "id": "861a9790-649f-41e5-abc7-1c14feebcd17",
   "metadata": {},
   "source": [
    "&emsp;&emsp;为了更好地说明这一过程，本文将以ChatGLM3-6b模型为例，详细介绍更新操作的步骤与注意事项。希望通过本教程让大家不仅能够掌握具体的操作方法，更能理解更新过程中的关键思路和原则。"
   ]
  },
  {
   "cell_type": "markdown",
   "id": "ff791ece-e646-41d4-bfd2-392b9e44c607",
   "metadata": {},
   "source": [
    "本节主要包含以下内容：\n",
    "1. 使用git工具简洁部署ChatGLM3-6b办法\n",
    "1. 更新项目文件\n",
    "2. 更新依赖\n",
    "3. 更新模型权重文件"
   ]
  },
  {
   "cell_type": "markdown",
   "id": "fb4ff97d-043b-4b1e-93cc-f2b623630374",
   "metadata": {},
   "source": [
    "# 1. 通过git在GitHub和hugging face上快速部署ChatGLM3-6b大模型办法\n"
   ]
  },
  {
   "cell_type": "markdown",
   "id": "301a9e1e-d2fe-4e8a-947c-d938d86756ed",
   "metadata": {},
   "source": [
    "## 1.1 github和hugging face的简单介绍"
   ]
  },
  {
   "cell_type": "markdown",
   "id": "dc6b3a35-f156-4705-a55d-3cddd5533838",
   "metadata": {},
   "source": [
    "&emsp;&emsp;GitHub 是一个基于 Git 的代码托管平台，广泛用于软件开发和版本控制。它不仅为开发者提供了一个存储和管理代码的地方，还支持协作开发、代码审查、项目管理等多种功能。GitHub 是开源项目的首选平台，许多知名的开源项目都托管在 GitHub 上。开发者可以轻松地贡献代码、报告问题和参与讨论。GitHub 提供了企业版（GitHub Enterprise），适用于大型企业和团队的内部协作。企业版提供了更强的安全性和管理功能，并且GitHub 对个人开发者和学生也非常友好，提供了免费的公共仓库和丰富的学习资源。以下是它的官网链接：https://github.com/"
   ]
  },
  {
   "cell_type": "markdown",
   "id": "0421164d-10af-4da7-b34c-b51c103e4937",
   "metadata": {},
   "source": [
    "<div align=center><img src=\"https://typora-photo1220.oss-cn-beijing.aliyuncs.com/LingYu/image-20240829111851232.png\" width=50%></div>"
   ]
  },
  {
   "cell_type": "markdown",
   "id": "92068a41-5ccc-41b9-8e49-a7fe553223f6",
   "metadata": {},
   "source": [
    "&emsp;&emsp;Hugging Face 是一个丰富的模型库，开发者可以上传和共享他们训练好的机器学习模型。这些模型通常是经过大量数据训练的，并且很大，因此需要特殊的存储和托管服务，类似于GitHub在代码托管和协作中的作用。\n",
    "\n",
    "&emsp;&emsp;Hugging Face不同于GitHub的是，GitHub 仅仅是一个代码托管和版本控制平台，托管的是项目的源代码、文档和其他相关文件。同时对于托管文件的大小有限制，不适合存储大型文件，如训练好的机器学习模型。相反，Hugging Face 专门为此类大型文件设计，提供了更适合大型模型的存储和传输解决方案。此外，Hugging Face 与多家学术机构和科技公司建立了合作关系，共同推进 NLP 和人工智能领域的研究和应用。以下是它的官网链接：https://huggingface.co/"
   ]
  },
  {
   "cell_type": "markdown",
   "id": "bd117172-7f1a-4d65-91e4-672190028f9b",
   "metadata": {},
   "source": [
    "<div align=center><img src=\"https://typora-photo1220.oss-cn-beijing.aliyuncs.com/LingYu/image-20240829111917908.png\" width=50%></div>"
   ]
  },
  {
   "cell_type": "markdown",
   "id": "e8754434-8579-4e2f-94c9-cb2ddbd0dbdc",
   "metadata": {},
   "source": [
    "## 1.2 ChatGLM3-6b快速私有化部署办法"
   ]
  },
  {
   "cell_type": "markdown",
   "id": "eb4dca80-c37b-4781-97d2-11ab55def194",
   "metadata": {},
   "source": [
    "注：此办法需要在能科学上网的环境下实现"
   ]
  },
  {
   "cell_type": "markdown",
   "id": "1805041c-dc89-48e0-94dd-638ebc06aeeb",
   "metadata": {},
   "source": [
    "&emsp;&emsp;在部署ChatGLM3-6B模型时，建议使用Transformers库的4.30.2至4.40.0版本、torch库的2.0及以上版本，以及gradio的3.x版本，以确保最佳的推理性能。同时，建议大家严格按照官方文档中的说明安装相应版本的依赖包。"
   ]
  },
  {
   "cell_type": "markdown",
   "id": "2a0f2a97-d864-417d-be23-393e8826f264",
   "metadata": {},
   "source": [
    "**一、 创建conda虚拟环境**"
   ]
  },
  {
   "cell_type": "markdown",
   "id": "79aa6f40-5399-4b97-8b42-4cd9c7175df1",
   "metadata": {},
   "source": [
    "&emsp;&emsp;Conda创建虚拟环境的重要意义在于为Python项目及其依赖包提供了一个隔离的、独立的运行环境。每个虚拟环境都拥有其专属的Python版本和相应的库集合。这种机制使得我们能够在不同环境中安装并使用各种版本的库，而不会相互干扰。例如，我们可以在一个环境中运行Python 3.8，同时在另一个环境中使用Python 3.9。\n",
    "\n",
    "&emsp;&emsp;对于大型模型的开发和部署，建议采用Python 3.10或更高版本。创建虚拟环境的过程相对简单，只需通过以下命令即可快速构建一个全新的虚拟环境。这种方法不仅确保了项目的独立性，还大大提高了开发的灵活性和可维护性。通过虚拟环境，开发者可以更好地管理项目依赖，避免版本冲突，从而提升整体开发效率。\n",
    "\n",
    "```bash\n",
    "# myenv 是你想要给环境的名称，python=3.11 指定了要安装的Python版本。你可以根据需要选择不同的名称和/或Python版本。\n",
    "\n",
    "conda create -n myenv python=3.11\n",
    "```"
   ]
  },
  {
   "cell_type": "markdown",
   "id": "e6e6bfa8-3fd8-4e76-a67e-040e7c4ea649",
   "metadata": {},
   "source": [
    "<div align=center><img src=\"https://typora-photo1220.oss-cn-beijing.aliyuncs.com/LingYu/1.PNG\" width=50%></div>"
   ]
  },
  {
   "cell_type": "markdown",
   "id": "5eb72a30-9b37-47b2-aec0-9265a6aa39c8",
   "metadata": {},
   "source": [
    "创建虚拟环境后需要激活它才能开始使用，使用以下命令来激活刚创建的虚拟环境：\n",
    "```bash\n",
    "conda activate chatglm3_test \n",
    "```"
   ]
  },
  {
   "cell_type": "markdown",
   "id": "cdd15c82-8686-42c9-8360-f49f9eb5eb1c",
   "metadata": {},
   "source": [
    "<div align=center><img src=\"https://typora-photo1220.oss-cn-beijing.aliyuncs.com/LingYu/3.PNG\" width=70%></div>"
   ]
  },
  {
   "cell_type": "markdown",
   "id": "82baadba-2476-4c6f-b639-a1cdb62f355d",
   "metadata": {},
   "source": [
    "&emsp;&emsp;如果成功激活，可以看到在命令行的最前方的括号中，就标识了当前的虚拟环境（chatglm3_test），然后，按照官方的要求安装torch。"
   ]
  },
  {
   "cell_type": "markdown",
   "id": "93dad657-ce62-447a-8029-3490810c444f",
   "metadata": {},
   "source": [
    "**二、 根据驱动支持的CUDA版本下载Pytorch**"
   ]
  },
  {
   "cell_type": "markdown",
   "id": "f534f01b-b271-4d79-9815-8d110744f234",
   "metadata": {},
   "source": [
    "CUDA（Compute Unified Device Architecture，统一计算设备架构）是一种操作GPU的软件架构，它是一种通用并行计算架构，使GPU能够解决复杂的计算问题。"
   ]
  },
  {
   "cell_type": "markdown",
   "id": "8822b62f-4972-4042-a810-0f3470a1c60e",
   "metadata": {},
   "source": [
    "&emsp;&emsp;我们需要根据CUDA版本选择Pytorch框架，先看下当前的CUDA版本,通过以下命令实现功能：\n",
    "\n",
    "```bash\n",
    "nvidia-sml\n",
    "```"
   ]
  },
  {
   "cell_type": "markdown",
   "id": "3516f3d7-7fdf-426a-a904-40ba61c24f3f",
   "metadata": {},
   "source": [
    "<div align=center><img src=\"https://typora-photo1220.oss-cn-beijing.aliyuncs.com/LingYu/4.PNG\" width=70%></div>"
   ]
  },
  {
   "cell_type": "markdown",
   "id": "e9db4dae-f527-475b-a12c-6488240e6069",
   "metadata": {},
   "source": [
    "&emsp;&emsp;可以看到本台机器的CUDA版本是12.2，接下来的库和依赖安装也要选择与其兼容的Pytorch版本。"
   ]
  },
  {
   "cell_type": "markdown",
   "id": "b97d6367-f45f-48a6-8b18-4dfc73617cd6",
   "metadata": {},
   "source": [
    "PyTorch 是一个开源的深度学习框架，由 Facebook 的人工智能研究团队（FAIR）开发和维护（当然现在可能也更名叫MAIR了）。Pytorch专门针对 GPU 加速的深度神经网络（DNN）编程。以其简洁优雅的语法结构赢得了 Python 开发者的广泛青睐。\n"
   ]
  },
  {
   "cell_type": "markdown",
   "id": "97eda491-904a-4d30-832f-65118db2f7cf",
   "metadata": {},
   "source": [
    "&emsp;&emsp;进入Pytorch官网：https://pytorch.org/get-started/previous-versions/"
   ]
  },
  {
   "cell_type": "markdown",
   "id": "7ec0e996-a1bb-4312-9e93-bd7d77681837",
   "metadata": {},
   "source": [
    "<div align=center><img src=\"https://muyu001.oss-cn-beijing.aliyuncs.com/img/image-20240103163206436.png\" width=80%></div>"
   ]
  },
  {
   "cell_type": "markdown",
   "id": "d68d3256-9f29-4512-a60a-9d9e7130f1b8",
   "metadata": {},
   "source": [
    "&emsp;&emsp;当前这台电脑的CUDA版本是12.2，需要根据此限制，选择当前最新版本的Pytorch即可。\n",
    "\n",
    "注：这里大家要根据自己的实际情况灵活的选择适合自己的Pytorch版本"
   ]
  },
  {
   "cell_type": "markdown",
   "id": "e2e8c6f3-c19c-4a00-8939-7deab3f6b18e",
   "metadata": {},
   "source": [
    "<div align=center><img src=\"https://snowball101.oss-cn-beijing.aliyuncs.com/img/202401041455184.png\" width=80%></div>"
   ]
  },
  {
   "cell_type": "markdown",
   "id": "3772e4ba-c94b-40f8-883b-50e6d5fd8d27",
   "metadata": {},
   "source": [
    "&emsp;&emsp;直接复制对应的命令，进入终端执行即可。这实际上安装的是为 CUDA 12.1 优化的 PyTorch 版本。这个 PyTorch 版本预编译并打包了与 CUDA 12.1 版本相对应的二进制文件和库。\n",
    "\n",
    "conda install pytorch==2.3.1 torchvision==0.18.1 torchaudio==2.3.1 pytorch-cuda=12.1 -c pytorch -c nvidia\n"
   ]
  },
  {
   "cell_type": "markdown",
   "id": "d379fb45-c235-4644-8d74-3bd52f3f9aa3",
   "metadata": {},
   "source": [
    "<div align=center><img src=\"https://typora-photo1220.oss-cn-beijing.aliyuncs.com/LingYu/5.PNG\" width=90%></div>"
   ]
  },
  {
   "cell_type": "markdown",
   "id": "f32d3687-b4e9-4859-aa75-da6961e79446",
   "metadata": {},
   "source": [
    "&emsp;&emsp;安装完毕后，如果想要检查是否成功安装了GPU版本的PyTorch，可以通过几个简单的步骤在 Python 环境中进行验证：\n",
    "```bash\n",
    "import torch\n",
    "\n",
    "print(torch.cuda.is_available())\n",
    "```"
   ]
  },
  {
   "cell_type": "markdown",
   "id": "1dec332d-948c-4525-8c31-e0282f2e4ad0",
   "metadata": {},
   "source": [
    "<div align=center><img src=\"https://typora-photo1220.oss-cn-beijing.aliyuncs.com/LingYu/7.PNG\" width=80%></div>"
   ]
  },
  {
   "cell_type": "markdown",
   "id": "a6d6f947-5479-4a92-9b47-a95ae36527d5",
   "metadata": {},
   "source": [
    "&emsp;&emsp;如果输出是 True，则表示GPU版本的PyTorch已经安装成功并且可以使用CUDA，如果输出是 False，则表明没有安装GPU版本的PyTorch，或者CUDA环境没有正确配置，此时根据教程，重新检查自己的执行过程。\n",
    "\n",
    "完成验证之后使用ctril+D退出python环境，继续命令行操作。"
   ]
  },
  {
   "cell_type": "markdown",
   "id": "280df1ff-c754-4995-b471-a6301c22efdb",
   "metadata": {},
   "source": [
    "**三、 下载ChatGLM3的项目文件**"
   ]
  },
  {
   "cell_type": "markdown",
   "id": "175ceb80-e137-4ff7-99bb-3452775476ee",
   "metadata": {},
   "source": [
    "&emsp;&emsp;ChatGLM3的代码库和相关文档存储在 GitHub 这个在线平台上。GitHub 是一个广泛使用的代码托管平台，它提供了版本控制和协作功能。要下载ChatGLM3-6B的项目文件，需要进入ChatGLM3的Github：https://github.com/THUDM/ChatGLM3"
   ]
  },
  {
   "cell_type": "markdown",
   "id": "91484a0f-845b-422a-a902-61f982cdf696",
   "metadata": {},
   "source": [
    "<div align=center><img src=\"https://snowball101.oss-cn-beijing.aliyuncs.com/img/202401041500002.png\" width=70%></div>"
   ]
  },
  {
   "cell_type": "markdown",
   "id": "b5fa31aa-ee8e-4a17-883b-d5e883ef237c",
   "metadata": {},
   "source": [
    "&emsp;&emsp;在 GitHub 上将项目下载到本地通常有两种主要方式：克隆 (Clone) 和 下载 ZIP 压缩包。\n",
    "\n",
    "&emsp;&emsp;克隆 (Clone)是使用 Git 命令行的方式。我们可以克隆仓库到本地计算机，从而创建仓库的一个完整副本。这样做的好处是我们可以跟踪远程仓库的所有更改，并且可以提交自己的更改。如果要克隆某一个仓库，可以使用如下命令：\n",
    "\n",
    "```bash\n",
    "git clone <repository-url>   # 其中 <repository-url> 是 GitHub 仓库的 URL。\n",
    "```\n"
   ]
  },
  {
   "cell_type": "markdown",
   "id": "972437b4-cb53-4c6a-81d7-74cdcc2efb40",
   "metadata": {},
   "source": [
    "&emsp;&emsp;推荐使用克隆 (Clone)的方式。对于ChatGLM3这个项目来说，我们首先在GitHub上找到其仓库的URL。"
   ]
  },
  {
   "cell_type": "markdown",
   "id": "a02217cf-02bf-48e0-a0b8-9cdd49abb9ee",
   "metadata": {},
   "source": [
    "<div align=center><img src=\"https://snowball101.oss-cn-beijing.aliyuncs.com/img/202401021039625.png\" width=70%></div>"
   ]
  },
  {
   "cell_type": "markdown",
   "id": "3e623d8d-2f7f-429a-9771-c64aac8ce23d",
   "metadata": {},
   "source": [
    "&emsp;&emsp;在执行命令之前，先安装git软件包。"
   ]
  },
  {
   "cell_type": "markdown",
   "id": "40d44213-b44b-47c4-88ef-dbc3a18e5954",
   "metadata": {},
   "source": [
    "```bash\n",
    "sudo apt install git\n",
    "```"
   ]
  },
  {
   "cell_type": "markdown",
   "id": "190b26b1-dde1-4df0-b526-9e4ecc65f9a6",
   "metadata": {},
   "source": [
    "<div align=center><img src=\"https://typora-photo1220.oss-cn-beijing.aliyuncs.com/LingYu/image-20240827115101624.png\" width=90%></div>"
   ]
  },
  {
   "cell_type": "markdown",
   "id": "01c5a511-4afe-4fa1-a3f4-98078d9c7cc0",
   "metadata": {},
   "source": [
    "创建一个用于存放ChatGLM3-6B项目文件的文件夹并进入"
   ]
  },
  {
   "cell_type": "markdown",
   "id": "c7e064eb-d5b3-43a0-aea0-e682764e9bc7",
   "metadata": {},
   "source": [
    "<div align=center><img src=\"https://typora-photo1220.oss-cn-beijing.aliyuncs.com/LingYu/9.PNG\" width=90%></div>"
   ]
  },
  {
   "cell_type": "markdown",
   "id": "3e6b70cc-9ac0-4dc5-910e-fe14e1b003de",
   "metadata": {},
   "source": [
    "执行克隆命令，将Github上的项目文件下载至本地。"
   ]
  },
  {
   "cell_type": "markdown",
   "id": "701e7df9-e1d7-477b-b0f7-a837a7b29628",
   "metadata": {},
   "source": [
    "```bash\n",
    "git clone https://github.com/THUDM/ChatGLM3.git\n",
    "```"
   ]
  },
  {
   "cell_type": "markdown",
   "id": "06895add-ae73-4010-b9ca-d93390a8c888",
   "metadata": {},
   "source": [
    "<div align=center><img src=\"https://typora-photo1220.oss-cn-beijing.aliyuncs.com/LingYu/image-20240827115710367.png\" width=90%></div>"
   ]
  },
  {
   "cell_type": "markdown",
   "id": "556601d3-aef8-417f-8846-f65108715dcd",
   "metadata": {},
   "source": [
    "如果成功拉取资源，在对应文件夹下会出现以下的文件内容："
   ]
  },
  {
   "cell_type": "markdown",
   "id": "2f945966-0319-470f-b13f-1d4a4784417c",
   "metadata": {},
   "source": [
    "<div align=center><img src=\"https://typora-photo1220.oss-cn-beijing.aliyuncs.com/LingYu/13.png\" width=80%></div>"
   ]
  },
  {
   "cell_type": "markdown",
   "id": "94c218bc-7da9-4db1-8892-9edd2bd45232",
   "metadata": {},
   "source": [
    "**四、 升级pip安装包版本**"
   ]
  },
  {
   "cell_type": "markdown",
   "id": "7dada122-13a5-44c0-bf0c-7fed51d3a099",
   "metadata": {},
   "source": [
    "&emsp;&emsp;pip 是 Python 的一个包管理器，用于安装和管理 Python 软件包。允许从 Python Package Index（PyPI）和其他索引中安装和管理第三方库和依赖。一般使用 pip 来安装、升级和删除 Python 软件包。除此之外，pip 自动处理 Python 软件包的依赖关系，确保所有必需的库都被安装。在Python环境中，尽管我们是使用conda来管理虚拟环境，但conda是兼容pip环境的，所以使用pip下载必要的包是完全可以的。"
   ]
  },
  {
   "cell_type": "markdown",
   "id": "055edaae-6d3e-4f94-9d7a-07ee9ed3ef3a",
   "metadata": {},
   "source": [
    "&emsp;&emsp;在终端命令行升级 pip，确保使用的是最新版本的 pip，如果使用的是旧版本的 pip，可能无法安装一些最新的包，或者可能无法正确解析依赖关系。最新版本的pip这样可以避免在安装库时出现兼容性问题。\n",
    "```\n",
    "python -m pip install --upgrade pip\n",
    "```"
   ]
  },
  {
   "cell_type": "markdown",
   "id": "dbf4d2ee-513e-4c56-94db-9db128607d5d",
   "metadata": {},
   "source": [
    "<div align=center><img src=\"https://typora-photo1220.oss-cn-beijing.aliyuncs.com/LingYu/16.png\" width=100%></div>"
   ]
  },
  {
   "cell_type": "markdown",
   "id": "a677ef3c-9cf0-4a39-af3b-8f67084afd4f",
   "metadata": {},
   "source": [
    "**五、 使用pip安装ChatGLM3的项目依赖**"
   ]
  },
  {
   "cell_type": "markdown",
   "id": "37674784-a90b-4e36-826f-15b98b352887",
   "metadata": {},
   "source": [
    "&emsp;&emsp;一般项目中都会提供 `requirements.txt`这样一个文件，该文件包含了项目运行所必需的所有 Python 包及其精确版本号。使用这个文件，可以确保在不同环境中安装相同版本的依赖，从而避免了因版本不一致导致的问题。我们可以借助这个文件，使用pip一次性安装所有必需的依赖，而不必逐个手动安装，大大提高效率。命令如下：\n",
    "\n",
    "```bash\n",
    "pip install -r requirements.txt\n",
    "```"
   ]
  },
  {
   "cell_type": "markdown",
   "id": "bf2cbf2c-b0a9-4c74-bf45-e3555cb2389b",
   "metadata": {},
   "source": [
    "<div align=center><img src=\"https://typora-photo1220.oss-cn-beijing.aliyuncs.com/LingYu/image-20240827141252139.png\" width=80%></div>"
   ]
  },
  {
   "cell_type": "markdown",
   "id": "9762f7b4-32f5-4c48-848b-82f14ab68d8b",
   "metadata": {},
   "source": [
    "**六、 从Hugging Face下载ChatGLM3模型权重文件**"
   ]
  },
  {
   "cell_type": "markdown",
   "id": "f94bf2d4-2568-48a1-bbbf-0555be018f8d",
   "metadata": {},
   "source": [
    "&emsp;&emsp;刚刚我们下载到的只是ChatGLM3-6B的一些运行文件和项目代码，并不包含ChatGLM3-6B这个模型。接下来我们需要进入到 Hugging Face 下载。"
   ]
  },
  {
   "cell_type": "markdown",
   "id": "f5713110-308f-437e-a4a8-1667e001d2f5",
   "metadata": {},
   "source": [
    "&emsp;&emsp;下载路径如下："
   ]
  },
  {
   "cell_type": "markdown",
   "id": "609f5253-dafa-4635-84c0-0e6baada84a6",
   "metadata": {},
   "source": [
    "<div align=center><img src=\"https://snowball101.oss-cn-beijing.aliyuncs.com/img/202401021105957.png\" width=70%></div>"
   ]
  },
  {
   "cell_type": "markdown",
   "id": "05c2bbd8-003c-4205-a01b-9f9f1ee50f01",
   "metadata": {},
   "source": [
    "&emsp;&emsp;注：需要挂梯子才能进入。"
   ]
  },
  {
   "cell_type": "markdown",
   "id": "69a9eb02-de47-4fb7-9ece-b9d1cd59e65e",
   "metadata": {},
   "source": [
    "<div align=center><img src=\"https://snowball101.oss-cn-beijing.aliyuncs.com/img/202401021112401.png\" width=80%></div>"
   ]
  },
  {
   "cell_type": "markdown",
   "id": "c420c1a8-6499-40ef-804e-445b92340d2b",
   "metadata": {},
   "source": [
    "&emsp;&emsp;然后按照如下位置，找到对应的下载URL。"
   ]
  },
  {
   "cell_type": "markdown",
   "id": "58aa1ab2-1b86-41ea-8742-e325fc84ead3",
   "metadata": {},
   "source": [
    "<div align=center><img src=\"https://snowball101.oss-cn-beijing.aliyuncs.com/img/202401021208030.png\" width=80%></div>"
   ]
  },
  {
   "cell_type": "markdown",
   "id": "61746545-76d0-4352-80e4-57c76d867664",
   "metadata": {},
   "source": [
    "&emsp;&emsp;复制此命令，进入到服务器的命令行准备执行。"
   ]
  },
  {
   "cell_type": "markdown",
   "id": "f1b410d9-7972-4435-9783-2fa546842b2d",
   "metadata": {},
   "source": [
    "<div align=center><img src=\"https://snowball101.oss-cn-beijing.aliyuncs.com/img/202401021208031.png\" width=60%></div>"
   ]
  },
  {
   "cell_type": "markdown",
   "id": "f8cb59b7-b5c2-4b70-9179-844cdf686e5f",
   "metadata": {},
   "source": [
    "**七、 安装Git LFS并初始化**"
   ]
  },
  {
   "cell_type": "markdown",
   "id": "060d0106-3fcd-4fbf-aa70-3a554ab7bcc3",
   "metadata": {},
   "source": [
    "&emsp;&emsp;Git Large File Storage（Git LFS）是一种用于处理大文件的工具，在 Hugging Face 下载大模型时，通常需要安装 Git LFS，主要的原因是：Git 本身并不擅长处理大型文件，因为在 Git 中，每次我们提交一个文件，它的完整内容都会被保存在 Git 仓库的历史记录中。但对于非常大的文件，这种方式会导致仓库变得庞大而且低效。而 Git LFS， 就不会直接将它们的内容存储在仓库中。相反，它存储了一个轻量级的“指针”文件，它本身非常小，它包含了关于大型文件的信息（如其在服务器上的位置），但不包含文件的实际内容。当我们需要访问或下载这个大型文件时，Git LFS 会根据这个指针去下载真正的文件内容。"
   ]
  },
  {
   "cell_type": "markdown",
   "id": "49fea9da-81a4-476c-a8d5-398f32e6f404",
   "metadata": {},
   "source": [
    "&emsp;&emsp;实际的大文件存储在一个单独的服务器上，而不是在 Git 仓库的历史记录中。所以如果不安装 Git LFS 而直接从 Hugging Face 或其他支持 LFS 的仓库下载大型文件，通常只会下载到一个包含指向实际文件的指针的小文件，而不是文件本身。"
   ]
  },
  {
   "cell_type": "markdown",
   "id": "19e2fad2-c9e7-416e-b068-bf26e46e7c48",
   "metadata": {},
   "source": [
    "&emsp;&emsp;所以，我们需要先安装git-lfs这个工具。命令如下：\n",
    "\n",
    "```bash\n",
    "sudo apt-get install git-lfs\n",
    "```\n"
   ]
  },
  {
   "cell_type": "markdown",
   "id": "1486b515-cdd2-4686-80c3-9a091cc8d33d",
   "metadata": {},
   "source": [
    "<div align=center><img src=\"https://typora-photo1220.oss-cn-beijing.aliyuncs.com/LingYu/image-20240827141707906.png\" width=60%></div>"
   ]
  },
  {
   "cell_type": "markdown",
   "id": "2ff6b0ed-45d7-48a5-b0c1-160fbde64163",
   "metadata": {},
   "source": [
    "&emsp;&emsp;安装完成后，需要初始化 Git LFS。这一步是必要的，因为它会设置一些必要的钩子。Git 钩子（hooks）是 Git 提供的一种强大的功能，允许在特定的重要动作（如提交、推送、合并等）发生时自动执行自定义脚本。这些钩子是在 Git 仓库的 `.git/hooks` 目录下的脚本，可以被配置为在特定的 Git 命令执行前后触发。钩子可以用于各种自动化任务，比如：\n",
    "\n",
    "1. **代码检查：** 在提交之前自动运行代码质量检查或测试，如果检查失败，可以阻止提交。\n",
    "2. **自动化消息：** 在提交或推送后发送通知或更新任务跟踪系统。\n",
    "3. **自动备份：** 在推送到远程仓库之前自动备份仓库。\n",
    "4. **代码风格格式化：** 自动格式化代码以符合团队的代码风格标准。"
   ]
  },
  {
   "cell_type": "markdown",
   "id": "d10411c0-2ef1-40cb-88b3-9ed1f3f5cfe6",
   "metadata": {},
   "source": [
    "&emsp;&emsp;而初始化git lfs，会设置一些在上传或下载大文件是必要的操作，如在提交之前检查是否有大文件被 Git 正常跟踪，而不是通过 Git LFS 跟踪，从而防止大文件意外地加入到 Git 仓库中。（pre-commit 钩子）或者在合并后，确保所有需要的 LFS 对象都被正确拉取（post-merge）等。初始化命令如下：\n",
    "\n",
    "```bash\n",
    "git lfs install\n",
    "```"
   ]
  },
  {
   "cell_type": "markdown",
   "id": "032d64b1-5a5a-46a1-9f26-263a914c0609",
   "metadata": {},
   "source": [
    "<div align=center><img src=\"https://typora-photo1220.oss-cn-beijing.aliyuncs.com/LingYu/image-20240827141948834.png\" width=60%></div>"
   ]
  },
  {
   "cell_type": "markdown",
   "id": "ad0f9fe3-4b33-41e5-871d-0b1bf4b0aa04",
   "metadata": {},
   "source": [
    "**八、 使用Git LFS下载ChatGLM3的模型权重文件**"
   ]
  },
  {
   "cell_type": "markdown",
   "id": "1752e562-c103-4784-8aa0-1b57b8de5cdf",
   "metadata": {},
   "source": [
    "&emsp;&emsp;直接复制Hugging Face上提供的命令，在终端运行，等待下载完成即可。\n",
    "```bash\n",
    "git clone https://huggingface.co/THUDM/chatglm3-6b\n",
    "```"
   ]
  },
  {
   "cell_type": "markdown",
   "id": "6512b9f6-dc3f-4e9e-8904-c05d292c7da5",
   "metadata": {},
   "source": [
    "<div align=center><img src=\"https://typora-photo1220.oss-cn-beijing.aliyuncs.com/LingYu/image-20240827142127714.png\" width=60%></div>"
   ]
  },
  {
   "cell_type": "markdown",
   "id": "a620942a-9452-4b67-ab95-7d5973e026e5",
   "metadata": {},
   "source": [
    "&emsp;&emsp;全部需要下载的模型文件如下："
   ]
  },
  {
   "cell_type": "markdown",
   "id": "1f7c9ed0-2953-4855-89bd-e03f249521fc",
   "metadata": {},
   "source": [
    "<div align=center><img src=\"https://typora-photo1220.oss-cn-beijing.aliyuncs.com/LingYu/image-20240827143528752.png\" width=60%></div>"
   ]
  },
  {
   "cell_type": "markdown",
   "id": "795207cd-15cd-44e0-accb-29c13ce48981",
   "metadata": {},
   "source": [
    "**九、 启动前进行文件校验**"
   ]
  },
  {
   "cell_type": "markdown",
   "id": "02c13916-1026-47b0-91b2-c1ac4b7caa14",
   "metadata": {},
   "source": [
    "在Hugging Face完成模型权重文件的下载后，在原来的项目文件夹中会出现一个新的文件夹，名为`chatglm3-6b`。"
   ]
  },
  {
   "cell_type": "markdown",
   "id": "33d01722-7763-458b-83ab-35036d86fca8",
   "metadata": {},
   "source": [
    "<div align=center><img src=\"https://typora-photo1220.oss-cn-beijing.aliyuncs.com/LingYu/image-20240827142600709.png\" width=60%></div>"
   ]
  },
  {
   "cell_type": "markdown",
   "id": "30f17967-9d40-4750-a6fe-bddedc537f58",
   "metadata": {},
   "source": [
    "&emsp;&emsp;进入`chatglm3-6b`模型的文件目录，检查并确认所有必要文件齐全且无遗漏。"
   ]
  },
  {
   "cell_type": "markdown",
   "id": "2c5abdff-98f4-4246-91c4-6a9d9ed2f755",
   "metadata": {},
   "source": [
    "<div align=center><img src=\"https://typora-photo1220.oss-cn-beijing.aliyuncs.com/LingYu/image-20240827142921672.png\" width=60%></div>"
   ]
  },
  {
   "cell_type": "markdown",
   "id": "1e879aa0-9da6-4102-a7b0-f6320e81484f",
   "metadata": {},
   "source": [
    "&emsp;&emsp;至此，我们就已经把ChatGLM3-6B模型部署运行前所需要的文件全部准备完毕。"
   ]
  },
  {
   "cell_type": "markdown",
   "id": "42880e62-0a01-4cc2-81d9-76acb398df28",
   "metadata": {},
   "source": [
    "# 2. 大模型更新办法"
   ]
  },
  {
   "cell_type": "markdown",
   "id": "1f0032bc-1370-471e-b830-4828ed45bae0",
   "metadata": {},
   "source": [
    "当我们在更新大模型的时候注意要更新它的：项目文件、模型权重、依赖文件即可。\n",
    "\n",
    "以下是具体的更新办法："
   ]
  },
  {
   "cell_type": "markdown",
   "id": "a05f3313-03fe-49e3-a424-32f3fa8fc013",
   "metadata": {},
   "source": [
    "## 2.1 更新项目文件"
   ]
  },
  {
   "cell_type": "markdown",
   "id": "ae30c210-87d1-4cf1-b525-e0b14231ba10",
   "metadata": {},
   "source": [
    "&emsp;&emsp;这里推荐使用git来做版本控制，这是由于git作为一个分布式版本控制系统，它被设计用于高效地处理从小型到大型的项目，并且在速度、数据完整性和分布式工作流方面表现出色且方便可靠。"
   ]
  },
  {
   "cell_type": "markdown",
   "id": "9b50bc97-47b0-4f4e-a808-166448568383",
   "metadata": {},
   "source": [
    "&emsp;&emsp;当我们采用git方法下载ChatGLM3-6b模型项目文件后，进行`git pull origin + 分支名` 便可拉取远程仓库的更新。"
   ]
  },
  {
   "cell_type": "markdown",
   "id": "8476f168-b6fe-4503-ab46-45b6d70cf519",
   "metadata": {},
   "source": [
    "&emsp;&emsp;在这个过程中，Git 会尝试将远程仓库的更改合并到本地仓库。对于本地存在的同名文件，行为取决于文件的状态：\n",
    "\n",
    "- 本地未修改的文件：如果本地的同名文件自上次提交以来没有被修改，那么 `git pull` 会更新这些文件以匹配远程仓库中的最新版本。这种情况下，本地文件会被远程仓库中的文件更新所覆盖。\n",
    "\n",
    "- 本地已修改但未提交的文件：如果对本地的同名文件进行了更改但还没有提交，当尝试执行 git pull 时，Git 会警告有未提交的更改，可能会阻止合并操作并显示类似于 \"Your local changes to the following files would be overwritten by merge\" 的信息。这时，需要先提交本地更改、暂存它们或者放弃这些更改，然后再进行 git pull。\n",
    "\n",
    "- 合并冲突：如果远程仓库和本地仓库都对同一个文件进行了更改，那么在执行 git pull 时可能会发生合并冲突。Git 不会自动覆盖这些文件，而是会要求手动解决这些冲突。"
   ]
  },
  {
   "cell_type": "markdown",
   "id": "ccc154d1-2ec6-4a74-a4cb-5c7fc5620150",
   "metadata": {},
   "source": [
    "<div align=center><img src=\"https://snowball101.oss-cn-beijing.aliyuncs.com/img/202401181432971.png\" width=100%></div>"
   ]
  },
  {
   "cell_type": "markdown",
   "id": "00e0a275-e97b-4c6d-84b9-181c9afa67ec",
   "metadata": {},
   "source": [
    "当然项目文件的更新也可以通过手动的方式实现，方法同样为在官网上下载最新的项目文件然后在本地对应的文件夹进行覆盖。"
   ]
  },
  {
   "cell_type": "markdown",
   "id": "9046fd89-1327-43c4-9ec6-193c0b787730",
   "metadata": {},
   "source": [
    "## 2.2 更新模型权重文件"
   ]
  },
  {
   "cell_type": "markdown",
   "id": "944f1ceb-a935-45c9-93fa-4332890da664",
   "metadata": {},
   "source": [
    "&emsp;&emsp;ChatGLM3-6B模型的权重主要是从以下两个网站下载：\n",
    "\n",
    "- Hugging Face：https://huggingface.co/THUDM/chatglm3-6b/tree/main （需要科学上网）\n",
    "- modelscope：https://modelscope.cn/models/ZhipuAI/chatglm3-6b/files "
   ]
  },
  {
   "cell_type": "markdown",
   "id": "1c50e5b8-ff11-4993-bfb3-edda42ab22d2",
   "metadata": {},
   "source": [
    "&emsp;&emsp;去查看一下该次更新是否涉及模型权重文件的更新。我这里以 Hugging Face 为例："
   ]
  },
  {
   "cell_type": "markdown",
   "id": "ee76b669-4446-4e91-ab3d-9096020ba87e",
   "metadata": {},
   "source": [
    "<div align=center><img src=\"https://typora-photo1220.oss-cn-beijing.aliyuncs.com/LingYu/image-20240827150842572.png\" width=100%></div>"
   ]
  },
  {
   "cell_type": "markdown",
   "id": "491853d6-91ef-4706-bc31-b0c5b91ccea8",
   "metadata": {},
   "source": [
    "&emsp;&emsp;如果发现部分项目权重文件已和Github的项目代码同步更新，同样需要更新本地的模型权重文件。针对与单独的或者几个文件，高效的更新方式如下："
   ]
  },
  {
   "cell_type": "markdown",
   "id": "4df8fa61-e0c3-4ed4-abda-f47de4244e28",
   "metadata": {},
   "source": [
    "<div align=center><img src=\"https://typora-photo1220.oss-cn-beijing.aliyuncs.com/LingYu/image-20240827151131024.png\" width=100%></div>"
   ]
  },
  {
   "cell_type": "markdown",
   "id": "3805acdd-a235-4d54-9f82-e27c20ff6194",
   "metadata": {},
   "source": [
    "&emsp;&emsp;然后进入服务器中，使用`wget`命令下载更新。"
   ]
  },
  {
   "cell_type": "markdown",
   "id": "51ee3a11-cc55-4f03-b931-ef0998bd96d4",
   "metadata": {},
   "source": [
    "<div align=center><img src=\"https://snowball101.oss-cn-beijing.aliyuncs.com/img/202401181506526.png\" width=100%></div>"
   ]
  },
  {
   "cell_type": "markdown",
   "id": "59ee8b0f-f05d-45bf-a9a0-053041175444",
   "metadata": {},
   "source": [
    "注： 如果使用摩搭社区更新模型权重文件，使用Chrome浏览器并不能生成链接，此时可以通过之前介绍的方法，点击指定的文件，进去后直接复制链接，下载到本地或通过XFTP等工具传到远程服务器上。"
   ]
  },
  {
   "cell_type": "markdown",
   "id": "fb5939c7-5e5d-4d11-8f3a-98e2d73dcd57",
   "metadata": {},
   "source": [
    "## 2.3 更新依赖"
   ]
  },
  {
   "cell_type": "markdown",
   "id": "3d3841cb-e829-473f-8c61-d92fe8635180",
   "metadata": {},
   "source": [
    "检查依赖的更新首先到对应的GitHub官网查看对应的项目文件中的`requirements.txt`是否有新的依赖包。在本例中访问网站https://github.com/THUDM/ChatGLM3进行检查。"
   ]
  },
  {
   "cell_type": "markdown",
   "id": "5d201bfa-8df3-487a-917f-48ec1f607735",
   "metadata": {},
   "source": [
    "<div align=center><img src=\"https://typora-photo1220.oss-cn-beijing.aliyuncs.com/LingYu/image-20240827150132434.png\" width=100%></div>"
   ]
  },
  {
   "cell_type": "markdown",
   "id": "8e85eda2-bfe0-4a19-b2fe-10fe6f974905",
   "metadata": {},
   "source": [
    "<div align=center><img src=\"https://typora-photo1220.oss-cn-beijing.aliyuncs.com/LingYu/image-20240827150315078.png\" width=100%></div>"
   ]
  },
  {
   "cell_type": "markdown",
   "id": "c71380d1-1ffc-4c1e-ae71-7d8778c05820",
   "metadata": {},
   "source": [
    "<div align=center><img src=\"https://typora-photo1220.oss-cn-beijing.aliyuncs.com/LingYu/image-20240827145256574.png\" width=100%></div>"
   ]
  },
  {
   "cell_type": "markdown",
   "id": "60e1bd2c-5a47-4a07-828b-7c5617ca080d",
   "metadata": {},
   "source": [
    "&emsp;&emsp;所以，在当前的虚拟环境下，安装好最新的依赖，依次执行如下操作："
   ]
  },
  {
   "cell_type": "markdown",
   "id": "e7d10f42-f6e9-4b9b-bfa1-b20672f3c83f",
   "metadata": {},
   "source": [
    "- **Step 1. 进入项目的Python虚拟环境**"
   ]
  },
  {
   "cell_type": "markdown",
   "id": "11e85269-544a-4fbf-a59d-0525a36daa14",
   "metadata": {},
   "source": [
    "<div align=center><img src=\"https://snowball101.oss-cn-beijing.aliyuncs.com/img/202401181453147.png\" width=100%></div>"
   ]
  },
  {
   "cell_type": "markdown",
   "id": "bdda237a-4472-4fd5-b61b-7d0ce7dc8dec",
   "metadata": {},
   "source": [
    "- **Step 2. 安装新的依赖包**"
   ]
  },
  {
   "cell_type": "markdown",
   "id": "66f50689-6d45-4ff4-b388-2b34725a775a",
   "metadata": {},
   "source": [
    "<div align=center><img src=\"https://snowball101.oss-cn-beijing.aliyuncs.com/img/202401181455548.png\" width=100%></div>"
   ]
  },
  {
   "cell_type": "markdown",
   "id": "873ed1e5-4fec-41a9-bb35-10d1cc7ff4b8",
   "metadata": {},
   "source": [
    "&emsp;&emsp;至此，环境和文件配置就已更新完成。接下来尝试查看新代码是否能够顺利执行。"
   ]
  },
  {
   "cell_type": "markdown",
   "id": "e6711275-efa8-4444-8442-edc3186dd71f",
   "metadata": {},
   "source": [
    "## 2.4 运行测试"
   ]
  },
  {
   "cell_type": "markdown",
   "id": "a4533daf-50df-48f4-a724-96561fe99f06",
   "metadata": {},
   "source": [
    "在这一环节，我们将使用上一个版本的 ChatGLM3-6b 更新数据进行讲解，旨在帮助大家更好地理解整个流程。希望通过此示范，大家能够熟悉更新步骤并掌握其中的关键细节。"
   ]
  },
  {
   "cell_type": "markdown",
   "id": "890c9526-a23c-4336-826e-17ada5746f08",
   "metadata": {},
   "source": [
    "&emsp;&emsp;一般比较规范的GitHub项目在每次提交更新前，都会有比较清晰的说明："
   ]
  },
  {
   "cell_type": "markdown",
   "id": "a558425c-0b9b-40a5-943f-73971e3f3c4e",
   "metadata": {},
   "source": [
    "<div align=center><img src=\"https://snowball101.oss-cn-beijing.aliyuncs.com/img/202401181647740.png\" width=100%></div>"
   ]
  },
  {
   "cell_type": "markdown",
   "id": "17c715b2-829a-4d13-830d-d728dd31a258",
   "metadata": {},
   "source": [
    "&emsp;&emsp;可以进入ReadMe查看细节："
   ]
  },
  {
   "cell_type": "markdown",
   "id": "8eb8ec7c-3149-43fa-b2b6-fc70823390e3",
   "metadata": {},
   "source": [
    "<div align=center><img src=\"https://snowball101.oss-cn-beijing.aliyuncs.com/img/202401181517193.png\" width=100%></div>"
   ]
  },
  {
   "cell_type": "markdown",
   "id": "a1f50d44-a839-48bf-b28f-d1188d706640",
   "metadata": {},
   "source": [
    "&emsp;&emsp;保存退出后，使用`python api_server.py`尝试启动。"
   ]
  },
  {
   "cell_type": "markdown",
   "id": "32cdf22c-40b4-4f79-bac7-baa997d708b8",
   "metadata": {},
   "source": [
    "<div align=center><img src=\"https://snowball101.oss-cn-beijing.aliyuncs.com/img/202401181538524.png\" width=100%></div>"
   ]
  },
  {
   "cell_type": "markdown",
   "id": "dbd55530-f0e1-4fea-842c-3a75a8ca0c96",
   "metadata": {},
   "source": [
    "&emsp;&emsp;从报错信息上看，很明显的是这行代码再向Hugging Face 请求Tokenizer分词器。"
   ]
  },
  {
   "cell_type": "markdown",
   "id": "263bdf7a-e356-47f2-be82-1335b81f904c",
   "metadata": {},
   "source": [
    "<div align=center><img src=\"https://snowball101.oss-cn-beijing.aliyuncs.com/img/202401181540598.png\" width=100%></div>"
   ]
  },
  {
   "cell_type": "markdown",
   "id": "430c0274-bfd0-4031-b47e-a51629628342",
   "metadata": {},
   "source": [
    "&emsp;&emsp;解决方法很简单，像模型权重一样，把它下载到本地："
   ]
  },
  {
   "cell_type": "markdown",
   "id": "398ed59f-e978-4857-bfa1-cc15434ce436",
   "metadata": {},
   "source": [
    "- Hugging Face 下载地址：https://huggingface.co/BAAI/bge-large-zh-v1.5/tree/main （需要科学上网）\n",
    "- modelscope 下载地址：https://modelscope.cn/search?page=1&search=bge-large-zh-v1.5&type=model"
   ]
  },
  {
   "cell_type": "markdown",
   "id": "ce0c56c5-837e-43d1-b9a4-6a80e651f567",
   "metadata": {},
   "source": [
    "<div align=center><img src=\"https://snowball101.oss-cn-beijing.aliyuncs.com/img/202401181550207.png\" width=100%></div>"
   ]
  },
  {
   "cell_type": "markdown",
   "id": "b6aa9079-3b7b-4e88-a167-2080f9af3d32",
   "metadata": {},
   "source": [
    "&emsp;&emsp;再次修改`api_server.py`的配置文件，更改Tokenizer 的加载位置：\n",
    "```bash\n",
    "vim api_server.py\n",
    "```"
   ]
  },
  {
   "cell_type": "markdown",
   "id": "8901ac71-b423-4e83-969d-f7a92cbce683",
   "metadata": {},
   "source": [
    "<div align=center><img src=\"https://snowball101.oss-cn-beijing.aliyuncs.com/img/202401181551514.png\" width=100%></div>"
   ]
  },
  {
   "cell_type": "markdown",
   "id": "490d57af-8073-405e-a4f8-d0409a071366",
   "metadata": {},
   "source": [
    "&emsp;&emsp;保存退出后，再次使用`python api_server.py`尝试启动。"
   ]
  },
  {
   "cell_type": "markdown",
   "id": "fac426f6-40f5-4e6e-9aa2-6b531f4b2217",
   "metadata": {},
   "source": [
    "<div align=center><img src=\"https://snowball101.oss-cn-beijing.aliyuncs.com/img/202401181555987.png\" width=100%></div>"
   ]
  },
  {
   "cell_type": "markdown",
   "id": "d094c5bd-14d8-445e-bda7-b198b3189764",
   "metadata": {},
   "source": []
  },
  {
   "cell_type": "markdown",
   "id": "5a9ec361-eae8-4a73-a925-28def08f9a8e",
   "metadata": {},
   "source": []
  }
 ],
 "metadata": {
  "kernelspec": {
   "display_name": "Python 3 (ipykernel)",
   "language": "python",
   "name": "python3"
  },
  "language_info": {
   "codemirror_mode": {
    "name": "ipython",
    "version": 3
   },
   "file_extension": ".py",
   "mimetype": "text/x-python",
   "name": "python",
   "nbconvert_exporter": "python",
   "pygments_lexer": "ipython3",
   "version": "3.11.7"
  }
 },
 "nbformat": 4,
 "nbformat_minor": 5
}
