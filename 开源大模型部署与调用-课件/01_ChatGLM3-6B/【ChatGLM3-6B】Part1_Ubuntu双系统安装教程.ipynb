{
 "cells": [
  {
   "cell_type": "markdown",
   "id": "4d0b251d-257c-41ec-b925-99891498f82f",
   "metadata": {
    "tags": []
   },
   "source": [
    "## <center>win10/11 下Ubuntu 22.04（桌面版） 双系统安装教程"
   ]
  },
  {
   "cell_type": "markdown",
   "id": "62a72f9e-2174-4819-9be7-abe51598063f",
   "metadata": {},
   "source": [
    "&emsp;&emsp;Ubuntu是一款基于Linux内核的开源操作系统，它由Canonical Ltd.公司开发并维护。Ubuntu的目标是为全球用户提供一个简单易用、免费开源的操作系统。Ubuntu的名称来自非洲祖鲁语，意为“人性对人性的贡献”。多数人觉得Linux难，其中的原因之一就是难于安装，但Ubuntu提供了友好的安装界面，所以非常简单。同时它还有出名的社区，有很多支持的软件，对于初学者来说是更好的选择，其图形化界面都适合大部分人的习惯。"
   ]
  },
  {
   "cell_type": "markdown",
   "id": "78177547-fa23-4941-a7b3-0c296f203dc1",
   "metadata": {},
   "source": [
    "&emsp;&emsp;在windows 11系统下安装主要分为以下几个过程：\n",
    "1. 下载Ubuntu 22.04 desktop镜像\n",
    "2. 制作启动盘\n",
    "3. Windows磁盘分区\n",
    "4. 安装Ubuntu 22.04 desktop 系统\n"
   ]
  },
  {
   "cell_type": "markdown",
   "id": "6e36a08b-48f9-45ce-a300-22f266ea21a6",
   "metadata": {},
   "source": [
    "# 1.下载ubuntu 22.04.3 的桌面版镜像"
   ]
  },
  {
   "cell_type": "markdown",
   "id": "86b289ff-122b-44d4-a10b-448c0f3ffa98",
   "metadata": {},
   "source": [
    "&emsp;&emsp;Ubuntu的系统分为桌面版（Desktop）和服务器版（Server）两种，主要区别在于它们的用途和预安装的软件。\n",
    "\n",
    "1. **用户界面**:\n",
    "   - **桌面版**: 提供图形用户界面（GUI），通常是GNOME桌面环境。适用于需要图形界面的日常电脑使用，如浏览网页、办公软件、媒体播放等。\n",
    "   - **服务器版**: 通常没有预安装图形界面，使用命令行界面（CLI）。这使得服务器版更轻量，适用于服务器和数据中心环境，其中图形界面通常不是必需的。\n",
    "    <br>\n",
    "2. **预安装软件**:\n",
    "   - **桌面版**: 包括各种日常应用程序，如网页浏览器、办公软件、媒体播放器等。\n",
    "   - **服务器版**: 预装了服务器相关的软件和服务，如Apache或Nginx（网页服务器），但不包括桌面应用程序。\n",
    "    <br>\n",
    "3. **性能和资源使用**:\n",
    "   - **桌面版**: 由于图形界面和其他应用程序，可能会占用更多的系统资源（CPU、内存）。\n",
    "   - **服务器版**: 优化了性能和资源使用，以适应服务器的高效率和稳定性需求。\n",
    "4. **默认安装和配置**:\n",
    "   - **服务器版**: 对于网络服务和服务器应用程序有特定的默认设置和优化。\n",
    "   - **桌面版**: 更注重用户体验，提供易于使用的设置和默认配置。"
   ]
  },
  {
   "cell_type": "markdown",
   "id": "2d388206-a6c8-4d58-be30-2832dfbd57e2",
   "metadata": {},
   "source": [
    "&emsp;&emsp;对于我们的使用需求来说，不需要极致的性能优化，更注重使用体验，所以更加广泛使用的桌面版。"
   ]
  },
  {
   "cell_type": "markdown",
   "id": "82e7b523-fa9b-4ebf-a466-b76f477b09c9",
   "metadata": {},
   "source": [
    "- **Step 1.进入官网：https://ubuntu.com/**"
   ]
  },
  {
   "cell_type": "markdown",
   "id": "d7e6b30d-a606-467e-a078-d4f28002568a",
   "metadata": {},
   "source": [
    "&emsp;&emsp;点击Download，这里我们下载桌面版。"
   ]
  },
  {
   "cell_type": "markdown",
   "id": "b9eb8585-dac3-45ae-ab7b-b7127ce7766b",
   "metadata": {},
   "source": [
    "<div align=center><img src=\"https://muyu001.oss-cn-beijing.aliyuncs.com/img/image-20231228141404005.png\" width=70%></div>"
   ]
  },
  {
   "cell_type": "markdown",
   "id": "333a7b99-2123-4fca-b8f0-13f52dd9619e",
   "metadata": {},
   "source": [
    "- **Step 2.下载22.04.3桌面版**"
   ]
  },
  {
   "cell_type": "markdown",
   "id": "d322b5b6-bd29-41e0-87a5-342444d51857",
   "metadata": {},
   "source": [
    "<div align=center><img src=\"https://typora-photo1220.oss-cn-beijing.aliyuncs.com/LingYu/image-20240808182950581.png\" width=70%></div>"
   ]
  },
  {
   "cell_type": "markdown",
   "id": "2a6e869e-f63f-44c9-be53-4b08a9f4dd87",
   "metadata": {},
   "source": [
    "<div align=center><img src=\"https://muyu001.oss-cn-beijing.aliyuncs.com/img/image-20231228141429681.png\" width=70%></div>"
   ]
  },
  {
   "cell_type": "markdown",
   "id": "6c71789f-c9af-4a28-919f-2a3204380b5e",
   "metadata": {},
   "source": [
    "- **Step 3.执行下载过程**"
   ]
  },
  {
   "cell_type": "markdown",
   "id": "441c837b-f720-4059-895a-c8ce0546f613",
   "metadata": {},
   "source": [
    "&emsp;&emsp;点击Download后会自动弹出下载框，因为ubuntu系统的官网在国外，所以如果当前网络环境不好会没有任何反应。此时需要挂梯子，或者切换国内的镜像源进行镜像的下载。（清华源：https://mirror.tuna.tsinghua.edu.cn/ubuntu-releases/ ）\n"
   ]
  },
  {
   "cell_type": "markdown",
   "id": "3855bea1-66f8-42e2-a419-ea79965fe13a",
   "metadata": {},
   "source": [
    "<div align=center><img src=\"https://muyu001.oss-cn-beijing.aliyuncs.com/img/image-20231228141515053.png\" width=80%></div>"
   ]
  },
  {
   "cell_type": "markdown",
   "id": "e6b595c3-6399-4d12-a9a4-39098e682af2",
   "metadata": {},
   "source": [
    "# 2. 下载 Rufus 启动盘制作工具"
   ]
  },
  {
   "cell_type": "markdown",
   "id": "f19579fa-d08c-4bf2-9478-485cfb1f1b01",
   "metadata": {},
   "source": [
    "&emsp;&emsp;Rufus 是一个开源免费的快速制作 U 盘系统启动盘和格式化 USB 的实用小工具，它可以快速把 ISO 格式的系统镜像文件快速制作成可引导的 USB 启动安装盘，支持 Windows 或 Linux 启动。Rufus 小巧玲珑，软件体积仅 7 百多 KB，麻雀虽小，五脏俱全。"
   ]
  },
  {
   "cell_type": "markdown",
   "id": "6335a686-44db-4acc-80a8-3ae8d70973e6",
   "metadata": {},
   "source": [
    "- **Step 1.进入官网：https://rufus.ie/zh/** 下拉页面找到对应下载链接"
   ]
  },
  {
   "cell_type": "markdown",
   "id": "7541ac75-2ac5-4bcd-bd6b-e30ba8c20e4e",
   "metadata": {},
   "source": [
    "<div align=center><img src=\"https://muyu001.oss-cn-beijing.aliyuncs.com/img/image-20231228114556288.png\" width=80%></div>"
   ]
  },
  {
   "cell_type": "markdown",
   "id": "30519eb3-6ae6-442e-8d63-2e21d5ba76a1",
   "metadata": {},
   "source": [
    "- **Step 2.执行下载过程**"
   ]
  },
  {
   "cell_type": "markdown",
   "id": "6706d063-511d-4c07-8cdd-5b5457ce836f",
   "metadata": {},
   "source": [
    "&emsp;&emsp;点击Download后会自动弹出下载框。"
   ]
  },
  {
   "cell_type": "markdown",
   "id": "7749d796-f34f-43e6-90b8-fd1bca36992a",
   "metadata": {},
   "source": [
    "<div align=center><img src=\"https://muyu001.oss-cn-beijing.aliyuncs.com/img/image-20231228114622664.png\" width=100%></div>"
   ]
  },
  {
   "cell_type": "markdown",
   "id": "3f4d8ad8-92af-46af-87b4-3c417d2c0c9c",
   "metadata": {},
   "source": [
    "# 3. 制作Ubuntu系统启动盘"
   ]
  },
  {
   "cell_type": "markdown",
   "id": "bf48b602-5d6b-4333-9988-4932b134bd84",
   "metadata": {},
   "source": [
    "&emsp;&emsp;首先，我们需要准备一个大于8G的U盘，注意：制作启动盘会格式化该U盘，所以请确保该U盘中的数据已经备份。按照如下步骤制作启动盘："
   ]
  },
  {
   "cell_type": "markdown",
   "id": "4c8c7f31-e828-4542-ab71-c22f1df8f90e",
   "metadata": {},
   "source": [
    "- **Step 1.将U盘插入电脑主机机箱上**"
   ]
  },
  {
   "cell_type": "markdown",
   "id": "e90d93d7-df8c-4d38-94bf-04e65288a6cb",
   "metadata": {},
   "source": [
    "- **Step 2.双击启动rufus-4.3.exe**"
   ]
  },
  {
   "cell_type": "markdown",
   "id": "372bd915-8f9c-407f-8f53-4cd70ee1a61a",
   "metadata": {},
   "source": [
    "<div align=center><img src=\"https://muyu001.oss-cn-beijing.aliyuncs.com/img/image-20231228114948574.png\" width=80%></div>"
   ]
  },
  {
   "cell_type": "markdown",
   "id": "b974ec92-bf52-40d0-b15d-6b3b57ced6da",
   "metadata": {},
   "source": [
    "&emsp;&emsp;选择Ubuntu 22.04的镜像"
   ]
  },
  {
   "cell_type": "markdown",
   "id": "567e6bb6-be4c-46a2-9a91-7fff95b71abb",
   "metadata": {},
   "source": [
    "<div align=center><img src=\"https://muyu001.oss-cn-beijing.aliyuncs.com/img/image-20231228143815794.png\" width=80%></div>"
   ]
  },
  {
   "cell_type": "markdown",
   "id": "781c019c-2f40-4a6e-9898-09210d18a491",
   "metadata": {},
   "source": [
    "&emsp;&emsp;分区类型 + 目标系统类型就选MBR+BIOS或UEFI（我选过GPT+UEFI在grub界面有误）,同时文件系统这个也是选默认FAT32+8192的就行，最后点击开始。"
   ]
  },
  {
   "cell_type": "markdown",
   "id": "b348eb90-c089-4096-ab00-4f5163134b3b",
   "metadata": {},
   "source": [
    "<div align=center><img src=\"https://muyu001.oss-cn-beijing.aliyuncs.com/img/image-20231228144057880.png\" width=80%></div>"
   ]
  },
  {
   "cell_type": "markdown",
   "id": "54cb53ab-d393-49b6-b8a0-9daa6f9d8422",
   "metadata": {},
   "source": [
    "- **Step 2.制作启动盘**"
   ]
  },
  {
   "cell_type": "markdown",
   "id": "c3c0c50a-f234-4ee5-931b-ae80b4578b7e",
   "metadata": {},
   "source": [
    "&emsp;&emsp;这里选择以iso镜像模式写入，我们的Ubuntu 22.04也是.iso文件，点击ok 等待制作完成即可。一般需要 5 ~ 10分钟的时间。"
   ]
  },
  {
   "cell_type": "markdown",
   "id": "f1d5344a-b9e9-4f18-b51d-f4f84931f246",
   "metadata": {},
   "source": [
    "<div align=center><img src=\"https://muyu001.oss-cn-beijing.aliyuncs.com/img/image-20231228115227638.png\" width=80%></div>"
   ]
  },
  {
   "cell_type": "markdown",
   "id": "2be79e8c-bda3-4718-8f28-92ec918152e1",
   "metadata": {},
   "source": [
    "# 4. 查看系统BIOS模式"
   ]
  },
  {
   "cell_type": "markdown",
   "id": "928d920a-4205-4111-be5b-1b582c451a27",
   "metadata": {},
   "source": [
    "&emsp;&emsp;BIOS模式中的传统MBR（Master Boot Record）模式和新式UEFI（Unified Extensible Firmware Interface）模式会对安装双系统的方法产生影响。因为这两种模式在分区表、启动过程和系统安装方面有所不同：\n",
    "\n",
    "1. 分区表:MBR分区表只支持最多4个主分区，或3个主分区加一个扩展分区，扩展分区可以分成更多的逻辑分区，而UEFI: 使用GPT（GUID Partition Table）分区表，支持多达128个分区，没有MBR中的分区限制。\n",
    "\n",
    "2. 启动过程:MBR依赖BIOS来识别启动设备，然后读取MBR中的引导加载程序来加载操作系统，而UEFI提供了一个启动管理器，这意味着UEFI固件可以直接启动EFI文件（如Windows的bootmgfw.efi或Linux的GRUB）。\n",
    "\n",
    "3. 安全性和兼容性：UEFI支持安全启动（Secure Boot），这可以阻止非授权的操作系统加载。在安装双系统时，需要在UEFI设置中禁用安全启动，用于确保电脑只能启动原装系统。如果电脑重装了其他系统，那么这个系统是启动不了的。说白了，就是垄断。所以安装完其他系统，必须关闭安全启动，新系统才能启动，而MBR不支持安全启动。"
   ]
  },
  {
   "cell_type": "markdown",
   "id": "54818465-5bc3-4f78-9153-b35701dc53ec",
   "metadata": {},
   "source": [
    "&emsp;&emsp;所以**如果你的电脑属于传统MBR模式，强烈建议重装windows系统来更新BIOS模式到UEFI。**查看方式如下："
   ]
  },
  {
   "cell_type": "markdown",
   "id": "794b6146-0723-4e51-9375-1328b642247c",
   "metadata": {},
   "source": [
    "&emsp;&emsp;\"win + r\"快捷键进入\"运行\"，输入\"msinfo32\"回车:"
   ]
  },
  {
   "cell_type": "markdown",
   "id": "dfbb9af3-c9a1-405c-a742-18d3c8d04421",
   "metadata": {},
   "source": [
    "<div align=center><img src=\"https://muyu001.oss-cn-beijing.aliyuncs.com/img/image-20231228115903246.png\" width=80%></div>"
   ]
  },
  {
   "cell_type": "markdown",
   "id": "586eecfc-467d-4957-b22d-5c133e33b340",
   "metadata": {},
   "source": [
    "&emsp;&emsp;出现以下界面，可查看BIOS模式："
   ]
  },
  {
   "cell_type": "markdown",
   "id": "4ae2b12d-1bf0-474d-9b4c-6881129add40",
   "metadata": {},
   "source": [
    "<div align=center><img src=\"https://typora-photo1220.oss-cn-beijing.aliyuncs.com/LingYu/image-20240818111833086.png\" width=80%></div>"
   ]
  },
  {
   "cell_type": "markdown",
   "id": "cee1e6e1-338d-4de1-8b6f-a4f663561779",
   "metadata": {},
   "source": [
    "# 5. 磁盘分区"
   ]
  },
  {
   "cell_type": "markdown",
   "id": "f09dc2c8-c54f-40d8-8697-9ce82b093eed",
   "metadata": {},
   "source": [
    "&emsp;&emsp;在Windows 11下安装Ubuntu作为双系统时，进行磁盘分区的主要目的是为Ubuntu创建必要的空间和分区，以确保它可以独立于Windows运行。这些分区在物理上隔离了不同的操作系统和数据，确保它们互不干扰。具体来说，磁盘分区的目的包括：\n",
    "\n",
    "1. **创建独立的操作系统空间**:为Ubuntu操作系统提供一个独立的分区，这样它就有自己的空间来安装和运行，不会与Windows的文件系统冲突。\n",
    "2. **分隔数据**:分区可以帮助组织和隔离数据。例如，你可以为个人文件创建一个单独的分区，这样无论是使用Ubuntu还是Windows，你都可以访问这些文件，同时保持操作系统分区的独立性。\n",
    "3. **兼容文件系统**:Windows和Ubuntu通常使用不同的文件系统（Windows使用NTFS，而Ubuntu通常使用Ext4）。分区允许每个操作系统使用其优选的文件系统。\n",
    "4. **简化备份和恢复**:通过对操作系统进行分区，可以更容易地备份和恢复系统。例如，如果Ubuntu遇到问题，你可以重新安装或恢复Ubuntu分区，而不影响Windows分区。\n",
    "5. **EFI系统分区（ESP）**:在UEFI模式下，可能需要访问或创建一个EFI系统分区（ESP），这是存储EFI引导加载程序的特殊分区。这个分区通常已经存在于安装Windows 11的系统上，Ubuntu安装程序通常会使用相同的ESP来安装其引导加载程序。\n",
    "6. **交换区（Swap）**:Ubuntu可能还需要一个交换分区（swap），它类似于Windows的页面文件。这个分区用于内存管理，特别是在物理内存不足时。"
   ]
  },
  {
   "cell_type": "markdown",
   "id": "bd635c95-fff7-4aea-8a74-bf1c398a58cf",
   "metadata": {},
   "source": [
    "&emsp;&emsp;\"此电脑\"点击右键，点击\"管理\"。"
   ]
  },
  {
   "cell_type": "markdown",
   "id": "bb69385a-425c-40df-9e4c-65fc677b9099",
   "metadata": {},
   "source": [
    "<div align=center><img src=\"https://muyu001.oss-cn-beijing.aliyuncs.com/img/image-20231228150535455.png\" width=80%></div>"
   ]
  },
  {
   "cell_type": "markdown",
   "id": "699787cf-a7aa-4ee8-8c11-4982ddc2cdad",
   "metadata": {},
   "source": [
    "&emsp;&emsp;进入后点击磁盘管理。"
   ]
  },
  {
   "cell_type": "markdown",
   "id": "ef479ecc-2e29-4f5d-8a25-fc23a6085892",
   "metadata": {},
   "source": [
    "&emsp;&emsp;如果是单硬盘，选择最后一个盘。（比如C、D两个盘的最后一个是D盘，C、D、E盘的最后一个是E盘，以此类推）。"
   ]
  },
  {
   "cell_type": "markdown",
   "id": "4a97b990-eca6-4873-a00a-ca5ba29cc173",
   "metadata": {},
   "source": [
    "<div align=center><img src=\"https://muyu001.oss-cn-beijing.aliyuncs.com/img/124.png\" width=80%></div>\n"
   ]
  },
  {
   "cell_type": "markdown",
   "id": "a4ef7e49-54aa-44d6-91f3-82b194528ad9",
   "metadata": {},
   "source": [
    "&emsp;&emsp;我的电脑是单硬盘，所以我选择的是E盘。"
   ]
  },
  {
   "cell_type": "markdown",
   "id": "f2bc0e4a-9410-4d2e-87ec-afc06b7c46b7",
   "metadata": {},
   "source": [
    "<div align=center><img src=\"https://muyu001.oss-cn-beijing.aliyuncs.com/img/image-20231228121324867.png\" width=80%></div>"
   ]
  },
  {
   "cell_type": "markdown",
   "id": "2e2f0f15-8012-44c3-a447-ace2d6313373",
   "metadata": {},
   "source": [
    "&emsp;&emsp;在E盘点击右键，选择压缩卷，如下，输入压缩空间量，单位为M, 如果空间充足，建议分出200G或300G（1G=1024M）。"
   ]
  },
  {
   "cell_type": "markdown",
   "id": "f4c21c3d-731d-482a-9a8b-410604c58883",
   "metadata": {},
   "source": [
    "<div align=center><img src=\"https://muyu001.oss-cn-beijing.aliyuncs.com/img/image-20231228121424037.png\" width=80%></div>"
   ]
  },
  {
   "cell_type": "markdown",
   "id": "0f320a1a-2719-4c51-acaa-550bc5b5389a",
   "metadata": {},
   "source": [
    "&emsp;&emsp;生成未分配的磁盘空间。"
   ]
  },
  {
   "cell_type": "markdown",
   "id": "48b77990-91b9-4b16-a98c-6a49813d7042",
   "metadata": {},
   "source": [
    "<div align=center><img src=\"https://muyu001.oss-cn-beijing.aliyuncs.com/img/126.png\" width=80%></div>"
   ]
  },
  {
   "cell_type": "markdown",
   "id": "9c67d4a3-9ff3-44f7-8e56-8aff18793d25",
   "metadata": {},
   "source": [
    "&emsp;&emsp;如果最后一个磁盘容量太小，还不够分出100G，那需要从其他盘匀一些过来，需要借助DiskGenius工具。\n",
    "\n",
    "&emsp;&emsp;单硬盘的情况比较简单，那如果是双硬盘，需要先在C盘分出200M的空白分区用来安装ubuntu的启动项，然后再按照单硬盘的方式，选择最后一个盘分出200G以上的空间。而选择最后一个盘做压缩卷的原因，是Windows和Ubuntu的文件存储格式是不一样的，我们分区的操作只是将磁盘分了一部分给ubuntu，事实上两个系统还是在共用一块磁盘，为了防止存储格式不同两个系统可能相互影响，我们通过从最后一个盘压缩将ubuntu的分区分到了磁盘最后一段，也就是一块磁盘的前部分是windows的分区，后部分是ubuntu的分区。"
   ]
  },
  {
   "cell_type": "markdown",
   "id": "ae9b36d9-0027-460b-87a8-6cacc0e074eb",
   "metadata": {},
   "source": [
    "# 6. 关闭Windows下的快速启动"
   ]
  },
  {
   "cell_type": "markdown",
   "id": "0bff8316-8ab0-40dd-8c06-68c47ff30c13",
   "metadata": {},
   "source": [
    "&emsp;&emsp;Windows系统下的快速启动有可能造成无法识别U盘，所以保险起见，我们手动关闭一下。关闭方法如下:"
   ]
  },
  {
   "cell_type": "markdown",
   "id": "79b3eb55-ad03-495b-8627-fe2e4750c13b",
   "metadata": {},
   "source": [
    "- **Step 1.找到控制面板**"
   ]
  },
  {
   "cell_type": "markdown",
   "id": "c00a1985-f148-43b5-8a3a-dcdb9990f0f1",
   "metadata": {},
   "source": [
    "<div align=center><img src=\"https://muyu001.oss-cn-beijing.aliyuncs.com/img/image-20231228120844791.png\" width=40%></div>"
   ]
  },
  {
   "cell_type": "markdown",
   "id": "477be124-e485-49a8-ba05-e6e4cb1b25fb",
   "metadata": {},
   "source": [
    "- **Step 2.进入电源选项**"
   ]
  },
  {
   "cell_type": "markdown",
   "id": "9035196d-e108-4171-be3c-5304e8770542",
   "metadata": {},
   "source": [
    "<div align=center><img src=\"https://muyu001.oss-cn-beijing.aliyuncs.com/img/image-20231228120942508.png\" width=80%></div>"
   ]
  },
  {
   "cell_type": "markdown",
   "id": "ac5597b1-8c6c-4606-a93e-d3fc3c1edb50",
   "metadata": {},
   "source": [
    "- **Step 3.选择电源按钮的功能**"
   ]
  },
  {
   "cell_type": "markdown",
   "id": "306c8e25-9d87-4e7a-912a-3b2f875197c1",
   "metadata": {},
   "source": [
    "<div align=center><img src=\"https://muyu001.oss-cn-beijing.aliyuncs.com/img/image-20231228121010942.png\" width=80%></div>"
   ]
  },
  {
   "cell_type": "markdown",
   "id": "353d87bb-f906-4fa5-808f-8a4dfbb2783d",
   "metadata": {},
   "source": [
    "- **Step 4.选择更改当前不可用设置**"
   ]
  },
  {
   "cell_type": "markdown",
   "id": "acee1f50-5ec1-42d8-80cb-ca90ef7f2db2",
   "metadata": {},
   "source": [
    "<div align=center><img src=\"https://muyu001.oss-cn-beijing.aliyuncs.com/img/image-20231228121031433.png\" width=80%></div>"
   ]
  },
  {
   "cell_type": "markdown",
   "id": "1218c4a0-44e7-4f47-8fa0-2a2450f7557d",
   "metadata": {},
   "source": [
    "- **Step 5.这里取消勾选快速启动，记得最后保存修改**"
   ]
  },
  {
   "cell_type": "markdown",
   "id": "2b79c962-8d51-4c3e-a880-c6208da7eb9a",
   "metadata": {},
   "source": [
    "<div align=center><img src=\"https://muyu001.oss-cn-beijing.aliyuncs.com/img/image-20231228121149101.png\" width=80%></div>"
   ]
  },
  {
   "cell_type": "markdown",
   "id": "1f5a974e-6941-4077-ba54-94ebaa2df2fc",
   "metadata": {},
   "source": [
    "# 7. 安装Unbutu 22.04 双系统"
   ]
  },
  {
   "cell_type": "markdown",
   "id": "ae7697d2-b0cc-49ff-a5ae-973079697627",
   "metadata": {},
   "source": [
    "- **Step 1.将制作的启动盘，插在主机的机箱上**"
   ]
  },
  {
   "cell_type": "markdown",
   "id": "ded1609c-6bb6-47bc-84cf-2c3dea172570",
   "metadata": {},
   "source": [
    "- **Step 2.修改电脑BIOS设置**"
   ]
  },
  {
   "cell_type": "markdown",
   "id": "d6df9d16-b006-4a71-84fd-19f2306abdcd",
   "metadata": {},
   "source": [
    "&emsp;&emsp;开机的时候一直按Del、F2、F11等键（我的电脑是F11键），不知道的可以百度查查自己的电脑进入BIOS的热键。"
   ]
  },
  {
   "cell_type": "markdown",
   "id": "d11164b3-a7df-4ead-b8fe-ec8a98ed87c1",
   "metadata": {},
   "source": [
    "<div align=center><img src=\"https://muyu001.oss-cn-beijing.aliyuncs.com/img/image-20231228154232037.png\" width=80%></div>"
   ]
  },
  {
   "cell_type": "markdown",
   "id": "9761767e-e8af-4cd8-aef5-dc24ebffd3b4",
   "metadata": {},
   "source": [
    "&emsp;&emsp;需要修改两处。第一处：将 Secure Boot（安全启动，用于确保电脑只能启动原装系统。如果电脑重装了其他系统，那么这个系统是启动不了的。说白了，就是垄断。所以安装完其他系统，必须关闭 secure boot，新系统才能启动）设置为Disabled。我的BIOS是中文的，大家根据自己电脑的情况，找到该选项进行修改即可。"
   ]
  },
  {
   "cell_type": "markdown",
   "id": "88a89750-e14a-4371-b7e1-9d4b8c8239be",
   "metadata": {},
   "source": [
    "&emsp;&emsp;找到安全。"
   ]
  },
  {
   "cell_type": "markdown",
   "id": "c4473cea-2eed-4166-be96-b14db667c650",
   "metadata": {},
   "source": [
    "<div align=center><img src=\"https://muyu001.oss-cn-beijing.aliyuncs.com/img/image-20231228154402831.png\" width=80%></div>"
   ]
  },
  {
   "cell_type": "markdown",
   "id": "23e6f8f7-1c61-4e8c-8378-9e8f7f410c00",
   "metadata": {},
   "source": [
    "&emsp;&emsp;修改安全引导选项。"
   ]
  },
  {
   "cell_type": "markdown",
   "id": "992194d3-5e30-49e9-aef2-74d830872340",
   "metadata": {},
   "source": [
    "<div align=center><img src=\"https://muyu001.oss-cn-beijing.aliyuncs.com/img/image-20231228154416430.png\" width=80%></div>"
   ]
  },
  {
   "cell_type": "markdown",
   "id": "35718e32-4ae1-4a70-8af3-91d8a6fca192",
   "metadata": {},
   "source": [
    "&emsp;&emsp;将其禁止安全启动，对于BIOS而言，开启主板快速启动后，会跳过主板的自检，可缩短电脑开机时间。而关闭它的原因主要是涉及兼容性和引导加载程序的认证问题，如果一些系统版本不支持安全启动或需要额外的配置才能与之兼容。如果安全启动启用，它可能会阻止这些系统的引导加载程序启动，从而阻止系统启动。同时，禁用安全启动可以简化安装双系统的过程，特别是对于那些不熟悉安全启动配置和问题排查的用户。它减少了安装过程中可能遇到的兼容性问题。"
   ]
  },
  {
   "cell_type": "markdown",
   "id": "aae60073-2f25-4ad8-873c-d3cc46715738",
   "metadata": {},
   "source": [
    "<div align=center><img src=\"https://muyu001.oss-cn-beijing.aliyuncs.com/img/image-20231228154438066.png\" width=80%></div>"
   ]
  },
  {
   "cell_type": "markdown",
   "id": "49427b27-8f1d-4c6b-98ed-7a5f6cfb7dcf",
   "metadata": {},
   "source": [
    "&emsp;&emsp;接下来，我们将快速启动关闭。"
   ]
  },
  {
   "cell_type": "markdown",
   "id": "3df857d9-6592-4b61-9d3e-8fa817ca9fe3",
   "metadata": {},
   "source": [
    "<div align=center><img src=\"https://muyu001.oss-cn-beijing.aliyuncs.com/img/image-20231228153908520.png\" width=80%></div>"
   ]
  },
  {
   "cell_type": "markdown",
   "id": "e4a1c6e9-018c-4415-acce-29a6040f7ccb",
   "metadata": {},
   "source": [
    "&emsp;&emsp;全部改为禁止。快速启动是Windows操作系统的一个特性，当启用时，Windows并不完全关机，而是进入一种混合休眠状态，文件系统可能保持在一种“未完成”的状态，如果另一个操作系统在Windows的快速启动模式下尝试访问或修改Windows分区，可能导致文件系统损坏，容易造成误操作。"
   ]
  },
  {
   "cell_type": "markdown",
   "id": "0a33ed46-78b3-45b4-824a-05018879b25f",
   "metadata": {},
   "source": [
    "<div align=center><img src=\"https://muyu001.oss-cn-beijing.aliyuncs.com/img/image-20231228153943767.png\" width=80%></div>"
   ]
  },
  {
   "cell_type": "markdown",
   "id": "8d582ea0-ea94-443f-ac69-3f4b5d90cb4c",
   "metadata": {},
   "source": [
    "&emsp;&emsp;第二处，调整启动项顺序，将USB启动调至第一启动项。以保证再次重启时可以进入引导程序。"
   ]
  },
  {
   "cell_type": "markdown",
   "id": "90ad738c-eb76-4bcf-9ef8-50fc3cd624dc",
   "metadata": {},
   "source": [
    "<div align=center><img src=\"https://muyu001.oss-cn-beijing.aliyuncs.com/img/image-20231228154031248.png\" width=80%></div>"
   ]
  },
  {
   "cell_type": "markdown",
   "id": "9ef3a9d3-83a4-4c2b-a35a-025b0c787017",
   "metadata": {},
   "source": [
    "&emsp;&emsp;将制作的启动盘提至第一位。"
   ]
  },
  {
   "cell_type": "markdown",
   "id": "b09dd262-023c-499c-936d-71476ad12a0d",
   "metadata": {},
   "source": [
    "<div align=center><img src=\"https://muyu001.oss-cn-beijing.aliyuncs.com/img/image-20231228154322734.png\" width=80%></div>"
   ]
  },
  {
   "cell_type": "markdown",
   "id": "071d6dc8-9206-4325-85c7-c8084d9a00bd",
   "metadata": {},
   "source": [
    "&emsp;&emsp;最后，保存配置修改并退出，等待系统重启。"
   ]
  },
  {
   "cell_type": "markdown",
   "id": "f7e6ced1-0bd2-4c62-88e1-5c65bbf65b17",
   "metadata": {},
   "source": [
    "<div align=center><img src=\"https://muyu001.oss-cn-beijing.aliyuncs.com/img/image-20231228154624597.png\" width=80%></div>"
   ]
  },
  {
   "cell_type": "markdown",
   "id": "390f2774-357d-49f6-b795-6457c990a001",
   "metadata": {},
   "source": [
    "- **Step 3.重启启动后，如果没有配置错，会正常进入引导界面**"
   ]
  },
  {
   "cell_type": "markdown",
   "id": "845b4a23-3e7f-4813-9e16-c0aeea0d1577",
   "metadata": {},
   "source": [
    "&emsp;&emsp;出现此页面，说明已经正常进入到引导程序，光标选择到第一项`Try or Install Ubuntu`，按回车；"
   ]
  },
  {
   "cell_type": "markdown",
   "id": "62295707-3da2-42c4-a91f-f0c313d2073d",
   "metadata": {},
   "source": [
    "<div align=center><img src=\"https://muyu001.oss-cn-beijing.aliyuncs.com/img/image-20231228161011030.png\" width=80%></div>"
   ]
  },
  {
   "cell_type": "markdown",
   "id": "0885bb83-5ad6-4c53-928c-5c8e554a1567",
   "metadata": {},
   "source": [
    "&emsp;&emsp;已经能看到Ubuntu的加载图标。"
   ]
  },
  {
   "cell_type": "markdown",
   "id": "9c23e70e-825b-48a4-b48f-bfced254f912",
   "metadata": {},
   "source": [
    "<div align=center><img src=\"https://muyu001.oss-cn-beijing.aliyuncs.com/img/image-20231228161049779.png\" width=80%></div>"
   ]
  },
  {
   "cell_type": "markdown",
   "id": "46adce6d-5fb2-4b2b-a185-e021ead588e4",
   "metadata": {},
   "source": [
    "- **Step 4.选择语言**"
   ]
  },
  {
   "cell_type": "markdown",
   "id": "e9ff6b24-85e5-4458-ac62-c3ff64922f92",
   "metadata": {},
   "source": [
    "&emsp;&emsp;左侧选择English或中文(简体)，再点击安装 Ubuntu，建议选择English。因为中英文字符编码不一样，如果安装时使用中文，后续开发时可能会出现报错，如果先使用英文，安装完成后将语言改成中文，其他如桌面文件夹名称等都不改变，就可以避免这类问题。"
   ]
  },
  {
   "cell_type": "markdown",
   "id": "db6b5b7d-aca3-4868-81c5-40aca5d1d33d",
   "metadata": {},
   "source": [
    "<div align=center><img src=\"https://muyu001.oss-cn-beijing.aliyuncs.com/img/image-20231228161150405.png\" width=60%></div>"
   ]
  },
  {
   "cell_type": "markdown",
   "id": "e69d7c3c-1949-457d-a4ad-dd5fe504fd6c",
   "metadata": {},
   "source": [
    "- **Step 4.选择键盘布局**"
   ]
  },
  {
   "cell_type": "markdown",
   "id": "39251cb8-2811-4f15-a25b-81fc26602dc4",
   "metadata": {},
   "source": [
    "&emsp;&emsp;还是建议选择English（为了更广泛的适配性，选美式布局），再点击继续。"
   ]
  },
  {
   "cell_type": "markdown",
   "id": "e57e7b60-1349-4e2e-87fd-c98b84436a13",
   "metadata": {},
   "source": [
    "<div align=center><img src=\"https://muyu001.oss-cn-beijing.aliyuncs.com/img/image-20231228161236658.png\" width=60%></div>"
   ]
  },
  {
   "cell_type": "markdown",
   "id": "f40e19e4-a1c8-4ed5-8355-57fa760ed048",
   "metadata": {},
   "source": [
    "- **Step 5.是否连接Wifi**"
   ]
  },
  {
   "cell_type": "markdown",
   "id": "cd08f3f4-8735-4f1c-a065-d5fc1550313d",
   "metadata": {},
   "source": [
    "&emsp;&emsp;是否连接wifi，看个人情况，安装完系统后再连接也可以。建议直接连上吧。"
   ]
  },
  {
   "cell_type": "markdown",
   "id": "3e1f9a75-2368-4332-9519-0b89c5012678",
   "metadata": {},
   "source": [
    "<div align=center><img src=\"https://muyu001.oss-cn-beijing.aliyuncs.com/img/image-20231228161339672.png\" width=60%></div>"
   ]
  },
  {
   "cell_type": "markdown",
   "id": "0dd420d4-97fc-4c8e-86a1-44834f0916c6",
   "metadata": {},
   "source": [
    "- **Step 5.选择安装模式**"
   ]
  },
  {
   "cell_type": "markdown",
   "id": "8ebe5014-5d27-40c6-be3e-887873c69909",
   "metadata": {},
   "source": [
    "&emsp;&emsp;安装Ubuntu操作系统有两种主要的安装模式：标准安装和最小安装。\n",
    "\n",
    "&emsp;&emsp;标准安装模式提供了一个功能齐全的Ubuntu环境。它包括了Ubuntu操作系统的所有标准软件，例如完整的桌面环境（通常是GNOME）、一系列预装的应用程序（如浏览器、办公软件、媒体播放器等），以及其他实用工具和服务。这种安装模式适合那些想要即刻获得一个准备就绪、功能丰富的系统的用户。而最小安装模式提供了一个精简的Ubuntu环境。它安装了基本的桌面环境和极少量的软件，通常只包括一个浏览器和基本的系统工具。这种模式适合那些希望自定义自己系统的用户，或者那些对系统资源有限制（如使用较老硬件）的用户。最小安装允许用户在安装后根据自己的需要安装额外的软件和应用程序。\n",
    "\n",
    "&emsp;&emsp;大家看自己需求，我这里选择的标准安装。"
   ]
  },
  {
   "cell_type": "markdown",
   "id": "97e7860c-75f6-44cb-a059-bc44733851f1",
   "metadata": {},
   "source": [
    "<div align=center><img src=\"https://muyu001.oss-cn-beijing.aliyuncs.com/img/image-20231228162154306.png\" width=60%></div>"
   ]
  },
  {
   "cell_type": "markdown",
   "id": "70fc3818-e8da-41fd-a111-14602c00d353",
   "metadata": {},
   "source": [
    "- **Step 6. 选择安装选项**"
   ]
  },
  {
   "cell_type": "markdown",
   "id": "28b84c4d-cddc-4545-84f3-91d886e2bf5f",
   "metadata": {},
   "source": [
    "&emsp;&emsp;在Ubuntu安装过程中的,有几个\n",
    "\n",
    "- Install Ubuntu alongside [Other Operating System]: 如果计算机已经安装了另一个操作系统（如Windows），这个选项会出现。选择这个选项将允许你在不影响现有操作系统的情况下安装Ubuntu。安装程序将自动缩小现有操作系统的分区，为Ubuntu创建新空间，并设置双系统引导。\n",
    "- Erase Disk and Install Ubuntu: 这是最简单的选项，适用于想要在整个磁盘上只安装Ubuntu的用户。选择这个选项会删除磁盘上的所有现有数据，并为Ubuntu创建一个新的文件系统。这适用于不打算运行双系统，或在新硬盘上安装Ubuntu的情况。\n",
    "- Something Else： 一个高级安装选项，它允许用户手动分配磁盘空间和创建分区。这个选项主要用于手动分区、多重引导/双系统、使用特定的文件系统等。"
   ]
  },
  {
   "cell_type": "markdown",
   "id": "603a376c-938b-4892-a0d2-372313a89982",
   "metadata": {},
   "source": [
    "&emsp;&emsp;除了分区等操作之外，Something Else选项允许我们选择安装Ubuntu的确切位置，以避免覆盖现有的操作系统。对于我们来说，目前已经安装了Windows，就需要使用这个选项来选择一个不同的分区或驱动器安装Ubuntu，而不影响Windows分区。"
   ]
  },
  {
   "cell_type": "markdown",
   "id": "93145fbe-fe0f-45d1-aa65-adb294d0a761",
   "metadata": {},
   "source": [
    "<div align=center><img src=\"https://muyu001.oss-cn-beijing.aliyuncs.com/img/image-20231228162144860.png\" width=60%></div>"
   ]
  },
  {
   "cell_type": "markdown",
   "id": "9a9b084b-ad2c-46ca-84a4-6be9b8b5114d",
   "metadata": {},
   "source": [
    "- **Step 6. 划分目录分区**"
   ]
  },
  {
   "cell_type": "markdown",
   "id": "f1af7304-e069-4927-8c0d-0408cc459edc",
   "metadata": {},
   "source": [
    "&emsp;&emsp;在这里，可以看到在前面步骤中已经分好的空闲分区，因为我们是单硬盘的情况，只有一个空闲分区，大小是在分区时给定的，即：200余G。如果是双硬盘的话，还能看到另一个空闲分区，大小200M左右，所以分区操作单双硬盘存在一点差别。"
   ]
  },
  {
   "cell_type": "markdown",
   "id": "f804b84d-0c2c-42d8-bf5b-62ddd353d8d9",
   "metadata": {},
   "source": [
    "<div align=center><img src=\"https://muyu001.oss-cn-beijing.aliyuncs.com/img/image-20231228162317602.png\" width=60%></div>"
   ]
  },
  {
   "cell_type": "markdown",
   "id": "e4ddbb20-f2de-4dba-9edb-8ad010621e28",
   "metadata": {},
   "source": [
    "&emsp;&emsp;首先对于单硬盘来说，先选中 free space 盘符，点击\"+\"进行分区，如下："
   ]
  },
  {
   "cell_type": "markdown",
   "id": "5544da7b-902c-412c-afa7-dcfbdaab7409",
   "metadata": {},
   "source": [
    "<div align=center><img src=\"https://muyu001.oss-cn-beijing.aliyuncs.com/img/image-20231228162428212.png\" width=60%></div>"
   ]
  },
  {
   "cell_type": "markdown",
   "id": "81a320e6-8e22-4cdb-a416-03fffca3ebc1",
   "metadata": {},
   "source": [
    "&emsp;&emsp;EFI系统分区（ESP）：Windows系统是基于UEFI的，在基于UEFI的系统中，EFI系统分区是用于存储UEFI启动加载程序的特殊分区。通常已经存在于安装了Windows的系统上，因为Windows的安装会创建这样一个分区。在基于UEFI的系统中，ESP是启动过程的关键组成部分。启动引导器是一种软件，负责在计算机启动时加载操作系统。对于Windows，通常是Windows Boot Manager；对于Ubuntu，通常是GRUB（GNU GRand Unified Bootloader），当计算机启动并且UEFI固件执行时，它会首先访问ESP，查找并执行相应的引导加载程序来启动选择的操作系统。"
   ]
  },
  {
   "cell_type": "markdown",
   "id": "143a4df0-0d0e-48f2-9365-c8deefec811b",
   "metadata": {},
   "source": [
    "&emsp;&emsp;如果是单硬盘，在唯一的一个空闲分区上添加，大小2048M，逻辑分区，空间起始位置，用于efi，对于装载引导程序而言，该空间大小已绰绰有余；如果是双硬盘，找到事先分好的空闲分区添加，逻辑分区，空间起始位置，用于efi。这个分区必不可少，用于安装ubuntu启动项。"
   ]
  },
  {
   "cell_type": "markdown",
   "id": "d1a9e423-dd4b-4eba-bb06-04fcc47fbb63",
   "metadata": {},
   "source": [
    "<div align=center><img src=\"https://muyu001.oss-cn-beijing.aliyuncs.com/img/image-20231228164821891.png\" width=60%></div>"
   ]
  },
  {
   "cell_type": "markdown",
   "id": "ca42e324-d941-443f-8c86-9d9432e3e44a",
   "metadata": {},
   "source": [
    "&emsp;&emsp;划分swap分区，中文是\"交换空间\"，是一种补充物理内存（RAM）的机制。当物理内存使用接近满载时，系统可以将部分数据移动到swap空间，从而释放RAM空间供当前活跃进程使用。一般的大小为电脑物理内存的2倍左右，可以将其分为 8G，逻辑分区，空间起始位置，用于\"swap\"或\"交换空间\"。"
   ]
  },
  {
   "cell_type": "markdown",
   "id": "3ca60e28-68ed-450d-9530-2de4f3092003",
   "metadata": {},
   "source": [
    "<div align=center><img src=\"https://muyu001.oss-cn-beijing.aliyuncs.com/img/image-20231228164903348.png\" width=60%></div>"
   ]
  },
  {
   "cell_type": "markdown",
   "id": "01aa9181-5057-4ec7-b89e-16b20ca2b0eb",
   "metadata": {},
   "source": [
    "&emsp;&emsp; /（/root）:Ubuntu 的根目录,用于安装系统和软件，相当于windows的C盘，我们将其分为 100G，主分区，空间起始位置，用于\"ext4日志文件系统\"，挂载点为\"/\"（根据你的磁盘空间调整，可以大一点，毕竟ubuntu装软件都是默认装在根目录的）。在MBR（主引导记录）分区表中，一个硬盘最多只能有四个主分区。如果需要更多分区，就必须将其中一个主分区设为扩展分区，在扩展分区内可以创建多个逻辑分区。而在GPT（GUID分区表）中，这种区分不存在，可以创建多达128个分区，每个分区几乎都具有主分区的特性。"
   ]
  },
  {
   "cell_type": "markdown",
   "id": "70760e75-4305-419b-b0f3-7c0b7dc793d0",
   "metadata": {},
   "source": [
    "<div align=center><img src=\"https://muyu001.oss-cn-beijing.aliyuncs.com/img/image-20231228164949951.png\" width=60%></div>"
   ]
  },
  {
   "cell_type": "markdown",
   "id": "d2ab8c51-c0b6-485e-b65b-75ec74612a88",
   "metadata": {},
   "source": [
    "&emsp;&emsp;最后，划分/home:相当于windows的其他盘，剩下的全分给它，逻辑分区，空间起始位置，用于\"ext4日志文件系统\"，挂载点为\"/home\""
   ]
  },
  {
   "cell_type": "markdown",
   "id": "15109c08-cada-47a9-926f-e71fc2329306",
   "metadata": {},
   "source": [
    "<div align=center><img src=\"https://muyu001.oss-cn-beijing.aliyuncs.com/img/image-20231228165016123.png\" width=60%></div>"
   ]
  },
  {
   "cell_type": "markdown",
   "id": "3be1086e-4d2f-41d4-8547-4a58c59bd77a",
   "metadata": {},
   "source": [
    "- **Step 7. 选择安装启动项的位置**"
   ]
  },
  {
   "cell_type": "markdown",
   "id": "5fff1fa5-bb09-4fc5-9469-da723cb0bf94",
   "metadata": {},
   "source": [
    "&emsp;&emsp;最后，最关键的一步：在分区界面的下方，选择安装启动项的位置。"
   ]
  },
  {
   "cell_type": "markdown",
   "id": "78903820-d091-4ce2-89f0-41e18f3fafb5",
   "metadata": {},
   "source": [
    "<div align=center><img src=\"https://muyu001.oss-cn-beijing.aliyuncs.com/img/image-20231228172854373.png\" width=60%></div>"
   ]
  },
  {
   "cell_type": "markdown",
   "id": "aa25c940-d710-4866-ace2-0e7e5e0d50f3",
   "metadata": {},
   "source": [
    "&emsp;&emsp;我们刚刚创建的2048M的 EFI 分区，现在看看这个区前面的编号是多少，不同的机子会有不同的编号，此处为/dev/nvme0n1p7。下拉列表选择这个EFI分区编号（这里一定要注意，windows的启动项也是efi文件，大小大概是104M，而我们创建的ubuntu的efi大小是2048M，一定要选对），之后点击\"Install Now\""
   ]
  },
  {
   "cell_type": "markdown",
   "id": "195c1f76-44b1-4906-b614-ed46ac926404",
   "metadata": {},
   "source": [
    "<div align=center><img src=\"https://muyu001.oss-cn-beijing.aliyuncs.com/img/image-20231228173012533.png\" width=60%></div>"
   ]
  },
  {
   "cell_type": "markdown",
   "id": "b35b0947-ae4f-4d2b-8731-bd1bef060925",
   "metadata": {},
   "source": [
    "&emsp;&emsp;上述步骤完成后，可查看硬盘分区的总体情况，如下图所示。点击“Continue”进入下一步。"
   ]
  },
  {
   "cell_type": "markdown",
   "id": "e3fc5a23-7ceb-42cd-a5b9-6ad8012226d1",
   "metadata": {},
   "source": [
    "<div align=center><img src=\"https://muyu001.oss-cn-beijing.aliyuncs.com/img/image-20231228173306607.png\" width=60%></div>"
   ]
  },
  {
   "cell_type": "markdown",
   "id": "86c4e421-9189-4af4-83a3-a73b3d5803ac",
   "metadata": {},
   "source": [
    "- **Step 8. 输入所在位置，选择上海即可**"
   ]
  },
  {
   "cell_type": "markdown",
   "id": "117c1b9d-6e30-4a87-9963-597a1c2d80f8",
   "metadata": {},
   "source": [
    "<div align=center><img src=\"https://muyu001.oss-cn-beijing.aliyuncs.com/img/image-20231228173337389.png\" width=60%></div>"
   ]
  },
  {
   "cell_type": "markdown",
   "id": "3f16b1fc-ac18-4c01-ad86-e51861a9379d",
   "metadata": {},
   "source": [
    "- **Step 9. 设置用户名密码**"
   ]
  },
  {
   "cell_type": "markdown",
   "id": "4a47e42e-588d-4944-8408-faf41a9af965",
   "metadata": {},
   "source": [
    "&emsp;&emsp;Your name”你的名字，“Your computer's name”你的计算机名，“Pick a username”你的用户名，下面是你的用户名密码“choose a password”确认密码，“confirm your password”确认密码，下面选择自动登录或者登陆时需要密码就可以了。"
   ]
  },
  {
   "cell_type": "markdown",
   "id": "f9ae1f71-395f-4f6e-91e2-78aee7c6877f",
   "metadata": {},
   "source": [
    "<div align=center><img src=\"https://typora-photo1220.oss-cn-beijing.aliyuncs.com/LingYu/image-20240818210954408.png\" width=60%></div>"
   ]
  },
  {
   "cell_type": "markdown",
   "id": "fd05be44-6e91-4ff2-afd0-8392a4cef013",
   "metadata": {},
   "source": [
    "- **Step 10. 等待安装过程**"
   ]
  },
  {
   "cell_type": "markdown",
   "id": "e4907f02-b806-409d-adb9-dc31f489c8ad",
   "metadata": {},
   "source": [
    "<div align=center><img src=\"https://muyu001.oss-cn-beijing.aliyuncs.com/img/image-20231228173434894.png\" width=70%></div>"
   ]
  },
  {
   "cell_type": "markdown",
   "id": "1a035741-2afa-4f43-9a5b-8a776b8bbb11",
   "metadata": {},
   "source": [
    "- **Step 11. 安装完成**"
   ]
  },
  {
   "cell_type": "markdown",
   "id": "3d895a13-5840-43a3-bfd4-25dc464311f1",
   "metadata": {},
   "source": [
    "&emsp;&emsp;全部完成之后，会提醒重启，注意：把U盘拔了，点\"restart now\"，如果卡死就强制关机再重启就好。"
   ]
  },
  {
   "cell_type": "markdown",
   "id": "33b5161b-679f-417d-8f2b-cb0a01564751",
   "metadata": {},
   "source": [
    "<div align=center><img src=\"https://muyu001.oss-cn-beijing.aliyuncs.com/img/image-20231228173500117.png\" width=70%></div>"
   ]
  },
  {
   "cell_type": "markdown",
   "id": "a76e7ee1-4870-4cd6-8873-262f353f789d",
   "metadata": {},
   "source": [
    "# 8.设置系统启动顺序"
   ]
  },
  {
   "cell_type": "markdown",
   "id": "e83c6376-9706-4010-b044-e2544573ec1c",
   "metadata": {},
   "source": [
    "&emsp;&emsp;重启后正常来说会看到以下界面：第一项是ubuntu启动项，第二项是ubuntu高级设置，第三项是windows启动项，默认选择的是第一个，按回车即可进入ubuntu系统。"
   ]
  },
  {
   "cell_type": "markdown",
   "id": "d36577dd-bf52-498e-b9a9-b1de16dbb6b2",
   "metadata": {},
   "source": [
    "<div align=center><img src=\"https://muyu001.oss-cn-beijing.aliyuncs.com/img/image-20231228174523564.png\" width=70%></div>"
   ]
  },
  {
   "cell_type": "markdown",
   "id": "c439b1b8-c439-49c6-9960-c0d9e200de79",
   "metadata": {},
   "source": [
    "&emsp;&emsp;若未出现以上界面，需要再次进入BIOS进行引导启动设置。根据自己电脑的情况进入BIOS，我这里是开机后按F11可进入。"
   ]
  },
  {
   "cell_type": "markdown",
   "id": "15cb7873-9815-4ebd-999c-44621ee502b4",
   "metadata": {},
   "source": [
    "<div align=center><img src=\"https://muyu001.oss-cn-beijing.aliyuncs.com/img/image-20231228174258932.png\" width=80%></div>"
   ]
  },
  {
   "cell_type": "markdown",
   "id": "7767f39a-1d02-4a92-bdfa-172fb195ac96",
   "metadata": {},
   "source": [
    "&emsp;&emsp;UEFI BBS（Boot BIoS Specification）是一种在UEFI（Unified Extensible Firmware Interface）固件中用于管理启动设备和启动顺序的设置。在双系统（如Windows和Ubuntu）的配置中，UEFI BBS可以用来选择默认启动的操作系统，或改变启动顺序。我们可以设置计算机默认启动Windows引导加载程序，或者是Ubuntu的GRUB引导加载程序。"
   ]
  },
  {
   "cell_type": "markdown",
   "id": "b3e2d32a-38f3-4d87-9d1c-25c81bf0d349",
   "metadata": {},
   "source": [
    "<div align=center><img src=\"https://muyu001.oss-cn-beijing.aliyuncs.com/img/image-20231228174333350.png\" width=80%></div>"
   ]
  },
  {
   "cell_type": "markdown",
   "id": "b5fe5efe-e52c-4d9c-99d6-6c4f6e2cc621",
   "metadata": {},
   "source": [
    "&emsp;&emsp;可以看到，目前第一启动项是windwos，所以会直接进入Windows操作系统。"
   ]
  },
  {
   "cell_type": "markdown",
   "id": "3d54fc98-71aa-450c-9f4c-d9eecca910e4",
   "metadata": {},
   "source": [
    "<div align=center><img src=\"https://muyu001.oss-cn-beijing.aliyuncs.com/img/image-20231228174421721.png\" width=80%></div>"
   ]
  },
  {
   "cell_type": "markdown",
   "id": "d7f18935-5173-45b9-9924-ac2ab3e304ee",
   "metadata": {},
   "source": [
    "&emsp;&emsp;这里把ubuntu系统的引导项提到首位，然后保存配置后退出。"
   ]
  },
  {
   "cell_type": "markdown",
   "id": "1f9a446e-4848-4298-aba5-e50e97f02784",
   "metadata": {},
   "source": [
    "<div align=center><img src=\"https://muyu001.oss-cn-beijing.aliyuncs.com/img/image-20231228174445865.png\" width=80%></div>"
   ]
  },
  {
   "cell_type": "markdown",
   "id": "e0fc874a-24e5-4797-9c2a-35c745894200",
   "metadata": {},
   "source": [
    "&emsp;&emsp;再次重启后，就可以加载到Ubuntu。"
   ]
  },
  {
   "cell_type": "markdown",
   "id": "de9870af-f518-413e-bb11-905714479936",
   "metadata": {},
   "source": [
    "# <div align=center><img src=\"https://muyu001.oss-cn-beijing.aliyuncs.com/img/image-20231228174523564.png\" width=80%></div>"
   ]
  },
  {
   "cell_type": "markdown",
   "id": "b86de3c7-d305-4c64-a9a0-11de1ce9647c",
   "metadata": {},
   "source": [
    "&emsp;&emsp;选择进入，可以正常进入ubuntu系统。"
   ]
  },
  {
   "cell_type": "markdown",
   "id": "423e20c5-f485-4f4a-8d1e-04ceba62191d",
   "metadata": {},
   "source": [
    "<div align=center><img src=\"https://typora-photo1220.oss-cn-beijing.aliyuncs.com/LingYu/image-20240818210724997.png\" width=80%></div>"
   ]
  },
  {
   "cell_type": "markdown",
   "id": "4db151a8-deb0-40a0-b2cc-0f05d4453c28",
   "metadata": {},
   "source": [
    "&emsp;&emsp;ubuntu系统的桌面终端。"
   ]
  },
  {
   "cell_type": "markdown",
   "id": "997d2e29-2009-4686-ad9b-deb99fd6da72",
   "metadata": {},
   "source": [
    "<div align=center><img src=\"https://muyu001.oss-cn-beijing.aliyuncs.com/img/image-20231228175403918.png\" width=80%></div>"
   ]
  },
  {
   "cell_type": "markdown",
   "id": "4da8fe71-ac64-4914-b0fa-8595ded4f111",
   "metadata": {},
   "source": [
    "打开命令窗口通过输入命令可以查看安装的Ubuntu版本号：\n",
    "\n",
    "​"
   ]
  },
  {
   "cell_type": "markdown",
   "id": "eff20bf5-5419-4c39-8945-04fb77d02db9",
   "metadata": {},
   "source": [
    "```bash\n",
    "                    lsb_release -a\n",
    "```"
   ]
  },
  {
   "cell_type": "markdown",
   "id": "555b79be-2266-4b4f-b998-dbcde5e9f647",
   "metadata": {},
   "source": [
    "<div align=center><img src=\"https://typora-photo1220.oss-cn-beijing.aliyuncs.com/LingYu/image-20240808184152814.png\" width=80%></div>"
   ]
  },
  {
   "cell_type": "code",
   "execution_count": null,
   "id": "a00d9323-ee79-4f73-9dac-e747fa3e8751",
   "metadata": {},
   "outputs": [],
   "source": []
  }
 ],
 "metadata": {
  "kernelspec": {
   "display_name": "Python 3 (ipykernel)",
   "language": "python",
   "name": "python3"
  },
  "language_info": {
   "codemirror_mode": {
    "name": "ipython",
    "version": 3
   },
   "file_extension": ".py",
   "mimetype": "text/x-python",
   "name": "python",
   "nbconvert_exporter": "python",
   "pygments_lexer": "ipython3",
   "version": "3.11.7"
  }
 },
 "nbformat": 4,
 "nbformat_minor": 5
}
