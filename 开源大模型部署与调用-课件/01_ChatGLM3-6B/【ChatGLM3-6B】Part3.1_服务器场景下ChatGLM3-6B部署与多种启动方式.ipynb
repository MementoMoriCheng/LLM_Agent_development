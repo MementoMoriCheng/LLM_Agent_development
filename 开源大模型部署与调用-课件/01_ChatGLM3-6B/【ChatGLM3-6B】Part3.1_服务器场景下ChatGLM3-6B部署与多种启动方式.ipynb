{
 "cells": [
  {
   "cell_type": "markdown",
   "id": "8aff0af1-4c87-4a31-b41c-8ca355711198",
   "metadata": {},
   "source": [
    "## <center>服务器场景下ChatGLM3-6B部署与多种启动方式"
   ]
  },
  {
   "cell_type": "markdown",
   "id": "8776f32e-4ea3-4124-9158-a5d8afebb315",
   "metadata": {},
   "source": [
    "&emsp;&emsp;在服务器环境下部署大模型时，常常会遇到各种限制，比如无法直接连接外网下载安装模型文件或者因服务器资源限制导致部署复杂化。因此，掌握在这种受限环境中有效下载和部署大模型的技巧显得尤为重要。本节将介绍一种在远程服务器环境中合理下载大模型文件的方法，以及几种不同的启动方式。通过这些内容，供大家掌握一个可行的部署流程，并深入了解ChatGLM3-6b模型的性能特点，以便未来更好的应用和优化这一模型。"
   ]
  },
  {
   "cell_type": "markdown",
   "id": "43ea05de-ba0a-47f7-84a3-05928fe69ca9",
   "metadata": {},
   "source": [
    "本节内容主要涉及以下三个部分：\n",
    "1. ChatGLM3-6B模型的性能优势与应用场景\n",
    "2. 基于服务器环境的部署方法\n",
    "3. 运行ChatGLM3-6b的多种启动方式"
   ]
  },
  {
   "cell_type": "markdown",
   "id": "12f2724a-8867-46e1-be33-1ca5dbaabf8f",
   "metadata": {},
   "source": [
    "# 1. ChatGLM3-6B模型的性能优势与应用场景"
   ]
  },
  {
   "cell_type": "markdown",
   "id": "ca006bcc-b433-4aaa-9e4b-016932107142",
   "metadata": {},
   "source": [
    "## 选择实践ChatGLM3-6B的理由"
   ]
  },
  {
   "cell_type": "markdown",
   "id": "82a0bb12-a0a9-42fe-a19c-a6d076d554d1",
   "metadata": {},
   "source": [
    "&emsp;&emsp;ChatGLM3 是智谱AI和清华大学 KEG 实验室在2023年10月27日联合发布的对话预训练模型。其中，ChatGLM3-6B 是 ChatGLM3 系列中的开源模型，免费下载。现在在GitHub上已经拥有了13k的星星。"
   ]
  },
  {
   "cell_type": "markdown",
   "id": "070fef89-b35d-488d-a4b6-c2c8aacb4ab9",
   "metadata": {},
   "source": [
    "<div align=center><img src=\"https://snowball101.oss-cn-beijing.aliyuncs.com/img/202401021645001.png\" width=60%></div>"
   ]
  },
  {
   "cell_type": "markdown",
   "id": "8459afec-a64d-4ab1-a0df-b5ad1139aa75",
   "metadata": {},
   "source": [
    "作为一个2023年上线的开源模型，我们学习实践ChatGLM3-6b模型的意义如下：\n",
    "1. 资源效率：小体量的模型通常需要的计算资源较少，适合在资源受限的环境中使用，例如个人电脑或小型服务器，适合开发者的入门。ChatGLM-6B 使用与 ChatGPT 类似的技术，但是模型参数量只有GPT3的1/30，它针对中文 QA 和对话进行了优化。该模型针对大约 1T 个中文和英文语料库进行训练，并辅以监督微调、反馈引导和人类反馈的强化学习的训练，在性能上足够完善。\n",
    "\n",
    "2. 易于实践和上手：GLM3模型，特别是6B版本，因其较小的模型尺寸，能够在消费级显卡上进行实践，使得更多研究者和开发者有机会接触和使用大模型技术，降低了技术门槛 。并且适用于对于特定任务的优化，能够提供与大型模型相媲美或更适合的特定需求的性能，且训练成本较低。\n",
    "\n",
    "3. 优秀的性能：在10B参数规模以下的模型中，GLM3是一款表现出色中英文对话模型，从响应速度到准确率都有不错的表现，擅长语文、数学、推理、代码、知识等功能。GLM3模型支持微调，这使得模型能够针对特定任务进一步优化，提升性能，满足不同应用场景的需求 。同时有着完整的功能支持，包括多轮对话、原生工具调用、代码执行和Agent任务场景。\n",
    "\n",
    "4. 开源生态贡献：智谱AI将GLM3模型的多个版本进行了开源，包括对话模型、长文本模型以及多模态模型等，ChatGLM3 建立在开源基础之上，使以上所说的功能变得易于使用，使我们能够更深入地了解所涉及的原理。我们还可以根据自己的需求进一步定制和开发，充分的激发大模型的功能。"
   ]
  },
  {
   "cell_type": "markdown",
   "id": "ad1af5a0-1411-4f46-ab36-c71ff4421435",
   "metadata": {},
   "source": [
    "## ChatGLM3-6B模型的基本性能"
   ]
  },
  {
   "cell_type": "markdown",
   "id": "e25e0d01-9c19-4eb4-9f99-3c131822361f",
   "metadata": {},
   "source": [
    "&emsp;&emsp;性能层面，ChatGLM3-6B在10B范围内性能优秀，推理能力接近GPT-3.5；功能层面，ChatGLM3-6B重磅更新多模态功能、代码解释器功能、联网功能以及Agent优化功能四项核心功能，是小而精的大模型。"
   ]
  },
  {
   "cell_type": "markdown",
   "id": "8cecbded-b5cd-4ebf-a593-d3fd09dc844d",
   "metadata": {},
   "source": [
    "<div align=center><img src=\"https://typora-photo1220.oss-cn-beijing.aliyuncs.com/LingYu/1.png\" width=80%></div>"
   ]
  },
  {
   "cell_type": "markdown",
   "id": "e5a70fde-b3f8-4c45-94d6-f7504c899789",
   "metadata": {},
   "source": [
    "&emsp;&emsp;测评榜单介绍：\n",
    "1. MMLU (Massive Multitask Language Understanding)\n",
    "- 简介：MMLU 是一个大规模多任务语言理解基准测试，设计用于评估模型在广泛领域的理解和推理能力。它涵盖了57个不同的学科，包括历史、法律、数学、物理、医学等，评估模型在这些学科中的表现。\n",
    "- 测评重心：MMLU 主要关注模型的自然语言理解能力，特别是多任务学习的能力。它测试模型在不同领域的知识深度和跨领域的推理能力。\n",
    "2. GSM8K\n",
    "- 简介：GSM8K 是一个专门用于评估模型数学推理能力的基准测试，包含了8000多个关于小学数学的高质量问题。每个问题都要求模型能够进行多步骤的逻辑推理，以得出正确答案。\n",
    "- 测评重心：GSM8K 主要关注模型的数学推理能力，尤其是模型在解决复杂数学问题时的步骤推理和逻辑推断的能力。\n",
    "3. C-Eval\n",
    "- 简介：C-Eval 是一个中文综合评估基准测试，专门用于评估中文语言模型的能力。C-Eval 涵盖了多个领域，包括基础知识、专业知识和跨学科应用，旨在评估模型在中文语境下的理解和表达能力。\n",
    "- 测评重心：C-Eval 主要关注模型的中文能力，包括对中文问题的理解、推理和回答能力，以及在不同知识领域中的表现\n"
   ]
  },
  {
   "cell_type": "markdown",
   "id": "6184f814-48cb-4d13-ba1a-1dcec252a4d3",
   "metadata": {},
   "source": [
    "&emsp;&emsp;开源模型列表：\n",
    "\n",
    "| **模型**             | **介绍**                                                     | **上下文token数** | **代码链接**                                                 | **模型权重下载链接**                                         |\n",
    "| -------------------- | ------------------------------------------------------------ | ----------------- | ------------------------------------------------------------ | :----------------------------------------------------------- |\n",
    "| **ChatGLM3-6B**      | **第三代** **ChatGLM 对话****模型****。**ChatGLM3-6B 采用了全新设计的 Prompt 格式，除正常的多轮对话外。同时原生支持工具调用（Function Call）、代码执行（Code Interpreter）和 Agent 任务等复杂场景。 | 8K                | [Huggingface](https://huggingface.co/THUDM/chatglm3-6b) \\| [魔搭社区](https://modelscope.cn/models/ZhipuAI/chatglm3-6b) \\| [始智社区](https://www.wisemodel.cn/models/ZhipuAI/chatglm3-6b) \\| [Swanhub](https://swanhub.co/ZhipuAI/chatglm3-6b) \\| [启智社区](https://openi.pcl.ac.cn/Zhipu.AI/ChatGLM3/modelmanage/model_readme_tmpl?name=chatglm3-6b) )                | [ChatGLM3](https://github.com/THUDM/ChatGLM3|\n",
    "| **ChatGLM3-6B-base** | **第三代ChatGLM****基座模型****。**ChatGLM3-6B-Base 采用了更多样的训练数据、更充分的训练步数和更合理的训练策略。在语义、数学、推理、代码、知识等不同角度的数据集上测评显示，ChatGLM3-6B-Base 具有在 10B 以下的基础模型中最强的性能。 | 8K                | [Huggingface ](https://huggingface.co/THUDM/chatglm3-6b-base)\\| [魔搭社区](https://modelscope.cn/models/ZhipuAI/chatglm3-6b-base) \\| [始智社区](https://www.wisemodel.cn/models/ZhipuAI/chatglm3-6b-base) \\| [Swanhub](https://swanhub.co/ZhipuAI/chatglm3-6b-base) \\| [启智社区](https://openi.pcl.ac.cn/Zhipu.AI/ChatGLM3/modelmanage/model_readme_tmpl?name=chatglm3-6b-base) |                                                              |\n",
    "| **ChatGLM3-6B-32k**  | **第三代ChatGLM长上下文对话模型。**在ChatGLM3-6B的基础上进一步强化了对于长文本的理解能力，能够更好的处理最多32K长度的上下文。 | 32K               | [Huggingface](https://huggingface.co/THUDM/chatglm3-6b-32k) \\| [魔搭社区](https://modelscope.cn/models/ZhipuAI/chatglm3-6b-32k) \\| [始智社区](https://www.wisemodel.cn/models/ZhipuAI/chatglm3-6b-32k) \\| [Swanhub](https://swanhub.co/ZhipuAI/chatglm3-6b-32k) \\| [启智社区](https://openi.pcl.ac.cn/Zhipu.AI/ChatGLM3/modelmanage/model_readme_tmpl?name=chatglm3-6b-32k) |                                                              |\n",
    "\n"
   ]
  },
  {
   "cell_type": "markdown",
   "id": "0ca04461-75d2-47bb-abde-8e1a0f9040cd",
   "metadata": {},
   "source": [
    "&emsp;&emsp;同时ChatGLM-6B模型还支持以下高级用法：工具调用、代码解释器、流式回复、微调、处理不同对话角色、调整响应长度。是非常好的入门级大模型为开发者提供友好、充足的练手空间。"
   ]
  },
  {
   "cell_type": "markdown",
   "id": "a5908e0b-d3d6-45ed-a0da-a106e60392f1",
   "metadata": {},
   "source": [
    "&emsp;&emsp;在安装过程中如果遇到任何问题，可以尝试登录以下网址进行QA，基于ChatGLM_turbo +知识库《ChatGLM3技术文档》构建的机器人，可以较好的专业领域的问题，通过它可以在安装部署环境快速解决或提供思路，以下是网站链接：\n",
    "https://open.bigmodel.cn/shareapp/v1/?share_code=0egooPndEt8OGj-39HjEl"
   ]
  },
  {
   "cell_type": "markdown",
   "id": "7b3cb87e-5fdf-4d84-b34d-3b5ba5f15ca5",
   "metadata": {},
   "source": [
    "<div align=center><img src=\"https://typora-photo1220.oss-cn-beijing.aliyuncs.com/LingYu/image-20240822154603890.png\" width=60%></div>"
   ]
  },
  {
   "cell_type": "markdown",
   "id": "73bbbac7-eb27-4d03-8cfd-0db964fbb3d4",
   "metadata": {},
   "source": [
    "# 2. 服务器环境的安装部署办法"
   ]
  },
  {
   "cell_type": "markdown",
   "id": "0e0139fb-40a5-459f-b090-298cb355cac1",
   "metadata": {},
   "source": [
    "&emsp;&emsp;对于部署ChatGLM3-6B来说，从官方说明上看，其规定了Transformers 库版本应该 4.30.2 以及以上的版本 ，torch 库版本应为 2.0 及以上的版本，gradio 库版本应该为 3.x 的版本，以获得最佳的推理性能。所以为了保证 torch 的版本正确，建议大家严格按照官方文档的说明安装相应版本的依赖包。"
   ]
  },
  {
   "cell_type": "markdown",
   "id": "cd470bbd-d5fa-4f7d-a88c-5ccc9f64c516",
   "metadata": {},
   "source": [
    "- **Step 1. 创建conda虚拟环境**"
   ]
  },
  {
   "cell_type": "markdown",
   "id": "a9f7517e-bc65-49e1-b398-aeab7f280a01",
   "metadata": {},
   "source": [
    "&emsp;&emsp;Conda创建虚拟环境的意义在于提供了一个隔离的、独立的环境，用于Python项目和其依赖包的管理。每个虚拟环境都有自己的Python运行时和一组库。这意味着我们可以在不同的环境中安装不同版本的库而互不影响。例如，可以在一个环境中使用Python 3.8，而在另一个环境中使用Python 3.11。对于大模型来说，建议Python版本3.10以上。创建的方式也比较简单，使用以下命令创建一个新的虚拟环境：\n",
    "\n",
    "```bash\n",
    "# myenv 是你想要给环境的名称，python=3.11 指定了要安装的Python版本。你可以根据需要选择不同的名称和/或Python版本。\n",
    "\n",
    "conda create -n chatglm3_test python=3.11\n",
    "```"
   ]
  },
  {
   "cell_type": "markdown",
   "id": "c659a871-8156-4e32-863b-c1795712c8ab",
   "metadata": {},
   "source": [
    "创建虚拟环境以后需要激活才能进入使用，使用以下命令激活刚刚创建的环境\n",
    "\n",
    "```\n",
    "conda activate chatglm3_test \n",
    "```"
   ]
  },
  {
   "cell_type": "markdown",
   "id": "87907f2f-6c50-47d3-a89a-f10c8ae54355",
   "metadata": {},
   "source": [
    "如果成功激活进入虚拟环境，在命令行最前方的括号内会显示对应的虚拟环境名称。"
   ]
  },
  {
   "cell_type": "markdown",
   "id": "cd67fa48-73f2-4b83-a5d3-bd0765421f0e",
   "metadata": {},
   "source": [
    "<div align=center><img src=\"https://typora-photo1220.oss-cn-beijing.aliyuncs.com/LingYu/3.PNG\" width=80%></div>"
   ]
  },
  {
   "cell_type": "markdown",
   "id": "2735410e-ed15-4b0a-b825-58faf04eb025",
   "metadata": {},
   "source": [
    "- **Step 2. 查看当前驱动最高支持的CUDA版本**"
   ]
  },
  {
   "cell_type": "markdown",
   "id": "68982759-e28d-4d22-9b8f-3fd07908e841",
   "metadata": {},
   "source": [
    "CUDA（Compute Unified Device Architecture，统一计算设备架构）是一种操作GPU的软件架构，它是一种通用并行计算架构，使GPU能够解决复杂的计算问题。"
   ]
  },
  {
   "cell_type": "markdown",
   "id": "08778b34-e834-43f6-8ccd-4b6c67ed0a5b",
   "metadata": {},
   "source": [
    "&emsp;&emsp;我们需要根据CUDA版本选择Pytorch框架，先看下当前的CUDA版本,通过以下命令实现功能：\n",
    "\n",
    "```bash\n",
    "nvidia-sml\n",
    "```"
   ]
  },
  {
   "cell_type": "markdown",
   "id": "86b02293-5dec-4b11-b11e-78b8a6cf5e63",
   "metadata": {},
   "source": [
    "<div align=center><img src=\"https://typora-photo1220.oss-cn-beijing.aliyuncs.com/LingYu/4.PNG\" width=70%></div>"
   ]
  },
  {
   "cell_type": "markdown",
   "id": "0928cb28-51c0-4bbd-b528-2e992e01b67d",
   "metadata": {},
   "source": [
    "可以看到本台机器的CUDA版本是12.2，接下来的库和依赖安装也要选择与其兼容的Pytorch版本。"
   ]
  },
  {
   "cell_type": "markdown",
   "id": "b8a58f25-bc9d-41c7-bf12-03691e42cd48",
   "metadata": {},
   "source": [
    "- **Step 3. 在虚拟环境中安装Pytorch**"
   ]
  },
  {
   "cell_type": "markdown",
   "id": "f7d20dc6-8734-436d-a693-b1517628ade0",
   "metadata": {},
   "source": [
    "&emsp;&emsp;进入Pytorch官网：https://pytorch.org/get-started/previous-versions/"
   ]
  },
  {
   "cell_type": "markdown",
   "id": "cee93c57-9308-4849-9375-a9c19dc14ddc",
   "metadata": {},
   "source": [
    "<div align=center><img src=\"https://muyu001.oss-cn-beijing.aliyuncs.com/img/image-20240103163206436.png\" width=80%></div>"
   ]
  },
  {
   "cell_type": "markdown",
   "id": "6860554c-1984-462f-ade2-3bbd65c91cc4",
   "metadata": {},
   "source": [
    "&emsp;&emsp;当前的电脑CUDA的最高版本要求是12.2，所以需要找到 >=12.2版本的Pytorch。"
   ]
  },
  {
   "cell_type": "markdown",
   "id": "7952c979-a2e7-48e3-93e0-32ab08a361cf",
   "metadata": {},
   "source": [
    "<div align=center><img src=\"https://snowball101.oss-cn-beijing.aliyuncs.com/img/202401041455184.png\" width=80%></div>"
   ]
  },
  {
   "cell_type": "markdown",
   "id": "b4452dc1-18ee-4cd7-9a01-602d39e8370a",
   "metadata": {},
   "source": [
    "&emsp;&emsp;直接复制对应的命令，进入终端执行即可。这实际上安装的是为 CUDA 12.1 优化的 PyTorch 版本。这个 PyTorch 版本预编译并打包了与 CUDA 12.1 版本相对应的二进制文件和库。\n",
    "\n",
    "conda install pytorch==2.3.1 torchvision==0.18.1 torchaudio==2.3.1 pytorch-cuda=12.1 -c pytorch -c nvidia\n"
   ]
  },
  {
   "cell_type": "code",
   "execution_count": null,
   "id": "874ad43a",
   "metadata": {
    "vscode": {
     "languageId": "plaintext"
    }
   },
   "outputs": [],
   "source": []
  },
  {
   "cell_type": "markdown",
   "id": "f2647c06-75a5-4f02-8ff5-4b96d7a4784c",
   "metadata": {},
   "source": [
    "<div align=center><img src=\"https://typora-photo1220.oss-cn-beijing.aliyuncs.com/LingYu/5.PNG\" width=90%></div>"
   ]
  },
  {
   "cell_type": "markdown",
   "id": "6a36dedb-0495-4b1f-92a6-6d58dfbbb1df",
   "metadata": {},
   "source": [
    "&emsp;&emsp;安装完毕后，如果想要检查是否成功安装了GPU版本的PyTorch，可以通过几个简单的步骤在 Python 环境中进行验证：\n",
    "```bash\n",
    "import torch\n",
    "\n",
    "print(torch.cuda.is_available())\n",
    "```"
   ]
  },
  {
   "cell_type": "markdown",
   "id": "9d63b5ff-9c14-47d3-bf88-6ec35a0e866f",
   "metadata": {},
   "source": [
    "<div align=center><img src=\"https://typora-photo1220.oss-cn-beijing.aliyuncs.com/LingYu/7.PNG\" width=80%></div>"
   ]
  },
  {
   "cell_type": "markdown",
   "id": "57d722fc-91b7-4a89-9640-b63e2dfe8942",
   "metadata": {},
   "source": [
    "&emsp;&emsp;如果输出是 True，则表示GPU版本的PyTorch已经安装成功并且可以使用CUDA，如果输出是 False，则表明没有安装GPU版本的PyTorch，或者CUDA环境没有正确配置，此时根据教程，重新检查自己的执行过程。\n",
    "\n",
    "完成验证之后使用ctril+D退出python环境，继续命令行操作。"
   ]
  },
  {
   "cell_type": "markdown",
   "id": "fecbbf13-d234-40d6-8fd7-e915cf0b4d1d",
   "metadata": {},
   "source": [
    "- **Step 4. 下载ChatGLM3的项目文件**"
   ]
  },
  {
   "cell_type": "markdown",
   "id": "3f827c8f-3945-4ad0-9a09-c6551591a763",
   "metadata": {},
   "source": [
    "&emsp;&emsp;ChatGLM3的代码库和相关文档存储在 GitHub 这个在线平台上。GitHub 是一个广泛使用的代码托管平台，它提供了版本控制和协作功能。"
   ]
  },
  {
   "cell_type": "markdown",
   "id": "ff90cf1d-21b9-43b5-8f9f-df85e019328a",
   "metadata": {},
   "source": [
    "&emsp;&emsp;要下载ChatGLM3-6B的项目文件，需要进入ChatGLM3的Github：https://github.com/THUDM/ChatGLM3"
   ]
  },
  {
   "cell_type": "markdown",
   "id": "360df4a5-d4ae-4df5-a50d-7b5a83aeb7ac",
   "metadata": {},
   "source": [
    "<div align=center><img src=\"https://snowball101.oss-cn-beijing.aliyuncs.com/img/202401041500002.png\" width=60%></div>"
   ]
  },
  {
   "cell_type": "markdown",
   "id": "b414a0d4-a069-4730-8ede-9ff98bbb1d9c",
   "metadata": {},
   "source": [
    "&emsp;&emsp;在 GitHub 上将项目下载到本地通常有两种主要方式：克隆 (Clone) 和 下载 ZIP 压缩包。鉴于服务器平台一般不能直接连接外网，本节内容介绍一种通过在外部终端下载然后上转至服务器的部署办法。在 GitHub 仓库页面上，通常会有一个“Download ZIP”按钮，我们可以点击这个按钮下载仓库的当前状态的压缩包."
   ]
  },
  {
   "cell_type": "markdown",
   "id": "e40779e0-7a18-4b5a-8fcb-c93fc2bb6c6d",
   "metadata": {},
   "source": [
    "<div align=center><img src=\"https://snowball101.oss-cn-beijing.aliyuncs.com/img/202401021039626.png\" width=80%></div>"
   ]
  },
  {
   "cell_type": "markdown",
   "id": "8bf5cfbe-f44e-47a7-ad81-7ed841e34d19",
   "metadata": {},
   "source": [
    "&emsp;&emsp;下载后，只需解压缩该文件即可访问项目文件。压缩包中存放的是ChatGLM3运行的一些项目文件。"
   ]
  },
  {
   "cell_type": "markdown",
   "id": "a87d76dc-de9f-4151-9799-f720d33fd0a4",
   "metadata": {},
   "source": [
    "<div align=center><img src=\"https://typora-photo1220.oss-cn-beijing.aliyuncs.com/LingYu/image-20240822142110715.png\" width=60%></div>"
   ]
  },
  {
   "cell_type": "markdown",
   "id": "e29e4da8-1e72-401a-970c-7a7fbbb0f049",
   "metadata": {},
   "source": [
    "&emsp;&emsp;通过这种方式下载的项目文件，需要xftp这样的工具在上传到服务器使用。"
   ]
  },
  {
   "cell_type": "markdown",
   "id": "dfa75b9f-7c69-4faa-81da-4272fa68a817",
   "metadata": {},
   "source": [
    "- **Step 5. 下载ChatGLM3的模型权重**"
   ]
  },
  {
   "cell_type": "markdown",
   "id": "b833fd85-0e5c-44a8-8ea2-ae6cc61045e0",
   "metadata": {},
   "source": [
    "&emsp;&emsp;刚刚我们下载到的只是ChatGLM3-6B的一些运行文件和项目代码，并不包含ChatGLM3-6B这个模型。这里我们需要进入到 Hugging Face 下载。Hugging Face 是一个丰富的模型库，开发者可以上传和共享他们训练好的机器学习模型。这些模型通常是经过大量数据训练的，并且很大，因此需要特殊的存储和托管服务。\n",
    "\n",
    "  不同于GitHub，GitHub 仅仅是一个代码托管和版本控制平台，托管的是项目的源代码、文档和其他相关文件。同时对于托管文件的大小有限制，不适合存储大型文件，如训练好的机器学习模型。相反，Hugging Face 专门为此类大型文件设计，提供了更适合大型模型的存储和传输解决方案。"
   ]
  },
  {
   "cell_type": "markdown",
   "id": "78f7164d-fa53-4589-8d89-7584c11b232f",
   "metadata": {},
   "source": [
    "&emsp;&emsp;注：需要挂梯子才能进入Hugging Face。"
   ]
  },
  {
   "cell_type": "markdown",
   "id": "a007522c-b7cd-41dd-a22c-e418317607ca",
   "metadata": {},
   "source": [
    "<div align=center><img src=\"https://typora-photo1220.oss-cn-beijing.aliyuncs.com/LingYu/2.png\" width=80%></div>"
   ]
  },
  {
   "cell_type": "markdown",
   "id": "9b32ad35-bb83-4ec9-a298-b06bfeeee6ff",
   "metadata": {},
   "source": [
    "按照图示位置打开Files，找到对应权重文件，点击便可进行下载。"
   ]
  },
  {
   "cell_type": "markdown",
   "id": "13b92165-cdc3-4411-af79-78accfa279f6",
   "metadata": {},
   "source": [
    "<div align=center><img src=\"https://typora-photo1220.oss-cn-beijing.aliyuncs.com/LingYu/3.png\" width=80%></div>"
   ]
  },
  {
   "cell_type": "markdown",
   "id": "3bac8858-6d06-47e4-992a-4a3e929fd0ca",
   "metadata": {},
   "source": [
    "下载好的完整的文件信息如下，在正式启动模型前，建议校验下载好的文件完整性以免出现不必要的纰漏。"
   ]
  },
  {
   "cell_type": "markdown",
   "id": "b2987ac7-2358-451a-a76c-bfd7216cdefb",
   "metadata": {},
   "source": [
    "<div align=center><img src=\"https://typora-photo1220.oss-cn-beijing.aliyuncs.com/LingYu/4.png\" width=50%></div>"
   ]
  },
  {
   "cell_type": "markdown",
   "id": "4ea3711b-15ba-4020-b151-e3e1b3668be7",
   "metadata": {},
   "source": [
    "- **Step 6. 基于Xftp的文件传输办法**"
   ]
  },
  {
   "cell_type": "markdown",
   "id": "101a11b3-0a18-47e8-9cb4-d3899bed3f78",
   "metadata": {},
   "source": [
    "&emsp;&emsp;Xshell 是一款功能强大的终端模拟软件，主要用于连接和管理远程服务器。它支持多种协议，包括 SSH、Telnet、SFTP、RLOGIN 和 Serial，广泛应用于服务器管理、网络配置和软件开发领域。\n",
    "&emsp;&emsp;Xshell的链接地址： https://www.xshell.com/zh/xshell/"
   ]
  },
  {
   "cell_type": "markdown",
   "id": "0c538e3f-f831-49a2-ad9d-c5809e70994a",
   "metadata": {},
   "source": [
    "&emsp;&emsp;Xftp 是一款功能强大的文件传输软件，主要用于 Windows 系统上通过 SFTP（SSH File Transfer Protocol）和 FTP（File Transfer Protocol）协议进行文件传输，并支持直接编辑和自动传输远程文件。\n",
    "Xftp链接地址： https://www.xshell.com/zh/xftp/"
   ]
  },
  {
   "cell_type": "markdown",
   "id": "c433cf91-c2a8-4684-af13-9332395166bc",
   "metadata": {},
   "source": [
    "&emsp;&emsp;Xftp的部署方式也很简单，安装时只需要关注以下几个关键点的选择即可。"
   ]
  },
  {
   "cell_type": "markdown",
   "id": "27226545-8753-46ca-b8dc-db68cda317ff",
   "metadata": {},
   "source": [
    "<div align=center><img src=\"https://typora-photo1220.oss-cn-beijing.aliyuncs.com/LingYu/image-20240822144438893.png\" width=50%></div>"
   ]
  },
  {
   "cell_type": "markdown",
   "id": "4d288046-59ca-4071-a9fa-90d10fa37afd",
   "metadata": {},
   "source": [
    "注意下载文件所在的目的地文件夹地址。"
   ]
  },
  {
   "cell_type": "markdown",
   "id": "9ba43d5b-9423-4610-b9e3-342f610dbe48",
   "metadata": {},
   "source": [
    "<div align=center><img src=\"https://typora-photo1220.oss-cn-beijing.aliyuncs.com/LingYu/5.png\" width=50%></div>"
   ]
  },
  {
   "cell_type": "markdown",
   "id": "a0c66af9-0883-4013-8df0-f6ba5799a857",
   "metadata": {},
   "source": [
    "程序文件夹中选择默认就好，如果点击了现有文件夹准备修改只需返回上一步再返回便进入默认选项。"
   ]
  },
  {
   "cell_type": "markdown",
   "id": "68cc8b77-7dbd-4602-8833-5b8bfb7a966a",
   "metadata": {},
   "source": [
    "<div align=center><img src=\"https://typora-photo1220.oss-cn-beijing.aliyuncs.com/LingYu/6.png\" width=50%></div>"
   ]
  },
  {
   "cell_type": "markdown",
   "id": "b5945892-3428-4a7d-8984-462c36564866",
   "metadata": {},
   "source": [
    "首次安装需要注册才可以使用，输入名称和邮箱地址后会在对应邮箱中收到注册链接，点击链接完成授权从而开始正式使用系统。\n"
   ]
  },
  {
   "cell_type": "markdown",
   "id": "a561ca78-8a98-4f53-95b1-5e33241d24ed",
   "metadata": {},
   "source": [
    "<div align=center><img src=\"https://typora-photo1220.oss-cn-beijing.aliyuncs.com/LingYu/7.png\" width=30%></div>"
   ]
  },
  {
   "cell_type": "markdown",
   "id": "fe2ab6de-5a4f-4f09-914d-5f9e9307acd4",
   "metadata": {},
   "source": [
    "全部安装流程完成后所示界面如下"
   ]
  },
  {
   "cell_type": "markdown",
   "id": "cd486904-10c1-478b-974c-b2be1be20962",
   "metadata": {},
   "source": [
    "<div align=center><img src=\"https://typora-photo1220.oss-cn-beijing.aliyuncs.com/LingYu/8.png\" width=60%></div>"
   ]
  },
  {
   "cell_type": "markdown",
   "id": "2513449c-2e23-4990-aa07-59fb56c85b9f",
   "metadata": {},
   "source": [
    "接下来需要进入Xshell，链接好本机服务器后点击上边栏的绿色图标开始远程连接并启动Xftp\n",
    "，对接成功后开始传输文件。"
   ]
  },
  {
   "cell_type": "markdown",
   "id": "4a656ced-7bd5-4886-971d-23906852d437",
   "metadata": {},
   "source": [
    "<div align=center><img src=\"https://typora-photo1220.oss-cn-beijing.aliyuncs.com/LingYu/9.png\" width=80%></div>"
   ]
  },
  {
   "cell_type": "markdown",
   "id": "d1478dbf-bde3-4a20-8e45-78370bb8053b",
   "metadata": {},
   "source": [
    "传输过程只需找到对应的文件夹位置，复制或拖拽便可实现远程传递过程。以下是项目文件的传递过程："
   ]
  },
  {
   "cell_type": "markdown",
   "id": "94c0443f-19e7-4a46-a78f-ad0adf99c562",
   "metadata": {},
   "source": [
    "<div align=center><img src=\"https://typora-photo1220.oss-cn-beijing.aliyuncs.com/LingYu/image-20240822152710905.png\" width=80%></div>"
   ]
  },
  {
   "cell_type": "markdown",
   "id": "90c2144b-0b1b-4116-82a4-ab4477ada0f6",
   "metadata": {},
   "source": [
    "启动文件的传递也是一样的，但是建议将启动文件包含项目权重文件。"
   ]
  },
  {
   "cell_type": "markdown",
   "id": "ca478ca2-e50d-46be-9d12-600aad2f0842",
   "metadata": {},
   "source": [
    "<div align=center><img src=\"https://typora-photo1220.oss-cn-beijing.aliyuncs.com/LingYu/image-20240822153146683.png\" width=80%></div>"
   ]
  },
  {
   "cell_type": "markdown",
   "id": "79f49595-05ab-4ca3-b2a1-2e43b6bcb40c",
   "metadata": {},
   "source": [
    "文件全部传输完毕后建议进行一边校验以免遗漏，在终端环境中也可以进行查看，不过在Xftp更方便进行项目资源编辑管理。"
   ]
  },
  {
   "cell_type": "markdown",
   "id": "701b9b39-0a3a-46c1-80e2-2c1e35f127b6",
   "metadata": {},
   "source": [
    "# 3. 运行ChatGLM3-6B的多种启动方式介绍\n"
   ]
  },
  {
   "cell_type": "markdown",
   "id": "cef1fdce-8752-4e35-93dd-11763263b25d",
   "metadata": {},
   "source": [
    "&emsp;&emsp;ChatGLM3-6B提供了一些简单应用Demo，存放在供开发者尝试运行。这里我们由简到难依次对其进行介绍。"
   ]
  },
  {
   "cell_type": "markdown",
   "id": "7a6192af-18d7-4ba0-b450-1aa154c298f9",
   "metadata": {},
   "source": [
    "<div align=center><img src=\"https://typora-photo1220.oss-cn-beijing.aliyuncs.com/LingYu/image-20240822153551917.png\" width=80%></div>"
   ]
  },
  {
   "cell_type": "markdown",
   "id": "26c9ad80-e627-493e-b4ec-51c6bc2f9f62",
   "metadata": {},
   "source": [
    "&emsp;&emsp;在basic_demo中集合了多种的调用方式，通过`cd basic_demo`的方式可以进入对应的文件，ll或ls命令可以查看当前所在文件夹的全部文件。"
   ]
  },
  {
   "cell_type": "markdown",
   "id": "91290ccf-7272-458d-be0b-0a926e340f28",
   "metadata": {},
   "source": [
    "## 3.1基于命令行的交互式对话"
   ]
  },
  {
   "cell_type": "markdown",
   "id": "c38549bc-89b0-4837-ac0d-49a81bcfada6",
   "metadata": {},
   "source": [
    "&emsp;&emsp;基于命令行的交互模式简洁高效、占用资源少，并且适合远程访问的方式来进行调用，这种方式可以为非技术用户提供一个脱离代码环境的对话方式，如果只是测试大模型的对话性能采用这种方式进行对话即可。对于这种启动方式，官方提供的脚本名称是：cli_demo.py。"
   ]
  },
  {
   "cell_type": "markdown",
   "id": "f86cb848-3903-4e70-8a1b-d96efe2ae1d0",
   "metadata": {},
   "source": [
    "<div align=center><img src=\"https://typora-photo1220.oss-cn-beijing.aliyuncs.com/LingYu/image-20240822155835792.png\" width=80%></div>"
   ]
  },
  {
   "cell_type": "markdown",
   "id": "2830287f-04f7-4d7f-8030-8397c26170ff",
   "metadata": {},
   "source": [
    "&emsp;&emsp;在启动前，我们需要进行一处简单的修改，通过 `sudo vim cli_demo.py`进入对应文件的编辑模式，因为我们已经把ChatGLM3-6B这个模型下载到了本地，所以需要修改一下模型的加载路径。"
   ]
  },
  {
   "cell_type": "markdown",
   "id": "5ed4a883-4db6-4456-825b-7748b28c0fd3",
   "metadata": {},
   "source": [
    "<div align=center><img src=\"https://typora-photo1220.oss-cn-beijing.aliyuncs.com/LingYu/image-20240822155926218.png\" width=80%></div>"
   ]
  },
  {
   "cell_type": "markdown",
   "id": "66c0a55c-acc8-49a7-a782-65344ffba7d0",
   "metadata": {},
   "source": [
    "&emsp;&emsp;修改完成后，直接输入`python cli_demo.py`即可启动，如果启动成功，就会开启交互式对话，如果输入`stop` 可以退出该运行环境。"
   ]
  },
  {
   "cell_type": "markdown",
   "id": "555bbdbd-a53e-4a2a-a411-b3a07e905ff0",
   "metadata": {},
   "source": [
    "<div align=center><img src=\"https://typora-photo1220.oss-cn-beijing.aliyuncs.com/LingYu/image-20240822160123629.png\" width=80%></div>"
   ]
  },
  {
   "cell_type": "markdown",
   "id": "04b9b539-8758-4391-bb5d-096d27e0dec6",
   "metadata": {},
   "source": [
    "&emsp;&emsp;可以看到这个模式下对话可以简单流畅运行"
   ]
  },
  {
   "cell_type": "markdown",
   "id": "4a2f33f0-aba1-4dc0-ab50-506ffd552b15",
   "metadata": {},
   "source": [
    "## 3.2基于Gradio的Web端对话应用"
   ]
  },
  {
   "cell_type": "markdown",
   "id": "3ac381b1-7222-47cd-93d0-f2b9e404b8f3",
   "metadata": {},
   "source": [
    "&emsp;&emsp;基于网页端的对话是目前非常通用的大语言交互方式，ChatGLM3官方项目组提供了两种Web端对话demo，两个示例应用功能一致，只是采用了不同的Web框架进行开发。首先是基于 Gradio 的Web端对话应用demo。Gradio是一个Python库，用于快速创建用于演示机器学习模型的Web界面。开发者可以用几行代码为模型创建输入和输出接口，用户可以通过这些接口与模型进行交互。用户可以轻松地测试和使用机器学习模型，比如通过上传图片来测试图像识别模型，或者输入文本来测试自然语言处理模型。因此可见Gradio非常适合于快速原型设计和模型展示。"
   ]
  },
  {
   "cell_type": "markdown",
   "id": "4a660d3f-5354-465d-b428-3ac997af4b1d",
   "metadata": {},
   "source": [
    "&emsp;&emsp;对于这种启动方式，官方提供的脚本名称是：web_demo_gradio.py。同样我们需要使用vim 编辑器方法进入修改模型的加载路径，修改完成后直接使用python启动即可。"
   ]
  },
  {
   "cell_type": "markdown",
   "id": "a1797b69-58fa-4cd6-abde-2f93c6a91cf2",
   "metadata": {},
   "source": [
    "<div align=center><img src=\"https://typora-photo1220.oss-cn-beijing.aliyuncs.com/LingYu/image-20240822160715154.png\" width=80%></div>"
   ]
  },
  {
   "cell_type": "markdown",
   "id": "18739408-9eb4-4c28-99b9-fd2576be5373",
   "metadata": {},
   "source": [
    "&emsp;&emsp;如果启动正常，会自动弹出Web页面，可以直接在Web页面上进行交互。"
   ]
  },
  {
   "cell_type": "markdown",
   "id": "5632a1d9-4073-4d99-8a17-ffdd0b8a0314",
   "metadata": {},
   "source": [
    "<div align=center><img src=\"https://typora-photo1220.oss-cn-beijing.aliyuncs.com/LingYu/image-20240822160856062.png\" width=80%></div>"
   ]
  },
  {
   "cell_type": "markdown",
   "id": "8f252152-966b-44be-93a7-928d3225e936",
   "metadata": {},
   "source": [
    "## 3.3基于Streamlit的Web端对话应用"
   ]
  },
  {
   "cell_type": "markdown",
   "id": "aef7a5dc-e8db-4f41-94c2-69e68009e9de",
   "metadata": {},
   "source": [
    "&emsp;&emsp;ChatGLM3官方提供的第二个Web对话应用demo，是一个基于Streamlit的Web应用。Streamlit是另一个用于创建数据科学和机器学习Web应用的Python库。它强调简单性和快速的开发流程，让开发者能够通过编写普通的Python脚本来创建互动式Web应用。Streamlit自动管理UI布局和状态，这样开发者就可以专注于数据和模型的逻辑。Streamlit应用通常用于数据分析、可视化、构建探索性数据分析工具等场景。"
   ]
  },
  {
   "cell_type": "markdown",
   "id": "89a03d46-d97c-4b2f-bd0a-b3cad5f81b2e",
   "metadata": {},
   "source": [
    "&emsp;&emsp;对于这种启动方式，官方提供的脚本名称是：web_demo_streamlit.py。同样，先使用 vim 编辑器修改模型的加载路径。"
   ]
  },
  {
   "cell_type": "markdown",
   "id": "cb240215-2ce9-4dc1-9589-d1df1794e0d7",
   "metadata": {},
   "source": [
    "<div align=center><img src=\"https://typora-photo1220.oss-cn-beijing.aliyuncs.com/LingYu/image-20240822161113185.png\" width=80%></div>"
   ]
  },
  {
   "cell_type": "markdown",
   "id": "352cbcdf-1bf8-475b-9a68-7bbce271f320",
   "metadata": {},
   "source": [
    "&emsp;&emsp;启动命令略有不同，不再使用 `python`，而是需要使用 `streamkit run`的方式来启动。\n",
    "```\n",
    "streamkit run web_demo_streamlit.py\n",
    "```"
   ]
  },
  {
   "cell_type": "markdown",
   "id": "aa12d4e1-2d57-4699-8f7b-526d96cf2e8f",
   "metadata": {},
   "source": [
    "<div align=center><img src=\"https://typora-photo1220.oss-cn-beijing.aliyuncs.com/LingYu/image-20240822161340471.png\" width=80%></div>"
   ]
  },
  {
   "cell_type": "markdown",
   "id": "026f9737-1733-4e5b-936a-4a1d4e558281",
   "metadata": {},
   "source": [
    "## 3.4基于指定虚拟环境的Jupiter Lab中运行"
   ]
  },
  {
   "cell_type": "markdown",
   "id": "e24fc2da-93bf-4d08-b2cb-4341bdc964dd",
   "metadata": {},
   "source": [
    "&emsp;&emsp;我们在部署Chatglm3-6B模型之前，创建了一个`chatglme3_test`虚拟环境来支撑该模型的运行。除了在终端中使用命令行启动，同样可以在Jupyter Lab环境中启动这个模型。具体的执行过程如下："
   ]
  },
  {
   "cell_type": "markdown",
   "id": "bef0b337-78f4-40a0-acd8-09e054638ad6",
   "metadata": {},
   "source": [
    "&emsp;&emsp;首先，在终端中找到需要加载的虚拟环境，使用如下命令可以查看当前系统中一共存在哪些虚拟环境，这里可以看到我们之前创建的chatglm3_test虚拟环境，需要使用如下命令进入该虚拟环境：\n",
    "```bash\n",
    "conda env list #显示已经建好的虚拟环境列表\n",
    "conda activate `env_name` #进入对应的虚拟环境，这里的`env_name`就是需要进入的虚拟环境名称\n",
    "```"
   ]
  },
  {
   "cell_type": "markdown",
   "id": "fd8efc94-10f0-4cc8-8d1a-457ded542a8f",
   "metadata": {},
   "source": [
    "&emsp;&emsp;在该环境中安装`ipykernel`软件包。这个软件包将允许Jupyter Notebook使用特定环境的Python版本。运行以下命令：\n",
    "```bash\n",
    "conda install ipykernel\n",
    "```"
   ]
  },
  {
   "cell_type": "markdown",
   "id": "5c7780a9-9e41-4d62-97db-dcb1f1281609",
   "metadata": {},
   "source": [
    "<div align=center><img src=\"https://typora-photo1220.oss-cn-beijing.aliyuncs.com/LingYu/image-20240822162353572.png\" width=100%></div>"
   ]
  },
  {
   "cell_type": "markdown",
   "id": "eeaac8a1-bce0-40ff-a971-9e9776d77f16",
   "metadata": {},
   "source": [
    "&emsp;&emsp;将该环境添加到Jupyter Notebook中。运行以下命令：\n",
    "```bash\n",
    "# 这里的env_name 替换成需要使用的虚拟环境名称\n",
    "python -m ipykernel install --user --name=yenv_name --display-name=\"Python(env_name)\"\n",
    "```"
   ]
  },
  {
   "cell_type": "markdown",
   "id": "9c316f50-fbcf-44f8-9b2a-3dcf58c66815",
   "metadata": {},
   "source": [
    "&emsp;&emsp;完成以上步骤后，在终端输入`jupyter lab`或`Jupyter Notebook`启动."
   ]
  },
  {
   "cell_type": "markdown",
   "id": "69dfc833-c634-4c3b-9778-ef627d06322b",
   "metadata": {},
   "source": [
    "<div align=center><img src=\"https://typora-photo1220.oss-cn-beijing.aliyuncs.com/LingYu/image-20240822163113721.png\" width=100%></div>"
   ]
  },
  {
   "cell_type": "markdown",
   "id": "f7b8b568-9459-4066-ac85-2c1510568b73",
   "metadata": {},
   "source": [
    "&emsp;&emsp;打开后就可以看到，当前环境下我们已经可以使用新的虚拟环境创建Notebook。"
   ]
  },
  {
   "cell_type": "markdown",
   "id": "997a2803-f071-4821-97ba-ac3b1b27a6cc",
   "metadata": {},
   "source": [
    "<div align=center><img src=\"https://muyu001.oss-cn-beijing.aliyuncs.com/img/image-20240103181909980.png\" width=80%></div>"
   ]
  },
  {
   "cell_type": "markdown",
   "id": "ec5090ed-353e-4b79-94ac-614dd6694dd6",
   "metadata": {},
   "source": [
    "&emsp;&emsp;基本调用流程也比较简单，官方也给出了一个实例："
   ]
  },
  {
   "cell_type": "markdown",
   "id": "7bf89e27-3205-489c-b39e-37da82238c21",
   "metadata": {},
   "source": [
    "<div align=center><img src=\"https://muyu001.oss-cn-beijing.aliyuncs.com/img/image-20240103183357227.png\" width=80%></div>"
   ]
  },
  {
   "cell_type": "markdown",
   "id": "fcb038d0-8f50-4faf-921b-cf72ec290e98",
   "metadata": {},
   "source": [
    "&emsp;&emsp;只需要从transformers中加载AutoTokenizer 和 AutoModel，指定好模型的路径即可。tokenizer这个词大家应该不会很陌生，可以简单理解我们在之前使用gpt系列模型的时候，使用tiktoken库帮我们把输入的自然语言，也就是prompt按照一种特定的编码方式来切分成token，从而生成API调用的成本。但在Transform中tokenizer要干的事会更多一些，它会把输入到大语言模型的文本，包在tokenizer中去做一些前置的预处理，会将自然语言文本转换为模型能够理解的格式，然后拆分为 tokens（如单词、字符或子词单位）等操作。\n",
    "\n",
    "&emsp;&emsp;而对于模型的加载来说，官方的代码中指向的路径是`THUDM/chatglm3-6b`,表示可以直接在云端加载模型，所以如果我们没有下载chatglm3-6b模型的话，直接运行此代码也是可以的，只不过第一次加载会很慢，耐心等待即可，同时需要确保当前的网络是联通的（必要的情况下需要开梯子）。"
   ]
  },
  {
   "cell_type": "markdown",
   "id": "b795793b-98aa-4c46-a56d-877b972d2067",
   "metadata": {},
   "source": [
    "&emsp;&emsp;因为我们已经将ChatGLM3-6B的模型权重下载到本地了，所以此处可以直接指向我们下载的Chatglm3-6b模型的存储路径来进行推理测试。"
   ]
  },
  {
   "cell_type": "markdown",
   "id": "d341228e-74a1-4d28-924b-0e3f3efe845d",
   "metadata": {},
   "source": [
    "<div align=center><img src=\"https://typora-photo1220.oss-cn-beijing.aliyuncs.com/LingYu/image-20240823142929357.png\" width=80%></div>"
   ]
  },
  {
   "cell_type": "markdown",
   "id": "91f9061a-3d8e-48a9-bb89-a866bc016569",
   "metadata": {},
   "source": [
    "&emsp;&emsp;对于其他参数来说，model 有一个eval模式，就是评估的方法，模型基本就是两个阶段的事，一个是训练，一个是推理，计算的量更大，它需要把输入的值做一个推理，如果是一个有监督的模型，那必然存在一个标签值，也叫真实值，这个值会跟模型推理的值做一个比较，这个过程是正向传播。差异如果很大，就说明这个模型的能力还远远不够，既然效果不好，就要调整参数来不断地修正，通过不断地求导，链式法则等方式进行反向传播。当模型训练好了，模型的参数就不会变了，形成一个静态的文件，可以下载下来，当我们使用的时候，就不需要这个反向传播的过程，只需要做正向的推理就好了，此处设置 model.eval()就是说明这个过程。而trust_remote_code=True 表示信任远程代码（如果有）， device='cuda' 表示将模型加载到CUDA设备上以便使用GPU加速，这两个就很好理解了。"
   ]
  },
  {
   "cell_type": "markdown",
   "id": "2127328c-6b06-486a-84d4-64544b8fbef3",
   "metadata": {},
   "source": [
    "## 3.5基于OpenAI风格的API调用方法"
   ]
  },
  {
   "cell_type": "markdown",
   "id": "a5ea76b6-e7e6-4c55-a795-cf263b33717f",
   "metadata": {},
   "source": [
    "&emsp;&emsp;ChatGLM3-6B模型提供了OpenAI风格的API调用方法。正如此前所说，在OpenAI几乎定义了整个前沿AI应用开发标准的当下，提供一个OpenAI风格的API调用方法，毫无疑问可以让ChatGLM3模型无缝接入OpenAI开发生态。所谓的OpenAI风格的API调用，指的是借助OpenAI库中的ChatCompletion函数进行ChatGLM3模型调用。而现在，我们只需要在model参数上输入chatglm3-6b，即可调用ChatGLM3模型。调用API风格的统一，无疑也将大幅提高开发效率。"
   ]
  },
  {
   "cell_type": "markdown",
   "id": "13a970c6-9ed4-4535-8a65-ff7b98c6034b",
   "metadata": {},
   "source": [
    "<div align=center><img src=\"https://typora-photo1220.oss-cn-beijing.aliyuncs.com/LingYu/image-20240823143344007.png\" width=80%></div>"
   ]
  },
  {
   "cell_type": "markdown",
   "id": "1ec1d4d2-1407-4c33-8a66-0de4f3f3519a",
   "metadata": {},
   "source": [
    "&emsp;&emsp;而要执行OpenAI风格的API调用，则首先需要安装openai库，并提前运行openai_api.py脚本。具体执行流程如下:"
   ]
  },
  {
   "cell_type": "markdown",
   "id": "ca8d6276-ef0f-4d4a-a774-dcbd90829215",
   "metadata": {},
   "source": [
    "&emsp;&emsp;首先需要注意：OpenAI目前已将openai库更新至1.x，但目前Chatglm3-6B仍需要使用旧版本0.28。所以需要确保当前环境的openai版本。"
   ]
  },
  {
   "cell_type": "markdown",
   "id": "572f62f2-5a17-4e57-a4b6-5e2e171bce61",
   "metadata": {},
   "source": [
    "<div align=center><img src=\"https://typora-photo1220.oss-cn-beijing.aliyuncs.com/LingYu/image-20240822163423552.png\" width=80%></div>"
   ]
  },
  {
   "cell_type": "markdown",
   "id": "36308e3e-1898-453b-928a-ddd97bb71b98",
   "metadata": {},
   "source": [
    "&emsp;&emsp;启动之前，需要安装tiktoken包，用于将文本分割成 tokens。"
   ]
  },
  {
   "cell_type": "markdown",
   "id": "aadefc4c-855c-484d-ad9a-8f61d7b6bd68",
   "metadata": {},
   "source": [
    "<div align=center><img src=\"https://typora-photo1220.oss-cn-beijing.aliyuncs.com/LingYu/image-20240822163709355.png\" width=80%></div>"
   ]
  },
  {
   "cell_type": "markdown",
   "id": "30277dd1-782d-46f0-9d76-4745fc63ac0e",
   "metadata": {},
   "source": [
    "&emsp;&emsp;同时，需要降级`typing_extensions`依赖包，否则会报错。\n",
    "```\n",
    "pip install typing_extensions==4.8.0\n",
    "```"
   ]
  },
  {
   "cell_type": "markdown",
   "id": "b6ab5aee-6b7a-4b3a-96d2-78d813c98cfb",
   "metadata": {},
   "source": [
    "<div align=center><img src=\"https://typora-photo1220.oss-cn-beijing.aliyuncs.com/LingYu/image-20240822163751184.png\" width=80%></div>"
   ]
  },
  {
   "cell_type": "markdown",
   "id": "563c6006-24d9-4317-95d8-622079cf38f4",
   "metadata": {},
   "source": [
    "&emsp;&emsp;如果想要使用API持续调用Chatglm3-6b模型，需要启动一个脚本，该脚本位于`open_api_demo`中。通过`cd openai_api_demo`进入对应文件夹。"
   ]
  },
  {
   "cell_type": "markdown",
   "id": "97efe526-b24b-4981-b9dc-edfaaad17499",
   "metadata": {},
   "source": [
    "<div align=center><img src=\"https://typora-photo1220.oss-cn-beijing.aliyuncs.com/LingYu/image-20240822163510394.png\" width=80%></div>"
   ]
  },
  {
   "cell_type": "markdown",
   "id": "91053a9e-8635-4564-b9df-b6921d907981",
   "metadata": {},
   "source": [
    "&emsp;&emsp;使用命令`openai_api_request.py`启动，第一次启动加载会比较慢。启动成功之后在Jupyter lab上执行如下代码，进行API调用测试。"
   ]
  },
  {
   "cell_type": "markdown",
   "id": "3f58bdbb-f522-4ee4-97c3-334b4bb3c8f5",
   "metadata": {},
   "source": [
    "<div align=center><img src=\"https://typora-photo1220.oss-cn-beijing.aliyuncs.com/LingYu/image-20240822164733423.png\" width=80%></div>"
   ]
  },
  {
   "cell_type": "markdown",
   "id": "25e82333-b383-4167-a1f6-6f69d6067517",
   "metadata": {},
   "source": [
    "&emsp;&emsp;建议大家尝试采用OpenAI风格的调用方式，是因为目前许多模型（包括GLM-4）都已经采用或兼容这一格式。熟悉这种通用的方法将有助于大家更快地入门，并为构建高级代理系统打下坚实的基础。"
   ]
  }
 ],
 "metadata": {
  "kernelspec": {
   "display_name": "refresh",
   "language": "python",
   "name": "refresh"
  },
  "language_info": {
   "codemirror_mode": {
    "name": "ipython",
    "version": 3
   },
   "file_extension": ".py",
   "mimetype": "text/x-python",
   "name": "python",
   "nbconvert_exporter": "python",
   "pygments_lexer": "ipython3",
   "version": "3.11.9"
  }
 },
 "nbformat": 4,
 "nbformat_minor": 5
}
