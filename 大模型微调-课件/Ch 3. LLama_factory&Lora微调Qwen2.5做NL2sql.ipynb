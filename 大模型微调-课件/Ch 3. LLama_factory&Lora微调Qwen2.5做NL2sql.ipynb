{
 "cells": [
  {
   "cell_type": "markdown",
   "id": "fe98a9e5-4646-47d0-9445-19bf22ef3a54",
   "metadata": {},
   "source": [
    "# <center>Ch 3. LLama_factory&Lora微调Qwen2.5做NL2sql </center>"
   ]
  },
  {
   "cell_type": "markdown",
   "id": "563fdaa3",
   "metadata": {},
   "source": [
    "- 什么是nl2sql？\n",
    "```json\n",
    "    NL2SQL（Natural Language to SQL）也叫text2SQL, 主要的想法就是将自然语言查询转换为可执行 SQL 语句的技术。能够让用户通过自然语言交流的方式来操作数据库，而不用学sql这种复杂的语法。\n",
    "    这种情况经常用于数据分析、数据查询、智能客服、信息检索等功能。单纯使用RAG很难让大模型理解该怎么写一条sql是准确的。所以这种场景是需要进行大模型微调。\n",
    "    大模型微调必备条件：1、有大模型 2、有对应领域的数据 3、用资源或框架\n",
    "```"
   ]
  },
  {
   "cell_type": "markdown",
   "id": "411cbe7e-e305-482f-8a90-3336d3bab299",
   "metadata": {},
   "source": [
    "# 如何寻找数据集"
   ]
  },
  {
   "cell_type": "markdown",
   "id": "ee174948-7f8d-4d6e-b801-7966e2318d4c",
   "metadata": {},
   "source": [
    "1、国外[hugging face](https://huggingface.co/datasets)"
   ]
  },
  {
   "cell_type": "markdown",
   "id": "9b80c101-056b-4040-a937-a1fb6cf03d99",
   "metadata": {},
   "source": [
    "<div align=center><img src=\"https://typora-photo1220.oss-cn-beijing.aliyuncs.com/DataAnalysis/muyan/image-20241114170351391.png\" width=50%></div>\n"
   ]
  },
  {
   "cell_type": "markdown",
   "id": "2cd928c0-d8cd-44aa-a00f-17ef4ff241a1",
   "metadata": {},
   "source": [
    "<div align=center><img src=\"https://typora-photo1220.oss-cn-beijing.aliyuncs.com/DataAnalysis/muyan/image-20241114170605566.png\" width=50%></div>\n"
   ]
  },
  {
   "cell_type": "markdown",
   "id": "8a6bc5ab-d341-4781-bc7a-1b2af643d535",
   "metadata": {},
   "source": [
    "<div align=center><img src=\"https://typora-photo1220.oss-cn-beijing.aliyuncs.com/DataAnalysis/muyan/image-20241114170745350.png\" width=50%></div>\n"
   ]
  },
  {
   "cell_type": "markdown",
   "id": "939d46a5-fa01-4da9-8581-ff4d1a86bb54",
   "metadata": {},
   "source": [
    "<div align=center><img src=\"https://typora-photo1220.oss-cn-beijing.aliyuncs.com/DataAnalysis/muyan/image-20241114170834198.png\" width=50%></div>\n"
   ]
  },
  {
   "cell_type": "markdown",
   "id": "e66e634f-1b13-439c-be99-fe1d2cb5f34e",
   "metadata": {},
   "source": [
    "<div align=center><img src=\"https://typora-photo1220.oss-cn-beijing.aliyuncs.com/DataAnalysis/muyan/image-20241114171423423.png\" width=50%></div>\n"
   ]
  },
  {
   "cell_type": "markdown",
   "id": "8112fa6b-8694-4c39-a4da-2fc589306fe8",
   "metadata": {},
   "source": [
    "国内考虑[modelscope](https://www.modelscope.cn/datasets)"
   ]
  },
  {
   "cell_type": "markdown",
   "id": "60e2000b-8733-4c1c-913a-aa667f92ae37",
   "metadata": {},
   "source": [
    "<div align=center><img src=\"https://typora-photo1220.oss-cn-beijing.aliyuncs.com/DataAnalysis/muyan/image-20241114172014853.png\" width=50%></div>\n"
   ]
  },
  {
   "cell_type": "markdown",
   "id": "a37609e4-3d91-4074-9151-f9f8b098a900",
   "metadata": {},
   "source": [
    "<div align=center><img src=\"https://typora-photo1220.oss-cn-beijing.aliyuncs.com/DataAnalysis/muyan/image-20241114174600165.png\" width=50%></div>\n"
   ]
  },
  {
   "cell_type": "markdown",
   "id": "509fdfea-06a4-404e-ab7e-9d5617466150",
   "metadata": {},
   "source": [
    "<div align=center><img src=\"https://typora-photo1220.oss-cn-beijing.aliyuncs.com/DataAnalysis/muyan/image-20241114174710556.png\" width=50%></div>\n"
   ]
  },
  {
   "cell_type": "markdown",
   "id": "86d81899-0025-4073-8bd9-749397ac9d0e",
   "metadata": {},
   "source": [
    "<div align=center><img src=\"https://typora-photo1220.oss-cn-beijing.aliyuncs.com/DataAnalysis/muyan/image-20241114172305883.png\" width=50%></div>\n"
   ]
  },
  {
   "cell_type": "markdown",
   "id": "ea601329-c545-46b8-97af-7f903230cacb",
   "metadata": {},
   "source": [
    "其他大学与企业合作："
   ]
  },
  {
   "cell_type": "markdown",
   "id": "ccbfeaa3-5b04-4be0-86ae-fa06c59bf9c6",
   "metadata": {},
   "source": [
    "英文：\n"
   ]
  },
  {
   "cell_type": "markdown",
   "id": "f3501c56-e79c-4401-b720-343e5da450e0",
   "metadata": {},
   "source": [
    "```json \n",
    "wikiSQL: https://github.com/salesforce/WikiSQL\n",
    "    属于单领域，包含了80654个自然语言问题，77840个SQL语句，SQL语句形式比较简单，不包含排序、分组、子查询等复杂操作。\n",
    "```"
   ]
  },
  {
   "cell_type": "markdown",
   "id": "5505ac44-241d-4e0f-a940-bab5fa6dade5",
   "metadata": {},
   "source": [
    "<div align=center><img src=\"https://typora-photo1220.oss-cn-beijing.aliyuncs.com/DataAnalysis/muyan/image-20241114181113117.png\" width=50%></div>\n"
   ]
  },
  {
   "cell_type": "markdown",
   "id": "894d711a",
   "metadata": {},
   "source": [
    "数据集解压后文件"
   ]
  },
  {
   "cell_type": "markdown",
   "id": "8999ee5f",
   "metadata": {},
   "source": [
    "<div align=center><img src=\"https://typora-photo1220.oss-cn-beijing.aliyuncs.com/DataAnalysis/muyan/image-20241120005551594.png\" width=100%></div>\n"
   ]
  },
  {
   "cell_type": "markdown",
   "id": "e91b8727",
   "metadata": {},
   "source": [
    "dev.json文件\n",
    "```json\n",
    "{\n",
    "   \"phase\":1,\n",
    "   \"question\"\":who is the manufacturer for the order year 1998?\",\n",
    "   \"sql\":{\n",
    "      \"conds\":[\n",
    "         [\n",
    "            0,\n",
    "            0,\n",
    "            \"1998\"\n",
    "         ]\n",
    "      ],\n",
    "      \"sel\":1,\n",
    "      \"agg\":0\n",
    "   },\n",
    "   \"table_id\"\":1-10026563-1\"\n",
    "}\n",
    "phase：数据集收集的阶段。我们分两个阶段收集 WikiSQL。\n",
    "question：工人写的自然语言问题。\n",
    "sql：与问题对应的 SQL 查询。它包含以下子字段：\n",
    "   conds：三元组列表(column_index, operator_index, condition)，其中：\n",
    "         column_index：正在使用的条件列的数字索引。您可以从表中找到实际的列。\n",
    "         operator_index：正在使用的条件运算符的数字索引。您可以从中找到实际的运算Query.cond_ops符lib/query.py。\n",
    "         condition：条件的比较值，为string或float类型。\n",
    "   sel：所选列的数字索引。您可以从表中找到实际的列。\n",
    "   agg：正在使用的聚合运算符的数字索引。您可以从中找到实际的运算Query.agg_ops符lib/query.py。\n",
    "table_id：该问题对应的表格的ID。\n",
    "```"
   ]
  },
  {
   "cell_type": "markdown",
   "id": "653da57a",
   "metadata": {},
   "source": [
    "<div align=center><img src=\"https://typora-photo1220.oss-cn-beijing.aliyuncs.com/DataAnalysis/muyan/image-20241120010053241.png\" width=100%></div>\n"
   ]
  },
  {
   "cell_type": "markdown",
   "id": "b938b6c0",
   "metadata": {},
   "source": [
    "对应dev.tables.jsonl文件\n",
    "```json\n",
    "    id：表ID。\n",
    "    header：表中列名的列表。\n",
    "    rows：行列表。每行都是行条目的列表。\n",
    "    表格也包含在相应的*.db文件中。这是一个具有相同信息的 SQL 数据库。\n",
    "```"
   ]
  },
  {
   "cell_type": "markdown",
   "id": "40329223",
   "metadata": {},
   "source": [
    "db文件就是查询后的文件，用来验证sql结果"
   ]
  },
  {
   "cell_type": "markdown",
   "id": "bc2931d6-639a-4e55-b03c-5a87bcd08eed",
   "metadata": {},
   "source": [
    "```json\n",
    "Spider: https://yale-lily.github.io/spider\n",
    "    耶鲁大学提出的多数据库、多表、单轮查询的Text-to-SQL数据集，也是业界公认难度最大的大规模跨领域评测榜单，包含了10181个自然语言问题，5693个SQL语句，涉及138个不同领域的200多个数据库，难易程度分为：简单、中等、困难、特别困难。\n",
    "```"
   ]
  },
  {
   "cell_type": "markdown",
   "id": "d5b1d121",
   "metadata": {},
   "source": [
    "<div align=center><img src=\"https://typora-photo1220.oss-cn-beijing.aliyuncs.com/DataAnalysis/muyan/image-20241120011407333.png\" width=100%></div>\n"
   ]
  },
  {
   "cell_type": "markdown",
   "id": "ec827286",
   "metadata": {},
   "source": [
    "```json\n",
    "{\n",
    "        \"db_id\": \"concert_singer\",\n",
    "        \"query\": \"SELECT count(*) FROM singer\",\n",
    "        \"query_toks\": [\n",
    "            \"SELECT\",\n",
    "            \"count\",\n",
    "            \"(\",\n",
    "            \"*\",\n",
    "            \")\",\n",
    "            \"FROM\",\n",
    "            \"singer\"\n",
    "        ],\n",
    "        \"query_toks_no_value\": [\n",
    "            \"select\",\n",
    "            \"count\",\n",
    "            \"(\",\n",
    "            \"*\",\n",
    "            \")\",\n",
    "            \"from\",\n",
    "            \"singer\"\n",
    "        ],\n",
    "        \"question\": \"How many singers do we have?\",\n",
    "        \"question_toks\": [\n",
    "            \"How\",\n",
    "            \"many\",\n",
    "            \"singers\",\n",
    "            \"do\",\n",
    "            \"we\",\n",
    "            \"have\",\n",
    "            \"?\"\n",
    "        ],\n",
    "        \"sql\": {\n",
    "            \"from\": {\n",
    "                \"table_units\": [\n",
    "                    [\n",
    "                        \"table_unit\",\n",
    "                        1\n",
    "                    ]\n",
    "                ],\n",
    "                \"conds\": []\n",
    "            },\n",
    "            \"select\": [\n",
    "                false,\n",
    "                [\n",
    "                    [\n",
    "                        3,\n",
    "                        [\n",
    "                            0,\n",
    "                            [\n",
    "                                0,\n",
    "                                0,\n",
    "                                false\n",
    "                            ],\n",
    "                            null\n",
    "                        ]\n",
    "                    ]\n",
    "                ]\n",
    "            ],\n",
    "            \"where\": [],\n",
    "            \"groupBy\": [],\n",
    "            \"having\": [],\n",
    "            \"orderBy\": [],\n",
    "            \"limit\": null,\n",
    "            \"intersect\": null,\n",
    "            \"union\": null,\n",
    "            \"except\": null\n",
    "        }\n",
    "    }\n",
    "\n",
    "query_toks 和 question_toks 都是经过分词和编码处理后的文本表示，主要用于将自然语言输入转换为模型可以处理的格式。可以做一下大模型预训练，分词训练等。\n",
    "query_toks_no_value 更适合用于模型训练和解析，帮助模型理解查询的逻辑而不被具体值干扰，减少掉数值的概念。\n",
    "from：表示SQL查询的FROM子句，即从哪些表中获取数据。\n",
    "table_units：一个数组，包含了一个或多个表单元（table_unit）。\n",
    "[\"table_unit\", 1]：表示从表1中获取数据。对应.sql文件中就是表singer\n",
    "conds：一个数组，表示FROM子句中的条件。在这个例子中，conds数组为空，表示没有额外的条件\n",
    "\n",
    "\n",
    "select：表示SQL查询的SELECT子句，即要选择哪些列或表达式。\n",
    "false：表示是否选择所有列（*）。false表示不是选择所有列。\n",
    "[[3, [0, [0, 0, false], null]]]：一个嵌套数组，表示选择的具体列或表达式。\n",
    "    3：表示选择的列或表达式的类型。具体类型需要根据上下文确定，常见的类型有：\n",
    "    0：列名\n",
    "    1：聚合函数（如COUNT, SUM等）\n",
    "    2：子查询\n",
    "    3：列的别名\n",
    "    [0, [0, 0, false], null]：表示具体的列或表达式。\n",
    "        0：表示列的类型，0通常表示列名。\n",
    "        [0, 0, false]：表示列的具体信息，具体含义需要根据上下文确定。\n",
    "null：表示没有别名。\n",
    "```"
   ]
  },
  {
   "cell_type": "markdown",
   "id": "1d1daf25",
   "metadata": {},
   "source": [
    "concert_singer对应的数据库信息"
   ]
  },
  {
   "cell_type": "markdown",
   "id": "3c95143d",
   "metadata": {},
   "source": [
    "<div align=center><img src=\"https://typora-photo1220.oss-cn-beijing.aliyuncs.com/DataAnalysis/muyan/image-20241120011744293.png\" width=100%></div>\n"
   ]
  },
  {
   "cell_type": "markdown",
   "id": "14333dac",
   "metadata": {},
   "source": [
    "<div align=center><img src=\"https://typora-photo1220.oss-cn-beijing.aliyuncs.com/DataAnalysis/muyan/image-20241120011901484.png\" width=100%></div>\n"
   ]
  },
  {
   "cell_type": "markdown",
   "id": "4ac391d4",
   "metadata": {},
   "source": [
    "```json\n",
    "SParC : https://drive.google.com/uc?export=download&id=1Uu7NMHTR1tdQw1t7bAuM7OPU4LElVKfg\n",
    "    SParC，用于复杂、跨域、上下文相关（多轮）语义解析和Text-to-SQL任务，该数据集由4298个连贯的问题序列组成（有12k+个自然语言问题到SQL标注的Question-SQL对，由14名耶鲁大学学生标注），通过用户与138个领域的200个复杂数据库的交互获得。\n",
    "\n",
    "CoSQL :https://yale-lily.github.io/cosql\n",
    "    跨域数据库CoSQL，它由30k+轮次和10k+带注释的SQL查询组成。\n",
    "\n",
    "KaggleDBQA：https://github.com/Chia-Hsuan-Lee/KaggleDBQA/tree/main?tab=readme-ov-file#Data-Format\n",
    "    华盛顿大学与微软联合创建，是一个真是数据集它包括跨 8 个数据库的 272 个示例，每个数据库平均有 2.25 个表。 该数据集以其真实世界的数据源、自然的问题创作环境以及具有丰富领域知识的数据库文档而闻名。 主要统计数据：8.7% WHERE 子句、73.5% VAL、24.6% SELECT 和 6.8% NON-SELECT。\n",
    "    \n",
    "\n",
    "```"
   ]
  },
  {
   "cell_type": "markdown",
   "id": "bf09306f-e27e-4542-85c0-19a2de9cdafa",
   "metadata": {},
   "source": [
    "<div align=center><img src=\"https://typora-photo1220.oss-cn-beijing.aliyuncs.com/DataAnalysis/muyan/image-20241114181712085.png\" width=50%></div>\n"
   ]
  },
  {
   "cell_type": "markdown",
   "id": "d4c95ae0-e7f7-4e87-8a36-36e7629c0169",
   "metadata": {},
   "source": [
    "<div align=center><img src=\"https://typora-photo1220.oss-cn-beijing.aliyuncs.com/DataAnalysis/muyan/image-20241114181758068.png\" width=50%></div>\n"
   ]
  },
  {
   "cell_type": "markdown",
   "id": "d78a92a2-91fc-47aa-a8e3-e8811d3b1f11",
   "metadata": {},
   "source": [
    "中文："
   ]
  },
  {
   "cell_type": "markdown",
   "id": "987e9c98-5848-4c96-84d7-f4e24addcb0f",
   "metadata": {},
   "source": [
    "```json\n",
    "CHASE: https://github.com/xjtu-intsoft/chase/tree/page/data\n",
    "    西安交通大学和微软等提出了首个跨领域、多轮Text-to-SQL中文数据集，包含了5459个多轮问题组成的列表，17940个<query, SQL>二元组。\n",
    "```"
   ]
  },
  {
   "cell_type": "markdown",
   "id": "89ccf106-e4a8-47a8-ba73-2c903791ed9a",
   "metadata": {
    "tags": []
   },
   "source": [
    "<div align=center><img src=\"https://typora-photo1220.oss-cn-beijing.aliyuncs.com/DataAnalysis/muyan/image-20241114182844308.png\" width=50%></div>\n"
   ]
  },
  {
   "cell_type": "markdown",
   "id": "f6d1e88a-3a90-4f6b-bd55-2a873ea298ae",
   "metadata": {},
   "source": [
    "```json\n",
    "BIRD-SQ: https://bird-bench.github.io/\n",
    "    香港大学和阿里巴巴提出了一个大规模跨域数据集BIRD，其中包含超过12751个独特的问题 SQL、95个大数据库，总大小为33.4GB。它还涵盖区块链、曲棍球、医疗保健和教育等超过37个专业领域。\n",
    "\n",
    "BIRD-SQL Mini-Dev\n",
    "    从11个不同的数据库中编译了500个高质量的text2SQL对，并支持MySQL和PostgreSQL格式。\n",
    "```"
   ]
  },
  {
   "cell_type": "markdown",
   "id": "ccc876ce-a7ec-410a-be02-851a9af5abd0",
   "metadata": {
    "tags": []
   },
   "source": [
    "<div align=center><img src=\"https://typora-photo1220.oss-cn-beijing.aliyuncs.com/DataAnalysis/muyan/image-20241114182637158.png\" width=50%></div>\n"
   ]
  },
  {
   "cell_type": "markdown",
   "id": "643a94ed",
   "metadata": {},
   "source": [
    "```json\n",
    "  {\n",
    "    \"question_id\": 34,\n",
    "    \"db_id\": \"california_schools\",\n",
    "    \"question\": \"What is the free rate for students between the ages of 5 and 17 at the school run by Kacey Gibson?\",\n",
    "    \"evidence\": \"Eligible free rates for students aged 5-17 = `Free Meal Count (Ages 5-17)` / `Enrollment (Ages 5-17)`\",\n",
    "    \"SQL\": \"SELECT CAST(T2.`Free Meal Count (Ages 5-17)` AS REAL) / T2.`Enrollment (Ages 5-17)` FROM schools AS T1 INNER JOIN frpm AS T2 ON T1.CDSCode = T2.CDSCode WHERE T1.AdmFName1 = 'Kacey' AND T1.AdmLName1 = 'Gibson'\",\n",
    "    \"difficulty\": \"moderate\"\n",
    "  },\n",
    "  {\n",
    "    \"question_id\": 33,\n",
    "    \"db_id\": \"california_schools\",\n",
    "    \"question\": \"If there are any, what are the websites address of the schools with a free meal count of 1,900-2,000 to students aged 5-17? Include the name of the school.\",\n",
    "    \"evidence\": \"\",\n",
    "    \"SQL\": \"SELECT T2.Website, T1.`School Name` FROM frpm AS T1 INNER JOIN schools AS T2 ON T1.CDSCode = T2.CDSCode WHERE T1.`Free Meal Count (Ages 5-17)` BETWEEN 1900 AND 2000 AND T2.Website IS NOT NULL\",\n",
    "    \"difficulty\": \"moderate\"\n",
    "  }\n",
    "```"
   ]
  },
  {
   "cell_type": "markdown",
   "id": "4abb265c-cff8-42d5-bed4-8fc5fee03f99",
   "metadata": {},
   "source": [
    "```json\n",
    "DuSQL :https://www.luge.ai/#/luge/dataDetail?id=13\n",
    "    百度针对跨域文本到SQL任务提出了一个大规模、实用的中文数据集DuSQL，它包含200个数据库、813个表和23797个Question-SQL对。\n",
    "\n",
    "TableQA :https://www.luge.ai/#/luge/dataDetail?id=12\n",
    "    包含64891个问题和6000多个表的20311个唯一SQL查询。\n",
    "```"
   ]
  },
  {
   "cell_type": "markdown",
   "id": "bda9e728-8a63-4d78-9dd9-0d321e2fca4e",
   "metadata": {},
   "source": [
    "<div align=center><img src=\"https://typora-photo1220.oss-cn-beijing.aliyuncs.com/DataAnalysis/muyan/image-20241114183332865.png\" width=80%></div>\n"
   ]
  },
  {
   "cell_type": "markdown",
   "id": "7507c6b4-a284-428f-927e-0c05bda3d3ab",
   "metadata": {},
   "source": [
    "<div align=center><img src=\"https://typora-photo1220.oss-cn-beijing.aliyuncs.com/DataAnalysis/muyan/image-20241114183535626.png\" width=80%></div>\n"
   ]
  },
  {
   "cell_type": "markdown",
   "id": "951be2c8",
   "metadata": {},
   "source": [
    "<div align=center><img src=\"https://typora-photo1220.oss-cn-beijing.aliyuncs.com/DataAnalysis/muyan/image-20241120015139904.png\" width=80%></div>\n"
   ]
  },
  {
   "cell_type": "markdown",
   "id": "2a19c851-9a5f-4bfe-ae22-3633d2446ba6",
   "metadata": {},
   "source": [
    "```json\n",
    "dev.json\n",
    "    {\n",
    "        \"db_id\": \"69cc8c0c334311e98692542696d6e445\",\n",
    "        \"question\": \"长沙2011年平均每天成交量是3.17，那么近一周的成交量是多少\",\n",
    "        \"question_id\": \"qid1\",\n",
    "        \"sql\": {\n",
    "            \"agg\": [\n",
    "                0\n",
    "            ],\n",
    "            \"cond_conn_op\": 1,\n",
    "            \"sel\": [\n",
    "                6\n",
    "            ],\n",
    "            \"conds\": [\n",
    "                [\n",
    "                    2,\n",
    "                    2,\n",
    "                    \"3.17\"\n",
    "                ],\n",
    "                [\n",
    "                    1,\n",
    "                    2,\n",
    "                    \"长沙\"\n",
    "                ]\n",
    "            ]\n",
    "        },\n",
    "        \"query\": \"SELECT 近7日成交 WHERE 2011年日均成交 == \\\"3.17\\\" and 城市 == \\\"长沙\\\"\"\n",
    "    }\n",
    "```"
   ]
  },
  {
   "cell_type": "markdown",
   "id": "981d5289",
   "metadata": {},
   "source": [
    "db_schema.json\n",
    "<div align=center><img src=\"https://typora-photo1220.oss-cn-beijing.aliyuncs.com/DataAnalysis/muyan/image-20241120015435772.png\" width=80%></div>\n"
   ]
  },
  {
   "cell_type": "markdown",
   "id": "dffbb53f",
   "metadata": {},
   "source": [
    "db_content.json\n",
    "\n",
    "<div align=center><img src=\"https://typora-photo1220.oss-cn-beijing.aliyuncs.com/DataAnalysis/muyan/image-20241120015544415.png\" width=80%></div>\n"
   ]
  },
  {
   "cell_type": "markdown",
   "id": "804248d7-0dc8-4292-b26a-ea9a966373ec",
   "metadata": {},
   "source": [
    "# 2. 数据处理"
   ]
  },
  {
   "cell_type": "markdown",
   "id": "0551925c",
   "metadata": {},
   "source": [
    "## 2.1 数据格式"
   ]
  },
  {
   "cell_type": "markdown",
   "id": "69aad9bd-c25e-4578-85aa-2262706d4a43",
   "metadata": {},
   "source": [
    "LLaMA-Factory 在 data 文件夹中提供了多个训练数据集，可以直接使用。如果您打算使用自定义数据集，请按照以下方式准备您的数据集。<br>\n",
    "LLaMA-Factory 支持以 alpaca 或 sharegpt 格式的数据集。<br>\n",
    "alpaca 格式的数据集应遵循以下格式："
   ]
  },
  {
   "cell_type": "markdown",
   "id": "7ea75b9d-8402-4230-ba0b-3f89b36a869d",
   "metadata": {},
   "source": [
    "```json\n",
    "[\n",
    "  {\n",
    "    \"instruction\": \"user instruction (required)\",\n",
    "    \"input\": \"user input (optional)\",\n",
    "    \"output\": \"model response (required)\",\n",
    "    \"system\": \"system prompt (optional)\",\n",
    "    \"history\": [\n",
    "      [\"user instruction in the first round (optional)\", \"model response in the first round (optional)\"],\n",
    "      [\"user instruction in the second round (optional)\", \"model response in the second round (optional)\"]\n",
    "    ]\n",
    "  }\n",
    "]\n",
    "\n",
    "[\n",
    "  {\n",
    "    \"instruction\": \"人类指令（必填）\",\n",
    "    \"input\": \"人类输入（选填）\",\n",
    "    \"output\": \"模型回答（必填）\",\n",
    "    \"system\": \"系统提示词（选填）\",\n",
    "    \"history\": [\n",
    "      [\"第一轮指令（选填）\", \"第一轮回答（选填）\"],\n",
    "      [\"第二轮指令（选填）\", \"第二轮回答（选填）\"]\n",
    "    ]\n",
    "  }\n",
    "]\n",
    "通常会用[\n",
    "  {\n",
    "    \"instruction\": \"人类指令（必填）\",\n",
    "    \"input\": \"\",\n",
    "    \"output\": \"模型回答（必填）\",\n",
    "  }\n",
    "]\n",
    "组合起来系统识别 instruction=prompt，input=用户输入信息，output=大模型回复\n",
    "为什么instruction 是必选？input是可选？\n",
    "  instruction 本身就是为了引导模型生成特定的响应而设计的。例如，如果用户的指令是“写一篇关于气候变化的文章”，那么这个指令就可以理解是模型的 prompt。\n",
    "  将 instruction 作为 prompt 值的做法有助于模型更好地理解用户的意图，从而生成更相关和高质量的输出。通过明确的指令，模型能够更准确地把握任务的核心\n",
    "```\n",
    "特点：适合单轮指令微调，强调指令与响应的直接关系\n",
    "用途：主要用于指令监督微调，适合需要明确指令和响应的任务，如问答、文本生成等。\n",
    "场景：适合简单的任务执行，强调模型对单一指令的响应能力。\n"
   ]
  },
  {
   "cell_type": "markdown",
   "id": "6a231a29-6fd9-4bbb-9e85-f11a6a44fb05",
   "metadata": {},
   "source": [
    "sharegpt 格式的数据集应遵循以下格式：\n",
    "\n",
    "```json\n",
    "\n",
    "[\n",
    "  {\n",
    "    \"conversations\": [\n",
    "      {\n",
    "        \"from\": \"human\",\n",
    "        \"value\": \"user instruction\"\n",
    "      },\n",
    "      {\n",
    "        \"from\": \"gpt\",\n",
    "        \"value\": \"model response\"\n",
    "      }\n",
    "    ],\n",
    "    \"system\": \"system prompt (optional)\",\n",
    "    \"tools\": \"tool description (optional)\"\n",
    "  }\n",
    "]\n",
    "{\n",
    "  \"conversations\": [\n",
    "    {\n",
    "      \"from\": \"human\",\n",
    "      \"value\": \"人类指令\"\n",
    "    },\n",
    "    {\n",
    "      \"from\": \"gpt\",\n",
    "      \"value\": \"模型回答\"\n",
    "    }\n",
    "  ],\n",
    "  \"system\": \"系统提示词（选填）\",\n",
    "  \"tools\": \"描述工具信息（选填）\"\n",
    "}\n",
    "\n",
    "```\n",
    "这种就类似我们正常和大模型对话格式，function call 基本一致，标记出对话角色进行对话。<br>\n",
    "用途：适用于多轮对话微调，能够处理复杂的对话场景，支持多种角色（如 human、gpt、observation、function）。<br>\n",
    "场景：适合聊天机器人、虚拟助手等需要自然交互的应用，能够保持对话的上下文。<br>"
   ]
  },
  {
   "cell_type": "markdown",
   "id": "f1b441fc-2133-4d88-89ab-d3d16ad0439a",
   "metadata": {},
   "source": [
    "两种数据可以混合使用<br>\n",
    "多样性：混合使用这两种格式的数据集可以增加训练数据的多样性，帮助模型更好地理解不同类型的输入和输出，从而提高其泛化能力。<br>\n",
    "任务适应性：通过结合 Alpaca 的指令跟随能力和 ShareGPT 的对话上下文处理能力，模型可以在执行具体任务时表现得更加灵活和智能。\n",
    "\n"
   ]
  },
  {
   "cell_type": "markdown",
   "id": "c71bdb20-a33a-4016-945f-789ced7750ee",
   "metadata": {},
   "source": [
    "- **当前数据来自bird**\n",
    "```json\n",
    "  {\n",
    "    \"question_id\": 34,\n",
    "    \"db_id\": \"california_schools\",\n",
    "    \"question\": \"What is the free rate for students between the ages of 5 and 17 at the school run by Kacey Gibson?\",\n",
    "    \"evidence\": \"Eligible free rates for students aged 5-17 = `Free Meal Count (Ages 5-17)` / `Enrollment (Ages 5-17)`\",\n",
    "    \"SQL\": \"SELECT CAST(T2.`Free Meal Count (Ages 5-17)` AS REAL) / T2.`Enrollment (Ages 5-17)` FROM schools AS T1 INNER JOIN frpm AS T2 ON T1.CDSCode = T2.CDSCode WHERE T1.AdmFName1 = 'Kacey' AND T1.AdmLName1 = 'Gibson'\",\n",
    "    \"difficulty\": \"moderate\"\n",
    "  },\n",
    "  {\n",
    "    \"question_id\": 33,\n",
    "    \"db_id\": \"california_schools\",\n",
    "    \"question\": \"If there are any, what are the websites address of the schools with a free meal count of 1,900-2,000 to students aged 5-17? Include the name of the school.\",\n",
    "    \"evidence\": \"\",\n",
    "    \"SQL\": \"SELECT T2.Website, T1.`School Name` FROM frpm AS T1 INNER JOIN schools AS T2 ON T1.CDSCode = T2.CDSCode WHERE T1.`Free Meal Count (Ages 5-17)` BETWEEN 1900 AND 2000 AND T2.Website IS NOT NULL\",\n",
    "    \"difficulty\": \"moderate\"\n",
    "  }\n",
    "```\n",
    "这种数据集我们可以直接转换成alpaca 格式使用，直接对应的就是 question对应 instruction、 input对应的evidence、SQL对应的就是output"
   ]
  },
  {
   "cell_type": "code",
   "execution_count": null,
   "id": "03ede234",
   "metadata": {
    "tags": []
   },
   "outputs": [
    {
     "name": "stdout",
     "output_type": "stream",
     "text": [
      "[\n",
      "    {\n",
      "        \"instruction\": \"What is the free rate for students between the ages of 5 and 17 at the school run by Kacey Gibson?\",\n",
      "        \"input\": \"\",\n",
      "        \"output\": \"SELECT CAST(T2.`Free Meal Count (Ages 5-17)` AS REAL) / T2.`Enrollment (Ages 5-17)` FROM schools AS T1 INNER JOIN frpm AS T2 ON T1.CDSCode = T2.CDSCode WHERE T1.AdmFName1 = 'Kacey' AND T1.AdmLName1 = 'Gibson'\"\n",
      "    }\n",
      "]\n"
     ]
    }
   ],
   "source": [
    "data = {\n",
    "    \"question_id\": 34,\n",
    "    \"db_id\": \"california_schools\",\n",
    "    \"question\": \"What is the free rate for students between the ages of 5 and 17 at the school run by Kacey Gibson?\",\n",
    "    \"evidence\": \"Eligible free rates for students aged 5-17 = `Free Meal Count (Ages 5-17)` / `Enrollment (Ages 5-17)`\",\n",
    "    \"SQL\": \"SELECT CAST(T2.`Free Meal Count (Ages 5-17)` AS REAL) / T2.`Enrollment (Ages 5-17)` FROM schools AS T1 INNER JOIN frpm AS T2 ON T1.CDSCode = T2.CDSCode WHERE T1.AdmFName1 = 'Kacey' AND T1.AdmLName1 = 'Gibson'\",\n",
    "    \"difficulty\": \"moderate\"\n",
    "}\n",
    "\n",
    "# 转换为 Alpaca 格式\n",
    "alpaca_format = [\n",
    "    {\n",
    "        \"instruction\": data[\"question\"],\n",
    "        \"input\": data[\"evidence\"],\n",
    "        \"output\": data[\"SQL\"]\n",
    "    }\n",
    "]\n",
    "import json\n",
    "# json.dumps()：json.dumps()是json模块中的一个函数，用于将Python对象转换为JSON格式的字符串。这个函数的参数sharegpt_format是要被转换的Python对象，通常是一个字典或列表。\n",
    "# indent=4：这个参数指定了输出的JSON字符串的缩进级别。在这里，indent=4表示每个层级的缩进使用4个空格。这使得生成的JSON字符串更加易读，便于查看。\n",
    "print(json.dumps(alpaca_format, indent=4))"
   ]
  },
  {
   "cell_type": "markdown",
   "id": "85ac199e-896e-4791-a272-08c4d291ed5d",
   "metadata": {},
   "source": [
    "- sharegpt格式"
   ]
  },
  {
   "cell_type": "code",
   "execution_count": 2,
   "id": "71645624",
   "metadata": {
    "tags": []
   },
   "outputs": [
    {
     "name": "stdout",
     "output_type": "stream",
     "text": [
      "[\n",
      "    {\n",
      "        \"id\": \"34\",\n",
      "        \"conversations\": [\n",
      "            {\n",
      "                \"from\": \"human\",\n",
      "                \"value\": \"What is the free rate for students between the ages of 5 and 17 at the school run by Kacey Gibson?\"\n",
      "            },\n",
      "            {\n",
      "                \"from\": \"gpt\",\n",
      "                \"value\": \"SELECT CAST(T2.`Free Meal Count (Ages 5-17)` AS REAL) / T2.`Enrollment (Ages 5-17)` FROM schools AS T1 INNER JOIN frpm AS T2 ON T1.CDSCode = T2.CDSCode WHERE T1.AdmFName1 = 'Kacey' AND T1.AdmLName1 = 'Gibson'\"\n",
      "            }\n",
      "        ]\n",
      "    }\n",
      "]\n"
     ]
    }
   ],
   "source": [
    "data = {\n",
    "    \"question_id\": 34,\n",
    "    \"db_id\": \"california_schools\",\n",
    "    \"question\": \"What is the free rate for students between the ages of 5 and 17 at the school run by Kacey Gibson?\",\n",
    "    \"evidence\": \"Eligible free rates for students aged 5-17 = `Free Meal Count (Ages 5-17)` / `Enrollment (Ages 5-17)`\",\n",
    "    \"SQL\": \"SELECT CAST(T2.`Free Meal Count (Ages 5-17)` AS REAL) / T2.`Enrollment (Ages 5-17)` FROM schools AS T1 INNER JOIN frpm AS T2 ON T1.CDSCode = T2.CDSCode WHERE T1.AdmFName1 = 'Kacey' AND T1.AdmLName1 = 'Gibson'\",\n",
    "    \"difficulty\": \"moderate\"\n",
    "}\n",
    "\n",
    "# 转换为 ShareGPT 格式\n",
    "sharegpt_format = [\n",
    "    {\n",
    "        \"id\": str(data[\"question_id\"]),\n",
    "        \"conversations\": [\n",
    "            {\"from\": \"human\", \"value\": data[\"question\"]},\n",
    "            {\"from\": \"gpt\", \"value\": data[\"SQL\"]}\n",
    "        ]\n",
    "    }\n",
    "]\n",
    "\n",
    "import json\n",
    "print(json.dumps(sharegpt_format, indent=4))\n"
   ]
  },
  {
   "cell_type": "markdown",
   "id": "92003e58-7aed-42a4-906a-879c3a0b4011",
   "metadata": {},
   "source": [
    "```json\n",
    "在 LLama_Factory/data/dataset_info.json 文件中提供您的数据集定义，并采用以下格式：\n",
    "对于 alpaca 格式的数据集，其 dataset_info.json 文件中的列应为：\n",
    "\n",
    "\"dataset_name\": {\n",
    "  \"file_name\": \"dataset_name.json\"(自己命名的文件名称及相对路径即可),\n",
    "  \"columns\": {\n",
    "    \"prompt\": \"instruction\",\n",
    "    \"query\": \"input\",\n",
    "    \"response\": \"output\",\n",
    "    \"system\": \"system\"(选填),\n",
    "    \"history\": \"history\"(选填)\n",
    "  }\n",
    "}\n",
    "\n",
    "对于 sharegpt 格式的数据集，dataset_info.json 文件中的列应该包括：\n",
    "\"dataset_name\": {\n",
    "    \"file_name\": \"dataset_name.json\"(自己命名的文件名称及相对路径即可),\n",
    "    \"formatting\": \"sharegpt\",\n",
    "    \"columns\": {\n",
    "      \"messages\": \"conversations\",\n",
    "      \"system\": \"system\"(选填),\n",
    "      \"tools\": \"tools\"(选填)\n",
    "    },\n",
    "    \"tags\": {\n",
    "      \"role_tag\": \"from\",\n",
    "      \"content_tag\": \"value\",\n",
    "      \"user_tag\": \"user\",\n",
    "      \"assistant_tag\": \"assistant\"\n",
    "    }\n",
    "  }\n",
    "```\n",
    "\n",
    "会支持多模态数据集：\n",
    "```json\n",
    "[\n",
    "  {\n",
    "    \"conversations\": [\n",
    "      {\n",
    "        \"from\": \"human\",\n",
    "        \"value\": \"<image>人类指令\"\n",
    "      },\n",
    "      {\n",
    "        \"from\": \"gpt\",\n",
    "        \"value\": \"模型回答\"\n",
    "      }\n",
    "    ],\n",
    "    \"images\": [\n",
    "      \"图像路径（必填）\"\n",
    "    ]\n",
    "  }\n",
    "]\n",
    "```\n",
    "```json\n",
    "[\n",
    "  {\n",
    "    \"conversations\": [\n",
    "      {\n",
    "        \"from\": \"human\",\n",
    "        \"value\": \"<video>人类指令\"\n",
    "      },\n",
    "      {\n",
    "        \"from\": \"gpt\",\n",
    "        \"value\": \"模型回答\"\n",
    "      }\n",
    "    ],\n",
    "    \"videos\": [\n",
    "      \"视频路径（必填）\"\n",
    "    ]\n",
    "  }\n",
    "]\n",
    "```\n",
    "\n",
    "对于上述格式的数据，`dataset_info.json` 中的*数据集描述*应为：\n",
    "\n",
    "```json\n",
    "\"数据集名称\": {\n",
    "  \"file_name\": \"data.json\",\n",
    "  \"formatting\": \"sharegpt\",\n",
    "  \"columns\": {\n",
    "    \"messages\": \"conversations\",\n",
    "    \"videos\": \"videos\"\n",
    "  }\n",
    "}\n",
    "```"
   ]
  },
  {
   "cell_type": "markdown",
   "id": "e7676068-5cca-4faa-968c-0b2094b60e23",
   "metadata": {},
   "source": [
    "<div align=center><img src=\"https://typora-photo1220.oss-cn-beijing.aliyuncs.com/DataAnalysis/muyan/image-20241120112758506.png\" width=100%></div>\n"
   ]
  },
  {
   "cell_type": "markdown",
   "id": "efa5b29f-e9fb-4227-aa79-cf6625c67804",
   "metadata": {},
   "source": [
    "为什么文件中已有的数据注册方式和上边提示的不一样？<br>\n",
    "不同版本适配方式不一样，大家了解就好！"
   ]
  },
  {
   "cell_type": "markdown",
   "id": "4c2d2f0e-709c-48ec-9fa0-689b30e60cbe",
   "metadata": {},
   "source": [
    "进入到LLaMA-Factory/src/llamafactory/data路径下<br>\n",
    "查看parser.py 文件"
   ]
  },
  {
   "cell_type": "markdown",
   "id": "3f896290",
   "metadata": {},
   "source": [
    "<div align=center><img src=\"https://typora-photo1220.oss-cn-beijing.aliyuncs.com/DataAnalysis/muyan/image-20241120112957860.png\" width=100%></div>\n"
   ]
  },
  {
   "cell_type": "markdown",
   "id": "dbcd73cd",
   "metadata": {},
   "source": [
    "这里在当前版本中已经做了字段映射，不需要在配置映射关系，但是配置也没有关系。"
   ]
  },
  {
   "cell_type": "markdown",
   "id": "ba477e82",
   "metadata": {},
   "source": [
    "<div align=center><img src=\"https://typora-photo1220.oss-cn-beijing.aliyuncs.com/DataAnalysis/muyan/image-20241120113323343.png\" width=100%></div>\n"
   ]
  },
  {
   "cell_type": "markdown",
   "id": "7644bb84-b963-4bc0-93e5-efe2cb040c0c",
   "metadata": {},
   "source": [
    "## 2.2 数据处理实战\n",
    "多轮对话数据"
   ]
  },
  {
   "cell_type": "markdown",
   "id": "6b9624e7",
   "metadata": {},
   "source": [
    "<div align=center><img src=\"https://typora-photo1220.oss-cn-beijing.aliyuncs.com/DataAnalysis/muyan/image-20241120115445923.png\" width=100%></div>\n"
   ]
  },
  {
   "cell_type": "code",
   "execution_count": 3,
   "id": "a53a019b",
   "metadata": {
    "tags": []
   },
   "outputs": [
    {
     "name": "stdout",
     "output_type": "stream",
     "text": [
      "[\n",
      "    {\n",
      "        \"conversations\": [\n",
      "            {\n",
      "                \"from\": \"human\",\n",
      "                \"value\": \"Find the name of the department which has the highest average salary of professors.\"\n",
      "            },\n",
      "            {\n",
      "                \"from\": \"gpt\",\n",
      "                \"value\": \"SELECT dept_name FROM instructor GROUP BY dept_name ORDER BY avg(salary) DESC LIMIT 1\"\n",
      "            },\n",
      "            {\n",
      "                \"from\": \"human\",\n",
      "                \"value\": \"Find out the average salary of professors?\"\n",
      "            },\n",
      "            {\n",
      "                \"from\": \"gpt\",\n",
      "                \"value\": \"SELECT avg ( salary )  FROM instructor\"\n",
      "            },\n",
      "            {\n",
      "                \"from\": \"human\",\n",
      "                \"value\": \"Find the average salary of the professors of each department?\"\n",
      "            },\n",
      "            {\n",
      "                \"from\": \"gpt\",\n",
      "                \"value\": \"SELECT avg ( salary ) , dept_name FROM instructor GROUP BY dept_name\"\n",
      "            },\n",
      "            {\n",
      "                \"from\": \"human\",\n",
      "                \"value\": \"Which department has the highest average salary of professors?\"\n",
      "            },\n",
      "            {\n",
      "                \"from\": \"gpt\",\n",
      "                \"value\": \"SELECT dept_name FROM instructor GROUP BY dept_name ORDER BY avg ( salary )  DESC LIMIT 1\"\n",
      "            },\n",
      "            {\n",
      "                \"from\": \"human\",\n",
      "                \"value\": \"Which department has the lowest average salary of professors?\"\n",
      "            },\n",
      "            {\n",
      "                \"from\": \"gpt\",\n",
      "                \"value\": \"SELECT dept_name FROM instructor GROUP BY dept_name ORDER BY avg ( salary )   LIMIT 1\"\n",
      "            },\n",
      "            {\n",
      "                \"from\": \"human\",\n",
      "                \"value\": \"In which department Mr. Mird work for?\"\n",
      "            },\n",
      "            {\n",
      "                \"from\": \"gpt\",\n",
      "                \"value\": \"SELECT dept_name FROM instructor where name  =  'Mird'\"\n",
      "            },\n",
      "            {\n",
      "                \"from\": \"human\",\n",
      "                \"value\": \"How much is the salary Mr. Mird earns currently?\"\n",
      "            },\n",
      "            {\n",
      "                \"from\": \"gpt\",\n",
      "                \"value\": \"SELECT salary FROM instructor where name  =  'Mird'\"\n",
      "            }\n",
      "        ]\n",
      "    }\n",
      "]\n"
     ]
    }
   ],
   "source": [
    "# 查看数据结构cosql_train.json： head -n 800 cosql_train.json\n",
    "data = [\n",
    "    {\n",
    "        \"final\": {\n",
    "            \"utterance\": \"Find the name of the department which has the highest average salary of professors.\",\n",
    "            \"query\": \"SELECT dept_name FROM instructor GROUP BY dept_name ORDER BY avg(salary) DESC LIMIT 1\"\n",
    "        },\n",
    "        \"database_id\": \"college_2\",\n",
    "        \"interaction\": [\n",
    "            {\n",
    "                \"utterance\": \"Find out the average salary of professors?\",\n",
    "                \"utterance_toks\": [\n",
    "                    \"Find\",\n",
    "                    \"out\",\n",
    "                    \"the\",\n",
    "                    \"average\",\n",
    "                    \"salary\",\n",
    "                    \"of\",\n",
    "                    \"professors\",\n",
    "                    \"?\"\n",
    "                ],\n",
    "                \"query\": \"SELECT avg ( salary )  FROM instructor\",\n",
    "                \"query_toks_no_value\": [\n",
    "                    \"select\",\n",
    "                    \"avg\",\n",
    "                    \"(\",\n",
    "                    \"salary\",\n",
    "                    \")\",\n",
    "                    \"from\",\n",
    "                    \"instructor\"\n",
    "                ],\n",
    "                \"sql\": {\n",
    "                    \"from\": {\n",
    "                        \"table_units\": [\n",
    "                            [\n",
    "                                \"table_unit\",\n",
    "                                3\n",
    "                            ]\n",
    "                        ],\n",
    "                        \"conds\": []\n",
    "                    },\n",
    "                    \"select\": [\n",
    "                        False,\n",
    "                        [\n",
    "                            [\n",
    "                                5,\n",
    "                                [\n",
    "                                    0,\n",
    "                                    [\n",
    "                                        0,\n",
    "                                        14,\n",
    "                                        False\n",
    "                                    ],\n",
    "                                    None\n",
    "                                ]\n",
    "                            ]\n",
    "                        ]\n",
    "                    ],\n",
    "                    \"where\": [],\n",
    "                    \"groupBy\": [],\n",
    "                    \"having\": [],\n",
    "                    \"orderBy\": [],\n",
    "                    \"limit\": None,\n",
    "                    \"intersect\": None,\n",
    "                    \"union\": None,\n",
    "                    \"except\": None\n",
    "                }\n",
    "            },\n",
    "            {\n",
    "                \"utterance\": \"Find the average salary of the professors of each department?\",\n",
    "                \"query\": \"SELECT avg ( salary ) , dept_name FROM instructor GROUP BY dept_name\"\n",
    "            },\n",
    "            {\n",
    "                \"utterance\": \"Which department has the highest average salary of professors?\",\n",
    "                \"query\": \"SELECT dept_name FROM instructor GROUP BY dept_name ORDER BY avg ( salary )  DESC LIMIT 1\"\n",
    "\n",
    "            },\n",
    "            {\n",
    "                \"utterance\": \"Which department has the lowest average salary of professors?\",\n",
    "                \"query\": \"SELECT dept_name FROM instructor GROUP BY dept_name ORDER BY avg ( salary )   LIMIT 1\"\n",
    "\n",
    "            },\n",
    "            {\n",
    "                \"utterance\": \"In which department Mr. Mird work for?\",\n",
    "                \"query\": \"SELECT dept_name FROM instructor where name  =  'Mird'\"\n",
    "            },\n",
    "            {\n",
    "                \"utterance\": \"How much is the salary Mr. Mird earns currently?\",\n",
    "                \"query\": \"SELECT salary FROM instructor where name  =  'Mird'\"\n",
    "\n",
    "            }\n",
    "        ]\n",
    "    }\n",
    "]\n",
    "\n",
    "# 初始化一个空列表来存储转换后的对话\n",
    "sharegpt_format = []\n",
    "\n",
    "# 遍历每个条目（在这个例子中只有一个条目）\n",
    "for entry in data:\n",
    "    # 初始化一个空列表来存储当前条目的对话\n",
    "    conversation = []\n",
    "\n",
    "     # 将 final 中的对话添加到对话中\n",
    "    if \"final\" in entry:\n",
    "        conversation.append({\n",
    "            \"from\": \"human\",\n",
    "            \"value\": entry[\"final\"][\"utterance\"]\n",
    "        })\n",
    "        conversation.append({\n",
    "            \"from\": \"gpt\",\n",
    "            \"value\": entry[\"final\"][\"query\"]\n",
    "        })\n",
    "    \n",
    "    # 遍历每个交互\n",
    "    for interaction in entry[\"interaction\"]:\n",
    "        # 将用户的指令添加到对话中\n",
    "        conversation.append({\n",
    "            \"from\": \"human\",\n",
    "            \"value\": interaction[\"utterance\"]\n",
    "        })\n",
    "        \n",
    "        # 将模型的响应添加到对话中\n",
    "        conversation.append({\n",
    "            \"from\": \"gpt\",\n",
    "            \"value\": interaction[\"query\"]\n",
    "        })\n",
    "    \n",
    "    # 将当前对话添加到最终的格式中\n",
    "    sharegpt_format.append({\n",
    "        \"conversations\": conversation\n",
    "    })\n",
    "\n",
    "import json\n",
    "# 将转换后的格式转换为JSON字符串并打印\n",
    "print(json.dumps(sharegpt_format, indent=4))\n",
    "\n"
   ]
  },
  {
   "cell_type": "markdown",
   "id": "90484a79",
   "metadata": {},
   "source": [
    "将上边代码更改后，处理整个文件"
   ]
  },
  {
   "cell_type": "code",
   "execution_count": null,
   "id": "6979f968",
   "metadata": {},
   "outputs": [],
   "source": [
    "# 创建文件 concert_sharegpt.py\n",
    "import json\n",
    "import argparse\n",
    "\n",
    "def convert_to_sharegpt_format(input_file, output_file):\n",
    "    # 读取输入 JSON 文件\n",
    "    with open(input_file, 'r') as file:\n",
    "        data = json.load(file)\n",
    "\n",
    "    # 初始化一个空列表来存储转换后的对话\n",
    "    sharegpt_format = []\n",
    "\n",
    "    # 遍历每个条目（在这个例子中可能有多个条目）\n",
    "    for entry in data:\n",
    "        # 初始化一个空列表来存储当前条目的对话\n",
    "        conversation = []\n",
    "\n",
    "        # 将 final 中的对话添加到对话中\n",
    "        if \"final\" in entry:\n",
    "            conversation.append({\n",
    "                \"from\": \"human\",\n",
    "                \"value\": entry[\"final\"][\"utterance\"]\n",
    "            })\n",
    "            conversation.append({\n",
    "                \"from\": \"gpt\",\n",
    "                \"value\": entry[\"final\"][\"query\"]\n",
    "            })\n",
    "        \n",
    "        # 遍历每个交互\n",
    "        for interaction in entry[\"interaction\"]:\n",
    "            # 将用户的指令添加到对话中\n",
    "            conversation.append({\n",
    "                \"from\": \"human\",\n",
    "                \"value\": interaction[\"utterance\"]\n",
    "            })\n",
    "            \n",
    "            # 将模型的响应添加到对话中\n",
    "            conversation.append({\n",
    "                \"from\": \"gpt\",\n",
    "                \"value\": interaction[\"query\"]\n",
    "            })\n",
    "        \n",
    "        # 将当前对话添加到最终的格式中\n",
    "        sharegpt_format.append({\n",
    "            \"conversations\": conversation\n",
    "        })\n",
    "\n",
    "    # 将转换后的数据写入输出 JSON 文件\n",
    "    with open(output_file, 'w') as output_file_handle:\n",
    "        json.dump(sharegpt_format, output_file_handle, indent=4)\n",
    "\n",
    "if __name__ == \"__main__\":\n",
    "    # 创建 ArgumentParser 对象\n",
    "    parser = argparse.ArgumentParser(description=\"Convert CoSQL train data to ShareGPT format.\")\n",
    "    \n",
    "    # 添加输入文件路径参数\n",
    "    parser.add_argument(\"input_file\", type=str, help=\"Path to the input JSON file (e.g., cosql_train.json)\")\n",
    "    \n",
    "    # 添加输出文件路径参数\n",
    "    parser.add_argument(\"output_file\", type=str, help=\"Path to the output JSON file (e.g., sharegpt_cosql_train.json)\")\n",
    "    \n",
    "    # 解析命令行参数\n",
    "    args = parser.parse_args()\n",
    "    \n",
    "    # 调用转换函数\n",
    "    convert_to_sharegpt_format(args.input_file, args.output_file)\n"
   ]
  },
  {
   "cell_type": "markdown",
   "id": "529c6036",
   "metadata": {},
   "source": [
    "<div align=center><img src=\"https://typora-photo1220.oss-cn-beijing.aliyuncs.com/DataAnalysis/muyan/image-20241120144947963.png\" width=100%></div>\n"
   ]
  },
  {
   "cell_type": "code",
   "execution_count": null,
   "id": "bd3c089b",
   "metadata": {},
   "outputs": [],
   "source": [
    "# 创建文件 convert_alpaca.py 转换alpaca格式代码 单轮对话数据\n",
    "# 使用bird数据https://bird-bench.github.io/\n",
    "\n",
    "import json\n",
    "import argparse\n",
    "\n",
    "def convert_to_alpaca_format(input_file, output_file):\n",
    "    # 读取输入 JSON 文件\n",
    "    with open(input_file, 'r') as file:\n",
    "        data = json.load(file)\n",
    "\n",
    "    # 初始化一个空列表来存储转换后的对话\n",
    "    alpaca_format = []\n",
    "\n",
    "    # 遍历每个条目（在这个例子中可能有多个条目）\n",
    "    for entry in data:\n",
    "        # 将当前条目转换为 Alpaca 格式\n",
    "        alpaca_entry = {\n",
    "            \"instruction\": entry[\"question\"],\n",
    "            \"input\": entry[\"evidence\"],\n",
    "            \"output\": entry[\"SQL\"]\n",
    "        }\n",
    "        \n",
    "        # 将转换后的条目添加到最终的格式中\n",
    "        alpaca_format.append(alpaca_entry)\n",
    "\n",
    "    # 将转换后的数据写入输出 JSON 文件\n",
    "    with open(output_file, 'w') as output_file_handle:\n",
    "        json.dump(alpaca_format, output_file_handle, indent=4)\n",
    "\n",
    "if __name__ == \"__main__\":\n",
    "    # 创建 ArgumentParser 对象\n",
    "    parser = argparse.ArgumentParser(description=\"Convert CoSQL train data to Alpaca format.\")\n",
    "    \n",
    "    # 添加输入文件路径参数\n",
    "    parser.add_argument(\"input_file\", type=str, help=\"Path to the input JSON file (e.g., cosql_train.json)\")\n",
    "    \n",
    "    # 添加输出文件路径参数\n",
    "    parser.add_argument(\"output_file\", type=str, help=\"Path to the output JSON file (e.g., alpaca_cosql_train.json)\")\n",
    "    \n",
    "    # 解析命令行参数\n",
    "    args = parser.parse_args()\n",
    "    \n",
    "    # 调用转换函数\n",
    "    convert_to_alpaca_format(args.input_file, args.output_file)"
   ]
  },
  {
   "cell_type": "markdown",
   "id": "42ab2bf7",
   "metadata": {},
   "source": [
    "<div align=center><img src=\"https://typora-photo1220.oss-cn-beijing.aliyuncs.com/DataAnalysis/muyan/image-20241120153317925.png\" width=100%></div>\n"
   ]
  },
  {
   "cell_type": "markdown",
   "id": "e2b09d1f",
   "metadata": {},
   "source": [
    "## 2.3 数据注册\n",
    "```json \n",
    "注意路径\n",
    "mv download_data/alpaca_dev.json LLaMA-Factory/data/\n",
    "mv download_data/sharegpt_cosql_train.json LLaMA-Factory/data/\n",
    "```"
   ]
  },
  {
   "cell_type": "markdown",
   "id": "499415c4",
   "metadata": {},
   "source": [
    "<div align=center><img src=\"https://typora-photo1220.oss-cn-beijing.aliyuncs.com/DataAnalysis/muyan/image-20241120154636943.png\" width=100%></div>\n"
   ]
  },
  {
   "cell_type": "markdown",
   "id": "9d8319af",
   "metadata": {},
   "source": [
    "- 注册数据文件\n",
    "```json\n",
    "路径：/home/util/muyan/LLaMA-Factory/data\n",
    "vim dataset_info.json\n",
    "\n",
    "\"alpaca_dev\": {\n",
    "    \"file_name\": \"alpaca_dev.json\"\n",
    "  },\n",
    "  \"sharegpt_cosql_train\": {\n",
    "      \"file_name\": \"sharegpt_cosql_train.json\",\n",
    "      \"formatting\": \"sharegpt\",\n",
    "   \"columns\": {\n",
    "     \"messages\": \"conversations\"\n",
    "    }\n",
    "  },\n",
    "```"
   ]
  },
  {
   "cell_type": "markdown",
   "id": "f48d9ad3",
   "metadata": {},
   "source": [
    "<div align=center><img src=\"https://typora-photo1220.oss-cn-beijing.aliyuncs.com/DataAnalysis/muyan/image-20241120162719209.png\" width=100%></div>\n"
   ]
  },
  {
   "cell_type": "markdown",
   "id": "045b35ae-9f26-4d4e-af1c-e2034b41e0e8",
   "metadata": {},
   "source": [
    "- 去界面查看数据集\n",
    "```json\n",
    "注意需要启动llama_factory \n",
    "可以使用上节课命令 \n",
    "export USE_MODELSCOPE_HUB=1\n",
    "export CUDA_VISIBLE_DEVICES=0,1\n",
    "nohup llamafactory-cli webui >20241119.log 2>&1 & \n",
    "\n",
    "访问界面 http://192.168.110.133:7860/ Train标签\n",
    "\n",
    "```\n"
   ]
  },
  {
   "cell_type": "markdown",
   "id": "8127c25a",
   "metadata": {},
   "source": [
    "<div align=center><img src=\"https://typora-photo1220.oss-cn-beijing.aliyuncs.com/DataAnalysis/muyan/image-20241120160311602.png\" width=100%></div>\n"
   ]
  },
  {
   "cell_type": "markdown",
   "id": "b62646d3",
   "metadata": {},
   "source": [
    "点击数据预览进行查看**注意：只能查看第一个数据集的内容**"
   ]
  },
  {
   "cell_type": "markdown",
   "id": "5a357421",
   "metadata": {},
   "source": [
    "<div align=center><img src=\"https://typora-photo1220.oss-cn-beijing.aliyuncs.com/DataAnalysis/muyan/image-20241120160511521.png\" width=100%></div>\n"
   ]
  },
  {
   "cell_type": "markdown",
   "id": "2442ba0d",
   "metadata": {},
   "source": [
    "# 3. 实战数据微调"
   ]
  },
  {
   "cell_type": "markdown",
   "id": "72f2894f",
   "metadata": {},
   "source": [
    "## 3.1 LORA参数详解与实战"
   ]
  },
  {
   "cell_type": "markdown",
   "id": "7dc30ff4",
   "metadata": {},
   "source": [
    "<div align=center><img src=\"https://typora-photo1220.oss-cn-beijing.aliyuncs.com/DataAnalysis/muyan/image-20241120163104300.png\" width=100%></div>\n"
   ]
  },
  {
   "cell_type": "markdown",
   "id": "f4365cc5",
   "metadata": {},
   "source": [
    "<div align=center><img src=\"https://typora-photo1220.oss-cn-beijing.aliyuncs.com/DataAnalysis/muyan/image-20241121165018936.png\" width=100%></div>\n"
   ]
  },
  {
   "cell_type": "markdown",
   "id": "58c45004-eca9-43b9-836b-941eebbe21d8",
   "metadata": {},
   "source": [
    "<div align=center><img src=\"https://typora-photo1220.oss-cn-beijing.aliyuncs.com/DataAnalysis/muyan/image-20241120165601898.png\" width=100%></div>\n"
   ]
  },
  {
   "cell_type": "markdown",
   "id": "560fb588",
   "metadata": {},
   "source": [
    "```json\n",
    "1. 基本配置\n",
    "--stage sft：指定训练阶段，这里是监督微调（Supervised Fine-Tuning, SFT）。\n",
    "--do_train True：指定是否进行训练，True表示进行训练。 false 为不训练\n",
    "--model_name_or_path /home/util/muyan/Qwen/Qwen2.5-7B-Instruct：指定预训练模型的路径。\n",
    "--output_dir saves/Qwen2.5-7B-Instruct/lora/train_2024-11-20-16-00-00：指定输出目录，保存训练结果和日志。\n",
    "\n",
    "2. 数据处理\n",
    "--preprocessing_num_workers 16：指定预处理数据时使用的线程数。提高数据预处理速度，但可能增加CPU和内存资源的消耗，通常是总核数-1或者-2\n",
    "--dataset_dir LLaMA-Factory/data：指定数据集目录。\n",
    "--dataset alpaca_dev,sharegpt_cosql_train：指定使用的数据集，可以是多个数据集，用逗号分隔。\n",
    "--cutoff_len 2048：指定输入序列的最大长度。 调小模型只能处理较短的上下文信息，可能会丢失一些重要的上下文，影响模型的性能，但是性能会节约\n",
    "--max_samples 100000：指定最多使用的样本数量。\n",
    "                    增大：更多的样本可以提供更多的训练信号，有助于模型学习到更丰富的特征和模式，可能提高模型的泛化能力。\n",
    "                    减小：较少的样本可能导致模型过拟合，无法充分学习到数据的多样性，影响模型的泛化能力。\n",
    "\n",
    "3. 训练配置\n",
    "--num_train_epochs 3.0：指定训练的总轮数。\n",
    "    模型会在整个数据集上进行更多的轮次训练，有机会学习到更多细节，提高模型性能，但也可能增加过拟合的风险。\n",
    "--per_device_train_batch_size 2：指定每个设备上的训练批次大小。\n",
    "    更大的批次大小可以提供更稳定的梯度估计，有助于模型收敛，但可能会导致模型过拟合。\n",
    "--gradient_accumulation_steps 8：指定梯度累积步骤数，用于模拟更大的批次大小。\n",
    "    提高模型稳定性，但增加内存使用和训练时间。\n",
    "--learning_rate 5e-05：指定学习率。等价于 0.00005 相当与小数点往前移动了5位数 如果是3e-5 对应的是0.00003，e-6小数点往前移动六位\n",
    "    权重更新的步长可能会太大，导致模型在损失函数的最小值附近震荡，甚至发散，无法收敛到最优解。或者是过拟合状态\n",
    "    反之容易欠拟合很难发挥模型最好性能\n",
    "--lr_scheduler_type cosine：指定学习率调度器类型，这里是余弦退火。帮助模型在接近最优解时进行更细致的调整，提高收敛性和最终的模型性能\n",
    "    Constant:适合于需要稳定学习率的任务，尤其是在模型已经经过预训练并且只需微调的情况下。\n",
    "    Cosine Annealing：训练周期较长的情况下，可以有效避免在训练后期的震荡。\n",
    "--warmup_steps 0：指定学习率预热步数。\n",
    "--max_grad_norm 1.0：指定梯度裁剪的最大范数。\n",
    "    调大会加速收敛，但可能会造成梯度爆炸，小会慢，但是相对收敛速度较慢\n",
    "--logging_steps 5：指定每多少步记录一次日志。\n",
    "    主要记录日志信息，调大会节约空间，小了会详细但是相对花费时间多一些\n",
    "--save_steps 100：指定每多少步保存一次模型检查点。\n",
    "    会做中间节点的保存，调大频率会低，会节约空间，调小保存步骤更加详细。\n",
    "--packing False：指定是否使用打包技术。\n",
    "    True:打包技术可以提高训练效率，尤其是在处理短序列数据时，但可能会增加数据预处理的复杂性。\n",
    "    False:不使用打包技术，训练过程更简单，但可能会因为填充带来的计算浪费而降低效率\n",
    "--report_to none：指定报告训练进度的方式，none表示不报告。\n",
    "    类似TensorBoard 这样的外部系统\n",
    "\n",
    "4. 优化器和混合精度\n",
    "--fp16 True：指定是否使用混合精度训练。\n",
    "    如果显示fp32 则不会有当前命令生成\n",
    "--optim adamw_torch：指定优化器类型，这里是AdamW。 在其他参数设置一栏中进行设置{\"optim\": \"adamw_torch\"}\n",
    "    如 Adam、SGD 会影响模型的收敛速度和最终性能。\n",
    "--ddp_timeout 180000000：指定分布式训练的超时时间。\n",
    "    更大的超时时间可以给进程更多的时间来同步，避免因网络延迟或计算差异导致的训练中断，小了可能因为某些网络动荡而造成中断。\n",
    "\n",
    "5. LoRA 配置\n",
    "--finetuning_type lora：指定微调类型，这里是LoRA（Low-Rank Adaptation）。\n",
    "    选择其他类型会对应变化 例如：freeze\n",
    "--lora_rank 8：指定LoRA的秩。\n",
    "    LoRA 的秩决定了添加的低秩矩阵的大小。秩越小，添加的参数量越少，计算开销也越小。这个需要因微调场景效果来变更\n",
    "--lora_alpha 16：指定LoRA的比例因子。\n",
    "    LoRA 的比例因子（alpha）用于缩放低秩矩阵的贡献。较大的 alpha 值可以使低秩矩阵的贡献更大，从而增强微调的效果。让rank的作用更大，可能会导致过拟合。\n",
    "--lora_dropout 0：指定LoRA的dropout概率。\n",
    "    调大：增加模型的泛化能力，减少过拟合，调小：减少模型的正则化，可能提高模型的表达能力\n",
    "--lora_target all：指定LoRA的目标层，all表示所有层。部分参数微调设置\n",
    "    可以指定特定层调整\n",
    "    q_proj：查询投影层\n",
    "    v_proj：值投影层\n",
    "    k_proj：键投影层\n",
    "    fc：全连接层\n",
    "\n",
    "6. 其他配置\n",
    "--template qwen：指定使用的模板。\n",
    "--flash_attn auto：指定是否使用Flash Attention，auto表示自动选择。\n",
    "--plot_loss True：指定是否绘制损失曲线。\n",
    "```"
   ]
  },
  {
   "cell_type": "markdown",
   "id": "2cf2d643",
   "metadata": {},
   "source": [
    "如果点击保存命令，会将当前命令进行保存，也是启动命令的相对路径中的conf文件夹中"
   ]
  },
  {
   "cell_type": "markdown",
   "id": "24087af1",
   "metadata": {},
   "source": [
    "<div align=center><img src=\"https://typora-photo1220.oss-cn-beijing.aliyuncs.com/DataAnalysis/muyan/image-20241121114636538.png\" width=100%></div>\n"
   ]
  },
  {
   "cell_type": "markdown",
   "id": "2343b376",
   "metadata": {},
   "source": [
    "<div align=center><img src=\"https://typora-photo1220.oss-cn-beijing.aliyuncs.com/DataAnalysis/muyan/image-20241121114408577.png\" width=100%></div>\n"
   ]
  },
  {
   "cell_type": "markdown",
   "id": "fa51680d",
   "metadata": {},
   "source": [
    "<div align=center><img src=\"https://typora-photo1220.oss-cn-beijing.aliyuncs.com/DataAnalysis/muyan/image-20241120165954493.png\" width=100%></div>\n"
   ]
  },
  {
   "cell_type": "markdown",
   "id": "64a73973",
   "metadata": {},
   "source": [
    "<div align=center><img src=\"https://typora-photo1220.oss-cn-beijing.aliyuncs.com/DataAnalysis/muyan/image-20241120163226032.png\" width=100%></div>\n"
   ]
  },
  {
   "cell_type": "markdown",
   "id": "7e5397cf",
   "metadata": {},
   "source": [
    "```json\n",
    "损失曲线的含义\n",
    "1. 横轴（X轴）\n",
    "    表示训练的迭代次数（或训练步数）或训练的epoch数量。\n",
    "    作用：了解模型在训练过程中经历了多少次更新。每个点对应于训练过程中的一个特定时间点。\n",
    "\n",
    "2. 纵轴（Y轴）\n",
    "\n",
    "    纵轴表示损失值（loss），通常是模型在训练集或验证集上的损失函数值。\n",
    "    作用：反映模型的预测与真实标签之间的差距。较低的损失值通常意味着模型的预测效果较好。\n",
    "\n",
    "损失曲线的关系\n",
    "损失值与训练进度：随着训练的进行，损失值通常会逐渐降低，表明模型在学习数据中的模式。如果损失值在训练过程中持续下降，说明模型正在有效地学习。\n",
    "\n",
    "过拟合与欠拟合：\n",
    "\n",
    "欠拟合：如果损失值在训练初期就很高且没有明显下降，可能表明模型未能有效学习数据特征。\n",
    "过拟合：如果训练损失持续下降，而验证损失在某个点后开始上升，说明模型可能在训练集上过拟合，无法很好地泛化到验证集。\n",
    "```\n"
   ]
  },
  {
   "cell_type": "markdown",
   "id": "2bfc7fc5",
   "metadata": {},
   "source": [
    "<div align=center><img src=\"https://typora-photo1220.oss-cn-beijing.aliyuncs.com/DataAnalysis/muyan/image-20241120162952990.png\" width=100%></div>\n"
   ]
  },
  {
   "cell_type": "markdown",
   "id": "c8c21b4d",
   "metadata": {},
   "source": [
    "## 3.2 微调模型验证"
   ]
  },
  {
   "cell_type": "markdown",
   "id": "86985e17-6c0a-4f93-97a2-268a3e9a5a8a",
   "metadata": {},
   "source": [
    "执行完成花费30分钟\n",
    "```json\n",
    "Please list the lowest three eligible free rates for students aged 5-17 in continuation schools.\n",
    "\n",
    "请列出继续教育学校针对5至17岁学生的最低三个免费费率。\n",
    "\n",
    "不加载lora微调块回复译文\n",
    "为了向您提供针对 5-17 岁学生的继续教育学校的最低三个免费费率，我需要有关您所指国家或地区的更多具体信息，因为费率和资格标准可能因地点而异。继续教育学校，也称为替代教育计划，通常是为无法在传统学校环境中取得成功的学生设计的。\n",
    "您可以采取以下一些常规步骤来查找所需的信息：\n",
    "访问教育部门的官方网站：大多数国家/地区都有教育部门的官方网站，提供有关学费、资格标准和学生免费费率的详细信息。\n",
    "联系当地教育当局：联系当地教育委员会或学区以获取有关免费费率和资格的具体信息。\n",
    "```"
   ]
  },
  {
   "cell_type": "markdown",
   "id": "9d503809",
   "metadata": {},
   "source": [
    "<div align=center><img src=\"https://typora-photo1220.oss-cn-beijing.aliyuncs.com/DataAnalysis/muyan/image-20241120170509626.png\" width=100%></div>\n"
   ]
  },
  {
   "cell_type": "markdown",
   "id": "c32080e4",
   "metadata": {},
   "source": [
    "```json\n",
    "Please list the lowest three eligible free rates for students aged 5-17 in continuation schools.\n",
    "\n",
    "请列出继续教育学校针对5至17岁学生的最低三个免费费率。\n",
    "```"
   ]
  },
  {
   "cell_type": "markdown",
   "id": "d5e3e226",
   "metadata": {},
   "source": [
    "<div align=center><img src=\"https://typora-photo1220.oss-cn-beijing.aliyuncs.com/DataAnalysis/muyan/image-20241120170713289.png\" width=100%></div>\n"
   ]
  },
  {
   "cell_type": "markdown",
   "id": "04727352",
   "metadata": {},
   "source": [
    "- 导出模型 再次验证"
   ]
  },
  {
   "cell_type": "markdown",
   "id": "1afbd163",
   "metadata": {},
   "source": [
    "<div align=center><img src=\"https://typora-photo1220.oss-cn-beijing.aliyuncs.com/DataAnalysis/muyan/image-20241120184333747.png\" width=100%></div>\n"
   ]
  },
  {
   "cell_type": "markdown",
   "id": "3d6b4fab",
   "metadata": {},
   "source": [
    "<div align=center><img src=\"https://typora-photo1220.oss-cn-beijing.aliyuncs.com/DataAnalysis/muyan/image-20241120192142143.png\" width=100%></div>\n"
   ]
  },
  {
   "cell_type": "markdown",
   "id": "0508d0d2",
   "metadata": {},
   "source": [
    "- 模型效果校验："
   ]
  },
  {
   "cell_type": "markdown",
   "id": "76377585",
   "metadata": {},
   "source": [
    "<div align=center><img src=\"https://typora-photo1220.oss-cn-beijing.aliyuncs.com/DataAnalysis/muyan/image-20241120172554506.png\" width=100%></div>\n"
   ]
  },
  {
   "cell_type": "markdown",
   "id": "02e95524",
   "metadata": {},
   "source": [
    "``` json\n",
    "llamafactory-cli train \\\n",
    "    --stage sft \\\n",
    "    --model_name_or_path /home/util/muyan/Qwen/Qwen2.5-7B-Instruct \\\n",
    "    --preprocessing_num_workers 16 \\\n",
    "    --finetuning_type lora \\\n",
    "    --quantization_method bitsandbytes \\\n",
    "    --template qwen \\\n",
    "    --flash_attn auto \\\n",
    "    --dataset_dir LLaMA-Factory/data \\\n",
    "    --eval_dataset alpaca_dev \\\n",
    "    --cutoff_len 1024 \\\n",
    "    --max_samples 100000 \\\n",
    "    --per_device_eval_batch_size 2 \\\n",
    "    --predict_with_generate True \\ \n",
    "            指定是否在评估时生成文本。\n",
    "    --max_new_tokens 512 \\\n",
    "    --top_p 0.7 \\\n",
    "    --temperature 0.95 \\\n",
    "    --output_dir saves/Qwen2.5-7B-Instruct/lora/eval_2024-11-21-11-15-39 \\\n",
    "    --do_predict True \\ \n",
    "        指定是否执行预测\n",
    "    --adapter_name_or_path saves/Qwen2.5-7B-Instruct/lora/train_2024-11-21-00-11-43 \n",
    "        指定适配器的名称或路径\n",
    "```\n"
   ]
  },
  {
   "cell_type": "markdown",
   "id": "d83dabbb",
   "metadata": {},
   "source": [
    "<div align=center><img src=\"https://typora-photo1220.oss-cn-beijing.aliyuncs.com/DataAnalysis/muyan/image-20241120174004641.png\" width=100%></div>\n"
   ]
  },
  {
   "cell_type": "markdown",
   "id": "932a76b1",
   "metadata": {},
   "source": [
    "<div align=center><img src=\"https://typora-photo1220.oss-cn-beijing.aliyuncs.com/DataAnalysis/muyan/image-20241120174231670.png\" width=100%></div>\n"
   ]
  },
  {
   "cell_type": "markdown",
   "id": "58185694",
   "metadata": {},
   "source": [
    "```json\n",
    "    \"predict_bleu-4\": 68.6033162109375 衡量生成文本与参考文本的相似度\n",
    "    \"predict_model_preparation_time\": 0.0025 模型准备阶段时间，加载模型和数据预处理的时间。\n",
    "    \"predict_rouge-1\": 83.42888736979167  成文本与参考文本在单个词（1-gram）层面的重叠度。\n",
    "    \"predict_rouge-2\": 65.1310234375\n",
    "    \"predict_rouge-l\": 70.65214381510417  最长公共子序列层面的重叠度较高\n",
    "    \"predict_runtime\": 698.5279 评估运行时间\n",
    "    \"predict_samples_per_second\": 2.196  每秒处理的样本数\n",
    "    \"predict_steps_per_second\": 0.55 每秒处理的步数，每个 batch 上的前向传播和后向传播的次数\n",
    "```"
   ]
  },
  {
   "cell_type": "markdown",
   "id": "13e8d55b",
   "metadata": {},
   "source": [
    "<div align=center><img src=\"https://typora-photo1220.oss-cn-beijing.aliyuncs.com/DataAnalysis/muyan/image-20241120180144333.png\" width=100%></div>\n"
   ]
  },
  {
   "cell_type": "markdown",
   "id": "e0e28a48",
   "metadata": {},
   "source": [
    "## 3.3 使用deepspeed 微调模型"
   ]
  },
  {
   "cell_type": "markdown",
   "id": "3eb960de",
   "metadata": {},
   "source": [
    "```json\n",
    "ZeRO Stage 1 对优化器状态进行分片（sharding），每个进程只保留其所需的优化器状态的一部分。\n",
    "ZeRO Stage 2 对优化器状态和梯度进行分片，进一步减少内存占用。\n",
    "ZeRO Stage 3 对优化器状态、梯度和模型参数进行分片。\n",
    "\n",
    "DeepSpeed Offload 将部分计算和数据存储任务从 GPU 卸载到 CPU 或 NVMe 存储。 释放 GPU 内存，使得可以训练更大的模型。\n",
    "\n",
    "省资源但是花费时间较多\n",
    "```"
   ]
  },
  {
   "cell_type": "markdown",
   "id": "899f8ac1",
   "metadata": {},
   "source": [
    "<div align=center><img src=\"https://typora-photo1220.oss-cn-beijing.aliyuncs.com/DataAnalysis/muyan/image-20241120180643778.png\" width=100%></div>\n"
   ]
  },
  {
   "cell_type": "markdown",
   "id": "44feafce",
   "metadata": {},
   "source": [
    "生成命令只增加了deepspeed cache/ds_z3_offload_config.json\n",
    "```json\n",
    "llamafactory-cli train \\\n",
    "    --stage sft \\\n",
    "    --do_train True \\\n",
    "    --model_name_or_path /home/util/muyan/Qwen/Qwen2.5-7B-Instruct \\\n",
    "    --preprocessing_num_workers 16 \\\n",
    "    --finetuning_type lora \\\n",
    "    --template qwen \\\n",
    "    --flash_attn auto \\\n",
    "    --dataset_dir LLaMA-Factory/data \\\n",
    "    --dataset alpaca_dev,sharegpt_cosql_train \\\n",
    "    --cutoff_len 2048 \\\n",
    "    --learning_rate 5e-05 \\\n",
    "    --num_train_epochs 3.0 \\\n",
    "    --max_samples 100000 \\\n",
    "    --per_device_train_batch_size 2 \\\n",
    "    --gradient_accumulation_steps 8 \\\n",
    "    --lr_scheduler_type cosine \\\n",
    "    --max_grad_norm 1.0 \\\n",
    "    --logging_steps 5 \\\n",
    "    --save_steps 100 \\\n",
    "    --warmup_steps 0 \\\n",
    "    --packing False \\\n",
    "    --report_to none \\\n",
    "    --output_dir saves/Qwen2.5-7B-Instruct/lora/train_2024-11-20-18-17-40 \\\n",
    "    --fp16 True \\\n",
    "    --plot_loss True \\\n",
    "    --ddp_timeout 180000000 \\\n",
    "    --optim adamw_torch \\\n",
    "    --lora_rank 8 \\\n",
    "    --lora_alpha 16 \\\n",
    "    --lora_dropout 0 \\\n",
    "    --lora_target all \\\n",
    "    --deepspeed cache/ds_z3_offload_config.json\n",
    "```"
   ]
  },
  {
   "cell_type": "markdown",
   "id": "9be05bce",
   "metadata": {},
   "source": [
    "节约训练资源"
   ]
  },
  {
   "cell_type": "markdown",
   "id": "767dc27d",
   "metadata": {},
   "source": [
    "<div align=center><img src=\"https://typora-photo1220.oss-cn-beijing.aliyuncs.com/DataAnalysis/muyan/image-20241121004957496.png\" width=100%></div>\n"
   ]
  },
  {
   "cell_type": "markdown",
   "id": "d866da7f",
   "metadata": {},
   "source": [
    "对应时间会加长"
   ]
  },
  {
   "cell_type": "markdown",
   "id": "00fc81d0",
   "metadata": {},
   "source": [
    "<div align=center><img src=\"https://typora-photo1220.oss-cn-beijing.aliyuncs.com/DataAnalysis/muyan/image-20241121005107776.png\" width=100%></div>\n"
   ]
  },
  {
   "cell_type": "markdown",
   "id": "bf49fa97",
   "metadata": {},
   "source": [
    "测试使用deepspeed微调后原生能力"
   ]
  },
  {
   "cell_type": "markdown",
   "id": "c63a13ac",
   "metadata": {},
   "source": [
    "<div align=center><img src=\"https://typora-photo1220.oss-cn-beijing.aliyuncs.com/DataAnalysis/muyan/image-20241121103522090.png\" width=100%></div>\n"
   ]
  },
  {
   "cell_type": "markdown",
   "id": "7d131911",
   "metadata": {},
   "source": [
    "对应sql生成能力"
   ]
  },
  {
   "cell_type": "markdown",
   "id": "70856d9c",
   "metadata": {},
   "source": [
    "<div align=center><img src=\"https://typora-photo1220.oss-cn-beijing.aliyuncs.com/DataAnalysis/muyan/image-20241121103404411.png\" width=100%></div>\n"
   ]
  },
  {
   "cell_type": "markdown",
   "id": "69f55c54",
   "metadata": {},
   "source": [
    "- 注意事项：<br>\n",
    "```json\n",
    "    官网推荐deepspeed==0.14.0 \n",
    "    但是实际匹配应用会对应版本pip install deepspeed==0.14.5 \n",
    "\n",
    "    切记切记不要用最新的deepspeed 版本，最新的是0.15 会将其余包更改版本进行强制替换。引起其他错误。\n",
    "```"
   ]
  },
  {
   "cell_type": "markdown",
   "id": "2500b49e",
   "metadata": {},
   "source": [
    "- 当前deepspeed==0.14.0 的异常"
   ]
  },
  {
   "cell_type": "markdown",
   "id": "1bc8e57e",
   "metadata": {},
   "source": [
    "<div align=center><img src=\"https://typora-photo1220.oss-cn-beijing.aliyuncs.com/DataAnalysis/muyan/image-20241120191902098.png\" width=100%></div>\n"
   ]
  },
  {
   "cell_type": "markdown",
   "id": "198a7c14",
   "metadata": {},
   "source": [
    "- 当前deepspeed==0.14.4 的异常"
   ]
  },
  {
   "cell_type": "markdown",
   "id": "fb40835a",
   "metadata": {},
   "source": [
    "<div align=center><img src=\"https://typora-photo1220.oss-cn-beijing.aliyuncs.com/DataAnalysis/muyan/image-20241120193621193.png\" width=100%></div>\n"
   ]
  },
  {
   "cell_type": "markdown",
   "id": "40d63aa9",
   "metadata": {},
   "source": [
    "- 模型命令保存"
   ]
  },
  {
   "cell_type": "markdown",
   "id": "7cf9f0ef",
   "metadata": {},
   "source": [
    "<div align=center><img src=\"https://typora-photo1220.oss-cn-beijing.aliyuncs.com/DataAnalysis/muyan/image-20241121114636538.png\" width=100%></div>\n"
   ]
  },
  {
   "cell_type": "markdown",
   "id": "f1783722",
   "metadata": {},
   "source": [
    "<div align=center><img src=\"https://typora-photo1220.oss-cn-beijing.aliyuncs.com/DataAnalysis/muyan/image-20241121114408577.png\" width=100%></div>\n"
   ]
  },
  {
   "cell_type": "markdown",
   "id": "72b69d33",
   "metadata": {},
   "source": [
    "# 4. 总结"
   ]
  },
  {
   "cell_type": "markdown",
   "id": "821c02cf",
   "metadata": {},
   "source": [
    "<div align=center><img src=\"https://typora-photo1220.oss-cn-beijing.aliyuncs.com/DataAnalysis/muyan/image-20241121161225317.png\" width=100%></div>\n"
   ]
  },
  {
   "cell_type": "markdown",
   "id": "883e304d",
   "metadata": {},
   "source": []
  }
 ],
 "metadata": {
  "kernelspec": {
   "display_name": "Python 3 (ipykernel)",
   "language": "python",
   "name": "python3"
  },
  "language_info": {
   "codemirror_mode": {
    "name": "ipython",
    "version": 3
   },
   "file_extension": ".py",
   "mimetype": "text/x-python",
   "name": "python",
   "nbconvert_exporter": "python",
   "pygments_lexer": "ipython3",
   "version": "3.11.5"
  }
 },
 "nbformat": 4,
 "nbformat_minor": 5
}
