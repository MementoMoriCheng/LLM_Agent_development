{
 "cells": [
  {
   "cell_type": "markdown",
   "id": "dc4bd867-c4ba-4817-92d9-3124e0075b66",
   "metadata": {},
   "source": [
    "# <center> 大模型微调概述 <center>"
   ]
  },
  {
   "cell_type": "markdown",
   "id": "098ff8d6-082c-4b55-a422-88780908f164",
   "metadata": {},
   "source": [
    "# 1. 什么是通用大模型？"
   ]
  },
  {
   "cell_type": "markdown",
   "id": "a3b75dc0-b56c-45d6-936a-5cd8cf510540",
   "metadata": {},
   "source": [
    "```json\n",
    "    大模型（Large Model）是指在深度学习中具有大量参数和复杂结构的机器学习模型，通常用于处理复杂的任务，如自然语言处理、计算机视觉和语音识别等。这些模型的参数数量通常在数亿到数千亿之间，能够从海量数据中学习到丰富的特征和模式。\n",
    "```"
   ]
  },
  {
   "cell_type": "markdown",
   "id": "18414592-ce7c-4ad5-8cf0-9af80748800c",
   "metadata": {
    "tags": []
   },
   "source": [
    "1. 按照应用领域分类"
   ]
  },
  {
   "cell_type": "markdown",
   "id": "51e6fd75-7528-4861-a058-30af91d1fc8f",
   "metadata": {
    "tags": []
   },
   "source": [
    "&emsp;&emsp;语言大模型（NLP）：专注于自然语言处理任务，如文本生成、问答和翻译。例如，GPT系列（如GPT-3、GPT-4）、BERT、T5等。"
   ]
  },
  {
   "cell_type": "markdown",
   "id": "82d1d830-c0a9-4946-825c-e5fa9d40d997",
   "metadata": {
    "tags": []
   },
   "source": [
    "<div align=center><img src=\"https://typora-photo1220.oss-cn-beijing.aliyuncs.com/DataAnalysis/muyan/image-20241112155609700.png\" width=50%></div>"
   ]
  },
  {
   "cell_type": "markdown",
   "id": "69e98387-2f36-4c67-bf37-0310092b9c39",
   "metadata": {
    "tags": []
   },
   "source": [
    "&emsp;&emsp;视觉大模型（CV）：用于图像处理和分析的模型，如图像分类、目标检测等。例如，ResNet、VGG、Vision Transformer（ViT）等。"
   ]
  },
  {
   "cell_type": "markdown",
   "id": "dbaee65a-d571-4753-aa11-2968c53d90e1",
   "metadata": {
    "tags": []
   },
   "source": [
    "<div align=center><img src=\"https://typora-photo1220.oss-cn-beijing.aliyuncs.com/DataAnalysis/muyan/image-20241108113950439.png\" width=30%></div>"
   ]
  },
  {
   "cell_type": "markdown",
   "id": "85802f8d-92b7-4179-961c-5d81e5193f49",
   "metadata": {
    "tags": []
   },
   "source": [
    "&emsp;&emsp;多模态大模型：能够处理多种类型数据（如文本、图像、音频）的模型。例如，CLIP（结合图像和文本的理解）和DALL-E（生成图像的模型）等。"
   ]
  },
  {
   "cell_type": "markdown",
   "id": "76f4956a-2860-4d02-a8c6-84771400fa4e",
   "metadata": {
    "tags": []
   },
   "source": [
    "<div align=center><img src=\"https://typora-photo1220.oss-cn-beijing.aliyuncs.com/DataAnalysis/muyan/image-20241108114250947.png\" width=30%></div>"
   ]
  },
  {
   "cell_type": "markdown",
   "id": "8d499836-2991-4d09-a82b-a152714a1401",
   "metadata": {
    "tags": []
   },
   "source": [
    "2. 按照模型规模分类"
   ]
  },
  {
   "cell_type": "markdown",
   "id": "2599ea2d-8e34-4d44-aab8-9d8007825d38",
   "metadata": {
    "tags": []
   },
   "source": [
    "<div align=center><img src=\"https://typora-photo1220.oss-cn-beijing.aliyuncs.com/DataAnalysis/muyan/image-20241108114800486.png\" width=60%></div>"
   ]
  },
  {
   "cell_type": "markdown",
   "id": "b3d40ade-ce72-4888-bd13-fe6408cc4f4d",
   "metadata": {
    "tags": []
   },
   "source": [
    "&emsp;&emsp;通用大模型：可以在多个领域和任务上通用的大模型，具有较强的泛化能力。使得在不同的应用场景中都能发挥作用，相当于AI的“通识教育”。"
   ]
  },
  {
   "cell_type": "markdown",
   "id": "e88036be-a1be-4321-9a7b-d3e07dc8624c",
   "metadata": {
    "tags": []
   },
   "source": [
    "&emsp;&emsp;行业大模型：针对特定行业或领域进行优化的大模型，通常使用行业相关的数据进行预训练或微调。能够更好地理解行业特有的术语、数据和上下文，从而提供更精准的结果。"
   ]
  },
  {
   "cell_type": "markdown",
   "id": "c49c85c3-7636-4705-ad13-99b5be00de94",
   "metadata": {
    "tags": []
   },
   "source": [
    "&emsp;&emsp;垂直大模型：专注于某一行业特定任务或场景的大模型，通常使用任务相关的数据进行训练，以提高在该任务上的性能。导致在特定应用场景中表现优异，但在其他领域的适用性可能较低。"
   ]
  },
  {
   "cell_type": "markdown",
   "id": "29d7dcbd-5f26-4c29-83c6-2f39762df267",
   "metadata": {},
   "source": [
    "# 2. 大模型微调企业应用与发展"
   ]
  },
  {
   "cell_type": "markdown",
   "id": "451d85f9-f317-4648-9fdf-f21ffe51937e",
   "metadata": {},
   "source": [
    "## 2.1 微调的前景"
   ]
  },
  {
   "cell_type": "markdown",
   "id": "b6ec2a23-1947-4e7d-8d17-fc70e7d5b683",
   "metadata": {},
   "source": [
    "<div align=center><img src=\"https://typora-photo1220.oss-cn-beijing.aliyuncs.com/DataAnalysis/muyan/image-20241109204248228.png\" width=80%></div>"
   ]
  },
  {
   "cell_type": "markdown",
   "id": "dbd1e4ec-b843-4da2-b2b1-481cb810bd3e",
   "metadata": {},
   "source": [
    "<div align=center><img src=\"https://typora-photo1220.oss-cn-beijing.aliyuncs.com/DataAnalysis/muyan/image-20241109204427507.png\" width=80%></div>"
   ]
  },
  {
   "cell_type": "markdown",
   "id": "27bc2d38-18e9-4cbc-bd3c-3c4b07923835",
   "metadata": {},
   "source": [
    "<div align=center><img src=\"https://typora-photo1220.oss-cn-beijing.aliyuncs.com/DataAnalysis/muyan/image-20241109205017447.png\" width=80%></div>"
   ]
  },
  {
   "cell_type": "markdown",
   "id": "c5678141-3833-463c-9dc3-26a706a74ae8",
   "metadata": {},
   "source": [
    "```json\n",
    "    大模型微调技术对于一家希望利用大模型进行创新的公司非常重要，或者说只要想用大模型好好的为一个行业领域或者公司服务，模型微调都是`必不可少的一环`。\n",
    "```"
   ]
  },
  {
   "cell_type": "markdown",
   "id": "833d98a5-a150-4e5c-be48-f5441b5a1cf4",
   "metadata": {},
   "source": [
    "```json\n",
    "    微调为什么这么重要？\n",
    "```"
   ]
  },
  {
   "cell_type": "markdown",
   "id": "0827bb25-850a-4bff-bc30-53699be3058b",
   "metadata": {},
   "source": [
    "<div align=center><img src=\"https://typora-photo1220.oss-cn-beijing.aliyuncs.com/DataAnalysis/muyan/image-20241112155622513.png\" width=80%></div>"
   ]
  },
  {
   "cell_type": "markdown",
   "id": "b52a1b34-5995-4b54-9c26-892e6522b350",
   "metadata": {},
   "source": [
    "```json\n",
    "    1、适应特定领域问答\n",
    "    经过预训练的基座模型虽然可以完成很多任务，比如回答问题、总结数据、编写代码等。但是，并没有一个模型可以解决所有的问题，尤其是行业内的专业问答、关于某个组织自身的信息等，是通用大模型所无法触及的。在这种情况下，就需要使用特定的数据集，对合适的基座模型进行微调，以完成特定的任务、回答特定的问题等。在这种情况下，微调就成了重要的手段。 为什么大模型不能很很好地的回答特定场景的问题？\n",
    "\n",
    "    2、基础数据缺少特定领域的数据\n",
    "    其根本原理在于，机器学习模型只能够代表它所接收到的数据集的逻辑和理解，而对于其没有获得的数据样本，其并不能很好地识别/理解，所以对于大模型而言，就无法很好地回答特定场景下的问题。\n",
    "    例如，一个通用大模型涵盖了许多语言信息，并能够进行流畅的对话。但是如果需要医药方面能够很好地回答患者问题的应用，就需要为这个通用大模型提供很多新的数据以供学习和理解。例如，布洛芬到底能否和感冒药同时吃？有没有什么注意事项？为了确定模型可以回答正确，我们就需要对基础模型进行微调使其更好的解答相关领域问题。\n",
    "```"
   ]
  },
  {
   "cell_type": "markdown",
   "id": "573ed895-146c-43b7-b6fb-bfd97829f9b9",
   "metadata": {},
   "source": [
    "<div align=center><img src=\"https://typora-photo1220.oss-cn-beijing.aliyuncs.com/DataAnalysis/muyan/image-20241108120729375.png\" width=40%></div>"
   ]
  },
  {
   "cell_type": "markdown",
   "id": "9978f7c2-9fef-4cff-b17e-7b6d704eb76e",
   "metadata": {},
   "source": [
    "```json\n",
    "    3、预训练成本高(对比下微调就是`花小钱办大事`)\n",
    "     计算资源需求：大型模型的训练需要大量的计算资源，通常依赖于高性能的GPU（图形处理单元）或TPU（张量处理单元）。这些硬件设备的采购和维护成本非常高，尤其是在训练过程中需要长时间运行时。 电力消耗、 数据处理和存储（海量的数据，数据的收集、清洗和存储等多个环节。数据的获取和管理也需要投入大量的时间和资源）、研发和人力成本（专业的团队，包括数据科学家、工程师和研究人员）\n",
    "\n",
    "    谷歌的T5模型：训练110亿参数的T5模型的单次运行成本超过130万美元。如果考虑到多次运行和其他小模型的训练，整个项目的成本可能达到1000万美元。BERT模型：1.1亿参数的BERT模型训练成本在0.25万到5万美元之间，而15亿参数的BERT模型训练成本则在8万到160万美元之间\n",
    "```"
   ]
  },
  {
   "cell_type": "markdown",
   "id": "96c4ae90-5fcd-4966-b05e-c9f0c5dcd8f0",
   "metadata": {},
   "source": [
    "<div align=center><img src=\"https://typora-photo1220.oss-cn-beijing.aliyuncs.com/DataAnalysis/muyan/image-20241108121034691.png\" width=30%></div>"
   ]
  },
  {
   "cell_type": "markdown",
   "id": "5d56bc52-5da8-4bef-a4b9-e0d08612d8c2",
   "metadata": {},
   "source": [
    "```json\n",
    "    4、数据安全与隐私\n",
    "    许多应用场景中，数据的安全性和隐私保护至关重要。使用预训练模型时，数据通常需要上传到云端进行处理，这可能带来数据泄露的风险。通过在本地进行微调，可以避免将敏感数据上传到云端，从而确保数据的安全和隐私。\n",
    "    这对于金融、医疗等对数据安全有严格要求的行业尤为重要。\n",
    "\n",
    "    5、降低计算成本\n",
    "    prompt过长时大模型会进行截断，会导致上下文理解不完整，直接影响大模型推理结果，相对提示词到上限后也会影响大模型响应效果与对应token所需要的费用。微调后大模型对指定领域相对会比较熟悉，从而可以使用简洁的提示，减少token的输入，降低使用成本的同时也会让大模型响应更快。\n",
    "\n",
    "最终目的：`将通用模型转变为专用模型`，弥合通用预训练模型与特定应用需求之间的差距，确保语言模型更贴近人类的期望\n",
    "```"
   ]
  },
  {
   "cell_type": "markdown",
   "id": "356ca019-07d9-4134-8cb3-638e75a221f5",
   "metadata": {
    "tags": []
   },
   "source": [
    "## 2.2 模型微调的场景与案例\n",
    "```json\n",
    "    1. 特定任务需求\n",
    "    行业特定应用：如医疗、金融、法律等，微调可以帮助模型学习行业特有的术语和知识。例如，医疗领域的模型需要通过学习专业知识才能能够回答患者的具体问题。\n",
    "    文本分类和情感分析：社交媒体评论的情感分类。通过微调模型，使其能够识别评论是正面、负面还是中性，帮助企业了解用户反馈并改进产品或服务。\n",
    "\n",
    "    2. 数据集较小的情况\n",
    "    当可用的数据集较小且与预训练模型的任务存在较大差异时，微调可以帮助模型更好地适应新任务。通过使用特定领域的数据进行微调，模型能够在小样本情况下提高对当前专业的处理性能。\n",
    "    例如：当企业推出新产品时，可能只有有限的用户反馈数据。通过微调大模型，企业可以在小样本数据上进行训练，使模型能够有效地分析用户对新产品的反馈，识别潜在问题和改进建议。\n",
    "\n",
    "    3. 语言风格和个性化需求\n",
    "    希望模型生成的文本具有特定的语言风格或个性。例如，企业希望其客服机器人能够使用更友好的语气与客户交流，微调后使得客服机器人在回答问题时更加友好和幽默，又或者说希望模型使用方言回答。\n",
    "\n",
    "    4. 复杂的业务规则\n",
    "    通用大模型不具有对某一行业复杂业务规则的推断与监督，微调可以使模型学习这些规则，从而在实际应用中更好地执行业务流程。例如，在线银行业务需要遵循特定的审核流程和规则。通过使用合规相关的数据集对模型进行微调，使其能够识别和标记潜在的合规风险，如可疑交易或不符合规定的客户行为。\n",
    "\n",
    "    5. 提高模型的准确性和泛化能力\n",
    "    当现有模型在特定任务上的表现不理想时，微调可以通过引入新的数据和任务特定的训练来提升模型的准确性和泛化能力。例如：在线教育平台的自动评分系统：在线教育平台可以微调大模型，使其能够更准确地评估学生的作业和考试。通过使用历史评分数据对模型进行微调，提升其在特定学科和题型上的评分准确性。\n",
    "```"
   ]
  },
  {
   "cell_type": "markdown",
   "id": "9bea9fc9-b8dd-4389-9f9b-5b09f025cf66",
   "metadata": {},
   "source": [
    "## 各行业微调模型的案例"
   ]
  },
  {
   "cell_type": "markdown",
   "id": "c09b0d40-3198-48f8-a56a-f73a75f5e00f",
   "metadata": {},
   "source": [
    "医学类：[本草](https://github.com/SCIR-HI/Huatuo-Llama-Med-Chinese?tab=readme-ov-file)"
   ]
  },
  {
   "cell_type": "markdown",
   "id": "b0519a13-c5c8-4892-ae72-8eefc5f4f2be",
   "metadata": {},
   "source": [
    "<div align=center><img src=\"https://typora-photo1220.oss-cn-beijing.aliyuncs.com/DataAnalysis/muyan/image-20241111173840167.png\" width=50%></div>\n",
    "<div align=center><img src=\"https://typora-photo1220.oss-cn-beijing.aliyuncs.com/DataAnalysis/muyan/image-20241111173941312.png\" width=30%></div>\n"
   ]
  },
  {
   "cell_type": "markdown",
   "id": "291d86ac-9744-46d7-a568-e5fe84cfba63",
   "metadata": {},
   "source": [
    "```json\n",
    "    基座模型：LLaMA-7B, Chinese-LLaMA-Alpaca, ChatGLM-6B\n",
    "    数据：\n",
    "    公开和自建的中文医学知识库\n",
    "    2023年关于肝癌疾病的中文医学文献，利用GPT3.5接口围绕医学文献多轮问答数据\n",
    "    算力：\n",
    "    A100-SXM-80GB，10 epochs, 2h17m, batch_size=128\n",
    "    院校：哈尔滨工业大学社会计算与信息检索研究中心健康智能组\n",
    "```"
   ]
  },
  {
   "cell_type": "markdown",
   "id": "ddee6a1b-1481-437a-8eca-23bfac72478d",
   "metadata": {},
   "source": [
    "法律类：[LaWGPT](https://github.com/pengxiao-song/LaWGPT)"
   ]
  },
  {
   "cell_type": "markdown",
   "id": "92d9f2f1-add9-413d-88c6-ddcfd09b3f1b",
   "metadata": {},
   "source": [
    "<div align=center><img src=\"https://typora-photo1220.oss-cn-beijing.aliyuncs.com/DataAnalysis/muyan/image-20241111174222059.png\" width=50%></div>\n",
    "<div align=center><img src=\"https://typora-photo1220.oss-cn-beijing.aliyuncs.com/DataAnalysis/muyan/image-20241111174237267.png\" width=30%></div>"
   ]
  },
  {
   "cell_type": "markdown",
   "id": "cbc31829-5668-434d-a7b8-5faa3416ae96",
   "metadata": {},
   "source": [
    "```json\n",
    "基础模型: Chinese-Alpaca-Plus-7B\n",
    "    数据:\n",
    "    https://github.com/pengxiao-song/awesome-chinese-legal-resources\n",
    "    官方数据\n",
    "    中国检查网：起诉书等\n",
    "    中国裁判文书网：裁决书、裁定书、决定书等\n",
    "    中国法律智能技术评测（CAIL）历年赛题数据\n",
    "\n",
    "    算力: 8 x NVIDIA Tesla V100 32GB, 24h/epoch (pre-training), 12/epoch (fine-tuning)\n",
    "    院校: 南京大学\n",
    "```"
   ]
  },
  {
   "cell_type": "markdown",
   "id": "259219a9-e35f-4111-873b-fb48b77a4e3f",
   "metadata": {},
   "source": [
    "金融类：[FinGPT](https://github.com/AI4Finance-Foundation/FinGPT)"
   ]
  },
  {
   "cell_type": "markdown",
   "id": "1ea87d3b-cd9b-47b4-810a-998160208054",
   "metadata": {},
   "source": [
    "<div align=center><img src=\"https://typora-photo1220.oss-cn-beijing.aliyuncs.com/DataAnalysis/muyan/image-20241111174358917.png\" width=50%></div>\n",
    "<div align=center><img src=\"https://typora-photo1220.oss-cn-beijing.aliyuncs.com/DataAnalysis/muyan/image-20241111174426798.png\" width=30%></div>"
   ]
  },
  {
   "cell_type": "markdown",
   "id": "a8a87c3c-df74-424a-99c1-3432cab64940",
   "metadata": {},
   "source": [
    "```json\n",
    "基座模型:\n",
    "    FinGPT v1\n",
    "        ChatGLM-6B + LoRA\n",
    "    FinGPT v2\n",
    "        LLaMA-7B + LoRA\n",
    "数据:Reuters、CNBC、东方财富、Financial Modeling Prep、Twitter、Facebook 等\n",
    "```"
   ]
  },
  {
   "cell_type": "markdown",
   "id": "42c92a41-f370-4121-9bc7-83b522deda66",
   "metadata": {},
   "source": [
    "# 3. 大模型微调的必要性"
   ]
  },
  {
   "cell_type": "markdown",
   "id": "6e135b1a-f941-4166-a770-60dd3de49e1a",
   "metadata": {},
   "source": [
    "## 3.1 微调与RAG的区别"
   ]
  },
  {
   "cell_type": "markdown",
   "id": "2dff3a3b-eeec-4387-8544-d04f08f7ae3e",
   "metadata": {},
   "source": [
    "<div align=center><img src=\"https://typora-photo1220.oss-cn-beijing.aliyuncs.com/DataAnalysis/muyan/image-20241112155640821.png\" width=60%></div>\n"
   ]
  },
  {
   "cell_type": "markdown",
   "id": "a0dd5737-0684-4624-99d9-47d94bcb89ff",
   "metadata": {},
   "source": [
    "```json\n",
    "RAG:主要整合的是对知识库内容进行整合、汇总后输出。\n",
    "```"
   ]
  },
  {
   "cell_type": "markdown",
   "id": "60e1ae3f-d8a7-4072-8e74-ed89fa9006dd",
   "metadata": {},
   "source": [
    "<div align=center><img src=\"https://typora-photo1220.oss-cn-beijing.aliyuncs.com/DataAnalysis/muyan/image-20241112155928610.png\" width=60%></div>"
   ]
  },
  {
   "cell_type": "markdown",
   "id": "49faa37d-bb0f-4abe-9a67-c671623b75ec",
   "metadata": {},
   "source": [
    "```json\n",
    "微调：是对定制化模型的问答，是模型学习到的内容\n",
    "```"
   ]
  },
  {
   "cell_type": "markdown",
   "id": "d9a1181b-c591-42fa-aca9-8a68001bc227",
   "metadata": {},
   "source": [
    "```json\n",
    "都是对行业知识内的问答：我该怎么选？\n",
    "```\n",
    "| 场景 |   RAG   |    微调 |\n",
    "| :--- | :--- | ---: |\n",
    "| 动态数据 | ✅ |  |\n",
    "| 成本 | ✅ |  |\n",
    "| 可解释性 | ✅ |  |\n",
    "| 场景需要通用能力 | ✅ |  |\n",
    "| 特色能力 |  | ✅ |\n",
    "| 延迟 |  | ✅ |\n",
    "| 微智能设备 |  | ✅ |\n",
    "| 模型幻觉 | ✅ | ✅ |"
   ]
  },
  {
   "cell_type": "markdown",
   "id": "e063500c-5777-4a00-b8c4-8d8aae73622d",
   "metadata": {},
   "source": [
    "```json\n",
    "场景一：医学论文整理\n",
    "    1、了解医学领域相关知识：微调\n",
    "    2、依赖整理能力：微调\n",
    "\n",
    "场景二：智慧库房\n",
    "    1、需要经常更新库房清单：RAG\n",
    "    2、具有正常对话能力：RAG\n",
    "\n",
    "场景三：智慧销售\n",
    "    1、经常更新产品数据：RAG\n",
    "    2、销售语气让人感到舒适有特色：微调\n",
    "```"
   ]
  },
  {
   "cell_type": "markdown",
   "id": "73940352-afc6-473d-b48c-fa0f38c69015",
   "metadata": {},
   "source": [
    "## 3.2 微调与其他技术方向的区别与联系"
   ]
  },
  {
   "cell_type": "markdown",
   "id": "087d7ebc-46a4-48a3-a21b-24f29862217e",
   "metadata": {},
   "source": [
    "```json\n",
    "大模型市场应用划分\n",
    "```"
   ]
  },
  {
   "cell_type": "markdown",
   "id": "116be655-f5ba-47f5-911f-ee80b58da91f",
   "metadata": {},
   "source": [
    "| 技术阶段                | 面向人群               | 技术积累                                                                                     | 应用场景                           | 特征总结                         |\n",
    "|-------------------------|------------------------|----------------------------------------------------------------------------------------------|------------------------------------|----------------------------------|\n",
    "| 提示工程 (Prompt Engineering) | 终端用户             | 对ChatGPT等应用的提示词有基本的了解和使用                                                   | 文本生成、机器翻译等              | 门槛低，易于上手                 |\n",
    "| AI智能体 (Agents)       | 大模型应用开发人员     | 了解大模型基础原理和理论，熟悉特定领域的业务逻辑和流程                                       | 自动客服、虚拟助手                 | 侧重于交互性和用户体验           |\n",
    "| 大模型微调 (Fine-tuning) | 领域模型研发、私有化团队开发人员 | 掌握神经网络和机器学习概念，有数据处理和模型训练经验                                         | 语义理解、领域知识学习             | 通用性强、性价比高               |\n",
    "| 预训练技术 (Pre-training) | 大模型研究开发人员、数据科学家 | 熟悉深度学习原理和网络架构，有大规模数据处理和模型训练经验                                   | 多模态学习、语言模型预训练         | 前期投入大、效果显著             |"
   ]
  },
  {
   "cell_type": "markdown",
   "id": "e598eb78-c712-40d4-88e6-2719ddb317de",
   "metadata": {},
   "source": [
    "```json\n",
    "从技术开发角度上：\n",
    "    预训练是一个小学生。\n",
    "    微调大模型就相当于一个具有写作能力的小学生。\n",
    "    提示工程就是老师给出的文章大纲，希望学生按照这个格式输出。\n",
    "    Agents就是学生可以使用的工具：百度、书籍等。\n",
    "提示工程、agents的工具本质上都是来服务于大模型，如果大模型本身具有期望领域的能力，输出的效果会更好。三个融合在一起才能在指定领域发挥出最好的效果。\n",
    "\n",
    "就好比专门学文科学生A、普通学生B、专门学理科的C来写一首散文诗，同样大纲、有限且相同工具写出来的效果一定是A>B>C ，B如果想要写出与A相同水平的散文诗就要使用更好的提示词以及更丰富的工具才行。\n",
    "```"
   ]
  },
  {
   "cell_type": "markdown",
   "id": "bf08a501-1b2e-4b86-addf-5cf17b3e4eea",
   "metadata": {},
   "source": [
    "# 4.怎么去微调模型"
   ]
  },
  {
   "cell_type": "markdown",
   "id": "91c774fe-4857-4f76-896e-96acffdd1b15",
   "metadata": {},
   "source": [
    "## 4.1微调的步骤"
   ]
  },
  {
   "cell_type": "markdown",
   "id": "6208d6bf-a869-4922-9f8c-664c7d9872c1",
   "metadata": {},
   "source": [
    "<div align=center><img src=\"https://typora-photo1220.oss-cn-beijing.aliyuncs.com/DataAnalysis/muyan/image-20241111194613622.png\" width=80%></div>"
   ]
  },
  {
   "cell_type": "markdown",
   "id": "b5075360-538d-4d31-9d0f-b36f8fed7a6e",
   "metadata": {},
   "source": [
    "```json\n",
    "1. 选择预训练模型\n",
    "选择一个在大规模数据集上预训练好的模型，如BERT、GPT等。\n",
    "\n",
    "2. 准备新任务数据集\n",
    "收集并处理与特定任务相关的数据集，包括训练集、验证集和测试集。\n",
    "\n",
    "3. 设置微调参数及方法\n",
    "根据任务特性和模型特点，设置合适的微调参数，如学习率、批处理大小、训练轮次等。\n",
    "\n",
    "4. 进行微调训练\n",
    "在新任务数据集上对预训练模型进行进一步训练，通过调整模型权重和参数来优化模型在新任务上的性能。\n",
    "\n",
    "5. 评估与调优\n",
    "使用验证集对微调后的模型进行评估，并根据评估结果调整模型结构和参数，直到达到满意的性能。\n",
    "\n",
    "6. 模型部署\n",
    "将微调后的模型部署到实际的应用场景中，以实现模型的实用价值。\n",
    "```"
   ]
  },
  {
   "cell_type": "markdown",
   "id": "34e78a9a-c11b-4ce5-a6d0-28ed4d22d451",
   "metadata": {},
   "source": [
    "## 4.2 微调的必备条件"
   ]
  },
  {
   "cell_type": "markdown",
   "id": "4c0f9430-db34-4cf7-9420-aed90fd527b9",
   "metadata": {},
   "source": [
    "<div align=center><img src=\"https://typora-photo1220.oss-cn-beijing.aliyuncs.com/DataAnalysis/muyan/image-20241112151752268.png\" width=80%></div>"
   ]
  },
  {
   "cell_type": "markdown",
   "id": "e773fa4f-02dc-4bcb-b4f4-6925395f80f1",
   "metadata": {},
   "source": [
    "```json\n",
    "1、理论基础：大部分开发人员不需要完全理解每个算法的推导过程，但是至少知道每个微调方向的区别和原理，最低也要把他当成一个盲盒知道扔进去一组数据会产生什么样的输出。\n",
    "2、工具运用：微调的热度催生了很多框架，操作界面友好大大降低了代码门槛，这部分至少要掌握一种框架。如果可以最好基于原生模型进行微调，会更加清楚的了解大模型微调的全生命周期。增加微调的印象处理异常会更加得心应手。\n",
    "3、应用实践：开发人员必备技能，会让程序输出效果更好、鲁棒性更强程序更有适应性。例如国产芯片部署、适配企业的模型选型。\n",
    "```"
   ]
  },
  {
   "cell_type": "markdown",
   "id": "d18cab89-1b6b-4fae-9467-b32ae0fac570",
   "metadata": {},
   "source": [
    "# 5. 大模型微调方向概述"
   ]
  },
  {
   "cell_type": "markdown",
   "id": "9c84f8d9-6601-4149-b902-ce3d76283da9",
   "metadata": {},
   "source": [
    "## 5.1 微调模型的范围"
   ]
  },
  {
   "cell_type": "markdown",
   "id": "e608ef17-3197-4a3b-a76f-4f41e0ca6f2d",
   "metadata": {},
   "source": [
    "<div align=center><img src=\"https://typora-photo1220.oss-cn-beijing.aliyuncs.com/DataAnalysis/muyan/image-20241111122224249.png\" width=50%></div>"
   ]
  },
  {
   "cell_type": "markdown",
   "id": "fa1c8b1b-3c0d-441e-8790-0894d62feb45",
   "metadata": {},
   "source": [
    "```json\n",
    "市面上绝大部分开源模型都可以微调\n",
    "选择原则：最好能支持私有服务器部署及线下微调，数据是非常敏感的信息，大部分公司对数据保密性要求非常高，线上训练及闭源代码通常会将数据传给第三方，传输过程可能会有数据泄露的风险，不要因为一时便捷引起数据泄露的风险。\n",
    "线上微调：大部分使用对数据保密要求不那么强烈的情况。\n",
    "```"
   ]
  },
  {
   "cell_type": "markdown",
   "id": "a94660e5-3b64-41f6-b742-f3433a8675e2",
   "metadata": {},
   "source": [
    "## 5.2 根据微调方法分类"
   ]
  },
  {
   "cell_type": "markdown",
   "id": "250f8c05-9bc3-40f6-88e8-959fa46a65b1",
   "metadata": {},
   "source": [
    "### 全量微调（Full Fine-tuning） <br>"
   ]
  },
  {
   "cell_type": "markdown",
   "id": "08d88bbd-6ca7-402c-ab29-bfa0c20e3637",
   "metadata": {},
   "source": [
    "```json\n",
    "    全量微调是指在预训练好的大模型基础上，针对特定任务或特定数据集进行进一步的训练，来适应新的任务需求。预训练模型通常在大规模数据上进行了广泛的训练，已经具备了一定的通用知识和特征提取能力。通过全量微调，可以将这些通用知识迁移到特定任务上，从而提高模型在该任务上的性能。\n",
    "\n",
    "主要调整内容：\n",
    "1. 模型参数\n",
    "    所有层的权重：预训练模型的所有层（包括嵌入层、隐藏层、输出层等）的权重都会在微调过程中进行更新。每一层的所有部分都会根据提供的数据进行优化。\n",
    "    偏置项：除了权重外，每个神经元的偏置项也会被调整。\n",
    "2. 任务特定的输出层调整：通常情况下，预训练模型的输出层不适合特定任务。因此，需要在预训练模型的基础上添加任务特定的输出层。\n",
    "3. 学习率：初始学习率通常设置得较小，以避免破坏预训练模型的权重。\n",
    "4.损失函数.......\n",
    "\n",
    "优点：\n",
    "    充分利用预训练模型的通用知识，减少从零开始训练所需的时间和资源。数据集较小情况下性能较为好\n",
    "缺点：\n",
    "    计算资源大，数据集较小情况下，容易导致过拟合，大规模数据集上消耗时间长。\n",
    "```"
   ]
  },
  {
   "cell_type": "markdown",
   "id": "de438682-534a-47aa-9856-29825c969427",
   "metadata": {},
   "source": [
    "### 部分微调-高效微调（Parameter-Efficient Fine-Tuning, PEFT） <br>\n"
   ]
  },
  {
   "cell_type": "markdown",
   "id": "c9bb82af-9342-48d3-980b-4d910bcd2c77",
   "metadata": {},
   "source": [
    "#### 模型中间层方向 <br>"
   ]
  },
  {
   "cell_type": "markdown",
   "id": "450da902-3f09-4349-b86e-7d067713dbcd",
   "metadata": {},
   "source": [
    "```json\n",
    "冻结微调（Frozen Fine-tuning）\n",
    "    定义：只更新模型的顶层或少数几层，而保持预训练模型的底层参数不变。\n",
    "    应用场景：目标任务与预训练模型之间有一定相似性，或者任务数据集较小。但是微调性能很难达到最佳。\n",
    "逐层微调（Layer-wise Fine-tuning）\n",
    "    定义：从顶层开始，逐渐向底层推进。这种方法允许更细粒度地控制模型的调整过程，直到所有层都被微调。\n",
    "    应用场景：适用于需要精细调整模型的任务。但是需要多次调整与训练，且花费时间较长\n",
    "动态微调（Dynamic Fine-tuning）\n",
    "    定义：在微调过程中动态调整学习率、批量大小等超参数，以优化模型性能。\n",
    "    应用场景：适用于需要高性能和高精度的任务。实现方式复杂且对资源要求较高\n",
    "```"
   ]
  },
  {
   "cell_type": "markdown",
   "id": "f529d151-22c1-474f-af22-7304ad883699",
   "metadata": {},
   "source": [
    "#### 提示词方向 <br>"
   ]
  },
  {
   "cell_type": "markdown",
   "id": "6ea5dbc2-d3f3-41ff-a900-83b278077c61",
   "metadata": {},
   "source": [
    "前缀微调(Prefix-tuning)：<br>"
   ]
  },
  {
   "cell_type": "markdown",
   "id": "5ca13952-62e4-4ab5-a449-3cb41c1cb8aa",
   "metadata": {},
   "source": [
    "<div align=center><img src=\"https://typora-photo1220.oss-cn-beijing.aliyuncs.com/DataAnalysis/muyan/image-20241110105329845.png\" width=50%></div>"
   ]
  },
  {
   "cell_type": "markdown",
   "id": "7aa7b726-6c1a-4c63-9bfe-14cf4b6eb2d4",
   "metadata": {},
   "source": [
    "&emsp;&emsp;理论方法：冻结原有预训练模型，在transformer的每一层增加一个神经网络来引导大模型行每一层针对这个这个特定任务进行指导性输出与权重倾斜计算。当\n",
    "有点类似于大模型刚开始时候，大家不知道怎么使用大模型，怎么给提示让大模型更好理解我们想法，索性针对专项方向比如图片生成类型、生成范围等直接进行框选，让模型专门来处理这种问题。不用大家一条一条的去试提示词。\n",
    "\n",
    "假设我们有一个任务，要求模型生成一个描述图片的句子。输入为[\"这张图片的内容是：\", \"图片内容\"]\n",
    "\n",
    "初始化前缀向量：<br>\n",
    "&emsp;&emsp;增加前缀向量”这是一辆家用小轿车“，假设向量化后 [p1, p2, p3]。<br>\n",
    "输入序列：<br>\n",
    "&emsp;&emsp;将前缀向量和输入文本一起传递给模型。<br>\n",
    "&emsp;&emsp;例如：[p1, p2, p3, \"这张图片的内容是：\", \"图片内容\"]。<br>\n",
    "训练过程：<br>\n",
    "&emsp;&emsp;将输入序列传递给预训练模型，进行前向传播和反向传播。<br>\n",
    "&emsp;&emsp;优化前缀向量 [p1, p2, p3]，以最小化任务的损失函数。<br>\n",
    "&emsp;&emsp;[p1, p2, p3]优化计算后变为[p1*, p2*, p3*]<br>\n",
    "优化后的输入序列：<br>\n",
    "&emsp;&emsp;[p1*, p2*, p3*, \"这张图片的内容是：\", \"图片内容\"]，其中 [p1*, p2*, p3*] 是优化后的前缀向量作为默认整体进行输入。<br>\n",
    "\n"
   ]
  },
  {
   "cell_type": "markdown",
   "id": "72a5aaf7-e1ca-48ba-a5d2-29cdf176e5f7",
   "metadata": {},
   "source": [
    "提示微调（Prompt Tuning）<br>"
   ]
  },
  {
   "cell_type": "markdown",
   "id": "87a7439b-ec3f-4146-b091-bc601c1fb917",
   "metadata": {},
   "source": [
    "<div align=center><img src=\"https://typora-photo1220.oss-cn-beijing.aliyuncs.com/DataAnalysis/muyan/image-20241110112254944.png\" width=50%></div>"
   ]
  },
  {
   "cell_type": "markdown",
   "id": "67d92cb0-7f1a-42ba-a86a-c390cab767b2",
   "metadata": {},
   "source": [
    "&emsp;&emsp;通过设计和优化输入提示（prompt）来引导模型生成所需输出，而不对模型进行重新训练。<br>\n",
    "使用固定的一种或者几种提示词，对这种录入的提示词进行优化训练，使得大模型对这类提示词输出效果更优秀，当用户输入了其中一种完全相同的提示词，会让模型输出的效果更好更稳定。<br>\n",
    "```json\n",
    "    对比prefix 每一层都进行增加前缀，当前只用了在输入层增加了embedding前缀，减少了耦合性直接将一种或者多种提示词针对项目进行匹配与向量化，方便模型更好理解用户输入与处理方向。相对训练容易些并且泛化及增加新项目训练成本较小。\n",
    "```\n",
    "\n",
    "示例：假设我们有一个任务，要求模型生成一个描述图片的句子。[\"这张关于家用小轿车图片的内容是：\", \"图片内容\"]\n",
    "初始化提示：<br>\n",
    "&emsp;&emsp;选择一个固定的文本提示，如 \"这张关于家用小轿车图片的内容是：\" 。<br>\n",
    "嵌入参数：<br>\n",
    "&emsp;&emsp;将提示转换为嵌入向量，例如 [e1, e2, e3, e4]。<br>\n",
    "训练过程：<br>\n",
    "&emsp;&emsp;将提示嵌入向量和输入文本一起传递给模型。<br>\n",
    "&emsp;&emsp;优化提示嵌入向量，以最小化任务的损失函数。<br>\n",
    "最终训练出：\"这张关于家用小轿车图片的内容是：\"的最优向量不再是[e1, e2, e3, e4] 而是 [e1*, e2*, e3*, e4*]<br>\n",
    "输入序列：<br>\n",
    "&emsp;&emsp;[\"这张关于家用小轿车图片的内容是：\", \"图片内容\"]<br>\n",
    "优化后的输入序列：<br>\n",
    "&emsp;&emsp;[e1*, e2*, e3*, e4*, \"图片内容\"]，其中 [e1*, e2*, e3*, e4*] 是优化后的嵌入向量直接替代了原始\"这张图片的内容是:\"这句话。<br>\n"
   ]
  },
  {
   "cell_type": "markdown",
   "id": "b5a8253c-918f-4b31-8105-0ec828a57a57",
   "metadata": {},
   "source": [
    "P-tuning:<br>"
   ]
  },
  {
   "cell_type": "markdown",
   "id": "08518142-ca55-4a85-a5b3-8fa4b2817a79",
   "metadata": {},
   "source": [
    "<div align=center><img src=\"https://typora-photo1220.oss-cn-beijing.aliyuncs.com/DataAnalysis/muyan/image-20241110115518721.png\" width=80%></div>"
   ]
  },
  {
   "cell_type": "markdown",
   "id": "b3955814-bb34-4d63-907c-c45160a3529d",
   "metadata": {},
   "source": [
    "```json\n",
    "    prompt tuning与prefix tuning比较融易产生强耦合并且只适用于指定场景，限制范围也比较多。\n",
    "    p-tuning开始另外的思考，不适用外部加载方式对提示进行生成后让模型二次理解，直接在输入层对当前输入系列进行向量化，就会让一个词在整个模型里不同组合与定位描述的更加丰富，对这个主题理解也更加丰富。直接对这个主题进行向量化嵌入到模型中就行了。就采取了`连续提示嵌入+离散提示`。连续提示嵌入就比如这是一辆车，车的定义就会是有轮子、有座位带发动机.... 。这些定义粉笔生成向量在大模型输入层进行存储，等用户输入信息会将这些输入与用户写的提示词统一输入，让模型来理解，相对理解场景更加泛化与全面。\n",
    "\n",
    "假设我们有一个任务，要求模型生成一个描述图片的句子。[\"这张图片的内容是：\", \"图片内容\"]\n",
    "\n",
    "初始化向量：\n",
    "     这是一辆有四个车轮，真皮座椅的家用轿车：[v1, v2, v3]。\n",
    "离散提示：\n",
    "    选择一个固定的文本提示，如 \"这张图片的内容是：\"。\n",
    "输入序列：\n",
    "    将连续提示嵌入和离散提示组合成输入序列。\n",
    "    例如：[v1, v2, v3, \"这张图片的内容是：\"]。\n",
    "训练过程：\n",
    "    将输入序列传递给预训练模型，进行前向传播和反向传播。\n",
    "    优化连续提示嵌入 [v1, v2, v3]，以最小化任务的损失函数。\n",
    "优化后的输入序列：\n",
    "    [v1*, v2*, v3*, \"这张图片的内容是：\"]，其中 [v1*, v2*, v3*] 是优化后的向量。\n",
    "\n",
    "```"
   ]
  },
  {
   "cell_type": "markdown",
   "id": "8520aa41-0313-4094-bf84-b49b57053304",
   "metadata": {},
   "source": [
    "\n",
    "P-tuning v2<br>\n",
    "\n",
    "\n"
   ]
  },
  {
   "cell_type": "markdown",
   "id": "3ca5c646-0dc0-444a-beb6-ec1fd5553c12",
   "metadata": {
    "tags": []
   },
   "source": [
    "<div align=center><img src=\"https://typora-photo1220.oss-cn-beijing.aliyuncs.com/DataAnalysis/muyan/image-20241110122532825.png\" width=80%></div>\n"
   ]
  },
  {
   "cell_type": "markdown",
   "id": "32765249-6c43-4b09-b6ca-96980ada39b4",
   "metadata": {},
   "source": [
    "```json\n",
    "    p-tuning在大模型效果是很好地，但是在小模型效果较差，小模型参数小完全固定参数对效果就会有很大的影响。\n",
    "    算力资源现在是非常稀缺的，单纯使用堆参数构建的大模型是没有意义的，就好像世界上第一台电脑到现在的笔记本电脑、手机等产品，小模型才是大家卷的方向也是未来发展的方向。为了适应未来的发展p-tuning进行了改进成为了p-tuning2。\n",
    "    与p-tuning的区别是不会仅在输入层进行向量化，而是在所有transform层都进行向量化嵌入，同时对初始化策略进行优化，减少对初始化向量权重的敏感性，方便模型自我调整。\n",
    "```"
   ]
  },
  {
   "cell_type": "markdown",
   "id": "724a5449-558a-4bc4-92fb-cab813142bf7",
   "metadata": {},
   "source": [
    "### 外部引入方向 <br>\n",
    "\n"
   ]
  },
  {
   "cell_type": "markdown",
   "id": "49d44a79-ebf3-4595-af04-9840b8e74ce2",
   "metadata": {
    "tags": []
   },
   "source": [
    "适配器微调（Adapter Tuning）\n"
   ]
  },
  {
   "cell_type": "markdown",
   "id": "67bac907-8746-492c-8dd5-2cc16114790a",
   "metadata": {},
   "source": [
    "<div align=center><img src=\"https://typora-photo1220.oss-cn-beijing.aliyuncs.com/DataAnalysis/muyan/image-20241110163736809.png\" width=50%></div>"
   ]
  },
  {
   "cell_type": "markdown",
   "id": "b60f4e67-5cdf-4da2-a5dd-289f450cfe22",
   "metadata": {
    "tags": []
   },
   "source": [
    "```json\n",
    "    通过在预训练模型中插入适配器模块（Adapters）来实现对特定任务的适应，不需要更新整个模型的参数，适配器模块插入到各个层中，每个模块都仅有少量参数组成。适配器模块主要通过非线性的方式将高纬度数值映射为低纬度，然后再将关键的低纬度数值映射到高纬度中方便大模型的编译计算。同时使用跳跃连接方式保证，如果适配器初始参数过会直接从输入到输出，来保证模型有效。\n",
    "   因原理是在大模型不同层次中插入适配器多个适配器可以存在同一模型中，每种适配器可以处理单独的一类问题，同一模型中可以插入不同的适配器模块，能够同时处理多种不同的任务。\n",
    "   因这种需要直接插入到模型层级中，导致训练复杂度与设计度较高。比较容易产生过拟合等问题。\n",
    "```"
   ]
  },
  {
   "cell_type": "markdown",
   "id": "c7e444c6-b6ec-457c-aa9e-2caf66c42d6a",
   "metadata": {
    "tags": []
   },
   "source": [
    "低秩矩阵微调Lora(Low-Rank Adaptation)"
   ]
  },
  {
   "cell_type": "markdown",
   "id": "3e3b5d65-16af-4d4d-9f73-c394880fb521",
   "metadata": {
    "tags": []
   },
   "source": [
    "<div align=center><img src=\"https://typora-photo1220.oss-cn-beijing.aliyuncs.com/DataAnalysis/muyan/image-20241110165413671.png\" width=50%></div>"
   ]
  },
  {
   "cell_type": "markdown",
   "id": "af6eaa0e-ae81-432c-8e1b-d8c0c2c8cff3",
   "metadata": {
    "tags": []
   },
   "source": [
    "```json\n",
    "    LoRA 的核心思想是将预训练模型的权重矩阵分解为两个低秩矩阵的乘积。假设原有矩阵权重为W微调过程中拆解成两个低秩矩阵A、B的乘积，冻结原有矩阵`+`两个低秩矩阵的乘积来适应新的任务。\n",
    "   优点：减少了训练参数数量，从而降低了计算和存储成本。资源少的情况下依然可以进行模型微调。灵活行较高能使用多种场景。\n",
    "   缺点：有一定技术复杂性相对全参调整需要多次尝试与实验。\n",
    "```"
   ]
  },
  {
   "cell_type": "markdown",
   "id": "23e71bed-fde2-4c5b-9e8c-beb2c7a40021",
   "metadata": {},
   "source": [
    "#### 强化学习 <br>"
   ]
  },
  {
   "cell_type": "markdown",
   "id": "120b385f-f6b7-4793-8505-228814693663",
   "metadata": {},
   "source": [
    "### 人类反馈的强化学习（Reinforcement Learning from Human Feedback，RLHF） <br>"
   ]
  },
  {
   "cell_type": "markdown",
   "id": "4124457f-49dd-4032-a99b-6cb74c159ae2",
   "metadata": {},
   "source": [
    "\n",
    "\n",
    "<div align=center><img src=\"https://typora-photo1220.oss-cn-beijing.aliyuncs.com/DataAnalysis/muyan/image-20241110181708019.png\" width=50%></div>\n",
    "\n"
   ]
  },
  {
   "cell_type": "markdown",
   "id": "ab13d11a-d69b-46db-b053-7a40f89423e2",
   "metadata": {},
   "source": [
    "\n",
    "\n",
    "<div align=center><img src=\"https://typora-photo1220.oss-cn-beijing.aliyuncs.com/DataAnalysis/muyan/image-20241112155300423.png\" width=50%></div>\n",
    "\n"
   ]
  },
  {
   "cell_type": "markdown",
   "id": "9e65c633-760b-4413-bfd0-1029241ee3ab",
   "metadata": {},
   "source": [
    "\n",
    "\n",
    "<div align=center><img src=\"https://typora-photo1220.oss-cn-beijing.aliyuncs.com/DataAnalysis/muyan/image-20241112155317305.png\" width=50%></div>\n",
    "\n"
   ]
  },
  {
   "cell_type": "markdown",
   "id": "7ec5dee1-0893-4f26-a961-2df247b6ac2f",
   "metadata": {},
   "source": [
    "```json\n",
    "第一步：训练监督策略模型\n",
    "    从提示词数据集中取样一个提示词：首先，从包含各种提示词的数据集中随机选取一个提示词作为初始输入。\n",
    "    数据标记工程师给出期望的输出行为：然后，由人工标注员为这个提示词提供一个期望的故事内容或结构，这将作为模型的目标输出。\n",
    "    通过监督学习微调：接下来，使用监督学习的方法对模型进行微调，使其能够基于提供的提示词生成接近于预期结果的故事。\n",
    "第二步：训练奖励模型\n",
    "    取样一个提示词和模型多个输出：在这个阶段，再次从数据集抽取一个提示词，并让模型产生多个不同的故事版本。\n",
    "    数据标记工程师给出优劣排序：人工标注员会对这些不同版本的故事进行评估并按质量高低进行排序。\n",
    "    训练奖励模型：最后，用这些带有评分的故事样本去训练一个奖励模型，该模型学会预测哪些故事更符合人类的标准。\n",
    "第三步：采用近端策略优化进行强化学习\n",
    "    从提示词数据集取样一个新的提示词：继续从数据集中获取新的提示词作为下一个迭代的基础。\n",
    "    PPO模型由模型初始化：使用之前训练好的模型开始生成故事。\n",
    "    模型生成一个输出：模型尝试根据新提示词生成一个完整的故事。\n",
    "    奖励模型计算输出奖励值：接着，奖励模型会评价这个新生成的故事，并给出相应的分数。\n",
    "    利用PPO算法结合奖励更新策略：最后，通过Proximal Policy Optimization (PPO)算法，结合奖励模型的反馈来调整模型的行为，使得它在未来能够生成更加高质量的故事。\n",
    "\n",
    "  人工标注花费成本太高产生了——》`AI反馈强化学习(RLAIH)`相当于大模型替代了人工标记的工作。\n",
    "```"
   ]
  },
  {
   "cell_type": "markdown",
   "id": "72969682-9fc1-42bc-b067-183862880a1f",
   "metadata": {},
   "source": [
    "#### PPO(近端优化策略) <br>"
   ]
  },
  {
   "cell_type": "markdown",
   "id": "1ebf4187-daad-469a-8bca-167ca435422b",
   "metadata": {},
   "source": [
    "```json\n",
    "    引入了策略网络与价值网络的概念。通过策略网络生成动作的概率分布。使用价值网络估计当前状态的价值函数，即从当前状态开始的期望累积奖励。\n",
    "    在每个训练周期（epoch）内，使用当前策略在环境中收集一批经验（状态、动作、奖励、下一状态等）。在环境内进行交互，并且将每一次循环后的经验存储在一个缓冲区方便后续迭代累计使用。\n",
    "    通过限制每次更新的幅度来提高训练的稳定性，比较适合处理复杂的决策任务。\n",
    "```"
   ]
  },
  {
   "cell_type": "markdown",
   "id": "1635e87d-dd0a-4a80-b1ea-2bdae5074999",
   "metadata": {},
   "source": [
    "#### DPO（直接偏好优化）<br>"
   ]
  },
  {
   "cell_type": "markdown",
   "id": "f6f1b2b9-fcd4-4c3f-8535-5823572aa60f",
   "metadata": {},
   "source": [
    "```json\n",
    "    通过直接利用人类的偏好数据来优化模型。与传统的强化学习方法（如RLHF）不同，DPO不需要构建复杂的奖励模型，而是通过比较不同输出的优劣来进行训练。\n",
    "    DPO的核心在于创建一个包含人类偏好的数据集，每个数据对由一个提示和两个可能的输出（一个是首选，另一个是不受欢迎）组成。模型通过最大化生成首选输出的概率，同时最小化生成不受欢迎输出的概率来进行微调。这一过程可以看作是一个分类问题，模型的目标是提高对首选输出的生成概率，并降低对不受欢迎输出的生成概率\n",
    "```"
   ]
  },
  {
   "cell_type": "markdown",
   "id": "5866265e-05f9-47be-b8c2-b7fe1c388cc4",
   "metadata": {},
   "source": [
    "<div align=center><img src=\"https://typora-photo1220.oss-cn-beijing.aliyuncs.com/DataAnalysis/muyan/image-20241109220434359.png\" width=50%></div>"
   ]
  },
  {
   "cell_type": "markdown",
   "id": "05f43bbd-a8a2-4988-b7b9-b09dc173d083",
   "metadata": {},
   "source": [
    "# 6.主流微调框架"
   ]
  },
  {
   "cell_type": "markdown",
   "id": "5db8eda5-215b-47b1-bf2f-a836f927ebb9",
   "metadata": {},
   "source": [
    "<div align=center><img src=\"https://typora-photo1220.oss-cn-beijing.aliyuncs.com/DataAnalysis/muyan/image-20241110224503264.png\" width=50%></div>"
   ]
  },
  {
   "cell_type": "markdown",
   "id": "b72970f4-64ab-4718-9c25-7832820cf5ac",
   "metadata": {},
   "source": [
    "<div align=center><img src=\"https://typora-photo1220.oss-cn-beijing.aliyuncs.com/DataAnalysis/muyan/image-20241110224628842.png\" width=50%></div>"
   ]
  },
  {
   "cell_type": "markdown",
   "id": "3eb9be7f-8ff5-4b98-b1fa-15689f400f50",
   "metadata": {},
   "source": [
    "```json\n",
    "    在实际训练、微调大模型的时候，由于大模型的参数量很大，其训练效率和所消耗的资源、时间是不可忽视的指标，在实际训练大语言模型的时候一般是要配备多GPU的集群，但实际的机器利用率往往只能达到其最大效率的一半左右。这也就是说，只是一味的堆料并不能有效地带来模型训练效率的提升。同样，即使系统具有更高的吞吐量，也并不能保证所训练出的模型具有更高的精度或更快的收敛速度。\n",
    "    DeepSpeed是一个由微软开发的开源深度学习优化库，旨在提高大规模模型训练的效率和可扩展性。它通过多种技术手段来加速训练，包括模型并行化、梯度累积、动态精度缩放、本地模式混合精度等。DeepSpeed还提供了一些辅助工具，如分布式训练管理、内存优化和模型压缩等，以帮助开发者更好地管理和优化大规模深度学习训练任务。DeepSpeed已经在许多大规模深度学习项目中得到了应用，包括语言模型、图像分类、目标检测等等。\n",
    "     核心技术ZeRO(零冗余优化器)减少了训练内存占用\n",
    "    ZeRO-1：优化器状态分区，适合中等规模模型，内存使用效率高。\n",
    "    ZeRO-2：优化器状态和梯度分区，支持更大模型，训练速度显著提升。\n",
    "    ZeRO-3：全面的状态分区，支持超大规模模型，具有超线性可扩展性和优化器卸载功能。\n",
    "\n",
    "```"
   ]
  },
  {
   "cell_type": "markdown",
   "id": "3d9fcbac-76d1-4d58-a90a-362d3ab1d074",
   "metadata": {},
   "source": [
    "<div align=center><img src=\"https://typora-photo1220.oss-cn-beijing.aliyuncs.com/DataAnalysis/muyan/image-20241110231443964.png\" width=50%></div>"
   ]
  },
  {
   "cell_type": "markdown",
   "id": "1177982d-0058-458a-9d62-0bd4cd729b24",
   "metadata": {},
   "source": [
    "<div align=center><img src=\"https://typora-photo1220.oss-cn-beijing.aliyuncs.com/DataAnalysis/muyan/image-20241110231344559.png\" width=50%></div>"
   ]
  },
  {
   "cell_type": "markdown",
   "id": "508615cb-c7f9-4154-9c93-b2852ccbead6",
   "metadata": {},
   "source": [
    "<div align=center><img src=\"https://typora-photo1220.oss-cn-beijing.aliyuncs.com/DataAnalysis/muyan/image-20241111122137330.png\" width=50%></div>"
   ]
  },
  {
   "cell_type": "markdown",
   "id": "1db85784-5a3f-4928-a6b9-d9d1047dc070",
   "metadata": {},
   "source": [
    "```json\n",
    "    LLaMA Factory是一个专为大语言模型设计的开源微调框架，支持多种先进的微调技术和模型。\n",
    "    特点：\n",
    "        用户友好：提供零代码的图形用户界面（LlamaBoard），用户可以通过简单的操作进行模型微调\n",
    "        高效微调：集成了多种参数高效微调技术，如LoRA和Prompt Tuning，能够在有限资源下实现高效训练\n",
    "        多模型支持：LLaMA Factory支持超过100种大型语言模型，包括LLaMA、ChatGLM、Falcon等。\n",
    "    适合需要快速原型开发和实验的用户，尤其是在小型和中型数据集上。\n",
    "    `适用于对大模型微调有需求但缺乏深厚技术背景的用户。`\n",
    "```"
   ]
  },
  {
   "cell_type": "markdown",
   "id": "b8b9b1f5-f910-4a03-9401-2e81802283ad",
   "metadata": {},
   "source": [
    "\n",
    "\n",
    "<div align=center><img src=\"https://typora-photo1220.oss-cn-beijing.aliyuncs.com/DataAnalysis/muyan/image-20241110231133844.png\" width=80%></div>"
   ]
  },
  {
   "cell_type": "markdown",
   "id": "83edb5e8-3a61-4afe-a3b4-df422ce2d339",
   "metadata": {
    "tags": []
   },
   "source": [
    "# 本节课概览"
   ]
  },
  {
   "cell_type": "markdown",
   "id": "1b1a26af-0ee0-44b7-85a4-fbfc704dd974",
   "metadata": {},
   "source": [
    "<div align=center><img src=\"https://typora-photo1220.oss-cn-beijing.aliyuncs.com/DataAnalysis/muyan/image-20241112161111606.png\" width=90%></div>"
   ]
  },
  {
   "cell_type": "code",
   "execution_count": null,
   "id": "9f153fba-e031-471b-8216-829ceea49b6b",
   "metadata": {},
   "outputs": [],
   "source": []
  }
 ],
 "metadata": {
  "kernelspec": {
   "display_name": "Python 3 (ipykernel)",
   "language": "python",
   "name": "python3"
  },
  "language_info": {
   "codemirror_mode": {
    "name": "ipython",
    "version": 3
   },
   "file_extension": ".py",
   "mimetype": "text/x-python",
   "name": "python",
   "nbconvert_exporter": "python",
   "pygments_lexer": "ipython3",
   "version": "3.11.5"
  }
 },
 "nbformat": 4,
 "nbformat_minor": 5
}
