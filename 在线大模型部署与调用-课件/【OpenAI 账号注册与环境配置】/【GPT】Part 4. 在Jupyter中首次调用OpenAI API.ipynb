{
 "cells": [
  {
   "cell_type": "markdown",
   "id": "20f71df4-b3e8-497b-86a7-851e16fb252c",
   "metadata": {
    "tags": []
   },
   "source": [
    "# <center>在线大模型本地调用方法"
   ]
  },
  {
   "cell_type": "markdown",
   "id": "4f35da27-9ddd-48cd-b7f1-9127005a4ffa",
   "metadata": {},
   "source": [
    "## <center> Ch.2 在Jupyter中调用OpenAI API"
   ]
  },
  {
   "cell_type": "markdown",
   "id": "fb8ddead-fa7c-460a-8316-661c932e4e68",
   "metadata": {},
   "source": [
    "在我们正式进入具体模型学习之前，我们首先需要学会在代码环境中调用OpenAI API。接下来的课程会全程使用Jupyter编写代码，所以我们需要掌握如何在Jupyter中调用OpenAI API的方法。具体操作流程如下："
   ]
  },
  {
   "cell_type": "markdown",
   "id": "5f3343dd-715a-4b90-b847-b7528026ce62",
   "metadata": {},
   "source": [
    "### Step 1.安装openai库"
   ]
  },
  {
   "cell_type": "markdown",
   "id": "640bfb0e-e475-4094-b8ff-1558921c2902",
   "metadata": {},
   "source": "如果想要调用OpenAI在线大模型，首先第一步，需要在本地安装openai库，这里我们可以选择直接在cmd环境中使用pip工具来进行安装。win+r打开cmd，输入`pip install openai`"
  },
  {
   "cell_type": "markdown",
   "id": "87df1e22-0632-4386-9ab6-15ffacaa38fb",
   "metadata": {},
   "source": "![](https://typora-photo1220.oss-cn-beijing.aliyuncs.com/DataAnalysis/LingYi/20241010151715.png)"
  },
  {
   "cell_type": "markdown",
   "id": "b94e4250-508e-45b3-85c8-2237b307c577",
   "metadata": {},
   "source": "如果伙伴之前安装过旧版本的openai库，建议将版本升级到最新版`pip install --upgrade openai `"
  },
  {
   "cell_type": "code",
   "id": "2a36c8a2-3c61-4511-96da-dd3094f528b8",
   "metadata": {
    "tags": [],
    "ExecuteTime": {
     "end_time": "2024-10-10T07:19:50.622582Z",
     "start_time": "2024-10-10T07:19:50.164898Z"
    }
   },
   "source": [
    "import openai"
   ],
   "outputs": [],
   "execution_count": 2
  },
  {
   "cell_type": "code",
   "id": "7c97ca64-dc7e-4f42-ba87-97611714c90b",
   "metadata": {
    "tags": [],
    "ExecuteTime": {
     "end_time": "2024-10-10T07:19:51.255635Z",
     "start_time": "2024-10-10T07:19:51.239687Z"
    }
   },
   "source": [
    "openai.__version__"
   ],
   "outputs": [
    {
     "data": {
      "text/plain": [
       "'1.51.2'"
      ]
     },
     "execution_count": 3,
     "metadata": {},
     "output_type": "execute_result"
    }
   ],
   "execution_count": 3
  },
  {
   "cell_type": "markdown",
   "id": "528a95e0-1600-43b1-87c6-3fac227bd251",
   "metadata": {},
   "source": [
    "### Step 2.获取OpenAI API-keys"
   ]
  },
  {
   "cell_type": "markdown",
   "id": "7e302a8c-46cc-4132-882f-3ecf259befab",
   "metadata": {},
   "source": [
    "在OpenAI的开发者平台上，可以直接创建OpenAI的API-key。具体创建方法详见《【预习】课程账号注册与API-Key获取指南》。这里可以按照以下方法快速创建一个API-key：\n",
    "- 打开网址：https://platform.openai.com/api-keys\n",
    "- 点击`+Create new secret key`\n",
    "- 填写Key的名字（例如Jupyter），然后点击`Create secret key`\n",
    "- 点击`Copy`将生成的API-Key复制出来。（这里一定要保存好！可以找个记事本保存下来）\n",
    "- 点击`Done`退出页面。"
   ]
  },
  {
   "cell_type": "markdown",
   "id": "3abbe537-ccac-4b45-b303-47c0c1a55878",
   "metadata": {},
   "source": [
    "<center><img src=\"https://snowball101.oss-cn-beijing.aliyuncs.com/img/202402271816792.png\" alt=\"image-20230213224830140\" style=\"zoom:80%;\" />"
   ]
  },
  {
   "cell_type": "markdown",
   "id": "127e35e0-7f64-4559-a08b-b1cd3dab182e",
   "metadata": {
    "tags": []
   },
   "source": [
    "<center><img src=\"http://ml2022.oss-cn-hangzhou.aliyuncs.com/img/image-20230213225241964.png\" alt=\"image-20230213225241964\" style=\"zoom:50%;\" />"
   ]
  },
  {
   "metadata": {},
   "cell_type": "markdown",
   "source": "注意如果出现这一步绿框说明我们在注册账号的过程中没有验证手机号，请在SMS虚拟手机号平台上购买国外手机号验证（在OPENAI注册的教程中有详细教程）。",
   "id": "d088e8e5dfe2e0a9"
  },
  {
   "metadata": {},
   "cell_type": "markdown",
   "source": "![](https://typora-photo1220.oss-cn-beijing.aliyuncs.com/DataAnalysis/LingYi/20241009191230.png)",
   "id": "86fa416f4fd7573c"
  },
  {
   "metadata": {},
   "cell_type": "markdown",
   "source": "![7991ff851166ff0ce5ac8fa6fa12a84.png](https://typora-photo1220.oss-cn-beijing.aliyuncs.com/DataAnalysis/LingYi/7991ff851166ff0ce5ac8fa6fa12a84.png)",
   "id": "73f07169407a0fa0"
  },
  {
   "cell_type": "markdown",
   "id": "69029fb7-92e9-41bd-ae68-8d425f7466b4",
   "metadata": {
    "tags": []
   },
   "source": [
    "### Step 3.设置全局环境变量OPENAI_API_KEY"
   ]
  },
  {
   "cell_type": "markdown",
   "id": "a2e1b694-2f45-4764-a980-27c2214b0bb7",
   "metadata": {},
   "source": [
    "为了更加方便的调用API-Key以及在代码中隐藏API-Key，我们可以将其设置为系统环境变量，从而后续可以直接以调用变量名称的形式调用API-Key。具体设置过程如下：<br>\n",
    "右击“此电脑”-->选择“属性”-->点击“高级系统设置”-->点击“环境变量”-->点击系统变量下的“新建”按钮："
   ]
  },
  {
   "cell_type": "markdown",
   "id": "4e8b0308-6abf-4cf0-a02a-4f6f319c7ad3",
   "metadata": {},
   "source": [
    "<center><img src=\"https://typora-photo1220.oss-cn-beijing.aliyuncs.com/DataAnalysis/image-20240313220525868.png\" alt=\"image-20240313220525868\"  />"
   ]
  },
  {
   "cell_type": "markdown",
   "id": "20fea14c-6e28-432b-89db-02a1b2dfb670",
   "metadata": {},
   "source": [
    "设置环境变量。这里变量名可以统一设置为OPENAI_API_KEY，而变量值就是刚刚我们复制的API-Key。"
   ]
  },
  {
   "cell_type": "markdown",
   "id": "d7834559-49fa-421b-956e-5ce6f7abd2d2",
   "metadata": {},
   "source": [
    "<center><img src=\"http://ml2022.oss-cn-hangzhou.aliyuncs.com/img/image-20230213225921669.png\" alt=\"image-20230213225921669\" style=\"zoom:50%;\" />"
   ]
  },
  {
   "cell_type": "markdown",
   "id": "e31c203a-151e-4547-8440-ca05211e0293",
   "metadata": {},
   "source": [
    "> 注意：有些电脑设定好环境变量之后，需要重启电脑，环境变量才能生效。"
   ]
  },
  {
   "cell_type": "markdown",
   "id": "b41754c2-b3ce-44d2-8088-8f0d0def9ee3",
   "metadata": {},
   "source": [
    "### Step 4.以代理形式启动Jupyter"
   ]
  },
  {
   "cell_type": "markdown",
   "id": "9a4d0a26-659e-4948-92f9-631d34b9a50c",
   "metadata": {},
   "source": [
    "对于国内用户来说，是无法直接访问OpenAI的，所以我们需要让Jupyter在代理环境下启动（需要注意的是魔法开启时一定要选择“全域代理模式”）。\n",
    "以当前使用的魔法工具为例，在Mac电脑登录即可看到代理地址和端口：127.0.0.1:2022\n",
    "> 如果是其他魔法工具，可以在其页面上寻找代理端口或者咨询其客服。"
   ]
  },
  {
   "cell_type": "markdown",
   "id": "88e29718-43e7-4fed-b24a-ed4b82b9da63",
   "metadata": {},
   "source": [
    "<center><img src=\"https://typora-photo1220.oss-cn-beijing.aliyuncs.com/DataAnalysis/image-20240313223108858.png\" alt=\"image-20240313223108858\" style=\"zoom:40%;\" />"
   ]
  },
  {
   "cell_type": "markdown",
   "id": "f26cb1a0-50f0-4182-b943-077b2bbbd9ad",
   "metadata": {},
   "source": [
    "如何让Jupyter通过代理方式访问网络，最近单的方法就是利用cmd命令启动Jupyter。这里同时按住Win+R即可开启运行页面，在打开一栏中输入cmd并回车进入命令行："
   ]
  },
  {
   "cell_type": "markdown",
   "id": "f4610ba2-7098-44d4-a8f8-cbbab49ed965",
   "metadata": {},
   "source": [
    "<center><img src=\"https://typora-photo1220.oss-cn-beijing.aliyuncs.com/DataAnalysis/image-20240313223718366.png\" alt=\"image-20240313223718366\"  />"
   ]
  },
  {
   "cell_type": "markdown",
   "id": "b0aede3c-e539-477d-ab94-9a34933f5fd2",
   "metadata": {},
   "source": [
    "接下来在命令行中，依次输入下面三行代码，大家的视各自的端口号进行更改，并不一定是2022：<br>\n",
    "`set HTTP_PROXY=http://127.0.0.1:2022 `     <br> \n",
    "`set HTTPS_PROXY=http://127.0.0.1:2022 ` <br>\n",
    "`jupyter lab`\n",
    "\n"
   ]
  },
  {
   "cell_type": "markdown",
   "id": "42290210-ca72-46b9-a808-6861ebb5da65",
   "metadata": {},
   "source": [
    "<center><img src=\"https://ml2022.oss-cn-hangzhou.aliyuncs.com/img/d301387de8e74d76c272cf20c36d527.png\" alt=\"d301387de8e74d76c272cf20c36d527\" style=\"zoom: 50%;\" />"
   ]
  },
  {
   "cell_type": "markdown",
   "id": "32c4cb00-aaa1-4c0f-a8d1-9eaf33e73f9e",
   "metadata": {},
   "source": [
    "这里需要注意的时，使用 set 命令在命令行中设置环境变量来设置代理网络仅在当前命令提示符会话中有效。一旦关闭命令提示符窗口，这些变量将失效。\n",
    "\n",
    "即每次启动Jupyter之前都需要先输入代理环境设置（即前两行代码）。\n"
   ]
  },
  {
   "cell_type": "markdown",
   "id": "57796883-47d1-4f07-a1a2-985cfe20f3e4",
   "metadata": {},
   "source": [
    "> 如果是Mac电脑，每次启动jupyter之前，需要在终端依次输入下面三行代码：<br>\n",
    "> `set HTTP_PROXY=http://127.0.0.1:2022`<br>\n",
    "> `set HTTPS_PROXY=http://127.0.0.1:2022`<br>\n",
    "> `OPENAI_API_KEY=\"你的API-key\"`"
   ]
  },
  {
   "metadata": {},
   "cell_type": "markdown",
   "source": "如果大家想要永久的设置，除了通过系统环境变量中永久设置代理外，还可以在 Jupyter 的配置文件中直接设置代理。具体的方法网上有很多教程，可搜索“如何永久设置Jupyter代理环境变量 ”",
   "id": "eccfeaa5f2b8c6e2"
  },
  {
   "cell_type": "markdown",
   "id": "5230e978-0e32-4cab-b1f1-5fe6a25c43d5",
   "metadata": {},
   "source": [
    "### 测试能否成功调用OpenAI API"
   ]
  },
  {
   "cell_type": "code",
   "id": "b385e625-2f6d-4917-9f93-ea7f24feb05b",
   "metadata": {
    "tags": [],
    "ExecuteTime": {
     "end_time": "2024-10-10T07:38:06.879210Z",
     "start_time": "2024-10-10T07:38:06.868247Z"
    }
   },
   "source": [
    "import os\n",
    "from openai import OpenAI"
   ],
   "outputs": [],
   "execution_count": 4
  },
  {
   "cell_type": "code",
   "id": "3952c970-2df0-4f02-a11a-71b901d70eda",
   "metadata": {
    "tags": [],
    "ExecuteTime": {
     "end_time": "2024-10-10T07:38:08.498311Z",
     "start_time": "2024-10-10T07:38:08.484736Z"
    }
   },
   "source": [
    "openai.api_key = os.getenv(\"OPENAI_API_KEY\")"
   ],
   "outputs": [],
   "execution_count": 5
  },
  {
   "cell_type": "markdown",
   "id": "19e97fa3-879f-462b-8c8c-911223d7deac",
   "metadata": {},
   "source": [
    "运行下面这行代码，如果有值返回（即你的API-key）则说明系统变量配置成功"
   ]
  },
  {
   "metadata": {},
   "cell_type": "code",
   "outputs": [],
   "execution_count": null,
   "source": "# openai.api_key",
   "id": "3b0684a345c1a1fd"
  },
  {
   "cell_type": "code",
   "id": "dd75bcf8-c644-4759-8e0f-4224bf8f2cdb",
   "metadata": {
    "tags": [],
    "ExecuteTime": {
     "end_time": "2024-10-10T07:38:20.777884Z",
     "start_time": "2024-10-10T07:38:18.818852Z"
    }
   },
   "source": [
    "from openai import OpenAI\n",
    "client = OpenAI()\n",
    "# client = OpenAI(api_key=\"bjhgsdjhfkad_your_api_key_here\") 或用变量显式传入\n",
    "completion = client.chat.completions.create(\n",
    "    model=\"gpt-3.5-turbo\",\n",
    "    messages=[\n",
    "        {\"role\": \"system\", \"content\": \"You are a helpful assistant.\"},\n",
    "        {\"role\": \"user\", \"content\": \"Hello!\"}\n",
    "    ]\n",
    ")\n",
    "\n",
    "print(completion.choices[0].message)"
   ],
   "outputs": [
    {
     "name": "stdout",
     "output_type": "stream",
     "text": [
      "ChatCompletionMessage(content='Hello! How can I help you today?', refusal=None, role='assistant', function_call=None, tool_calls=None)\n"
     ]
    }
   ],
   "execution_count": 7
  },
  {
   "cell_type": "markdown",
   "id": "178154e9-feba-46a6-b50c-2b68fab32635",
   "metadata": {},
   "source": [
    "如果可以得到正常回复，则说明环境配置成功，接下来可进入下一小节继续学习。"
   ]
  }
 ],
 "metadata": {
  "kernelspec": {
   "display_name": "Python 3 (ipykernel)",
   "language": "python",
   "name": "python3"
  },
  "language_info": {
   "codemirror_mode": {
    "name": "ipython",
    "version": 3
   },
   "file_extension": ".py",
   "mimetype": "text/x-python",
   "name": "python",
   "nbconvert_exporter": "python",
   "pygments_lexer": "ipython3",
   "version": "3.11.7"
  }
 },
 "nbformat": 4,
 "nbformat_minor": 5
}
