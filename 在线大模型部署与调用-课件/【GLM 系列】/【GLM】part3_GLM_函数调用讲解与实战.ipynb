{
 "cells": [
  {
   "cell_type": "markdown",
   "id": "dfc0be9d",
   "metadata": {},
   "source": [
    "# GLM 的函数调用从入门到精通\n",
    "\n",
    "## 概述\n",
    "\n",
    "GLM 的函数调用功能为开发者提供了将模型与外部函数库或 API 连接的强大能力。通过这个功能,模型允许我们提供一组预定义的工具，让模型在对话过程中调用这些工具。\n",
    "\n",
    "你可以把它想象成一个**预先构建的工具箱**，里面装有各种工具函数，每个工具函数都有特定的功能和用途，**并可以实际运行**。\n",
    "\n",
    "\n",
    "\n",
    "## 函数调用功能简介\n",
    "\n",
    "ChatGLM 的函数调用功能为开发者提供了一种将模型与外部功能无缝集成的方式。通过这个功能,模型可以在对话过程中生成外部函数的调用参数,从而帮助完成各种复杂的任务。这一功能极大地扩展了模型的能力,让它能够:\n",
    "\n",
    "1. **增强推理和实时效果**:模型可以调用外部函数获取精确的信息,从而做出更加智能的决策。比如可以调用天气预报 API 获取当地天气情况,或者查询航班信息等。\n",
    "2. **执行外部操作**:模型可以触发外部操作,如数据库操作、系统指令执行、事件触发等。这使得模型能够直接与系统交互,而不仅仅局限于自然语言交流。\n",
    "3. **提高交互效率**:模型可以自主决定何时需要调用函数,并生成所需的参数。这样可以大大提高对话的流畅性和用户体验。\n",
    "\n",
    "\n",
    "\n",
    "## 理解函数调用机制与全流程\n",
    "\n",
    "在使用函数调用功能时,理解其工作原理至关重要。整体的工作流程如下:\n",
    "\n",
    "1. **定义可调用的函数**:开发者使用 `tools` 参数向模型提供函数的定义,包括名称、描述和参数。\n",
    "2. **与模型交互（API）**:用户通过聊天界面提出问题,模型根据上下文决定是否需要调用外部函数。\n",
    "3. **模型生成函数调用**:如果模型认为需要调用函数,它会生成函数名称和所需的参数。\n",
    "\n",
    "----------可在这里结束，也可以继续把本地执行函数的结果再返回给大模型-------------------------------\n",
    "\n",
    "4. **执行函数**:开发者使用模型提供的参数调用实际的外部函数,并获取结果。\n",
    "5. **返回结果给模型**:将函数执行结果作为新的消息传递给模型。\n",
    "6. **模型继续对话（API）**:模型基于函数调用的结果,生成最终的回复返回给用户。\n",
    "\n",
    "---\n",
    "\n",
    "## 定义外部函数的“注释”\n",
    "\n",
    "### 使用 `tools` 参数\n",
    "\n",
    "`tools` 是 ChatGLM API 中的可选参数,用于向模型提供可调用的外部函数定义。通过这个参数,模型能够识别可用的函数,并在需要时生成调用。\n",
    "\n",
    "`tools` 参数是一个函数列表,每个函数都包含以下字段:\n",
    "\n",
    "- `type`: 固定设置为 `\"function\"`。\n",
    "- `function`: 一个对象,包含函数的详细信息。\n",
    "\n",
    "### 描述函数功能\n",
    "\n",
    "在 `function` 对象中,需要提供以下信息（外层）:\n",
    "\n",
    "- `name`: 函数名称,只能包含字母、数字、下划线和中横线。\n",
    "- `description`: 对函数功能的详细描述,模型会根据这段描述决定如何调用函数。\n",
    "- `parameters`: 使用 JSON Schema 定义函数所需的参数。\n",
    "\n",
    "\n",
    "每一个函数中再使用 JSON Schema 准确地定义函数接受的参数（内层）:\n",
    "\n",
    "- `type`: 数据类型,一般为 `\"object\"`。\n",
    "- `properties`: 一个对象,定义每个参数的名称、类型和描述。\n",
    "- `required`: 一个数组,列出必须提供的参数名称。\n",
    "\n",
    "\n",
    "通过这种方式,模型就能理解(类似函数注释):\n",
    "- 函数的用途和能力\n",
    "- 需要什么输入参数\n",
    "- 如何正确调用函数\n",
    "\n",
    "**示例:**"
   ]
  },
  {
   "cell_type": "code",
   "id": "edd6c23f",
   "metadata": {
    "ExecuteTime": {
     "end_time": "2024-11-21T07:42:39.627791Z",
     "start_time": "2024-11-21T07:42:39.613793Z"
    }
   },
   "source": [
    "tools = [\n",
    "    {\n",
    "        \"type\": \"function\",\n",
    "        \"function\": {\n",
    "            \"name\": \"get_weather\",\n",
    "            \"description\": \"根据城市名称获取当前天气信息。\",\n",
    "            \"parameters\": {\n",
    "                \"type\": \"object\",\n",
    "                \"properties\": {\n",
    "                    \"city\": {\n",
    "                        \"description\": \"城市名称,例如:北京\",\n",
    "                        \"type\": \"string\"\n",
    "                    },\n",
    "                    \"date\": {\n",
    "                        \"description\": \"日期,可选,格式为 YYYY-MM-DD\",\n",
    "                        \"type\": \"string\"\n",
    "                    }\n",
    "                },\n",
    "                \"required\": [\"city\"]\n",
    "            }\n",
    "        }\n",
    "    }\n",
    "]"
   ],
   "outputs": [],
   "execution_count": 3
  },
  {
   "cell_type": "markdown",
   "id": "cd3bf41e",
   "metadata": {},
   "source": [
    "在这个示例中,我们定义了一个名为 `get_weather` 的函数,它接受 `city` 和可选的 `date` 参数,用于获取指定城市和日期的天气信息。\n",
    "\n",
    "---\n",
    "\n",
    "## 与模型交互\n",
    "\n",
    "### 触发函数调用\n",
    "\n",
    "在对话过程中,模型会根据用户的输入和预先定义的函数,判断是否需要调用外部函数。当模型认为需要调用函数时,它会在响应中返回函数名称和生成的参数。\n",
    "\n",
    "**示例:**"
   ]
  },
  {
   "cell_type": "markdown",
   "id": "bec574f6",
   "metadata": {},
   "source": [
    "在这个示例中,模型可能会生成一个函数调用,表示需要调用 `get_weather` 函数,并提供参数 `\"city\": \"北京\", \"date\": \"2022-12-12\"`。\n",
    "\n",
    "### 控制函数选择（`tool_choice`）\n",
    "\n",
    "`tool_choice` 参数允许开发者控制模型如何选择函数调用，目前仅支持 auto 模式。（只能说？聊胜于无）:\n",
    "\n",
    "- `auto`(默认): 模型自行决定是否调用函数。\n",
    "- `none`: 强制模型不返回任何函数调用,仅给出纯文本回复。\n",
    "\n",
    "这里需要了解的是OPENAI的可选值：\"auto\",\"required\", \"none\", {\"type\": \"function\",\"function\": {\"name\": \"function_name\"}}\n",
    "\n",
    "GLM目前这部分还有待继续开发完全。\n",
    "\n",
    "**示例:**"
   ]
  },
  {
   "metadata": {
    "ExecuteTime": {
     "end_time": "2024-11-21T11:21:56.212063Z",
     "start_time": "2024-11-21T11:21:56.113064Z"
    }
   },
   "cell_type": "code",
   "source": [
    "from zhipuai import ZhipuAI\n",
    "\n",
    "# client = ZhipuAI(api_key=\"YOUR_API_KEY\")\n",
    "client = ZhipuAI()"
   ],
   "id": "57e7062556242dfd",
   "outputs": [],
   "execution_count": 76
  },
  {
   "cell_type": "code",
   "id": "7d6c1549",
   "metadata": {
    "ExecuteTime": {
     "end_time": "2024-11-21T11:22:31.993380Z",
     "start_time": "2024-11-21T11:22:30.534727Z"
    }
   },
   "source": [
    "messages = [\n",
    "    {\"role\": \"user\", \"content\": \"请告诉我北京的天气如何?\"}\n",
    "]\n",
    "response = client.chat.completions.create(\n",
    "    model=\"glm-4-plus\",\n",
    "    messages=messages,\n",
    "    tools=tools,\n",
    "    tool_choice=\"auto\"\n",
    ")"
   ],
   "outputs": [],
   "execution_count": 77
  },
  {
   "metadata": {
    "ExecuteTime": {
     "end_time": "2024-11-21T11:22:33.587354Z",
     "start_time": "2024-11-21T11:22:33.577353Z"
    }
   },
   "cell_type": "code",
   "source": "print(response)",
   "id": "e08dc69fb6f33286",
   "outputs": [
    {
     "name": "stdout",
     "output_type": "stream",
     "text": [
      "Completion(model='glm-4-plus', created=1732188152, choices=[CompletionChoice(index=0, finish_reason='tool_calls', message=CompletionMessage(content=None, role='assistant', tool_calls=[CompletionMessageToolCall(id='call_-9221298494868164792', function=Function(arguments='{\"city\": \"北京\"}', name='get_weather'), type='function', index=0)]))], request_id='202411211922311f49ccc884044a5a', id='202411211922311f49ccc884044a5a', usage=CompletionUsage(prompt_tokens=195, completion_tokens=10, total_tokens=205))\n"
     ]
    }
   ],
   "execution_count": 78
  },
  {
   "metadata": {},
   "cell_type": "markdown",
   "source": "模型本身永远不会实际执行函数，模型只是生成可用于调用函数的参数，然后我们的本地代码可以选择如何处理这些参数，",
   "id": "a4e4c05ae6ff04b6"
  },
  {
   "cell_type": "markdown",
   "id": "d50e3e07",
   "metadata": {},
   "source": "当模型决定调用函数时,它会在响应中返回 `tool_calls` 字段,包含函数名称和参数。\n"
  },
  {
   "cell_type": "code",
   "execution_count": null,
   "id": "9a201661",
   "metadata": {},
   "outputs": [],
   "source": [
    "{\n",
    "    \"choices\": [\n",
    "        {\n",
    "            \"message\": {\n",
    "                \"role\": \"assistant\",\n",
    "                \"content\": None,\n",
    "                \"tool_calls\": [\n",
    "                    {\n",
    "                        \"id\": \"call_123456\",\n",
    "                        \"function\": {\n",
    "                            \"name\": \"get_weather\",\n",
    "                            \"arguments\": '{\"city\": \"北京\", \"date\": \"2023-04-20\"}'\n",
    "                        },\n",
    "                        \"type\": \"function\"\n",
    "                    }\n",
    "                ]\n",
    "            }\n",
    "        }\n",
    "    ]\n",
    "}"
   ]
  },
  {
   "metadata": {
    "ExecuteTime": {
     "end_time": "2024-11-21T11:24:32.845872Z",
     "start_time": "2024-11-21T11:24:32.831871Z"
    }
   },
   "cell_type": "code",
   "source": [
    "if response.choices[0].message.tool_calls:\n",
    "    function_call = response.choices[0].message.tool_calls[0].function\n",
    "    print(function_call.name)\n",
    "    print(function_call.arguments)"
   ],
   "id": "544b1a1851a136b4",
   "outputs": [
    {
     "name": "stdout",
     "output_type": "stream",
     "text": [
      "get_weather\n",
      "{\"city\": \"北京\"}\n"
     ]
    }
   ],
   "execution_count": 79
  },
  {
   "metadata": {},
   "cell_type": "markdown",
   "source": [
    "在这个示例中,模型生成了一个 `get_weather` 函数调用,并提供了 `city` 和 `date` 两个参数，有些时候以上就可以截止了\n",
    "\n",
    "什么时候适合只使用工具调用的前3步，而不用完整的工具调用呢？:\n",
    "\n",
    "**JSON输出场景**\n",
    "- 当你只需要模型返回符合特定schema的JSON输出时\n",
    "- 例如记录摘要、情感分析等结构化输出场景\n",
    "\n",
    "**实时处理场景** \n",
    "- 实时内容审核\n",
    "- 数据提取和标注任务\n",
    "- 代码补全等需要快速响应的场景\n",
    "\n",
    "**独立处理场景**\n",
    "- 当工具的输出不需要模型进一步解释或加工\n",
    "- 当你希望自己的应用程序处理工具的输出结果\n",
    "\n",
    "在这些场景中,我们主要使用tool use来:\n",
    "1. 理解用户意图\n",
    "2. 选择合适的工具\n",
    "3. 构造正确的参数\n",
    "\n",
    "这种方式可以:\n",
    "- 减少API调用次数，降低延迟，只借助大模型的意图识别及取值能力，让应用程序更灵活地处理结果"
   ],
   "id": "d1a60cd7f3e92547"
  },
  {
   "metadata": {},
   "cell_type": "markdown",
   "source": [
    "\n",
    "### 执行模型生成的函数调用\n",
    "\n",
    "为了完成整个函数调用流程,开发者需要执行以下步骤:\n",
    "\n",
    "1. **解析模型生成的参数**:从 `arguments` 字段获取参数,并解析为字典。\n",
    "2. **调用实际的函数**:使用解析的参数调用预先定义的外部函数。\n",
    "3. **将结果返回给模型**:将函数执行结果作为新的消息,角色为 `\"tool\"`的类型,传递给模型。\n",
    "\n",
    "**示例代码:**"
   ],
   "id": "30943460"
  },
  {
   "metadata": {
    "ExecuteTime": {
     "end_time": "2024-11-21T07:50:55.149631Z",
     "start_time": "2024-11-21T07:50:55.128051Z"
    }
   },
   "cell_type": "code",
   "source": [
    "import json\n",
    "\n",
    "def parse_function_call(response, messages, client, tools):\n",
    "    try:\n",
    "        # 提取工具调用和相关数据\n",
    "        tool_call = response.choices[0].message.tool_calls[0]\n",
    "        function_name = tool_call.function.name\n",
    "        arguments = json.loads(tool_call.function.arguments)\n",
    "        messages.append(response.choices[0].message.model_dump())\n",
    "        # 定义支持的函数处理逻辑\n",
    "        function_map = {\n",
    "            \"get_weather\": get_weather,\n",
    "            # 可以扩展更多函数\n",
    "        }\n",
    "        \n",
    "        if function_name in function_map:\n",
    "            # 调用对应的函数并获取结果\n",
    "            result = function_map[function_name](**arguments)\n",
    "            messages.append({\n",
    "                \"role\": \"tool\",\n",
    "                \"content\": json.dumps(result, ensure_ascii=False),\n",
    "                \"tool_call_id\": tool_call.id\n",
    "            })\n",
    "            \n",
    "            # 再次调用模型\n",
    "            return client.chat.completions.create(\n",
    "                model=\"glm-4-plus\",\n",
    "                messages=messages,\n",
    "                tools=tools\n",
    "            )\n",
    "        else:\n",
    "            raise ValueError(f\"Unsupported function: {function_name}\")\n",
    "    except Exception as e:\n",
    "        print(f\"Error while parsing function call: {e}\")\n",
    "        return None\n"
   ],
   "id": "8c48e06a",
   "outputs": [],
   "execution_count": 29
  },
  {
   "metadata": {
    "ExecuteTime": {
     "end_time": "2024-11-21T07:43:06.845706Z",
     "start_time": "2024-11-21T07:43:06.835707Z"
    }
   },
   "cell_type": "code",
   "source": "parse_function_call(response, messages, client, tools)",
   "id": "5c4df144194dcba0",
   "outputs": [
    {
     "name": "stdout",
     "output_type": "stream",
     "text": [
      "Error while parsing function call: name 'get_weather' is not defined\n"
     ]
    }
   ],
   "execution_count": 6
  },
  {
   "metadata": {},
   "cell_type": "markdown",
   "source": [
    "适合完整6步的场景:\n",
    "\n",
    "**需要多工具链式调用**\n",
    "- 当任务需要多个工具按顺序配合完成\n",
    "- 后续工具的输入依赖于前一个工具的输出，要协调多个工具的结果\n",
    "\n",
    "**需要解释和分析结果**\n",
    "- 当需要将技术结果，复杂数据转化为用户友好的解释，提供建议或见解\n",
    "\n",
    "而3步流程适用于:\n",
    "\n",
    "**结构化输出场景**\n",
    "- 当只需要JSON格式的输出\n",
    "- 数据提取和标注任务\n",
    "- 不需要进一步解释的分析结果\n",
    "\n",
    "主要区别:\n",
    "- 6步流程适合需要模型智能处理和整合结果的复杂任务\n",
    "- 3步流程适合直接使用工具输出的简单任务"
   ],
   "id": "ba9b662005f89aa1"
  },
  {
   "metadata": {
    "ExecuteTime": {
     "end_time": "2024-11-21T07:50:57.778984Z",
     "start_time": "2024-11-21T07:50:57.758984Z"
    }
   },
   "cell_type": "code",
   "source": [
    "import json\n",
    "\n",
    "def get_weather(city):\n",
    "    \"\"\"\n",
    "    正式业务场景中可能会请求一些实时的API得到如下的结果\n",
    "    \"\"\"\n",
    "    \n",
    "    return {\n",
    "        \"city\": city,\n",
    "        \"date\": \"明天\",\n",
    "        \"temperature\": 22,\n",
    "        \"weather\": \"小雨\",\n",
    "        \"humidity\": 85,\n",
    "        \"wind\": \"东北风3级\"\n",
    "    }"
   ],
   "id": "1220949cbe4042a4",
   "outputs": [],
   "execution_count": 30
  },
  {
   "metadata": {
    "ExecuteTime": {
     "end_time": "2024-11-21T07:50:58.370441Z",
     "start_time": "2024-11-21T07:50:58.357439Z"
    }
   },
   "cell_type": "code",
   "source": "messages",
   "id": "3e49dd12d7cd77c3",
   "outputs": [
    {
     "data": {
      "text/plain": [
       "[{'role': 'user', 'content': '请告诉我北京的天气如何?'}]"
      ]
     },
     "execution_count": 31,
     "metadata": {},
     "output_type": "execute_result"
    }
   ],
   "execution_count": 31
  },
  {
   "metadata": {
    "ExecuteTime": {
     "end_time": "2024-11-21T07:51:00.101342Z",
     "start_time": "2024-11-21T07:51:00.094341Z"
    }
   },
   "cell_type": "code",
   "source": [
    "new_message = {\"role\": \"system\", \"content\": \"根据天气信息，请你根据现实准确专业的给出出行，穿衣，活动建议\"}\n",
    "\n",
    "# 在第一条位置添加新消息\n",
    "messages.insert(0, new_message)\n",
    "messages"
   ],
   "id": "1e633fb64a660d9d",
   "outputs": [
    {
     "data": {
      "text/plain": [
       "[{'role': 'system', 'content': '根据天气信息，请你根据现实准确专业的给出出行，穿衣，活动建议'},\n",
       " {'role': 'user', 'content': '请告诉我北京的天气如何?'}]"
      ]
     },
     "execution_count": 32,
     "metadata": {},
     "output_type": "execute_result"
    }
   ],
   "execution_count": 32
  },
  {
   "metadata": {
    "ExecuteTime": {
     "end_time": "2024-11-21T07:51:07.698651Z",
     "start_time": "2024-11-21T07:51:01.507101Z"
    }
   },
   "cell_type": "code",
   "source": "twice_response=parse_function_call(response, messages, client, tools)",
   "id": "2be13a2f57aab35e",
   "outputs": [],
   "execution_count": 33
  },
  {
   "metadata": {
    "ExecuteTime": {
     "end_time": "2024-11-21T07:51:09.601551Z",
     "start_time": "2024-11-21T07:51:09.596548Z"
    }
   },
   "cell_type": "code",
   "source": "print(twice_response.choices[0].message.content)",
   "id": "960318326ab9a20b",
   "outputs": [
    {
     "name": "stdout",
     "output_type": "stream",
     "text": [
      "根据北京的天气信息，以下是出行、穿衣和活动的建议：\n",
      "\n",
      "**出行建议：**\n",
      "1. 由于有小雨，建议携带雨具，如雨伞或雨衣。\n",
      "2. 注意路面湿滑，步行和驾驶时需谨慎。\n",
      "3. 东北风3级，出行时注意防风保暖。\n",
      "\n",
      "**穿衣建议：**\n",
      "1. 温度为22°C，建议穿着长袖上衣和轻薄的外套。\n",
      "2. 由于湿度较高，衣物选择透气性好的材质会更舒适。\n",
      "3. 考虑到有小雨，可以选择防水或速干材质的衣物。\n",
      "\n",
      "**活动建议：**\n",
      "1. 室外活动尽量选择雨停的时段，或选择室内活动以避免淋雨。\n",
      "2. 高湿度环境下，避免进行剧烈运动，以免身体不适。\n",
      "3. 可以选择参观博物馆、艺术馆等室内场所，或进行一些轻松的室内娱乐活动。\n",
      "\n",
      "请注意，以上建议是基于当前的天气状况，实际情况可能会有所变化，出行前建议再次查看最新天气预报。\n"
     ]
    }
   ],
   "execution_count": 34
  },
  {
   "metadata": {
    "ExecuteTime": {
     "end_time": "2024-11-21T07:53:15.094883Z",
     "start_time": "2024-11-21T07:53:15.074883Z"
    }
   },
   "cell_type": "code",
   "source": "messages.append(twice_response.choices[0].message.model_dump())",
   "id": "b8a7fd56d87604c1",
   "outputs": [],
   "execution_count": 40
  },
  {
   "cell_type": "markdown",
   "id": "84c2bef4",
   "metadata": {},
   "source": [
    "Message 1: 用户提出关于北京天气的疑问。\n",
    "Message 2: 助手识别出需要外部数据，调用get_weather函数获取天气信息。\n",
    "Message 3: 天气工具返回北京的天气数据，包括温度、天气状况等详细信息。\n",
    "Message 4: 助手根据获取的天气信息，生成专业的出行、穿衣和活动建议，并回复给用户。"
   ]
  },
  {
   "metadata": {
    "ExecuteTime": {
     "end_time": "2024-11-21T07:53:18.121606Z",
     "start_time": "2024-11-21T07:53:18.108608Z"
    }
   },
   "cell_type": "code",
   "source": "messages",
   "id": "df40f2d848f4edde",
   "outputs": [
    {
     "data": {
      "text/plain": [
       "[{'role': 'system', 'content': '根据天气信息，请你根据现实准确专业的给出出行，穿衣，活动建议'},\n",
       " {'role': 'user', 'content': '请告诉我北京的天气如何?'},\n",
       " {'content': None,\n",
       "  'role': 'assistant',\n",
       "  'tool_calls': [{'id': 'call_-9221303305233519401',\n",
       "    'function': {'arguments': '{\"city\": \"北京\"}', 'name': 'get_weather'},\n",
       "    'type': 'function',\n",
       "    'index': 0}]},\n",
       " {'role': 'tool',\n",
       "  'content': '{\"city\": \"北京\", \"date\": \"明天\", \"temperature\": 22, \"weather\": \"小雨\", \"humidity\": 85, \"wind\": \"东北风3级\"}',\n",
       "  'tool_call_id': 'call_-9221303305233519401'},\n",
       " {'content': '根据北京的天气信息，以下是出行、穿衣和活动的建议：\\n\\n**出行建议：**\\n1. 由于有小雨，建议携带雨具，如雨伞或雨衣。\\n2. 注意路面湿滑，步行和驾驶时需谨慎。\\n3. 东北风3级，出行时注意防风保暖。\\n\\n**穿衣建议：**\\n1. 温度为22°C，建议穿着长袖上衣和轻薄的外套。\\n2. 由于湿度较高，衣物选择透气性好的材质会更舒适。\\n3. 考虑到有小雨，可以选择防水或速干材质的衣物。\\n\\n**活动建议：**\\n1. 室外活动尽量选择雨停的时段，或选择室内活动以避免淋雨。\\n2. 高湿度环境下，避免进行剧烈运动，以免身体不适。\\n3. 可以选择参观博物馆、艺术馆等室内场所，或进行一些轻松的室内娱乐活动。\\n\\n请注意，以上建议是基于当前的天气状况，实际情况可能会有所变化，出行前建议再次查看最新天气预报。',\n",
       "  'role': 'assistant',\n",
       "  'tool_calls': None}]"
      ]
     },
     "execution_count": 41,
     "metadata": {},
     "output_type": "execute_result"
    }
   ],
   "execution_count": 41
  },
  {
   "metadata": {},
   "cell_type": "markdown",
   "source": [
    "注意两点，一个是消息的添加要全面，即要添加函数决定调用函数的消息和本地执行的结果,注意顺序，GLM并不会报错，但gpt会校验role为tool的消息前有没有tool call的消息，同时注意tool id。\n",
    "\n",
    "![](https://typora-photo1220.oss-cn-beijing.aliyuncs.com/DataAnalysis/LingYi/20241031105033.png)"
   ],
   "id": "7182766ba58f86a6"
  },
  {
   "metadata": {},
   "cell_type": "markdown",
   "source": [
    "![](https://typora-photo1220.oss-cn-beijing.aliyuncs.com/DataAnalysis/LingYi/20241121165531.png)\n",
    "\n",
    "在把工具调用的结果消息放进message里时，我们也是要存字符串进去的，所以要用json.dump把字典结构转换为 JSON 格式的字符串.总结：\n",
    "\n",
    "- 接收参数时：JSON字符串 -> Python对象（方便处理）用json.loads\n",
    "- 返回结果时：Python对象 -> JSON字符串（方便传输）用json.dump"
   ],
   "id": "b7a364e2adb7055d"
  },
  {
   "metadata": {},
   "cell_type": "markdown",
   "source": [
    "【实战】利用维基百科为写作助手提供信息支持\n",
    "\n",
    "1. 定义维基百科搜索功能:\n",
    "编写 `get_article()` 函数,可以根据搜索词获取维基百科页面的内容。\n",
    "\n",
    "2. 编写工具定义:\n",
    "定义 `article_search_tool` 字典,描述了 `get_article()` 函数的元数据信息,包括函数名、描述和参数定义。这样 GLM 就可以知道如何调用这个工具了。\n",
    "\n",
    "3. 向 GLM 发送 API 请求:\n",
    "编写发送请求到 GLM 的代码,将对话消息、可用工具和工具选择传递给 GLM。这是与 GLM 进行交互的核心步骤。\n",
    "\n",
    "4. GLM 决策并返回工具名与入参:\n",
    "成功地解析 GLM 的响应,获取了推荐的工具函数名和参数。这一步是连接 GLM 和本地执行函数的关键。\n",
    "\n",
    "5. 本地执行工具函数,得到结果:\n",
    "编写了执行 `get_article()` 函数的代码,并将结果转换为可以返回给 GLM 的格式。这一步完成了工具函数的本地执行。\n",
    "\n",
    "6. 向 GLM 提供本地执行的工具结果:\n",
    "最后,将工具函数的执行结果添加到对话历史中,并再次发送请求给 GLM,让它基于新的信息生成最终的响应。这样就形成了一个完整的交互循环。\n"
   ],
   "id": "77ae01df67affb65"
  },
  {
   "metadata": {},
   "cell_type": "markdown",
   "source": "1. 定义我们的维基百科搜索功能",
   "id": "c206183e3446a608"
  },
  {
   "metadata": {
    "ExecuteTime": {
     "end_time": "2024-11-21T08:32:14.661871Z",
     "start_time": "2024-11-21T08:32:05.945932Z"
    }
   },
   "cell_type": "code",
   "source": "!pip install wikipedia",
   "id": "c19635ae841dafcc",
   "outputs": [
    {
     "name": "stdout",
     "output_type": "stream",
     "text": [
      "Collecting wikipedia\n",
      "  Using cached wikipedia-1.4.0-py3-none-any.whl\n",
      "Requirement already satisfied: beautifulsoup4 in d:\\pycharmproject\\glm_series\\.venv\\lib\\site-packages (from wikipedia) (4.12.3)\n",
      "Requirement already satisfied: requests<3.0.0,>=2.0.0 in d:\\pycharmproject\\glm_series\\.venv\\lib\\site-packages (from wikipedia) (2.32.3)\n",
      "Requirement already satisfied: charset-normalizer<4,>=2 in d:\\pycharmproject\\glm_series\\.venv\\lib\\site-packages (from requests<3.0.0,>=2.0.0->wikipedia) (3.4.0)\n",
      "Requirement already satisfied: idna<4,>=2.5 in d:\\pycharmproject\\glm_series\\.venv\\lib\\site-packages (from requests<3.0.0,>=2.0.0->wikipedia) (3.10)\n",
      "Requirement already satisfied: urllib3<3,>=1.21.1 in d:\\pycharmproject\\glm_series\\.venv\\lib\\site-packages (from requests<3.0.0,>=2.0.0->wikipedia) (2.2.3)\n",
      "Requirement already satisfied: certifi>=2017.4.17 in d:\\pycharmproject\\glm_series\\.venv\\lib\\site-packages (from requests<3.0.0,>=2.0.0->wikipedia) (2024.8.30)\n",
      "Requirement already satisfied: soupsieve>1.2 in d:\\pycharmproject\\glm_series\\.venv\\lib\\site-packages (from beautifulsoup4->wikipedia) (2.6)\n",
      "Installing collected packages: wikipedia\n",
      "Successfully installed wikipedia-1.4.0\n"
     ]
    }
   ],
   "execution_count": 42
  },
  {
   "metadata": {
    "ExecuteTime": {
     "end_time": "2024-11-21T09:02:31.263147Z",
     "start_time": "2024-11-21T09:02:26.507135Z"
    }
   },
   "cell_type": "code",
   "source": [
    "import wikipedia\n",
    "\n",
    "def get_article(search_term):\n",
    "    results = wikipedia.search(search_term)\n",
    "    first_result = results[0] #通常，第一个结果是与搜索词最相关的页面。\n",
    "    page = wikipedia.page(first_result, auto_suggest=False) #获取与该标题对应的页面对象，然后通过 page.content 获取该页面的内容。\n",
    "    return page.content\n",
    "\n",
    "article = get_article(\"特朗普\")\n",
    "print(article[:500]) "
   ],
   "id": "90dfae0360d19b67",
   "outputs": [
    {
     "name": "stdout",
     "output_type": "stream",
     "text": [
      "Transcription into Chinese characters is the use of traditional or simplified Chinese characters to phonetically transcribe the sound of terms and names of foreign words to the Chinese language. Transcription is distinct from translation into Chinese whereby the meaning of a foreign word is communicated in Chinese. Since English classes are now standard in most secondary schools, it is increasingly common to see foreign names and terms left in their original form in Chinese texts. However, for m\n"
     ]
    }
   ],
   "execution_count": 45
  },
  {
   "metadata": {},
   "cell_type": "markdown",
   "source": "2. 编写工具定义",
   "id": "826fa5755486bc7"
  },
  {
   "metadata": {
    "ExecuteTime": {
     "end_time": "2024-11-21T11:54:58.848682Z",
     "start_time": "2024-11-21T11:54:58.824689Z"
    }
   },
   "cell_type": "code",
   "source": [
    "article_search_tool = [\n",
    "    {\n",
    "        \"type\": \"function\",\n",
    "        \"function\":{\n",
    "            \"name\": \"get_article\",\n",
    "            \"description\": \"A tool to retrieve an up to date Wikipedia article,notice，should be English.\",\n",
    "            \"parameters\": {\n",
    "             \"type\": \"object\",\n",
    "             \"properties\": {\n",
    "                 \"search_term\": {\n",
    "                     \"type\": \"string\",\n",
    "                     \"description\": \"The search term to find a wikipedia article by title,notice，should be English\"\n",
    "                 },\n",
    "             },\n",
    "             \"required\": [\"search_term\"]\n",
    "         }\n",
    "     }\n",
    "}]"
   ],
   "id": "ac2dc322ec37ec56",
   "outputs": [],
   "execution_count": 80
  },
  {
   "metadata": {},
   "cell_type": "markdown",
   "source": "3. 向GLM发送API请求，携带工具与问题 ",
   "id": "c73a222cf925269b"
  },
  {
   "metadata": {
    "ExecuteTime": {
     "end_time": "2024-11-21T11:55:00.238103Z",
     "start_time": "2024-11-21T11:55:00.225103Z"
    }
   },
   "cell_type": "code",
   "source": "messages = [{\"role\": \"user\", \"content\": \"2024年的影响最大的事件\"}]",
   "id": "3d91c97e98a24030",
   "outputs": [],
   "execution_count": 81
  },
  {
   "metadata": {
    "ExecuteTime": {
     "end_time": "2024-11-21T11:55:02.246476Z",
     "start_time": "2024-11-21T11:55:00.880811Z"
    }
   },
   "cell_type": "code",
   "source": [
    "response = client.chat.completions.create(\n",
    "    model=\"glm-4-plus\",\n",
    "    messages=messages,\n",
    "    tools=article_search_tool,\n",
    ")  "
   ],
   "id": "42433779fb858661",
   "outputs": [],
   "execution_count": 82
  },
  {
   "metadata": {},
   "cell_type": "markdown",
   "source": "4. GLM决策并返回：工具名与入参",
   "id": "69608ac92483b4fc"
  },
  {
   "metadata": {
    "ExecuteTime": {
     "end_time": "2024-11-21T11:55:09.574118Z",
     "start_time": "2024-11-21T11:55:09.560118Z"
    }
   },
   "cell_type": "code",
   "source": [
    "if response.choices[0].message.tool_calls:\n",
    "    tool_call = response.choices[0].message.tool_calls[0].function\n",
    "    print(\"工具函数的名字:\",tool_call.name)\n",
    "    print(\"工具函数的输入:\",tool_call.arguments) "
   ],
   "id": "92fb9793a014fa9",
   "outputs": [
    {
     "name": "stdout",
     "output_type": "stream",
     "text": [
      "工具函数的名字: get_article\n",
      "工具函数的输入: {\"search_term\": \"2024 significant events\"}\n"
     ]
    }
   ],
   "execution_count": 83
  },
  {
   "metadata": {},
   "cell_type": "markdown",
   "source": "5. 本地执行工具函数,得到结果,同时记得要添加**两次**消息到历史对话中",
   "id": "296610f83432cd0a"
  },
  {
   "metadata": {
    "ExecuteTime": {
     "end_time": "2024-11-21T11:56:23.369169Z",
     "start_time": "2024-11-21T11:56:21.069912Z"
    }
   },
   "cell_type": "code",
   "source": [
    "if tool_call.name == \"get_article\":\n",
    "    arguments = json.loads(tool_call.arguments)\n",
    "    search_term = arguments.get(\"search_term\")\n",
    "    wiki_result = get_article(search_term)\n",
    "    print(f\"搜索到了 {search_term}\")\n",
    "    print(\"维基百科的原文:\")\n",
    "    print(wiki_result[:500])"
   ],
   "id": "329af10488448ee1",
   "outputs": [
    {
     "name": "stdout",
     "output_type": "stream",
     "text": [
      "搜索到了 2024 significant events\n",
      "维基百科的原文:\n",
      "This article is a list of significant events that occur in aviation in 2024.\n",
      "\n",
      "\n",
      "== Events ==\n",
      "\n",
      "\n",
      "=== January ===\n",
      "2 January\n",
      "A runway collision at Haneda Airport in Tokyo occurred when Japan Airlines Flight 516, operated by an Airbus A350-900 arriving from Sapporo, collided with a Japan Coast Guard aircraft and both aircraft caught on fire. This resulted in the complete destruction of both aircraft. All 367 passengers and 12 crew members of the Airbus were evacuated. There were six occupants on board\n"
     ]
    }
   ],
   "execution_count": 84
  },
  {
   "metadata": {},
   "cell_type": "markdown",
   "source": "现在我们已经在本地执行了函数调用，我们需要将此函数调用的结果提供回API",
   "id": "3c2954227c1b6808"
  },
  {
   "metadata": {},
   "cell_type": "code",
   "outputs": [],
   "execution_count": null,
   "source": [
    "import json\n",
    "\n",
    "messages = [ {\"role\": \"system\", \"content\": \"根据天气信息，请你根据现实准确专业的给出出行，穿衣，活动建议\"},\n",
    "             {\"role\": \"user\", \"content\": \"北京今天天气如何？\"}]\n",
    "\n",
    "stream = client.chat.completions.create(\n",
    "    model=\"glm-4-alltools\",\n",
    "    messages=messages,\n",
    "    tools=tools,\n",
    "    stream=True\n",
    ") \n",
    "function_call_content = ''\n",
    "function_name = ''\n",
    "for chunk in stream:\n",
    "    # 检查是否有函数调用的信息\n",
    "    if chunk.choices[0].delta.tool_calls:\n",
    "        for tool_call in chunk.choices[0].delta.tool_calls:\n",
    "            # 获取函数名\n",
    "            if tool_call.function.name:\n",
    "                function_name = tool_call.function.name\n",
    "            # 拼接函数参数\n",
    "            if tool_call.function.arguments:\n",
    "                function_call_content += tool_call.function.arguments\n",
    "    # 检查是否完成了函数调用\n",
    "    if chunk.choices[0].finish_reason == 'tool_calls':\n",
    "        # 解析函数参数\n",
    "        try:\n",
    "            function_call_content = function_call_content.split('```')[-1].strip()\n",
    "            args = json.loads(function_call_content)"
   ],
   "id": "74d067abdfba8b82"
  },
  {
   "metadata": {
    "ExecuteTime": {
     "end_time": "2024-11-21T09:05:58.480127Z",
     "start_time": "2024-11-21T09:05:58.462124Z"
    }
   },
   "cell_type": "code",
   "source": "response.choices[0].message.model_dump()",
   "id": "5e880967dcd6bc1d",
   "outputs": [
    {
     "data": {
      "text/plain": [
       "{'content': None,\n",
       " 'role': 'assistant',\n",
       " 'tool_calls': [{'id': 'call_-9221298597947443131',\n",
       "   'function': {'arguments': '{\"search_term\": \"2024 significant events\"}',\n",
       "    'name': 'get_article'},\n",
       "   'type': 'function',\n",
       "   'index': 0}]}"
      ]
     },
     "execution_count": 66,
     "metadata": {},
     "output_type": "execute_result"
    }
   ],
   "execution_count": 66
  },
  {
   "metadata": {
    "ExecuteTime": {
     "end_time": "2024-11-21T11:58:29.382632Z",
     "start_time": "2024-11-21T11:58:29.361635Z"
    }
   },
   "cell_type": "code",
   "source": [
    "import json\n",
    "\n",
    "def parse_function_call(response, messages, client):\n",
    "    try:\n",
    "        # 提取工具调用和相关数据\n",
    "        tool_call = response.choices[0].message.tool_calls[0]\n",
    "        function_name = tool_call.function.name\n",
    "        arguments = json.loads(tool_call.function.arguments)\n",
    "        messages.append(response.choices[0].message.model_dump())\n",
    "        # 定义支持的函数处理逻辑\n",
    "        function_map = {\n",
    "            \"get_weather\": get_weather,\n",
    "            \"get_article\": get_article\n",
    "            # 可以扩展更多函数\n",
    "        }\n",
    "        \n",
    "        if function_name in function_map:\n",
    "            # 调用对应的函数并获取结果\n",
    "            result = function_map[function_name](**arguments)\n",
    "            messages.append({\n",
    "                \"role\": \"tool\",\n",
    "                \"content\": json.dumps(result, ensure_ascii=False),\n",
    "                \"tool_call_id\": tool_call.id\n",
    "            })\n",
    "            \n",
    "            # 再次调用模型\n",
    "            return client.chat.completions.create(\n",
    "                model=\"glm-4-plus\",\n",
    "                messages=messages,\n",
    "                # tools=tools\n",
    "            )\n",
    "        else:\n",
    "            raise ValueError(f\"Unsupported function: {function_name}\")\n",
    "    except Exception as e:\n",
    "        print(f\"Error while parsing function call: {e}\")\n",
    "        return None\n"
   ],
   "id": "909ec078885b3fe7",
   "outputs": [],
   "execution_count": 85
  },
  {
   "metadata": {
    "ExecuteTime": {
     "end_time": "2024-11-21T11:58:51.807869Z",
     "start_time": "2024-11-21T11:58:30.991667Z"
    }
   },
   "cell_type": "code",
   "source": "result = parse_function_call(response, messages, client)",
   "id": "52291b036f469d39",
   "outputs": [],
   "execution_count": 86
  },
  {
   "metadata": {
    "ExecuteTime": {
     "end_time": "2024-11-21T11:58:57.862386Z",
     "start_time": "2024-11-21T11:58:57.849383Z"
    }
   },
   "cell_type": "code",
   "source": "print(result.choices[0].message.content)",
   "id": "3e4006ea3333cf0",
   "outputs": [
    {
     "name": "stdout",
     "output_type": "stream",
     "text": [
      "2024年的重大事件主要集中在航空领域，其中包括多起飞机事故、航空公司运营变动以及重要的航空展览和订单。以下是一些显著的事件：\n",
      "\n",
      "1. **1月2日**：东京羽田机场发生跑道碰撞事故，日本航空516航班与一架日本海岸警卫队飞机相撞并起火，造成两架飞机完全损毁。\n",
      "\n",
      "2. **1月5日**：阿拉斯加航空1282航班在波特兰国际机场起飞后不久发生爆炸性减压，飞机安全返回。\n",
      "\n",
      "3. **1月16日**：美国司法部阻止捷蓝航空以38亿美元收购精神航空。\n",
      "\n",
      "4. **1月18日**：阿卡萨航空在WINGS India 2024活动上订购了150架波音737 MAX飞机。\n",
      "\n",
      "5. **1月24日**：一架俄罗斯伊尔-76M运输机在俄罗斯别尔哥罗德州坠毁，据报道机上有65名乌克兰战俘。\n",
      "\n",
      "6. **2月6日**：前智利总统塞巴斯蒂安·皮涅拉驾驶的罗宾逊R44直升机失控坠入兰科湖。\n",
      "\n",
      "7. **2月18日**：塞尔维亚航空324航班在贝尔格莱德尼古拉特斯拉机场起飞时撞上着陆灯，紧急返回时机身出现大洞。\n",
      "\n",
      "8. **3月12日**：一架俄罗斯伊尔-76军用运输机在别尔哥罗德附近坠毁，机上15人全部遇难。\n",
      "\n",
      "9. **3月22日**：Boom Supersonic的XB-1超音速原型机进行首次飞行。\n",
      "\n",
      "10. **4月13日**：伊拉克、约旦、黎巴嫩、叙利亚、科威特和以色列因伊朗对以色列的袭击而关闭领空。\n",
      "\n",
      "11. **5月19日**：搭载伊朗总统莱西的贝尔212直升机在东阿塞拜疆省瓦尔扎甘附近坠毁，无人生还。\n",
      "\n",
      "12. **5月21日**：新加坡航空321航班从伦敦飞往新加坡途中遭遇严重颠簸，造成1名乘客死亡，104人受伤。\n",
      "\n",
      "13. **6月10日**：马拉维空军一架多尼尔228飞机坠毁，机上包括副总统奇利马在内的9人全部遇难。\n",
      "\n",
      "14. **7月19日**：CrowdStrike事件导致全球5078个航班取消。\n",
      "\n",
      "15. **8月9日**：沃帕斯航空2283航班的一架ATR 72-500在圣保罗附近坠毁，机上62人全部遇难。\n",
      "\n",
      "16. **9月1日**：北欧航空在27年后退出星空联盟，加入天合联盟。\n",
      "\n",
      "17. **9月13日**：超过33,000名波音机械师罢工，停止了波音737、777和767的生产。\n",
      "\n",
      "18. **10月26日**：捷克航空在运营近101年后停止运营。\n",
      "\n",
      "19. **11月18日**：精神航空因亏损、债务、竞争和合并失败申请第11章破产保护。\n",
      "\n",
      "这些事件中，最致命的飞机坠毁事故发生在1月24日和8月9日，分别造成74人和62人遇难。\n",
      "\n",
      "需要注意的是，这些事件主要涉及航空领域，可能还有其他领域的重要事件未被涵盖。如需了解更多详细信息，请查阅相关新闻报道和分析。\n"
     ]
    }
   ],
   "execution_count": 87
  },
  {
   "metadata": {},
   "cell_type": "code",
   "outputs": [],
   "execution_count": null,
   "source": "",
   "id": "519a35ebd2388cd2"
  },
  {
   "metadata": {},
   "cell_type": "code",
   "outputs": [],
   "execution_count": null,
   "source": "",
   "id": "fee5ec6a8f86a951"
  }
 ],
 "metadata": {
  "jupytext": {
   "cell_metadata_filter": "-all",
   "main_language": "python",
   "notebook_metadata_filter": "-all"
  },
  "kernelspec": {
   "name": "python3",
   "language": "python",
   "display_name": "Python 3 (ipykernel)"
  }
 },
 "nbformat": 4,
 "nbformat_minor": 5
}
