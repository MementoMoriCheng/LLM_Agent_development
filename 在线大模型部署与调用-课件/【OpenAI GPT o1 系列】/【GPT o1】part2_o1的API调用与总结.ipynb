{
 "cells": [
  {
   "metadata": {},
   "cell_type": "markdown",
   "source": [
    "## 改写AI大模型推理新纪元o1模型的API调用与总结\n",
    "\n",
    "当我们都在翘首期盼GPT-5时，OpenAI却给了我们一个大模型的转折点 —— 全新的o1模型！\n",
    "\n",
    "OpenAI不走寻常路，抛开GPT系列的命名，将计数器重置回1。这个名为o1的新模型，不仅标志着全新产品线的诞生，更代表着AI领域的一次重大突破。\n",
    "\n",
    "**为什么o1如此特别？**\n",
    "\n",
    "想象一下，一个达到\"博士级推理能力\"的AI，o1在数学、编程和解谜等领域展现出惊人的表现。虽然它可能比GPT-4o要\"慢\"一些，但这是有原因的 —— 因为它在认真思考！\n",
    "\n",
    "引入\"推理令牌\"机制，让o1能够像人类一样在给出答案前进行深入思考。这种方法使模型能够：\n",
    "\n",
    "- 在生成最终答案前考虑多种可能性\n",
    "- 分析问题的不同角度，验证推理过程的正确性\n",
    "\n",
    "**实用性解析**\n",
    "\n",
    "- 需要快速回应，处理图像？选GPT-4o、GPT-4o mini正合适\n",
    "- 但如果你需要深度推理，愿意等待更优质的答案，o1就是不二之选\n"
   ],
   "id": "39d80898567c250b"
  },
  {
   "metadata": {},
   "cell_type": "markdown",
   "source": [
    " 两个版本供选择\n",
    "\n",
    "1. **o1-preview**\n",
    "   - 完整版o1模型预览版（还不是最终的o1，但是目前最智能最贵）\n",
    "   - 专攻需要广泛常识的复杂问题\n",
    "\n",
    "2. **o1-mini**\n",
    "   - 更快速、性价比更高\n",
    "   - 特别适合编码、数学和科学任务\n",
    "\n",
    " ⚠️ 测试版限制要点\n",
    " \n",
    "- 仅支持文本输入输出，图像处理尚不可用。\n",
    "- 不支持系统消息，仅允许用户和助理消息。\n",
    "- 暂不支持流式处理\n",
    "- 工具和函数调用暂未开放\n",
    "- 其他参数固定，temperature 、 top_p和n等参数固定为1，而presence_penalty和frequency_penalty固定为0。\n",
    "- 助手和 Batch API ：o1 模型尚未与 Assistants API 或 Batch API 集成。\n",
    "\n",
    "OpenAI 计划随着 o1 退出测试版而逐步添加对其中一些参数和功能的支持。多模态和工具使用等更高级的功能预计将包含在 o1 系列的未来迭代中。\n",
    "\n",
    " 推理token：o1的核心创新\n",
    "- 模型通过\"reasoning tokens\"进行深度思考\n",
    "- 虽然用户看不到推理过程，但会影响计费\n",
    "- 支持128,000个令牌的超大上下文窗口\n",
    "\n",
    " 使用建议\n",
    "- 避免过度引导思维链，由于模型内部进行推理，“逐步思考”或“解释推理”的指令是不必要的。\n",
    "- 善用分隔符构造输入，使用三引号、XML 标签、节标题等分隔符明确区分输入的不同部分，使模型更容易正确解释各个部分。\n",
    "- 限制检索增强（RAG）中的附加上下文：当提供额外的上下文或文档时，只包含最相关的部分，以防止模型做出过度复杂的响应。\n",
    "\n",
    "开发者可以通过聊天完成端点轻松接入，只需设置`model=\"o1-preview\"`即可开始体验这一革命性的AI推理能力。"
   ],
   "id": "9b5a60ffce5e06a6"
  },
  {
   "metadata": {},
   "cell_type": "markdown",
   "source": [
    "api调用限制——3级及以上用户\n",
    "\n",
    "\n",
    "![](https://typora-photo1220.oss-cn-beijing.aliyuncs.com/DataAnalysis/LingYi/20241025150051.png)\n",
    "\n",
    "https://help.openai.com/en/articles/9824962-openai-o1-preview-and-o1-mini-usage-limits-on-chatgpt-and-the-api"
   ],
   "id": "db90556c9597bc33"
  },
  {
   "metadata": {},
   "cell_type": "markdown",
   "source": [
    "### o1模型的API调用详解与总结"
   ],
   "id": "31eb312e9849ec09"
  },
  {
   "metadata": {},
   "cell_type": "markdown",
   "source": [
    "获取 API 凭证\n",
    "\n",
    "如果您有一个3级帐户，您可以从 OpenAI 的API 密钥页面获取您的秘密 API 密钥."
   ],
   "id": "4dc837fa90e700e2"
  },
  {
   "metadata": {},
   "cell_type": "markdown",
   "source": [
    "导入openai库，初始化客户端对象,请注意，如果您运行的是旧版本，则可能需要更新openai库。"
   ],
   "id": "2c63b5f9a545898b"
  },
  {
   "metadata": {},
   "cell_type": "code",
   "source": [
    "!pip install openai"
   ],
   "id": "1123f09665f86e34",
   "outputs": [],
   "execution_count": null
  },
  {
   "metadata": {},
   "cell_type": "code",
   "source": [
    "from openai import OpenAI\n",
    "# 如果成功配置了环境变量的在OPENAI提供的工具包中会自动找到我们的秘钥\n",
    "client = OpenAI()\n",
    "# 如果没有配置环境变量也可以用变量显式传入 但注意保护好api key不被别人看见\n",
    "# client = OpenAI(api_key=\"bjhgsdjhfkad_your_api_key_here\") "
   ],
   "id": "636bf33940cd294",
   "outputs": [],
   "execution_count": null
  },
  {
   "metadata": {},
   "cell_type": "markdown",
   "source": [
    "#### API 调用参数\n",
    "\n",
    "函数和之前的GPT4o系列所用函数（即背后的端点ulr）一样\n",
    "\n",
    "且返回对象结构一致\n",
    "\n",
    "但只能使用三个参数，两个必须参数以及max_completion_tokens"
   ],
   "id": "acb546450095cf2a"
  },
  {
   "metadata": {},
   "cell_type": "markdown",
   "source": [
    " model参数"
   ],
   "id": "e2707b85923ff73c"
  },
  {
   "metadata": {},
   "cell_type": "markdown",
   "source": [
    "model参数表示的是当前对话调用的模型，具体模型列表参考OpenAI官网Limits页面中的Chat类模型：https://platform.openai.com/account/limits\n",
    "\n",
    "目前o1系列模型只有**o1-preview**和**o1-mini**下面两个版本\n",
    "\n",
    "\n",
    "![](https://typora-photo1220.oss-cn-beijing.aliyuncs.com/DataAnalysis/LingYi/20241025181553.png)"
   ],
   "id": "bf066b5386699557"
  },
  {
   "metadata": {},
   "cell_type": "code",
   "source": [
    "response = client.chat.completions.create(\n",
    "  model=\"o1-mini\",\n",
    "  messages=[\n",
    "      {\"role\": \"user\", \"content\": \"请问什么是大模型？\"}\n",
    "  ]\n",
    ")"
   ],
   "id": "5443a7ee56dbb437",
   "outputs": [],
   "execution_count": null
  },
  {
   "metadata": {},
   "cell_type": "code",
   "source": [
    "print(response.choices[0].message.content)"
   ],
   "id": "2f81601a7b6c4bce",
   "outputs": [],
   "execution_count": null
  },
  {
   "metadata": {},
   "cell_type": "markdown",
   "source": [
    "怎么选择模型呢？首先要选择最新的旗舰款模型\n",
    "\n",
    ">- 像 o1 系列模型 这样的推理模型虽然返回结果较慢且使用更多token来\"思考\"，但它们能进行高级推理、编码和多步骤规划，是目前最智能的模型。这些模型专注于复杂的推理任务和深度思考。\n",
    "1. **o1-preview**\n",
    "   - 完整版o1模型预览版（还不是最终的o1，但是目前最智能最贵）\n",
    "   - 专攻需要广泛常识的复杂问题\n",
    "\n",
    "2. **o1-mini**\n",
    "   - 更快速、性价比更高\n",
    "   - 特别适合编码、数学和科学任务\n",
    "\n",
    ">- 像 gpt-4o 这样的大型模型虽然每个token成本较高且推理比小模型慢，但能提供非常高水平的智能和强大的性能。\n",
    "\n",
    ">- 像 gpt-4o-mini 这样的小型模型虽然智能水平不及大型模型，但它们响应速度快，且每个token的成本更低。\n",
    "\n"
   ],
   "id": "8a2df8d5ecbf9208"
  },
  {
   "metadata": {},
   "cell_type": "markdown",
   "source": [],
   "id": "e3a814c20948266e"
  },
  {
   "metadata": {},
   "cell_type": "markdown",
   "source": [
    "messages参数"
   ],
   "id": "1fa70db62f971d51"
  },
  {
   "metadata": {},
   "cell_type": "markdown",
   "source": [
    "`messages` 是一个包含多个字典的列表。每个字典代表一条消息，包含两个关键部分：\n",
    "\n",
    "1. **角色（`role`）**：表示消息的发送者，如用户（`user`）或助手（`assistant`）。\n",
    "2. **内容（`content`）**：具体的消息内容，即发送的文本。\n",
    "\n",
    "也就是说，无论是用户的消息，助手回答的消息，最后的结构就是这个字典的消息结构\n",
    "\n",
    "messages参数中的role设定不仅有“user”这一种，还有“assistant”和“system”，同时还有后面学函数调用的“tool”：\n",
    "\n",
    "这些角色来源于他们是Message类下的哪个子类：\n",
    "\n",
    "![](https://typora-photo1220.oss-cn-beijing.aliyuncs.com/DataAnalysis/LingYi/20241017111022.png)\n",
    "\n",
    "**结构解析**：\n",
    "- `role`: 指定消息的发送者角色（ **但是现在o1只开放了user和assistant，因为系统提示和工具调用的功能还不可用**）\n",
    "    - “**user**”：表示消息来源于用户，用户向模型提出问题或者发出指令，通常是对话中的输入部分；\n",
    "    - “**assistant**”：表示消息来自于模型聊天助手，即模型的回答或反馈，通常是对话中的输出部分，包括对用户问题的直接回答、建议或者其他类型的响应；\n",
    "    - “**system**”：一般用于模型的身份设定。 \n",
    "    - “**tool**”：函数调用时在本地执行了函数调用后告诉大模型这条消息的内容是函数调用的结果的标志，后面讲函数调用的章节时会具体学到。\n",
    "- `content`: 单次消息内容列表\n",
    "  - `type`: 内容类型（文字消息为 \"text\"，图片消息为\"image_url\"**目前o1还未开放图像的多模态能力，只有文本**），当消息内容只包含文本时，可以使用简化的格式，`content`的值直接为字符串。但是，如果消息内容包含图像或其他非文本内容，则必须使用完整的格式，包括 \"type\" 字段。以下两种写法是等效的：\n",
    "    ```json \n",
    "    {\"role\": \"user\", \"content\": \"Hello, Claude\"}\n",
    "    {\"role\": \"user\", \"content\": [{\"type\": \"text\", \"text\": \"Hello, Claude\"}]}\n",
    "    ```\n"
   ],
   "id": "ba3087177ab8514c"
  },
  {
   "metadata": {
    "ExecuteTime": {
     "end_time": "2024-10-28T10:40:39.039832Z",
     "start_time": "2024-10-28T10:40:12.641440Z"
    }
   },
   "cell_type": "code",
   "source": [
    "response_o1 = client.chat.completions.create(\n",
    "    model=\"o1-preview-2024-09-12\",\n",
    "    messages=[\n",
    "      {\"role\": \"user\", \"content\": \"量子力学该怎么透彻的学\"}\n",
    "    ],\n",
    ")"
   ],
   "id": "e8222de4c5b0e5a9",
   "outputs": [],
   "execution_count": 22
  },
  {
   "metadata": {},
   "cell_type": "markdown",
   "source": [
    "o1响应的结果和gpt4o系列比只有token多了推理token"
   ],
   "id": "2049133f53f4d607"
  },
  {
   "metadata": {},
   "cell_type": "markdown",
   "source": [
    "大模型推理生成的结果直接由create函数返回了，被我们存进了response中"
   ],
   "id": "3add2619772a71c"
  },
  {
   "metadata": {
    "ExecuteTime": {
     "end_time": "2024-10-28T10:40:47.561128Z",
     "start_time": "2024-10-28T10:40:47.553127Z"
    }
   },
   "cell_type": "code",
   "source": [
    "response_o1"
   ],
   "id": "a552aefabe3d0e96",
   "outputs": [
    {
     "data": {
      "text/plain": [
       "ChatCompletion(id='chatcmpl-ANHSQ6HVdtuYafMesD2OQVXQftrVW', choices=[Choice(finish_reason='stop', index=0, logprobs=None, message=ChatCompletionMessage(content='要透彻地学习量子力学，需要循序渐进、系统深入地进行。以下是一些建议，帮助您更好地掌握量子力学：\\n\\n1. **强化数学基础**：\\n\\n   - **线性代数**：熟悉向量空间、矩阵、特征值和特征向量等概念。\\n   - **微积分**：熟练掌握微分和积分的技巧，包括多元微积分。\\n   - **微分方程**：理解常微分方程和偏微分方程的解法。\\n   - **复变函数**：了解复数的性质和复变函数的解析性。\\n\\n2. **巩固经典物理知识**：\\n\\n   - **经典力学**：深入理解牛顿力学、拉格朗日力学和哈密顿力学，为量子力学的学习奠定基础。\\n   - **电动力学**：掌握麦克斯韦方程组和电磁场理论。\\n\\n3. **选择合适的教材**：\\n\\n   - **国内教材**：\\n     - 曾谨言的《量子力学教程》\\n     - 曾谨言的《量子力学导论》\\n   - **国外经典**：\\n     - J.J.萨克赖的《现代量子力学》（Modern Quantum Mechanics）\\n     - D.J.格里菲斯的《量子力学导论》（Introduction to Quantum Mechanics）\\n     - L.D.兰道和E.M.利夫希茨的《量子力学（非相对论理论）》\\n     - P.A.M.狄拉克的《量子力学原理》\\n\\n4. **系统学习理论知识**：\\n\\n   - **逐章学习**：按照教材章节顺序，系统地学习，从基本概念到复杂应用逐步深入。\\n   - **理解物理意义**：不仅要会推导公式，更要理解其背后的物理意义和适用条件。\\n   - **重视概念**：量子力学中许多概念与经典物理直观不同，如波函数、叠加原理和测量问题，需要深刻理解。\\n\\n5. **积极完成习题**：\\n\\n   - **巩固理论**：通过练习来检验和巩固所学知识。\\n   - **提高问题解决能力**：培养分析和解决复杂问题的能力。\\n\\n6. **参与课程和研讨**：\\n\\n   - **大学课程**：如果是在校学生，积极参与量子力学课程的学习，充分利用老师的指导。\\n   - **在线课程**：利用慕课（MOOC）平台，如Coursera、edX、中国大学MOOC等，参加相关在线课程。\\n   - **研讨班和讲座**：参加物理学术会议、研讨班、专题讲座等，拓宽视野。\\n\\n7. **与他人交流学习**：\\n\\n   - **学习小组**：与志同道合的同学组建学习小组，相互讨论和解答疑惑。\\n   - **学术论坛**：在物理学相关的网络论坛和社区中提问和交流，如知乎、科学网等。\\n\\n8. **应用实践**：\\n\\n   - **计算机模拟**：学习使用Matlab、Python等工具，对量子力学问题进行数值模拟，加深理解。\\n   - **实验验证**：如果有条件，参与量子物理实验，直观感受量子现象。\\n\\n9. **阅读前沿研究**：\\n\\n   - **学术期刊**：关注《Physical Review Letters》、《Nature Physics》等期刊上的最新研究成果。\\n   - **预印本服务器**：浏览arXiv上的量子物理相关论文，了解当前研究热点。\\n\\n10. **培养批判性思维**：\\n\\n    - **质疑和反思**：对学习中的疑点积极思考，培养独立思考和质疑精神。\\n    - **跨学科思维**：将量子力学与其他学科结合，如化学、材料科学、信息科学等，拓展应用领域。\\n\\n11. **持之以恒**：\\n\\n    - **制定学习计划**：设定短期和长期目标，按部就班地学习。\\n    - **坚持不懈**：量子力学深入且抽象，可能会遇到困难，保持耐心和毅力非常重要。\\n\\n12. **参考辅助书籍**：\\n\\n    - **数学方法**：Mary L. Boas的《物理学中的数学方法》。\\n    - **物理概念解析**：Feynman的《费曼物理学讲义》，尤其是量子力学部分。\\n\\n13. **求教于导师**：\\n\\n    - **寻求指导**：如果可能，找到一位在量子力学领域有经验的导师或教授，获得专业指导。\\n\\n14. **保持好奇心**：\\n\\n    - **激发兴趣**：阅读量子力学的科普书籍和历史，了解量子力学的发展过程和趣闻轶事。\\n    - **思考现实应用**：研究量子力学在现代科技中的应用，如量子计算、量子通信等。\\n\\n通过以上方法，结合自身的兴趣和需求，深入持久地学习，您一定能够透彻地掌握量子力学的精髓。', refusal=None, role='assistant', function_call=None, tool_calls=None))], created=1730112014, model='o1-preview-2024-09-12', object='chat.completion', service_tier=None, system_fingerprint='fp_949fbd3740', usage=CompletionUsage(completion_tokens=1628, prompt_tokens=19, total_tokens=1647, completion_tokens_details=CompletionTokensDetails(audio_tokens=None, reasoning_tokens=448), prompt_tokens_details=PromptTokensDetails(audio_tokens=None, cached_tokens=0)))"
      ]
     },
     "execution_count": 23,
     "metadata": {},
     "output_type": "execute_result"
    }
   ],
   "execution_count": 23
  },
  {
   "metadata": {
    "ExecuteTime": {
     "end_time": "2024-10-28T10:40:55.055520Z",
     "start_time": "2024-10-28T10:40:55.042520Z"
    }
   },
   "cell_type": "code",
   "source": [
    "# 查看返回对象类型\n",
    "type(response_o1)"
   ],
   "id": "4e0559ca392c0271",
   "outputs": [
    {
     "data": {
      "text/plain": [
       "openai.types.chat.chat_completion.ChatCompletion"
      ]
     },
     "execution_count": 24,
     "metadata": {},
     "output_type": "execute_result"
    }
   ],
   "execution_count": 24
  },
  {
   "metadata": {},
   "cell_type": "markdown",
   "source": [
    "模型返回对象是一个类。若想提取response中具体返回的内容，可以直接通过属性调用的方式："
   ],
   "id": "994b9299a63ee9d8"
  },
  {
   "metadata": {
    "ExecuteTime": {
     "end_time": "2024-10-28T10:41:06.507701Z",
     "start_time": "2024-10-28T10:41:06.489701Z"
    }
   },
   "cell_type": "code",
   "source": [
    "response_o1.id \n",
    "# 代表这段对话的唯一标识符。"
   ],
   "id": "5df587116664a38c",
   "outputs": [
    {
     "data": {
      "text/plain": [
       "'chatcmpl-ANHSQ6HVdtuYafMesD2OQVXQftrVW'"
      ]
     },
     "execution_count": 25,
     "metadata": {},
     "output_type": "execute_result"
    }
   ],
   "execution_count": 25
  },
  {
   "metadata": {},
   "cell_type": "markdown",
   "source": [
    "API调用中计费的单位是token：\n",
    "\n",
    "![](https://typora-photo1220.oss-cn-beijing.aliyuncs.com/DataAnalysis/LingYi/20241025182906.png)\n",
    "\n",
    "![](https://typora-photo1220.oss-cn-beijing.aliyuncs.com/DataAnalysis/LingYi/20241025182915.png)\n",
    "- **什么是token**\n",
    " - 在大语言模型中,token是文本的基本单位。模型不是直接处理原始文本,而是将文本切分成一系列token进行处理，最后将token映射成数字。token可以是单词、子词或者单个字符,具体取决于模型使用的分词方法。\n",
    " - OpenAI 官方提供了一个工具 **Tokenizer**，可以测试任意输入的文本，并查看它们是如何被转换成 Tokens 的。Tokenizer 工具地址：https://platform.openai.com/tokenizer\n",
    "  - \n",
    "    - <center><img src=\"https://typora-photo1220.oss-cn-beijing.aliyuncs.com/DataAnalysis/LingYi/20241010191810.png\" alt=\"Tokenizer 工具\" /></center>\n",
    "\n",
    "可以在返回结果的usage中查看本次对话所占用的token数量。具体含义如下：\n",
    "- **completion_tokens**：表示生成的回答的token数量；\n",
    "- **prompt_tokens**：表示输入给模型的prompt占用的token数量（这里指的是“请举几个罗马帝国的趣事”这句话的token数）\n",
    "- **total_tokens**：表示本次对话总共占用的token数量，是输入和输出token之和。"
   ],
   "id": "3c790c415d4ef916"
  },
  {
   "metadata": {
    "ExecuteTime": {
     "end_time": "2024-10-28T10:43:15.536647Z",
     "start_time": "2024-10-28T10:43:15.522647Z"
    }
   },
   "cell_type": "code",
   "source": [
    "response_o1.usage"
   ],
   "id": "ae3bd63509d47003",
   "outputs": [
    {
     "data": {
      "text/plain": [
       "CompletionUsage(completion_tokens=1628, prompt_tokens=19, total_tokens=1647, completion_tokens_details=CompletionTokensDetails(audio_tokens=None, reasoning_tokens=448), prompt_tokens_details=PromptTokensDetails(audio_tokens=None, cached_tokens=0))"
      ]
     },
     "execution_count": 26,
     "metadata": {},
     "output_type": "execute_result"
    }
   ],
   "execution_count": 26
  },
  {
   "metadata": {},
   "cell_type": "markdown",
   "source": [
    "模型回应的正文"
   ],
   "id": "ca98f52dae270d57"
  },
  {
   "metadata": {
    "ExecuteTime": {
     "end_time": "2024-10-28T10:43:47.315020Z",
     "start_time": "2024-10-28T10:43:47.304016Z"
    }
   },
   "cell_type": "code",
   "source": [
    "print(response_o1.choices[0].message.content)"
   ],
   "id": "bd1f1765e1cbf012",
   "outputs": [
    {
     "name": "stdout",
     "output_type": "stream",
     "text": [
      "要透彻地学习量子力学，需要循序渐进、系统深入地进行。以下是一些建议，帮助您更好地掌握量子力学：\n",
      "\n",
      "1. **强化数学基础**：\n",
      "\n",
      "   - **线性代数**：熟悉向量空间、矩阵、特征值和特征向量等概念。\n",
      "   - **微积分**：熟练掌握微分和积分的技巧，包括多元微积分。\n",
      "   - **微分方程**：理解常微分方程和偏微分方程的解法。\n",
      "   - **复变函数**：了解复数的性质和复变函数的解析性。\n",
      "\n",
      "2. **巩固经典物理知识**：\n",
      "\n",
      "   - **经典力学**：深入理解牛顿力学、拉格朗日力学和哈密顿力学，为量子力学的学习奠定基础。\n",
      "   - **电动力学**：掌握麦克斯韦方程组和电磁场理论。\n",
      "\n",
      "3. **选择合适的教材**：\n",
      "\n",
      "   - **国内教材**：\n",
      "     - 曾谨言的《量子力学教程》\n",
      "     - 曾谨言的《量子力学导论》\n",
      "   - **国外经典**：\n",
      "     - J.J.萨克赖的《现代量子力学》（Modern Quantum Mechanics）\n",
      "     - D.J.格里菲斯的《量子力学导论》（Introduction to Quantum Mechanics）\n",
      "     - L.D.兰道和E.M.利夫希茨的《量子力学（非相对论理论）》\n",
      "     - P.A.M.狄拉克的《量子力学原理》\n",
      "\n",
      "4. **系统学习理论知识**：\n",
      "\n",
      "   - **逐章学习**：按照教材章节顺序，系统地学习，从基本概念到复杂应用逐步深入。\n",
      "   - **理解物理意义**：不仅要会推导公式，更要理解其背后的物理意义和适用条件。\n",
      "   - **重视概念**：量子力学中许多概念与经典物理直观不同，如波函数、叠加原理和测量问题，需要深刻理解。\n",
      "\n",
      "5. **积极完成习题**：\n",
      "\n",
      "   - **巩固理论**：通过练习来检验和巩固所学知识。\n",
      "   - **提高问题解决能力**：培养分析和解决复杂问题的能力。\n",
      "\n",
      "6. **参与课程和研讨**：\n",
      "\n",
      "   - **大学课程**：如果是在校学生，积极参与量子力学课程的学习，充分利用老师的指导。\n",
      "   - **在线课程**：利用慕课（MOOC）平台，如Coursera、edX、中国大学MOOC等，参加相关在线课程。\n",
      "   - **研讨班和讲座**：参加物理学术会议、研讨班、专题讲座等，拓宽视野。\n",
      "\n",
      "7. **与他人交流学习**：\n",
      "\n",
      "   - **学习小组**：与志同道合的同学组建学习小组，相互讨论和解答疑惑。\n",
      "   - **学术论坛**：在物理学相关的网络论坛和社区中提问和交流，如知乎、科学网等。\n",
      "\n",
      "8. **应用实践**：\n",
      "\n",
      "   - **计算机模拟**：学习使用Matlab、Python等工具，对量子力学问题进行数值模拟，加深理解。\n",
      "   - **实验验证**：如果有条件，参与量子物理实验，直观感受量子现象。\n",
      "\n",
      "9. **阅读前沿研究**：\n",
      "\n",
      "   - **学术期刊**：关注《Physical Review Letters》、《Nature Physics》等期刊上的最新研究成果。\n",
      "   - **预印本服务器**：浏览arXiv上的量子物理相关论文，了解当前研究热点。\n",
      "\n",
      "10. **培养批判性思维**：\n",
      "\n",
      "    - **质疑和反思**：对学习中的疑点积极思考，培养独立思考和质疑精神。\n",
      "    - **跨学科思维**：将量子力学与其他学科结合，如化学、材料科学、信息科学等，拓展应用领域。\n",
      "\n",
      "11. **持之以恒**：\n",
      "\n",
      "    - **制定学习计划**：设定短期和长期目标，按部就班地学习。\n",
      "    - **坚持不懈**：量子力学深入且抽象，可能会遇到困难，保持耐心和毅力非常重要。\n",
      "\n",
      "12. **参考辅助书籍**：\n",
      "\n",
      "    - **数学方法**：Mary L. Boas的《物理学中的数学方法》。\n",
      "    - **物理概念解析**：Feynman的《费曼物理学讲义》，尤其是量子力学部分。\n",
      "\n",
      "13. **求教于导师**：\n",
      "\n",
      "    - **寻求指导**：如果可能，找到一位在量子力学领域有经验的导师或教授，获得专业指导。\n",
      "\n",
      "14. **保持好奇心**：\n",
      "\n",
      "    - **激发兴趣**：阅读量子力学的科普书籍和历史，了解量子力学的发展过程和趣闻轶事。\n",
      "    - **思考现实应用**：研究量子力学在现代科技中的应用，如量子计算、量子通信等。\n",
      "\n",
      "通过以上方法，结合自身的兴趣和需求，深入持久地学习，您一定能够透彻地掌握量子力学的精髓。\n"
     ]
    }
   ],
   "execution_count": 27
  },
  {
   "metadata": {},
   "cell_type": "markdown",
   "source": [
    "如何使用 OpenAI O1 模型控制成本\n",
    "\n",
    "在之前的模型中，我们使用`max_tokens`控制最终可见输出的token数量\n",
    "为了更准确地反映o1模型的工作方式，及它控制的是\"完成过程\"中的所有token改为了新的`max_completion_tokens`，它包括：\n",
    "  * 不可见的推理过程token\n",
    "  * 最终可见的输出token\n",
    "    \n",
    "新的`max_completion_tokens`避免用户误解这个限制只是针对最终输出\n",
    "\n",
    "\n",
    "1. Token使用的特殊性：\n",
    "- o1模型使用的token包括可见输出和不可见的推理过程\n",
    "- 如果达到token限制前未完成推理，将不会返回任何输出\n",
    "- 需要合理设置max_completion_tokens以保证获得输出\n",
    "\n",
    "2. 参数变化：\n",
    "- 新增：max_completion_tokens（取代max_tokens）控制所有完成token的总数（包括推理和输出）\n",
    "- 建议：至少预留25,000个token用于完成\n",
    "\n",
    "3. 模型具体限制：\n",
    "- o1-preview：\n",
    "  * 上下文窗口：128,000 tokens\n",
    "  * 输出上限：32,768 tokens\n",
    "\n",
    "- o1-mini：\n",
    "  * 上下文窗口：128,000 tokens\n",
    "  * 输出上限：65,536 tokens\n",
    "\n",
    "4. 成本控制建议：\n",
    "- 需要根据具体用例测试合适的max_completion_tokens值\n",
    "- 注意监控上下文窗口使用情况，避免输出被截断\n",
    "- 合理设置以避免支付无效的推理token费用\n",
    "\n",
    "让我们在前面的示例中尝试max_completion_tokens 。我们将其设置为100 ，看看会得到什么。要使用这个新参数，"
   ],
   "id": "c377250c1f0d76a8"
  },
  {
   "metadata": {},
   "cell_type": "code",
   "source": [
    "response_o1 = client.chat.completions.create(\n",
    "    model=\"o1-mini\",\n",
    "    messages=[\n",
    "      {\"role\": \"user\", \"content\": \"请帮我写3个问句\"}\n",
    "    ],\n",
    "    max_completion_tokens=100\n",
    ")\n"
   ],
   "id": "21d3f227bd633547",
   "outputs": [],
   "execution_count": null
  },
  {
   "metadata": {},
   "cell_type": "markdown",
   "source": "因为长度停止，所以是空白回复没有生成",
   "id": "dc259516ea5dc889"
  },
  {
   "metadata": {
    "ExecuteTime": {
     "end_time": "2024-10-28T09:05:19.052697Z",
     "start_time": "2024-10-28T09:05:19.038696Z"
    }
   },
   "cell_type": "code",
   "source": "response_o1",
   "id": "4e901a4ba1bcc14e",
   "outputs": [
    {
     "data": {
      "text/plain": [
       "ChatCompletion(id='chatcmpl-ANFxcXYj2bLAgbOiBDPTc8GPWKqnl', choices=[Choice(finish_reason='length', index=0, logprobs=None, message=ChatCompletionMessage(content='', refusal=None, role='assistant', function_call=None, tool_calls=None))], created=1730106260, model='o1-mini-2024-09-12', object='chat.completion', service_tier=None, system_fingerprint='fp_93b09d5093', usage=CompletionUsage(completion_tokens=100, prompt_tokens=16, total_tokens=116, completion_tokens_details=CompletionTokensDetails(audio_tokens=None, reasoning_tokens=100), prompt_tokens_details=PromptTokensDetails(audio_tokens=None, cached_tokens=0)))"
      ]
     },
     "execution_count": 18,
     "metadata": {},
     "output_type": "execute_result"
    }
   ],
   "execution_count": 18
  },
  {
   "metadata": {},
   "cell_type": "markdown",
   "source": "API调用区别与总结",
   "id": "cb6638d9c96a7ca5"
  },
  {
   "metadata": {},
   "cell_type": "code",
   "source": [
    "import openai\n",
    "client = openai.OpenAI()"
   ],
   "id": "e656676105607af6",
   "outputs": [],
   "execution_count": null
  },
  {
   "metadata": {
    "ExecuteTime": {
     "end_time": "2024-10-28T09:05:45.597300Z",
     "start_time": "2024-10-28T09:05:40.718738Z"
    }
   },
   "cell_type": "code",
   "source": [
    "response_o1 = client.chat.completions.create(\n",
    "    model=\"o1-mini\",\n",
    "    messages=[\n",
    "      {\"role\": \"user\", \"content\": \"请帮我写3个问句\"}\n",
    "    ],\n",
    ")\n",
    "\n",
    "\n",
    "response_4o = client.chat.completions.create(\n",
    "    model=\"gpt-4o-mini\",\n",
    "    messages=[\n",
    "      {\"role\": \"user\", \"content\": \"请帮我写3个问句\"}\n",
    "    ],\n",
    ")\n"
   ],
   "id": "7193bb60798210c9",
   "outputs": [],
   "execution_count": 20
  },
  {
   "metadata": {},
   "cell_type": "markdown",
   "source": [
    "![](https://typora-photo1220.oss-cn-beijing.aliyuncs.com/DataAnalysis/LingYi/20241022185124.png)\n",
    "\n",
    "比较两个模型的回复，都是同一个类的对象，没有差别，只有token处会有区别。"
   ],
   "id": "e88f220c926175ec"
  },
  {
   "metadata": {
    "ExecuteTime": {
     "end_time": "2024-10-28T09:05:48.822685Z",
     "start_time": "2024-10-28T09:05:48.801688Z"
    }
   },
   "cell_type": "code",
   "source": [
    "# response_o1 = client.chat.completions.create(model=\"o1-mini\", messages=[{\"role\": \"user\", \"content\": \"请帮我写3个问句\"}])\n",
    "# response_4o = client.chat.completions.create(model=\"gpt-4o-mini\", messages=[{\"role\": \"user\", \"content\": \"请帮我写3个问句\"}])\n",
    "\n",
    "def compare_token_usage(response1, response2, label1='o1-mini', label2='gpt-4o-mini'):\n",
    "    \"\"\"\n",
    "    比较两个ChatCompletion响应对象的令牌使用情况，并打印结果。\n",
    "    \"\"\"\n",
    "    # 提取令牌使用数据\n",
    "    tokens = ['completion_tokens', 'prompt_tokens', 'total_tokens']\n",
    "    \n",
    "    print(f\"{'属性':<20} | {label1:<15} | {label2:<15} | {'差异':<10}\")\n",
    "    print(\"-\" * 65)\n",
    "    \n",
    "    for token in tokens:\n",
    "        value1 = getattr(response1.usage, token, 'N/A')\n",
    "        value2 = getattr(response2.usage, token, 'N/A')\n",
    "        if isinstance(value1, int) and isinstance(value2, int):\n",
    "            difference = value2 - value1\n",
    "        else:\n",
    "            difference = 'N/A'\n",
    "        print(f\"{token:<20} | {value1:<15} | {value2:<15} | {difference:<10}\")\n",
    "\n",
    "compare_token_usage(response_o1, response_4o)\n"
   ],
   "id": "180137595477fb49",
   "outputs": [
    {
     "name": "stdout",
     "output_type": "stream",
     "text": [
      "属性                   | o1-mini         | gpt-4o-mini     | 差异        \n",
      "-----------------------------------------------------------------\n",
      "completion_tokens    | 244             | 38              | -206      \n",
      "prompt_tokens        | 16              | 15              | -1        \n",
      "total_tokens         | 260             | 53              | -207      \n"
     ]
    }
   ],
   "execution_count": 21
  }
 ],
 "metadata": {
  "kernelspec": {
   "display_name": "Python 3",
   "language": "python",
   "name": "python3"
  },
  "language_info": {
   "codemirror_mode": {
    "name": "ipython",
    "version": 2
   },
   "file_extension": ".py",
   "mimetype": "text/x-python",
   "name": "python",
   "nbconvert_exporter": "python",
   "pygments_lexer": "ipython2",
   "version": "2.7.6"
  }
 },
 "nbformat": 4,
 "nbformat_minor": 5
}
