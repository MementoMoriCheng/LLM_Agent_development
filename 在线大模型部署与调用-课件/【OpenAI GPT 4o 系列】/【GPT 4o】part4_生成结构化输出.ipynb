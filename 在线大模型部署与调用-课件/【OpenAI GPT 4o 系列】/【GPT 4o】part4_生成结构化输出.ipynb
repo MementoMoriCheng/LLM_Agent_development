{
 "cells": [
  {
   "cell_type": "markdown",
   "id": "37baa222",
   "metadata": {},
   "source": [
    "### 结构化生成回答\n",
    "\n",
    "#### 1. 介绍\n",
    "\n",
    "**JSON**（JavaScript Object Notation）是当前使用最广泛的数据交换格式之一。**结构化输出**是一个功能，确保模型生成的响应符合你提供的**JSON Schema**，从而避免遗漏必要的键或生成无效的枚举值。\n",
    "\n",
    "**优点**：\n",
    "- **可靠的类型安全**：无需担心格式错误的响应。\n",
    "- **明确的拒绝**：可以程序化检测模型的拒绝响应。\n",
    "- **更简单的提示**：不需要复杂的提示来实现一致的格式化。\n",
    "\n",
    "我们既可以在prompt提示中设置所需的结构化模型的输出，OPENAI也单独为模型提供了Json架构与可选参数。（3种）\n",
    "\n",
    "这也展现了大模型应用开发的发展历程和应用趋势。\n",
    "\n",
    "**教程中为方便展示已把description描述和prompt设置成中文方便观看，在真实的业务场景中想要优化效果需要改成英文的**\n",
    "\n",
    "#### 2. 获取结构化响应\n",
    "\n",
    "##### 2.1 最早期 用prompt控制生成特定的格式（非常不推荐）\n",
    "\n",
    "prompt与fewshot生成QA问答对：\n",
    "\n",
    "例如要求模型生成特定数量的问答对，并可以分隔问题和答案（课程辅导等，书籍提取）："
   ]
  },
  {
   "metadata": {
    "ExecuteTime": {
     "end_time": "2024-10-31T11:48:45.356206Z",
     "start_time": "2024-10-31T11:48:40.971862Z"
    }
   },
   "cell_type": "code",
   "source": [
    "import json\n",
    "import openai\n",
    "\n",
    "# 1. 初始化 OpenAI 客户端\n",
    "client = openai.OpenAI()\n",
    "\n",
    "# 2. 准备提示信息和格式说明\n",
    "messages = [\n",
    "    {\n",
    "        \"role\": \"system\", \n",
    "        \"content\": \"你是一个助手。请以JSON格式返回3个关于大模型原理Decoder的问答对。必须使用以下格式：[{\\\"question\\\": \\\"问题1\\\", \\\"answer\\\": \\\"答案1\\\"}, {\\\"question\\\": \\\"问题2\\\", \\\"answer\\\": \\\"答案2\\\"}, {\\\"question\\\": \\\"问题3\\\", \\\"answer\\\": \\\"答案3\\\"}]\"\n",
    "    },\n",
    "    {\n",
    "        \"role\": \"user\", \n",
    "        \"content\": \"生成3个关于大模型原理Decoder的问答对\"\n",
    "    }\n",
    "]\n",
    "\n",
    "try:\n",
    "    # 3. 发送请求\n",
    "    response = client.chat.completions.create(\n",
    "        model=\"gpt-4o-mini\",  \n",
    "        messages=messages,\n",
    "        # response_format=\n",
    "    )\n",
    "    \n",
    "    # 打印原始响应内容（调试用）\n",
    "    print(\"Raw response:\", response.choices[0].message.content)\n",
    "    \n",
    "    # 4. 解析响应\n",
    "    try:\n",
    "        qa_pairs = json.loads(response.choices[0].message.content)\n",
    "        \n",
    "        # 5. 打印结果\n",
    "        for pair in qa_pairs:\n",
    "            print(f\"Q: {pair['question']}\")\n",
    "            print(f\"A: {pair['answer']}\\n\")\n",
    "            \n",
    "    except json.JSONDecodeError as e:\n",
    "        print(f\"JSON解析错误: {e}\")\n",
    "        print(f\"收到的内容: {response.choices[0].message.content}\")\n",
    "        \n",
    "except Exception as e:\n",
    "    print(f\"API请求错误: {e}\")"
   ],
   "id": "a2d066bc2b130299",
   "outputs": [
    {
     "name": "stdout",
     "output_type": "stream",
     "text": [
      "Raw response: [\n",
      "    {\"question\": \"Decoder在大模型中有什么作用？\", \"answer\": \"Decoder负责将输入的隐藏状态转换为输出序列，它逐步生成每个词，并根据之前生成的词和上下文信息预测下一个词。\"},\n",
      "    {\"question\": \"Decoder是如何处理输入序列的？\", \"answer\": \"Decoder接收来自编码器的上下文向量，并结合自身的输入和内部状态，通过自注意力机制和前馈神经网络生成最终的输出序列。\"},\n",
      "    {\"question\": \"在训练Decoder时常用的损失函数是什么？\", \"answer\": \"在训练Decoder时，通常使用交叉熵损失函数来衡量生成序列与目标序列之间的差异，通过最小化此损失函数来优化模型参数。\"}\n",
      "]\n",
      "Q: Decoder在大模型中有什么作用？\n",
      "A: Decoder负责将输入的隐藏状态转换为输出序列，它逐步生成每个词，并根据之前生成的词和上下文信息预测下一个词。\n",
      "\n",
      "Q: Decoder是如何处理输入序列的？\n",
      "A: Decoder接收来自编码器的上下文向量，并结合自身的输入和内部状态，通过自注意力机制和前馈神经网络生成最终的输出序列。\n",
      "\n",
      "Q: 在训练Decoder时常用的损失函数是什么？\n",
      "A: 在训练Decoder时，通常使用交叉熵损失函数来衡量生成序列与目标序列之间的差异，通过最小化此损失函数来优化模型参数。\n",
      "\n"
     ]
    }
   ],
   "execution_count": 17
  },
  {
   "metadata": {},
   "cell_type": "markdown",
   "source": [
    "可能会正好的json，也可能会因为多了多余的字符无法直接用代码解析：\n",
    "\n",
    "![](https://typora-photo1220.oss-cn-beijing.aliyuncs.com/DataAnalysis/LingYi/20241031163440.png)"
   ],
   "id": "b6ea35f8606416be"
  },
  {
   "metadata": {},
   "cell_type": "markdown",
   "source": "号外——官方出手了：",
   "id": "8c39bbbc07ac5230"
  },
  {
   "cell_type": "markdown",
   "id": "6beab2e5",
   "metadata": {},
   "source": [
    "\n",
    "\n",
    "\n",
    "### 2.2 使用 response_format 参数生成结构化输出（非常推荐）\n",
    "\n",
    "\n",
    "有两种定义数据结构的方式，一种是用类定义（Pydantic），一种是用使用 JSON Schema 字典（tool use时接触的）\n",
    "\n",
    "## 方式一：使用 Pydantic BaseModel\n",
    "\n",
    "Pydantic 是一个数据验证库，通过继承 BaseModel 来定义数据结构：\n",
    "\n",
    "```python\n",
    "from pydantic import BaseModel\n",
    "from typing import List\n",
    "\n",
    "class QAPair(BaseModel):\n",
    "    question: str\n",
    "    answer: str\n",
    "\n",
    "# 使用示例\n",
    "response_format = QAPair\n",
    "```\n",
    "\n",
    "优点：\n",
    "- 提供完整的数据验证功能\n",
    "- 自动类型转换，支持嵌套结构\n",
    "- 与 OpenAI API 完全兼容，官方给出的最佳实践\n",
    "\n",
    "## 方式二：直接使用 JSON Schema 字典\n",
    "\n",
    "这种方式直接定义 JSON Schema：\n",
    "\n",
    "```python\n",
    "schema = {\n",
    "    \"type\": \"object\",\n",
    "    \"properties\": {\n",
    "        \"question\": {\"type\": \"string\"},\n",
    "        \"answer\": {\"type\": \"string\"}\n",
    "    },\n",
    "    \"required\": [\"question\", \"answer\"],\n",
    "    \"additionalProperties\": false\n",
    "}\n",
    "\n",
    "# 使用示例\n",
    "response_format = {\"type\": \"json_schema\", \"schema\": schema}\n",
    "```\n",
    "\n",
    "优点：\n",
    "- 直接使用 JSON Schema 规范\n",
    "- 灵活的结构定义，直白的添加更多验证规则\n"
   ]
  },
  {
   "metadata": {},
   "cell_type": "markdown",
   "source": [
    "#### 2.2.1 用JSON Schema生成结构化输出\n",
    "\n",
    "**步骤 1：定义架构**\n",
    "\n",
    "设计模型应遵循的 JSON Schema。确保清晰命名键，并为重要字段添加描述。\n",
    "\n",
    "**步骤 2：提供架构**\n",
    "\n",
    "在 API 调用中指定架构："
   ],
   "id": "6b868b8b757bf793"
  },
  {
   "metadata": {},
   "cell_type": "code",
   "outputs": [],
   "execution_count": 12,
   "source": [
    "response = client.chat.completions.create(\n",
    "    model=\"gpt-4o-2024-08-06\",\n",
    "    messages=[\n",
    "        {\"role\": \"system\", \"content\": \"You are a helpful math tutor. Guide the user through the solution step by step.\"},\n",
    "        {\"role\": \"user\", \"content\": \"how can I solve 8x + 7 = -23\"}\n",
    "    ],\n",
    "    response_format={\n",
    "        \"type\": \"json_schema\",\n",
    "        \"json_schema\": {\n",
    "            \"name\": \"math_response\",\n",
    "            \"schema\": {\n",
    "                \"type\": \"object\",\n",
    "                \"properties\": {\n",
    "                    \"steps\": {\n",
    "                        \"type\": \"array\",\n",
    "                        \"items\": {\n",
    "                            \"type\": \"object\",\n",
    "                            \"properties\": {\n",
    "                                \"explanation\": {\"type\": \"string\"},\n",
    "                                \"output\": {\"type\": \"string\"}\n",
    "                            },\n",
    "                            \"required\": [\"explanation\", \"output\"],\n",
    "                            \"additionalProperties\": False\n",
    "                        }\n",
    "                    },\n",
    "                    \"final_answer\": {\"type\": \"string\"}\n",
    "                },\n",
    "                \"required\": [\"steps\", \"final_answer\"],\n",
    "                \"additionalProperties\": False\n",
    "            },\n",
    "            \"strict\": True\n",
    "        }\n",
    "    }\n",
    ")"
   ],
   "id": "a331b2f7"
  },
  {
   "metadata": {},
   "cell_type": "markdown",
   "source": [
    "**优化：以类型安全的方式使用生成的数据**（旧方法）\n",
    "\n",
    "确保解析生成的数据为对应类型，使用 Pydantic 进行类型验证。"
   ],
   "id": "a46d3944"
  },
  {
   "cell_type": "code",
   "id": "79a7c8a3",
   "metadata": {
    "ExecuteTime": {
     "end_time": "2024-10-31T08:50:49.209150Z",
     "start_time": "2024-10-31T08:50:49.191151Z"
    }
   },
   "source": [
    "from pydantic import BaseModel, ValidationError\n",
    "from typing import List\n",
    "\n",
    "class Step(BaseModel):\n",
    "    explanation: str\n",
    "    output: str\n",
    "\n",
    "class Solution(BaseModel):\n",
    "    steps: List[Step]\n",
    "    final_answer: str\n",
    "\n",
    "try:\n",
    "    solution = Solution.parse_raw(response.choices[0].message.content)\n",
    "    print(solution)\n",
    "except ValidationError as e:\n",
    "    print(e.json())"
   ],
   "outputs": [
    {
     "name": "stdout",
     "output_type": "stream",
     "text": [
      "steps=[Step(explanation='We start with the equation: \\\\(8x + 7 = -23\\\\). Our goal is to isolate \\\\(x\\\\), so the first step is to eliminate the constant term on the left side.', output='8x + 7 = -23'), Step(explanation='Subtract 7 from both sides to begin isolating the variable term \\\\(8x\\\\).', output='8x + 7 - 7 = -23 - 7'), Step(explanation='Simplify both sides. On the left, the \\\\(+7\\\\) and \\\\(-7\\\\) cancel each other out, leaving \\\\(8x\\\\).', output='8x = -30'), Step(explanation='Now, divide both sides by 8 to solve for \\\\(x\\\\).', output='\\\\frac{8x}{8} = \\\\frac{-30}{8}'), Step(explanation='Simplify \\\\(\\\\frac{-30}{8}\\\\) by dividing the numerator and the denominator by their greatest common divisor, which is 2.', output='x = \\\\frac{-30 \\\\div 2}{8 \\\\div 2} = \\\\frac{-15}{4}')] final_answer='x = \\\\frac{-15}{4}'\n"
     ]
    }
   ],
   "execution_count": 16
  },
  {
   "metadata": {},
   "cell_type": "markdown",
   "source": [
    "输出示例：\n",
    "```json\n",
    "{\n",
    "  \"steps\": [\n",
    "    {\n",
    "      \"explanation\": \"Start with the equation 8x + 7 = -23.\",\n",
    "      \"output\": \"8x + 7 = -23\"\n",
    "    },\n",
    "    {\n",
    "      \"explanation\": \"Subtract 7 from both sides to isolate the term with the variable.\",\n",
    "      \"output\": \"8x = -23 - 7\"\n",
    "    }\n",
    "  ],\n",
    "  \"final_answer\": \"x = -15 / 4\"\n",
    "}\n",
    "```"
   ],
   "id": "fb9ae05890d480c7"
  },
  {
   "metadata": {},
   "cell_type": "markdown",
   "source": "号外——官方出手了：加入strict了参数限制",
   "id": "4f4928ff649617a"
  },
  {
   "metadata": {},
   "cell_type": "code",
   "outputs": [],
   "execution_count": null,
   "source": "response_format: { type: \"json_schema\", json_schema: {\"strict\": true, \"schema\": ...} }",
   "id": "6cfb35802a13088a"
  },
  {
   "cell_type": "markdown",
   "id": "c158e188",
   "metadata": {},
   "source": [
    "优化： 拒绝情况\n",
    "\n",
    "如果模型拒绝响应，将包含一个新字段 `refusal`，用于指示拒绝的原因。可在 UI 中处理此情况。"
   ]
  },
  {
   "cell_type": "code",
   "execution_count": null,
   "id": "2f427fb6",
   "metadata": {},
   "outputs": [],
   "source": [
    "math_reasoning = response.choices[0].message\n",
    "if (math_reasoning.refusal):\n",
    "    print(math_reasoning.refusal)\n",
    "else:\n",
    "    print(math_reasoning.parsed)"
   ]
  },
  {
   "metadata": {},
   "cell_type": "code",
   "outputs": [],
   "execution_count": null,
   "source": "",
   "id": "10954a8164facd9f"
  },
  {
   "cell_type": "markdown",
   "id": "c6c02963",
   "metadata": {},
   "source": [
    " 提示与最佳实践\n",
    "\n",
    "**Schema 限制**:\n",
    "- 最多100个对象属性\n",
    "- 最多5层嵌套\n",
    "- 字符串长度总和不超过15,000字符\n",
    "- 枚举值最多500个\n",
    "\n",
    "- 处理用户输入时，包含有关如何处理无效响应的说明。\n",
    "- 对于错误，调整提示并尝试将任务拆分为更简单的子任务。\n",
    "\n",
    "\n",
    "支持的模式\n",
    "\n",
    "结构化输出支持 JSON Schema 的子集包括字符串、数字、布尔值、对象、数组等类型。所有字段必须为必填项，并且不允许存在额外属性。"
   ]
  },
  {
   "metadata": {},
   "cell_type": "code",
   "outputs": [],
   "execution_count": null,
   "source": "",
   "id": "b380fe0edcbf1d46"
  },
  {
   "metadata": {},
   "cell_type": "markdown",
   "source": [
    "#### 2.2.2 用 Pydantic BaseModel来定义生成结构化输出\n",
    "\n",
    "\n",
    "Pydantic 提供了一种简单且类型安全的方法来验证和解析数据。在后端写接口时有用到它来校验前后端传输的数据格式是否正确，现在OPENAI将它也纳入了内嵌的使用当中。\n",
    "\n",
    "用一个具体例子来说明，创建一个日历事件的模型：\n",
    "\n",
    "- **步骤**：\n",
    "  1. 定义一个数据模型（`CalendarEvent`）。\n",
    "  2. 调用 OpenAI API，并指定 `response_format` 为 `CalendarEvent`。\n",
    "  3. 解析响应中的信息。"
   ],
   "id": "808911d6dc45a15f"
  },
  {
   "metadata": {
    "ExecuteTime": {
     "end_time": "2024-10-31T12:03:34.319573Z",
     "start_time": "2024-10-31T12:03:32.230582Z"
    }
   },
   "cell_type": "code",
   "source": [
    "from pydantic import BaseModel\n",
    "from openai import OpenAI\n",
    "\n",
    "client = OpenAI()\n",
    "\n",
    "class CalendarEvent(BaseModel):\n",
    "    name: str\n",
    "    date: str\n",
    "    participants: list[str]\n",
    "\n",
    "completion = client.beta.chat.completions.parse(\n",
    "    model=\"gpt-4o-2024-08-06\",\n",
    "    messages=[\n",
    "        {\"role\": \"system\", \"content\": \"Extract the event information.\"},\n",
    "        {\"role\": \"user\", \"content\": \"秋天了，我想在周末去爬山看枫叶\"},\n",
    "    ],\n",
    "    response_format=CalendarEvent,\n",
    ")\n",
    "\n",
    "event = completion.choices[0].message.parsed\n",
    "event"
   ],
   "id": "5d696ce46bfef6da",
   "outputs": [
    {
     "data": {
      "text/plain": [
       "CalendarEvent(name='山岳秋季观赏', date='10月的一个周末', participants=['自己'])"
      ]
     },
     "execution_count": 20,
     "metadata": {},
     "output_type": "execute_result"
    }
   ],
   "execution_count": 20
  },
  {
   "metadata": {},
   "cell_type": "code",
   "outputs": [],
   "execution_count": null,
   "source": "",
   "id": "682c962d309385a0"
  },
  {
   "metadata": {},
   "cell_type": "markdown",
   "source": "\n",
   "id": "702d09fd38c64227"
  }
 ],
 "metadata": {
  "jupytext": {
   "cell_metadata_filter": "-all",
   "main_language": "python",
   "notebook_metadata_filter": "-all"
  }
 },
 "nbformat": 4,
 "nbformat_minor": 5
}
