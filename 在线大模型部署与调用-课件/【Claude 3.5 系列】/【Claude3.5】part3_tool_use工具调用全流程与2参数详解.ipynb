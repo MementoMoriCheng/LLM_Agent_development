{
 "cells": [
  {
   "cell_type": "markdown",
   "source": [
    "# Tool use\n",
    "\n",
    "什么是Tool use（工具使用）?\n",
    "\n",
    "Tool use工具使用,也称为Function call函数调用,是指通过定义和调用外部工具或函数来扩展Claude能力的一种方式。我们可以给Claude提供一组预定义的工具,让它在需要时调用。\n",
    "\n",
    "你可以把它想象成你**需要先自己构造好的一个工具箱**,里面装满了各种各样的工具函数,每一个工具函数都有自己的特点和用途,**并可以实际运行**。\n",
    "\n",
    "当你需要 Claude 来帮助你完成某个任务时,你就可以把工具箱交给 Claude 使用。比如说,你想要 Claude 帮你查询此时此刻的某支股票价钱与最近走势,你可以开放\"股票查询\"的工具函数的权限给Claude,告诉 Claude 这个工具的名称、功能描述和输入参数要求——通过`tools`参数。然后 Claude 会自主通过用户的prompt来判断是否使用使用这个工具来帮你完成任务——可以通过`tool_choice`参数控制是否强制使用工具以及使用那个工具，但需注意，所有的工具函数是我们额外自己写好的，可以实际运行的，已经存在的，我们只是相当于开放这个函数的权限给claude，并通过详细的描述让Claude知道这个函数是做什么的以及应该传入什么样的参数，这样它会从prompt识别评估需不需要调用函数，需要调用哪个函数，以及入参都是什么。\n",
    "\n",
    "| 类别                                      | 参数名称 | 类型   | 描述                                                                 |\n",
    "|-----------------------------------------|----------|--------|--------------------------------------------------------------------|\n",
    "| **必需参数**                              |          |        |                                                                    |\n",
    "|                                         | model    | string | 指定要使用的 Claude 模型版本。                                     |\n",
    "|                                         | messages  | array  | 输入对话历史和当前用户输入的消息列表，每个消息包括角色和内容。      |\n",
    "|                                         | max_tokens | integer | 回答停止前的最大令牌数。模型可能会在达到此最大值之前停止。         |\n",
    "| **可选参数**                              |          |        |                                                                    |\n",
    "| 生成控制                                  | temperature | float | 注入响应的随机性的程度。默认为 1.0，范围从 0.0 到 1.0。           |\n",
    "|                                         | top_k    | integer | 仅从每个后续令牌的前 K 个选项中抽样。用于删除低概率响应的\"长尾\"。   |\n",
    "|                                         | top_p    | float  | 使用核心抽样。在核心抽样中，计算所有选项的累积分布，并在达到特定概率后切断。 |\n",
    "| 系统提示                                 | system | string | 系统提示。用于提供上下文和指令。                                 |\n",
    "| 停止序列                                  | stop_sequences | array | 自定义文本序列，会使模型停止生成。如果模型遇到这些序列之一，响应将提前结束。 |\n",
    "| **工具调用**                                  | tool_choice | string | 模型如何使用提供的工具。可以选择特定工具、任何可用工具，或由模型自行决定。 |\n",
    "|                                         | tools    | array  | 定义模型可能使用的工具。每个工具定义都包括名称和输入模式。         |\n",
    "| 流式传输参数                                | stream   | boolean | 是否使用服务器发送事件增量流式传输响应。                           |\n",
    "| 其他参数                                  | metadata | object | 描述请求的元数据。                                                  |\n",
    "|                                         | anthropic-beta | string | 指定你想使用的 beta 版本。多个版本使用逗号分隔，不带空格。         |\n",
    "|                                         | anthropic-version | string | 指定使用的 Anthropic API 的版本。                                  |\n",
    "|                                         | x-api-key | string | 用于认证的独特 API 密钥。通过控制台获取。                           |\n",
    "\n",
    "\n",
    "\n",
    "工具箱里的每个工具假如开发者想要传给LLM实际使用，要准备好两样东西：\n",
    "1. 一个Json Schema对象来描述函数名称、函数是用来做什么的函数说明和子集JSon Schema（函数及所需的参数的JSON架构）。名称要符合一定的规则,这样 Claude 才能识别和使用它。函数说明要非常详细,解释工具的具体功能、使用场景和注意事项以及入参说明,这样 Claude 就能更好地理解工具的用途。**优先考虑描述而不是示例。虽然可以在描述中包含使用示例,但这不如全面解释工具的目的和参数重要。**\n",
    "2. 实际的可以跑通的本身的函数（可选，如果只想得到大模型的回答这部分不用一定要准备好）\n",
    "\n",
    "有时候一个工具可能还不够,需要多个工具配合使用。对于需要按顺序调用多个工具的任务,Claude会一次调用一个工具。\n",
    "需要注意的是,使用工具箱里的工具也是要付费的,费用取定价与其他Claude API请求相同,基于发送给模型的总输入token(包括tools参数中的内容)和生成的输出token。所以放入工具参数的描述时,要权衡任务的需求和成本。  \n",
    "\n",
    "简而言之，它是一种给Claude安装工具箱（外部函数）并赋予它自主判断或可以强制控制是否调用的增强Claude功能的方法，从而可以：\n",
    "\n",
    "- 使助手能够获取数据：当用户询问“我最近的订单是什么”时，AI 助手需要从内部系统获取最新的客户数据，然后才能对用户生成响应。\n",
    "\n",
    "- 使助理能够采取行动：AI 助理需要根据用户偏好和日历可用性安排会议。\n",
    "\n",
    "- 使助手能够执行计算：数学导师助手需要执行数学计算。\n",
    "\n",
    "- 构建丰富的工作流：一个数据提取管道，用于获取原始文本，然后将其转换为结构化数据（Json）并将其保存在数据库中。\n",
    "\n",
    "- 修改应用程序的 UI：您可以使用函数调用来根据用户输入更新 UI，例如，在地图上呈现图钉。\n",
    "\n"
   ],
   "metadata": {
    "collapsed": false
   },
   "id": "7cab2025fca037c8"
  },
  {
   "metadata": {},
   "cell_type": "markdown",
   "source": [
    "## tools\n",
    "\n",
    "让我们来关注Tool use实际上是如何工作的。首先最重要的是要理解,Claude并不会自己运行任何代码。我们告诉Claude它可以要求我们调用的一组工具,然后我们的工作是实际运行底层工具代码并告诉Claude结果。\n",
    "\n",
    "请注意,Claude没有访问任何内置的服务器端工具的权限。所有工具必须由你(用户)在每个API请求中明确提供。这意味着你定义可用的工具,包括清晰的描述和输入模式,以及实现和执行工具逻辑,例如根据Claude的请求运行特定函数或查询API。这让你对Claude可以使用的工具拥有完全的控制和灵活性。\n",
    "\n",
    "具体来说,使用Claude的工具涉及以下步骤:\n",
    "\n",
    "1. 编写工具函数功能,根据需求编写在本地可以运行的工具函数，稍后claude会通过评估用户的prompt来返回工具函数名称和参数，我们就在本地实际运行这个工具函数，其返回值可以选择返回给Claude让它进一步加工回答，也可以选择到此结束，即不用大模型加工工具函数的返回值。即所有工具都是由用户提供的，Claude没有任何内置的服务器端工具 \n",
    "\n",
    "- 工具不一定需要是本地端函数，可以在任何需要模型返回遵循提供的模式的JSON输出时使用工具，我们只是要Claude决定使用工具时，构建格式正确的工具使用请求，即Json结构的入参，例如情感分析打分。\n",
    "\n",
    "2. 向Claude提供工具和用户提示: (发送API请求)\n",
    "    - 按照特定格式定义你希望Claude可以访问的工具函数集，通过放进API请求messages.create()中的`tools`参数中,每个函数描述{}中包括它们的名称、描述和JSon Schema（函数及所需的参数的JSON架构说明）来让Claude交互理解，tools中的要包含的键值为：\n",
    "      - `name`: 工具函数名称。必须符合正则表达式 ^[a-zA-Z0-9_-]{1,64}$。即名称可以包含字母（大小写均可）、数字、下划线和短横线。名称的长度必须至少为 1 个字符，最多为 64 个字符。\n",
    "      - `description`: 详细的纯文本描述,说明工具的功能、使用场景和行为。\n",
    "      - `input_schema`: 一个JSON Schema对象,定义工具所需的参数。\n",
    "   - 最后,我们将工具函数定义放进API请求messages.create()中的`tools`参数中发送给Claude。 \n",
    "\n",
    "3. Claude使用工具: (解析API响应)\n",
    "   - Claude评估用户prompt,并决定是否有任何可用的工具函数可以帮助回答用户的查询或完成任务。如果有,它还会决定使用哪个工具函数以及使用什么输入。`tool_choice`参数可以对Claude是否使用以及使用哪个工具函数进行选择。\n",
    "   - API响应将有一个stop_reason为tool_use,表示Claude想要使用外部工具。\n",
    "   - 如果决定使用工具，Claude会构建格式正确的工具使用请求。响应中会包含一个或多个`tool_use`内容块，每个块包含：\n",
    "     a) `id`：该特定工具使用块的唯一标识符\n",
    "     b) `name`：正在使用的工具名称\n",
    "     c) `input`：传递给工具的输入对象，符合工具的`input_schema`\n",
    "\n",
    "4. 提取工具输入、运行代码并返回结果: (发送API请求)\n",
    "   - 在本地（客户端）,你应该从Claude的工具函数使用请求中提取工具名称和输入。\n",
    "   - 在本地（客户端）运行实际的工具代码，执行与该工具名称对应的实际工具，传入工具的入参。\n",
    "   - 使用包含`tool_result`内容块的新`user`消息结果返回给Claude，继续对话，该块包含：\n",
    "     a) `tool_use_id`：这是结果对应的工具使用请求的`id`\n",
    "     b) `content`：工具的结果，可以是字符串或嵌套内容块列表\n",
    "     c) `is_error`（可选）：如果工具执行导致错误，设置为`true`\n",
    "\n",
    "5. Claude使用工具结果来制定响应: (解析API响应)\n",
    "   - 在收到tool_result后,Claude将使用该信息来制定其对原始用户提示的最终响应。\n",
    "\n",
    "步骤(4)和(5)是可选的 - 对于某些工作流程,Claude使用工具就是你需要的全部信息,你可能不需要将工具结果返回给Claude。"
   ],
   "id": "8f3d45e9ef9d7422"
  },
  {
   "cell_type": "markdown",
   "source": [
    "实现一个数学计算助手"
   ],
   "metadata": {
    "collapsed": false
   },
   "id": "95fa104e243e21f2"
  },
  {
   "cell_type": "markdown",
   "source": [
    "Claude 不擅长做复杂的数学运算，所以让我们通过提供对计算器工具的访问来增强 Claude 的能力。大型语言模型在数学运算方面苦苦挣扎，比如这个案例："
   ],
   "metadata": {
    "collapsed": false
   },
   "id": "2e8613b12419eae5"
  },
  {
   "metadata": {
    "ExecuteTime": {
     "end_time": "2024-09-02T07:41:58.347005Z",
     "start_time": "2024-09-02T07:41:56.345440Z"
    }
   },
   "cell_type": "code",
   "source": [
    "from anthropic import Anthropic\n",
    "from dotenv import load_dotenv\n",
    "\n",
    "load_dotenv()\n",
    "\n",
    "client = Anthropic()\n",
    "\n",
    "# A relatively simple math problem\n",
    "response_no_tools = client.messages.create(\n",
    "    model=\"claude-3-haiku-20240307\",\n",
    "    messages=[{\"role\": \"user\", \"content\":\"计算1984135 和 9343116相乘的结果，只回答结果。\"}],\n",
    "    max_tokens=400\n",
    ")\n",
    "print(response_no_tools.content[0].text)"
   ],
   "id": "cfb5694c3e545ed6",
   "outputs": [
    {
     "name": "stdout",
     "output_type": "stream",
     "text": [
      "18,576,948,360,060\n"
     ]
    }
   ],
   "execution_count": 12
  },
  {
   "metadata": {},
   "cell_type": "code",
   "outputs": [
    {
     "name": "stdout",
     "output_type": "stream",
     "text": [
      "18538003464660\n"
     ]
    }
   ],
   "execution_count": 6,
   "source": "print(1984135 * 9343116)",
   "id": "650325f777e4bceb"
  },
  {
   "metadata": {},
   "cell_type": "markdown",
   "source": [
    "可以看到回答的并不对，我们开始编写负载着计算器功能的大模型吧！\n",
    "\n",
    "1. 编写工具函数功能\n",
    "\n",
    "对于我们想要编写一个实际的计算器来说，我们就在工具函数中定义好加减乘除，并思考函数的入参，即有什么原材料，背景输入给calculator函数以及Claude方不方便从用户的prompt中提取出我们需要的入参。在本calculator函数中，我们的入参有3个："
   ],
   "id": "538e37e7cf7bb42b"
  },
  {
   "metadata": {
    "ExecuteTime": {
     "end_time": "2024-09-02T03:09:16.574231Z",
     "start_time": "2024-09-02T03:09:16.561231Z"
    }
   },
   "cell_type": "code",
   "source": [
    "def calculator(operation, operand1, operand2):\n",
    "    if operation == \"add\":\n",
    "        return operand1 + operand2\n",
    "    elif operation == \"subtract\":\n",
    "        return operand1 - operand2\n",
    "    elif operation == \"multiply\":\n",
    "        return operand1 * operand2\n",
    "    elif operation == \"divide\":\n",
    "        if operand2 == 0:\n",
    "            raise ValueError(\"Cannot divide by zero.\")\n",
    "        return operand1 / operand2\n",
    "    else:\n",
    "        raise ValueError(f\"Unsupported operation: {operation}\")"
   ],
   "id": "8c26c14d95f361c4",
   "outputs": [],
   "execution_count": 2
  },
  {
   "cell_type": "markdown",
   "source": "让我们测试一下我们的函数并确保它有效。",
   "metadata": {
    "collapsed": false
   },
   "id": "ba36d15c0c489189"
  },
  {
   "metadata": {
    "ExecuteTime": {
     "end_time": "2024-09-02T03:09:52.980013Z",
     "start_time": "2024-09-02T03:09:52.961394Z"
    }
   },
   "cell_type": "code",
   "source": [
    "print(calculator(\"add\", 10, 3))\n",
    "print(calculator(\"divide\", 200, 25))"
   ],
   "id": "11130e60060a42b2",
   "outputs": [
    {
     "name": "stdout",
     "output_type": "stream",
     "text": [
      "13\n",
      "8.0\n"
     ]
    }
   ],
   "execution_count": 4
  },
  {
   "cell_type": "markdown",
   "source": [],
   "metadata": {
    "collapsed": false
   },
   "id": "759f5e87d6e9130a"
  },
  {
   "cell_type": "markdown",
   "source": [
    "2. 向Claude提供工具和用户提示: (发送API请求)\n",
    "    上面我们只是定义了自己工具箱的可以实际运行的函数，但是这离让claude理解学会还有一段距离。就像函数的作用一样，我们不需要让使用者知道内部的具体逻辑，只需要像函数注释一样知道函数说明，入参和返回值就可以。于是我们最终需要传进Claude API请求的是一段JSON格式的函数详细的说明。\n",
    "    - 按照固定的官方格式定义你希望Claude可以访问的工具函数集，通过放进API请求messages.create()中的`tools`参数中,包括它们的名称、描述和JSon Schema（所需的参数的JSON架构说明）来让Claude交互理解，tools中的要包含的键值为：\n",
    "      - `name`: 工具函数名称。必须符合正则表达式 ^[a-zA-Z0-9_-]{1,64}$。\n",
    "      - `description`: 详细的纯文本描述,说明工具的功能、使用场景和行为。\n",
    "      - `input_schema`: 一个JSON Schema对象,定义工具所需的参数。\n",
    "    - 最后,我们将工具函数定义放进API请求messages.create()中的`tools`参数中发送给Claude。 \n",
    "            \n",
    "        假设我们定义一个发送邮件的外部工具函数，需要有接收方邮件地址，标题，邮件内容三个参数\n",
    "        to which 是一个字符串，是必需的\n",
    "        subject 是一个字符串，是必需的\n",
    "        body 是一个字符串，是必需的\n",
    "            \n",
    "      ```json\n",
    "        {\n",
    "          \"name\": \"send_email\",\n",
    "          \"description\": \"Sends an email to the specified recipient with the given subject and body.\",\n",
    "          \"input_schema\": {\n",
    "            \"type\": \"object\",\n",
    "            \"properties\": {\n",
    "              \"to\": {\n",
    "                \"type\": \"string\",\n",
    "                \"description\": \"The email address of the recipient\"\n",
    "              },\n",
    "              \"subject\": {\n",
    "                \"type\": \"string\",\n",
    "                \"description\": \"The subject line of the email\"\n",
    "              },\n",
    "              \"body\": {\n",
    "                \"type\": \"string\",\n",
    "                \"description\": \"The content of the email message\"\n",
    "              }\n",
    "            },\n",
    "            \"required\": [\"to\", \"subject\", \"body\"]\n",
    "          }\n",
    "        }\n",
    "     ```\n",
    "     一个搜索产品的外部工具函数说明，加入的工具函数可以按名称或关键字搜索产品并筛选低于特定价格点的结果。\n",
    "\n",
    "  ```json\n",
    "    {\n",
    "  \"name\": \"search_product\",\n",
    "  \"description\": \"Search for a product by name or keyword and return its current price and availability.\",\n",
    "  \"input_schema\": {\n",
    "    \"type\": \"object\",\n",
    "    \"properties\": {\n",
    "      \"query\": {\n",
    "        \"type\": \"string\",\n",
    "        \"description\": \"The product name or search keyword, e.g. 'iPhone 13 Pro' or 'wireless headphones'\"\n",
    "      },\n",
    "      \"category\": {\n",
    "        \"type\": \"string\",\n",
    "        \"enum\": [\"electronics\", \"clothing\", \"home\", \"toys\", \"sports\"],\n",
    "        \"description\": \"The product category to narrow down the search results\"\n",
    "      },\n",
    "      \"max_price\": {\n",
    "        \"type\": \"number\",\n",
    "        \"description\": \"The maximum price of the product, used to filter the search results\"\n",
    "      }\n",
    "    },\n",
    "    \"required\": [\"query\"]\n",
    "  }\n",
    "}\n",
    " ```\n",
    "  "
   ],
   "metadata": {
    "collapsed": false
   },
   "id": "a7a4b1de0e829f79"
  },
  {
   "metadata": {
    "ExecuteTime": {
     "end_time": "2024-09-02T04:01:37.091155Z",
     "start_time": "2024-09-02T04:01:37.078304Z"
    }
   },
   "cell_type": "code",
   "source": [
    "calculator_tool = {\n",
    "    \"name\": \"calculator\",\n",
    "    \"description\": \"A simple calculator that performs basic arithmetic operations.\",\n",
    "    \"input_schema\": {\n",
    "        \"type\": \"object\",\n",
    "        \"properties\": {\n",
    "            \"operation\": {\n",
    "                \"type\": \"string\",\n",
    "                \"enum\": [\"add\", \"subtract\", \"multiply\", \"divide\"],\n",
    "                \"description\": \"The arithmetic operation to perform.\"\n",
    "            },\n",
    "            \"operand1\": {\n",
    "                \"type\": \"number\",\n",
    "                \"description\": \"The first operand.\"\n",
    "            },\n",
    "            \"operand2\": {\n",
    "                \"type\": \"number\",\n",
    "                \"description\": \"The second operand.\"\n",
    "            }\n",
    "        },\n",
    "        \"required\": [\"operation\", \"operand1\", \"operand2\"]\n",
    "    }\n",
    "}"
   ],
   "id": "41c0212c947a008a",
   "outputs": [],
   "execution_count": 5
  },
  {
   "metadata": {},
   "cell_type": "markdown",
   "source": [
    " \n",
    "- 最后，将工具函数定义放进API请求messages.create()中的`tools`参数中发送给Claude。 "
   ],
   "id": "dc43b09b3044dbeb"
  },
  {
   "metadata": {
    "ExecuteTime": {
     "end_time": "2024-09-02T07:42:17.506475Z",
     "start_time": "2024-09-02T07:42:16.017167Z"
    }
   },
   "cell_type": "code",
   "source": [
    "response_with_tools = client.messages.create(\n",
    "    model=\"claude-3-haiku-20240307\",\n",
    "    messages=[{\"role\": \"user\", \"content\": \"Multiply 1984135 by 9343116. Only respond with the result\"}],\n",
    "    max_tokens=300,\n",
    "    # 给Claude装上小工具箱\n",
    "    tools=[calculator_tool]\n",
    ")"
   ],
   "id": "e522e54345901335",
   "outputs": [],
   "execution_count": 13
  },
  {
   "cell_type": "markdown",
   "source": "接下来，我们来看看 Claude 给我们的回复：",
   "metadata": {
    "collapsed": false
   },
   "id": "41d9f5354a355e46"
  },
  {
   "metadata": {
    "ExecuteTime": {
     "end_time": "2024-09-02T07:42:18.550876Z",
     "start_time": "2024-09-02T07:42:18.537875Z"
    }
   },
   "cell_type": "code",
   "source": "response_with_tools   #当Claude决定调用tools时候的响应消息对象",
   "id": "79a70146e17876dd",
   "outputs": [
    {
     "data": {
      "text/plain": [
       "Message(id='msg_01GyUh8xHgwjABbV4J5KzbA7', content=[ToolUseBlock(id='toolu_01SAd6UacTU56opnFSbVJDUj', input={'operand1': 1984135, 'operand2': 9343116, 'operation': 'multiply'}, name='calculator', type='tool_use')], model='claude-3-haiku-20240307', role='assistant', stop_reason='tool_use', stop_sequence=None, type='message', usage=Usage(input_tokens=420, output_tokens=93))"
      ]
     },
     "execution_count": 14,
     "metadata": {},
     "output_type": "execute_result"
    }
   ],
   "execution_count": 14
  },
  {
   "metadata": {
    "ExecuteTime": {
     "end_time": "2024-09-02T07:42:42.937544Z",
     "start_time": "2024-09-02T07:42:42.924545Z"
    }
   },
   "cell_type": "code",
   "source": "response_no_tools    #当Claude不调用tools正常回复时候的响应消息对象",
   "id": "ee57fa564195c65c",
   "outputs": [
    {
     "data": {
      "text/plain": [
       "Message(id='msg_013tweRPSGWeTUxkLc98g3mJ', content=[TextBlock(text='18,576,948,360,060', type='text')], model='claude-3-haiku-20240307', role='assistant', stop_reason='end_turn', stop_sequence=None, type='message', usage=Usage(input_tokens=32, output_tokens=13))"
      ]
     },
     "execution_count": 15,
     "metadata": {},
     "output_type": "execute_result"
    }
   ],
   "execution_count": 15
  },
  {
   "cell_type": "markdown",
   "source": "响应看起来与平时略有不同！具体来说，我们现在得到的不是普通的 Message，而是 ToolsMessage。检查response.stop_reason，看到 Claude 停止是因为它决定是时候使用一个工具了",
   "metadata": {
    "collapsed": false
   },
   "id": "431566aee60eafe2"
  },
  {
   "cell_type": "markdown",
   "source": "下一步是简单地获取 Claude 提供给我们的工具名称和输入，并使用它们来实际调用我们之前编写的 calculator 函数。然后我们就会有最终的答案！",
   "metadata": {
    "collapsed": false
   },
   "id": "3ec8991be0cfd77"
  },
  {
   "metadata": {
    "ExecuteTime": {
     "end_time": "2024-09-02T07:44:54.631708Z",
     "start_time": "2024-09-02T07:44:54.619708Z"
    }
   },
   "cell_type": "code",
   "source": [
    "tool_name = response_with_tools.content[0].name\n",
    "tool_inputs = response_with_tools.content[0].input\n",
    "\n",
    "print(\"Claude 想要使用的函数名称是:\", tool_name)\n",
    "operation = tool_inputs[\"operation\"]\n",
    "operand1 = tool_inputs[\"operand1\"]\n",
    "operand2 = tool_inputs[\"operand2\"]\n",
    "\n",
    "result = calculator(operation, operand1, operand2)\n",
    "print(\"Claude的结果是\", result)\n",
    "print(\"正确的结果是\", 1984135 * 9343116)"
   ],
   "id": "dedb20b27cea6a2e",
   "outputs": [
    {
     "name": "stdout",
     "output_type": "stream",
     "text": [
      "Claude 想要使用的函数名称是: calculator\n",
      "Claude的结果是 18538003464660\n",
      "正确的结果是 18538003464660\n"
     ]
    }
   ],
   "execution_count": 17
  },
  {
   "metadata": {},
   "cell_type": "markdown",
   "source": [
    "通过System Prompt优化调用选择：\n",
    "\n",
    "Claude 默认是非常渴望使用它的工具的，所以我们要根据需要矫正它的行为："
   ],
   "id": "f1cb096570d4e51e"
  },
  {
   "metadata": {
    "ExecuteTime": {
     "end_time": "2024-09-02T07:57:37.035781Z",
     "start_time": "2024-09-02T07:57:35.265886Z"
    }
   },
   "cell_type": "code",
   "source": [
    "response = client.messages.create(\n",
    "    model=\"claude-3-haiku-20240307\",\n",
    "    messages=[{\"role\": \"user\", \"content\":\"祖母绿是什么颜色\"}],\n",
    "    max_tokens=400,\n",
    "    tools=[calculator_tool]\n",
    ")\n",
    "response"
   ],
   "id": "4fe576c98c75ce22",
   "outputs": [
    {
     "data": {
      "text/plain": [
       "Message(id='msg_01NJsgvgfB8woQiETBwtkbjU', content=[ToolUseBlock(id='toolu_01JqwFZsp8GADDJRUGpgRpqz', input={'operand1': 0, 'operand2': 0, 'operation': 'add'}, name='calculator', type='tool_use')], model='claude-3-haiku-20240307', role='assistant', stop_reason='tool_use', stop_sequence=None, type='message', usage=Usage(input_tokens=414, output_tokens=89))"
      ]
     },
     "execution_count": 19,
     "metadata": {},
     "output_type": "execute_result"
    }
   ],
   "execution_count": 19
  },
  {
   "cell_type": "markdown",
   "source": [
    "| 类别                                          | 参数名称 | 类型   | 描述                                                                 |\n",
    "|---------------------------------------------|----------|--------|--------------------------------------------------------------------|\n",
    "| **必需参数**                                  |          |        |                                                                    |\n",
    "|                                             | model    | string | 指定要使用的 Claude 模型版本。                                     |\n",
    "|                                             | messages  | array  | 输入对话历史和当前用户输入的消息列表，每个消息包括角色和内容。      |\n",
    "|                                             | max_tokens | integer | 回答停止前的最大令牌数。模型可能会在达到此最大值之前停止。         |\n",
    "| **可选参数**                                  |          |        |                                                                    |\n",
    "| 生成控制                                      | temperature | float | 注入响应的随机性的程度。默认为 1.0，范围从 0.0 到 1.0。           |\n",
    "|                                             | top_k    | integer | 仅从每个后续令牌的前 K 个选项中抽样。用于删除低概率响应的\"长尾\"。   |\n",
    "|                                             | top_p    | float  | 使用核心抽样。在核心抽样中，计算所有选项的累积分布，并在达到特定概率后切断。 |\n",
    "| **系统提示**                                  | **system** | **string** | **系统提示。用于提供上下文和指令。**                                 |\n",
    "| **停止序列**                                  | **stop_sequences** | **array** | **自定义文本序列，会使模型停止生成。如果模型遇到这些序列之一，响应将提前结束。** |\n",
    "| 工具调用                                      | tool_choice | string | 模型如何使用提供的工具。可以选择特定工具、任何可用工具，或由模型自行决定。 |\n",
    "|                                             | tools    | array  | 定义模型可能使用的工具。每个工具定义都包括名称和输入模式。         |\n",
    "| 流式传输参数                                  | stream   | boolean | 是否使用服务器发送事件增量流式传输响应。                           |\n",
    "| 其他参数                                      | metadata | object | 描述请求的元数据。                                                  |\n",
    "|                                             | anthropic-beta | string | 指定你想使用的 beta 版本。多个版本使用逗号分隔，不带空格。         |\n",
    "|                                             | anthropic-version | string | 指定使用的 Anthropic API 的版本。                                  |\n",
    "|                                             | x-api-key | string | 用于认证的独特 API 密钥。通过控制台获取。                           |\n",
    "\n",
    "加入system参数矫正"
   ],
   "metadata": {
    "collapsed": false
   },
   "id": "38068af4f5999e6f"
  },
  {
   "metadata": {
    "ExecuteTime": {
     "end_time": "2024-09-02T07:58:46.210171Z",
     "start_time": "2024-09-02T07:58:44.226305Z"
    }
   },
   "cell_type": "code",
   "source": [
    "response = client.messages.create(\n",
    "    model=\"claude-3-haiku-20240307\",\n",
    "    system=\"You have access to tools, but only use them when necessary.  If a tool is not required, respond as normal\",\n",
    "    messages=[{\"role\": \"user\", \"content\":\"祖母绿是什么颜色\"}],\n",
    "    max_tokens=400,\n",
    "    tools=[calculator_tool]\n",
    ")\n",
    "response"
   ],
   "id": "b9824a6a64a08580",
   "outputs": [
    {
     "data": {
      "text/plain": [
       "Message(id='msg_01H4dLqR4mwaRaLAUKeU25HZ', content=[TextBlock(text='祖母绿是一种绿色宝石。它的颜色介于翡翠绿和孔雀绿之间,是一种非常富有典雅气质的绿色。祖母绿的颜色通常呈现偏蓝绿的翠绿色调,是很多珠宝首饰中常见的一种名贵宝石。这种碧绿色调给人一种清新优雅、高贵典雅的感受。', type='text')], model='claude-3-haiku-20240307', role='assistant', stop_reason='end_turn', stop_sequence=None, type='message', usage=Usage(input_tokens=440, output_tokens=139))"
      ]
     },
     "execution_count": 21,
     "metadata": {},
     "output_type": "execute_result"
    }
   ],
   "execution_count": 21
  },
  {
   "metadata": {},
   "cell_type": "markdown",
   "source": [
    "一个完整的代码（步骤1~3）：\n",
    "\n",
    "- 提供工具函数描述和用户提示\n",
    "\n",
    "- 请求API让Claude决定是否使用工具\n",
    "\n",
    "- 提取响应API提取参数并在本地运行代码\n",
    "    \n"
   ],
   "id": "2a6afa269605e049"
  },
  {
   "metadata": {
    "ExecuteTime": {
     "end_time": "2024-09-04T09:00:42.618076Z",
     "start_time": "2024-09-04T09:00:42.605076Z"
    }
   },
   "cell_type": "code",
   "source": [
    "def calculator(operation, operand1, operand2):\n",
    "    if operation == \"add\":\n",
    "        return operand1 + operand2\n",
    "    elif operation == \"subtract\":\n",
    "        return operand1 - operand2\n",
    "    elif operation == \"multiply\":\n",
    "        return operand1 * operand2\n",
    "    elif operation == \"divide\":\n",
    "        if operand2 == 0:\n",
    "            raise ValueError(\"Cannot divide by zero.\")\n",
    "        return operand1 / operand2\n",
    "    else:\n",
    "        raise ValueError(f\"Unsupported operation: {operation}\")\n",
    "\n",
    "\n",
    "calculator_tool = {\n",
    "    \"name\": \"calculator\",\n",
    "    \"description\": \"A simple calculator that performs basic arithmetic operations.\",\n",
    "    \"input_schema\": {\n",
    "        \"type\": \"object\",\n",
    "        \"properties\": {\n",
    "            \"operation\": {\n",
    "                \"type\": \"string\",\n",
    "                \"enum\": [\"add\", \"subtract\", \"multiply\", \"divide\"],\n",
    "                \"description\": \"The arithmetic operation to perform.\",\n",
    "            },\n",
    "            \"operand1\": {\"type\": \"number\", \"description\": \"The first operand.\"},\n",
    "            \"operand2\": {\"type\": \"number\", \"description\": \"The second operand.\"},\n",
    "        },\n",
    "        \"required\": [\"operation\", \"operand1\", \"operand2\"],\n",
    "    },\n",
    "}\n",
    "\n",
    "\n",
    "def prompt_claude(prompt):\n",
    "    messages = [{\"role\": \"user\", \"content\": prompt}]\n",
    "    response = client.messages.create(\n",
    "        model=\"claude-3-haiku-20240307\",\n",
    "        system=\"You have access to tools, but only use them when necessary. If a tool is not required, respond as normal\",\n",
    "        messages=messages,\n",
    "        max_tokens=500,\n",
    "        tools=[calculator_tool],\n",
    "    )\n",
    "\n",
    "    if response.stop_reason == \"tool_use\":\n",
    "        tool_use = response.content[-1]\n",
    "        tool_name = tool_use.name\n",
    "        tool_input = tool_use.input\n",
    "\n",
    "        if tool_name == \"calculator\":\n",
    "            print(\"Claude 想要调用计算器工具\")\n",
    "            operation = tool_input[\"operation\"]\n",
    "            operand1 = tool_input[\"operand1\"]\n",
    "            operand2 = tool_input[\"operand2\"]\n",
    "\n",
    "            try:\n",
    "                result = calculator(operation, operand1, operand2)\n",
    "                print(\"计算出的结果是:\", result)\n",
    "            except ValueError as e:\n",
    "                print(f\"Error: {str(e)}\")\n",
    "\n",
    "    elif response.stop_reason == \"end_turn\":\n",
    "        print(\"Claude 没有调用工具\")\n",
    "        print(\"Claude 的回答:\")\n",
    "        print(response.content[0].text)"
   ],
   "id": "cba3b0e244de1b7e",
   "outputs": [],
   "execution_count": 9
  },
  {
   "metadata": {
    "ExecuteTime": {
     "end_time": "2024-09-02T08:48:50.176641Z",
     "start_time": "2024-09-02T08:48:48.158047Z"
    }
   },
   "cell_type": "code",
   "source": "prompt_claude(\"我有23只羊，但是丢了两只，我还有多少只羊\")",
   "id": "d5576fb462a58833",
   "outputs": [
    {
     "name": "stdout",
     "output_type": "stream",
     "text": [
      "Claude 想要调用计算器工具\n",
      "计算出的结果是: 21\n"
     ]
    }
   ],
   "execution_count": 29
  },
  {
   "metadata": {
    "ExecuteTime": {
     "end_time": "2024-09-04T09:00:58.758023Z",
     "start_time": "2024-09-04T09:00:56.365359Z"
    }
   },
   "cell_type": "code",
   "source": "prompt_claude(\"写一首关于秋天的古诗\")",
   "id": "27560fee8e2a608e",
   "outputs": [
    {
     "name": "stdout",
     "output_type": "stream",
     "text": [
      "Claude 没有调用工具\n",
      "Claude 的回答:\n",
      "好的,我这里为您写一首关于秋天的古诗:\n",
      "\n",
      "秋风送爽惠芳菲,\n",
      "金菊吐英蓼溪流。\n",
      "高柳摇阴扶风柳,\n",
      "斜阳下照红叶飞。\n",
      "\n",
      "寒鸦唱罢夕阳暮,\n",
      "野客归来倦鸟栖。\n",
      "篱边斜下露华凝,\n",
      "古庙钟声念夕颜。\n",
      "\n",
      "枫叶满堤秋色浓,\n",
      "好风凭楼独倚东。\n",
      "青山碧水空寂寥,\n",
      "寂寥中有谁知逸兴?\n",
      "\n",
      "这首诗描绘了秋天的景致,从金菊吐英到枫叶满堤,细致描摹了秋天的美好。其中还点缀了人情味,描写了归鸟栖息和独倚东楼的惬意。希望这首诗能让您感受到秋天的魅力。\n"
     ]
    }
   ],
   "execution_count": 11
  },
  {
   "metadata": {},
   "cell_type": "markdown",
   "source": "接入维基百科搜索功能，构建完整的工作流",
   "id": "9ba5e5df71db9f3d"
  },
  {
   "metadata": {},
   "cell_type": "markdown",
   "source": [
    "在之前的计算机的tool use流程里\n",
    "步骤1~3的流程是：\n",
    "\n",
    "提供Claude工具和用户提示\n",
    "Claude决定使用工具\n",
    "提取工具输入并运行代码\n",
    "这个流程在Claude决定使用工具后就结束了。开发者获取到Claude要使用的工具名称和输入后，在本地执行相应的代码，但不会将结果反馈给Claude。\n",
    "\n",
    "步骤1~5的完整流程是：\n",
    "\n",
    "提供Claude工具和用户提示\n",
    "Claude决定使用工具\n",
    "提取工具输入、运行代码并返回结果\n",
    "Claude使用工具结果来制定响应\n",
    "这个流程多了将工具执行结果返回给Claude的步骤。Claude会根据工具返回的结果，进一步处理并给出最终回答。\n",
    "\n",
    "如果您只需要知道Claude会使用哪个工具及其输入，那么步骤1-3就足够了。如果您希望Claude根据工具执行的结果提供更深入的分析或回答，那么完整的1-5步流程会更合适。\n"
   ],
   "id": "42ef32879a68271f"
  },
  {
   "metadata": {},
   "cell_type": "markdown",
   "source": "![](https://typora-photo1220.oss-cn-beijing.aliyuncs.com/DataAnalysis/LingYi/20240904170628.png)",
   "id": "89aaa34687e19f73"
  },
  {
   "cell_type": "markdown",
   "source": [
    "【实战】：有维基百科帮助的写作助手"
   ],
   "metadata": {
    "collapsed": false
   },
   "id": "12cb4e761baf56bc"
  },
  {
   "metadata": {},
   "cell_type": "markdown",
   "source": [
    "1. 定义我们的维基百科搜索功能"
   ],
   "id": "2582929667e92bb7"
  },
  {
   "metadata": {
    "ExecuteTime": {
     "end_time": "2024-09-02T08:59:51.158236Z",
     "start_time": "2024-09-02T08:59:45.621087Z"
    }
   },
   "cell_type": "code",
   "source": "!pip install wikipedia",
   "id": "fca5de4cc66ab20d",
   "outputs": [
    {
     "name": "stdout",
     "output_type": "stream",
     "text": [
      "Collecting wikipedia\n",
      "  Downloading wikipedia-1.4.0.tar.gz (27 kB)\n",
      "  Preparing metadata (setup.py): started\n",
      "  Preparing metadata (setup.py): finished with status 'done'\n",
      "Requirement already satisfied: beautifulsoup4 in d:\\majorsoft\\anaconda3\\lib\\site-packages (from wikipedia) (4.11.1)\n",
      "Requirement already satisfied: requests<3.0.0,>=2.0.0 in d:\\majorsoft\\anaconda3\\lib\\site-packages (from wikipedia) (2.32.3)\n",
      "Requirement already satisfied: idna<4,>=2.5 in d:\\majorsoft\\anaconda3\\lib\\site-packages (from requests<3.0.0,>=2.0.0->wikipedia) (3.4)\n",
      "Requirement already satisfied: certifi>=2017.4.17 in d:\\majorsoft\\anaconda3\\lib\\site-packages (from requests<3.0.0,>=2.0.0->wikipedia) (2024.7.4)\n",
      "Requirement already satisfied: charset-normalizer<4,>=2 in d:\\majorsoft\\anaconda3\\lib\\site-packages (from requests<3.0.0,>=2.0.0->wikipedia) (2.0.4)\n",
      "Requirement already satisfied: urllib3<3,>=1.21.1 in d:\\majorsoft\\anaconda3\\lib\\site-packages (from requests<3.0.0,>=2.0.0->wikipedia) (1.26.12)\n",
      "Requirement already satisfied: soupsieve>1.2 in d:\\majorsoft\\anaconda3\\lib\\site-packages (from beautifulsoup4->wikipedia) (2.3.2.post1)\n",
      "Building wheels for collected packages: wikipedia\n",
      "  Building wheel for wikipedia (setup.py): started\n",
      "  Building wheel for wikipedia (setup.py): finished with status 'done'\n",
      "  Created wheel for wikipedia: filename=wikipedia-1.4.0-py3-none-any.whl size=11680 sha256=a5cc9020743a65a2f42f2ad2d87918a09357a4d6d38fce8d0323709b799bd446\n",
      "  Stored in directory: c:\\users\\administrator\\appdata\\local\\pip\\cache\\wheels\\c2\\46\\f4\\caa1bee71096d7b0cdca2f2a2af45cacf35c5760bee8f00948\n",
      "Successfully built wikipedia\n",
      "Installing collected packages: wikipedia\n",
      "Successfully installed wikipedia-1.4.0\n"
     ]
    }
   ],
   "execution_count": 31
  },
  {
   "metadata": {
    "ExecuteTime": {
     "end_time": "2024-09-04T09:13:02.258391Z",
     "start_time": "2024-09-04T09:13:00.523873Z"
    }
   },
   "cell_type": "code",
   "source": [
    "import wikipedia\n",
    "\n",
    "def get_article(search_term):\n",
    "    results = wikipedia.search(search_term)\n",
    "    first_result = results[0] #通常，第一个结果是与搜索词最相关的页面。\n",
    "    page = wikipedia.page(first_result, auto_suggest=False) #获取与该标题对应的页面对象，然后通过 page.content 获取该页面的内容。\n",
    "    return page.content\n",
    "\n",
    "article = get_article(\"西游记\")\n",
    "print(article[:500]) "
   ],
   "id": "4012b9657abd8ed6",
   "outputs": [
    {
     "name": "stdout",
     "output_type": "stream",
     "text": [
      "Journey to the West (Chinese: 西遊記; pinyin: Xīyóu Jì) is a Chinese novel published in the 16th century during the Ming dynasty and attributed to Wu Cheng'en. It is regarded as one of the great Chinese novels, and has been described as arguably the most popular literary work in East Asia. It is widely known in English-speaking countries through Arthur Waley's 1942 abridged translation, Monkey.\n",
      "The novel is a fictionalized account of the pilgrimage of the Chinese Buddhist monk Xuanzang, who journey\n"
     ]
    }
   ],
   "execution_count": 14
  },
  {
   "metadata": {},
   "cell_type": "markdown",
   "source": "2. 编写工具定义",
   "id": "fad7941534306cc6"
  },
  {
   "metadata": {
    "ExecuteTime": {
     "end_time": "2024-09-04T09:13:03.423542Z",
     "start_time": "2024-09-04T09:13:03.403542Z"
    }
   },
   "cell_type": "code",
   "source": [
    "article_search_tool = {\n",
    "    \"name\": \"get_article\",\n",
    "    \"description\": \"A tool to retrieve an up to date Wikipedia article.\",\n",
    "    \"input_schema\": {\n",
    "        \"type\": \"object\",\n",
    "        \"properties\": {\n",
    "            \"search_term\": {\n",
    "                \"type\": \"string\",\n",
    "                \"description\": \"The search term to find a wikipedia article by title\"\n",
    "            },\n",
    "        },\n",
    "        \"required\": [\"search_term\"]\n",
    "    }\n",
    "}"
   ],
   "id": "128b4d0d2b60332b",
   "outputs": [],
   "execution_count": 15
  },
  {
   "metadata": {},
   "cell_type": "markdown",
   "source": "3. 为 Claude 提供工具和用户提示",
   "id": "d8e8456ed37709b3"
  },
  {
   "metadata": {
    "ExecuteTime": {
     "end_time": "2024-09-04T09:13:11.118447Z",
     "start_time": "2024-09-04T09:13:07.592118Z"
    }
   },
   "cell_type": "code",
   "source": [
    "from anthropic import Anthropic\n",
    "from dotenv import load_dotenv\n",
    "\n",
    "load_dotenv()\n",
    "\n",
    "client = Anthropic()\n",
    "\n",
    "messages = [{\"role\": \"user\", \"content\": \"2024年的奥运会在哪里举行，有什么特别之处\"}]\n",
    "\n",
    "response = client.messages.create(\n",
    "        model=\"claude-3-sonnet-20240229\",\n",
    "        messages=messages,\n",
    "        max_tokens=1000,\n",
    "        tools=[article_search_tool]\n",
    "    )"
   ],
   "id": "98395be580d41825",
   "outputs": [],
   "execution_count": 16
  },
  {
   "metadata": {},
   "cell_type": "markdown",
   "source": "4. Claude 使用该工具（API 响应）",
   "id": "1a03a89c58bcc780"
  },
  {
   "metadata": {
    "ExecuteTime": {
     "end_time": "2024-09-04T09:13:13.277796Z",
     "start_time": "2024-09-04T09:13:13.262796Z"
    }
   },
   "cell_type": "code",
   "source": "response.content",
   "id": "e7a52f00279e1718",
   "outputs": [
    {
     "data": {
      "text/plain": [
       "[TextBlock(text='让我们使用get_article工具来查找有关2024年奥运会的最新信息:', type='text'),\n",
       " ToolUseBlock(id='toolu_01W63d8twqQ4Sj5FkSM1KG7p', input={'search_term': '2024 Summer Olympics'}, name='get_article', type='tool_use')]"
      ]
     },
     "execution_count": 17,
     "metadata": {},
     "output_type": "execute_result"
    }
   ],
   "execution_count": 17
  },
  {
   "metadata": {},
   "cell_type": "markdown",
   "source": [
    "5. 提取工具输入、运行代码并返回结果（API 请求）\n",
    "\n",
    "\n",
    "记得要添加消息到历史对话中\n"
   ],
   "id": "981e267dca5e786f"
  },
  {
   "metadata": {
    "ExecuteTime": {
     "end_time": "2024-09-04T09:13:18.459805Z",
     "start_time": "2024-09-04T09:13:18.440806Z"
    }
   },
   "cell_type": "code",
   "source": [
    "messages.append({\"role\": \"assistant\", \"content\": response.content})\n",
    "messages"
   ],
   "id": "269329c3e01a4fbd",
   "outputs": [
    {
     "data": {
      "text/plain": [
       "[{'role': 'user', 'content': '2024年的奥运会在哪里举行，有什么特别之处'},\n",
       " {'role': 'assistant',\n",
       "  'content': [TextBlock(text='让我们使用get_article工具来查找有关2024年奥运会的最新信息:', type='text'),\n",
       "   ToolUseBlock(id='toolu_01W63d8twqQ4Sj5FkSM1KG7p', input={'search_term': '2024 Summer Olympics'}, name='get_article', type='tool_use')]}]"
      ]
     },
     "execution_count": 18,
     "metadata": {},
     "output_type": "execute_result"
    }
   ],
   "execution_count": 18
  },
  {
   "cell_type": "markdown",
   "source": [
    "注意可能有TextBlock来反映思考链路，所以我们取倒数第一个，即response.content[-1]来进行提取"
   ],
   "metadata": {
    "collapsed": false
   },
   "id": "981e8a13ea929dcd"
  },
  {
   "metadata": {
    "ExecuteTime": {
     "end_time": "2024-09-04T09:13:21.855330Z",
     "start_time": "2024-09-04T09:13:21.842413Z"
    }
   },
   "cell_type": "code",
   "source": [
    "tool_use = response.content[-1]\n",
    "tool_name = tool_use.name\n",
    "tool_input = tool_use.input\n",
    "print(\"工具函数的名字: \", tool_name)\n",
    "print(\"工具函数的输入\", tool_input)"
   ],
   "id": "117e321a05dae0c9",
   "outputs": [
    {
     "name": "stdout",
     "output_type": "stream",
     "text": [
      "工具函数的名字:  get_article\n",
      "工具函数的输入 {'search_term': '2024 Summer Olympics'}\n"
     ]
    }
   ],
   "execution_count": 19
  },
  {
   "metadata": {},
   "cell_type": "markdown",
   "source": "提取LLM响应的结果中的入参，在本地运行函数获取结果",
   "id": "cef629e0b6cd1968"
  },
  {
   "metadata": {
    "ExecuteTime": {
     "end_time": "2024-09-04T09:13:28.381289Z",
     "start_time": "2024-09-04T09:13:25.243863Z"
    }
   },
   "cell_type": "code",
   "source": [
    "if tool_name == \"get_article\":\n",
    "    search_term = tool_input[\"search_term\"]\n",
    "    wiki_result = get_article(search_term)\n",
    "    print(f\"搜索到了 {search_term}\")\n",
    "    print(\"维基百科的原文:\")\n",
    "    print(wiki_result[:500])"
   ],
   "id": "d1bd2539765c6ae8",
   "outputs": [
    {
     "name": "stdout",
     "output_type": "stream",
     "text": [
      "搜索到了 2024 Summer Olympics\n",
      "维基百科的原文:\n",
      "The 2024 Summer Olympics, officially the Games of the XXXIII Olympiad and branded as Paris 2024, were an international multi-sport event held from 26 July to 11 August 2024 in France, with several events started from 24 July. Paris was the host city, with events (mainly football) held in 16 additional cities spread across metropolitan France, including the sailing centre in the second-largest city of France, Marseille, on the Mediterranean Sea, as well as one subsite for surfing in Tahiti, Frenc\n"
     ]
    }
   ],
   "execution_count": 20
  },
  {
   "cell_type": "markdown",
   "source": [
    "现在我们已经在本地执行了函数调用，我们需要将此函数调用的结果反馈给 Claude API，以便模型可以生成用户应该看到的实际响应：\n",
    "\n",
    "\n",
    "1. 继续对话,发送一个新的消息,将`role`设置为`user`。 \n",
    "\n",
    "2. 在这个新的`user`消息中,包含一个`content`块,其中包含`tool_result`类型。\n",
    "\n",
    "3. 在`tool_result`内容块中,您需要提供以下信息:\n",
    "\n",
    "   - `tool_use_id`: 这应该是之前工具使用请求的唯一标识符。\n",
    "   - `content`: 这是工具执行的结果。它可以是一个字符串,也可以是嵌套的内容块列表。\n",
    "   - `is_error`(可选): 如果工具执行出错,将其设置为`true`。\n",
    "\n",
    "以下是一个成功工具结果的示例:\n",
    "\n",
    "```json\n",
    "{\n",
    "  \"role\": \"user\",\n",
    "  \"content\": [\n",
    "    {\n",
    "      \"type\": \"tool_result\",\n",
    "      \"tool_use_id\": \"toolu_01A09q90qw90lq917835lq9\",\n",
    "      \"content\": \"15 degrees\"\n",
    "    }\n",
    "  ]\n",
    "}\n",
    "```\n"
   ],
   "metadata": {
    "collapsed": false
   },
   "id": "127339e6415d042b"
  },
  {
   "metadata": {
    "ExecuteTime": {
     "end_time": "2024-09-04T09:13:59.404598Z",
     "start_time": "2024-09-04T09:13:59.391595Z"
    }
   },
   "cell_type": "code",
   "source": [
    "tool_response = {\n",
    "    \"role\": \"user\",\n",
    "    \"content\": [\n",
    "        {\n",
    "        \"type\": \"tool_result\",\n",
    "        \"tool_use_id\": tool_use.id,\n",
    "        \"content\": wiki_result\n",
    "        }\n",
    "    ]\n",
    "}"
   ],
   "id": "1d703776336fa342",
   "outputs": [],
   "execution_count": 22
  },
  {
   "metadata": {
    "ExecuteTime": {
     "end_time": "2024-09-04T09:14:01.566279Z",
     "start_time": "2024-09-04T09:14:01.552279Z"
    }
   },
   "cell_type": "code",
   "source": [
    "# Notice the long wikipedia article content!\n",
    "tool_response"
   ],
   "id": "417044a232d7d72",
   "outputs": [
    {
     "data": {
      "text/plain": [
       "{'role': 'user',\n",
       " 'content': [{'type': 'tool_result',\n",
       "   'tool_use_id': 'toolu_01W63d8twqQ4Sj5FkSM1KG7p',\n",
       "   'content': 'The 2024 Summer Olympics, officially the Games of the XXXIII Olympiad and branded as Paris 2024, were an international multi-sport event held from 26 July to 11 August 2024 in France, with several events started from 24 July. Paris was the host city, with events (mainly football) held in 16 additional cities spread across metropolitan France, including the sailing centre in the second-largest city of France, Marseille, on the Mediterranean Sea, as well as one subsite for surfing in Tahiti, French Polynesia.\\nParis was awarded the Games at the 131st IOC Session in Lima, Peru, on 13 September 2017. After multiple withdrawals that left only Paris and Los Angeles in contention, the International Olympic Committee (IOC) approved a process to concurrently award the 2024 and 2028 Summer Olympics to the two remaining candidate cities; both bids of the bids were praised for their high technical plans and innovative ways to use a record-breaking number of existing and temporary facilities. Having previously hosted in 1900 and 1924, Paris became the second city ever to host the Summer Olympics three times (after London, which hosted the games in 1908, 1948, and 2012). Paris 2024 marked the centenary of Paris 1924 and Chamonix 1924 (the first Winter Olympics), as well as the sixth Olympic Games hosted by France (three Summer Olympics and three Winter Olympics) and the first with this distinction since the 1992 Winter Games in Albertville. The Summer Games returned to the traditional four-year Olympiad cycle, after the 2020 edition was postponed to 2021 due to the COVID-19 pandemic.\\nParis 2024 featured the debut of breaking as an Olympic sport, and was the final Olympic Games held during the IOC presidency of Thomas Bach. The 2024 Games were expected to cost €9 billion. The opening ceremony was held outside of a stadium for the first time in modern Olympic history, as athletes were paraded by boat along the Seine. Paris 2024 was the first Olympics in history to reach full gender parity on the field of play, with equal numbers of male and female athletes.\\nThe United States topped both the gold and overall medal table for the fourth consecutive Summer Games and 19th time overall, with 40 gold and 126 total medals. China tied with the United States on golds (40), but finished second due to having fewer silvers; the nation won 91 medals overall. Japan finished third with 20 gold medals and sixth in the overall medal count. Australia finished fourth with 18 gold medals and fifth in the overall medal count. The host nation, France, finished fifth with 16 gold and 64 total medals. Dominica, Saint Lucia, Cape Verde and Albania won their first-ever Olympic medals, the former two both being gold, with Botswana and Guatemala also winning their first-ever gold medals. The Refugee Olympic Team also won their first-ever medal, a bronze in boxing.\\n\\n\\n== Host selection ==\\n\\nHaving previously hosted the 1900 and 1924 Games, Paris did not attempt to host the Olympics again until it bid, unsuccessfully, for the 1992 Games which were awarded to Barcelona. Subsequent bids for the 2008 and 2012 Games were also unsuccessful, as they were awarded to Beijing and London, respectively. Undeterred, Paris decided to bid once more for the 2024 edition, which would mark the centenary of its last Games.\\nThe six candidate cities were Paris, Hamburg, Boston, Budapest, Rome, and Los Angeles. The bidding process was slowed by withdrawals, political uncertainty, and deterring costs. Boston surpassed Los Angeles, San Francisco, and Washington, DC, for the official U.S. bid. On 27 July 2015, Boston and the USOC mutually agreed to terminate Boston\\'s bid to host the Games, partly because of mixed feelings among city residents. Hamburg withdrew its bid on 29 November 2015 after holding a referendum. Rome withdrew on 21 September 2016, citing fiscal difficulties. Budapest withdrew on 22 February 2017, after a petition against the bid collected more signatures than necessary for a referendum.\\nFollowing these withdrawals, the IOC Executive Board met on 9 June 2017 in Lausanne, Switzerland, to discuss the 2024 and 2028 bid processes. The International Olympic Committee formally proposed electing the 2024 and 2028 Olympic host cities at the same time, a proposal which an Extraordinary IOC Session approved on 11 July 2017 in Lausanne. The IOC set up a process whereby the LA 2024 and Paris 2024 bid committees met with the IOC to discuss which city would host the Games in 2024 and 2028 and whether it was possible to select the host cities for both at the same time.\\nFollowing the decision to award the two Games simultaneously, Paris was understood to be the preferred host for 2024. On 31 July 2017, the IOC announced Los Angeles as the sole candidate for 2028, enabling Paris to be confirmed as host for 2024. Both decisions were ratified at the 131st IOC Session on 13 September 2017.\\n\\n\\n=== Host city election ===\\nParis was elected as the host city on 13 September 2017 at the 131st IOC Session in Lima, Peru. The two French IOC members, Guy Drut and Tony Estanguet, were ineligible to vote under the rules of the Olympic Charter.\\n\\n\\n== Development and preparations ==\\n\\n\\n=== Venues ===\\n\\nMost of the Olympic events were held in the city of Paris and its metropolitan region, including the neighbouring cities of Saint-Denis, Le Bourget, Nanterre, Versailles, and Vaires-sur-Marne.\\nThe basketball preliminaries and handball finals were held in Lille, 225 km (140 mi) from the host city, Paris; the sailing and some of the football games were held in the Mediterranean city of Marseille, which is 777 km (483 mi) from Paris; meanwhile, the surfing events were held in Teahupo\\'o village in the overseas territory of Tahiti, French Polynesia, which is 15,716 km (9,765 mi) from Paris. Football was also hosted in an additional five cities: Bordeaux, Décines-Charpieu (Lyon), Nantes, Nice and Saint-Étienne, some of which are home to Ligue 1 clubs.\\n\\n\\n==== Grand Paris zone ====\\n\\n\\n==== Paris Centre zone ====\\n\\n\\n==== Versailles zone ====\\n\\n\\n==== Outlying venues ====\\n\\n\\n==== Non-competitive ====\\n\\n\\n=== Medals ===\\nThe President of the Paris 2024 Olympic Organizing Committee, Tony Estanguet, unveiled the Olympic and Paralympic medals for the Games in February 2024, which on the obverse featured embedded hexagon-shaped tokens of scrap iron that had been taken from the original construction of the Eiffel Tower, with the logo of the Games engraved into it. Approximately 5,084 medals would be produced by the French mint Monnaie de Paris, and were designed by Chaumet, a luxury jewellery firm based in Paris.\\nThe reverse of the medals features Nike, the Greek goddess of victory, inside the Panathenaic Stadium which hosted the first modern Olympics in 1896. Parthenon and the Eiffel Tower can also be seen in the background on both sides of the medal. Each medal weighs 455–529 g (16–19 oz), has a diameter of 85 mm (3.3 in) and is 9.2 mm (0.36 in) thick. The gold medals are made with 98.8 percent silver and 1.13 percent gold, while the bronze medals are made up with copper, zinc, and tin.\\n\\n\\n=== Security ===\\nFrance reached an agreement with Europol and the UK Home Office to help strengthen security and \"facilitate operational information exchange and international law enforcement cooperation\" during the Games. The agreement included a plan to deploy more drones and sea barriers to prevent small boats from crossing the Channel illegally. The British Army would also provide support by deploying Starstreak surface-to-air missile units for air security. To prepare for the Games, the Paris police held inspections and rehearsals in their bomb disposal unit, similar to their preparations for the 2023 Rugby World Cup at the Stade de France.\\nAs part of a visit to France by Qatari Emir Sheikh Tamim bin Hamad Al-Thani, several agreements were signed between the two nations to enhance security for the Olympics. In preparation for the significant security demands and counterterrorism measures, Poland pledged to contribute security troops, including sniffer dog handlers, to support international efforts aimed at ensuring the safety of the Games. The Qatari Minister of Interior and Commander of Lekhwiya (the Qatari security forces) convened a meeting on 3 April 2024 to discuss security operations ahead of the Olympics, with officials and security leaders in attendance, including Nasser Al-Khelaifi and Sheikh Jassim bin Mansour Al Thani. A week before the opening ceremony, the Lekhwiya were reported to have been deployed in Paris on 16 July 2024.\\nIn the weeks running up to the opening of the Paris Olympics, it was reported that police officers would be deployed from Belgium, Brazil, Canada (through the RCMP/OPP/CPS), Cyprus, the Czech Republic, Denmark, Estonia, Finland, Germany (through Bundespolizei/NRW Police), India, Ireland, Italy, Luxembourg, Morocco, Netherlands, Norway, Poland, Portugal, Slovakia, South Korea, Spain (through the CNP/GC), Sweden, the UAE, the UK, and the US (through the LAPD/LASD/NYPD/FCPD), with more than 40 countries providing police assistance to their French counterparts.\\nSecurity concerns impacted the plans that had been announced for the opening ceremony, which was to take place as a public event along the Seine; the expected attendance was reduced by half from an estimated 600,000 to 300,000, with plans for free viewing locations now being by invitation only. In April 2024, after Islamic State claimed responsibility for the Crocus City Hall attack in March, and made several threats against the UEFA Champions League quarter-finals, French president Emmanuel Macron indicated that the opening ceremony could be scaled back or re-located if necessary. French authorities had placed roughly 75,000 police and military officials on the streets of Paris in the lead-up to the Games.\\n\\n\\n=== Food ===\\nTo reduce the environmental impact and climate footprint of the Paris 2024 Games, the Olympic venues served twice as much plant-based food as was available in London in 2012 and Rio in 2016. Vegan chicken nuggets and vegan hot dogs were served in place of the meat-based variety. Venues for spectators served on average two-thirds plant-based meals. The Place de la Concorde, the venue that hosted the skateboarding, breakdancing and BMX events, only served plant-based food. The football stadiums served 40% plant-based food. About 30% of the meals served to athletes in the Olympic Village were plant-based.\\nA prior estimate of 13 million meals will be served at the Games; with around 40,000 meals each day, 1,200 of those will be Michelin-starred. Each day, a boulangerie will bake fresh baguettes and other breads. A 3,500-seat restaurant was constructed for the Games to highlight global cuisine. Great Britain\\'s team asked for porridge to be added to the menu, and South Korea\\'s team asked for kimchi.\\nThroughout the Games, various athletes and competitors at the Olympic Village complained about certain foods within the accommodation such as eggs and grilled meats not being available in sufficient quantity. British athletes also reportedly complained about raw meat being served and the food issues led many of them to begin to avoid the Olympic Village dining facilities and to eat elsewhere; the British Olympic Association having flown in chefs to take care of the nourishment of British athletes at a location outside the Olympic Village.\\n\\n\\n=== Air conditioning ===\\nIn the lead-up to the Games, it was announced that the Olympic Village would lack air conditioning; as an environmental measure, the buildings would instead use a geothermal natural cooling system to keep the inside temperature 6 °C (11 °F) cooler than outside. On learning this, many teams opted to supply their own air-conditioning units to the Games, including Canada, Great Britain, Italy, Germany, Greece, Denmark, Japan, and the US.Olympic delegations from poorer countries, such as Uganda, complained that they could not afford to provide air conditioning for their athletes.\\n\\n\\n=== Transportation ===\\nOver €500 million has been invested in transport improvements for the Games, with extensions to the Paris Métro and 60 kilometres (37 mi) of new cycle lanes. Visitors to Paris will pay higher public transport fares during the Games, €4 instead of the previous €2.15 price. This will pay for the increased frequency and hours of service for public transport during the Games, with an average increase of 15% in services. As with previous Games, 185 kilometres (115 mi) of reserved traffic lanes will be used to ensure reliable journey times for athletes, officials and the media.\\n\\n\\n=== Volunteers ===\\nThe Paris 2024 volunteer platform for the Olympic and Paralympic Games was opened to the public in March 2023. There were expected to be 45,000 volunteers recruited worldwide for the Games. Following the end of registration on 3 May 2023, over 300,000 applications had been submitted to the Paris Organising Committee, exceeding the number of applicants for the previous two Olympics. Applicants were notified of the outcome of their application between September and December 2023. Over 800 applicants were excluded over security fears, among which 15 were flagged with Fiche S.\\n\\n\\n=== Torch relay ===\\n\\nThe Olympic torch relay began with the lighting of the Olympic flame on 16 April in Olympia, Greece, 100 days before the start of the Games. Greek rower Stefanos Douskos was the first torchbearer and swimmer Laure Manaudou served as the first French torchbearer. The latter was selected to be one of four captains of the torch relay, alongside swimmer Florent Manaudou (her brother), paratriathlete Mona Francis, and para-athlete Dimitri Pavadé. The torch relay is expected to have 10,000 torchbearers and visit over 400 settlements in 65 French territories, including six overseas. On 18 May, it was reported that the portion of the relay in New Caledonia was cancelled due to ongoing unrest in the collectivity.\\n\\n\\n=== Tickets ===\\n9.5 million of the 10 million tickets available for the games were sold.  Several sports reported record attendance.\\n\\n\\n== The Games ==\\n\\n\\n=== Opening ceremony ===\\n\\nThe opening ceremony began at 19:30 CEST (17:30 GMT) on 26 July 2024. Directed by Thomas Jolly, it was the first Summer Olympics opening ceremony to be held outside the traditional stadium setting (and the second ever after the 2018 Youth Olympic Games one, held at Plaza de la República in Buenos Aires); the parade of athletes was conducted as a boat parade along the Seine from Pont d\\'Austerlitz to Pont d\\'Iéna, and cultural segments took place at various landmarks along the route. Jolly stated that the ceremony would highlight notable moments in the history of France, with an overall theme of love and \"shared humanity\". The athletes then attended the official protocol at Jardins du Trocadéro, in front of the Eiffel Tower. Approximately 326,000 tickets were sold for viewing locations along the Seine, 222,000 of which were distributed primarily to the Games\\' volunteers, youth and low-income families, among others.\\nThe ceremony featured music performances by American musician Lady Gaga, French-Malian singer Aya Nakamura, heavy metal band Gojira and soprano Marina Viotti, Axelle Saint-Cirel (who sang the French national anthem \"La Marseillaise\" atop the Grand Palais), rapper Rim\\'K, Philippe Katerine (who portrayed the Greek god Dionysus), Juliette Armanet and Sofiane Pamart, and was closed by Canadian singer Céline Dion. The Games were formally opened by president Emmanuel Macron. The Olympic cauldron, which was lit by Guadeloupean judoka Teddy Riner and sprinter Marie-José Pérec, has a hot air balloon-inspired design topped by a 30-metre-tall (98 ft) helium sphere; it is allowed to float into the air above the Tuileries Garden at night. For the first time, the cauldron is not illuminated through combustion; the flames are simulated by an LED lighting system and aerosol water jets.\\nControversy ensued at the opening ceremony when a segment was thought to parody the Last Supper. The organisers apologised for any offence caused. The Olympic World Library and fact-checkers would later debunk the interpretation that the segment was a parody of the Last Supper. The Olympic flag was also raised upside down.\\nDuring the day of the opening ceremony, there allegedly was a blackout in Paris.\\n\\n\\n=== Sports ===\\n\\nThe programme of the 2024 Summer Olympics featured 329 events in 32 sports, encompassing a total of 48 disciplines. This included the 28 \"core\" Olympic sports contested in 2016 and 2020, and 4 optional sports that were proposed by the Paris Organising Committee: breakdancing made its Olympic debut as an optional sport, while skateboarding, sport climbing, and surfing returned to the programme, having debuted at the 2020 Summer Olympics. Four events were dropped from weightlifting. In canoeing, two sprint events were replaced with two slalom events, keeping the overall event total at 16. In sport climbing, the previous \"combined\" event was divided into two separate disciplines: speed climbing, and boulder-and-lead.\\nWhen Paris was bidding for the Games in August 2017, the Paris Organising Committee announced an intention to hold talks with the IOC and professional esports organisations about the possibility of introducing competitive esports events in 2024. In July 2018, the IOC confirmed that esports would not be considered for the 2024 Olympics. At the 134th IOC Session in June 2019, the IOC approved the Paris Organising Committee\\'s proposed optional sports of breaking (breakdance), along with skateboarding, sport climbing, and surfing, three sports that were first included in 2020.\\nIn the 2024 Paris Olympics, several new events and formats have been introduced. Formula Kite made its debut, described as the \"Formula One of the Olympics,\" featuring high-speed foil racing with separate events for men and women. Kayak cross also debuted, where four athletes race against each other on a course with multiple gates, marking the first head-to-head race in Olympic canoe slalom history. Sport climbing returned with a new format, splitting into bouldering and lead combined events in addition to a speed event. 3x3 basketball, which debuted in Tokyo, was back with finals scheduled for August 5 at Place de La Concorde. Changes in other sports included the introduction of men\\'s participation in artistic swimming, a new women’s weight class in boxing, and the addition of a marathon race walk mixed relay in track and field.\\n\\n\\n=== Medal reallocations from previous Olympics ===\\nIn addition to the Celebrations, the Champions Park was also planned to receive the medal reallocation ceremonies from previous Olympics dating back as far as 2000. Due to new IOC rules and protocols, one medal reallocation ceremony took place on 7 August for the figure skating team event from the 2022 Winter Olympics in Beijing. It had been the first Olympic medal ceremony to be delayed after Kamila Valieva from original gold medalist Russia was reported and then confirmed to have tested positive in 2021 for trimetazidine. In January 2024, the Court of Arbitration for Sport disqualified Valieva for four years retroactive to 25 December 2021 for an anti-doping rule violation, and the International Skating Union subsequently subtracted Valieva\\'s scores, which upgraded the United States and Japan to gold and silver respectively.\\nUnder the IOC\\'s new Medal Reallocation Rules, the IOC, the ISU, and the National Olympic Committees for both the United States and Japan coordinated the medal ceremony for gold and silver medals during reallocation ceremonies during the 2024 Summer Olympics. The Beijing 2022 soundtrack was still used for the medal ceremony, but both teams wore Paris 2024 national uniforms and it was the first medal ceremony from the 2022 Winter Olympics to have a full crowd, as there had been reduced audiences in 2022 due to the COVID-19 pandemic.\\n\\n\\n=== Closing ceremony ===\\n\\nThe closing ceremony was held at Stade de France on 11 August 2024, and thus marked the first time in any Olympic edition since Sarajevo 1984 that opening and closing ceremonies were held in different locations (the same will happen again at Milano-Cortina 2026). Titled \"Records\", the ceremony was themed around a dystopian future, where the Olympic Games have disappeared, and a group of aliens reinvent it. It featured more than a hundred performers, including acrobats, dancers and circus artists. American actor Tom Cruise also appeared with American performers Red Hot Chili Peppers, Billie Eilish, Snoop Dogg, and H.E.R. during the LA28 Handover Celebration portion of the ceremony. The Antwerp Ceremony, in which the Olympic flag was handed to Los Angeles, the host city of the 2028 Summer Olympics, was produced by Ben Winston and his studio Fulwell 73.\\n\\n\\n== Participating National Olympic Committees ==\\n204 out of 206 National Olympic Committees are represented at the 2024 Summer Games with 54 from Africa, 48 from Europe, 44 from Asia, 41 from the Americas and 17 from Oceania. North Korea returned to the Games in 2024 after missing the 2020 edition. Following the Russian invasion of Ukraine, the IOC suspended the Olympic Committees of Russia and Belarus for violating the Olympic Truce. Russian and Belarusian athletes instead competed as \"Individual Neutral Athletes\" (AIN) without national identification, as long as they did not \"actively\" support the war. Individual neutral athletes had to be approved by each sport\\'s international federation, and then the IOC\\'s panel. As individual athletes, AIN was not considered a delegation during the opening ceremony or in the medal tables. The Refugee Olympic Team also competed.\\n\\nNumber of athletes by National Olympic Committees\\n\\n\\n== Calendar ==\\n\\nIn the following calendar for the 2024 Summer Olympics, each blue box represents an event competition, such as a qualification round, on that day. The yellow boxes represent days during which medal-awarding finals for a sport were held. On the left, the calendar lists each sport with events held during the Games, and at the right how many gold medals were won in that sport. There is a key at the top of the calendar to aid the reader.\\n\\nAll times and dates use Central European Summer Time (UTC+2)\\n\\n\\n== Medal table ==\\n\\n  *   Host nation (France)\\n\\n\\n=== Podium sweeps ===\\nThere was one podium sweep during the games:\\n\\n\\n== Marketing ==\\n\\n\\n=== Emblem ===\\nThe emblem for the 2024 Summer Olympics and Paralympics was unveiled on 21 October 2019 at the Grand Rex. Inspired by Art Deco, it is a representation of Marianne, the national personification of France, with a flame formed in negative space by her hair. The emblem also resembles a gold medal. Tony Estanguet explained that the emblem symbolised \"the power and the magic of the Games\", and the Games being \"for people\". The use of a female figure also serves as an homage to the 1900 Summer Olympics in Paris, which were the first to allow women to participate. The emblem was designed by the French designer Sylvain Boyer with the French design agencies Royalties & Ecobranding.\\nThe emblem for Paris 2024 was considered the biggest new logo release of 2019 by many design magazines. An Opinion Way survey shows that 83 per cent of French people say they like the new Paris 2024 Games emblem. Approval ratings were high, with 82 per cent of those surveyed finding it aesthetically appealing and 78 per cent finding it to be creative. It was met with some mockery on social media, one user commenting that the logo \"would be better suited to a dating site or a hair salon\".\\nFor the first time, the 2024 Summer Paralympics is sharing the same emblem as its corresponding Olympics, with no difference, reflecting a shared \"ambition\" between both events.\\n\\n\\n=== Mascots ===\\n\\nOn 14 November 2022, the Phryges were unveiled as the mascots of the 2024 Summer Olympics and Paralympics; they are a pair of anthropomorphic Phrygian caps, a historic French symbol of freedom and liberty. Marianne is commonly depicted wearing the Phrygian cap, including in the Eugène Delacroix painting, Liberty Leading the People. The two mascots share a motto of \"Alone we go faster, but together we go further\".\\n\\n\\n=== Merchandise ===\\nIn April 2024, the official Olympic video game titled Olympics Go! Paris 2024 was announced for release in June by Animoca Brands on Android, iOS, and Microsoft Windows devices. The 2024 Summer Olympics became the first Summer Olympics in over 30 years to not have an official console video game.\\n\\n\\n=== Posters ===\\nThe Olympic poster for these games was revealed on 4 March 2024. Designed by Ugo Gattoni, the poster uses a diptych design, with one half representing the Olympics and the other half representing the Paralympics. For the first time in Summer Games history, the Olympic poster and Paralympic poster were designed together, as each one can work independently as halves, or be combined into one poster all together. The posters took 2,000 hours, across six months to complete.\\n\\n\\n=== Corporate sponsorship ===\\nA TGM Research survey shows that Coca-Cola is globally the most connected brand with the 2024 Olympics, with 23% of people mentioning it. Nike comes in second with 16%, despite not being an official sponsor of the Olympic Games. Belgian beverage company AB InBev became the first Worldwide Olympic Partner during the Games, while Japanese automobile manufacturer Toyota will not renew its sponsorship after 2024, with the company reportedly unhappy with how the IOC has used its sponsorship money.\\nUnder an agreement as \"Premium\" sponsor reportedly valued at €150 million ($163 million), French luxury goods conglomerate LVMH has been involved in aspects of the Games, with its brand Louis Vuitton having provided the trunks used to store the Olympic torch and medals, and the outfits and trays for medal presenters. Former IOC marketing head Michael Payne raised concerns that the prominent use of LVMH goods as part of the Olympics (and in particular, the opening ceremony, which also featured the aforementioned items as props, and performers Aya Nakamura and Lady Gaga wearing Dior haute couture) could cause conflicts with other official sponsors, noting that \"the direction of stylish sponsor product placement may not be wrong but needs exceptionally careful management. LVMH got a massive free global ad last night and other partners are all going to be asking, how did that work?\"\\n\\n\\n== Broadcasting rights ==\\n\\nIn France, domestic rights to the 2024 Summer Olympics are owned by Warner Bros. Discovery (formerly Discovery Inc.) via Eurosport, with free-to-air coverage sublicensed to the country\\'s public broadcaster France Télévisions. WBD networks will broadcast from Hôtel Raphael, with dedicated studios for its British, French, Polish, and Nordic channels. \\nThe official Olympics website offers both live-streaming and recent recordings of the events in selected markets, particularly in Brazil, Russia (due to Russian broadcasters pulling out), and the Indian subcontinent.\\n\\n\\n== Concerns and controversies ==\\n\\n\\n=== Lead-up ===\\nSeveral controversial issues occurred related to the 2024 Summer Olympics, including environmental and security concerns, human rights, terrorism, and controversies over allowing Israel to participate amidst the Israel–Hamas war, and allowing Russian and Belarusian athletes to compete as neutrals amidst the Russian invasion of Ukraine. While there is nominally an Olympic Truce in place as is usual, the Russian invasion of Ukraine and Israel–Hamas war set a more conflicted political background to the 2024 Summer Olympics, before considering domestic and sporting issues.\\n\\n\\n=== Opening ceremony ===\\nThe opening ceremony of the Paris 2024 Olympics sparked significant controversy worldwide, especially among Christians, who incorrectly interpreted a performance representing the feast of Dionysus as mocking Leonardo da Vinci\\'s The Last Supper.\\nThe performance faced criticism for supposedly being disrespectful of peoples’ beliefs. The artistic director of the ceremony, Thomas Jolly, stated that the performance was a reenactment of the painting Le Festin des Dieux by Jan van Bijlert, which depicts various Greek gods partaking in a banquet at Mount Olympus.\\nThe performance, however, also received praise from others for \"celebrating queer visibility and LGBTQ+ inclusivity\", according to American magazine Cosmopolitan. Among those who expressed appreciation for the segment were American actress Jodie Sweetin, as well as Le Filip, a Croatian-French drag queen who won the third season of Drag Race France.\\nThe Olympic World Library would later publish a media guide (written before the ceremony) describing it as being a homage to cultural festivities. According to Georgian fact checking website, Myth Detector, many experts had pointed out the differences between the fresco and the segment.\\n\\n\\n== See also ==\\n\\nDoping suspensions at Paris 2024\\n2024 Summer Paralympics\\n2028 Summer Olympics in Los Angeles\\n2032 Summer Olympics in Brisbane\\nList of LGBT Summer Olympians (2024–present)\\nOther Olympic Games celebrated in France\\n1900 Summer Olympics and 1924 Summer Olympics also held in Paris\\n1924 Winter Olympics – Chamonix\\n1968 Winter Olympics – Grenoble\\n1992 Winter Olympics – Albertville\\n2030 Winter Olympics – French Alps\\nList of IOC country codes\\n\\n\\n== Notes ==\\n\\n\\n== References ==\\n\\n\\n== External links ==\\n\\n\"Paris 2024\". Olympics.com. International Olympic Committee.\\nEuropean Olympic Committees'}]}"
      ]
     },
     "execution_count": 23,
     "metadata": {},
     "output_type": "execute_result"
    }
   ],
   "execution_count": 23
  },
  {
   "metadata": {
    "ExecuteTime": {
     "end_time": "2024-09-04T09:14:17.978304Z",
     "start_time": "2024-09-04T09:14:17.963305Z"
    }
   },
   "cell_type": "code",
   "source": [
    "messages.append(tool_response)\n",
    "print(messages)"
   ],
   "id": "e959b9082e1747c7",
   "outputs": [
    {
     "name": "stdout",
     "output_type": "stream",
     "text": [
      "[{'role': 'user', 'content': '2024年的奥运会在哪里举行，有什么特别之处'}, {'role': 'assistant', 'content': [TextBlock(text='让我们使用get_article工具来查找有关2024年奥运会的最新信息:', type='text'), ToolUseBlock(id='toolu_01W63d8twqQ4Sj5FkSM1KG7p', input={'search_term': '2024 Summer Olympics'}, name='get_article', type='tool_use')]}, {'role': 'user', 'content': [{'type': 'tool_result', 'tool_use_id': 'toolu_01W63d8twqQ4Sj5FkSM1KG7p', 'content': 'The 2024 Summer Olympics, officially the Games of the XXXIII Olympiad and branded as Paris 2024, were an international multi-sport event held from 26 July to 11 August 2024 in France, with several events started from 24 July. Paris was the host city, with events (mainly football) held in 16 additional cities spread across metropolitan France, including the sailing centre in the second-largest city of France, Marseille, on the Mediterranean Sea, as well as one subsite for surfing in Tahiti, French Polynesia.\\nParis was awarded the Games at the 131st IOC Session in Lima, Peru, on 13 September 2017. After multiple withdrawals that left only Paris and Los Angeles in contention, the International Olympic Committee (IOC) approved a process to concurrently award the 2024 and 2028 Summer Olympics to the two remaining candidate cities; both bids of the bids were praised for their high technical plans and innovative ways to use a record-breaking number of existing and temporary facilities. Having previously hosted in 1900 and 1924, Paris became the second city ever to host the Summer Olympics three times (after London, which hosted the games in 1908, 1948, and 2012). Paris 2024 marked the centenary of Paris 1924 and Chamonix 1924 (the first Winter Olympics), as well as the sixth Olympic Games hosted by France (three Summer Olympics and three Winter Olympics) and the first with this distinction since the 1992 Winter Games in Albertville. The Summer Games returned to the traditional four-year Olympiad cycle, after the 2020 edition was postponed to 2021 due to the COVID-19 pandemic.\\nParis 2024 featured the debut of breaking as an Olympic sport, and was the final Olympic Games held during the IOC presidency of Thomas Bach. The 2024 Games were expected to cost €9 billion. The opening ceremony was held outside of a stadium for the first time in modern Olympic history, as athletes were paraded by boat along the Seine. Paris 2024 was the first Olympics in history to reach full gender parity on the field of play, with equal numbers of male and female athletes.\\nThe United States topped both the gold and overall medal table for the fourth consecutive Summer Games and 19th time overall, with 40 gold and 126 total medals. China tied with the United States on golds (40), but finished second due to having fewer silvers; the nation won 91 medals overall. Japan finished third with 20 gold medals and sixth in the overall medal count. Australia finished fourth with 18 gold medals and fifth in the overall medal count. The host nation, France, finished fifth with 16 gold and 64 total medals. Dominica, Saint Lucia, Cape Verde and Albania won their first-ever Olympic medals, the former two both being gold, with Botswana and Guatemala also winning their first-ever gold medals. The Refugee Olympic Team also won their first-ever medal, a bronze in boxing.\\n\\n\\n== Host selection ==\\n\\nHaving previously hosted the 1900 and 1924 Games, Paris did not attempt to host the Olympics again until it bid, unsuccessfully, for the 1992 Games which were awarded to Barcelona. Subsequent bids for the 2008 and 2012 Games were also unsuccessful, as they were awarded to Beijing and London, respectively. Undeterred, Paris decided to bid once more for the 2024 edition, which would mark the centenary of its last Games.\\nThe six candidate cities were Paris, Hamburg, Boston, Budapest, Rome, and Los Angeles. The bidding process was slowed by withdrawals, political uncertainty, and deterring costs. Boston surpassed Los Angeles, San Francisco, and Washington, DC, for the official U.S. bid. On 27 July 2015, Boston and the USOC mutually agreed to terminate Boston\\'s bid to host the Games, partly because of mixed feelings among city residents. Hamburg withdrew its bid on 29 November 2015 after holding a referendum. Rome withdrew on 21 September 2016, citing fiscal difficulties. Budapest withdrew on 22 February 2017, after a petition against the bid collected more signatures than necessary for a referendum.\\nFollowing these withdrawals, the IOC Executive Board met on 9 June 2017 in Lausanne, Switzerland, to discuss the 2024 and 2028 bid processes. The International Olympic Committee formally proposed electing the 2024 and 2028 Olympic host cities at the same time, a proposal which an Extraordinary IOC Session approved on 11 July 2017 in Lausanne. The IOC set up a process whereby the LA 2024 and Paris 2024 bid committees met with the IOC to discuss which city would host the Games in 2024 and 2028 and whether it was possible to select the host cities for both at the same time.\\nFollowing the decision to award the two Games simultaneously, Paris was understood to be the preferred host for 2024. On 31 July 2017, the IOC announced Los Angeles as the sole candidate for 2028, enabling Paris to be confirmed as host for 2024. Both decisions were ratified at the 131st IOC Session on 13 September 2017.\\n\\n\\n=== Host city election ===\\nParis was elected as the host city on 13 September 2017 at the 131st IOC Session in Lima, Peru. The two French IOC members, Guy Drut and Tony Estanguet, were ineligible to vote under the rules of the Olympic Charter.\\n\\n\\n== Development and preparations ==\\n\\n\\n=== Venues ===\\n\\nMost of the Olympic events were held in the city of Paris and its metropolitan region, including the neighbouring cities of Saint-Denis, Le Bourget, Nanterre, Versailles, and Vaires-sur-Marne.\\nThe basketball preliminaries and handball finals were held in Lille, 225 km (140 mi) from the host city, Paris; the sailing and some of the football games were held in the Mediterranean city of Marseille, which is 777 km (483 mi) from Paris; meanwhile, the surfing events were held in Teahupo\\'o village in the overseas territory of Tahiti, French Polynesia, which is 15,716 km (9,765 mi) from Paris. Football was also hosted in an additional five cities: Bordeaux, Décines-Charpieu (Lyon), Nantes, Nice and Saint-Étienne, some of which are home to Ligue 1 clubs.\\n\\n\\n==== Grand Paris zone ====\\n\\n\\n==== Paris Centre zone ====\\n\\n\\n==== Versailles zone ====\\n\\n\\n==== Outlying venues ====\\n\\n\\n==== Non-competitive ====\\n\\n\\n=== Medals ===\\nThe President of the Paris 2024 Olympic Organizing Committee, Tony Estanguet, unveiled the Olympic and Paralympic medals for the Games in February 2024, which on the obverse featured embedded hexagon-shaped tokens of scrap iron that had been taken from the original construction of the Eiffel Tower, with the logo of the Games engraved into it. Approximately 5,084 medals would be produced by the French mint Monnaie de Paris, and were designed by Chaumet, a luxury jewellery firm based in Paris.\\nThe reverse of the medals features Nike, the Greek goddess of victory, inside the Panathenaic Stadium which hosted the first modern Olympics in 1896. Parthenon and the Eiffel Tower can also be seen in the background on both sides of the medal. Each medal weighs 455–529 g (16–19 oz), has a diameter of 85 mm (3.3 in) and is 9.2 mm (0.36 in) thick. The gold medals are made with 98.8 percent silver and 1.13 percent gold, while the bronze medals are made up with copper, zinc, and tin.\\n\\n\\n=== Security ===\\nFrance reached an agreement with Europol and the UK Home Office to help strengthen security and \"facilitate operational information exchange and international law enforcement cooperation\" during the Games. The agreement included a plan to deploy more drones and sea barriers to prevent small boats from crossing the Channel illegally. The British Army would also provide support by deploying Starstreak surface-to-air missile units for air security. To prepare for the Games, the Paris police held inspections and rehearsals in their bomb disposal unit, similar to their preparations for the 2023 Rugby World Cup at the Stade de France.\\nAs part of a visit to France by Qatari Emir Sheikh Tamim bin Hamad Al-Thani, several agreements were signed between the two nations to enhance security for the Olympics. In preparation for the significant security demands and counterterrorism measures, Poland pledged to contribute security troops, including sniffer dog handlers, to support international efforts aimed at ensuring the safety of the Games. The Qatari Minister of Interior and Commander of Lekhwiya (the Qatari security forces) convened a meeting on 3 April 2024 to discuss security operations ahead of the Olympics, with officials and security leaders in attendance, including Nasser Al-Khelaifi and Sheikh Jassim bin Mansour Al Thani. A week before the opening ceremony, the Lekhwiya were reported to have been deployed in Paris on 16 July 2024.\\nIn the weeks running up to the opening of the Paris Olympics, it was reported that police officers would be deployed from Belgium, Brazil, Canada (through the RCMP/OPP/CPS), Cyprus, the Czech Republic, Denmark, Estonia, Finland, Germany (through Bundespolizei/NRW Police), India, Ireland, Italy, Luxembourg, Morocco, Netherlands, Norway, Poland, Portugal, Slovakia, South Korea, Spain (through the CNP/GC), Sweden, the UAE, the UK, and the US (through the LAPD/LASD/NYPD/FCPD), with more than 40 countries providing police assistance to their French counterparts.\\nSecurity concerns impacted the plans that had been announced for the opening ceremony, which was to take place as a public event along the Seine; the expected attendance was reduced by half from an estimated 600,000 to 300,000, with plans for free viewing locations now being by invitation only. In April 2024, after Islamic State claimed responsibility for the Crocus City Hall attack in March, and made several threats against the UEFA Champions League quarter-finals, French president Emmanuel Macron indicated that the opening ceremony could be scaled back or re-located if necessary. French authorities had placed roughly 75,000 police and military officials on the streets of Paris in the lead-up to the Games.\\n\\n\\n=== Food ===\\nTo reduce the environmental impact and climate footprint of the Paris 2024 Games, the Olympic venues served twice as much plant-based food as was available in London in 2012 and Rio in 2016. Vegan chicken nuggets and vegan hot dogs were served in place of the meat-based variety. Venues for spectators served on average two-thirds plant-based meals. The Place de la Concorde, the venue that hosted the skateboarding, breakdancing and BMX events, only served plant-based food. The football stadiums served 40% plant-based food. About 30% of the meals served to athletes in the Olympic Village were plant-based.\\nA prior estimate of 13 million meals will be served at the Games; with around 40,000 meals each day, 1,200 of those will be Michelin-starred. Each day, a boulangerie will bake fresh baguettes and other breads. A 3,500-seat restaurant was constructed for the Games to highlight global cuisine. Great Britain\\'s team asked for porridge to be added to the menu, and South Korea\\'s team asked for kimchi.\\nThroughout the Games, various athletes and competitors at the Olympic Village complained about certain foods within the accommodation such as eggs and grilled meats not being available in sufficient quantity. British athletes also reportedly complained about raw meat being served and the food issues led many of them to begin to avoid the Olympic Village dining facilities and to eat elsewhere; the British Olympic Association having flown in chefs to take care of the nourishment of British athletes at a location outside the Olympic Village.\\n\\n\\n=== Air conditioning ===\\nIn the lead-up to the Games, it was announced that the Olympic Village would lack air conditioning; as an environmental measure, the buildings would instead use a geothermal natural cooling system to keep the inside temperature 6 °C (11 °F) cooler than outside. On learning this, many teams opted to supply their own air-conditioning units to the Games, including Canada, Great Britain, Italy, Germany, Greece, Denmark, Japan, and the US.Olympic delegations from poorer countries, such as Uganda, complained that they could not afford to provide air conditioning for their athletes.\\n\\n\\n=== Transportation ===\\nOver €500 million has been invested in transport improvements for the Games, with extensions to the Paris Métro and 60 kilometres (37 mi) of new cycle lanes. Visitors to Paris will pay higher public transport fares during the Games, €4 instead of the previous €2.15 price. This will pay for the increased frequency and hours of service for public transport during the Games, with an average increase of 15% in services. As with previous Games, 185 kilometres (115 mi) of reserved traffic lanes will be used to ensure reliable journey times for athletes, officials and the media.\\n\\n\\n=== Volunteers ===\\nThe Paris 2024 volunteer platform for the Olympic and Paralympic Games was opened to the public in March 2023. There were expected to be 45,000 volunteers recruited worldwide for the Games. Following the end of registration on 3 May 2023, over 300,000 applications had been submitted to the Paris Organising Committee, exceeding the number of applicants for the previous two Olympics. Applicants were notified of the outcome of their application between September and December 2023. Over 800 applicants were excluded over security fears, among which 15 were flagged with Fiche S.\\n\\n\\n=== Torch relay ===\\n\\nThe Olympic torch relay began with the lighting of the Olympic flame on 16 April in Olympia, Greece, 100 days before the start of the Games. Greek rower Stefanos Douskos was the first torchbearer and swimmer Laure Manaudou served as the first French torchbearer. The latter was selected to be one of four captains of the torch relay, alongside swimmer Florent Manaudou (her brother), paratriathlete Mona Francis, and para-athlete Dimitri Pavadé. The torch relay is expected to have 10,000 torchbearers and visit over 400 settlements in 65 French territories, including six overseas. On 18 May, it was reported that the portion of the relay in New Caledonia was cancelled due to ongoing unrest in the collectivity.\\n\\n\\n=== Tickets ===\\n9.5 million of the 10 million tickets available for the games were sold.  Several sports reported record attendance.\\n\\n\\n== The Games ==\\n\\n\\n=== Opening ceremony ===\\n\\nThe opening ceremony began at 19:30 CEST (17:30 GMT) on 26 July 2024. Directed by Thomas Jolly, it was the first Summer Olympics opening ceremony to be held outside the traditional stadium setting (and the second ever after the 2018 Youth Olympic Games one, held at Plaza de la República in Buenos Aires); the parade of athletes was conducted as a boat parade along the Seine from Pont d\\'Austerlitz to Pont d\\'Iéna, and cultural segments took place at various landmarks along the route. Jolly stated that the ceremony would highlight notable moments in the history of France, with an overall theme of love and \"shared humanity\". The athletes then attended the official protocol at Jardins du Trocadéro, in front of the Eiffel Tower. Approximately 326,000 tickets were sold for viewing locations along the Seine, 222,000 of which were distributed primarily to the Games\\' volunteers, youth and low-income families, among others.\\nThe ceremony featured music performances by American musician Lady Gaga, French-Malian singer Aya Nakamura, heavy metal band Gojira and soprano Marina Viotti, Axelle Saint-Cirel (who sang the French national anthem \"La Marseillaise\" atop the Grand Palais), rapper Rim\\'K, Philippe Katerine (who portrayed the Greek god Dionysus), Juliette Armanet and Sofiane Pamart, and was closed by Canadian singer Céline Dion. The Games were formally opened by president Emmanuel Macron. The Olympic cauldron, which was lit by Guadeloupean judoka Teddy Riner and sprinter Marie-José Pérec, has a hot air balloon-inspired design topped by a 30-metre-tall (98 ft) helium sphere; it is allowed to float into the air above the Tuileries Garden at night. For the first time, the cauldron is not illuminated through combustion; the flames are simulated by an LED lighting system and aerosol water jets.\\nControversy ensued at the opening ceremony when a segment was thought to parody the Last Supper. The organisers apologised for any offence caused. The Olympic World Library and fact-checkers would later debunk the interpretation that the segment was a parody of the Last Supper. The Olympic flag was also raised upside down.\\nDuring the day of the opening ceremony, there allegedly was a blackout in Paris.\\n\\n\\n=== Sports ===\\n\\nThe programme of the 2024 Summer Olympics featured 329 events in 32 sports, encompassing a total of 48 disciplines. This included the 28 \"core\" Olympic sports contested in 2016 and 2020, and 4 optional sports that were proposed by the Paris Organising Committee: breakdancing made its Olympic debut as an optional sport, while skateboarding, sport climbing, and surfing returned to the programme, having debuted at the 2020 Summer Olympics. Four events were dropped from weightlifting. In canoeing, two sprint events were replaced with two slalom events, keeping the overall event total at 16. In sport climbing, the previous \"combined\" event was divided into two separate disciplines: speed climbing, and boulder-and-lead.\\nWhen Paris was bidding for the Games in August 2017, the Paris Organising Committee announced an intention to hold talks with the IOC and professional esports organisations about the possibility of introducing competitive esports events in 2024. In July 2018, the IOC confirmed that esports would not be considered for the 2024 Olympics. At the 134th IOC Session in June 2019, the IOC approved the Paris Organising Committee\\'s proposed optional sports of breaking (breakdance), along with skateboarding, sport climbing, and surfing, three sports that were first included in 2020.\\nIn the 2024 Paris Olympics, several new events and formats have been introduced. Formula Kite made its debut, described as the \"Formula One of the Olympics,\" featuring high-speed foil racing with separate events for men and women. Kayak cross also debuted, where four athletes race against each other on a course with multiple gates, marking the first head-to-head race in Olympic canoe slalom history. Sport climbing returned with a new format, splitting into bouldering and lead combined events in addition to a speed event. 3x3 basketball, which debuted in Tokyo, was back with finals scheduled for August 5 at Place de La Concorde. Changes in other sports included the introduction of men\\'s participation in artistic swimming, a new women’s weight class in boxing, and the addition of a marathon race walk mixed relay in track and field.\\n\\n\\n=== Medal reallocations from previous Olympics ===\\nIn addition to the Celebrations, the Champions Park was also planned to receive the medal reallocation ceremonies from previous Olympics dating back as far as 2000. Due to new IOC rules and protocols, one medal reallocation ceremony took place on 7 August for the figure skating team event from the 2022 Winter Olympics in Beijing. It had been the first Olympic medal ceremony to be delayed after Kamila Valieva from original gold medalist Russia was reported and then confirmed to have tested positive in 2021 for trimetazidine. In January 2024, the Court of Arbitration for Sport disqualified Valieva for four years retroactive to 25 December 2021 for an anti-doping rule violation, and the International Skating Union subsequently subtracted Valieva\\'s scores, which upgraded the United States and Japan to gold and silver respectively.\\nUnder the IOC\\'s new Medal Reallocation Rules, the IOC, the ISU, and the National Olympic Committees for both the United States and Japan coordinated the medal ceremony for gold and silver medals during reallocation ceremonies during the 2024 Summer Olympics. The Beijing 2022 soundtrack was still used for the medal ceremony, but both teams wore Paris 2024 national uniforms and it was the first medal ceremony from the 2022 Winter Olympics to have a full crowd, as there had been reduced audiences in 2022 due to the COVID-19 pandemic.\\n\\n\\n=== Closing ceremony ===\\n\\nThe closing ceremony was held at Stade de France on 11 August 2024, and thus marked the first time in any Olympic edition since Sarajevo 1984 that opening and closing ceremonies were held in different locations (the same will happen again at Milano-Cortina 2026). Titled \"Records\", the ceremony was themed around a dystopian future, where the Olympic Games have disappeared, and a group of aliens reinvent it. It featured more than a hundred performers, including acrobats, dancers and circus artists. American actor Tom Cruise also appeared with American performers Red Hot Chili Peppers, Billie Eilish, Snoop Dogg, and H.E.R. during the LA28 Handover Celebration portion of the ceremony. The Antwerp Ceremony, in which the Olympic flag was handed to Los Angeles, the host city of the 2028 Summer Olympics, was produced by Ben Winston and his studio Fulwell 73.\\n\\n\\n== Participating National Olympic Committees ==\\n204 out of 206 National Olympic Committees are represented at the 2024 Summer Games with 54 from Africa, 48 from Europe, 44 from Asia, 41 from the Americas and 17 from Oceania. North Korea returned to the Games in 2024 after missing the 2020 edition. Following the Russian invasion of Ukraine, the IOC suspended the Olympic Committees of Russia and Belarus for violating the Olympic Truce. Russian and Belarusian athletes instead competed as \"Individual Neutral Athletes\" (AIN) without national identification, as long as they did not \"actively\" support the war. Individual neutral athletes had to be approved by each sport\\'s international federation, and then the IOC\\'s panel. As individual athletes, AIN was not considered a delegation during the opening ceremony or in the medal tables. The Refugee Olympic Team also competed.\\n\\nNumber of athletes by National Olympic Committees\\n\\n\\n== Calendar ==\\n\\nIn the following calendar for the 2024 Summer Olympics, each blue box represents an event competition, such as a qualification round, on that day. The yellow boxes represent days during which medal-awarding finals for a sport were held. On the left, the calendar lists each sport with events held during the Games, and at the right how many gold medals were won in that sport. There is a key at the top of the calendar to aid the reader.\\n\\nAll times and dates use Central European Summer Time (UTC+2)\\n\\n\\n== Medal table ==\\n\\n  *   Host nation (France)\\n\\n\\n=== Podium sweeps ===\\nThere was one podium sweep during the games:\\n\\n\\n== Marketing ==\\n\\n\\n=== Emblem ===\\nThe emblem for the 2024 Summer Olympics and Paralympics was unveiled on 21 October 2019 at the Grand Rex. Inspired by Art Deco, it is a representation of Marianne, the national personification of France, with a flame formed in negative space by her hair. The emblem also resembles a gold medal. Tony Estanguet explained that the emblem symbolised \"the power and the magic of the Games\", and the Games being \"for people\". The use of a female figure also serves as an homage to the 1900 Summer Olympics in Paris, which were the first to allow women to participate. The emblem was designed by the French designer Sylvain Boyer with the French design agencies Royalties & Ecobranding.\\nThe emblem for Paris 2024 was considered the biggest new logo release of 2019 by many design magazines. An Opinion Way survey shows that 83 per cent of French people say they like the new Paris 2024 Games emblem. Approval ratings were high, with 82 per cent of those surveyed finding it aesthetically appealing and 78 per cent finding it to be creative. It was met with some mockery on social media, one user commenting that the logo \"would be better suited to a dating site or a hair salon\".\\nFor the first time, the 2024 Summer Paralympics is sharing the same emblem as its corresponding Olympics, with no difference, reflecting a shared \"ambition\" between both events.\\n\\n\\n=== Mascots ===\\n\\nOn 14 November 2022, the Phryges were unveiled as the mascots of the 2024 Summer Olympics and Paralympics; they are a pair of anthropomorphic Phrygian caps, a historic French symbol of freedom and liberty. Marianne is commonly depicted wearing the Phrygian cap, including in the Eugène Delacroix painting, Liberty Leading the People. The two mascots share a motto of \"Alone we go faster, but together we go further\".\\n\\n\\n=== Merchandise ===\\nIn April 2024, the official Olympic video game titled Olympics Go! Paris 2024 was announced for release in June by Animoca Brands on Android, iOS, and Microsoft Windows devices. The 2024 Summer Olympics became the first Summer Olympics in over 30 years to not have an official console video game.\\n\\n\\n=== Posters ===\\nThe Olympic poster for these games was revealed on 4 March 2024. Designed by Ugo Gattoni, the poster uses a diptych design, with one half representing the Olympics and the other half representing the Paralympics. For the first time in Summer Games history, the Olympic poster and Paralympic poster were designed together, as each one can work independently as halves, or be combined into one poster all together. The posters took 2,000 hours, across six months to complete.\\n\\n\\n=== Corporate sponsorship ===\\nA TGM Research survey shows that Coca-Cola is globally the most connected brand with the 2024 Olympics, with 23% of people mentioning it. Nike comes in second with 16%, despite not being an official sponsor of the Olympic Games. Belgian beverage company AB InBev became the first Worldwide Olympic Partner during the Games, while Japanese automobile manufacturer Toyota will not renew its sponsorship after 2024, with the company reportedly unhappy with how the IOC has used its sponsorship money.\\nUnder an agreement as \"Premium\" sponsor reportedly valued at €150 million ($163 million), French luxury goods conglomerate LVMH has been involved in aspects of the Games, with its brand Louis Vuitton having provided the trunks used to store the Olympic torch and medals, and the outfits and trays for medal presenters. Former IOC marketing head Michael Payne raised concerns that the prominent use of LVMH goods as part of the Olympics (and in particular, the opening ceremony, which also featured the aforementioned items as props, and performers Aya Nakamura and Lady Gaga wearing Dior haute couture) could cause conflicts with other official sponsors, noting that \"the direction of stylish sponsor product placement may not be wrong but needs exceptionally careful management. LVMH got a massive free global ad last night and other partners are all going to be asking, how did that work?\"\\n\\n\\n== Broadcasting rights ==\\n\\nIn France, domestic rights to the 2024 Summer Olympics are owned by Warner Bros. Discovery (formerly Discovery Inc.) via Eurosport, with free-to-air coverage sublicensed to the country\\'s public broadcaster France Télévisions. WBD networks will broadcast from Hôtel Raphael, with dedicated studios for its British, French, Polish, and Nordic channels. \\nThe official Olympics website offers both live-streaming and recent recordings of the events in selected markets, particularly in Brazil, Russia (due to Russian broadcasters pulling out), and the Indian subcontinent.\\n\\n\\n== Concerns and controversies ==\\n\\n\\n=== Lead-up ===\\nSeveral controversial issues occurred related to the 2024 Summer Olympics, including environmental and security concerns, human rights, terrorism, and controversies over allowing Israel to participate amidst the Israel–Hamas war, and allowing Russian and Belarusian athletes to compete as neutrals amidst the Russian invasion of Ukraine. While there is nominally an Olympic Truce in place as is usual, the Russian invasion of Ukraine and Israel–Hamas war set a more conflicted political background to the 2024 Summer Olympics, before considering domestic and sporting issues.\\n\\n\\n=== Opening ceremony ===\\nThe opening ceremony of the Paris 2024 Olympics sparked significant controversy worldwide, especially among Christians, who incorrectly interpreted a performance representing the feast of Dionysus as mocking Leonardo da Vinci\\'s The Last Supper.\\nThe performance faced criticism for supposedly being disrespectful of peoples’ beliefs. The artistic director of the ceremony, Thomas Jolly, stated that the performance was a reenactment of the painting Le Festin des Dieux by Jan van Bijlert, which depicts various Greek gods partaking in a banquet at Mount Olympus.\\nThe performance, however, also received praise from others for \"celebrating queer visibility and LGBTQ+ inclusivity\", according to American magazine Cosmopolitan. Among those who expressed appreciation for the segment were American actress Jodie Sweetin, as well as Le Filip, a Croatian-French drag queen who won the third season of Drag Race France.\\nThe Olympic World Library would later publish a media guide (written before the ceremony) describing it as being a homage to cultural festivities. According to Georgian fact checking website, Myth Detector, many experts had pointed out the differences between the fresco and the segment.\\n\\n\\n== See also ==\\n\\nDoping suspensions at Paris 2024\\n2024 Summer Paralympics\\n2028 Summer Olympics in Los Angeles\\n2032 Summer Olympics in Brisbane\\nList of LGBT Summer Olympians (2024–present)\\nOther Olympic Games celebrated in France\\n1900 Summer Olympics and 1924 Summer Olympics also held in Paris\\n1924 Winter Olympics – Chamonix\\n1968 Winter Olympics – Grenoble\\n1992 Winter Olympics – Albertville\\n2030 Winter Olympics – French Alps\\nList of IOC country codes\\n\\n\\n== Notes ==\\n\\n\\n== References ==\\n\\n\\n== External links ==\\n\\n\"Paris 2024\". Olympics.com. International Olympic Committee.\\nEuropean Olympic Committees'}]}]\n"
     ]
    }
   ],
   "execution_count": 24
  },
  {
   "metadata": {},
   "cell_type": "markdown",
   "source": "![](https://typora-photo1220.oss-cn-beijing.aliyuncs.com/DataAnalysis/LingYi/20240904171649.png)",
   "id": "ed7fedacdcbd256b"
  },
  {
   "cell_type": "markdown",
   "source": [
    "准备好原材料，就可以请求API来继续处理并生成对原始用户提示的响应。"
   ],
   "metadata": {
    "collapsed": false
   },
   "id": "414e37dda9e09829"
  },
  {
   "metadata": {
    "ExecuteTime": {
     "end_time": "2024-09-04T09:17:54.040445Z",
     "start_time": "2024-09-04T09:17:41.965549Z"
    }
   },
   "cell_type": "code",
   "source": [
    "follow_up_response = client.messages.create(\n",
    "    model=\"claude-3-5-sonnet-20240620\",\n",
    "    messages=messages,\n",
    "    max_tokens=1000,\n",
    "    tools=[article_search_tool]\n",
    ")\n",
    "print(follow_up_response.content[0].text)"
   ],
   "id": "71690990082aba0b",
   "outputs": [
    {
     "name": "stdout",
     "output_type": "stream",
     "text": [
      "根据获取的信息,我可以为您回答关于2024年奥运会的问题:\n",
      "\n",
      "2024年奥运会将在法国巴黎举行。这将是巴黎第三次举办夏季奥运会,此前分别在1900年和1924年举办过。这届奥运会有几个特别之处:\n",
      "\n",
      "1. 开幕式首次在传统体育场外举行。运动员们将乘船沿塞纳河游行,沿途经过巴黎的著名地标。\n",
      "\n",
      "2. 这将是首届在参赛运动员性别比例上实现完全平等的奥运会,男女运动员人数相等。\n",
      "\n",
      "3. 新增了霹雳舞(breaking)作为正式比赛项目。\n",
      "\n",
      "4. 采取了多项环保措施,如奥运村使用地热自然冷却系统而非空调,食品供应增加植物性饮食比例等。\n",
      "\n",
      "5. 安全措施空前严格,多国警察和军队参与安保工作。\n",
      "\n",
      "6. 这是自1984年萨拉热窝冬奥会以来,首次开闭幕式在不同场地举行(开幕式在塞纳河,闭幕式在法兰西体育场)。\n",
      "\n",
      "7. 奥运会标志和吉祥物设计都体现了法国文化元素。\n",
      "\n",
      "这届奥运会将展现巴黎的魅力,同时也面临着诸如安全、环保等方面的挑战。组委会正在努力平衡各方面因素,力求呈现一届精彩、安全、可持续的奥运盛会。\n"
     ]
    }
   ],
   "execution_count": 25
  },
  {
   "metadata": {},
   "cell_type": "markdown",
   "source": "![](https://typora-photo1220.oss-cn-beijing.aliyuncs.com/DataAnalysis/LingYi/20240904171856.png)",
   "id": "87ec405bbf994065"
  },
  {
   "metadata": {},
   "cell_type": "markdown",
   "source": [
    "## tool choice\n",
    "\n",
    "| 类别                                          | 参数名称 | 类型   | 描述                                                                 |\n",
    "|---------------------------------------------|----------|--------|--------------------------------------------------------------------|\n",
    "| **必需参数**                                  |          |        |                                                                    |\n",
    "|                                             | model    | string | 指定要使用的 Claude 模型版本。                                     |\n",
    "|                                             | messages  | array  | 输入对话历史和当前用户输入的消息列表，每个消息包括角色和内容。      |\n",
    "|                                             | max_tokens | integer | 回答停止前的最大令牌数。模型可能会在达到此最大值之前停止。         |\n",
    "| **可选参数**                                  |          |        |                                                                    |\n",
    "| 生成控制                                      | temperature | float | 注入响应的随机性的程度。默认为 1.0，范围从 0.0 到 1.0。           |\n",
    "|                                             | top_k    | integer | 仅从每个后续令牌的前 K 个选项中抽样。用于删除低概率响应的\"长尾\"。   |\n",
    "|                                             | top_p    | float  | 使用核心抽样。在核心抽样中，计算所有选项的累积分布，并在达到特定概率后切断。 |\n",
    "| **系统提示**                                  | **system** | **string** | **系统提示。用于提供上下文和指令。**                                 |\n",
    "| **停止序列**                                  | **stop_sequences** | **array** | **自定义文本序列，会使模型停止生成。如果模型遇到这些序列之一，响应将提前结束。** |\n",
    "| 工具调用                                      | tool_choice | string | 模型如何使用提供的工具。可以选择特定工具、任何可用工具，或由模型自行决定。 |\n",
    "|                                             | tools    | array  | 定义模型可能使用的工具。每个工具定义都包括名称和输入模式。         |\n",
    "| 流式传输参数                                  | stream   | boolean | 是否使用服务器发送事件增量流式传输响应。                           |\n",
    "| 其他参数                                      | metadata | object | 描述请求的元数据。                                                  |\n",
    "|                                             | anthropic-beta | string | 指定你想使用的 beta 版本。多个版本使用逗号分隔，不带空格。         |\n",
    "|                                             | anthropic-version | string | 指定使用的 Anthropic API 的版本。                                  |\n",
    "|                                             | x-api-key | string | 用于认证的独特 API 密钥。通过控制台获取。                           |\n",
    "\n",
    "\n",
    "`tool_choice` 参数用于控制模型如何使用提供的工具。它有三个可能的选项：\n",
    "\n",
    "1. `auto`：允许 Claude 自行决定是否调用任何提供的工具。如果根本不使用 tool_choice 参数，则这是使用工具时的默认行为。\n",
    "\n",
    "2. `tool`：强制 Claude 始终使用特定工具。\n",
    "\n",
    "3. `any`：告诉 Claude 必须使用提供的工具之一，但不强制使用特定工具。\n",
    "\n",
    "使用 `tool_choice` 参数的方法如下：\n",
    "\n",
    "```json\n",
    "tool_choice = {\"type\": \"tool\", \"name\": \"get_weather\"}#这将强制 Claude 使用名为 \"get_weather\" 的工具。\n",
    "tool_choice={\"type\": \"auto\"}\n",
    "tool_choice={\"type\": \"any\"}\n",
    "```\n",
    "\n",
    "\n",
    "使用 `tool_choice` 参数时需要注意以下几点：\n",
    "\n",
    "1. 当 `tool_choice` 设置为 `any` 或 `tool` 时，助手消息会被预填充以强制使用工具。这意味着模型不会在 `tool_use` 内容块之前生成链式思考的 `text` 内容块，即使明确要求这样做。\n",
    "\n",
    "2. 如果您希望保持链式思考（特别是使用 Opus 模型）的同时要求模型使用特定工具，可以将 `tool_choice` 设置为默认值 `{\"type\": \"auto\"}`，并在 `user` 消息中添加明确的指示。例如：\n",
    "\n",
    "```\n",
    "What's the weather like in London? Use the get_weather tool in your response.\n",
    "```\n",
    "\n",
    "3. 使用 `tool_choice` 可以在某些情况下强制 Claude 使用特定工具来回答用户的问题，即使 Claude 认为它可以在不使用工具的情况下提供答案。\n",
    "\n",
    "总的来说，`tool_choice` 参数提供了一种灵活的方式来控制 Claude 如何使用工具。它可以用来确保特定工具的使用，或者让 Claude 在多个工具中自由选择。根据您的具体需求和用例，合理使用这个参数可以优化 Claude 的响应。"
   ],
   "id": "cd85581f04b157c7"
  },
  {
   "metadata": {},
   "cell_type": "markdown",
   "source": "让我们详细看看每个选项。我们首先导入 Anthropic SDK：",
   "id": "27862223fae5b688"
  },
  {
   "metadata": {
    "ExecuteTime": {
     "end_time": "2024-09-03T02:42:41.295786Z",
     "start_time": "2024-09-03T02:42:40.249968Z"
    }
   },
   "cell_type": "code",
   "source": [
    "from anthropic import Anthropic\n",
    "client = Anthropic()"
   ],
   "id": "26918472c37ac338",
   "outputs": [],
   "execution_count": 4
  },
  {
   "metadata": {},
   "cell_type": "markdown",
   "source": [
    "Auto\n",
    "\n",
    "将 tool_choice 设置为 auto 可允许模型自动决定是否使用工具。如果根本不使用 tool_choice 参数，则这是使用工具时的默认行为。\n",
    "\n",
    "让我们从定义一个名为 web_search 的工具开始。请注意，为了简单起见，我们实际上并没有在这里搜索 Web。"
   ],
   "id": "ba7b00dd07c20046"
  },
  {
   "metadata": {
    "ExecuteTime": {
     "end_time": "2024-09-03T02:39:30.202013Z",
     "start_time": "2024-09-03T02:39:30.181014Z"
    }
   },
   "cell_type": "code",
   "source": [
    "def web_search(topic):\n",
    "    print(f\"进入web搜索流程搜索： {topic}\")\n",
    "\n",
    "web_search_tool = {\n",
    "    \"name\": \"web_search\",\n",
    "    \"description\": \"A tool to retrieve up to date information on a given topic by searching the web\",\n",
    "    \"input_schema\": {\n",
    "        \"type\": \"object\",\n",
    "        \"properties\": {\n",
    "            \"topic\": {\n",
    "                \"type\": \"string\",\n",
    "                \"description\": \"The topic to search the web for\"\n",
    "            },\n",
    "        },\n",
    "        \"required\": [\"topic\"]\n",
    "    }\n",
    "}"
   ],
   "id": "74392cceab53ed69",
   "outputs": [],
   "execution_count": 1
  },
  {
   "metadata": {
    "ExecuteTime": {
     "end_time": "2024-09-03T02:43:15.059286Z",
     "start_time": "2024-09-03T02:43:15.046460Z"
    }
   },
   "cell_type": "code",
   "source": [
    "from datetime import date\n",
    "\n",
    "def chat_with_web_search(user_query):\n",
    "    messages = [{\"role\": \"user\", \"content\": user_query}]\n",
    "\n",
    "    system_prompt=f\"\"\"\n",
    "    Answer as many questions as you can using your existing knowledge.  \n",
    "    Only search the web for queries that you can not confidently answer.\n",
    "    Today's date is {date.today().strftime(\"%B %d %Y\")}\n",
    "    If you think a user's question involves something in the future that hasn't happened yet, use the search tool.\n",
    "    \"\"\"\n",
    "    system_prompt=f\"\"\"用你现有的知识尽可能多地回答问题。\n",
    "        只有在你无法自信地回答时，才进行网络搜索。\n",
    "        今天的日期是 {date.today().strftime(\"%Y年%m月%d日\")}\n",
    "        如果你认为用户的问题涉及尚未发生的未来事件，请使用搜索工具。\n",
    "    \"\"\"\n",
    "    response = client.messages.create(\n",
    "        system=system_prompt,\n",
    "        model=\"claude-3-sonnet-20240229\",\n",
    "        messages=messages,\n",
    "        max_tokens=1000,\n",
    "        tool_choice={\"type\": \"auto\"},\n",
    "        tools=[web_search_tool]\n",
    "    )\n",
    "    \n",
    "    last_content_block = response.content[-1]\n",
    "    if last_content_block.type == \"text\":\n",
    "        print(\"Claude 没有调用工具\")\n",
    "        print(f\"Claude: {last_content_block.text}\")\n",
    "    elif last_content_block.type == \"tool_use\":\n",
    "        print(\"Claude 想要调用工具\")\n",
    "        print(last_content_block)\n",
    "        \n",
    "    print(\"Claude 的响应\")\n",
    "    print(response)"
   ],
   "id": "491456d11b6a35a7",
   "outputs": [],
   "execution_count": 6
  },
  {
   "metadata": {
    "ExecuteTime": {
     "end_time": "2024-09-03T02:43:26.620973Z",
     "start_time": "2024-09-03T02:43:18.359712Z"
    }
   },
   "cell_type": "code",
   "source": "chat_with_web_search(\"天空是什么颜色的\")",
   "id": "f2b1e08dfdb5245b",
   "outputs": [
    {
     "name": "stdout",
     "output_type": "stream",
     "text": [
      "Claude 没有调用工具\n",
      "Claude: 天空的颜色主要由太阳光线与大气层中的气体分子相互作用所致。\n",
      "\n",
      "白天,当阳光穿过大气层时,短波长的蓝色和紫外线光被较多地分散和吸收,而长波长的红光和其他可见光则较少被影响。因此,我们看到的天空呈现出蓝色。\n",
      "\n",
      "在日出和日落时分,由于阳光通过更长的路径穿过大气层,更多的蓝色被过滤掉,而橙红色成分占据主导,因此天空会呈现出绚丽的红色或橙色。\n",
      "\n",
      "此外,云、污染物、灰尘等也会影响天空的色彩。总的来说,天空的颜色是由光与大气成分相互作用的lumin物理现象造成的。这是自然界一种常见而独特的光学奇观。\n"
     ]
    }
   ],
   "execution_count": 7
  },
  {
   "metadata": {
    "ExecuteTime": {
     "end_time": "2024-09-03T02:44:03.734948Z",
     "start_time": "2024-09-03T02:43:55.445278Z"
    }
   },
   "cell_type": "code",
   "source": "chat_with_web_search(\"天空为什么是蓝色的\")",
   "id": "5da2ea487c0146f",
   "outputs": [
    {
     "name": "stdout",
     "output_type": "stream",
     "text": [
      "Claude 没有调用工具\n",
      "Claude: 天空呈现蓝色的主要原因是由于日光经过大气层时发生的瑞利散射造成的。具体来说:\n",
      "\n",
      "1. 阳光是由各种波长的电磁波组成的,其中可见光波长范围对人眼可见。\n",
      "\n",
      "2. 当阳光射入大气层时,光线会与大气分子(主要是氮和氧)发生相互作用。\n",
      "\n",
      "3. 瑞利散射理论指出,较短波长的蓝紫光比较长波长的红橙光更容易被大气分子散射。\n",
      "\n",
      "4. 因此,来自太阳的蓝紫光会被大气层中的气体分子优先散射开来,使天空呈现出蓝色的颜色。\n",
      "\n",
      "5. 而较长波长的红橙光则较少被散射,可以直接到达我们的眼睛,所以我们看到的日出日落时分呈现红橙色。\n",
      "\n",
      "6. 白天,我们所看到的天空蓝色是大量散射的短波蓝光反射到眼睛的结果。\n",
      "\n",
      "总的来说,天空蓝色是日光在大气层中发生选择性瑞利散射的自然现象,涉及到光的波长、大气组分和物理学规律等多方面的原因。\n"
     ]
    }
   ],
   "execution_count": 8
  },
  {
   "metadata": {
    "ExecuteTime": {
     "end_time": "2024-09-03T02:45:06.411533Z",
     "start_time": "2024-09-03T02:45:02.827272Z"
    }
   },
   "cell_type": "code",
   "source": "chat_with_web_search(\"今天有什么值得关注的新闻\")",
   "id": "e0694ad6a41fbc38",
   "outputs": [
    {
     "name": "stdout",
     "output_type": "stream",
     "text": [
      "Claude 想要调用工具\n",
      "ToolUseBlock(id='toolu_012wxcSADxT51T1fcoFU3L88', input={'topic': '今天的新闻头条'}, name='web_search', type='tool_use')\n"
     ]
    }
   ],
   "execution_count": 9
  },
  {
   "metadata": {
    "ExecuteTime": {
     "end_time": "2024-09-03T02:54:55.484883Z",
     "start_time": "2024-09-03T02:54:52.111738Z"
    }
   },
   "cell_type": "code",
   "source": "chat_with_web_search(\"巴黎奥运会的奖牌情况\")",
   "id": "b8c7ef24cee41f2c",
   "outputs": [
    {
     "name": "stdout",
     "output_type": "stream",
     "text": [
      "Claude 想要调用工具\n",
      "ToolUseBlock(id='toolu_011ez9u69cdSEe22XmjqVF13', input={'topic': '2024 paris olympics medal predictions'}, name='web_search', type='tool_use')\n"
     ]
    }
   ],
   "execution_count": 10
  },
  {
   "metadata": {
    "ExecuteTime": {
     "end_time": "2024-09-03T02:59:21.716074Z",
     "start_time": "2024-09-03T02:59:14.197456Z"
    }
   },
   "cell_type": "code",
   "source": "chat_with_web_search(\"2020年奥运会的奖牌情况\")",
   "id": "36a380bfc72ee7b8",
   "outputs": [
    {
     "name": "stdout",
     "output_type": "stream",
     "text": [
      "Claude 没有调用工具\n",
      "Claude: 2020年东京奥运会是一个非常成功和令人难忘的体育盛事。让我概括一下主要奖牌情况:\n",
      "\n",
      "金牌总数最多的前三名国家/地区是:\n",
      "\n",
      "1. 美国 - 113金\n",
      "2. 中国 - 88金 \n",
      "3. 日本 - 58金\n",
      "\n",
      "中国在本届奥运会上共获得88枚金牌,38枚银牌和53枚铜牌,奖牌总数为179枚,位列奖牌种类榜第二位。\n",
      "\n",
      "在奥运会上,中国军团在羽毛球、射击、跆拳道、艺术体操、蹦床等项目上表现出色,包揽多枚金牌。\n",
      "\n",
      "值得一提的是,中国选手在女子全能操夺冠,在体操项目上延续了好成绩。总的来说,虽然金牌总数略少于上届里约奥运会,但中国代表团的整体表现依然处于世界前列。\n",
      "\n",
      "我概括了一些关于2020年东京奥运会中国奖牌情况的主要信息。如果你还有其他问题,欢迎继续询问。\n"
     ]
    }
   ],
   "execution_count": 16
  },
  {
   "metadata": {},
   "cell_type": "markdown",
   "source": [
    "强制 Claude 始终使用特定工具-tool\n",
    "\n",
    "1. `auto`：允许 Claude 自行决定是否调用任何提供的工具。如果根本不使用 tool_choice 参数，则这是使用工具时的默认行为。\n",
    "\n",
    "2. `tool`：强制 Claude 始终使用特定工具。\n",
    "\n",
    "3. `any`：告诉 Claude 必须使用提供的工具之一，但不强制使用特定工具。"
   ],
   "id": "3f80a7bcfb0560c8"
  },
  {
   "cell_type": "markdown",
   "source": [
    "【实战】文本情感分析的JSON格式输出"
   ],
   "metadata": {
    "collapsed": false
   },
   "id": "83348f5772d8e56c"
  },
  {
   "metadata": {},
   "cell_type": "markdown",
   "source": [
    "如今，大多数人每天都在网上发布或阅读意见。其中包括对产品或品牌的大量意见，因此跟踪有关其业务的评论，关注社交媒体上的情绪也是一个巨大的需求。\n",
    "\n",
    "在我的工具箱里有两个工具，分别是给情感分数打分的工具函数（目标工具）和计算器（扰乱工具）。\n",
    "\n",
    "现在的需求是使用 Claude 对给定文本执行情绪分析，并以结构化 JSON 格式返回情绪分数。\n",
    "\n",
    "目标如：\n",
    "```json\n",
    "  {\n",
    "  \"positive_score\": 0.8,\n",
    "  \"negative_score\": 0.0,\n",
    "  \"neutral_score\": 0.2\n",
    "}\n",
    "```\n",
    "\n",
    "此处涉及两个知识点，一个就是强制使用‘tool’，另一个是当需要以结构化 JSON 格式返回时除了prompt提示“请用json格式返回”，或者预填写Claude的回答\n",
    "\n"
   ],
   "id": "ad0ba6f358b9899f"
  },
  {
   "metadata": {},
   "cell_type": "markdown",
   "source": "老办法，用prompt限制：",
   "id": "d5c50c69d5c62f54"
  },
  {
   "metadata": {
    "ExecuteTime": {
     "end_time": "2024-09-04T09:32:01.714878Z",
     "start_time": "2024-09-04T09:32:01.701878Z"
    }
   },
   "cell_type": "code",
   "source": [
    "def analyze_tweet_sentiment_prompt(query):\n",
    "    response = client.messages.create(\n",
    "        model=\"claude-3-haiku-20240307\",\n",
    "        system=\n",
    "            \"\"\"\n",
    "                分析以下文本的情感并返回一个包含情感分数的 JSON 格式对象。\n",
    "                该对象应包含以下三个键：\n",
    "                - \"positive_score\" (float): 正面情感分数，范围从 0.0 到 1.0。\n",
    "                - \"negative_score\" (float): 负面情感分数，范围从 0.0 到 1.0。\n",
    "                - \"neutral_score\" (float): 中性情感分数，范围从 0.0 到 1.0。\n",
    "                示例：\n",
    "                {\n",
    "                  \"positive_score\": 0.3,\n",
    "                  \"negative_score\": 0.1,\n",
    "                  \"neutral_score\": 0.6\n",
    "                }\n",
    "            \"\"\",\n",
    "    \n",
    "        max_tokens=500,\n",
    "        messages=[{\"role\": \"user\", \"content\": query}],\n",
    "    )\n",
    "    print(response.content[0].text)"
   ],
   "id": "5cf5e6b84a894151",
   "outputs": [],
   "execution_count": 26
  },
  {
   "metadata": {
    "ExecuteTime": {
     "end_time": "2024-09-04T09:32:05.416843Z",
     "start_time": "2024-09-04T09:32:03.145811Z"
    }
   },
   "cell_type": "code",
   "source": "analyze_tweet_sentiment_prompt(\"我喜欢我的猫，我已经有了1只，现在还想养一只，我会有几只猫?\")",
   "id": "eae47fb07d798317",
   "outputs": [
    {
     "name": "stdout",
     "output_type": "stream",
     "text": [
      "对于您的文本分析,结果如下:\n",
      "\n",
      "{\n",
      "  \"positive_score\": 0.8,\n",
      "  \"negative_score\": 0.0,\n",
      "  \"neutral_score\": 0.2\n",
      "}\n",
      "\n",
      "这表示您的文本中包含较多的积极情感(喜欢猫),没有负面情感,中性情感占比较低。这反映了您对于养猫的积极态度和计划。\n",
      "\n",
      "根据您的陈述,如果您现在已有1只猫,并打算再养1只,那么您最终将会拥有2只猫。所以您现在的猫只数是1只,未来将变成2只。\n"
     ]
    }
   ],
   "execution_count": 27
  },
  {
   "metadata": {},
   "cell_type": "markdown",
   "source": "用预填写Claude的回应优化：",
   "id": "a876382c72618ab8"
  },
  {
   "metadata": {
    "ExecuteTime": {
     "end_time": "2024-09-03T06:53:31.842249Z",
     "start_time": "2024-09-03T06:53:31.829247Z"
    }
   },
   "cell_type": "code",
   "source": [
    "def analyze_tweet_sentiment_prompt(query):\n",
    "    response = client.messages.create(\n",
    "        model=\"claude-3-haiku-20240307\",\n",
    "        system=\n",
    "            \"\"\"\n",
    "                分析以下文本的情感并返回一个包含情感分数的 JSON 格式对象。\n",
    "                该对象应包含以下三个键：\n",
    "                - \"positive_score\" (float): 正面情感分数，范围从 0.0 到 1.0。\n",
    "                - \"negative_score\" (float): 负面情感分数，范围从 0.0 到 1.0。\n",
    "                - \"neutral_score\" (float): 中性情感分数，范围从 0.0 到 1.0。\n",
    "                示例：\n",
    "                {\n",
    "                  \"positive_score\": 0.3,\n",
    "                  \"negative_score\": 0.1,\n",
    "                  \"neutral_score\": 0.6\n",
    "                }\n",
    "            \"\"\",\n",
    "    \n",
    "        max_tokens=500,\n",
    "        messages=[{\"role\": \"user\", \"content\": query},{\"role\": \"assistant\", \"content\": \"{\"}],\n",
    "    )\n",
    "    print(response.content[0].text)\n",
    "    \n"
   ],
   "id": "2adb1eda3d94fda7",
   "outputs": [],
   "execution_count": 27
  },
  {
   "metadata": {
    "ExecuteTime": {
     "end_time": "2024-09-03T06:53:39.068407Z",
     "start_time": "2024-09-03T06:53:36.036154Z"
    }
   },
   "cell_type": "code",
   "source": "analyze_tweet_sentiment_prompt(\"我喜欢我的猫，我已经有了1只，现在还想养一只，我会有几只猫?\")",
   "id": "48a1807bec64366b",
   "outputs": [
    {
     "name": "stdout",
     "output_type": "stream",
     "text": [
      "\n",
      "  \"positive_score\": 0.7,\n",
      "  \"negative_score\": 0.0,\n",
      "  \"neutral_score\": 0.3\n",
      "}\n",
      "\n",
      "这个回答表示:\n",
      "- 正面情感分数较高(0.7),表示你对于养猫这件事感到正面和积极。\n",
      "- 负面情感分数很低(0.0),说明你没有什么负面情绪。\n",
      "- 中性情感分数较低(0.3),表示你对此事还没有完全确定和确切的感觉。\n",
      "\n",
      "总的来说,你对于养猫这件事持有积极正面的态度,但可能还需要一些时间来完全确定和决定。你目前有1只猫,想再养一只,所以如果你真的再养1只,你最终会拥有2只猫。\n"
     ]
    }
   ],
   "execution_count": 28
  },
  {
   "cell_type": "markdown",
   "source": "继续利用以往学习的知识进行优化，添加stop_sequences：",
   "metadata": {
    "collapsed": false
   },
   "id": "17adbfb3346b9fc7"
  },
  {
   "metadata": {
    "ExecuteTime": {
     "end_time": "2024-09-03T06:55:23.386324Z",
     "start_time": "2024-09-03T06:55:23.369325Z"
    }
   },
   "cell_type": "code",
   "source": [
    "def analyze_tweet_sentiment_prompt(query):\n",
    "    response = client.messages.create(\n",
    "        model=\"claude-3-haiku-20240307\",\n",
    "        system=\n",
    "            \"\"\"\n",
    "                分析以下文本的情感并返回一个包含情感分数的 JSON 格式对象，只返回JSON对象就可以。\n",
    "                该对象应包含以下三个键：\n",
    "                - \"positive_score\" (float): 正面情感分数，范围从 0.0 到 1.0。\n",
    "                - \"negative_score\" (float): 负面情感分数，范围从 0.0 到 1.0。\n",
    "                - \"neutral_score\" (float): 中性情感分数，范围从 0.0 到 1.0。\n",
    "                示例：\n",
    "                {\n",
    "                  \"positive_score\": 0.3,\n",
    "                  \"negative_score\": 0.1,\n",
    "                  \"neutral_score\": 0.6\n",
    "                }\n",
    "            \"\"\",\n",
    "    \n",
    "        max_tokens=100,\n",
    "        messages=[{\"role\": \"user\", \"content\": query},{\"role\": \"assistant\", \"content\": \"{\"}],\n",
    "        stop_sequences=[\"}\"]\n",
    "    )\n",
    "    print(response.content[0].text)"
   ],
   "id": "3421971d4fce053c",
   "outputs": [],
   "execution_count": 29
  },
  {
   "metadata": {
    "ExecuteTime": {
     "end_time": "2024-09-03T06:55:27.474326Z",
     "start_time": "2024-09-03T06:55:25.842797Z"
    }
   },
   "cell_type": "code",
   "source": "analyze_tweet_sentiment_prompt(\"我喜欢我的猫，我已经有了1只，现在还想养一只，我会有几只猫?\")",
   "id": "a414ebdc5dc42343",
   "outputs": [
    {
     "name": "stdout",
     "output_type": "stream",
     "text": [
      "\n",
      "  \"positive_score\": 0.8,\n",
      "  \"negative_score\": 0.0,\n",
      "  \"neutral_score\": 0.2\n",
      "}\n"
     ]
    }
   ],
   "execution_count": 30
  },
  {
   "cell_type": "markdown",
   "source": [
    "开始用本节课学的知识完成它！\n",
    "\n",
    "通过函数调用来达到得到大模型返回Json格式的效果，重点是大模型会以规范的格式输出入参。\n",
    "\n",
    "并为了展现tool_choice参数中tool的用法，我们在工具箱中添加一个扰乱函数。"
   ],
   "metadata": {
    "collapsed": false
   },
   "id": "db8adc75b8f7d6a4"
  },
  {
   "metadata": {
    "ExecuteTime": {
     "end_time": "2024-09-04T09:35:16.834428Z",
     "start_time": "2024-09-04T09:35:16.822428Z"
    }
   },
   "cell_type": "code",
   "source": [
    "tools = [\n",
    "    # 打印情感分数的函数。\n",
    "    # 参数:\n",
    "    # - positive_score (float): 正面情感分数，范围从 0.0 到 1.0。\n",
    "    # - negative_score (float): 负面情感分数，范围从 0.0 到 1.0。\n",
    "    # - neutral_score (float): 中性情感分数，范围从 0.0 到 1.0。\n",
    "    {\n",
    "        \"name\": \"print_sentiment_scores\",\n",
    "        \"description\": \"Prints the sentiment scores of a given tweet or piece of text.\",\n",
    "        \"input_schema\": {\n",
    "            \"type\": \"object\",\n",
    "            \"properties\": {\n",
    "                \"positive_score\": {\"type\": \"number\", \"description\": \"The positive sentiment score, ranging from 0.0 to 1.0.\"},\n",
    "                \"negative_score\": {\"type\": \"number\", \"description\": \"The negative sentiment score, ranging from 0.0 to 1.0.\"},\n",
    "                \"neutral_score\": {\"type\": \"number\", \"description\": \"The neutral sentiment score, ranging from 0.0 to 1.0.\"}\n",
    "            },\n",
    "            \"required\": [\"positive_score\", \"negative_score\", \"neutral_score\"]\n",
    "        }\n",
    "    },\n",
    "    {\n",
    "        \"name\": \"calculator\",\n",
    "        \"description\": \"Adds two number\",\n",
    "        \"input_schema\": {\n",
    "            \"type\": \"object\",\n",
    "            \"properties\": {\n",
    "                \"num1\": {\"type\": \"number\", \"description\": \"first number to add\"},\n",
    "                \"num2\": {\"type\": \"number\", \"description\": \"second number to add\"},\n",
    "            },\n",
    "            \"required\": [\"num1\", \"num2\"]\n",
    "        }\n",
    "    }\n",
    "]"
   ],
   "id": "715e2c0d021a0eba",
   "outputs": [],
   "execution_count": 30
  },
  {
   "cell_type": "markdown",
   "source": "\"反面例子\"——原本的结果：",
   "metadata": {
    "collapsed": false
   },
   "id": "5110137a0c96ce4b"
  },
  {
   "metadata": {
    "ExecuteTime": {
     "end_time": "2024-09-03T03:24:45.960828Z",
     "start_time": "2024-09-03T03:24:45.948828Z"
    }
   },
   "cell_type": "code",
   "source": [
    "def analyze_tweet_sentiment(query):\n",
    "    response = client.messages.create(\n",
    "        model=\"claude-3-sonnet-20240229\",\n",
    "        max_tokens=4096,\n",
    "        tools=tools,\n",
    "        tool_choice={\"type\": \"auto\"},\n",
    "        messages=[{\"role\": \"user\", \"content\": query}]\n",
    "    )\n",
    "    print(response)"
   ],
   "id": "a7ab04662749ffab",
   "outputs": [],
   "execution_count": 18
  },
  {
   "metadata": {
    "ExecuteTime": {
     "end_time": "2024-09-03T03:24:51.056166Z",
     "start_time": "2024-09-03T03:24:48.403547Z"
    }
   },
   "cell_type": "code",
   "source": "analyze_tweet_sentiment(\"我喜欢我的猫，我已经有了1只，现在还想养一只，我会有几只猫?\")",
   "id": "eea511d2dad3a6aa",
   "outputs": [
    {
     "name": "stdout",
     "output_type": "stream",
     "text": [
      "Message(id='msg_01CJ3cbo72vpjfk6UhhD91gQ', content=[TextBlock(text='好的,让我们使用计算器工具来算一下:', type='text'), ToolUseBlock(id='toolu_01N9yJt9vJAHZxYDYwmUbyZu', input={'num1': 1, 'num2': 1}, name='calculator', type='tool_use')], model='claude-3-sonnet-20240229', role='assistant', stop_reason='tool_use', stop_sequence=None, type='message', usage=Usage(input_tokens=454, output_tokens=90))\n"
     ]
    }
   ],
   "execution_count": 19
  },
  {
   "cell_type": "markdown",
   "source": [
    "改变tool_choice"
   ],
   "metadata": {
    "collapsed": false
   },
   "id": "2e1ac4641d138215"
  },
  {
   "metadata": {},
   "cell_type": "code",
   "outputs": [],
   "execution_count": null,
   "source": [
    "tool_choice={\"type\": \"auto\"}\n",
    "tool_choice={\"type\": \"tool\", \"name\": \"print_sentiment_scores\"}"
   ],
   "id": "e37fd5ae3c972087"
  },
  {
   "metadata": {
    "ExecuteTime": {
     "end_time": "2024-09-04T09:35:21.461905Z",
     "start_time": "2024-09-04T09:35:21.448905Z"
    }
   },
   "cell_type": "code",
   "source": [
    "import json\n",
    "def analyze_tweet_sentiment(query):\n",
    "    response = client.messages.create(\n",
    "        model=\"claude-3-sonnet-20240229\",\n",
    "        max_tokens=4096,\n",
    "        tools=tools,\n",
    "        tool_choice={\"type\": \"tool\", \"name\": \"print_sentiment_scores\"},\n",
    "        messages=[{\"role\": \"user\", \"content\": query}]\n",
    "    )\n",
    "    print(response)\n",
    "    json_sentiment = None\n",
    "    for content in response.content:\n",
    "        if content.type == \"tool_use\" and content.name == \"print_sentiment_scores\":\n",
    "            json_sentiment = content.input\n",
    "            break\n",
    "    \n",
    "    if json_sentiment:\n",
    "        print(\"情感分析 (JSON):\")\n",
    "        print(json.dumps(json_sentiment, indent=2))"
   ],
   "id": "64afc2fa7b5e858b",
   "outputs": [],
   "execution_count": 31
  },
  {
   "metadata": {
    "ExecuteTime": {
     "end_time": "2024-09-04T09:35:26.192801Z",
     "start_time": "2024-09-04T09:35:23.627783Z"
    }
   },
   "cell_type": "code",
   "source": "analyze_tweet_sentiment(\"我喜欢我的猫，我已经有了1只，现在还想养一只，我会有几只猫?\")",
   "id": "c05185ac04bbbee7",
   "outputs": [
    {
     "name": "stdout",
     "output_type": "stream",
     "text": [
      "Message(id='msg_01NtQ9knRCYX4Esr5yC5r3AM', content=[ToolUseBlock(id='toolu_01SrfSEzF78kDfKBTmzZKy7A', input={'positive_score': 0.2, 'negative_score': 0.1, 'neutral_score': 0.7}, name='print_sentiment_scores', type='tool_use')], model='claude-3-sonnet-20240229', role='assistant', stop_reason='tool_use', stop_sequence=None, type='message', usage=Usage(input_tokens=551, output_tokens=79))\n",
      "情感分析 (JSON):\n",
      "{\n",
      "  \"positive_score\": 0.2,\n",
      "  \"negative_score\": 0.1,\n",
      "  \"neutral_score\": 0.7\n",
      "}\n"
     ]
    }
   ],
   "execution_count": 32
  },
  {
   "cell_type": "markdown",
   "source": [
    "any\n",
    "\n",
    "\"any\"是告诉Claude它必须使用提供的工具之一，但不强制使用特定的工具。当tool_choice设置为\"any\"和\"tools\"时，Claude会被预先填充助手消息以强制使用工具。这意味着模型不会在tool_use内容块之前输出链式思考（chain-of-thought）的text内容块，即使被明确要求这样做。\n",
    "\n",
    "其实这是因为在使用对于tool_choice中的\"tool\"选项和\"any\"选项时，系统会自动包含一个特殊的系统提示来启用工具使用。不同模型的token数量略有不同。例如：\n",
    "Claude 3.5 Sonnet: 261 tokens\n",
    "Claude 3 Opus: 281 tokens\n",
    "Claude 3 Sonnet: 235 tokens\n",
    "Claude 3 Haiku: 340 tokens 2\n",
    "\n",
    "如果在构建agent等应用时希望在请求使用特定工具的同时保持链式思考（特别是对于Opus模型），您可以使用tool_choice的默认值{\"type\": \"auto\"}"
   ],
   "metadata": {
    "collapsed": false
   },
   "id": "5446e44f0f53188a"
  },
  {
   "metadata": {
    "ExecuteTime": {
     "end_time": "2024-09-04T09:42:29.780926Z",
     "start_time": "2024-09-04T09:42:29.774202Z"
    }
   },
   "cell_type": "code",
   "source": [
    "def analyze_tweet_sentiment(query):\n",
    "    response = client.messages.create(\n",
    "        model=\"claude-3-sonnet-20240229\",\n",
    "        max_tokens=4096,\n",
    "        tools=tools,\n",
    "        # tool_choice=\"auto\" 这种写法是不对的\n",
    "        tool_choice={\"type\": \"auto\"},\n",
    "        messages=[{\"role\": \"user\", \"content\": query}]\n",
    "    )\n",
    "    print(response)\n",
    "    json_sentiment = None\n",
    "    for content in response.content:\n",
    "        if content.type == \"tool_use\" and content.name == \"print_sentiment_scores\":\n",
    "            json_sentiment = content.input\n",
    "            break\n",
    "    \n",
    "    if json_sentiment:\n",
    "        print(\"情感分析 (JSON):\")\n",
    "        print(json.dumps(json_sentiment, indent=2))"
   ],
   "id": "186f0187f0130e6e",
   "outputs": [],
   "execution_count": 37
  },
  {
   "metadata": {
    "ExecuteTime": {
     "end_time": "2024-09-04T09:42:33.982276Z",
     "start_time": "2024-09-04T09:42:31.122848Z"
    }
   },
   "cell_type": "code",
   "source": "analyze_tweet_sentiment(\"我喜欢我的猫，我已经有了1只，现在还想养一只，我会有几只猫?\")",
   "id": "38dc6d1f3aad42d2",
   "outputs": [
    {
     "name": "stdout",
     "output_type": "stream",
     "text": [
      "Message(id='msg_01Fs2KSccw3955rez5YvJfWQ', content=[TextBlock(text='这是一个简单的加法问题。让我们使用\"calculator\"工具来计算:', type='text'), ToolUseBlock(id='toolu_011eomQ5PgZ2eHG7PYP5rJZf', input={'num1': 1, 'num2': 1}, name='calculator', type='tool_use')], model='claude-3-sonnet-20240229', role='assistant', stop_reason='tool_use', stop_sequence=None, type='message', usage=Usage(input_tokens=453, output_tokens=98))\n"
     ]
    }
   ],
   "execution_count": 38
  },
  {
   "metadata": {
    "ExecuteTime": {
     "end_time": "2024-09-04T09:43:53.423149Z",
     "start_time": "2024-09-04T09:43:53.405915Z"
    }
   },
   "cell_type": "code",
   "source": [
    "def analyze_tweet_sentiment(query):\n",
    "    response = client.messages.create(\n",
    "        model=\"claude-3-sonnet-20240229\",\n",
    "        system=\"要有思维链的过程，先思考并返回思考结果，再调用工具\",\n",
    "        max_tokens=4096,\n",
    "        tools=tools,\n",
    "        # tool_choice=\"any\" 这种写法是不对的\n",
    "        tool_choice={\"type\": \"any\"},\n",
    "        messages=[{\"role\": \"user\", \"content\": query}]\n",
    "    )\n",
    "    print(response)\n",
    "    json_sentiment = None\n",
    "    for content in response.content:\n",
    "        if content.type == \"tool_use\" and content.name == \"print_sentiment_scores\":\n",
    "            json_sentiment = content.input\n",
    "            break\n",
    "    \n",
    "    if json_sentiment:\n",
    "        print(\"情感分析 (JSON):\")\n",
    "        print(json.dumps(json_sentiment, indent=2))"
   ],
   "id": "81eff007993b80bf",
   "outputs": [],
   "execution_count": 39
  },
  {
   "metadata": {
    "ExecuteTime": {
     "end_time": "2024-09-04T09:43:56.900289Z",
     "start_time": "2024-09-04T09:43:54.886520Z"
    }
   },
   "cell_type": "code",
   "source": "analyze_tweet_sentiment(\"我喜欢我的猫，我已经有了1只，现在还想养一只，我会有几只猫?\")",
   "id": "11fb2ec24517e53a",
   "outputs": [
    {
     "name": "stdout",
     "output_type": "stream",
     "text": [
      "Message(id='msg_01MPNjVovA4oRJu95YwppB7Y', content=[ToolUseBlock(id='toolu_012jQw4EDeMSLpBWxA1haJ98', input={'num1': 1, 'num2': 1}, name='calculator', type='tool_use')], model='claude-3-sonnet-20240229', role='assistant', stop_reason='tool_use', stop_sequence=None, type='message', usage=Usage(input_tokens=570, output_tokens=55))\n"
     ]
    }
   ],
   "execution_count": 40
  },
  {
   "cell_type": "markdown",
   "source": [
    "\n",
    "\n",
    "### 【实战】构建模拟处理客户关系管理(CRM)和订单管理系统聊天机器人\n",
    "\n",
    "构建一个智能化的企业管理助手,集成了客户信息管理和订单跟踪功能。\n",
    "\n",
    "1. 快速检索客户信息:包括姓名、邮箱、电话等关键联系方式（根据模拟的数据库信息而定）。\n",
    "\n",
    "2. 实时查询订单状态:能够即时获取订单的处理进度、产品详情、数量和价格等信息（根据模拟的数据库信息而定）。\n",
    "\n",
    "3. 智能对话交互:通过自然语言处理,理解用户查询意图,提供精准的信息反馈。\n",
    "\n",
    "4. 信息整合与展示:将分散的数据整合,以清晰、结构化的方式呈现给用户。\n",
    "\n",
    "5. 主动信息补充:在回答用户主要问题的同时,还会提供相关的额外信息,增加信息的完整性。\n",
    "\n",
    "6. 持续服务承诺:始终保持开放态度,鼓励用户进行更深入的询问。\n",
    "\n",
    "加入我们不做路演，那么学习它一是体验工具箱有多个工具来完成连续的调用了工具函数的对话"
   ],
   "metadata": {
    "collapsed": false
   },
   "id": "c087d8a373a2fc24"
  },
  {
   "metadata": {},
   "cell_type": "markdown",
   "source": "第 1 步：设置环境",
   "id": "7ba7626de028d565"
  },
  {
   "metadata": {
    "ExecuteTime": {
     "end_time": "2024-09-04T08:40:18.257031Z",
     "start_time": "2024-09-04T08:40:17.038726Z"
    }
   },
   "cell_type": "code",
   "source": [
    "import anthropic\n",
    "\n",
    "client = anthropic.Client()\n",
    "MODEL_NAME=\"claude-3-5-sonnet-20240620\""
   ],
   "id": "da18d0908c55ded5",
   "outputs": [],
   "execution_count": 1
  },
  {
   "metadata": {},
   "cell_type": "markdown",
   "source": [
    "第 2 步：定义客户端工具函数说明JSON集\n",
    "\n",
    "接下来，我们将定义聊天机器人将用于帮助客户的客户端工具。我们将创建三个工具：get_customer_info、get_order_details 和 cancel_order。"
   ],
   "id": "d1c2917e79654afb"
  },
  {
   "metadata": {
    "ExecuteTime": {
     "end_time": "2024-09-04T12:40:03.840794Z",
     "start_time": "2024-09-04T12:40:03.830793Z"
    }
   },
   "cell_type": "code",
   "source": [
    "tools = [\n",
    "    {\n",
    "        \"name\": \"get_customer_info\",\n",
    "        \"description\": \"根据客户ID获取客户信息。返回客户的姓名、电子邮件和电话号码。\",\n",
    "        \"input_schema\": {\n",
    "            \"type\": \"object\",\n",
    "            \"properties\": {\n",
    "                \"customer_id\": {\n",
    "                    \"type\": \"string\",\n",
    "                    \"description\": \"客户的唯一标识符。\"\n",
    "                }\n",
    "            },\n",
    "            \"required\": [\"customer_id\"]\n",
    "        }\n",
    "    },\n",
    "    {\n",
    "        \"name\": \"get_order_details\",\n",
    "        \"description\": \"根据订单ID获取特定订单的详细信息。返回订单ID、产品名称、数量、价格和订单状态。\",\n",
    "        \"input_schema\": {\n",
    "            \"type\": \"object\",\n",
    "            \"properties\": {\n",
    "                \"order_id\": {\n",
    "                    \"type\": \"string\",\n",
    "                    \"description\": \"订单的唯一标识符。\"\n",
    "                }\n",
    "            },\n",
    "            \"required\": [\"order_id\"]\n",
    "        }\n",
    "    },\n",
    "    {\n",
    "        \"name\": \"cancel_order\",\n",
    "        \"description\": \"根据提供的订单ID取消订单。如果取消成功，返回确认消息。\",\n",
    "        \"input_schema\": {\n",
    "            \"type\": \"object\",\n",
    "            \"properties\": {\n",
    "                \"order_id\": {\n",
    "                    \"type\": \"string\",\n",
    "                    \"description\": \"要取消的订单的唯一标识符。\"\n",
    "                }\n",
    "            },\n",
    "            \"required\": [\"order_id\"]\n",
    "        }\n",
    "    }\n",
    "]"
   ],
   "id": "21b3173995b5bafd",
   "outputs": [],
   "execution_count": 45
  },
  {
   "metadata": {},
   "cell_type": "markdown",
   "source": "第 3 步：模拟工具响应：由于我们没有真实的客户数据或订单信息，因此我们将为我们的工具模拟合成响应。在实际场景中，这些功能将与我们的实际客户数据库和订单管理系统进行交互。",
   "id": "8bdd1db77651857b"
  },
  {
   "metadata": {
    "ExecuteTime": {
     "end_time": "2024-09-04T08:41:55.036624Z",
     "start_time": "2024-09-04T08:41:55.019626Z"
    }
   },
   "cell_type": "code",
   "source": [
    "def get_customer_info(customer_id):\n",
    "    # 模拟的客户数据\n",
    "    customers = {\n",
    "        \"C1\": {\"name\": \"马冬梅\", \"email\": \"dongmei@example.com\", \"phone\": \"123-456-7890\"},\n",
    "        \"C2\": {\"name\": \"小帅\", \"email\": \"shuai@example.com\", \"phone\": \"987-654-3210\"}\n",
    "    }\n",
    "    return customers.get(customer_id, \"客户未找到\")  \n",
    "\n",
    "def get_order_details(order_id):\n",
    "    # 模拟的订单数据\n",
    "    orders = {\n",
    "        \"O1\": {\"id\": \"O1\", \"product\": \"苹果6\", \"quantity\": 2, \"price\": 19.99, \"status\": \"已发货\"},\n",
    "        \"O2\": {\"id\": \"O2\", \"product\": \"苹果6 Plus\", \"quantity\": 1, \"price\": 49.99, \"status\": \"处理中\"}\n",
    "    }\n",
    "    return orders.get(order_id, \"订单未找到\")  \n",
    "\n",
    "def cancel_order(order_id):\n",
    "    # 模拟的订单取消\n",
    "    if order_id in [\"O1\", \"O2\"]:\n",
    "        return True\n",
    "    else:\n",
    "        return False\n"
   ],
   "id": "31c4124bba2109a8",
   "outputs": [],
   "execution_count": 3
  },
  {
   "cell_type": "markdown",
   "source": "步骤 4：处理工具调用并返回结果。创建一个函数来处理 Claude 进行的工具调用并返回相应的结果。",
   "metadata": {
    "collapsed": false
   },
   "id": "7bf36c0dd6d4f559"
  },
  {
   "metadata": {
    "ExecuteTime": {
     "end_time": "2024-09-04T08:41:58.008488Z",
     "start_time": "2024-09-04T08:41:57.992489Z"
    }
   },
   "cell_type": "code",
   "source": [
    "def process_tool_call(tool_name, tool_input):\n",
    "    if tool_name == \"get_customer_info\":\n",
    "        return get_customer_info(tool_input[\"customer_id\"])\n",
    "    elif tool_name == \"get_order_details\":\n",
    "        return get_order_details(tool_input[\"order_id\"])\n",
    "    elif tool_name == \"cancel_order\":\n",
    "        return cancel_order(tool_input[\"order_id\"])"
   ],
   "id": "edcff59e3fee50c8",
   "outputs": [],
   "execution_count": 4
  },
  {
   "cell_type": "markdown",
   "source": "第 5 步：与聊天机器人交互",
   "metadata": {
    "collapsed": false
   },
   "id": "d424557cf0f60ddf"
  },
  {
   "metadata": {
    "ExecuteTime": {
     "end_time": "2024-09-04T12:51:20.288608Z",
     "start_time": "2024-09-04T12:51:20.275609Z"
    }
   },
   "cell_type": "code",
   "source": [
    "import json\n",
    "\n",
    "def chatbot_interaction(user_message):\n",
    "    print(f\"\\n{'='*50}\\n用户消息: {user_message}\\n{'='*50}\")\n",
    "\n",
    "    messages = [\n",
    "        {\"role\": \"user\", \"content\": user_message}\n",
    "    ]\n",
    "\n",
    "    # 发送初始请求\n",
    "    response = client.messages.create(\n",
    "        model=MODEL_NAME,\n",
    "        system=\"我们的工具集可以查询客户电子邮件和订单相关信息\",\n",
    "        max_tokens=4096,\n",
    "        tools=tools,\n",
    "        messages=messages\n",
    "    )\n",
    "\n",
    "    print(f\"\\n初始响应:\")\n",
    "    print(f\"停止原因: {response.stop_reason}\")\n",
    "    print(f\"内容: {response.content}\")\n",
    "\n",
    "    # 处理工具调用循环\n",
    "    while response.stop_reason == \"tool_use\":\n",
    "        # 获取工具使用信息\n",
    "        tool_use = next(block for block in response.content if block.type == \"tool_use\")\n",
    "        tool_name = tool_use.name\n",
    "        tool_input = tool_use.input\n",
    "\n",
    "        print(f\"\\n使用的工具: {tool_name}\")\n",
    "        print(f\"工具输入:\")\n",
    "        print(json.dumps(tool_input, indent=2))\n",
    "\n",
    "        # 处理工具调用\n",
    "        tool_result = process_tool_call(tool_name, tool_input)\n",
    "\n",
    "        print(f\"\\n工具结果:\")\n",
    "        print(json.dumps(tool_result, indent=2))\n",
    "\n",
    "        # 构建包含工具结果的新消息\n",
    "        messages = [\n",
    "            {\"role\": \"user\", \"content\": user_message},\n",
    "            {\"role\": \"assistant\", \"content\": response.content},\n",
    "            {\n",
    "                \"role\": \"user\",\n",
    "                \"content\": [\n",
    "                    {\n",
    "                        \"type\": \"tool_result\",\n",
    "                        \"tool_use_id\": tool_use.id,\n",
    "                        \"content\": str(tool_result),\n",
    "                    }\n",
    "                ],\n",
    "            },\n",
    "        ]\n",
    "\n",
    "        # 发送后续请求\n",
    "        response = client.messages.create(\n",
    "            model=MODEL_NAME,\n",
    "            max_tokens=4096,\n",
    "            tools=tools,\n",
    "            # tool_choice={\"type\": \"any\"},\n",
    "            messages=messages\n",
    "        )\n",
    "\n",
    "        print(f\"\\n响应:\")\n",
    "        print(f\"停止原因: {response.stop_reason}\")\n",
    "        print(f\"内容: {response.content}\")\n",
    "\n",
    "    # 提取最终响应\n",
    "    final_response = next(\n",
    "        (block.text for block in response.content if hasattr(block, \"text\")),\n",
    "        None,\n",
    "    )\n",
    "\n",
    "    print(f\"\\n最终响应: {final_response}\")\n",
    "\n",
    "    return final_response"
   ],
   "id": "75cb3c098ce2f552",
   "outputs": [],
   "execution_count": 50
  },
  {
   "metadata": {
    "ExecuteTime": {
     "end_time": "2024-09-04T12:51:57.974113Z",
     "start_time": "2024-09-04T12:51:22.165897Z"
    }
   },
   "cell_type": "code",
   "source": [
    "chatbot_interaction(\"你能告诉我客户C1的电子邮件地址吗？\")\n",
    "chatbot_interaction(\"订单O2的状态是什么？\")\n",
    "chatbot_interaction(\"请帮我取消订单O1。\")\n",
    "chatbot_interaction(\"请帮我取消订单O4。\")"
   ],
   "id": "ee31b20fb2a2b7ce",
   "outputs": [
    {
     "name": "stdout",
     "output_type": "stream",
     "text": [
      "\n",
      "==================================================\n",
      "用户消息: 你能告诉我客户C1的电子邮件地址吗？\n",
      "==================================================\n",
      "\n",
      "初始响应:\n",
      "停止原因: tool_use\n",
      "内容: [TextBlock(text='当然可以。为了获取客户C1的电子邮件地址，我需要使用 get_customer_info 函数。我会使用客户ID \"C1\" 来查询这个信息。让我为您查询一下。', type='text'), ToolUseBlock(id='toolu_01HeVdpAiZoqqdnkpmMRcSJK', input={'customer_id': 'C1'}, name='get_customer_info', type='tool_use')]\n",
      "\n",
      "使用的工具: get_customer_info\n",
      "工具输入:\n",
      "{\n",
      "  \"customer_id\": \"C1\"\n",
      "}\n",
      "\n",
      "工具结果:\n",
      "{\n",
      "  \"name\": \"\\u9a6c\\u51ac\\u6885\",\n",
      "  \"email\": \"dongmei@example.com\",\n",
      "  \"phone\": \"123-456-7890\"\n",
      "}\n",
      "\n",
      "响应:\n",
      "停止原因: end_turn\n",
      "内容: [TextBlock(text='根据查询结果，我可以告诉您客户C1的信息：\\n\\n客户C1的姓名是马冬梅，电子邮件地址是 dongmei@example.com。\\n\\n除此之外，如果您需要的话，我还可以提供她的电话号码。有什么其他信息您想了解的吗？', type='text')]\n",
      "\n",
      "最终响应: 根据查询结果，我可以告诉您客户C1的信息：\n",
      "\n",
      "客户C1的姓名是马冬梅，电子邮件地址是 dongmei@example.com。\n",
      "\n",
      "除此之外，如果您需要的话，我还可以提供她的电话号码。有什么其他信息您想了解的吗？\n",
      "\n",
      "==================================================\n",
      "用户消息: 订单O2的状态是什么？\n",
      "==================================================\n",
      "\n",
      "初始响应:\n",
      "停止原因: tool_use\n",
      "内容: [TextBlock(text='为了获取订单O2的状态信息，我需要使用get_order_details函数来查询订单详情。我会使用您提供的订单ID \"O2\" 来进行查询。', type='text'), ToolUseBlock(id='toolu_016SCxtazGVSwe4oCiNnoQor', input={'order_id': 'O2'}, name='get_order_details', type='tool_use')]\n",
      "\n",
      "使用的工具: get_order_details\n",
      "工具输入:\n",
      "{\n",
      "  \"order_id\": \"O2\"\n",
      "}\n",
      "\n",
      "工具结果:\n",
      "{\n",
      "  \"id\": \"O2\",\n",
      "  \"product\": \"\\u82f9\\u679c6 Plus\",\n",
      "  \"quantity\": 1,\n",
      "  \"price\": 49.99,\n",
      "  \"status\": \"\\u5904\\u7406\\u4e2d\"\n",
      "}\n",
      "\n",
      "响应:\n",
      "停止原因: end_turn\n",
      "内容: [TextBlock(text='根据查询结果，订单O2的状态是\"处理中\"。\\n\\n详细信息如下：\\n- 订单ID：O2\\n- 产品：苹果6 Plus\\n- 数量：1\\n- 价格：49.99\\n- 状态：处理中\\n\\n您还需要了解关于这个订单的其他信息吗？', type='text')]\n",
      "\n",
      "最终响应: 根据查询结果，订单O2的状态是\"处理中\"。\n",
      "\n",
      "详细信息如下：\n",
      "- 订单ID：O2\n",
      "- 产品：苹果6 Plus\n",
      "- 数量：1\n",
      "- 价格：49.99\n",
      "- 状态：处理中\n",
      "\n",
      "您还需要了解关于这个订单的其他信息吗？\n",
      "\n",
      "==================================================\n",
      "用户消息: 请帮我取消订单O1。\n",
      "==================================================\n",
      "\n",
      "初始响应:\n",
      "停止原因: tool_use\n",
      "内容: [TextBlock(text='好的,我理解您想要取消订单号为O1的订单。为了帮您完成这个操作,我需要使用取消订单的功能。让我为您执行这个操作。', type='text'), ToolUseBlock(id='toolu_012JsKPXnpPiGx9WxAgPR9jb', input={'order_id': 'O1'}, name='cancel_order', type='tool_use')]\n",
      "\n",
      "使用的工具: cancel_order\n",
      "工具输入:\n",
      "{\n",
      "  \"order_id\": \"O1\"\n",
      "}\n",
      "\n",
      "工具结果:\n",
      "true\n",
      "\n",
      "响应:\n",
      "停止原因: end_turn\n",
      "内容: [TextBlock(text='根据系统返回的结果,您的订单O1已经成功取消。系统返回了True,这表示取消操作已经成功执行。\\n\\n您还需要了解其他关于这个订单的信息吗?比如订单的详细内容,或者与此订单相关的客户信息?如果需要,我可以为您查询这些信息。如果不需要的话,您还有其他我可以帮助您的事项吗?', type='text')]\n",
      "\n",
      "最终响应: 根据系统返回的结果,您的订单O1已经成功取消。系统返回了True,这表示取消操作已经成功执行。\n",
      "\n",
      "您还需要了解其他关于这个订单的信息吗?比如订单的详细内容,或者与此订单相关的客户信息?如果需要,我可以为您查询这些信息。如果不需要的话,您还有其他我可以帮助您的事项吗?\n",
      "\n",
      "==================================================\n",
      "用户消息: 请帮我取消订单O4。\n",
      "==================================================\n",
      "\n",
      "初始响应:\n",
      "停止原因: tool_use\n",
      "内容: [TextBlock(text='好的,我理解您想要取消订单O4。我可以帮您处理这个请求。为了取消订单,我需要使用取消订单的功能。让我为您操作。', type='text'), ToolUseBlock(id='toolu_01NRH4XwkntKuzzjv6meMugo', input={'order_id': 'O4'}, name='cancel_order', type='tool_use')]\n",
      "\n",
      "使用的工具: cancel_order\n",
      "工具输入:\n",
      "{\n",
      "  \"order_id\": \"O4\"\n",
      "}\n",
      "\n",
      "工具结果:\n",
      "false\n",
      "\n",
      "响应:\n",
      "停止原因: end_turn\n",
      "内容: [TextBlock(text='很抱歉,看起来取消订单O4的操作没有成功。系统返回了False,这可能意味着订单无法被取消。这种情况可能有几个原因:\\n\\n1. 订单可能已经在处理中或已发货,因此无法取消。\\n2. 订单ID可能不正确或不存在。\\n3. 可能存在系统错误。\\n\\n为了更好地了解情况,我建议我们查看一下这个订单的详细信息。这样我们就能知道为什么无法取消,以及订单目前的状态。您同意我查看订单详情吗？', type='text')]\n",
      "\n",
      "最终响应: 很抱歉,看起来取消订单O4的操作没有成功。系统返回了False,这可能意味着订单无法被取消。这种情况可能有几个原因:\n",
      "\n",
      "1. 订单可能已经在处理中或已发货,因此无法取消。\n",
      "2. 订单ID可能不正确或不存在。\n",
      "3. 可能存在系统错误。\n",
      "\n",
      "为了更好地了解情况,我建议我们查看一下这个订单的详细信息。这样我们就能知道为什么无法取消,以及订单目前的状态。您同意我查看订单详情吗？\n"
     ]
    },
    {
     "data": {
      "text/plain": [
       "'很抱歉,看起来取消订单O4的操作没有成功。系统返回了False,这可能意味着订单无法被取消。这种情况可能有几个原因:\\n\\n1. 订单可能已经在处理中或已发货,因此无法取消。\\n2. 订单ID可能不正确或不存在。\\n3. 可能存在系统错误。\\n\\n为了更好地了解情况,我建议我们查看一下这个订单的详细信息。这样我们就能知道为什么无法取消,以及订单目前的状态。您同意我查看订单详情吗？'"
      ]
     },
     "execution_count": 51,
     "metadata": {},
     "output_type": "execute_result"
    }
   ],
   "execution_count": 51
  },
  {
   "cell_type": "markdown",
   "source": [],
   "metadata": {
    "collapsed": false
   },
   "id": "83581b0c2a746031"
  }
 ],
 "metadata": {
  "kernelspec": {
   "display_name": "Python 3",
   "language": "python",
   "name": "python3"
  },
  "language_info": {
   "codemirror_mode": {
    "name": "ipython",
    "version": 2
   },
   "file_extension": ".py",
   "mimetype": "text/x-python",
   "name": "python",
   "nbconvert_exporter": "python",
   "pygments_lexer": "ipython2",
   "version": "2.7.6"
  }
 },
 "nbformat": 4,
 "nbformat_minor": 5
}
